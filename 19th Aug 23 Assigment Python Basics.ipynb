{
 "cells": [
  {
   "cell_type": "markdown",
   "id": "a288a55b",
   "metadata": {},
   "source": [
    "# TOPIC 1 : Python Basics Variable"
   ]
  },
  {
   "cell_type": "markdown",
   "id": "a1307399",
   "metadata": {},
   "source": [
    "1. Declare two variables, `x` and `y`, and assign them integer values. Swap the values of these variables without using any temporary variable.\n"
   ]
  },
  {
   "cell_type": "code",
   "execution_count": 29,
   "id": "07935a25",
   "metadata": {},
   "outputs": [
    {
     "name": "stdout",
     "output_type": "stream",
     "text": [
      "Swap of x: 7\n",
      "Swap of y: 5\n"
     ]
    }
   ],
   "source": [
    "x = 5\n",
    "y = 7\n",
    "\n",
    "x,y =y,x # this will swap the values\n",
    "print(\"Swap of x:\", x)\n",
    "print(\"Swap of y:\", y)"
   ]
  },
  {
   "cell_type": "markdown",
   "id": "6217314f",
   "metadata": {},
   "source": [
    "2. Create a program that calculates the area of a rectangle. Take the length and width as inputs from the user and store them in variables. Calculate and display the area."
   ]
  },
  {
   "cell_type": "code",
   "execution_count": 32,
   "id": "6339663d",
   "metadata": {},
   "outputs": [
    {
     "name": "stdout",
     "output_type": "stream",
     "text": [
      "Enter the length of the rectangle: 4\n",
      "Enter the width of the rectangle: 6\n",
      "Area of rectangle =  24.0\n"
     ]
    }
   ],
   "source": [
    "# python program to find area of rectangle\n",
    "\n",
    "# take inputs\n",
    "length = float(input('Enter the length of the rectangle: ')) # float is given because it will read integer as string and will give error\n",
    "width =  float(input('Enter the width of the rectangle: '))\n",
    "\n",
    "# calculate area of rectangle\n",
    "area = length * width\n",
    "\n",
    "# display result\n",
    "print('Area of rectangle = ',area)"
   ]
  },
  {
   "cell_type": "markdown",
   "id": "5d5de052",
   "metadata": {},
   "source": [
    "3. Write a Python program that converts temperatures from Celsius to Fahrenheit. Take the temperature in Celsius as input, store it in a variable, convert it to Fahrenheit, and display the result."
   ]
  },
  {
   "cell_type": "code",
   "execution_count": 34,
   "id": "391ddd4b",
   "metadata": {},
   "outputs": [
    {
     "name": "stdout",
     "output_type": "stream",
     "text": [
      "Enter temperature in celsius: 50\n",
      "50.0 degree Celsius is equal to 122.0 degree Fahrenheit.\n"
     ]
    }
   ],
   "source": [
    "c = float(input(\"Enter temperature in celsius: \")) # giving user input here \n",
    " \n",
    "f = (c * 1.8) + 32\n",
    " \n",
    "print(str(c )+ \" degree Celsius is equal to \" + str(f )+ \" degree Fahrenheit.\")"
   ]
  },
  {
   "cell_type": "markdown",
   "id": "9245607b",
   "metadata": {},
   "source": [
    "# TOPIC 2 : String Based Questions"
   ]
  },
  {
   "cell_type": "markdown",
   "id": "fa11d46a",
   "metadata": {},
   "source": [
    "1. Write a Python program that takes a string as input and prints the length of the string."
   ]
  },
  {
   "cell_type": "code",
   "execution_count": 35,
   "id": "08e35eb1",
   "metadata": {},
   "outputs": [
    {
     "name": "stdout",
     "output_type": "stream",
     "text": [
      "Enter a string: this is my first python lecture\n",
      "Length of the given string is: 31\n"
     ]
    }
   ],
   "source": [
    "# Giving User inputs as  string \n",
    "x = input(\"Enter a string: \")\n",
    "\n",
    "# using len() function to find length of string\n",
    "print(\"Length of the given string is:\", len(x))"
   ]
  },
  {
   "cell_type": "markdown",
   "id": "880f20a1",
   "metadata": {},
   "source": [
    "2. Create a program that takes a sentence from the user and counts the number of vowels (a, e, i, o, u) in the string."
   ]
  },
  {
   "cell_type": "code",
   "execution_count": 36,
   "id": "fd07be88",
   "metadata": {},
   "outputs": [
    {
     "name": "stdout",
     "output_type": "stream",
     "text": [
      "Enter the required string:vikas is my name dude.\n",
      "Number of vowels are:\n",
      "7\n"
     ]
    }
   ],
   "source": [
    "string=input(\"Enter the required string:\")  # taking input from user\n",
    "vowels=0      # this will start the count \n",
    "for i in string:  # or loop is used to traverse through the characters in the string.\n",
    "      if(i=='a' or i=='e' or i=='i' or i=='o' or i=='u' or i=='A' or i=='E' or i=='I' or i=='O' or i=='U'):    # if statement checks if the character is a vowel or not. \n",
    "            vowels=vowels+1     # count is incremented each time a vowel is encountered.\n",
    "print(\"Number of vowels are:\")  \n",
    "print(vowels)"
   ]
  },
  {
   "cell_type": "markdown",
   "id": "89399217",
   "metadata": {},
   "source": [
    "3. Given a string, reverse the order of characters using string slicing and print the reversed string."
   ]
  },
  {
   "cell_type": "code",
   "execution_count": 38,
   "id": "db168a8e",
   "metadata": {},
   "outputs": [
    {
     "name": "stdout",
     "output_type": "stream",
     "text": [
      "Enter word which you want to reverse: my name is vikas\n",
      "sakiv si eman ym\n"
     ]
    }
   ],
   "source": [
    "word = input (\"Enter word which you want to reverse: \")\n",
    "def reverse(word):\n",
    "  word = word[::-1]\n",
    "  return word\n",
    "print (reverse(word))"
   ]
  },
  {
   "cell_type": "markdown",
   "id": "12280c32",
   "metadata": {},
   "source": [
    "4. Write a program that takes a string as input and checks if it is a palindrome (reads the same forwards and backwards)."
   ]
  },
  {
   "cell_type": "code",
   "execution_count": 48,
   "id": "637309b9",
   "metadata": {},
   "outputs": [
    {
     "name": "stdout",
     "output_type": "stream",
     "text": [
      "Enter the string to check: racecar\n",
      "Yes\n"
     ]
    }
   ],
   "source": [
    "# define the value \n",
    "def isPalindrome(string):\n",
    "    return string == string[::-1]  # will give reverse of the string \n",
    "\n",
    "string = input(\"Enter the string to check: \")\n",
    "ans = isPalindrome(string)\n",
    " \n",
    "if ans:\n",
    "    print(\"Yes\")\n",
    "else:\n",
    "    print(\"No\")"
   ]
  },
  {
   "cell_type": "markdown",
   "id": "f86f665f",
   "metadata": {},
   "source": [
    "5. Create a program that takes a string as input and removes all the spaces from it. Print the modified string without spaces."
   ]
  },
  {
   "cell_type": "code",
   "execution_count": 50,
   "id": "04f9ae88",
   "metadata": {},
   "outputs": [
    {
     "name": "stdout",
     "output_type": "stream",
     "text": [
      "Enter the string:vikas  kumar yadav\n",
      "vikaskumaryadav\n"
     ]
    }
   ],
   "source": [
    "def remove(string):  # we have defined a string here\n",
    "    return \"\".join(string.split())  # this function will split the given string on the bases of white spaces\n",
    " \n",
    " \n",
    "# Driver Program\n",
    "string = input(\"Enter the string:\")    # taking input from user\n",
    "print(remove(string)) # printing the given string"
   ]
  }
 ],
 "metadata": {
  "kernelspec": {
   "display_name": "Python 3 (ipykernel)",
   "language": "python",
   "name": "python3"
  },
  "language_info": {
   "codemirror_mode": {
    "name": "ipython",
    "version": 3
   },
   "file_extension": ".py",
   "mimetype": "text/x-python",
   "name": "python",
   "nbconvert_exporter": "python",
   "pygments_lexer": "ipython3",
   "version": "3.10.9"
  }
 },
 "nbformat": 4,
 "nbformat_minor": 5
}
