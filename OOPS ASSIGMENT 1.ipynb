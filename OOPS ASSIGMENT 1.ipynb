{
 "cells": [
  {
   "cell_type": "markdown",
   "id": "74e17443",
   "metadata": {},
   "source": [
    "Problem 1: Bank Account Create a class representing a bank account with attributes like account number, account holder name, and balance. Implement methods to deposit and withdraw money from the account."
   ]
  },
  {
   "cell_type": "code",
   "execution_count": 5,
   "id": "7601705a",
   "metadata": {},
   "outputs": [
    {
     "name": "stdout",
     "output_type": "stream",
     "text": [
      "Deposited Rs.500. New balance is Rs.10500\n",
      "Withdraw Rs.300. New balance is rs.10200\n",
      "Account Number: 12345, Account Holder:Vikas Kumar, Balance: Rs.10200\n"
     ]
    }
   ],
   "source": [
    "class BankAccount:\n",
    "    def __init__(self, account_number, account_holder_name, balance=0):\n",
    "        self.account_number = account_number\n",
    "        self.account_holder_name = account_holder_name\n",
    "        self.balance = balance\n",
    "        \n",
    "    def deposit(self, amount):\n",
    "        if amount > 0:\n",
    "            self.balance += amount\n",
    "            return f\"Deposited Rs.{amount}. New balance is Rs.{self.balance}\"\n",
    "        else:\n",
    "            return \"Invalid deposit amount. Amount must be greater than 0.\"\n",
    "        \n",
    "    def withdraw(self, amount):\n",
    "        if amount > 0 and amount <= self.balance:\n",
    "            self.balance -= amount\n",
    "            return f\"Withdraw Rs.{amount}. New balance is rs.{self.balance}\"\n",
    "        else:\n",
    "            return \"Invalid withdrawl amount. Amount must be greater than 0 and less than or equal to the balance.\"\n",
    "        \n",
    "    def get_balance(self):\n",
    "        return f\"Account balance for {self.account_holder_name} is Rs.{self.balance}\"\n",
    "    \n",
    "    def __str__(self):\n",
    "        return f\"Account Number: {self.account_number}, Account Holder:{self.account_holder_name}, Balance: Rs.{self.balance}\"\n",
    "    \n",
    "    \n",
    "if __name__ == \"__main__\":\n",
    "    #create a bank account\n",
    "    my_account = BankAccount(\"12345\", \"Vikas Kumar\", 10000)\n",
    "        \n",
    "        #deposit money\n",
    "    print(my_account.deposit(500))\n",
    "        \n",
    "        #withdraw money\n",
    "    print(my_account.withdraw(300))\n",
    "        \n",
    "        #display account info\n",
    "    print(my_account)\n",
    "    "
   ]
  },
  {
   "cell_type": "markdown",
   "id": "c0d23810",
   "metadata": {},
   "source": [
    "Problem 2: Employee Management Create a class representing an employee with attributes like employee ID, name, and salary. Implement methods to calculate the yearly bonus and display employee details."
   ]
  },
  {
   "cell_type": "code",
   "execution_count": 12,
   "id": "3e5bec7c",
   "metadata": {},
   "outputs": [
    {
     "name": "stdout",
     "output_type": "stream",
     "text": [
      "Yearly Bonus: Rs.6000.0\n",
      "Employee ID: 1\n",
      "Name: Vikas Kumar\n",
      "Salary: Rs.60000\n"
     ]
    }
   ],
   "source": [
    "class Employee:\n",
    "    def __init__(self, employee_id, name, salary):\n",
    "        self.employee_id = employee_id\n",
    "        self.name = name\n",
    "        self.salary = salary\n",
    "        \n",
    "    def calculate_yearly_bonus(self, bonus_percentage):\n",
    "        if bonus_percentage >= 0 and bonus_percentage <= 100:\n",
    "            bonus = (bonus_percentage / 100) * self.salary\n",
    "            return bonus\n",
    "        \n",
    "        else:\n",
    "            return \"Invalid bonus percentage. It must be between 0 and 100.\"\n",
    "    \n",
    "    def display_details(self):\n",
    "        details = f\"Employee ID: {self.employee_id}\\nName: {self.name}\\nSalary: Rs.{self.salary}\"\n",
    "        return details\n",
    "    \n",
    "if __name__ == \"__main__\":\n",
    "    # create an employee\n",
    "    employee1 = Employee(1, \"Vikas Kumar\", 60000)\n",
    "    \n",
    "    #calculate yearly bonus (e.g., 10% bonus)\n",
    "    bonus= employee1.calculate_yearly_bonus(10)\n",
    "    print(f\"Yearly Bonus: Rs.{bonus}\")\n",
    "    \n",
    "    #Display employee details\n",
    "    print(employee1.display_details())\n",
    "        "
   ]
  },
  {
   "cell_type": "markdown",
   "id": "93ea0436",
   "metadata": {},
   "source": [
    "Problem 3: Vehicle Rental Create a class representing a vehicle rental system. Implement methods to rent a vehicle, return a vehicle, and display available vehicles."
   ]
  },
  {
   "cell_type": "code",
   "execution_count": 21,
   "id": "b9de01c4",
   "metadata": {},
   "outputs": [
    {
     "name": "stdout",
     "output_type": "stream",
     "text": [
      "Rented 2 car(s).\n",
      "Rented 5 motorcycle(s).\n",
      "Returned 1 car(s).\n",
      "Available Vehilces:\n",
      "{'car': 9, 'motorcycle': 10, 'bicycle': 20}\n"
     ]
    }
   ],
   "source": [
    "class VehicleRentalSystem:\n",
    "    def __init__(self):\n",
    "        self.available_vehicles = {'car':10, 'motorcycle':15, 'bicycle':20}\n",
    "        \n",
    "    def rent_vehicle(self, vehicle_type, quantity):\n",
    "        if vehicle_type in self.available_vehicles and quantity > 0:\n",
    "            if self.available_vehicles[vehicle_type] >= quantity:\n",
    "                self.available_vehicles[vehicle_type] -= quantity\n",
    "                return f\"Rented {quantity} {vehicle_type}(s).\"\n",
    "            else:\n",
    "                return f\"Sorry, we don't have enough {vehicle_type}(s) available.\"\n",
    "        else:\n",
    "            return \"Invalid vehicle type of quantity.\"\n",
    "        \n",
    "        \n",
    "    def return_vehicle(self, vehicle_type, quantity):\n",
    "        if vehicle_type in self.available_vehicles and quantity > 0:\n",
    "            if self.available_vehicles[vehicles_type] >= quantity:\n",
    "                self.available_vehicles[vehicle_type] -= quantity\n",
    "                return f\"Returned {quantity} {vehicle_type}(s).\"\n",
    "            else:\n",
    "                return f\"Sorry, we don't have enough {vehicle_type}(s) available.\"\n",
    "        else:\n",
    "            return \"Invalid vehicle type or quantity.\"\n",
    "        \n",
    "    def return_vehicle(self, vehicle_type, quantity):\n",
    "        if vehicle_type in self.available_vehicles and quantity > 0:\n",
    "            self.available_vehicles[vehicle_type] += quantity\n",
    "            return f\"Returned {quantity} {vehicle_type}(s).\"\n",
    "        else:\n",
    "            return f\"Invalid vehicle type or qunatity.\"\n",
    "        \n",
    "    def display_available_vehilces(self):\n",
    "        return self.available_vehicles\n",
    "    \n",
    "    \n",
    "if __name__ == \"__main__\":\n",
    "    rental_system = VehicleRentalSystem()\n",
    "    \n",
    "    # Rent some vehicles \n",
    "    print(rental_system.rent_vehicle('car', 2))\n",
    "    print(rental_system.rent_vehicle('motorcycle', 5))\n",
    "    \n",
    "    # reurn some vehicles\n",
    "    print(rental_system.return_vehicle('car', 1))\n",
    "    \n",
    "    #display available vehicles\n",
    "    print(\"Available Vehilces:\")\n",
    "    print(rental_system.display_available_vehilces())\n",
    "        \n",
    "            "
   ]
  },
  {
   "cell_type": "markdown",
   "id": "edad391e",
   "metadata": {},
   "source": [
    "Problem 4: Library Catalog Create classes representing a library and a book. Implement methods to add books to the library, borrow books, and display available books."
   ]
  },
  {
   "cell_type": "code",
   "execution_count": 22,
   "id": "2dc2707f",
   "metadata": {},
   "outputs": [
    {
     "name": "stdout",
     "output_type": "stream",
     "text": [
      "Added book:  Book 1 by Author 1\n",
      "Added book:  Book 2 by Author 2\n",
      " Borrowed:  Book 1 by Author 1\n",
      "Available Books:\n",
      "[<__main__.Book object at 0x0000024C179C7310>]\n"
     ]
    }
   ],
   "source": [
    "class Book:\n",
    "    def __init__(self, title, author, available=True):\n",
    "        self.title = title\n",
    "        self.author = author\n",
    "        self.available = available\n",
    "        \n",
    "    def __str__(self):\n",
    "        return f\" {self.title} by {self.author}\"\n",
    "    \n",
    "class LibraryCatalog:\n",
    "    def __init__(self):\n",
    "        self.books = []\n",
    "    \n",
    "    def add_book(self, title, author):\n",
    "        new_book = Book(title, author)\n",
    "        self.books.append(new_book)\n",
    "        return f\"Added book: {new_book}\"\n",
    "    \n",
    "    def borrow_book(self, title):\n",
    "        for book in self.books:\n",
    "            if book.title == title:\n",
    "                if book.available:\n",
    "                    book.available = False\n",
    "                    return f\" Borrowed: {book}\"\n",
    "                else:\n",
    "                    return f\"{book} is not available.\"\n",
    "                \n",
    "        return f\"Book not found: {title}\"\n",
    "    \n",
    "    def display_available_books(self):\n",
    "        available_books = [book for book in self.books if book.available]\n",
    "        if available_books:\n",
    "            return available_books\n",
    "        else:\n",
    "            return \"No available books in the library.\"\n",
    "        \n",
    "        \n",
    "if __name__ == \"__main__\":\n",
    "    library = LibraryCatalog()\n",
    "    \n",
    "    # Add some books\n",
    "    print(library.add_book(\"Book 1\", \"Author 1\"))\n",
    "    print(library.add_book(\"Book 2\", \"Author 2\"))\n",
    "    \n",
    "    \n",
    "    # borrow a book\n",
    "    print(library.borrow_book(\"Book 1\"))\n",
    "    \n",
    "    # Display available Books\n",
    "    print(\"Available Books:\")\n",
    "    print(library.display_available_books())"
   ]
  },
  {
   "cell_type": "markdown",
   "id": "7312ef0a",
   "metadata": {},
   "source": [
    "Problem 5: Product Inventory Create classes representing a product and an inventory system. Implement methods to add products to the inventory, update product quantity, and display available products."
   ]
  },
  {
   "cell_type": "code",
   "execution_count": 5,
   "id": "2bf9b70a",
   "metadata": {},
   "outputs": [
    {
     "name": "stdout",
     "output_type": "stream",
     "text": [
      "Available Products:\n",
      "Product ID: 1, Name: Product A , Price: $10.99, Quantity: 120\n",
      "Product ID: 2, Name: Product B , Price: $19.99, Quantity: 50\n"
     ]
    }
   ],
   "source": [
    "class Product:\n",
    "    def __init__(self, product_id, name, price, quantity):\n",
    "        self.product_id = product_id\n",
    "        self.name = name\n",
    "        self.price = price\n",
    "        self.quantity = quantity\n",
    "        \n",
    "    def update_quantity(self, new_quantity):\n",
    "        self.quantity = new_quantity\n",
    "    \n",
    "    def __str__(self):\n",
    "        return f\"Product ID: {self.product_id}, Name: {self.name} , Price: ${self.price}, Quantity: {self.quantity}\"\n",
    "    \n",
    "class Inventory:\n",
    "    def __init__(self):\n",
    "        self.products = {}\n",
    "            \n",
    "    def add_product(self, product):\n",
    "        if product.product_id in self.products:\n",
    "            print(f\"Product wiht ID {product.product_id} already exists. Updating quantity.\")\n",
    "            existing_product = self.products[product.product_id]\n",
    "            existing_product.update_quantity(existing_product.quantity + product.quantity)\n",
    "        else:\n",
    "            self.products[product.product_id] = product\n",
    "                \n",
    "    def update_product_quantity(self, product_id, new_quantity):\n",
    "        if product_id in self.products:\n",
    "            self.products[product_id].update_quantity(new_quantity)\n",
    "        else:\n",
    "            print(f\"Product with ID {product_id} does not exist in the inventory.\")\n",
    "                \n",
    "    def display_products(self):\n",
    "        print(\"Available Products:\")\n",
    "        for product in self.products.values():\n",
    "            print(product)\n",
    "                \n",
    "# Usage Example:\n",
    "if __name__ == \"__main__\":\n",
    "    product1 = Product(1, \"Product A\", 10.99, 100)\n",
    "    product2 = Product(2, \"Product B\", 19.99, 50)\n",
    "    \n",
    "    inventory = Inventory()\n",
    "    inventory.add_product(product1)\n",
    "    inventory.add_product(product2)\n",
    "    \n",
    "    inventory.update_product_quantity(1, 120)\n",
    "    inventory.display_products()\n",
    "                \n",
    "                      "
   ]
  },
  {
   "cell_type": "markdown",
   "id": "3e741631",
   "metadata": {},
   "source": [
    "Problem 6: Shape Calculation Create a class representing a shape with attributes like length, width, and height. Implement methods to calculate the area and perimeter of the shape."
   ]
  },
  {
   "cell_type": "code",
   "execution_count": 8,
   "id": "234fbec5",
   "metadata": {},
   "outputs": [
    {
     "name": "stdout",
     "output_type": "stream",
     "text": [
      "Rectangle Area: 50\n",
      "Rectangle Perimeter: 30\n",
      "Triangle Area: 7.5\n",
      "Triangle Permimeter: <bound method Triangle.calculate_perimeter of <__main__.Triangle object at 0x000001ED26A66710>>\n"
     ]
    }
   ],
   "source": [
    "class shape:\n",
    "    def __init__(self, length, width, height):\n",
    "        self.length = length\n",
    "        self.width = width\n",
    "        self.height = height\n",
    "        \n",
    "    def calculate_area(self):\n",
    "        pass # to be implemented in the specific shape subclasses\n",
    "    \n",
    "    def calculate_perimeter(self):\n",
    "        pass  # To be implemented in the specific shape subclasses\n",
    "\n",
    "    \n",
    "class Rectangle(shape):\n",
    "    def calculate_area(self):\n",
    "        return self.length * self.width\n",
    "    \n",
    "    def calculate_perimeter(self):\n",
    "        return 2 * (self.length + self.width)\n",
    "        #pass # to be implemeted in the specific shape and subclasses\n",
    "    \n",
    "class Triangle(shape):\n",
    "    def calculate_area(self):\n",
    "        return 0.5 * self.length * self.height\n",
    "    \n",
    "    def calculate_perimeter(self):\n",
    "        return self.length + self.width + self.height\n",
    "    \n",
    "# usage examples:\n",
    "if __name__ == \"__main__\":\n",
    "    rectangle = Rectangle(5, 10, 0)\n",
    "    triangle = Triangle(3,4,5)\n",
    "    \n",
    "    print(\"Rectangle Area:\", rectangle.calculate_area())\n",
    "    print(\"Rectangle Perimeter:\", rectangle.calculate_perimeter())\n",
    "    print(\"Triangle Area:\", triangle.calculate_area())\n",
    "    print(\"Triangle Permimeter:\", triangle.calculate_perimeter)\n",
    "    \n",
    "    "
   ]
  },
  {
   "cell_type": "markdown",
   "id": "f15af52e",
   "metadata": {},
   "source": [
    "Problem 7: Student Management Create a class representing a student with attributes like student ID, name, and grades. Implement methods to calculate the average grade and display student details."
   ]
  },
  {
   "cell_type": "code",
   "execution_count": 10,
   "id": "89dd1ed9",
   "metadata": {},
   "outputs": [
    {
     "name": "stdout",
     "output_type": "stream",
     "text": [
      "Student ID: 1\n",
      "Name: Vikas\n",
      "Grades: [85, 90, 78, 95, 89]\n",
      "Average Grade: 87.4\n",
      "Student ID: 2\n",
      "Name: Kumar\n",
      "Grades: [79, 98, 95, 86, 94]\n",
      "Average Grade: 90.4\n"
     ]
    }
   ],
   "source": [
    "class Student:\n",
    "    def __init__(self, student_id, name, grades=[]):\n",
    "        self.student_id = student_id\n",
    "        self.name = name\n",
    "        self.grades = grades\n",
    "        \n",
    "    def add_grade(self, grade):\n",
    "        self.grades.append(grade)\n",
    "        \n",
    "    def calculate_average_grade(self):\n",
    "        if not self.grades:\n",
    "            return 0.0\n",
    "        return sum(self.grades) / len(self.grades)\n",
    "    \n",
    "    def display_details(self):\n",
    "        print(\"Student ID:\", self.student_id)\n",
    "        print(\"Name:\", self.name)\n",
    "        print(\"Grades:\", self.grades)\n",
    "        print(\"Average Grade:\", self.calculate_average_grade())\n",
    "        \n",
    "# usage example:\n",
    "if __name__ == \"__main__\":\n",
    "    student1 = Student(1, \"Vikas\", [85, 90, 78, 95])\n",
    "    student2 = Student(2, \"Kumar\", [79, 98, 95, 86])\n",
    "    \n",
    "    student1.add_grade(89)\n",
    "    student2.add_grade(94)\n",
    "    \n",
    "    student1.display_details()\n",
    "    student2.display_details()"
   ]
  },
  {
   "cell_type": "markdown",
   "id": "e5979ee8",
   "metadata": {},
   "source": [
    "Problem 8: Email Management Create a class representing an email with attributes like sender, recipient, and subject. Implement methods to send an email and display email details."
   ]
  },
  {
   "cell_type": "code",
   "execution_count": 13,
   "id": "82c85ecf",
   "metadata": {},
   "outputs": [
    {
     "name": "stdout",
     "output_type": "stream",
     "text": [
      "Sender: sender@abc.com\n",
      "Recipient: recipient@abc.com\n",
      "Subject: Kya hall bro\n",
      "Message:\n",
      "This is a test email.\n",
      "Email sent from sender@abc.com to recipient@abc.com with subject 'Kya hall bro'\n"
     ]
    }
   ],
   "source": [
    "class Email:\n",
    "    def __init__(self, sender, recipient, subject, message):\n",
    "        self.sender = sender\n",
    "        self.recipient = recipient\n",
    "        self.subject = subject\n",
    "        self.message = message\n",
    "        self.sent = False\n",
    "        \n",
    "        \n",
    "    def send_mail(self):\n",
    "        if not self.sent:\n",
    "            print(f\"Email sent from {self.sender} to {self.recipient} with subject '{self.subject}'\")\n",
    "            self.sent = True\n",
    "        else:\n",
    "            print(\"This email has already been sent.\")\n",
    "            \n",
    "    def display_details(self):\n",
    "        print(\"Sender:\", self.sender)\n",
    "        print(\"Recipient:\", self.recipient)\n",
    "        print(\"Subject:\", self.subject)\n",
    "        print(\"Message:\")\n",
    "        print(self.message)\n",
    "        \n",
    "# usage example:\n",
    "if __name__ == \"__main__\":\n",
    "    email = Email(\"sender@abc.com\", \"recipient@abc.com\", \"Kya hall bro\", \"This is a test email.\")\n",
    "    \n",
    "    email.display_details()\n",
    "    email.send_mail()\n",
    "    #email.send_mail()\n",
    "    \n",
    "        "
   ]
  },
  {
   "cell_type": "markdown",
   "id": "cc5cc997",
   "metadata": {},
   "source": [
    "Problem 9: Social Media Profile Create a class representing a social media profile with attributes like username and posts. Implement methods to add posts, display posts, and search for posts by keyword."
   ]
  },
  {
   "cell_type": "code",
   "execution_count": 14,
   "id": "821b6116",
   "metadata": {},
   "outputs": [
    {
     "name": "stdout",
     "output_type": "stream",
     "text": [
      "Posts by vikas_kumar:\n",
      "1. Just had a great dinner with friends.\n",
      "2. Exploring a new hiking trail today.\n",
      "3. Hiking trip was amazing!\n"
     ]
    }
   ],
   "source": [
    "class SocialMediaProfile:\n",
    "    def __init__(self, username):\n",
    "        self.username = username\n",
    "        self.posts = []\n",
    "        \n",
    "    def add_post(self, post_content):\n",
    "        self.posts.append(post_content)\n",
    "        \n",
    "    def display_posts(self):\n",
    "        print(f\"Posts by {self.username}:\")\n",
    "        for index, post in enumerate(self.posts, start=1):\n",
    "            print(f\"{index}. {post}\")\n",
    "            \n",
    "    def search_posts(self, keyword):\n",
    "        matching_posts = [post for post in self.posts if keyword in post]\n",
    "        if matching_posts:\n",
    "            print(f\"Posts containing '{keyword}' by {self.username}:\")\n",
    "            for index, post in enumerate(matching_posts, start=1):\n",
    "                print(f\"{index}. {post}\")\n",
    "        else:\n",
    "            print(f\"No posts containing '{keyword}' found by {self.username}.\")\n",
    "\n",
    "            \n",
    "# usage example:\n",
    "if __name__ == \"__main__\":\n",
    "    profile = SocialMediaProfile(\"vikas_kumar\")\n",
    "    \n",
    "    profile.add_post(\"Just had a great dinner with friends.\")\n",
    "    profile.add_post(\"Exploring a new hiking trail today.\")\n",
    "    profile.add_post(\"Hiking trip was amazing!\")\n",
    "    \n",
    "    profile.display_posts()\n",
    "                \n",
    "    "
   ]
  },
  {
   "cell_type": "markdown",
   "id": "8047b0f7",
   "metadata": {},
   "source": [
    "Problem 10: ToDo List Create a class representing a ToDo list with attributes like tasks and due dates. Implement methods to add tasks, mark tasks as completed, and display pending tasks."
   ]
  },
  {
   "cell_type": "code",
   "execution_count": 15,
   "id": "d5ea88a9",
   "metadata": {},
   "outputs": [
    {
     "name": "stdout",
     "output_type": "stream",
     "text": [
      "Pending Tasks:\n",
      "Task: Buy groceries, Due Date: 2023-11-01\n",
      "Task: Prepare presentation, Due Date: 2023-11-15\n",
      "Task: Go for a run, Due Date: 2023-10-30\n",
      "Task 'Send emails' not found in the To-Do list.\n",
      "Pending Tasks:\n",
      "Task: Prepare presentation, Due Date: 2023-11-15\n",
      "Task: Go for a run, Due Date: 2023-10-30\n"
     ]
    }
   ],
   "source": [
    "class ToDoList:\n",
    "    def __init__(self):\n",
    "        self.tasks = {}\n",
    "        \n",
    "    def add_task(self, task, due_date):\n",
    "        self.tasks[task] = due_date\n",
    "        \n",
    "    def mark_completed(self, task):\n",
    "        if task in self.tasks:\n",
    "            del self.tasks[task]\n",
    "            \n",
    "        else:\n",
    "            print(f\"Task '{task}' not found in the To-Do list.\")\n",
    "    \n",
    "    def display_pending_tasks(self):\n",
    "        if not self.tasks:\n",
    "            print(\"No pending tasks.\")\n",
    "        else:\n",
    "            print(\"Pending Tasks:\")\n",
    "            for task, due_date in self.tasks.items():\n",
    "                print(f\"Task: {task}, Due Date: {due_date}\")\n",
    "                \n",
    "# Usage example:\n",
    "if __name__ == \"__main__\":\n",
    "    todo_list = ToDoList()\n",
    "    \n",
    "    todo_list.add_task(\"Buy groceries\", \"2023-11-01\")\n",
    "    todo_list.add_task(\"Prepare presentation\", \"2023-11-15\")\n",
    "    todo_list.add_task(\"Go for a run\", \"2023-10-30\")\n",
    "    \n",
    "    todo_list.display_pending_tasks()\n",
    "    \n",
    "    todo_list.mark_completed(\"Buy groceries\")\n",
    "    todo_list.mark_completed(\"Send emails\")\n",
    "    \n",
    "    todo_list.display_pending_tasks()\n",
    "        "
   ]
  },
  {
   "cell_type": "code",
   "execution_count": null,
   "id": "f40ca9e0",
   "metadata": {},
   "outputs": [],
   "source": []
  }
 ],
 "metadata": {
  "kernelspec": {
   "display_name": "Python 3 (ipykernel)",
   "language": "python",
   "name": "python3"
  },
  "language_info": {
   "codemirror_mode": {
    "name": "ipython",
    "version": 3
   },
   "file_extension": ".py",
   "mimetype": "text/x-python",
   "name": "python",
   "nbconvert_exporter": "python",
   "pygments_lexer": "ipython3",
   "version": "3.10.9"
  }
 },
 "nbformat": 4,
 "nbformat_minor": 5
}
