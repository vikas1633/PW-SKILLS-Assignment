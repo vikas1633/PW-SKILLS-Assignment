{
 "cells": [
  {
   "cell_type": "markdown",
   "id": "2873c022",
   "metadata": {},
   "source": [
    "# For Loop :-"
   ]
  },
  {
   "cell_type": "code",
   "execution_count": 1,
   "id": "a473d91d",
   "metadata": {},
   "outputs": [
    {
     "name": "stdout",
     "output_type": "stream",
     "text": [
      "[1, 2, 3, 4, 5, 6, 7, 8, 9, 10]\n"
     ]
    }
   ],
   "source": [
    "# 1. Write a Python program to print numbers from 1 to 10 using a for loop.\n",
    "for i in [list(range(1,11))]:\n",
    "   print(i)\n"
   ]
  },
  {
   "cell_type": "raw",
   "id": "c93c58c1",
   "metadata": {},
   "source": [
    "# 2. Explain the difference between a for loop and a while loop in Python.\n",
    "For loop\n",
    "1. used to iterate over a sequence of items.\n",
    "2. designed for iterating over a sequence of items. Eg. list, tuple, etc.\n",
    "3. require a sequence to iterate over.\n",
    "4. typically used for iterating over a fixed sequence of items\n",
    "5. efficient than a while loop when iterating over sequences, \n",
    "   since the number of iterations is predetermined and the loop can be optimized accordingly.\n",
    "6. syntax:\n",
    "    for var in iterable:\n",
    "    # statements\n",
    "While loop\n",
    "1. used to repeatedly execute a block of statements while a condition is true.\n",
    "2. used when the number of iterations is not known in advance or when \n",
    "   we want to repeat a block of code until a certain condition is met.\n",
    "3. requires an initial condition that is tested at the beginning of the loop.\n",
    "4. used for more complex control flow situations.\n",
    "5. may be more efficient in certain situations where the condition being tested can be evaluated quickly.\n",
    "6. syntax: \n",
    "   while condition:\n",
    "   # Set of statements\n",
    "\n"
   ]
  },
  {
   "cell_type": "code",
   "execution_count": 2,
   "id": "1dda371c",
   "metadata": {},
   "outputs": [
    {
     "name": "stdout",
     "output_type": "stream",
     "text": [
      "The sum of all numbers from 1 to 100 is: 5050\n"
     ]
    }
   ],
   "source": [
    "# 3. Write a Python program to calculate the sum of all numbers from 1 to 100 using a for loop.\n",
    "total_sum = 0 # initialise the sum\n",
    "\n",
    "for i in (range(0,101)):\n",
    "    \n",
    "    total_sum += i\n",
    "print(\"The sum of all numbers from 1 to 100 is:\", total_sum)"
   ]
  },
  {
   "cell_type": "raw",
   "id": "e08bbc5e",
   "metadata": {},
   "source": [
    "# 4. How do you iterate through a list using a for loop in Python?\n",
    "Ans. 1. The for keyword is used to start the loop.\n",
    "    2. item is a variable that takes on the value of each element in the list in each iteration.\n",
    "    3. my_list is the list you want to iterate through.\n",
    "    4. The colon : at the end of the for line indicates the start of the loop block.\n",
    "    5. Inside the loop block, you can perform actions on each item in the list.\n",
    "    6. The loop continues until it has iterated through all elements in the list."
   ]
  },
  {
   "cell_type": "code",
   "execution_count": 3,
   "id": "2bb3802e",
   "metadata": {},
   "outputs": [
    {
     "name": "stdout",
     "output_type": "stream",
     "text": [
      "The product of all numbers from 1 to 5 is: 120\n"
     ]
    }
   ],
   "source": [
    "# 5. Write a Python program to find the product of all elements in a list using a for loop.\n",
    "list = [1,2,3,4,5]\n",
    "product=1\n",
    "for i in list:\n",
    "    product *= i\n",
    "print(\"The product of all numbers from 1 to 5 is:\", product)"
   ]
  },
  {
   "cell_type": "code",
   "execution_count": 4,
   "id": "c2553aa1",
   "metadata": {},
   "outputs": [
    {
     "name": "stdout",
     "output_type": "stream",
     "text": [
      "2\n",
      "4\n",
      "6\n",
      "8\n",
      "10\n",
      "12\n",
      "14\n",
      "16\n",
      "18\n",
      "20\n"
     ]
    }
   ],
   "source": [
    "# 6. Create a Python program that prints all even numbers from 1 to 20 using a for loop.\n",
    "for i in range(1,21):\n",
    "    if i %2 ==0:\n",
    "        print(i)"
   ]
  },
  {
   "cell_type": "code",
   "execution_count": 5,
   "id": "be242749",
   "metadata": {},
   "outputs": [
    {
     "name": "stdout",
     "output_type": "stream",
     "text": [
      "Enter a number: 4\n",
      "The factorial of 4 is: 24\n"
     ]
    }
   ],
   "source": [
    "# 7. Write a Python program that calculates the factorial of a number using a for loop.\n",
    "# Input: Get the number for which you want to calculate the factorial\n",
    "num = int(input(\"Enter a number: \"))\n",
    "\n",
    "# Initialize a variable to store the factorial, starting with 1\n",
    "factorial = 1\n",
    "\n",
    "# Use a for loop to calculate the factorial\n",
    "for i in range(1, num + 1):\n",
    "    factorial *= i\n",
    "\n",
    "# Print the result\n",
    "print(f\"The factorial of {num} is:\", factorial)\n"
   ]
  },
  {
   "cell_type": "code",
   "execution_count": 6,
   "id": "b55ecabf",
   "metadata": {},
   "outputs": [
    {
     "name": "stdout",
     "output_type": "stream",
     "text": [
      "H\n",
      "e\n",
      "l\n",
      "l\n",
      "o\n",
      ",\n",
      " \n",
      "W\n",
      "o\n",
      "r\n",
      "l\n",
      "d\n",
      "!\n"
     ]
    }
   ],
   "source": [
    "# 8. How can you iterate through the characters of a string using a for loop in Python?\n",
    "my_string = \"Hello, World!\"\n",
    "\n",
    "# Use a for loop to iterate through the characters of the string\n",
    "for char in my_string:\n",
    "    print(char)\n",
    "    \n",
    "# In this example:\n",
    "\n",
    "# 1. my_string is a string containing the text \"Hello, World!\".\n",
    "\n",
    "# 2. We use a for loop to iterate through each character in the string.\n",
    "\n",
    "# 3. In each iteration of the loop, the variable char takes on the value of the current character, allowing you to perform actions on that character inside the loop.\n",
    "\n",
    "# 4. Inside the loop, we print each character to the console, which will display each character of the string on a separate line.\n",
    "\n",
    "# 5. The loop continues until it has iterated through all the characters in the string.\n"
   ]
  },
  {
   "cell_type": "code",
   "execution_count": 7,
   "id": "4a6c503a",
   "metadata": {},
   "outputs": [
    {
     "name": "stdout",
     "output_type": "stream",
     "text": [
      "The largest number in the list is: 8\n"
     ]
    }
   ],
   "source": [
    "# 9. Write a Python program to find the largest number in a list using a for loop.\n",
    "list_nums = [1,2,3,4,5,6,7,8]\n",
    "\n",
    "# Initialize a variable to store the largest number with the first element of the list\n",
    "largest =list_nums[0]\n",
    "\n",
    "# Use a for loop to iterate through the list\n",
    "for num in list_nums:\n",
    "    if num > largest:\n",
    "        largest = num # Update the largest number if a larger one is found\n",
    "print(\"The largest number in the list is:\", largest)        "
   ]
  },
  {
   "cell_type": "code",
   "execution_count": 8,
   "id": "73b4fbd2",
   "metadata": {},
   "outputs": [
    {
     "name": "stdout",
     "output_type": "stream",
     "text": [
      "Enter the limit for the Fibonacci sequence: 4\n",
      "Fibonacci sequence up to limit 4 : [0, 1, 1, 2]\n"
     ]
    }
   ],
   "source": [
    "# 10. Create a Python program that prints the Fibonacci sequence up to a specified limit using a for loop.\n",
    "# Function to generate the Fibonacci sequence up to a specified limit\n",
    "def fibonacci(limit):\n",
    "    # Initialize the first two Fibonacci numbers\n",
    "    fib_sequence = [0, 1]\n",
    "\n",
    "    # Use a for loop to generate the sequence\n",
    "    for i in range(2, limit):\n",
    "        next_fib = fib_sequence[i - 1] + fib_sequence[i - 2]\n",
    "        if next_fib <= limit:\n",
    "            fib_sequence.append(next_fib)\n",
    "        else:\n",
    "            break\n",
    "\n",
    "    return fib_sequence\n",
    "\n",
    "# Get the limit from the user\n",
    "limit = int(input(\"Enter the limit for the Fibonacci sequence: \"))\n",
    "\n",
    "# Generate and print the Fibonacci sequence up to the specified limit\n",
    "fib_sequence = fibonacci(limit)\n",
    "print(\"Fibonacci sequence up to limit\", limit, \":\", fib_sequence)\n",
    "\n"
   ]
  },
  {
   "cell_type": "code",
   "execution_count": 9,
   "id": "20715b5e",
   "metadata": {},
   "outputs": [
    {
     "name": "stdout",
     "output_type": "stream",
     "text": [
      "Enter a string: vikas\n",
      "Number of vowels in the string: 2\n"
     ]
    }
   ],
   "source": [
    "# 11. Write a Python program to count the number of vowels in a given string using a for loop.\n",
    "string = input(\"Enter a string: \")\n",
    "vowels_count = 0\n",
    "vowels =set(\"AEIOUaeiou\")\n",
    "\n",
    "for char in string:\n",
    "    if char in vowels:\n",
    "        vowels_count +=1\n",
    "print(\"Number of vowels in the string:\", vowels_count)\n"
   ]
  },
  {
   "cell_type": "code",
   "execution_count": 10,
   "id": "462eaee2",
   "metadata": {},
   "outputs": [
    {
     "name": "stdout",
     "output_type": "stream",
     "text": [
      "Enter the number: 5\n",
      "Table for 5:\n",
      "5*1=5\n",
      "5*2=10\n",
      "5*3=15\n",
      "5*4=20\n",
      "5*5=25\n",
      "5*6=30\n",
      "5*7=35\n",
      "5*8=40\n",
      "5*9=45\n",
      "5*10=50\n"
     ]
    }
   ],
   "source": [
    "# 12. Create a Python program that generates a multiplication table for a given number using a for loop.\n",
    "num = int(input(\"Enter the number: \"))\n",
    "print(f\"Table for {num}:\")\n",
    "for i in range(1,11):\n",
    "    product = num*i\n",
    "    print(f\"{num}*{i}={product}\")"
   ]
  },
  {
   "cell_type": "code",
   "execution_count": 11,
   "id": "d06ab7fb",
   "metadata": {},
   "outputs": [
    {
     "name": "stdout",
     "output_type": "stream",
     "text": [
      "List before reverse :  [1, 2, 3, 4, 5]\n",
      "List after reverse :  [5, 4, 3, 2, 1]\n"
     ]
    }
   ],
   "source": [
    "# 13. Write a Python program to reverse a list using a for loop.\n",
    "original_list = [1, 2, 3, 4, 5]\n",
    "print(\"List before reverse : \",original_list)\n",
    "reversed_list = []\n",
    "for value in original_list:\n",
    "  reversed_list = [value] + reversed_list\n",
    "print(\"List after reverse : \", reversed_list)"
   ]
  },
  {
   "cell_type": "code",
   "execution_count": 12,
   "id": "53592963",
   "metadata": {},
   "outputs": [
    {
     "name": "stdout",
     "output_type": "stream",
     "text": [
      "Common elements: [3, 4, 5]\n"
     ]
    }
   ],
   "source": [
    "# 14. Write a Python program to find the common elements between two lists using a for loop.\n",
    "# Function to find common elements between two lists using a for loop\n",
    "def find_common_elements(list1, list2):\n",
    "    common_elements = []\n",
    "    \n",
    "    for item1 in list1:\n",
    "        for item2 in list2:\n",
    "            if item1 == item2:\n",
    "                common_elements.append(item1)\n",
    "    \n",
    "    return common_elements\n",
    "\n",
    "# Example lists\n",
    "list1 = [1, 2, 3, 4, 5]\n",
    "list2 = [3, 4, 5, 6, 7]\n",
    "\n",
    "# Call the find_common_elements function to find common elements\n",
    "common_elements = find_common_elements(list1, list2)\n",
    "\n",
    "# Print the common elements\n",
    "print(\"Common elements:\", common_elements)\n"
   ]
  },
  {
   "cell_type": "code",
   "execution_count": 13,
   "id": "4ad16a27",
   "metadata": {},
   "outputs": [
    {
     "name": "stdout",
     "output_type": "stream",
     "text": [
      "Key: name, Value: John\n",
      "Key: age, Value: 30\n",
      "Key: city, Value: New York\n"
     ]
    }
   ],
   "source": [
    "# 15. Explain how to use a for loop to iterate through the keys and values of a dictionary in Python.\n",
    "#You can use a for loop to iterate through the keys and values of a dictionary in Python using the items() method.\n",
    "\n",
    "# Create a sample dictionary\n",
    "my_dict = {'name': 'John', 'age': 30, 'city': 'New York'}\n",
    "\n",
    "# Iterate through keys and values using a for loop\n",
    "for key, value in my_dict.items():\n",
    "    print(f'Key: {key}, Value: {value}')\n"
   ]
  },
  {
   "cell_type": "code",
   "execution_count": 14,
   "id": "573d6b47",
   "metadata": {},
   "outputs": [
    {
     "name": "stdout",
     "output_type": "stream",
     "text": [
      "Enter the first number: 5\n",
      "Enter the second number: 6\n",
      "The GCD of 5 and 6 is 1\n"
     ]
    }
   ],
   "source": [
    "# 16. Write a Python program to find the GCD (Greatest Common Divisor) of two numbers using a for loop.\n",
    "def find_gcd(num1, num2):\n",
    "    while num2:\n",
    "        num1, num2 = num2, num1 % num2\n",
    "    return num1\n",
    "\n",
    "num1 = int(input(\"Enter the first number: \"))\n",
    "num2 = int(input(\"Enter the second number: \"))\n",
    "\n",
    "gcd =find_gcd(num1, num2)\n",
    "\n",
    "print(f\"The GCD of {num1} and {num2} is {gcd}\")\n"
   ]
  },
  {
   "cell_type": "code",
   "execution_count": 15,
   "id": "e275420f",
   "metadata": {},
   "outputs": [
    {
     "name": "stdout",
     "output_type": "stream",
     "text": [
      "Enter a string: 4\n",
      "'4' is a palindrome.\n"
     ]
    }
   ],
   "source": [
    "# 17. Create a Python program that checks if a string is a palindrome using a for loop.\n",
    "def is_palindrome(input_string):\n",
    "    \n",
    "    input_string = input_string.lower().replace(\" \",\"\")\n",
    "    \n",
    "    length = len(input_string)\n",
    "    for i in range(length // 2):\n",
    "        if input_string[i] != input_string[length - 1 - i]:\n",
    "            return False\n",
    "    return True\n",
    "\n",
    "user_input = input(\"Enter a string: \")\n",
    "\n",
    "if is_palindrome(user_input):\n",
    "    print(f\"'{user_input}' is a palindrome.\")\n",
    "else:\n",
    "    print(f\"'{user_input}' is not a palindrome.\")"
   ]
  },
  {
   "cell_type": "code",
   "execution_count": 16,
   "id": "29a4c02c",
   "metadata": {},
   "outputs": [
    {
     "name": "stdout",
     "output_type": "stream",
     "text": [
      "Original List with Duplicates: [1, 2, 3, 3, 4, 4, 5, 6, 7, 8]\n",
      "List with Duplicates Removed: [1, 2, 3, 4, 5, 6, 7, 8]\n"
     ]
    }
   ],
   "source": [
    "# 18. Write a Python program to remove duplicates from a list using a for loop.\n",
    "original_list = [1,2,3,3,4,4,5,6,7,8]\n",
    "\n",
    "unique_list = []\n",
    "for item in original_list:\n",
    "    if item not in unique_list:\n",
    "        unique_list.append(item)\n",
    "        \n",
    "print(\"Original List with Duplicates:\", original_list)\n",
    "print(\"List with Duplicates Removed:\", unique_list)"
   ]
  },
  {
   "cell_type": "code",
   "execution_count": 17,
   "id": "7c169b28",
   "metadata": {},
   "outputs": [
    {
     "name": "stdout",
     "output_type": "stream",
     "text": [
      "Number of words in the senctence: 9\n"
     ]
    }
   ],
   "source": [
    "# 19. Create a Python program that counts the number of words in a sentence using a for loop.\n",
    "sentence = \"Vikas is my name and i live in delhi\"\n",
    "word_count = 0\n",
    "\n",
    "# split the sentence into words\n",
    "words = sentence.split()\n",
    "\n",
    "for word in words:\n",
    "    word_count += 1\n",
    "    \n",
    "print(\"Number of words in the senctence:\", word_count)"
   ]
  },
  {
   "cell_type": "code",
   "execution_count": 18,
   "id": "70b0e167",
   "metadata": {},
   "outputs": [
    {
     "name": "stdout",
     "output_type": "stream",
     "text": [
      "Sum of odd numbers from 1 to 50: 625\n"
     ]
    }
   ],
   "source": [
    "# 20. Write a Python program to find the sum of all odd numbers from 1 to 50 using a for loop.\n",
    "\n",
    "sum_of_odd_numbers = 0\n",
    "\n",
    "for number in range(1, 51):\n",
    "    if number % 2 != 0:\n",
    "        sum_of_odd_numbers += number\n",
    "\n",
    "print(\"Sum of odd numbers from 1 to 50:\", sum_of_odd_numbers)"
   ]
  },
  {
   "cell_type": "code",
   "execution_count": 19,
   "id": "1a30dcf3",
   "metadata": {},
   "outputs": [
    {
     "name": "stdout",
     "output_type": "stream",
     "text": [
      "Enter a year: 5640\n",
      "5640 is a leap year.\n"
     ]
    }
   ],
   "source": [
    "# 21. Write a Python program that checks if a given year is a leap year using a for loop.\n",
    "year = int(input(\"Enter a year: \"))\n",
    "\n",
    "if (year % 4 == 0 and year % 100 !=0) or (year % 400 == 0):\n",
    "    print(f\"{year} is a leap year.\")\n",
    "else:\n",
    "    print(f\"{year} is not a leap year.\")\n",
    "    "
   ]
  },
  {
   "cell_type": "code",
   "execution_count": 20,
   "id": "e7857968",
   "metadata": {},
   "outputs": [
    {
     "name": "stdout",
     "output_type": "stream",
     "text": [
      "Enter a number: 5\n",
      "Approximate square root of 5.0 is 2.23606797749979\n"
     ]
    }
   ],
   "source": [
    "# 22. Create a Python program that calculates the square root of a number using a for loop.\n",
    "\n",
    "number = float(input(\"Enter a number: \"))\n",
    "\n",
    "root = number/2\n",
    "\n",
    "# specify the number of iterations for the loop\n",
    "iterations = 10 # we can assign it as per our need\n",
    "\n",
    "# use a for loop to approximate the sqaure root\n",
    "\n",
    "for _ in range(iterations):\n",
    "    root = 0.5 *(root+number/root)\n",
    "    \n",
    "print(f\"Approximate square root of {number} is {root}\")\n"
   ]
  },
  {
   "cell_type": "code",
   "execution_count": 21,
   "id": "0667c9b3",
   "metadata": {},
   "outputs": [
    {
     "name": "stdout",
     "output_type": "stream",
     "text": [
      "Enter the first number: 4\n",
      "Enter the second number: 5\n",
      "The LCM of 4 and 5 is 20\n"
     ]
    }
   ],
   "source": [
    "# 23. Write a Python program to find the LCM (Least Common Multiple) of two numbers using a for loop.\n",
    "\n",
    "# functions to calculate the GCD(Greatest common Divisor)\n",
    "def calculate_gcd(a,b):\n",
    "    while b:\n",
    "        a,b = b, a % b\n",
    "    return a\n",
    "\n",
    "# function to calculate the LCM\n",
    "def calculate_lcm(a,b):\n",
    "    gcd = calculate_gcd(a,b)\n",
    "    \n",
    "    lcm = (a * b)//gcd\n",
    "    return lcm\n",
    "\n",
    "num1 = int(input(\"Enter the first number: \"))\n",
    "num2 = int(input(\"Enter the second number: \"))\n",
    "\n",
    "lcm_result = calculate_lcm(num1, num2)\n",
    "print(f\"The LCM of {num1} and {num2} is {lcm_result}\")"
   ]
  },
  {
   "cell_type": "markdown",
   "id": "eef72d5f",
   "metadata": {},
   "source": [
    "# If else :"
   ]
  },
  {
   "cell_type": "code",
   "execution_count": 22,
   "id": "c9d74dd2",
   "metadata": {},
   "outputs": [
    {
     "name": "stdout",
     "output_type": "stream",
     "text": [
      "Enter a number: 6\n",
      "The number is Positive:\n"
     ]
    }
   ],
   "source": [
    "# 1. Write a Python program to check if a number is positive, negative, or zero using an if-else statement.\n",
    "number = float(input(\"Enter a number: \"))\n",
    "if number >0:\n",
    "    print(\"The number is Positive:\")\n",
    "elif number <0:\n",
    "    print(\"The number is Negative: \")\n",
    "else:\n",
    "    print(\"The number is Zero: \")"
   ]
  },
  {
   "cell_type": "code",
   "execution_count": 23,
   "id": "262b65e8",
   "metadata": {},
   "outputs": [
    {
     "name": "stdout",
     "output_type": "stream",
     "text": [
      "Enter a number: 4\n",
      "4 is even.\n"
     ]
    }
   ],
   "source": [
    "# 2. Create a Python program that checks if a given number is even or odd using an if-else statement.\n",
    "\n",
    "number = int(input(\"Enter a number: \"))\n",
    "if number % 2 == 0:\n",
    "    print(f\"{number} is even.\")\n",
    "else:\n",
    "    print(f\"{number} is odd.\")"
   ]
  },
  {
   "cell_type": "code",
   "execution_count": 24,
   "id": "3db58c4c",
   "metadata": {},
   "outputs": [
    {
     "name": "stdout",
     "output_type": "stream",
     "text": [
      "Enter a number: 7\n",
      "The number is positive.\n"
     ]
    }
   ],
   "source": [
    "# 3. How can you use nested if-else statements in Python, and provide an example?\n",
    "\"\"\"\"Nested if-else statements in Python allow you to have conditional statements within other conditional statements. \n",
    "They are useful when you need to make more complex decisions based on multiple conditions. \n",
    "Each level of nesting represents a deeper level of conditional logic.\"\"\"\n",
    "\n",
    "# Input a number from the user\n",
    "number = int(input(\"Enter a number: \"))\n",
    "\n",
    "# Check if the number is positive, negative, or zero\n",
    "if number > 0:\n",
    "    print(\"The number is positive.\")\n",
    "elif number < 0:\n",
    "    print(\"The number is negative.\")\n",
    "else:\n",
    "    print(\"The number is zero.\")\n",
    "    \n",
    "    # Nested if-else statement to check if the number is even or odd\n",
    "    if number % 2 == 0:\n",
    "        print(\"The number is even.\")\n",
    "    else:\n",
    "        print(\"The number is odd.\")\n",
    "\n"
   ]
  },
  {
   "cell_type": "code",
   "execution_count": 25,
   "id": "84deec22",
   "metadata": {},
   "outputs": [
    {
     "name": "stdout",
     "output_type": "stream",
     "text": [
      "Enter the first number: 4\n",
      "Enter the second number: 5\n",
      "Enter the third number: 5\n",
      "The largest number is : 5.0\n"
     ]
    }
   ],
   "source": [
    "# 4. Write a Python program to determine the largest of three numbers using if-else.\n",
    "num1 = float(input(\"Enter the first number: \"))\n",
    "num2 = float(input(\"Enter the second number: \"))\n",
    "num3 = float(input(\"Enter the third number: \"))\n",
    "\n",
    "if num1 >= num2 and num1 >= num3:\n",
    "    largest = num1\n",
    "elif num2 >= num1 and num2 >= num3:\n",
    "    largest = num2\n",
    "else:\n",
    "    largest = num3\n",
    "    \n",
    "print(f\"The largest number is : {largest}\")"
   ]
  },
  {
   "cell_type": "code",
   "execution_count": 26,
   "id": "719b8bed",
   "metadata": {},
   "outputs": [
    {
     "name": "stdout",
     "output_type": "stream",
     "text": [
      "Enter a number: 5\n",
      "The absolute value of 5.0 is: 5.0\n"
     ]
    }
   ],
   "source": [
    "# 5. Write a Python program that calculates the absolute value of a number using if-else.\n",
    "\n",
    "number = float(input(\"Enter a number: \"))\n",
    "if number >= 0:\n",
    "    absolute_value = number\n",
    "else:\n",
    "    absolute_value = -number\n",
    "    \n",
    "print(f\"The absolute value of {number} is: {absolute_value}\")"
   ]
  },
  {
   "cell_type": "code",
   "execution_count": 27,
   "id": "94869bbc",
   "metadata": {},
   "outputs": [
    {
     "name": "stdout",
     "output_type": "stream",
     "text": [
      "Enter a character: 6\n",
      "Please enter a valid single character.\n"
     ]
    }
   ],
   "source": [
    "# 6. Create a Python program that checks if a given character is a vowel or consonant using if-else.\n",
    "character = input(\"Enter a character: \")\n",
    "character = character.lower()\n",
    "\n",
    "if character.isalpha() and len(character) == 1: # isalpha() is a method that checks whether the string character consists only of alphabetic characters (letters) and does not contain digits, symbols, or whitespace. \n",
    "    if character in 'aeiou':\n",
    "        print(f\"{character} is a vowel.\")\n",
    "    else:\n",
    "        print(f\"{character} is a consonant.\")\n",
    "else:\n",
    "    print(\"Please enter a valid single character.\")"
   ]
  },
  {
   "cell_type": "code",
   "execution_count": 29,
   "id": "550ad63f",
   "metadata": {},
   "outputs": [
    {
     "name": "stdout",
     "output_type": "stream",
     "text": [
      "Enter the age: 6\n",
      "You cannot vote\n"
     ]
    }
   ],
   "source": [
    "# 7. Write a Python program to determine if a user is eligible to vote based on their age using if-else.\n",
    "age = int(input(\"Enter the age: \"))\n",
    "#eligible_age = 18\n",
    "if age >= 18:\n",
    "    print(\"You can vote\")\n",
    "else:\n",
    "    print(\"You cannot vote\")\n",
    "        \n",
    "#print(\"\")\n",
    "    "
   ]
  },
  {
   "cell_type": "code",
   "execution_count": 30,
   "id": "dc723689",
   "metadata": {},
   "outputs": [
    {
     "name": "stdout",
     "output_type": "stream",
     "text": [
      "Enter the purchase amount: Rs:560\n",
      "Purchase Amount: Rs:560.00\n",
      "Discount Percentage: Rs:10.00\n",
      "Discount amount: Rs:56.00\n",
      "Final AMount to pay: Rs:504.00\n"
     ]
    }
   ],
   "source": [
    "# 8. Create a Python program that calculates the discount amount based on the purchase amount using if-else.\n",
    "\n",
    "purchase_amount = float(input(\"Enter the purchase amount: Rs:\"))\n",
    "\n",
    "discount_perc = 0\n",
    "\n",
    "if purchase_amount >= 100:\n",
    "    discount_perc = 10\n",
    "elif purchase_amount >= 50:\n",
    "    discount_perc = 5\n",
    "    \n",
    "discount_amount = (discount_perc/100)* purchase_amount\n",
    "\n",
    "final_amt = purchase_amount - discount_amount\n",
    "\n",
    "print(f\"Purchase Amount: Rs:{purchase_amount:.2f}\")\n",
    "print(f\"Discount Percentage: Rs:{discount_perc:.2f}\")\n",
    "print(f\"Discount amount: Rs:{discount_amount:.2f}\")\n",
    "print(f\"Final AMount to pay: Rs:{final_amt:.2f}\")"
   ]
  },
  {
   "cell_type": "code",
   "execution_count": 31,
   "id": "d7e33857",
   "metadata": {},
   "outputs": [
    {
     "name": "stdout",
     "output_type": "stream",
     "text": [
      "Enter a number: 45\n",
      "45.0 is within the specified range(10 to 50).\n"
     ]
    }
   ],
   "source": [
    "# 9. Write a Python program to check if a number is within a specified range using if-else.\n",
    "min = 10\n",
    "max = 50\n",
    "num = float(input(\"Enter a number: \"))\n",
    "\n",
    "if num >= min and num <= max:\n",
    "    print(f\"{num} is within the specified range({min} to {max}).\")\n",
    "else:\n",
    "    print(f\"{num} is not not within the specified range({min} to {max}).\")"
   ]
  },
  {
   "cell_type": "code",
   "execution_count": 35,
   "id": "0abdd0f7",
   "metadata": {},
   "outputs": [
    {
     "name": "stdout",
     "output_type": "stream",
     "text": [
      "Enter the student marks: 56\n",
      "The students grade is: F: \n"
     ]
    }
   ],
   "source": [
    "# 10. Create a Python program that determines the grade of a student based on their score using if-else.\n",
    "score = int(input(\"Enter the student marks: \"))\n",
    "if score >=90:\n",
    "    grade = 'A'\n",
    "elif score >= 80:\n",
    "    grade = 'B'\n",
    "elif score >= 70:\n",
    "    grade = 'C'\n",
    "elif score >= 60:\n",
    "    grade = 'D'\n",
    "else:\n",
    "    grade = 'F'\n",
    "    \n",
    "print(f\"The students grade is: {grade}: \")"
   ]
  },
  {
   "cell_type": "code",
   "execution_count": 36,
   "id": "7dc8ab29",
   "metadata": {},
   "outputs": [
    {
     "name": "stdout",
     "output_type": "stream",
     "text": [
      "Enter a string: viks\n",
      "The string is not empty.\n"
     ]
    }
   ],
   "source": [
    "# 11. Write a Python program to check if a string is empty or not using if-else.\n",
    "\n",
    "input_string = input(\"Enter a string: \")\n",
    "\n",
    "if input_string:\n",
    "    print(\"The string is not empty.\")\n",
    "else:\n",
    "    print(\"The string is empty\")"
   ]
  },
  {
   "cell_type": "code",
   "execution_count": 37,
   "id": "dc5dc993",
   "metadata": {},
   "outputs": [
    {
     "name": "stdout",
     "output_type": "stream",
     "text": [
      "Enter the first side: 4\n",
      "Enter the second side: 5\n",
      "Enter the third side: 6\n",
      "The triangle is a scalene triangle.\n"
     ]
    }
   ],
   "source": [
    "# 12. Create a Python program that identifies the type of a triangle (e.g., equilateral, isosceles, or scalene) based on input values using if-else.\n",
    "side1 = int(input(\"Enter the first side: \"))\n",
    "side2 = int(input(\"Enter the second side: \"))\n",
    "side3 = int(input(\"Enter the third side: \"))\n",
    "\n",
    "if side1 == side2  == side3:\n",
    "    #print(f\"the given triangle is equilateral.\")\n",
    "    triangle = \"equilteral\"\n",
    "elif side1 == side2 or side1 == side3 or side2 == side3:\n",
    "    triangle = \"isosceles\"\n",
    "else:\n",
    "    triangle = \"scalene\"\n",
    "    \n",
    "print(f\"The triangle is a {triangle} triangle.\")"
   ]
  },
  {
   "cell_type": "code",
   "execution_count": 38,
   "id": "8bb05a25",
   "metadata": {},
   "outputs": [
    {
     "name": "stdout",
     "output_type": "stream",
     "text": [
      "Enter a number (1-7) to determine the day of the week: 5\n",
      "The day of the week is Thursay\n"
     ]
    }
   ],
   "source": [
    "# 13. Write a Python program to determine the day of the week based on a user-provided number using if-else.\n",
    "day_number = int(input(\"Enter a number (1-7) to determine the day of the week: \"))\n",
    "\n",
    "if day_number ==1:\n",
    "    day_name = \"Sunday\"\n",
    "    \n",
    "elif day_number ==2:\n",
    "    day_name = \"Monday\"\n",
    "    \n",
    "elif day_number ==3:\n",
    "    day_name = \"Tuesday\"\n",
    "    \n",
    "elif day_number ==4:\n",
    "    day_name = \"Wednesday\"\n",
    "    \n",
    "elif day_number ==5:\n",
    "    day_name = \"Thursay\"\n",
    "    \n",
    "elif day_number ==6:\n",
    "    day_name = \"Friday\"\n",
    "    \n",
    "elif day_number ==7:\n",
    "    day_name = \"Saturday\"\n",
    "    \n",
    "else:\n",
    "    day_name = \"Invalid input. Please enter a number between 1 and 7\"\n",
    "    \n",
    "print(f\"The day of the week is {day_name}\")"
   ]
  },
  {
   "cell_type": "code",
   "execution_count": 39,
   "id": "2e3cda4a",
   "metadata": {},
   "outputs": [
    {
     "name": "stdout",
     "output_type": "stream",
     "text": [
      "Enter the year: 5600\n",
      "5600 is a leap year.\n"
     ]
    }
   ],
   "source": [
    "# 14. Create a Python program that checks if a given year is a leap year using both if-else and a function.\n",
    "def is_leap_year(year):\n",
    "    if (year % 4 == 0 and year % 100 !=0) or (year % 400 == 0):\n",
    "        return True\n",
    "    else:\n",
    "        return False\n",
    "\n",
    "year = int(input(\"Enter the year: \"))\n",
    "if is_leap_year(year):\n",
    "    \n",
    "    print(f\"{year} is a leap year.\")\n",
    "else:\n",
    "    print(f\"{year} is not a leap year.\")   "
   ]
  },
  {
   "cell_type": "code",
   "execution_count": 40,
   "id": "42a40d83",
   "metadata": {},
   "outputs": [
    {
     "name": "stdout",
     "output_type": "stream",
     "text": [
      "Assertion Error: Division by zero is not allowed\n"
     ]
    }
   ],
   "source": [
    "# 15. How do you use the \"assert\" statement in Python to add debugging checks within if-else blocks?\n",
    "\n",
    "\"\"\"In Python, the assert statement is used to add debugging checks within if-else blocks and other parts of your code to ensure that certain conditions are met. \n",
    "If the condition specified in the assert statement evaluates to True, the program continues execution as usual.\n",
    "However, if the condition is False, it raises an AssertionError exception, indicating that something unexpected has occurred.\"\"\"\n",
    "\n",
    "# SYNTAX\n",
    "\n",
    "# assert condition, message\n",
    "\n",
    "def divide(a, b):\n",
    "    assert b != 0, \"Division by zero is not allowed\"\n",
    "    return a / b\n",
    "\n",
    "numerator = 10\n",
    "denominator = 0\n",
    "\n",
    "try:\n",
    "    result = divide(numerator, denominator)\n",
    "except AssertionError as e:\n",
    "    print(f\"Assertion Error: {e}\")\n",
    "else:\n",
    "    print(f\"Result: {result}\")\n",
    "\n"
   ]
  },
  {
   "cell_type": "code",
   "execution_count": 41,
   "id": "3fc0c00d",
   "metadata": {},
   "outputs": [
    {
     "name": "stdout",
     "output_type": "stream",
     "text": [
      "Enter the age: 56\n",
      "Discount maat de re baba\n"
     ]
    }
   ],
   "source": [
    "# 16. Create a Python program that determines the eligibility of a person for a senior citizen discount based on age using if-else.\n",
    "senior_citizen_age = int(input(\"Enter the age: \"))\n",
    "if senior_citizen_age >= 60:\n",
    "    print(\"Discount de de re babaa\")\n",
    "else:\n",
    "    print(\"Discount maat de re baba\")"
   ]
  },
  {
   "cell_type": "code",
   "execution_count": 42,
   "id": "beea9c65",
   "metadata": {},
   "outputs": [
    {
     "name": "stdout",
     "output_type": "stream",
     "text": [
      "Enter a character: 45\n",
      "45 is neither uppercase nor lowercase.\n"
     ]
    }
   ],
   "source": [
    "# 17. Write a Python program to categorize a given character as uppercase, lowercase, or neither using if-else.\n",
    "\n",
    "character = input(\"Enter a character: \")\n",
    "\n",
    "if character.isupper():\n",
    "    print(f\"{character} is an uppercase letter.\")\n",
    "elif character.islower():\n",
    "    print(f\"{character} is a lowercase letter.\")\n",
    "else:\n",
    "    print(f\"{character} is neither uppercase nor lowercase.\")"
   ]
  },
  {
   "cell_type": "code",
   "execution_count": 43,
   "id": "f2d6a0fc",
   "metadata": {},
   "outputs": [
    {
     "name": "stdout",
     "output_type": "stream",
     "text": [
      "Enter coefficient a: 4\n",
      "Enter coefficient b: 5\n",
      "Enter coefficient c: 6\n",
      "The roots are complex: -0.625 + 1.0532687216470449i and -0.625 - 1.0532687216470449i\n"
     ]
    }
   ],
   "source": [
    "# 18. Write a Python program to determine the roots of a quadratic equation using if-else.\n",
    "import math\n",
    "\n",
    "# Input coefficients a, b, and c from the user\n",
    "a = float(input(\"Enter coefficient a: \"))\n",
    "b = float(input(\"Enter coefficient b: \"))\n",
    "c = float(input(\"Enter coefficient c: \"))\n",
    "\n",
    "# Calculate the discriminant (the value inside the square root)\n",
    "discriminant = b**2 - 4*a*c\n",
    "\n",
    "# Check the nature of the roots using if-else statements\n",
    "if discriminant > 0:\n",
    "    # Two real and distinct roots\n",
    "    root1 = (-b + math.sqrt(discriminant)) / (2*a)\n",
    "    root2 = (-b - math.sqrt(discriminant)) / (2*a)\n",
    "    print(f\"The roots are real and distinct: {root1} and {root2}\")\n",
    "elif discriminant == 0:\n",
    "    # One real root (repeated)\n",
    "    root = -b / (2*a)\n",
    "    print(f\"The root is real and repeated: {root}\")\n",
    "else:\n",
    "    # Complex roots\n",
    "    real_part = -b / (2*a)\n",
    "    imaginary_part = math.sqrt(abs(discriminant)) / (2*a)\n",
    "    print(f\"The roots are complex: {real_part} + {imaginary_part}i and {real_part} - {imaginary_part}i\")\n"
   ]
  },
  {
   "cell_type": "code",
   "execution_count": 44,
   "id": "a7551fe7",
   "metadata": {},
   "outputs": [
    {
     "name": "stdout",
     "output_type": "stream",
     "text": [
      "Enter a year: 5460\n",
      "5460 is not a century year.\n"
     ]
    }
   ],
   "source": [
    "# 19. Create a Python program that checks if a given year is a century year or not using if-else.\n",
    "# Input a year from the user\n",
    "year = int(input(\"Enter a year: \"))\n",
    "\n",
    "# Check if the year is a century year or not using if-else\n",
    "if year % 100 == 0:\n",
    "    if year % 400 == 0:\n",
    "        print(f\"{year} is a century leap year.\")\n",
    "    else:\n",
    "        print(f\"{year} is a century year, but not a leap year.\")\n",
    "else:\n",
    "    print(f\"{year} is not a century year.\")\n"
   ]
  },
  {
   "cell_type": "code",
   "execution_count": 45,
   "id": "46ba2f0e",
   "metadata": {},
   "outputs": [
    {
     "name": "stdout",
     "output_type": "stream",
     "text": [
      "Enter a number: 76\n",
      "76 is not a perfect square.\n"
     ]
    }
   ],
   "source": [
    "# 20. Write a Python program to determine if a given number is a perfect square using if-else.\n",
    "# Input a number from the user\n",
    "number = int(input(\"Enter a number: \"))\n",
    "\n",
    "# Calculate the square root of the number\n",
    "square_root = number ** 0.5\n",
    "\n",
    "# Check if the number is a perfect square using if-else\n",
    "if square_root.is_integer():\n",
    "    print(f\"{number} is a perfect square.\")\n",
    "else:\n",
    "    print(f\"{number} is not a perfect square.\")\n"
   ]
  },
  {
   "cell_type": "code",
   "execution_count": 46,
   "id": "d87d4c6c",
   "metadata": {},
   "outputs": [
    {
     "data": {
      "text/plain": [
       "'The \"continue\" and \"break\" statements are control flow statements in Python (and many other programming languages) that are used within loops to alter the program\\'s flow.\\n\\n####################################################\\nContinue Statement:\\n\\nPurpose: The \"continue\" statement is used to skip the rest of the current iteration of a loop and move to the next iteration.\\n\\nUsage: It is typically used within loops (e.g., \"for\" or \"while\" loops) to selectively bypass certain iterations based on a condition.\\n\\nExample: Suppose you have a loop that processes a list of numbers and you want to skip processing negative numbers:\\n\\n\\nCopy code\\nnumbers = [1, -2, 3, -4, 5]\\nfor num in numbers:\\n    if num < 0:\\n        continue  # Skip negative numbers\\n    print(num)\\nIn this example, when the \"continue\" statement is encountered for a negative number, it skips the rest of the loop body for that iteration and moves to the next number in the list.\\n\\n#######################################################\\nBreak Statement:\\n\\nPurpose: The \"break\" statement is used to exit (break out of) a loop prematurely, regardless of whether the loop\\'s condition has been satisfied.\\n\\nUsage: It is commonly used within loops when you want to terminate the loop early based on a certain condition.\\n\\nExample: Suppose you have a loop that searches for a specific element in a list and you want to stop searching once the element is found:\\n\\npython\\nCopy code\\nnumbers = [1, 2, 3, 4, 5]\\ntarget = 3\\nfor num in numbers:\\n    if num == target:\\n        print(f\"Found {target}!\")\\n        break  # Exit the loop\\nIn this example, when the \"break\" statement is encountered upon finding the target value, it exits the loop immediately, even though there may be more items in the list.\\n\\nIn summary:\\n\\n\"Continue\" is used to skip the current iteration and proceed to the next iteration within a loop.\\n\\n\"Break\" is used to exit the loop prematurely, terminating its execution.\\n\\nThese statements provide control over the flow of your code within loops, allowing you to tailor the behavior of your program based on specific conditions or criteria.\\n\\n\\n\\n\\n'"
      ]
     },
     "execution_count": 46,
     "metadata": {},
     "output_type": "execute_result"
    }
   ],
   "source": [
    "# 21. Explain the purpose of the \"continue\" and \"break\" statements within if-else loops.\n",
    "\n",
    "\"\"\"The \"continue\" and \"break\" statements are control flow statements in Python (and many other programming languages) that are used within loops to alter the program's flow.\n",
    "\n",
    "####################################################\n",
    "Continue Statement:\n",
    "\n",
    "Purpose: The \"continue\" statement is used to skip the rest of the current iteration of a loop and move to the next iteration.\n",
    "\n",
    "Usage: It is typically used within loops (e.g., \"for\" or \"while\" loops) to selectively bypass certain iterations based on a condition.\n",
    "\n",
    "Example: Suppose you have a loop that processes a list of numbers and you want to skip processing negative numbers:\n",
    "\n",
    "\n",
    "Copy code\n",
    "numbers = [1, -2, 3, -4, 5]\n",
    "for num in numbers:\n",
    "    if num < 0:\n",
    "        continue  # Skip negative numbers\n",
    "    print(num)\n",
    "In this example, when the \"continue\" statement is encountered for a negative number, it skips the rest of the loop body for that iteration and moves to the next number in the list.\n",
    "\n",
    "#######################################################\n",
    "Break Statement:\n",
    "\n",
    "Purpose: The \"break\" statement is used to exit (break out of) a loop prematurely, regardless of whether the loop's condition has been satisfied.\n",
    "\n",
    "Usage: It is commonly used within loops when you want to terminate the loop early based on a certain condition.\n",
    "\n",
    "Example: Suppose you have a loop that searches for a specific element in a list and you want to stop searching once the element is found:\n",
    "\n",
    "python\n",
    "Copy code\n",
    "numbers = [1, 2, 3, 4, 5]\n",
    "target = 3\n",
    "for num in numbers:\n",
    "    if num == target:\n",
    "        print(f\"Found {target}!\")\n",
    "        break  # Exit the loop\n",
    "In this example, when the \"break\" statement is encountered upon finding the target value, it exits the loop immediately, even though there may be more items in the list.\n",
    "\n",
    "In summary:\n",
    "\n",
    "\"Continue\" is used to skip the current iteration and proceed to the next iteration within a loop.\n",
    "\n",
    "\"Break\" is used to exit the loop prematurely, terminating its execution.\n",
    "\n",
    "These statements provide control over the flow of your code within loops, allowing you to tailor the behavior of your program based on specific conditions or criteria.\n",
    "\n",
    "\n",
    "\n",
    "\n",
    "\"\"\""
   ]
  },
  {
   "cell_type": "code",
   "execution_count": 47,
   "id": "1b84e8ed",
   "metadata": {},
   "outputs": [
    {
     "name": "stdout",
     "output_type": "stream",
     "text": [
      "Enter your weight in kilograms: 85\n",
      "Enter your height in meters: 1.75\n",
      "Your BMI is: 27.76\n",
      "Category: Overweight\n"
     ]
    }
   ],
   "source": [
    "# 22. Create a Python program that calculates the BMI (Body Mass Index) of a person based on their weight and height using if-else.\n",
    "\n",
    "# Input weight in kilograms and height in meters from the user\n",
    "weight_kg = float(input(\"Enter your weight in kilograms: \"))\n",
    "height_m = float(input(\"Enter your height in meters: \"))\n",
    "\n",
    "# Calculate BMI\n",
    "bmi = weight_kg / (height_m ** 2)\n",
    "\n",
    "# Determine BMI category using if-else\n",
    "if bmi < 18.5:\n",
    "    category = \"Underweight\"\n",
    "elif 18.5 <= bmi < 24.9:\n",
    "    category = \"Normal weight\"\n",
    "elif 24.9 <= bmi < 29.9:\n",
    "    category = \"Overweight\"\n",
    "else:\n",
    "    category = \"Obese\"\n",
    "\n",
    "# Print the BMI and category\n",
    "print(f\"Your BMI is: {bmi:.2f}\")\n",
    "print(f\"Category: {category}\")\n"
   ]
  },
  {
   "cell_type": "code",
   "execution_count": 1,
   "id": "212a237a",
   "metadata": {},
   "outputs": [
    {
     "name": "stdout",
     "output_type": "stream",
     "text": [
      "[2, 4, 6, 8]\n"
     ]
    },
    {
     "data": {
      "text/plain": [
       "'\\nThe filter() function is a powerful tool for filtering elements from iterable objects based on a condition, \\nbut the condition itself is typically specified using a function or lambda expression, not if-else statements within filter().\\nIf-else statements are usually used within custom filtering functions to implement more complex filtering logic.\\n'"
      ]
     },
     "execution_count": 1,
     "metadata": {},
     "output_type": "execute_result"
    }
   ],
   "source": [
    "# 23. How can you use the \"filter()\" function with if-else statements to filter elements from a list?\n",
    "\n",
    "\"\"\"The filter() function in Python is used to filter elements from an iterable (such as a list) based on a given condition or function.\n",
    "It returns an iterator that yields the elements from the iterable for which the condition is True.\n",
    "However, filter() itself does not involve if-else statements; instead, it relies on a filtering function or lambda expression to determine which elements to keep.\"\"\"\n",
    "\n",
    "# Example\n",
    "# Define a list of numbers\n",
    "numbers = [1, 2, 3, 4, 5, 6, 7, 8, 9]\n",
    "\n",
    "# Define a filtering function using a lambda expression\n",
    "condition = lambda x: x % 2 == 0  # Filter even numbers\n",
    "\n",
    "# Use the filter() function to filter elements based on the condition\n",
    "filtered_numbers = filter(condition, numbers)\n",
    "\n",
    "# Convert the result to a list if needed (filter() returns an iterator)\n",
    "filtered_numbers_li= list(filtered_numbers)\n",
    "\n",
    "# Print the filtered list\n",
    "print(filtered_numbers_li)\n",
    "\n",
    "\"\"\"\n",
    "The filter() function is a powerful tool for filtering elements from iterable objects based on a condition, \n",
    "but the condition itself is typically specified using a function or lambda expression, not if-else statements within filter().\n",
    "If-else statements are usually used within custom filtering functions to implement more complex filtering logic.\n",
    "\"\"\""
   ]
  },
  {
   "cell_type": "code",
   "execution_count": 49,
   "id": "a6b00298",
   "metadata": {},
   "outputs": [
    {
     "name": "stdout",
     "output_type": "stream",
     "text": [
      "Enter a positive integer: 7\n",
      "7 is a prime number.\n"
     ]
    }
   ],
   "source": [
    "# 24. Write a Python program to determine if a given number is prime or not using if-else.\n",
    "\n",
    "# Input a number from the user\n",
    "number = int(input(\"Enter a positive integer: \"))\n",
    "\n",
    "# Check if the number is prime using if-else\n",
    "if number <= 1:\n",
    "    is_prime = False\n",
    "else:\n",
    "    is_prime = True\n",
    "    for i in range(2, int(number**0.5) + 1):\n",
    "        if number % i == 0:\n",
    "            is_prime = False\n",
    "            break\n",
    "\n",
    "# Print the result\n",
    "if is_prime:\n",
    "    print(f\"{number} is a prime number.\")\n",
    "else:\n",
    "    print(f\"{number} is not a prime number.\")\n"
   ]
  },
  {
   "cell_type": "markdown",
   "id": "1ab2bfcd",
   "metadata": {},
   "source": [
    "# Map"
   ]
  },
  {
   "cell_type": "code",
   "execution_count": 1,
   "id": "20b330de",
   "metadata": {
    "scrolled": true
   },
   "outputs": [
    {
     "name": "stdout",
     "output_type": "stream",
     "text": [
      "[1, 4, 9, 16, 25]\n"
     ]
    }
   ],
   "source": [
    "# 1. Explain the purpose of the `map()` function in Python and provide an example of how it can be used to apply a function to each element of an iterable.\n",
    "\"\"\"The map() function in Python is used to apply a specified function to each element of an iterable (e.g., a list, tuple, or other iterable) and return an iterator containing the results. It is a convenient way to transform or process all the elements of an iterable without the need for explicit loops.\"\"\"\n",
    "# syntax :: map(function, iterable)\n",
    "\n",
    "\"\"\"function: The function you want to apply to each element of the iterable.\n",
    "\n",
    "iterable: The iterable (e.g., a list) containing the elements you want to apply the function to.\n",
    "\n",
    "The map() function returns an iterator, so you may need to convert it to a specific data type like a list or tuple to see the results.\"\"\"\n",
    "\n",
    "# Define a function to square a number\n",
    "def square(x):\n",
    "    return x ** 2\n",
    "\n",
    "# Create a list of numbers\n",
    "numbers = [1, 2, 3, 4, 5]\n",
    "\n",
    "# Use map() to apply the square() function to each element of the list\n",
    "squared_numbers = map(square, numbers)\n",
    "\n",
    "# Convert the result to a list to see the squared numbers\n",
    "squared_numbers_list = list(squared_numbers)\n",
    "\n",
    "# Print the squared numbers\n",
    "print(squared_numbers_list)\n"
   ]
  },
  {
   "cell_type": "code",
   "execution_count": 1,
   "id": "99983cc3",
   "metadata": {},
   "outputs": [
    {
     "name": "stdout",
     "output_type": "stream",
     "text": [
      "[1, 4, 9, 16, 25]\n"
     ]
    }
   ],
   "source": [
    "# 2. Write a Python program that uses the `map()` function to square each element of a list of numbers.\n",
    "def square(x):\n",
    "    return x ** 2\n",
    "\n",
    "numbers = [1,2,3,4,5]\n",
    "\n",
    "squared_numbers = map(square, numbers)\n",
    "\n",
    "squared_numbers_list = list(squared_numbers)\n",
    "\n",
    "print(squared_numbers_list)\n",
    "\n"
   ]
  },
  {
   "cell_type": "code",
   "execution_count": 2,
   "id": "997292a2",
   "metadata": {},
   "outputs": [],
   "source": [
    "# 3. How does the `map()` function differ from a list comprehension in Python, and when would you choose one over the other?\n",
    "\"\"\"The map() function and list comprehensions in Python are both used to process elements in an iterable, but they differ in terms of syntax and use cases. Choosing between them depends on your specific needs and coding style. Here's how they differ:\n",
    "\n",
    "1. Syntax:\n",
    "\n",
    "map() is a built-in function that takes a function and an iterable as arguments and applies the function to each element of the iterable, returning an iterator.\n",
    "\n",
    "List comprehensions provide a concise way to create new lists by applying an expression to each element in an existing iterable (or multiple iterables) and collecting the results.\n",
    "\n",
    "2. Result Type:\n",
    "\n",
    "map() returns an iterator. To see the results, you often need to convert it to a list or another iterable type using functions like list().\n",
    "\n",
    "List comprehensions create and return a new list directly.\n",
    "\n",
    "3. Readability:\n",
    "\n",
    "map() can be less readable when the transformation function is complex because you need to define the function separately.\n",
    "\n",
    "List comprehensions can be more readable and concise for simple transformations, as they incorporate both the transformation and the iterable in one expression.\n",
    "\n",
    "4. Performance:\n",
    "\n",
    "In some cases, map() may be slightly faster than list comprehensions for large datasets because it operates on iterators and doesn't create intermediate lists.\n",
    "\n",
    "List comprehensions are generally considered more Pythonic and are preferred for their readability.\n",
    "\n",
    "Here's an example illustrating the difference between map() and list comprehensions for squaring each element in a list of numbers:\"\"\"\n",
    "\n",
    "# Using map():\n",
    "numbers = [1, 2, 3, 4, 5]\n",
    "squared_numbers = map(lambda x: x ** 2, numbers)\n",
    "squared_numbers_list = list(squared_numbers)\n",
    "\n",
    "# Using a list comprehension:\n",
    "\n",
    "numbers = [1, 2, 3, 4, 5]\n",
    "squared_numbers = [x ** 2 for x in numbers]\n",
    "\n",
    "\n"
   ]
  },
  {
   "cell_type": "code",
   "execution_count": 3,
   "id": "a7f33eed",
   "metadata": {},
   "outputs": [
    {
     "name": "stdout",
     "output_type": "stream",
     "text": [
      "['ALICE', 'BOB', 'CHARLIE', 'DAVID']\n"
     ]
    }
   ],
   "source": [
    "# 4. Create a Python program that uses the `map()` function to convert a list of names to uppercase.\n",
    "\n",
    "names = [\"Alice\", \"Bob\", \"Charlie\", \"David\"]\n",
    "\n",
    "uppercase_names = map(str.upper, names)\n",
    "\n",
    "uppercase_names_list = list(uppercase_names)\n",
    "\n",
    "print(uppercase_names_list)"
   ]
  },
  {
   "cell_type": "code",
   "execution_count": 4,
   "id": "8841358c",
   "metadata": {},
   "outputs": [
    {
     "name": "stdout",
     "output_type": "stream",
     "text": [
      "[5, 5, 6, 11]\n"
     ]
    }
   ],
   "source": [
    "# 5. Write a Python program that uses the `map()` function to calculate the length of each word in a list of strings.\n",
    "\n",
    "# Define a list of strings\n",
    "strings = [\"Hello\", \"world\", \"Python\", \"programming\"]\n",
    "\n",
    "# Use map() to calculate the length of each word\n",
    "word_lengths = map(len, strings)\n",
    "\n",
    "# Convert the result to a list to see the word lengths\n",
    "word_lengths_list = list(word_lengths)\n",
    "\n",
    "# Print the word lengths\n",
    "print(word_lengths_list)"
   ]
  },
  {
   "cell_type": "code",
   "execution_count": 6,
   "id": "18e48dcf",
   "metadata": {},
   "outputs": [
    {
     "name": "stdout",
     "output_type": "stream",
     "text": [
      "[6, 8, 10, 12]\n"
     ]
    }
   ],
   "source": [
    "# 6. How can you use the `map()` function to apply a custom function to elements of multiple lists simultaneously in Python?\n",
    "\n",
    "list1 = [1, 2, 3, 4]\n",
    "list2 = [5, 6, 7, 8]\n",
    "\n",
    "def add_numbers(x,y):\n",
    "    return x + y\n",
    "\n",
    "result = map(add_numbers, list1, list2)\n",
    "\n",
    "sum_list = list(result)\n",
    "\n",
    "print(sum_list)"
   ]
  },
  {
   "cell_type": "code",
   "execution_count": 8,
   "id": "10802fef",
   "metadata": {},
   "outputs": [
    {
     "name": "stdout",
     "output_type": "stream",
     "text": [
      "[32.0, 77.0, 212.0, 99.5]\n"
     ]
    }
   ],
   "source": [
    "# 7. Create a Python program that uses `map()` to convert a list of temperatures from Celsius to Fahrenheit.\n",
    "\n",
    "celsius_temperatures = [0, 25, 100, 37.5]\n",
    "\n",
    "# Define a custom function to convert Celsius to Fahrenheit\n",
    "def celsius_to_fahrenheit(celsius):\n",
    "    return (celsius * 9/5) + 32\n",
    "\n",
    "# Use map() to apply the conversion function to the list of Celsius temperatures\n",
    "fahrenheit_temperatures = map(celsius_to_fahrenheit, celsius_temperatures)\n",
    "\n",
    "# Convert the result to a list to see the temperatures in Fahrenheit\n",
    "fahrenheit_temperatures_list = list(fahrenheit_temperatures)\n",
    "\n",
    "print(fahrenheit_temperatures_list)"
   ]
  },
  {
   "cell_type": "code",
   "execution_count": 10,
   "id": "2d57af8d",
   "metadata": {},
   "outputs": [
    {
     "name": "stdout",
     "output_type": "stream",
     "text": [
      "[3, 3, 2, 1, 5]\n"
     ]
    }
   ],
   "source": [
    "# Write a Python program that uses the `map()` function to round each element of a list of floating-point numbers to the nearest integer.\n",
    "\n",
    "float_numbers = [3.14, 2.718, 1.5, 0.75, 4.9]\n",
    "\n",
    "rounded_numbers = map(round, float_numbers)\n",
    "\n",
    "rounded_numbers_list = list(rounded_numbers)\n",
    "\n",
    "print(rounded_numbers_list)"
   ]
  },
  {
   "cell_type": "markdown",
   "id": "19b5598a",
   "metadata": {},
   "source": [
    "# Reduce "
   ]
  },
  {
   "cell_type": "code",
   "execution_count": 11,
   "id": "28d0af38",
   "metadata": {},
   "outputs": [
    {
     "name": "stdout",
     "output_type": "stream",
     "text": [
      "120\n"
     ]
    }
   ],
   "source": [
    "# 1. What is the `reduce()` function in Python, and what module should you import to use it? Provide an example of its basic usage.\n",
    "\"\"\"The reduce() function in Python is a built-in function for performing a cumulative operation on a sequence of values. It is part of the functools module, so you need to import this module to use it.\n",
    "The reduce() function takes two arguments: a binary function (a function that takes two arguments and returns a single result) and an iterable. It successively applies the binary function to the elements of the iterable, cumulatively reducing the sequence to a single value.\n",
    "The reduce() function is useful for performing cumulative operations on sequences, such as finding the product, sum, or other aggregates of the elements in a list. However, it's important to note that starting with Python 3, the reduce() function has been moved to the functools module, so you need to import it explicitly.\n",
    "\"\"\"\n",
    "\n",
    "from functools import reduce\n",
    "\n",
    "# Define a list of numbers\n",
    "numbers = [1, 2, 3, 4, 5]\n",
    "\n",
    "# Define a binary function to calculate the product of two numbers\n",
    "def multiply(x, y):\n",
    "    return x * y\n",
    "\n",
    "# Use reduce() to find the product of all elements in the list\n",
    "product = reduce(multiply, numbers)\n",
    "\n",
    "# Print the product\n",
    "print(product)\n"
   ]
  },
  {
   "cell_type": "code",
   "execution_count": 12,
   "id": "8cba71b0",
   "metadata": {},
   "outputs": [
    {
     "name": "stdout",
     "output_type": "stream",
     "text": [
      "120\n"
     ]
    }
   ],
   "source": [
    "# 2. Write a Python program that uses the `reduce()` function to find the product of all elements in a list.\n",
    "from functools import reduce\n",
    "\n",
    "# Define a list of numbers\n",
    "numbers = [1, 2, 3, 4, 5]\n",
    "\n",
    "# Define a binary function to calculate the product of two numbers\n",
    "def multiply(x, y):\n",
    "    return x * y\n",
    "\n",
    "# Use reduce() to find the product of all elements in the list\n",
    "product = reduce(multiply, numbers)\n",
    "\n",
    "# Print the product\n",
    "print(product)\n"
   ]
  },
  {
   "cell_type": "code",
   "execution_count": 13,
   "id": "c4954af1",
   "metadata": {},
   "outputs": [
    {
     "name": "stdout",
     "output_type": "stream",
     "text": [
      "The maximum element is: 91\n"
     ]
    }
   ],
   "source": [
    "# 3. Create a Python program that uses `reduce()` to find the maximum element in a list of numbers.\n",
    "\n",
    "from functools import reduce\n",
    "\n",
    "# Define a list of numbers\n",
    "numbers = [12, 45, 67, 8, 91, 24, 33]\n",
    "\n",
    "# Define a binary function to find the maximum of two numbers\n",
    "def find_max(x, y):\n",
    "    return x if x > y else y\n",
    "\n",
    "# Use reduce() to find the maximum element in the list\n",
    "max_number = reduce(find_max, numbers)\n",
    "\n",
    "# Print the maximum element\n",
    "print(\"The maximum element is:\", max_number)\n"
   ]
  },
  {
   "cell_type": "code",
   "execution_count": 14,
   "id": "b80e4d14",
   "metadata": {},
   "outputs": [
    {
     "name": "stdout",
     "output_type": "stream",
     "text": [
      "Hello world!\n"
     ]
    }
   ],
   "source": [
    "# 4. How can you use the `reduce()` function to concatenate a list of strings into a single string?\n",
    "\n",
    "from functools import reduce\n",
    "\n",
    "# Define a list of strings\n",
    "strings = [\"Hello\", \" \", \"world\", \"!\"]\n",
    "\n",
    "# Define a binary function to concatenate two strings\n",
    "def concatenate_strings(x, y):\n",
    "    return x + y\n",
    "\n",
    "# Use reduce() to concatenate the list of strings into a single string\n",
    "concatenated_string = reduce(concatenate_strings, strings)\n",
    "\n",
    "# Print the concatenated string\n",
    "print(concatenated_string)\n"
   ]
  },
  {
   "cell_type": "code",
   "execution_count": 15,
   "id": "f7e57efd",
   "metadata": {},
   "outputs": [
    {
     "name": "stdout",
     "output_type": "stream",
     "text": [
      "Enter a non-negative integer: 45\n",
      "The factorial of 45 is: 119622220865480194561963161495657715064383733760000000000\n"
     ]
    }
   ],
   "source": [
    "# 5. Write a Python program that calculates the factorial of a number using the `reduce()` function.\n",
    "\n",
    "from functools import reduce\n",
    "\n",
    "# Define a function to calculate the factorial of a number\n",
    "def factorial(n):\n",
    "    if n == 0 or n == 1:\n",
    "        return 1\n",
    "    else:\n",
    "        return n * factorial(n - 1)\n",
    "\n",
    "# Input a number from the user\n",
    "num = int(input(\"Enter a non-negative integer: \"))\n",
    "\n",
    "# Check if the input is valid\n",
    "if num < 0:\n",
    "    print(\"Please enter a non-negative integer.\")\n",
    "else:\n",
    "    # Use reduce() to calculate the factorial\n",
    "    result = reduce(lambda x, y: x * y, range(1, num + 1))\n",
    "    \n",
    "    # Print the factorial\n",
    "    print(f\"The factorial of {num} is:\", result)\n"
   ]
  },
  {
   "cell_type": "code",
   "execution_count": 16,
   "id": "19f476ab",
   "metadata": {},
   "outputs": [
    {
     "name": "stdout",
     "output_type": "stream",
     "text": [
      "The GCD of the numbers is: 12\n"
     ]
    }
   ],
   "source": [
    "# 6. Create a Python program that uses `reduce()` to find the GCD (Greatest Common Divisor) of a list of numbers.\n",
    "\n",
    "from functools import reduce\n",
    "import math\n",
    "\n",
    "# Define a list of numbers\n",
    "numbers = [24, 36, 48, 60]\n",
    "\n",
    "# Use reduce() with math.gcd() to find the GCD of the list of numbers\n",
    "gcd = reduce(math.gcd, numbers)\n",
    "\n",
    "# Print the GCD\n",
    "print(\"The GCD of the numbers is:\", gcd)\n"
   ]
  },
  {
   "cell_type": "code",
   "execution_count": 18,
   "id": "74d0e9ca",
   "metadata": {},
   "outputs": [
    {
     "name": "stdout",
     "output_type": "stream",
     "text": [
      "Enter a positive integer: 456\n",
      "The sum of digits in 456 is: 15\n"
     ]
    }
   ],
   "source": [
    "# 7. Write a Python program that uses the `reduce()` function to find the sum of the digits of a given number.\n",
    "\n",
    "from functools import reduce\n",
    "\n",
    "# Define a function to calculate the sum of digits of a number\n",
    "def sum_of_digits(num1, num2):\n",
    "    return num1 + num2\n",
    "\n",
    "# Input a number from the user\n",
    "num = int(input(\"Enter a positive integer: \"))\n",
    "\n",
    "# Check if the input is valid\n",
    "if num <= 0:\n",
    "    print(\"Please enter a positive integer.\")\n",
    "else:\n",
    "    # Convert the number to a list of its digits\n",
    "    digits = [int(digit) for digit in str(num)]\n",
    "\n",
    "    # Use reduce() to calculate the sum of digits\n",
    "    digit_sum = reduce(sum_of_digits, digits)\n",
    "\n",
    "    # Print the sum of digits\n",
    "    print(f\"The sum of digits in {num} is:\", digit_sum)\n",
    "\n",
    "\n"
   ]
  },
  {
   "cell_type": "markdown",
   "id": "e61bc0e6",
   "metadata": {},
   "source": [
    "# Filter :-\n"
   ]
  },
  {
   "cell_type": "code",
   "execution_count": 19,
   "id": "daeaa1c1",
   "metadata": {},
   "outputs": [
    {
     "name": "stdout",
     "output_type": "stream",
     "text": [
      "[2, 4, 6, 8]\n"
     ]
    }
   ],
   "source": [
    "# 1. Explain the purpose of the `filter()` function in Python and provide an example of how it can be used to filter elements from an iterable.\n",
    "\"\"\"The filter() function in Python is used for filtering elements from an iterable (such as a list, tuple, or other iterable objects) based on a specified condition or predicate function.\n",
    "It creates a new iterable containing only the elements for which the condition evaluates to True. \n",
    "In essence, it allows you to select elements that meet certain criteria.\"\"\"\n",
    "\n",
    "# Syntax : filter(function, iterable)\n",
    "\n",
    "# Define a list of numbers\n",
    "numbers = [1, 2, 3, 4, 5, 6, 7, 8, 9]\n",
    "\n",
    "# Define a predicate function to check if a number is even\n",
    "def is_even(x):\n",
    "    return x % 2 == 0\n",
    "\n",
    "# Use filter() to filter even numbers from the list\n",
    "even_numbers = filter(is_even, numbers)\n",
    "\n",
    "# Convert the result to a list to see the even numbers\n",
    "even_numbers_list = list(even_numbers)\n",
    "\n",
    "# Print the even numbers\n",
    "print(even_numbers_list)\n"
   ]
  },
  {
   "cell_type": "code",
   "execution_count": 20,
   "id": "b0b4c024",
   "metadata": {},
   "outputs": [
    {
     "name": "stdout",
     "output_type": "stream",
     "text": [
      "[2, 4, 6, 8]\n"
     ]
    }
   ],
   "source": [
    "# 2. Write a Python program that uses the `filter()` function to select even numbers from a list of integers.\n",
    "\n",
    "# Define a list of numbers\n",
    "numbers = [1, 2, 3, 4, 5, 6, 7, 8, 9]\n",
    "\n",
    "# Define a predicate function to check if a number is even\n",
    "def is_even(x):\n",
    "    return x % 2 == 0\n",
    "\n",
    "# Use filter() to select even numbers from the list\n",
    "even_numbers = filter(is_even, numbers)\n",
    "\n",
    "# Convert the result to a list to see the even numbers\n",
    "even_numbers_list = list(even_numbers)\n",
    "\n",
    "# Print the even numbers\n",
    "print(even_numbers_list)\n"
   ]
  },
  {
   "cell_type": "code",
   "execution_count": 21,
   "id": "5764958b",
   "metadata": {},
   "outputs": [
    {
     "name": "stdout",
     "output_type": "stream",
     "text": [
      "['David']\n"
     ]
    }
   ],
   "source": [
    "# 3. Create a Python program that uses the `filter()` function to select names that start with a specific letter from a list of strings.\n",
    "\n",
    "# Define a list of names\n",
    "names = [\"Alice\", \"Bob\", \"Charlie\", \"David\", \"Eve\"]\n",
    "\n",
    "# Define the specific letter to filter by\n",
    "start_letter = \"D\"\n",
    "\n",
    "# Define a predicate function to check if a name starts with the specific letter\n",
    "def starts_with_letter(name):\n",
    "    return name.startswith(start_letter)\n",
    "\n",
    "# Use filter() to select names that start with the specific letter\n",
    "selected_names = filter(starts_with_letter, names)\n",
    "\n",
    "# Convert the result to a list to see the selected names\n",
    "selected_names_list = list(selected_names)\n",
    "\n",
    "# Print the selected names\n",
    "print(selected_names_list)\n"
   ]
  },
  {
   "cell_type": "code",
   "execution_count": 22,
   "id": "0a5a7881",
   "metadata": {},
   "outputs": [
    {
     "name": "stdout",
     "output_type": "stream",
     "text": [
      "[2, 3, 5, 7, 11, 13, 17, 19]\n"
     ]
    }
   ],
   "source": [
    "# 4. Write a Python program that uses the `filter()` function to select prime numbers from a list of integers.\n",
    "\n",
    "# Define a list of numbers\n",
    "numbers = [2, 3, 5, 7, 11, 12, 13, 17, 19, 20]\n",
    "\n",
    "# Define a predicate function to check if a number is prime\n",
    "def is_prime(n):\n",
    "    if n <= 1:\n",
    "        return False\n",
    "    if n <= 3:\n",
    "        return True\n",
    "    if n % 2 == 0 or n % 3 == 0:\n",
    "        return False\n",
    "    i = 5\n",
    "    while i * i <= n:\n",
    "        if n % i == 0 or n % (i + 2) == 0:\n",
    "            return False\n",
    "        i += 6\n",
    "    return True\n",
    "\n",
    "# Use filter() to select prime numbers from the list\n",
    "prime_numbers = filter(is_prime, numbers)\n",
    "\n",
    "# Convert the result to a list to see the prime numbers\n",
    "prime_numbers_list = list(prime_numbers)\n",
    "\n",
    "# Print the prime numbers\n",
    "print(prime_numbers_list)\n"
   ]
  },
  {
   "cell_type": "code",
   "execution_count": 23,
   "id": "8f484642",
   "metadata": {},
   "outputs": [
    {
     "name": "stdout",
     "output_type": "stream",
     "text": [
      "[1, 2, 3, 4, 5]\n"
     ]
    }
   ],
   "source": [
    "# 5. How can you use the `filter()` function to remove None values from a list in Python?\n",
    "\n",
    "# Define a list with None values\n",
    "values = [1, None, 2, None, 3, 4, None, 5]\n",
    "\n",
    "# Define a predicate function to filter out None values\n",
    "def remove_none(value):\n",
    "    return value is not None\n",
    "\n",
    "# Use filter() to remove None values from the list\n",
    "filtered_values = filter(remove_none, values)\n",
    "\n",
    "# Convert the result to a list to see the filtered values\n",
    "filtered_values_list = list(filtered_values)\n",
    "\n",
    "# Print the filtered values\n",
    "print(filtered_values_list)\n"
   ]
  },
  {
   "cell_type": "code",
   "execution_count": 24,
   "id": "61f90251",
   "metadata": {},
   "outputs": [
    {
     "name": "stdout",
     "output_type": "stream",
     "text": [
      "['banana', 'cherry']\n"
     ]
    }
   ],
   "source": [
    "# 6. Create a Python program that uses `filter()` to select words longer than a certain length from a list of strings.\n",
    "\n",
    "# Define a list of strings\n",
    "words = [\"apple\", \"banana\", \"cherry\", \"date\", \"fig\", \"grape\", \"kiwi\"]\n",
    "\n",
    "# Define the minimum word length to filter by\n",
    "min_length = 5\n",
    "\n",
    "# Define a predicate function to check if a word is longer than the minimum length\n",
    "def is_long_word(word):\n",
    "    return len(word) > min_length\n",
    "\n",
    "# Use filter() to select long words from the list\n",
    "long_words = filter(is_long_word, words)\n",
    "\n",
    "# Convert the result to a list to see the long words\n",
    "long_words_list = list(long_words)\n",
    "\n",
    "# Print the long words\n",
    "print(long_words_list)\n"
   ]
  },
  {
   "cell_type": "code",
   "execution_count": 25,
   "id": "827ef89e",
   "metadata": {},
   "outputs": [
    {
     "name": "stdout",
     "output_type": "stream",
     "text": [
      "[20, 25]\n"
     ]
    }
   ],
   "source": [
    "# 7. Write a Python program that uses the `filter()` function to select elements greater than a specified threshold from a list of values.\n",
    "\n",
    "# Define a list of values\n",
    "values = [12, 8, 15, 7, 20, 10, 25]\n",
    "\n",
    "# Define the threshold value to filter by\n",
    "threshold = 15\n",
    "\n",
    "# Define a predicate function to check if a value is greater than the threshold\n",
    "def is_greater_than_threshold(value):\n",
    "    return value > threshold\n",
    "\n",
    "# Use filter() to select values greater than the threshold from the list\n",
    "selected_values = filter(is_greater_than_threshold, values)\n",
    "\n",
    "# Convert the result to a list to see the selected values\n",
    "selected_values_list = list(selected_values)\n",
    "\n",
    "# Print the selected values\n",
    "print(selected_values_list)\n"
   ]
  },
  {
   "cell_type": "markdown",
   "id": "6c19207e",
   "metadata": {},
   "source": [
    "# Recursion:-"
   ]
  },
  {
   "cell_type": "code",
   "execution_count": 26,
   "id": "2c3bea51",
   "metadata": {},
   "outputs": [],
   "source": [
    "# 1. Explain the concept of recursion in Python. How does it differ from iteration?\n",
    "\"\"\"Recursion:\n",
    "Recursion is a programming technique where a function calls itself to solve a problem. In a recursive function, the problem is divided into smaller subproblems of the same type, and the function is called recursively on these subproblems.\n",
    "Each recursive call works on a smaller instance of the problem until a base case is reached, at which point the recursion stops and the results are combined to solve the original problem.\"\"\"\n",
    "\n",
    "def factorial(n):\n",
    "    if n == 0:\n",
    "        return 1\n",
    "    else:\n",
    "        return n * factorial(n - 1)\n",
    "\"\"\"Iteration:\n",
    "Iteration is a programming technique where a loop is used to repeatedly execute a block of code until a specific condition is met.\n",
    "In iterative solutions, you use loops like for and while to perform a task repeatedly.\"\"\"\n",
    "\n",
    "def factorial(n):\n",
    "    result = 1\n",
    "    for i in range(1, n + 1):\n",
    "        result *= i\n",
    "    return result\n",
    "\"\"\"Differences between Recursion and Iteration:\n",
    "\n",
    "Control Flow: In recursion, control flows back to the calling function with each recursive call. In iteration, control stays within the loop until the loop condition is met.\n",
    "\n",
    "Memory Usage: Recursion can use more memory due to each function call creating a new function context. Iteration typically uses a constant amount of memory.\n",
    "\n",
    "Readability: Recursion can lead to elegant and concise code for certain problems, but it can also be harder to understand and debug. Iteration is often more explicit and easier to read.\n",
    "\n",
    "Tail Recursion: Some languages, like Python, don't optimize tail recursion (where the recursive call is the last operation in the function). This can lead to stack overflow errors for deep recursive calls. \n",
    "Iteration doesn't suffer from this issue.\"\"\"\n"
   ]
  },
  {
   "cell_type": "code",
   "execution_count": 27,
   "id": "31e9065f",
   "metadata": {},
   "outputs": [
    {
     "name": "stdout",
     "output_type": "stream",
     "text": [
      "Enter a non-negative integer: 5\n",
      "The factorial of 5 is: 120\n"
     ]
    }
   ],
   "source": [
    "# 2. Write a Python program to calculate the factorial of a number using recursion.\n",
    "\n",
    "def factorial(n):\n",
    "    if n == 0:\n",
    "        return 1\n",
    "    else:\n",
    "        return n * factorial(n-1)\n",
    "    \n",
    "num = int(input(\"Enter a non-negative integer: \"))\n",
    "\n",
    "if num < 0:\n",
    "    print(\"Enter a valid number.\")\n",
    "    \n",
    "else:\n",
    "    result = factorial(num)\n",
    "    print(f\"The factorial of {num} is:\", result)"
   ]
  },
  {
   "cell_type": "code",
   "execution_count": 28,
   "id": "8319fb8a",
   "metadata": {},
   "outputs": [
    {
     "name": "stdout",
     "output_type": "stream",
     "text": [
      "Enter a non-negative integer n: 5\n",
      "The 5th Fibonacci number is: 5\n"
     ]
    }
   ],
   "source": [
    "# 3. Create a recursive Python function to find the nth Fibonacci number.\n",
    "\n",
    "def fibonacci(n):\n",
    "    if n <= 0:\n",
    "        return 0\n",
    "    elif n == 1:\n",
    "        return 1\n",
    "    else:\n",
    "        return fibonacci(n-1) + fibonacci(n-2)\n",
    "    \n",
    "n = int(input(\"Enter a non-negative integer n: \"))\n",
    "\n",
    "if n < 0:\n",
    "    print(\"Please enter a non-negative integer.\")\n",
    "else:\n",
    "    result = fibonacci(n)\n",
    "    print(f\"The {n}th Fibonacci number is:\", result)\n",
    "\n"
   ]
  },
  {
   "cell_type": "code",
   "execution_count": 29,
   "id": "94dceec5",
   "metadata": {},
   "outputs": [
    {
     "name": "stdout",
     "output_type": "stream",
     "text": [
      "Enter a list of numbers separated by spaces: 4 4 5 5 6 7 8\n",
      "The sum of the numbers in the list is: 39\n"
     ]
    }
   ],
   "source": [
    "# 4. Write a recursive Python function to calculate the sum of all elements in a list.\n",
    "\n",
    "def recursive_sum(lst):\n",
    "    if not lst:\n",
    "        return 0\n",
    "    else:\n",
    "        return lst[0] + recursive_sum(lst[1:])\n",
    "\n",
    "# Input a list of numbers from the user\n",
    "numbers = [int(x) for x in input(\"Enter a list of numbers separated by spaces: \").split()]\n",
    "\n",
    "result = recursive_sum(numbers)\n",
    "print(f\"The sum of the numbers in the list is:\", result)\n"
   ]
  },
  {
   "cell_type": "code",
   "execution_count": null,
   "id": "080d8533",
   "metadata": {},
   "outputs": [],
   "source": [
    "# 5. How can you prevent a recursive function from running indefinitely, causing a stack overflow error?\n",
    "\n",
    "\"\"\"To prevent a recursive function from running indefinitely and causing a stack overflow error, you should implement proper termination conditions and ensure that the function progresses toward those conditions. Here are some key steps to prevent infinite recursion:\n",
    "\n",
    "Base Case: Define a base case in your recursive function. The base case represents a condition under which the recursion should stop. Ensure that the base case is reachable and that it leads to a return statement. This is crucial to break the recursion.\n",
    "\n",
    "Progress Toward Base Case: In each recursive call, make sure that you're moving closer to the base case. This typically involves reducing the size of the problem or moving toward a known solution. If your recursion doesn't make progress toward the base case, it can run indefinitely.\n",
    "\n",
    "Guard Clauses: Use guard clauses or conditionals to check for invalid or unexpected inputs before starting the recursive process. This can help catch issues early and avoid unnecessary recursion.\n",
    "\n",
    "Limit Depth: Implement a depth limit or recursion depth check if applicable. For example, you can use a counter or a maximum depth parameter to limit the number of recursive calls.\"\"\""
   ]
  },
  {
   "cell_type": "code",
   "execution_count": 31,
   "id": "e9f1243a",
   "metadata": {},
   "outputs": [
    {
     "name": "stdout",
     "output_type": "stream",
     "text": [
      "Enter the first positive integer: 4\n",
      "Enter the second positive integer: 5\n",
      "The GCD of 4 and 5 is: 1\n"
     ]
    }
   ],
   "source": [
    "# 6. Create a recursive Python function to find the greatest common divisor (GCD) of two numbers using the Euclidean algorithm.\n",
    "\n",
    "def gcd(a, b):\n",
    "    if b == 0:\n",
    "        return a\n",
    "    else:\n",
    "        return gcd(b, a % b)\n",
    "        \n",
    "num1 = int(input(\"Enter the first positive integer: \"))\n",
    "num2 = int(input(\"Enter the second positive integer: \"))\n",
    "\n",
    "\n",
    "if num1 <= 0 or num2 <= 0:\n",
    "    print(\"Please enter positive integers.\")\n",
    "else:\n",
    "    result = gcd(num1, num2)\n",
    "    print(f\"The GCD of {num1} and {num2} is:\", result)"
   ]
  },
  {
   "cell_type": "code",
   "execution_count": 32,
   "id": "07593d82",
   "metadata": {},
   "outputs": [
    {
     "name": "stdout",
     "output_type": "stream",
     "text": [
      "Enter a string: vikas\n",
      "Reversed string:  sakiv\n"
     ]
    }
   ],
   "source": [
    "# 7. Write a recursive Python function to reverse a string.\n",
    "\n",
    "def reverse_string(s):\n",
    "    if len(s) == 0:\n",
    "        return s\n",
    "    else:\n",
    "        return reverse_string(s[1:]) + s[0]\n",
    "    \n",
    "input_string = input(\"Enter a string: \")\n",
    "\n",
    "reversed_string = reverse_string(input_string)\n",
    "\n",
    "print(\"Reversed string: \", reversed_string)"
   ]
  },
  {
   "cell_type": "code",
   "execution_count": 33,
   "id": "047741f1",
   "metadata": {},
   "outputs": [
    {
     "name": "stdout",
     "output_type": "stream",
     "text": [
      "Enter the base (x): 4\n",
      "Enter the exponent (n): 4\n",
      "4.0 raised to the power of 4 is: 256.0\n"
     ]
    }
   ],
   "source": [
    "# 8. Create a recursive Python function to calculate the power of a number (x^n).\n",
    "\n",
    "def power(x, n):\n",
    "    if n == 0:\n",
    "        return 1\n",
    "    elif n < 0:\n",
    "        return 1 / power(x, -n)\n",
    "    else:\n",
    "        return x * power(x, n-1)\n",
    "\n",
    "x = float(input(\"Enter the base (x): \"))\n",
    "n = int(input(\"Enter the exponent (n): \"))\n",
    "\n",
    "result = power(x, n)\n",
    "\n",
    "print(f\"{x} raised to the power of {n} is:\", result)"
   ]
  },
  {
   "cell_type": "code",
   "execution_count": 34,
   "id": "c4ec1d72",
   "metadata": {},
   "outputs": [
    {
     "name": "stdout",
     "output_type": "stream",
     "text": [
      "Enter a string: vikas\n",
      "Permutations:\n",
      "vikas\n",
      "viksa\n",
      "viaks\n",
      "viask\n",
      "viska\n",
      "visak\n",
      "vkias\n",
      "vkisa\n",
      "vkais\n",
      "vkasi\n",
      "vksia\n",
      "vksai\n",
      "vaiks\n",
      "vaisk\n",
      "vakis\n",
      "vaksi\n",
      "vasik\n",
      "vaski\n",
      "vsika\n",
      "vsiak\n",
      "vskia\n",
      "vskai\n",
      "vsaik\n",
      "vsaki\n",
      "ivkas\n",
      "ivksa\n",
      "ivaks\n",
      "ivask\n",
      "ivska\n",
      "ivsak\n",
      "ikvas\n",
      "ikvsa\n",
      "ikavs\n",
      "ikasv\n",
      "iksva\n",
      "iksav\n",
      "iavks\n",
      "iavsk\n",
      "iakvs\n",
      "iaksv\n",
      "iasvk\n",
      "iaskv\n",
      "isvka\n",
      "isvak\n",
      "iskva\n",
      "iskav\n",
      "isavk\n",
      "isakv\n",
      "kvias\n",
      "kvisa\n",
      "kvais\n",
      "kvasi\n",
      "kvsia\n",
      "kvsai\n",
      "kivas\n",
      "kivsa\n",
      "kiavs\n",
      "kiasv\n",
      "kisva\n",
      "kisav\n",
      "kavis\n",
      "kavsi\n",
      "kaivs\n",
      "kaisv\n",
      "kasvi\n",
      "kasiv\n",
      "ksvia\n",
      "ksvai\n",
      "ksiva\n",
      "ksiav\n",
      "ksavi\n",
      "ksaiv\n",
      "aviks\n",
      "avisk\n",
      "avkis\n",
      "avksi\n",
      "avsik\n",
      "avski\n",
      "aivks\n",
      "aivsk\n",
      "aikvs\n",
      "aiksv\n",
      "aisvk\n",
      "aiskv\n",
      "akvis\n",
      "akvsi\n",
      "akivs\n",
      "akisv\n",
      "aksvi\n",
      "aksiv\n",
      "asvik\n",
      "asvki\n",
      "asivk\n",
      "asikv\n",
      "askvi\n",
      "askiv\n",
      "svika\n",
      "sviak\n",
      "svkia\n",
      "svkai\n",
      "svaik\n",
      "svaki\n",
      "sivka\n",
      "sivak\n",
      "sikva\n",
      "sikav\n",
      "siavk\n",
      "siakv\n",
      "skvia\n",
      "skvai\n",
      "skiva\n",
      "skiav\n",
      "skavi\n",
      "skaiv\n",
      "savik\n",
      "savki\n",
      "saivk\n",
      "saikv\n",
      "sakvi\n",
      "sakiv\n"
     ]
    }
   ],
   "source": [
    "# 9. Write a recursive Python function to find all permutations of a given string.\n",
    "\n",
    "def get_permutations(s):\n",
    "    if len(s) <= 1:\n",
    "        return [s]\n",
    "\n",
    "    permutations = []\n",
    "    for i, char in enumerate(s):\n",
    "        # Fix one character (char) and find permutations of the remaining characters\n",
    "        remaining_chars = s[:i] + s[i+1:]\n",
    "        for perm in get_permutations(remaining_chars):\n",
    "            permutations.append(char + perm)\n",
    "\n",
    "    return permutations\n",
    "\n",
    "# Input a string from the user\n",
    "input_string = input(\"Enter a string: \")\n",
    "\n",
    "# Call the recursive function to find permutations\n",
    "result = get_permutations(input_string)\n",
    "\n",
    "# Print the permutations\n",
    "print(\"Permutations:\")\n",
    "for perm in result:\n",
    "    print(perm)\n"
   ]
  },
  {
   "cell_type": "code",
   "execution_count": 35,
   "id": "fbb156ac",
   "metadata": {},
   "outputs": [
    {
     "name": "stdout",
     "output_type": "stream",
     "text": [
      "Enter a string: vikas\n",
      "'vikas' is not a palindrome.\n"
     ]
    }
   ],
   "source": [
    "# 10. Write a recursive Python function to check if a string is a palindrome.\n",
    "\n",
    "def is_palindrome(s):\n",
    "    # Base case: If the string is empty or has only one character, it's a palindrome\n",
    "    if len(s) <= 1:\n",
    "        return True\n",
    "\n",
    "    # Compare the first and last characters\n",
    "    if s[0] == s[-1]:\n",
    "        # Recursively check if the substring without the first and last characters is a palindrome\n",
    "        return is_palindrome(s[1:-1])\n",
    "    else:\n",
    "        return False\n",
    "\n",
    "# Input a string from the user\n",
    "input_string = input(\"Enter a string: \")\n",
    "\n",
    "# Call the recursive function to check if it's a palindrome\n",
    "result = is_palindrome(input_string)\n",
    "\n",
    "# Print the result\n",
    "if result:\n",
    "    print(f\"'{input_string}' is a palindrome.\")\n",
    "else:\n",
    "    print(f\"'{input_string}' is not a palindrome.\")\n"
   ]
  },
  {
   "cell_type": "code",
   "execution_count": 37,
   "id": "93a76af0",
   "metadata": {},
   "outputs": [
    {
     "name": "stdout",
     "output_type": "stream",
     "text": [
      "Enter elements separated by spaces: vikas\n",
      "Enter the combination length (k): 5\n",
      "Combinations of length 5:\n"
     ]
    }
   ],
   "source": [
    "# 11. Create a recursive Python function to generate all possible combinations of a list of elements.\n",
    "\n",
    "def get_combinations(lst, k):\n",
    "    if k == 0:\n",
    "        return [[]]\n",
    "    if not lst:\n",
    "        return []\n",
    "\n",
    "    # Generate combinations that include the first element\n",
    "    combinations_with_first = [\n",
    "        [lst[0]] + combo\n",
    "        for combo in get_combinations(lst[1:], k - 1)\n",
    "    ]\n",
    "\n",
    "    # Generate combinations that do not include the first element\n",
    "    combinations_without_first = get_combinations(lst[1:], k)\n",
    "\n",
    "    return combinations_with_first + combinations_without_first\n",
    "\n",
    "# Input a list of elements from the user\n",
    "elements = input(\"Enter elements separated by spaces: \").split()\n",
    "k = int(input(\"Enter the combination length (k): \"))\n",
    "\n",
    "# Call the recursive function to get combinations\n",
    "combinations = get_combinations(elements, k)\n",
    "\n",
    "# Print the combinations\n",
    "print(f\"Combinations of length {k}:\")\n",
    "for combo in combinations:\n",
    "    print(combo)\n"
   ]
  },
  {
   "cell_type": "markdown",
   "id": "2efa44eb",
   "metadata": {},
   "source": [
    "# Basics of Functions:"
   ]
  },
  {
   "cell_type": "code",
   "execution_count": 39,
   "id": "8de8646b",
   "metadata": {},
   "outputs": [
    {
     "data": {
      "text/plain": [
       "' A function is a block of reusable code that performs a specific task or a set of tasks.\\nFunctions are fundamental building blocks of Python programs, and they serve several important purposes:\\nfunctions in Python are used to encapsulate reusable code, promote modularity, improve code organization, and simplify the development and maintenance of Python programs.\\nThey are a fundamental concept in Python and in many other programming languages.'"
      ]
     },
     "execution_count": 39,
     "metadata": {},
     "output_type": "execute_result"
    }
   ],
   "source": [
    "# 1. What is a function in Python, and why is it used?\n",
    "\"\"\" A function is a block of reusable code that performs a specific task or a set of tasks.\n",
    "Functions are fundamental building blocks of Python programs, and they serve several important purposes:\n",
    "functions in Python are used to encapsulate reusable code, promote modularity, improve code organization, and simplify the development and maintenance of Python programs.\n",
    "They are a fundamental concept in Python and in many other programming languages.\"\"\""
   ]
  },
  {
   "cell_type": "code",
   "execution_count": 41,
   "id": "96eccc2f",
   "metadata": {},
   "outputs": [],
   "source": [
    "# 2. How do you define a function in Python? Provide an example.\n",
    "def function_name(parameters):\n",
    "    \"\"\"Optional docstring describing the function.\"\"\"\n",
    "    # Function code goes here\n",
    "    # ...\n",
    "    return result  # Optional return statement\n",
    "\n",
    "\"\"\"def: The def keyword is used to define a function.\n",
    "function_name: This is the name of the function, which should follow Python's naming conventions (typically lowercase with words separated by underscores).\n",
    "parameters: These are optional input values or arguments that the function can accept. You can have zero or more parameters.\n",
    "docstring: An optional docstring enclosed in triple quotes (\"\") provides a description of the function's purpose and usage. It's a good practice to include informative docstrings for your functions.\n",
    "Function code: This is where you define the operations or calculations that the function should perform.\n",
    "return: An optional return statement is used to specify the value that the function should return. If omitted, the function returns None.\n",
    "Here's an example of a simple Python function:\n",
    "\"\"\" \n",
    "\n",
    "def add_numbers(a, b):\n",
    "    \"\"\"This function adds two numbers.\"\"\"\n",
    "    result = a + b\n",
    "    return result\n",
    "\n",
    "\n",
    "\n"
   ]
  },
  {
   "cell_type": "code",
   "execution_count": null,
   "id": "9f102b71",
   "metadata": {},
   "outputs": [],
   "source": [
    "# 3. Explain the difference between a function definition and a function call.\n",
    "\"\"\"Function Definition:\n",
    "1. Purpose: A function definition is a block of code that defines what a function does. \n",
    "It specifies the name of the function, the parameters it accepts, and the operations it performs.\n",
    "2. Syntax: A function definition starts with the def keyword, followed by the function name, a pair of parentheses containing zero or more parameters, and a colon (:).\n",
    "The function body is indented beneath the def line.\n",
    "\n",
    "3. Role: The role of a function definition is to create a reusable function that can be called from various parts of the program.\n",
    "\"\"\"\n",
    "\n",
    "#Example:\n",
    "def add(a, b):\n",
    "    \"\"\"This function adds two numbers.\"\"\"\n",
    "    result = a + b\n",
    "    return result\n",
    "\"\"\"\n",
    "Function Call (Invocation):\n",
    "1. Purpose: A function call, also known as a function invocation, is an instruction to execute a specific function with specified arguments (if any). \n",
    "It triggers the execution of the code defined within the function.\n",
    "2. Syntax: A function call consists of the function name followed by a pair of parentheses containing zero or more arguments (values or expressions) separated by commas.\n",
    "3. Role: The role of a function call is to execute the code within the function and, if applicable, pass values to the function's parameters.\n",
    "\"\"\"\n",
    "#Example:\n",
    "result = add(3, 4)  # Calling the 'add' function with arguments 3 and 4\n",
    "\n",
    "\"\"\"In summary, the main difference between a function definition and a function call is that a function definition defines the structure and behavior of a function,\n",
    "while a function call executes that function with specific input values. \n",
    "Think of the function definition as a blueprint for what the function does, and the function call as the actual use of that blueprint to perform a specific task.\n",
    "\n",
    "Here's a simple analogy: If you imagine a recipe as a function definition (it tells you what ingredients and steps are needed to make a dish), \n",
    "then actually cooking that dish using the recipe is like making a function call (you follow the instructions with specific ingredients to produce a meal).\"\"\"\n"
   ]
  },
  {
   "cell_type": "code",
   "execution_count": 42,
   "id": "b23d9cb9",
   "metadata": {},
   "outputs": [
    {
     "name": "stdout",
     "output_type": "stream",
     "text": [
      "Enter the first number: 45\n",
      "Enter the second number: 56\n",
      "The sum of 45.0 and 56.0 is: 101.0\n"
     ]
    }
   ],
   "source": [
    "# 4. Write a Python program that defines a function to calculate the sum of two numbers and then calls the function.\n",
    "\n",
    "def add_numbers(a,b):\n",
    "    result = a + b\n",
    "    return result\n",
    "\n",
    "num1 = float(input(\"Enter the first number: \"))\n",
    "num2 = float(input(\"Enter the second number: \"))\n",
    "\n",
    "sum_result = add_numbers(num1, num2)\n",
    "\n",
    "print(f\"The sum of {num1} and {num2} is: {sum_result}\")"
   ]
  },
  {
   "cell_type": "code",
   "execution_count": null,
   "id": "3ab3ef80",
   "metadata": {},
   "outputs": [],
   "source": [
    "# 5. What is a function signature, and what information does it typically include?\n",
    "\"\"\"A function signature, also known as a function prototype or function declaration, is a declaration that provides essential information about a function without specifying the actual implementation of the function's code. It typically includes the following information:\n",
    "\n",
    "1. Function Name: The name of the function, which serves as its identifier. This is the name you use when calling the function.\n",
    "\n",
    "2. Return Type: The data type of the value that the function returns after it is executed. This can be any valid Python data type, such as int, float, str, list, tuple, or None (if the function doesn't return a value).\n",
    "\n",
    "3. Parameters/Arguments: The list of input values or parameters that the function accepts. Each parameter is specified with its name and data type. Parameters are enclosed in parentheses and separated by commas.\n",
    "\n",
    "4. Optional Docstring: An optional documentation string (docstring) that describes the purpose of the function, its behavior, and how to use it. This is enclosed in triple quotes (\"\") and is commonly used to provide helpful information to users of the function.\"\"\"\n",
    "\n",
    "#syntax for a function signature:\n",
    "\n",
    "def function_name(parameter1: data_type1, parameter2: data_type2, ...) -> return_type:\n",
    "    \"\"\"Optional docstring.\"\"\"\n",
    "    # Function code goes here\n",
    "    # ...\n",
    "    \n",
    "# example of a function signature with explanations:\n",
    "\n",
    "def calculate_average(numbers: list) -> float:\n",
    "    \"\"\"This function calculates the average of a list of numbers.\"\"\"\n",
    "    # Function code goes here\n",
    "    # ...\n",
    "    return result\n",
    "\n",
    "\"\"\"Function signatures are essential for documenting and communicating how a function should be used by other programmers.\n",
    "They serve as a contract that defines the function's interface, specifying what inputs it expects and what output it produces. \n",
    "This information helps developers understand how to use the function correctly and what to expect from it, even if they don't know the details of its implementation.\"\"\""
   ]
  },
  {
   "cell_type": "code",
   "execution_count": 64,
   "id": "e3c047d5",
   "metadata": {},
   "outputs": [
    {
     "name": "stdout",
     "output_type": "stream",
     "text": [
      "The product of 5 and 3 is: 15\n"
     ]
    }
   ],
   "source": [
    "# 6. Create a Python function that takes two arguments and returns their product.\n",
    "\n",
    "def multiply(a, b):\n",
    "    result = a * b\n",
    "    return result\n",
    "\n",
    "# Example usage:\n",
    "num1 = 5\n",
    "num2 = 3\n",
    "product = multiply(num1, num2)\n",
    "print(f\"The product of {num1} and {num2} is: {product}\")\n"
   ]
  },
  {
   "cell_type": "markdown",
   "id": "069b05b8",
   "metadata": {},
   "source": [
    "# Function Parameters and Arguments:"
   ]
  },
  {
   "cell_type": "code",
   "execution_count": 44,
   "id": "5cd33fc3",
   "metadata": {},
   "outputs": [],
   "source": [
    "# 1. Explain the concepts of formal parameters and actual arguments in Python functions.\n",
    "\"\"\"there are two important concepts related to function parameters: formal parameters and actual arguments. These concepts help define the function's interface and how data is passed into a function\"\"\"\n"
   ]
  },
  {
   "cell_type": "code",
   "execution_count": 65,
   "id": "192fd36d",
   "metadata": {},
   "outputs": [
    {
     "name": "stdout",
     "output_type": "stream",
     "text": [
      "Hello, Guest!\n",
      "Hello, Alice!\n"
     ]
    }
   ],
   "source": [
    "# 2. Write a Python program that defines a function with default argument values.\n",
    "def greet(name=\"Guest\"):\n",
    "    \"\"\"This function greets a person with a default name 'Guest' if no name is provided.\"\"\"\n",
    "    print(f\"Hello, {name}!\")\n",
    "\n",
    "# Calling the function with and without an argument\n",
    "greet()  # Using the default argument value\n",
    "greet(\"Alice\")  # Providing a custom name as an argument\n",
    "\n"
   ]
  },
  {
   "cell_type": "code",
   "execution_count": 66,
   "id": "d633c7b3",
   "metadata": {},
   "outputs": [
    {
     "name": "stdout",
     "output_type": "stream",
     "text": [
      "Name: Alice\n",
      "Age: 30\n",
      "City: New York\n",
      "Name: Bob\n",
      "Age: 25\n",
      "City: San Francisco\n"
     ]
    }
   ],
   "source": [
    "# 3. How do you use keyword arguments in Python function calls? Provide an example.\n",
    "\"\"\"In Python, you can use keyword arguments in function calls to specify which argument corresponds to which parameter by name.\n",
    "This provides clarity and flexibility, especially when calling functions with a large number of arguments or when you want to skip some arguments and provide values only for specific parameters.\"\"\"\n",
    "\n",
    "def display_info(name, age, city):\n",
    "    \"\"\"This function displays information about a person.\"\"\"\n",
    "    print(f\"Name: {name}\")\n",
    "    print(f\"Age: {age}\")\n",
    "    print(f\"City: {city}\")\n",
    "\n",
    "# Using keyword arguments to call the function\n",
    "display_info(name=\"Alice\", age=30, city=\"New York\")\n",
    "\n",
    "# You can also mix positional and keyword arguments\n",
    "display_info(\"Bob\", city=\"San Francisco\", age=25)\n"
   ]
  },
  {
   "cell_type": "code",
   "execution_count": 67,
   "id": "c20ed68b",
   "metadata": {},
   "outputs": [
    {
     "name": "stdout",
     "output_type": "stream",
     "text": [
      "Result 1: 6\n",
      "Result 2: 150\n"
     ]
    }
   ],
   "source": [
    "# 4. Create a Python function that accepts a variable number of arguments and calculates their sum.\n",
    "\n",
    "def calculate_sum(*args):\n",
    "    \"\"\"This function calculates the sum of a variable number of arguments.\"\"\"\n",
    "    total = sum(args)\n",
    "    return total\n",
    "\n",
    "# Call the function with different numbers of arguments\n",
    "result1 = calculate_sum(1, 2, 3)\n",
    "result2 = calculate_sum(10, 20, 30, 40, 50)\n",
    "\n",
    "# Print the results\n",
    "print(f\"Result 1: {result1}\")\n",
    "print(f\"Result 2: {result2}\")\n"
   ]
  },
  {
   "cell_type": "code",
   "execution_count": 48,
   "id": "495d3716",
   "metadata": {},
   "outputs": [],
   "source": [
    "# 5. What is the purpose of the `*args` and `**kwargs` syntax in function parameter lists?\n",
    "\n",
    "\"\"\"In Python, *args and **kwargs are special syntax used in function parameter lists to handle a variable number of arguments and keyword arguments, respectively. They provide flexibility when defining functions that can accept different numbers of arguments or keyword-value pairs. \n",
    "Here's what each of them does:\n",
    "1. *args (Arbitrary Positional Arguments):\n",
    "\n",
    "1. Purpose: The *args syntax allows a function to accept a variable number of positional arguments. These arguments are gathered into a tuple within the function, which you can then iterate through or use in various ways.\n",
    "2. Syntax: *args is used as a parameter in the function definition. It collects any number of positional arguments passed to the function and stores them as a tuple.\"\"\"\n",
    "\n",
    "# example\n",
    "def calculate_sum(*args):\n",
    "    total = sum(args)\n",
    "    return total\n",
    "calculate_sum(1, 2, 3)\n",
    "\n",
    "\"\"\"\n",
    "2. **kwargs (Arbitrary Keyword Arguments):\n",
    "\n",
    "1. Purpose: The **kwargs syntax allows a function to accept a variable number of keyword arguments. These arguments are gathered into a dictionary within the function, where the keys are the argument names, and the values are the corresponding values passed.\n",
    "2. Syntax: **kwargs is used as a parameter in the function definition. It collects any number of keyword arguments and stores them as a dictionary.\n",
    "\"\"\"\n",
    "\n",
    "# Example:\n",
    "def print_info(**kwargs):\n",
    "    for key, value in kwargs.items():\n",
    "        print(f\"{key}: {value}\")\n",
    "print_info(name=\"Alice\", age=30, city=\"New York\")  # Prints key-value pairs\n",
    "\n",
    "\"\"\"\n",
    "The main purposes of *args and **kwargs are flexibility and adaptability:\n",
    "\n",
    "1. *args allows you to create functions that accept any number of positional arguments, making them more versatile. This is particularly useful when you don't know in advance how many arguments will be passed.\n",
    "\n",
    "2. **kwargs allows you to accept any number of keyword arguments, which can be useful when you want to provide named arguments with values. It's commonly used in functions that take optional configuration parameters.\n",
    "\n",
    "These features are particularly handy when designing functions for a wide range of use cases or when creating higher-order functions that can accept and pass through arguments to other functions without knowing their specific names or values.\n",
    "\n",
    "\"\"\""
   ]
  },
  {
   "cell_type": "markdown",
   "id": "92979649",
   "metadata": {},
   "source": [
    "# Return Values and Scoping:"
   ]
  },
  {
   "cell_type": "code",
   "execution_count": 68,
   "id": "7524f2cb",
   "metadata": {},
   "outputs": [
    {
     "name": "stdout",
     "output_type": "stream",
     "text": [
      "The sum is: 7\n",
      "The grade is: C\n"
     ]
    },
    {
     "data": {
      "text/plain": [
       "\"It's important to note that if a function does not include a return statement, it implicitly returns None. \\nFunctions without a return statement are considered to have a return value of None, which signifies the absence of a meaningful result.\""
      ]
     },
     "execution_count": 68,
     "metadata": {},
     "output_type": "execute_result"
    }
   ],
   "source": [
    "# 1. Describe the role of the `return` statement in Python functions and provide examples.\n",
    "\"\"\"the return statement is used in functions to specify the value that the function should return after its execution. It essentially allows a function to send a result or output back to the caller. The return statement serves several key roles:\n",
    "\n",
    "1. Value Passing: It allows a function to pass data (a value or an object) back to the caller. This returned value can be used in further computations or assigned to variables.\n",
    "\n",
    "2. Termination: When a return statement is encountered in a function, it immediately exits the function, and no further code in the function is executed. This helps control the flow of the program.\n",
    "\n",
    "3. Multiple Returns: A function can have multiple return statements, and the one that gets executed depends on certain conditions or branches within the function. This enables conditional returning of values based on different scenarios.\"\"\"\n",
    "\n",
    "# Example 1:\n",
    "def add(a, b):\n",
    "    result = a + b\n",
    "    return result\n",
    "\n",
    "sum_result = add(3, 4)  # Call the function and store the returned value\n",
    "print(f\"The sum is: {sum_result}\")\n",
    "\n",
    "\n",
    "# Example 2:\n",
    "def get_grade(score):\n",
    "    if score >= 90:\n",
    "        return \"A\"\n",
    "    elif score >= 80:\n",
    "        return \"B\"\n",
    "    elif score >= 70:\n",
    "        return \"C\"\n",
    "    elif score >= 60:\n",
    "        return \"D\"\n",
    "    else:\n",
    "        return \"F\"\n",
    "\n",
    "student_score = 75\n",
    "grade = get_grade(student_score)  # Call the function and store the returned value\n",
    "print(f\"The grade is: {grade}\")\n",
    "\n",
    "\"\"\"It's important to note that if a function does not include a return statement, it implicitly returns None. \n",
    "Functions without a return statement are considered to have a return value of None, which signifies the absence of a meaningful result.\"\"\""
   ]
  },
  {
   "cell_type": "code",
   "execution_count": 50,
   "id": "de3b771b",
   "metadata": {},
   "outputs": [],
   "source": [
    "# 2. Explain the concept of variable scope in Python, including local and global variables.\n",
    "\"\"\"In Python, variable scope refers to the region or context in which a variable is visible and accessible. \n",
    "Understanding variable scope is crucial for managing variables within functions and ensuring that they are used correctly.\n",
    "Python has two main types of variable scope: local and global.\n",
    "\n",
    "1. Local Variable Scope:\n",
    "\n",
    "a. Definition: A local variable is a variable defined within a specific block of code, such as a function.\n",
    "It is only accessible within that block or function and is invisible to code outside of that block.\n",
    "b. Lifetime: Local variables have a limited lifetime, and they are created when the function or block is entered and destroyed when it is exited. \n",
    "This means they do not persist beyond the function's execution.\"\"\"\n",
    "\n",
    "# Example:\n",
    "def my_function():\n",
    "    x = 10  # 'x' is a local variable within the function\n",
    "    print(x)\n",
    "\n",
    "my_function()\n",
    "# 'x' is not accessible here; it's out of scope\n",
    "\n",
    "\"\"\"\n",
    "2. Global Variable Scope:\n",
    "\n",
    "a. Definition: A global variable is a variable defined at the top level of a script or module and is not tied to a specific function or block.\n",
    "It can be accessed from anywhere within the script or module.\n",
    "b. Lifetime: Global variables have a longer lifetime than local variables; they persist as long as the script or module is running.\"\"\"\n",
    "\n",
    "# Example\n",
    "\n",
    "global_var = 20  # 'global_var' is a global variable\n",
    "\n",
    "def my_function():\n",
    "    print(global_var)  # 'global_var' is accessible inside the function\n",
    "\n",
    "my_function()\n",
    "print(global_var)  # 'global_var' is accessible outside the function\n",
    "\n",
    "\"\"\"\n",
    "3. Nested Scopes:\n",
    "\n",
    "a. Python supports nested scopes, where you can have local variables within functions that shadow (temporarily hide) global variables with the same name. \n",
    "In such cases, the local variable takes precedence within its local scope.\n",
    "b. To modify a global variable within a function, you can use the global keyword to indicate that you intend to refer to the global variable, not create a new local variable with the same name.\n",
    "\n",
    "4. LEGB Rule (Local, Enclosing, Global, Built-in):\n",
    "\n",
    "Python follows the LEGB rule when searching for a variable's value:\n",
    "a. Local (L): First, it checks the local scope (inside the current function).\n",
    "b. Enclosing (E): Next, it checks the enclosing or non-local scopes (if any), typically used in nested functions.\n",
    "c. Global (G): Then, it checks the global scope (at the top level of the script or module).\n",
    "d. Built-in (B): Finally, it checks the built-in scope, which contains Python's built-in functions and objects.\n",
    "\"\"\"\n",
    "\n",
    "# example illustrating variable scope:\n",
    "global_var = 20  # Global variable\n",
    "\n",
    "def my_function():\n",
    "    local_var = 10  # Local variable\n",
    "    print(local_var)  # Accessing the local variable\n",
    "    print(global_var)  # Accessing the global variable\n",
    "\n",
    "my_function()\n",
    "print(global_var)  # Accessing the global variable outside the function\n",
    "\n",
    "\"\"\"\n",
    "variable scope in Python determines where a variable is visible and accessible. \n",
    "Local variables are confined to a specific function or block, while global variables are accessible throughout the script or module. \n",
    "Understanding and managing variable scope is essential for writing clean and maintainable Python code.\n",
    "\"\"\""
   ]
  },
  {
   "cell_type": "code",
   "execution_count": 69,
   "id": "83923a53",
   "metadata": {},
   "outputs": [
    {
     "name": "stdout",
     "output_type": "stream",
     "text": [
      "Inside the function:\n",
      "global_var: 20\n",
      "After modification:\n",
      "global_var: 30\n"
     ]
    }
   ],
   "source": [
    "# 3. Write a Python program that demonstrates the use of global variables within functions.\n",
    "global_var = 20\n",
    "\n",
    "def my_function():\n",
    "    print(\"Inside the function:\")\n",
    "    print(f\"global_var: {global_var}\")\n",
    "    \n",
    "# calling the function\n",
    "my_function()\n",
    "\n",
    "def modify_global():\n",
    "    global global_var\n",
    "    global_var = 30\n",
    "    \n",
    "modify_global()\n",
    "\n",
    "print(\"After modification:\")\n",
    "print(f\"global_var: {global_var}\")\n",
    "\n"
   ]
  },
  {
   "cell_type": "code",
   "execution_count": 70,
   "id": "c6c77452",
   "metadata": {},
   "outputs": [
    {
     "name": "stdout",
     "output_type": "stream",
     "text": [
      "The factorial of 5 is: 120\n"
     ]
    }
   ],
   "source": [
    "# 4. Create a Python function that calculates the factorial of a number and returns it.\n",
    "def factorial(n):\n",
    "    \"\"\"Calculate the factorial of a non-negative integer 'n'.\"\"\"\n",
    "    if n < 0:\n",
    "        return \"Factorial is undefined for negative numbers\"\n",
    "    elif n == 0:\n",
    "        return 1\n",
    "    else:\n",
    "        result = 1\n",
    "        for i in range(1, n + 1):\n",
    "            result *= i\n",
    "        return result\n",
    "\n",
    "# Example usage:\n",
    "num = 5\n",
    "fact = factorial(num)\n",
    "print(f\"The factorial of {num} is: {fact}\")\n"
   ]
  },
  {
   "cell_type": "code",
   "execution_count": 71,
   "id": "0d22143c",
   "metadata": {},
   "outputs": [
    {
     "name": "stdout",
     "output_type": "stream",
     "text": [
      "20\n",
      "30\n",
      "10\n"
     ]
    },
    {
     "data": {
      "text/plain": [
       "\"It's important to note that while global variables can be accessed from within functions, it's considered good practice to limit the use of global variables and use function parameters and return values to pass data between functions whenever possible. This helps improve code readability and maintainability by reducing dependencies on global state.\""
      ]
     },
     "execution_count": 71,
     "metadata": {},
     "output_type": "execute_result"
    }
   ],
   "source": [
    "# 5. How can you access variables defined outside a function from within the function?\n",
    "\"\"\"In Python, you can access variables defined outside a function from within the function by following these methods:\n",
    "\n",
    "1. Direct Access: Variables defined in the global scope (outside all functions) are directly accessible from within functions without any special keywords. Python allows you to read the values of global variables within a function.\"\"\"\n",
    "\n",
    "global_var = 20  # Global variable\n",
    "\n",
    "def my_function():\n",
    "    # Access the global variable within the function\n",
    "    print(global_var)\n",
    "\n",
    "my_function()  # Call the function\n",
    "\n",
    "\"\"\"\n",
    "2. Using the global Keyword: If you want to modify the value of a global variable from within a function, you need to use the global keyword to indicate that you intend to refer to the global variable, not create a new local variable with the same name.\n",
    "\"\"\"\n",
    "\n",
    "global_var = 20  # Global variable\n",
    "\n",
    "def modify_global():\n",
    "    global global_var\n",
    "    global_var = 30  # Modifying the global variable\n",
    "\n",
    "modify_global()  # Call the function to modify the global variable\n",
    "print(global_var)  # Access the modified global variable\n",
    "\n",
    "\"\"\"\n",
    "3. Accessing Enclosing Scope Variables: If you have nested functions (a function defined within another function), you can access variables from the enclosing (outer) function's scope using the nonlocal keyword. \n",
    "This is not for global variables but for variables in the nearest enclosing scope.\n",
    "\"\"\"\n",
    "\n",
    "def outer_function():\n",
    "    outer_var = 10\n",
    "\n",
    "    def inner_function():\n",
    "        nonlocal outer_var\n",
    "        print(outer_var)  # Accessing the outer function's variable\n",
    "\n",
    "    inner_function()\n",
    "\n",
    "outer_function()  # Call the outer function\n",
    "\n",
    "\"\"\"It's important to note that while global variables can be accessed from within functions, it's considered good practice to limit the use of global variables and use function parameters and return values to pass data between functions whenever possible. This helps improve code readability and maintainability by reducing dependencies on global state.\"\"\""
   ]
  },
  {
   "cell_type": "markdown",
   "id": "144ad276",
   "metadata": {},
   "source": [
    "# Lambda Functions and Higher-Order Functions:"
   ]
  },
  {
   "cell_type": "code",
   "execution_count": 72,
   "id": "a72f90bc",
   "metadata": {},
   "outputs": [
    {
     "data": {
      "text/plain": [
       "\"\\nLambda functions are a powerful tool for writing more compact and expressive code, especially when you need to perform simple operations on data. \\nHowever, for more complex or reusable functions, it's often better to use regular functions defined with def for clarity and maintainability.\\n\""
      ]
     },
     "execution_count": 72,
     "metadata": {},
     "output_type": "execute_result"
    }
   ],
   "source": [
    "# 1. What are lambda functions in Python, and when are they typically used?\n",
    "\"\"\"Lambda functions, also known as lambda expressions or anonymous functions, are a concise way to define small, unnamed functions in Python.\n",
    "They are typically used for simple operations where defining a full function using the def keyword would be overkill. Lambda functions are defined using the lambda keyword. \"\"\"\n",
    "\n",
    "#Syntax :\n",
    "lambda arguments: expression\n",
    "\n",
    "\"\"\"\n",
    "1. Anonymous: Lambda functions are anonymous because they don't have a name like regular functions defined using def.\n",
    "\n",
    "2. Single Expression: Lambda functions consist of a single expression, which is evaluated and returned as the result of the function.\n",
    "\n",
    "3. Limited Scope: Lambda functions are typically used for short, simple operations, and they have a limited scope. They are not designed for complex logic or multi-line functions.\n",
    "\n",
    "4. No Statements: Lambda functions cannot contain statements, assignments, or multiple expressions. They are limited to a single expression that can be evaluated.\n",
    "\"\"\"\n",
    "\n",
    "\"\"\"Lambda functions are often used in scenarios where a small function is required for a short period, such as: \"\"\"\n",
    "\n",
    "# 1. Sorting: Lambda functions are commonly used as key functions in sorting operations to customize the sorting criteria.\n",
    "data = [(1, 'apple'), (3, 'banana'), (2, 'cherry')]\n",
    "sorted_data = sorted(data, key=lambda x: x[1])  # Sort by the second element of each tuple\n",
    "\n",
    "# 2. Filtering: Lambda functions can be used with functions like filter() to filter elements based on specific conditions.\n",
    "numbers = [1, 2, 3, 4, 5, 6, 7, 8, 9, 10]\n",
    "even_numbers = list(filter(lambda x: x % 2 == 0, numbers))\n",
    "\n",
    "# 3. Mapping: Lambda functions can be used with functions like map() to apply a function to each element of a sequence.\n",
    "\n",
    "numbers = [1, 2, 3, 4, 5]\n",
    "squared_numbers = list(map(lambda x: x**2, numbers))\n",
    "\n",
    "\"\"\"\n",
    "Lambda functions are a powerful tool for writing more compact and expressive code, especially when you need to perform simple operations on data. \n",
    "However, for more complex or reusable functions, it's often better to use regular functions defined with def for clarity and maintainability.\n",
    "\"\"\""
   ]
  },
  {
   "cell_type": "code",
   "execution_count": 74,
   "id": "609547f0",
   "metadata": {},
   "outputs": [
    {
     "name": "stdout",
     "output_type": "stream",
     "text": [
      "(1, 'apple')\n",
      "(1, 'apricot')\n",
      "(3, 'banana')\n",
      "(2, 'cherry')\n",
      "(4, 'date')\n"
     ]
    }
   ],
   "source": [
    "# 2. Write a Python program that uses lambda functions to sort a list of tuples based on the second element.\n",
    "\n",
    "data = [(1, 'apple'),(3, 'banana'), (2, 'cherry'),(4, 'date'), (1, 'apricot')]\n",
    "\n",
    "sorted_data = sorted(data, key=lambda x:x[1])\n",
    "\n",
    "for item in sorted_data:\n",
    "    print(item)"
   ]
  },
  {
   "cell_type": "code",
   "execution_count": 75,
   "id": "8b5820a2",
   "metadata": {},
   "outputs": [
    {
     "name": "stdout",
     "output_type": "stream",
     "text": [
      "Original List: [1, 2, 3, 4, 5]\n",
      "Squared Numbers: [1, 4, 9, 16, 25]\n",
      "Doubled Numbers: [2, 4, 6, 8, 10]\n"
     ]
    }
   ],
   "source": [
    "# 3. Explain the concept of higher-order functions in Python, and provide an example.\n",
    "\"\"\"\n",
    "In Python, higher-order functions are functions that can accept other functions as arguments, return functions as results, or both. In essence, they treat functions as first-class citizens, just like any other data type (e.g., integers, strings). Higher-order functions are a fundamental concept in functional programming and enable a more modular and flexible coding style. They allow you to abstract and encapsulate behavior, making your code more reusable and expressive.\n",
    "\n",
    "Here are two key aspects of higher-order functions:\n",
    "\n",
    "1. Accepting Functions as Arguments: Higher-order functions can take other functions as arguments. This allows you to pass behavior as an argument to a function, making it more adaptable to different scenarios.\n",
    "\n",
    "2. Returning Functions as Results: Higher-order functions can return functions as their results. This is useful for creating function factories or customizing the behavior of a returned function based on input parameters.\n",
    "\"\"\"\n",
    "# Example\n",
    "# Higher-order function that applies a function 'func' to each element of a list\n",
    "def apply_function_to_list(func, my_list):\n",
    "    result = []\n",
    "    for item in my_list:\n",
    "        result.append(func(item))\n",
    "    return result\n",
    "\n",
    "# Example functions to be used as arguments\n",
    "def square(x):\n",
    "    return x ** 2\n",
    "\n",
    "def double(x):\n",
    "    return x * 2\n",
    "\n",
    "# Input list\n",
    "numbers = [1, 2, 3, 4, 5]\n",
    "\n",
    "# Use the higher-order function to apply 'square' and 'double' functions to the list\n",
    "squared_numbers = apply_function_to_list(square, numbers)\n",
    "doubled_numbers = apply_function_to_list(double, numbers)\n",
    "\n",
    "# Print the results\n",
    "print(\"Original List:\", numbers)\n",
    "print(\"Squared Numbers:\", squared_numbers)\n",
    "print(\"Doubled Numbers:\", doubled_numbers)\n",
    "\n"
   ]
  },
  {
   "cell_type": "code",
   "execution_count": 76,
   "id": "8a56385a",
   "metadata": {},
   "outputs": [
    {
     "name": "stdout",
     "output_type": "stream",
     "text": [
      "Original List: [1, 2, 3, 4, 5]\n",
      "Squared Numbers: [1, 4, 9, 16, 25]\n",
      "Doubled Numbers: [2, 4, 6, 8, 10]\n"
     ]
    }
   ],
   "source": [
    "# 4. Create a Python function that takes a list of numbers and a function as arguments, applying the function to each element in the list.\n",
    "def apply_function_to_list(func, my_list):\n",
    "    \"\"\"\n",
    "    Apply the given function 'func' to each element in 'my_list' and return the results as a new list.\n",
    "    \n",
    "    Args:\n",
    "    - func (function): The function to apply to each element.\n",
    "    - my_list (list): The list of elements to process.\n",
    "    \n",
    "    Returns:\n",
    "    - list: A new list containing the results of applying 'func' to each element in 'my_list'.\n",
    "    \"\"\"\n",
    "    result = []\n",
    "    for item in my_list:\n",
    "        result.append(func(item))\n",
    "    return result\n",
    "\n",
    "# Example functions to be used as arguments\n",
    "def square(x):\n",
    "    return x ** 2\n",
    "\n",
    "def double(x):\n",
    "    return x * 2\n",
    "\n",
    "# Input list\n",
    "numbers = [1, 2, 3, 4, 5]\n",
    "\n",
    "# Use the function to apply 'square' and 'double' functions to the list\n",
    "squared_numbers = apply_function_to_list(square, numbers)\n",
    "doubled_numbers = apply_function_to_list(double, numbers)\n",
    "\n",
    "# Print the results\n",
    "print(\"Original List:\", numbers)\n",
    "print(\"Squared Numbers:\", squared_numbers)\n",
    "print(\"Doubled Numbers:\", doubled_numbers)\n"
   ]
  },
  {
   "cell_type": "markdown",
   "id": "61c1be0a",
   "metadata": {},
   "source": [
    "# Built-in Functions:"
   ]
  },
  {
   "cell_type": "code",
   "execution_count": 58,
   "id": "bfa99933",
   "metadata": {},
   "outputs": [],
   "source": [
    "# 1. Describe the role of built-in functions like `len()`, `max()`, and `min()` in Python.\n",
    "\n",
    "\"\"\"\n",
    "Built-in functions like len(), max(), and min() are essential tools in Python for performing common operations on various data structures. They provide convenient and efficient ways to retrieve information and manipulate data. Here's a brief description of their roles:\n",
    "\n",
    "1. len():\n",
    "\n",
    "Purpose: The len() function is used to determine the length or the number of items in a sequence or collection. It works with data structures like strings, lists, tuples, dictionaries, and sets.\n",
    "Usage: len(iterable)\"\"\"\n",
    "#Example:\n",
    "\n",
    "my_list = [1, 2, 3, 4, 5]\n",
    "length = len(my_list)  # Returns the length of the list (5)\n",
    "\n",
    "\"\"\"2. max():\n",
    "\n",
    "Purpose: The max() function is used to find the maximum (largest) value among a collection of elements.\n",
    "Usage: max(iterable[, key=func, default=DEFAULT])\n",
    "\"\"\"\n",
    "#Example:\n",
    "\n",
    "numbers = [3, 7, 1, 9, 4]\n",
    "maximum = max(numbers)  # Returns the maximum value (9)\n",
    "\n",
    "\"\"\"3. min():\n",
    "\n",
    "Purpose: The min() function is used to find the minimum (smallest) value among a collection of elements.\n",
    "Usage: min(iterable[, key=func, default=DEFAULT])\"\"\"\n",
    "#Example:\n",
    "\n",
    "numbers = [3, 7, 1, 9, 4]\n",
    "minimum = min(numbers)  # Returns the minimum value (1)\n",
    "\n",
    "\"\"\"These built-in functions are versatile and can be used with different types of data structures.\n",
    "They simplify tasks such as finding the length of a list, identifying the largest or smallest value in a sequence, and more.\n",
    "Additionally, the key and default parameters of max() and min() allow for custom behavior when searching for maximum and minimum values, making them even more powerful for specific use cases.\n",
    "\n",
    "\"\"\""
   ]
  },
  {
   "cell_type": "code",
   "execution_count": 77,
   "id": "3eff875f",
   "metadata": {},
   "outputs": [
    {
     "name": "stdout",
     "output_type": "stream",
     "text": [
      "Original Numbers: [1, 2, 3, 4, 5]\n",
      "Squared Numbers: [1, 4, 9, 16, 25]\n"
     ]
    }
   ],
   "source": [
    "# 2. Write a Python program that uses the `map()` function to apply a function to each element of a list.\n",
    "# Example function to be applied\n",
    "def square(x):\n",
    "    return x ** 2\n",
    "\n",
    "# Input list of numbers\n",
    "numbers = [1, 2, 3, 4, 5]\n",
    "\n",
    "# Use the map() function to apply the 'square' function to each element in 'numbers'\n",
    "squared_numbers = list(map(square, numbers))\n",
    "\n",
    "# Print the results\n",
    "print(\"Original Numbers:\", numbers)\n",
    "print(\"Squared Numbers:\", squared_numbers)\n"
   ]
  },
  {
   "cell_type": "code",
   "execution_count": 79,
   "id": "1a0a0b12",
   "metadata": {},
   "outputs": [
    {
     "name": "stdout",
     "output_type": "stream",
     "text": [
      "Original Numbers: [1, 2, 3, 4, 5, 6, 7, 8, 9, 10]\n",
      "Even Numbers: [2, 4, 6, 8, 10]\n"
     ]
    },
    {
     "data": {
      "text/plain": [
       "'The filter() function is commonly used when you need to select specific elements from a collection based on some condition.\\nIt is useful for data filtering, data transformation, and many other scenarios where you want to extract elements that meet certain criteria'"
      ]
     },
     "execution_count": 79,
     "metadata": {},
     "output_type": "execute_result"
    }
   ],
   "source": [
    "# 3. How does the `filter()` function work in Python, and when would you use it?\n",
    "\"\"\"The filter() function in Python is used to filter elements from an iterable (e.g., a list) based on a specified condition, and it returns an iterator containing the elements that satisfy the condition. \n",
    "It allows you to select a subset of elements that meet a particular criteria, effectively removing elements that do not match the condition.\"\"\"\n",
    "# syntax:\n",
    "#filter(function, iterable)\n",
    "\n",
    "# example:\n",
    "\n",
    "# Example function to filter even numbers\n",
    "def is_even(x):\n",
    "    return x % 2 == 0\n",
    "\n",
    "# Input list of numbers\n",
    "numbers = [1, 2, 3, 4, 5, 6, 7, 8, 9, 10]\n",
    "\n",
    "# Use the filter() function to filter even numbers from the list\n",
    "even_numbers = list(filter(is_even, numbers))\n",
    "\n",
    "# Print the result\n",
    "print(\"Original Numbers:\", numbers)\n",
    "print(\"Even Numbers:\", even_numbers)\n",
    "\n",
    "\n",
    "\"\"\"The filter() function is commonly used when you need to select specific elements from a collection based on some condition.\n",
    "It is useful for data filtering, data transformation, and many other scenarios where you want to extract elements that meet certain criteria\"\"\""
   ]
  },
  {
   "cell_type": "code",
   "execution_count": 80,
   "id": "cc685845",
   "metadata": {},
   "outputs": [
    {
     "name": "stdout",
     "output_type": "stream",
     "text": [
      "Numbers: [1, 2, 3, 4, 5]\n",
      "Product: 120\n"
     ]
    }
   ],
   "source": [
    "# 4. Create a Python program that uses the `reduce()` function to find the product of all elements in a list.\n",
    "from functools import reduce\n",
    "\n",
    "# Example function to calculate the product of two numbers\n",
    "def multiply(x, y):\n",
    "    return x * y\n",
    "\n",
    "# Input list of numbers\n",
    "numbers = [1, 2, 3, 4, 5]\n",
    "\n",
    "# Use the reduce() function to find the product of all elements in the list\n",
    "product = reduce(multiply, numbers)\n",
    "\n",
    "# Print the result\n",
    "print(\"Numbers:\", numbers)\n",
    "print(\"Product:\", product)\n"
   ]
  },
  {
   "cell_type": "markdown",
   "id": "012698e9",
   "metadata": {},
   "source": [
    "# Function Documentation and Best Practices:"
   ]
  },
  {
   "cell_type": "code",
   "execution_count": 81,
   "id": "38b8fb13",
   "metadata": {},
   "outputs": [],
   "source": [
    "# 1. Explain the purpose of docstrings in Python functions and how to write them.\n",
    "\"\"\"\n",
    "Docstrings, short for \"documentation strings,\" serve the purpose of providing documentation and descriptions for Python functions, modules, classes, and methods. They are essential for documenting your code, making it more understandable, and helping others (and yourself) understand how to use and work with your code. Here's how to write docstrings and their purpose:\n",
    "\n",
    "Purpose of Docstrings:\n",
    "\n",
    "1. Documentation: Docstrings provide human-readable documentation that explains the purpose, behavior, and usage of functions, modules, classes, or methods.\n",
    "\n",
    "2. Readability: Well-written docstrings improve code readability and make it easier for developers to understand the code's functionality without needing to examine the source code.\n",
    "\n",
    "3. Auto-Generated Documentation: Docstrings can be automatically extracted to generate documentation using tools like Sphinx. This is especially useful for creating API documentation.\n",
    "\n",
    "4. Help in IDEs: Integrated Development Environments (IDEs) often display docstrings when you hover over or use code completion, providing context and helping you use functions correctly.\n",
    "\n",
    "How to Write Docstrings:\n",
    "\n",
    "a. Docstrings are enclosed in triple quotes (either single or double) and should follow specific conventions, such as the Python docstring conventions outlined in PEP 257. A basic docstring for a function typically includes the following components:\n",
    "\n",
    "a.1 A one-line summary of the function's purpose (a brief description).\n",
    "a.2 A more detailed description (if needed) that provides additional context and usage information.\n",
    "a.3 Optional sections, such as parameters, return values, and examples.\n",
    "\"\"\"\n",
    "\n",
    "def calculate_area(length, width):\n",
    "    \"\"\"\n",
    "    Calculate the area of a rectangle.\n",
    "\n",
    "    Args:\n",
    "        length (float): The length of the rectangle.\n",
    "        width (float): The width of the rectangle.\n",
    "\n",
    "    Returns:\n",
    "        float: The area of the rectangle.\n",
    "\n",
    "    Example:\n",
    "        >>> calculate_area(5.0, 3.0)\n",
    "        15.0\n",
    "    \"\"\"\n",
    "    area = length * width\n",
    "    return area\n"
   ]
  },
  {
   "cell_type": "code",
   "execution_count": 82,
   "id": "34b860db",
   "metadata": {},
   "outputs": [],
   "source": [
    "# 2. Describe some best practices for naming functions and variables in Python, including naming conventions and guidelines.\n",
    "\"\"\"\n",
    " best practices for naming variables in Python:\n",
    "\n",
    "1. Use descriptive and meaningful names\n",
    "Variable names should be descriptive and meaningful. They should describe what the variable represents or contains. For example, if you are writing a program that calculates the area of a circle, you might name your variable \"radius\" or \"area\". Avoid using generic or meaningless names such as \"x\" or \"temp\".\n",
    "\n",
    "2. Follow a consistent naming convention\n",
    "It's important to follow a consistent naming convention to make your code more readable and understandable. There are several naming conventions that you can follow, but the most common ones are:\n",
    "\n",
    "CamelCase: This convention capitalizes the first letter of each word except for the first word. For example, \"firstName\" or \"lastName\".\n",
    "snake_case: This convention uses underscores to separate words. For example, \"first_name\" or \"last_name\".\n",
    "Choose a naming convention and stick to it throughout your code.\n",
    "\n",
    "3. Avoid reserved keywords\n",
    "Avoid using reserved keywords as variable names. Python has several reserved keywords that have special meanings in the language. Using reserved keywords as variable names can cause syntax errors and make your code hard to read. Some examples of reserved keywords are \"if\", \"while\", \"for\", and \"print\".\n",
    "\n",
    "4. Don't use abbreviations\n",
    "Avoid using abbreviations in your variable names. Abbreviations can be confusing and may not be understandable to other developers. Instead, use full and descriptive names.\n",
    "\n",
    "5. Be mindful of variable scope\n",
    "Be mindful of the scope of your variables. Variables should be defined in the smallest possible scope to avoid naming conflicts and improve readability. For example, if you have a function that uses a variable, define that variable inside the function instead of at the global level.\n",
    "\n",
    "\n",
    "\"\"\"\n",
    "# Examples:\n",
    "\n",
    "# Example 1: Calculating the area of a circle\n",
    "radius = 5\n",
    "pi = 3.14\n",
    "area = pi * radius ** 2\n",
    "\n",
    "# Example 2: Storing a person's information\n",
    "first_name = \"John\"\n",
    "last_name = \"Doe\"\n",
    "age = 30"
   ]
  }
 ],
 "metadata": {
  "kernelspec": {
   "display_name": "Python 3 (ipykernel)",
   "language": "python",
   "name": "python3"
  },
  "language_info": {
   "codemirror_mode": {
    "name": "ipython",
    "version": 3
   },
   "file_extension": ".py",
   "mimetype": "text/x-python",
   "name": "python",
   "nbconvert_exporter": "python",
   "pygments_lexer": "ipython3",
   "version": "3.10.9"
  }
 },
 "nbformat": 4,
 "nbformat_minor": 5
}
