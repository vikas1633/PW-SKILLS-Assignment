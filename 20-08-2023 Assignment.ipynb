{
 "cells": [
  {
   "cell_type": "markdown",
   "id": "b06d7948",
   "metadata": {},
   "source": [
    "# TOPIC: String Based Assignment Problem"
   ]
  },
  {
   "cell_type": "markdown",
   "id": "20a50789",
   "metadata": {},
   "source": [
    "1. Write a program to reverse a string."
   ]
  },
  {
   "cell_type": "code",
   "execution_count": 23,
   "id": "e36922a9",
   "metadata": {},
   "outputs": [
    {
     "name": "stdout",
     "output_type": "stream",
     "text": [
      "Enter the string to be reversed:vikas\n",
      "The original String is : vikas\n",
      "The reversed string is : sakiv\n"
     ]
    }
   ],
   "source": [
    "def reverse(string):\n",
    "    string=string[::-1]  # using slice operator to get the reverse \n",
    "    return string\n",
    "value = input(\"Enter the string to be reversed:\")\n",
    "print(\"The original String is : \", end = \"\")\n",
    "print(value)\n",
    "print(\"The reversed string is :\",(reverse(value)))"
   ]
  },
  {
   "cell_type": "markdown",
   "id": "6decd5d1",
   "metadata": {},
   "source": [
    "2. Check if a string is a palindrome."
   ]
  },
  {
   "cell_type": "code",
   "execution_count": 19,
   "id": "ca99dcf8",
   "metadata": {},
   "outputs": [
    {
     "name": "stdout",
     "output_type": "stream",
     "text": [
      "Enter the string to be checked :vikas\n",
      "No\n"
     ]
    }
   ],
   "source": [
    "def isPalindrome(string):\n",
    "    string=string.lower() # to convert the function to lowercase\n",
    "    return string==string[::-1]\n",
    "string= input(\"Enter the string to be checked :\")\n",
    "result=isPalindrome(string)\n",
    "if result:\n",
    "    print(\"Yes\")\n",
    "else:\n",
    "    print(\"No\")"
   ]
  },
  {
   "cell_type": "markdown",
   "id": "46976e29",
   "metadata": {},
   "source": [
    "3. Convert a string to uppercase."
   ]
  },
  {
   "cell_type": "code",
   "execution_count": 20,
   "id": "678a8698",
   "metadata": {},
   "outputs": [
    {
     "name": "stdout",
     "output_type": "stream",
     "text": [
      "Enter the given stringvikas\n",
      "Uppercase String is VIKAS\n"
     ]
    }
   ],
   "source": [
    "my_string =input(\"Enter the given string\")\n",
    "uppercase= my_string.upper()\n",
    "print(\"Uppercase String is\",uppercase)"
   ]
  },
  {
   "cell_type": "markdown",
   "id": "e55a43fe",
   "metadata": {},
   "source": [
    "4. Convert a string to lowercase."
   ]
  },
  {
   "cell_type": "code",
   "execution_count": 26,
   "id": "98140c8d",
   "metadata": {},
   "outputs": [
    {
     "name": "stdout",
     "output_type": "stream",
     "text": [
      "Enter the given string :VIKAS\n",
      "Lowercase String is vikas\n"
     ]
    }
   ],
   "source": [
    "my_string =input(\"Enter the given string :\")\n",
    "lowercase= my_string.lower()\n",
    "print(\"Lowercase String is\",lowercase)"
   ]
  },
  {
   "cell_type": "markdown",
   "id": "ff748425",
   "metadata": {},
   "source": [
    "5. Count the number of vowels in a string."
   ]
  },
  {
   "cell_type": "code",
   "execution_count": 29,
   "id": "1134786f",
   "metadata": {},
   "outputs": [
    {
     "name": "stdout",
     "output_type": "stream",
     "text": [
      "Enter the string:my name is vikas and what's your\n",
      "a\n",
      "e\n",
      "i\n",
      "i\n",
      "a\n",
      "a\n",
      "a\n",
      "o\n",
      "u\n",
      "Number of vowels: 9\n"
     ]
    }
   ],
   "source": [
    "def count_vowels(input_string):\n",
    "    vowels=\"AEIOUaeiou\"\n",
    "    vowel_count = 0\n",
    "    for char in input_string:\n",
    "        if char in vowels:\n",
    "            vowel_count += 1\n",
    "            print(char) # this will print all the vowles and if not required comment it\n",
    "    return vowel_count\n",
    "\n",
    "# take input from user\n",
    "a = input(\"Enter the string:\")\n",
    "\n",
    "# calling the function and display the result\n",
    "vowel_count = count_vowels(a)\n",
    "print(\"Number of vowels:\", vowel_count)"
   ]
  },
  {
   "cell_type": "markdown",
   "id": "70eac084",
   "metadata": {},
   "source": [
    "6. Count the number of consonants in a string."
   ]
  },
  {
   "cell_type": "code",
   "execution_count": 33,
   "id": "51335082",
   "metadata": {},
   "outputs": [
    {
     "name": "stdout",
     "output_type": "stream",
     "text": [
      "Enter the string :my name is vikas and what's your\n",
      "m\n",
      "y\n",
      "n\n",
      "m\n",
      "s\n",
      "v\n",
      "k\n",
      "s\n",
      "n\n",
      "d\n",
      "w\n",
      "h\n",
      "t\n",
      "s\n",
      "y\n",
      "r\n",
      "Number of consonants : 16\n"
     ]
    }
   ],
   "source": [
    "def count_consonants(input_string):\n",
    "    vowels = \"AEIOUaeiou\"\n",
    "    consonant_count = 0\n",
    "    \n",
    "    for char in input_string:\n",
    "        if char.isalpha() and char not in vowels: # it will compare here with vowels if not found it will retrun as consonants\n",
    "            consonant_count += 1\n",
    "            print(char) # this will print all the consonant\n",
    "    \n",
    "    return consonant_count\n",
    "\n",
    "# take the input from user\n",
    "a = input(\"Enter the string :\")\n",
    "# calling the function and getting the result\n",
    "consonant_count = count_consonants(a)\n",
    "print(\"Number of consonants :\", consonant_count)"
   ]
  },
  {
   "cell_type": "markdown",
   "id": "6a6e1d6d",
   "metadata": {},
   "source": [
    "7. Remove all whitespaces from a string."
   ]
  },
  {
   "cell_type": "raw",
   "id": "f4525a6c",
   "metadata": {},
   "source": [
    "def remove(string):\n",
    "    return string.replace(\" \",\"\")\n",
    "\n",
    "a= input(\"Enter the string\")\n",
    "print(remove(a))"
   ]
  },
  {
   "cell_type": "markdown",
   "id": "84b3a22b",
   "metadata": {},
   "source": [
    "8. Find the length of a string without using the `len()` function."
   ]
  },
  {
   "cell_type": "code",
   "execution_count": 35,
   "id": "ccd9480e",
   "metadata": {},
   "outputs": [
    {
     "name": "stdout",
     "output_type": "stream",
     "text": [
      "Enter a string: vikas kumar yadav\n",
      "Length of the string: 17\n"
     ]
    }
   ],
   "source": [
    "def calculate_length(input_string):\n",
    "    length = 0\n",
    "    for char in input_string:\n",
    "        length += 1 # increments the length and counter counts the values\n",
    "    return length\n",
    "\n",
    "# Get input from the user\n",
    "a = input(\"Enter a string: \")\n",
    "\n",
    "# Call the function and display the result\n",
    "string_length = calculate_length(a)\n",
    "print(\"Length of the string:\", string_length)"
   ]
  },
  {
   "cell_type": "markdown",
   "id": "ae8daf93",
   "metadata": {},
   "source": [
    "9. Check if a string contains a specific word."
   ]
  },
  {
   "cell_type": "code",
   "execution_count": 37,
   "id": "084eb6cf",
   "metadata": {},
   "outputs": [
    {
     "name": "stdout",
     "output_type": "stream",
     "text": [
      "Enter the string :my home town is in delhi\n",
      "Enter the word to check :delhi\n",
      "The string contains the given word 'delhi''.\n"
     ]
    }
   ],
   "source": [
    "def word(input_string, target_word):\n",
    "    words = input_string.split() # split is going to split the string \n",
    "    return target_word in words\n",
    "\n",
    "# take input from the user\n",
    "a = input(\"Enter the string :\")\n",
    "b = input(\"Enter the word to check :\")\n",
    "\n",
    "# check if the word exists in the input string using split\n",
    "\n",
    "if word(a,b):\n",
    "    print(f\"The string contains the given word '{b}''.\")\n",
    "else:\n",
    "    print(f\"The string does not contain the word '{b}'.\")"
   ]
  },
  {
   "cell_type": "markdown",
   "id": "81dfba0f",
   "metadata": {},
   "source": [
    "10. Replace a word in a string with another word."
   ]
  },
  {
   "cell_type": "code",
   "execution_count": 38,
   "id": "57f97c70",
   "metadata": {},
   "outputs": [
    {
     "name": "stdout",
     "output_type": "stream",
     "text": [
      "Enter the string : where is your home\n",
      "Enter the word to replace : your\n",
      "Enter the new word : our\n",
      "Modified string :  where is our home\n"
     ]
    }
   ],
   "source": [
    "def replace_word(input_string, old_word, new_word):\n",
    "    return input_string.replace(old_word, new_word)\n",
    "\n",
    "# Take input from the user\n",
    "a = input(\"Enter the string : \")\n",
    "old_word = input(\"Enter the word to replace : \")\n",
    "new_word = input(\"Enter the new word : \")\n",
    "\n",
    "#replace the word in the input string\n",
    "new_string = replace_word(a, old_word, new_word)\n",
    "print(\"Modified string : \", new_string)"
   ]
  },
  {
   "cell_type": "markdown",
   "id": "e90e1f84",
   "metadata": {},
   "source": [
    "11. Count the occurrences of a word in a string."
   ]
  },
  {
   "cell_type": "code",
   "execution_count": 41,
   "id": "14e23121",
   "metadata": {},
   "outputs": [
    {
     "name": "stdout",
     "output_type": "stream",
     "text": [
      "Enter a string: what is happening\n",
      "Enter the word to count: what\n",
      "The word 'what' occurs1 times.\n"
     ]
    }
   ],
   "source": [
    "def occurrences(input_string, target_word):\n",
    "    words = input_string.split()\n",
    "    count = 0\n",
    "    \n",
    "    for word in words:\n",
    "        if word == target_word:\n",
    "            count +=1\n",
    "    \n",
    "    return count\n",
    "\n",
    "# Take the user input\n",
    "a = input(\"Enter a string: \")\n",
    "word_to_count = input(\"Enter the word to count: \")\n",
    "\n",
    "#count the occurrences of the word in the input string\n",
    "occurrences_count = occurrences(a, word_to_count)\n",
    "print(f\"The word '{word_to_count}' occurs{occurrences_count} times.\")\n",
    "        "
   ]
  },
  {
   "cell_type": "markdown",
   "id": "3b5c7e7a",
   "metadata": {},
   "source": [
    "12. Find the first occurrence of a word in a string."
   ]
  },
  {
   "cell_type": "code",
   "execution_count": 45,
   "id": "68926b94",
   "metadata": {},
   "outputs": [
    {
     "name": "stdout",
     "output_type": "stream",
     "text": [
      "Enter a string: when will you come to delhi my dear\n",
      "Enter the word to find: delhi\n",
      "The first occurrence of 'delhi' is at indexdelhi.\n"
     ]
    }
   ],
   "source": [
    "def first_occur(input_string, word_to_search):\n",
    "    words = input_string.split()\n",
    "    \n",
    "    for index, word in enumerate(words):\n",
    "        if word == word_to_search:\n",
    "            return index\n",
    "    \n",
    "    # if word is not found\n",
    "    return -1\n",
    "a = input(\"Enter a string: \")\n",
    "search_word = input(\"Enter the word to find: \")\n",
    "\n",
    "# find the index of the first occurence of the word in the input string\n",
    "occurrence = first_occur(a,search_word)\n",
    "\n",
    "if occurrence != -1:\n",
    "    print(f\"The first occurrence of '{search_word}' is at index{search_word}.\")\n",
    "else:\n",
    "    print(f\"The first occurrence of '{search_word}' was not found in the string.\")\n",
    "    "
   ]
  },
  {
   "cell_type": "markdown",
   "id": "8f10bc70",
   "metadata": {},
   "source": [
    "13. Find the last occurrence of a word in a string."
   ]
  },
  {
   "cell_type": "code",
   "execution_count": 47,
   "id": "62980069",
   "metadata": {},
   "outputs": [
    {
     "name": "stdout",
     "output_type": "stream",
     "text": [
      "Enter the string: i like the way you drive\n",
      "Enter the word to find: way\n",
      "The last occurrence of 'way' is at index 3.\n"
     ]
    }
   ],
   "source": [
    "def last_occur(input_string, word_to_search):\n",
    "    words = input_string.split()\n",
    "    last_index = -1\n",
    "    for index, word in enumerate(words):\n",
    "        if word == word_to_search:\n",
    "            last_index = index\n",
    "    \n",
    "    return last_index\n",
    "\n",
    "#Taking input from the user\n",
    "a= input(\"Enter the string: \")\n",
    "search_word = input(\"Enter the word to find: \")\n",
    "\n",
    "#Find the index of the last occurrence of the word in the input string\n",
    "occurrence = last_occur(a, search_word)\n",
    "\n",
    "if occurrence != -1:\n",
    "    print(f\"The last occurrence of '{search_word}' is at index{occurrence: }.\")\n",
    "else:\n",
    "    print(f\"The word '{search_word}' was not found in the string: .\")"
   ]
  },
  {
   "cell_type": "markdown",
   "id": "a26504c5",
   "metadata": {},
   "source": [
    "14. Split a string into a list of words."
   ]
  },
  {
   "cell_type": "code",
   "execution_count": 49,
   "id": "ce27cbe6",
   "metadata": {},
   "outputs": [
    {
     "name": "stdout",
     "output_type": "stream",
     "text": [
      "Enter the string: when will you come\n",
      "List of words: ['when', 'will', 'you', 'come']\n"
     ]
    }
   ],
   "source": [
    "def string_into_words(input_string):\n",
    "    words = input_string.split()\n",
    "    return words\n",
    "\n",
    "# Take input from user\n",
    "a= input(\"Enter the string: \")\n",
    "\n",
    "#split the string into a list of words\n",
    "word_list = string_into_words(a)\n",
    "\n",
    "#display the list of words\n",
    "print(\"List of words:\", word_list)\n"
   ]
  },
  {
   "cell_type": "markdown",
   "id": "e4ffae65",
   "metadata": {},
   "source": [
    "15. Join a list of words into a string."
   ]
  },
  {
   "cell_type": "code",
   "execution_count": 53,
   "id": "0097fcc4",
   "metadata": {},
   "outputs": [
    {
     "name": "stdout",
     "output_type": "stream",
     "text": [
      "Enter a list of words separated by spaces: vikas kumar yadav\n",
      "Joined string: vikas kumar yadav\n"
     ]
    }
   ],
   "source": [
    "def join_words_to_string(word_list):\n",
    "    return ' '.join(word_list)\n",
    "\n",
    "# Get input from the user\n",
    "user_input = input(\"Enter a list of words separated by spaces: \")\n",
    "word_list = user_input.split()  # Split the input into a list of words\n",
    "\n",
    "# Join the list of words into a single string\n",
    "joined_string = join_words_to_string(word_list)\n",
    "\n",
    "# Display the joined string\n",
    "print(\"Joined string:\", joined_string)\n"
   ]
  },
  {
   "cell_type": "markdown",
   "id": "8bcad31c",
   "metadata": {},
   "source": [
    "16. Convert a string where words are separated by spaces to one where words are separated by underscores."
   ]
  },
  {
   "cell_type": "code",
   "execution_count": 52,
   "id": "fb1f4545",
   "metadata": {},
   "outputs": [
    {
     "name": "stdout",
     "output_type": "stream",
     "text": [
      "Enter the string with spaces between words: vikas kumar yadav\n",
      "String with underscores:  vikas_kumar_yadav\n"
     ]
    }
   ],
   "source": [
    "def underscore(input_string):\n",
    "    return '_'.join(input_string.split())\n",
    "\n",
    "# take the user input\n",
    "a= input(\"Enter the string with spaces between words: \")\n",
    "\n",
    "#convert the string to use underscores between the words\n",
    "underscore_string = underscore(a)\n",
    "\n",
    "#display the converted string\n",
    "print(\"String with underscores: \", underscore_string)"
   ]
  },
  {
   "cell_type": "markdown",
   "id": "04fa1ad7",
   "metadata": {},
   "source": [
    "17. Check if a string starts with a specific word or phrase."
   ]
  },
  {
   "cell_type": "code",
   "execution_count": 1,
   "id": "18ee7d55",
   "metadata": {},
   "outputs": [
    {
     "name": "stdout",
     "output_type": "stream",
     "text": [
      "The string starts with 'Hello'\n"
     ]
    }
   ],
   "source": [
    "my_string = \"Hello, World!\"\n",
    "\n",
    "if my_string.startswith(\"Hello\"):\n",
    "    print(\"The string starts with 'Hello'\")\n",
    "else:\n",
    "    print(\"The string does not start with 'Hello'\")\n"
   ]
  },
  {
   "cell_type": "markdown",
   "id": "0cd51f00",
   "metadata": {},
   "source": [
    "18. Check if a string ends with a specific word or phrase."
   ]
  },
  {
   "cell_type": "code",
   "execution_count": 2,
   "id": "36bae524",
   "metadata": {},
   "outputs": [
    {
     "name": "stdout",
     "output_type": "stream",
     "text": [
      "The string ends with 'World!'\n"
     ]
    }
   ],
   "source": [
    "my_string = \"Hello, World!\"\n",
    "\n",
    "if my_string.endswith(\"World!\"):\n",
    "    print(\"The string ends with 'World!'\")\n",
    "else:\n",
    "    print(\"The string does not end with 'World!'\")\n"
   ]
  },
  {
   "cell_type": "markdown",
   "id": "388aa897",
   "metadata": {},
   "source": [
    "19. Convert a string to title case (e.g., \"hello world\" to \"Hello World\")."
   ]
  },
  {
   "cell_type": "code",
   "execution_count": 3,
   "id": "627e42f0",
   "metadata": {},
   "outputs": [
    {
     "name": "stdout",
     "output_type": "stream",
     "text": [
      "Original string: hello world\n",
      "Title case string: Hello World\n"
     ]
    }
   ],
   "source": [
    "my_string = \"hello world\"\n",
    "\n",
    "title_case_string = my_string.title()\n",
    "\n",
    "print(\"Original string:\", my_string)\n",
    "print(\"Title case string:\", title_case_string)\n"
   ]
  },
  {
   "cell_type": "markdown",
   "id": "69dc3e2b",
   "metadata": {},
   "source": [
    "20. Find the longest word in a string."
   ]
  },
  {
   "cell_type": "code",
   "execution_count": 4,
   "id": "18c8a474",
   "metadata": {},
   "outputs": [
    {
     "name": "stdout",
     "output_type": "stream",
     "text": [
      "Longest word: hippopotamus.\n"
     ]
    }
   ],
   "source": [
    "def find_longest_word(input_string):\n",
    "    words = input_string.split()\n",
    "    longest_word = max(words, key=len)\n",
    "    return longest_word\n",
    "\n",
    "my_string = \"This is a sample sentence with some long words like elephant and hippopotamus.\"\n",
    "\n",
    "result = find_longest_word(my_string)\n",
    "\n",
    "print(\"Longest word:\", result)\n"
   ]
  },
  {
   "cell_type": "markdown",
   "id": "ccc4ed62",
   "metadata": {},
   "source": [
    "21. Find the shortest word in a string."
   ]
  },
  {
   "cell_type": "code",
   "execution_count": 5,
   "id": "41764421",
   "metadata": {},
   "outputs": [
    {
     "name": "stdout",
     "output_type": "stream",
     "text": [
      "Shortest word: a\n"
     ]
    }
   ],
   "source": [
    "def find_shortest_word(input_string):\n",
    "    words = input_string.split()\n",
    "    shortest_word = min(words, key=len)\n",
    "    return shortest_word\n",
    "\n",
    "my_string = \"This is a sample sentence with some short words like cat and dog.\"\n",
    "\n",
    "result = find_shortest_word(my_string)\n",
    "\n",
    "print(\"Shortest word:\", result)\n"
   ]
  },
  {
   "cell_type": "markdown",
   "id": "1fac8c59",
   "metadata": {},
   "source": [
    "22. Reverse the order of words in a string."
   ]
  },
  {
   "cell_type": "code",
   "execution_count": 6,
   "id": "defeb23f",
   "metadata": {},
   "outputs": [
    {
     "name": "stdout",
     "output_type": "stream",
     "text": [
      "Original string: This is a sample sentence.\n",
      "Reversed string: sentence. sample a is This\n"
     ]
    }
   ],
   "source": [
    "def reverse_words(input_string):\n",
    "    words = input_string.split()\n",
    "    reversed_words = ' '.join(reversed(words))\n",
    "    return reversed_words\n",
    "\n",
    "my_string = \"This is a sample sentence.\"\n",
    "\n",
    "result = reverse_words(my_string)\n",
    "\n",
    "print(\"Original string:\", my_string)\n",
    "print(\"Reversed string:\", result)\n"
   ]
  },
  {
   "cell_type": "markdown",
   "id": "0d990f85",
   "metadata": {},
   "source": [
    "23. Check if a string is alphanumeric."
   ]
  },
  {
   "cell_type": "code",
   "execution_count": 7,
   "id": "e0d2aeb6",
   "metadata": {},
   "outputs": [
    {
     "name": "stdout",
     "output_type": "stream",
     "text": [
      "The string is alphanumeric.\n"
     ]
    }
   ],
   "source": [
    "my_string = \"Hello123\"\n",
    "\n",
    "if my_string.isalnum():\n",
    "    print(\"The string is alphanumeric.\")\n",
    "else:\n",
    "    print(\"The string is not alphanumeric.\")\n"
   ]
  },
  {
   "cell_type": "markdown",
   "id": "c8ea96c8",
   "metadata": {},
   "source": [
    "24. Extract all digits from a string."
   ]
  },
  {
   "cell_type": "code",
   "execution_count": 8,
   "id": "3bb22180",
   "metadata": {},
   "outputs": [
    {
     "name": "stdout",
     "output_type": "stream",
     "text": [
      "Original string: Hello123World456\n",
      "Extracted digits: 123456\n"
     ]
    }
   ],
   "source": [
    "my_string = \"Hello123World456\"\n",
    "\n",
    "digits = [char for char in my_string if char.isdigit()]\n",
    "\n",
    "result = ''.join(digits)\n",
    "\n",
    "print(\"Original string:\", my_string)\n",
    "print(\"Extracted digits:\", result)\n"
   ]
  },
  {
   "cell_type": "markdown",
   "id": "a31b3729",
   "metadata": {},
   "source": [
    "25. Extract all alphabets from a string."
   ]
  },
  {
   "cell_type": "code",
   "execution_count": 9,
   "id": "9f9137fd",
   "metadata": {},
   "outputs": [
    {
     "name": "stdout",
     "output_type": "stream",
     "text": [
      "Original string: Hello123World456\n",
      "Extracted alphabets: HelloWorld\n"
     ]
    }
   ],
   "source": [
    "my_string = \"Hello123World456\"\n",
    "alphabets = [char for char in my_string if char.isalpha()]\n",
    "\n",
    "result = ''.join(alphabets)\n",
    "\n",
    "print(\"Original string:\", my_string)\n",
    "print(\"Extracted alphabets:\", result)"
   ]
  },
  {
   "cell_type": "markdown",
   "id": "6df8cbf5",
   "metadata": {},
   "source": [
    "26. Count the number of uppercase letters in a string."
   ]
  },
  {
   "cell_type": "code",
   "execution_count": 10,
   "id": "7a007a5a",
   "metadata": {},
   "outputs": [
    {
     "name": "stdout",
     "output_type": "stream",
     "text": [
      "Original string: Hello World!\n",
      "Number of uppercase letters: 2\n"
     ]
    }
   ],
   "source": [
    "my_string = \"Hello World!\"\n",
    "\n",
    "uppercase_count = sum(1 for char in my_string if char.isupper())\n",
    "\n",
    "print(\"Original string:\", my_string)\n",
    "print(\"Number of uppercase letters:\", uppercase_count)\n"
   ]
  },
  {
   "cell_type": "markdown",
   "id": "e2fb5997",
   "metadata": {},
   "source": [
    "27. Count the number of lowercase letters in a string."
   ]
  },
  {
   "cell_type": "code",
   "execution_count": 11,
   "id": "f8ae2e96",
   "metadata": {},
   "outputs": [
    {
     "name": "stdout",
     "output_type": "stream",
     "text": [
      "Original string: Hello World!\n",
      "Number of lowercase letters: 8\n"
     ]
    }
   ],
   "source": [
    "my_string = \"Hello World!\"\n",
    "\n",
    "lowercase_count = sum(1 for char in my_string if char.islower())\n",
    "\n",
    "print(\"Original string:\", my_string)\n",
    "print(\"Number of lowercase letters:\", lowercase_count)\n"
   ]
  },
  {
   "cell_type": "markdown",
   "id": "11ec5b7f",
   "metadata": {},
   "source": [
    "28. Swap the case of each character in a string."
   ]
  },
  {
   "cell_type": "code",
   "execution_count": 12,
   "id": "07698a8c",
   "metadata": {},
   "outputs": [
    {
     "name": "stdout",
     "output_type": "stream",
     "text": [
      "Original string: Hello World!\n",
      "Swapped case string: hELLO wORLD!\n"
     ]
    }
   ],
   "source": [
    "my_string = \"Hello World!\"\n",
    "\n",
    "swapped_string = my_string.swapcase()\n",
    "\n",
    "print(\"Original string:\", my_string)\n",
    "print(\"Swapped case string:\", swapped_string)\n"
   ]
  },
  {
   "cell_type": "markdown",
   "id": "f8b4ba23",
   "metadata": {},
   "source": [
    "29. Remove a specific word from a string."
   ]
  },
  {
   "cell_type": "code",
   "execution_count": 13,
   "id": "554e1c6f",
   "metadata": {},
   "outputs": [
    {
     "name": "stdout",
     "output_type": "stream",
     "text": [
      "Original string: Hello world! This is a sample sentence.\n",
      "String after removing 'world': Hello ! This is a sample sentence.\n"
     ]
    }
   ],
   "source": [
    "original_string = \"Hello world! This is a sample sentence.\"\n",
    "\n",
    "word_to_remove = \"world\"\n",
    "\n",
    "modified_string = original_string.replace(word_to_remove, \"\")\n",
    "\n",
    "print(\"Original string:\", original_string)\n",
    "print(f\"String after removing '{word_to_remove}':\", modified_string)\n"
   ]
  },
  {
   "cell_type": "markdown",
   "id": "ae33ed58",
   "metadata": {},
   "source": [
    "30. Check if a string is a valid email address."
   ]
  },
  {
   "cell_type": "code",
   "execution_count": 15,
   "id": "d738c478",
   "metadata": {},
   "outputs": [
    {
     "name": "stdout",
     "output_type": "stream",
     "text": [
      "user@gmail.com is a valid email address.\n"
     ]
    }
   ],
   "source": [
    "import re\n",
    "\n",
    "def is_valid_email(email):\n",
    "    # Define a simple regular expression for email validation\n",
    "    email_pattern = re.compile(r'^[\\w\\.-]+@[a-zA-Z\\d\\.-]+\\.[a-zA-Z]{2,}$')\n",
    "\n",
    "    # Use the re.match() function to check if the email matches the pattern\n",
    "    match = email_pattern.match(email)\n",
    "\n",
    "    # If there is a match, it's a valid email\n",
    "    return bool(match)\n",
    "\n",
    "# Example usage:\n",
    "email_to_check = \"user@gmail.com\"\n",
    "if is_valid_email(email_to_check):\n",
    "    print(f\"{email_to_check} is a valid email address.\")\n",
    "else:\n",
    "    print(f\"{email_to_check} is not a valid email address.\")\n"
   ]
  },
  {
   "cell_type": "markdown",
   "id": "05d6ed44",
   "metadata": {},
   "source": [
    "31. Extract the username from an email address string."
   ]
  },
  {
   "cell_type": "code",
   "execution_count": 17,
   "id": "20a15149",
   "metadata": {},
   "outputs": [
    {
     "name": "stdout",
     "output_type": "stream",
     "text": [
      "The username in user@gmail.com is user.\n"
     ]
    }
   ],
   "source": [
    "def extract_username(email):\n",
    "    # Split the email address at the \"@\" symbol\n",
    "    parts = email.split('@')\n",
    "\n",
    "    # Check if the email is valid (contains exactly one \"@\")\n",
    "    if len(parts) == 2:\n",
    "        # The username is the part before the \"@\"\n",
    "        return parts[0]\n",
    "    else:\n",
    "        # Return None for invalid email addresses\n",
    "        return None\n",
    "\n",
    "# Example usage:\n",
    "email_address = \"user@gmail.com\"\n",
    "username = extract_username(email_address)\n",
    "\n",
    "if username is not None:\n",
    "    print(f\"The username in {email_address} is {username}.\")\n",
    "else:\n",
    "    print(f\"{email_address} is not a valid email address.\")\n"
   ]
  },
  {
   "cell_type": "markdown",
   "id": "c21d4e43",
   "metadata": {},
   "source": [
    "32. Extract the domain name from an email address string."
   ]
  },
  {
   "cell_type": "code",
   "execution_count": 19,
   "id": "76ea9687",
   "metadata": {},
   "outputs": [
    {
     "name": "stdout",
     "output_type": "stream",
     "text": [
      "The domain in user@gmail.com is gmail.com.\n"
     ]
    }
   ],
   "source": [
    "def extract_domain(email):\n",
    "    # Split the email address at the \"@\" symbol\n",
    "    parts = email.split('@')\n",
    "\n",
    "    # Check if the email is valid (contains exactly one \"@\")\n",
    "    if len(parts) == 2:\n",
    "        # The domain is the part after the \"@\"\n",
    "        return parts[1]\n",
    "    else:\n",
    "        # Return None for invalid email addresses\n",
    "        return None\n",
    "\n",
    "# Example usage:\n",
    "email_address = \"user@gmail.com\"\n",
    "domain = extract_domain(email_address)\n",
    "\n",
    "if domain is not None:\n",
    "    print(f\"The domain in {email_address} is {domain}.\")\n",
    "else:\n",
    "    print(f\"{email_address} is not a valid email address.\")\n"
   ]
  },
  {
   "cell_type": "markdown",
   "id": "bd137874",
   "metadata": {},
   "source": [
    "33. Replace multiple spaces in a string with a single space."
   ]
  },
  {
   "cell_type": "code",
   "execution_count": 20,
   "id": "854b0fb5",
   "metadata": {},
   "outputs": [
    {
     "name": "stdout",
     "output_type": "stream",
     "text": [
      "Original string: This    is    a    string    with    multiple    spaces.\n",
      "Modified string: This is a string with multiple spaces.\n"
     ]
    }
   ],
   "source": [
    "import re\n",
    "\n",
    "def replace_multiple_spaces(input_string):\n",
    "    # Use a regular expression to replace multiple spaces with a single space\n",
    "    modified_string = re.sub(r'\\s+', ' ', input_string)\n",
    "\n",
    "    return modified_string\n",
    "\n",
    "# Example usage:\n",
    "original_string = \"This    is    a    string    with    multiple    spaces.\"\n",
    "result = replace_multiple_spaces(original_string)\n",
    "\n",
    "print(\"Original string:\", original_string)\n",
    "print(\"Modified string:\", result)\n"
   ]
  },
  {
   "cell_type": "markdown",
   "id": "3a3660a5",
   "metadata": {},
   "source": [
    "34. Check if a string is a valid URL."
   ]
  },
  {
   "cell_type": "code",
   "execution_count": 21,
   "id": "475e6811",
   "metadata": {},
   "outputs": [
    {
     "name": "stdout",
     "output_type": "stream",
     "text": [
      "https://www.google.com is a valid URL.\n"
     ]
    }
   ],
   "source": [
    "from urllib.parse import urlparse\n",
    "\n",
    "def is_valid_url(url):\n",
    "    try:\n",
    "        result = urlparse(url)\n",
    "        return all([result.scheme, result.netloc])\n",
    "    except ValueError:\n",
    "        return False\n",
    "\n",
    "# Example usage:\n",
    "url_to_check = \"https://www.google.com\"\n",
    "if is_valid_url(url_to_check):\n",
    "    print(f\"{url_to_check} is a valid URL.\")\n",
    "else:\n",
    "    print(f\"{url_to_check} is not a valid URL.\")\n"
   ]
  },
  {
   "cell_type": "markdown",
   "id": "d9553632",
   "metadata": {},
   "source": [
    "35. Extract the protocol (http or https) from a URL string."
   ]
  },
  {
   "cell_type": "code",
   "execution_count": 22,
   "id": "6f0db4d2",
   "metadata": {},
   "outputs": [
    {
     "name": "stdout",
     "output_type": "stream",
     "text": [
      "The protocol in https://www.google.com is https.\n"
     ]
    }
   ],
   "source": [
    "from urllib.parse import urlparse\n",
    "\n",
    "def extract_protocol(url):\n",
    "    parsed_url = urlparse(url)\n",
    "    return parsed_url.scheme\n",
    "\n",
    "# Example usage:\n",
    "url_to_extract = \"https://www.google.com\"\n",
    "protocol = extract_protocol(url_to_extract)\n",
    "\n",
    "print(f\"The protocol in {url_to_extract} is {protocol}.\")\n"
   ]
  },
  {
   "cell_type": "markdown",
   "id": "50ed2477",
   "metadata": {},
   "source": [
    "36. Find the frequency of each character in a string."
   ]
  },
  {
   "cell_type": "code",
   "execution_count": 23,
   "id": "d6f0c656",
   "metadata": {},
   "outputs": [
    {
     "name": "stdout",
     "output_type": "stream",
     "text": [
      "Character frequencies in 'hello world':\n",
      "'h': 1 times\n",
      "'e': 1 times\n",
      "'l': 3 times\n",
      "'o': 2 times\n",
      "' ': 1 times\n",
      "'w': 1 times\n",
      "'r': 1 times\n",
      "'d': 1 times\n"
     ]
    }
   ],
   "source": [
    "def character_frequency(input_string):\n",
    "    # Initialize an empty dictionary to store character frequencies\n",
    "    frequency_dict = {}\n",
    "\n",
    "    # Count the frequency of each character\n",
    "    for char in input_string:\n",
    "        # Use get() to initialize the count to 0 if the character is not in the dictionary\n",
    "        frequency_dict[char] = frequency_dict.get(char, 0) + 1\n",
    "\n",
    "    return frequency_dict\n",
    "\n",
    "# Example usage:\n",
    "my_string = \"hello world\"\n",
    "frequency_result = character_frequency(my_string)\n",
    "\n",
    "print(f\"Character frequencies in '{my_string}':\")\n",
    "for char, count in frequency_result.items():\n",
    "    print(f\"'{char}': {count} times\")\n"
   ]
  },
  {
   "cell_type": "markdown",
   "id": "7aa610c1",
   "metadata": {},
   "source": [
    "37. Remove all punctuation from a string."
   ]
  },
  {
   "cell_type": "code",
   "execution_count": 24,
   "id": "35418ab8",
   "metadata": {},
   "outputs": [
    {
     "name": "stdout",
     "output_type": "stream",
     "text": [
      "Original string: Hello, World! This is an example string with punctuation!!!\n",
      "String after removing punctuation: Hello World This is an example string with punctuation\n"
     ]
    }
   ],
   "source": [
    "import string\n",
    "\n",
    "def remove_punctuation(input_string):\n",
    "    # Create a translation table to map each punctuation character to None\n",
    "    translation_table = str.maketrans(\"\", \"\", string.punctuation)\n",
    "\n",
    "    # Use translate() to remove punctuation from the string\n",
    "    cleaned_string = input_string.translate(translation_table)\n",
    "\n",
    "    return cleaned_string\n",
    "\n",
    "# Example usage:\n",
    "original_string = \"Hello, World! This is an example string with punctuation!!!\"\n",
    "result = remove_punctuation(original_string)\n",
    "\n",
    "print(\"Original string:\", original_string)\n",
    "print(\"String after removing punctuation:\", result)\n"
   ]
  },
  {
   "cell_type": "markdown",
   "id": "76960f3c",
   "metadata": {},
   "source": [
    "38. Check if a string contains only digits."
   ]
  },
  {
   "cell_type": "code",
   "execution_count": 25,
   "id": "a8bcc077",
   "metadata": {},
   "outputs": [
    {
     "name": "stdout",
     "output_type": "stream",
     "text": [
      "12345 contains only digits.\n"
     ]
    }
   ],
   "source": [
    "def contains_only_digits(input_string):\n",
    "    return input_string.isdigit()\n",
    "\n",
    "# Example usage:\n",
    "my_string = \"12345\"\n",
    "\n",
    "if contains_only_digits(my_string):\n",
    "    print(f\"{my_string} contains only digits.\")\n",
    "else:\n",
    "    print(f\"{my_string} does not contain only digits.\")\n"
   ]
  },
  {
   "cell_type": "markdown",
   "id": "75c4b379",
   "metadata": {},
   "source": [
    "39. Check if a string contains only alphabets."
   ]
  },
  {
   "cell_type": "code",
   "execution_count": 26,
   "id": "647439df",
   "metadata": {},
   "outputs": [
    {
     "name": "stdout",
     "output_type": "stream",
     "text": [
      "Hello contains only alphabets.\n"
     ]
    }
   ],
   "source": [
    "def contains_only_alphabets(input_string):\n",
    "    return input_string.isalpha()\n",
    "\n",
    "# Example usage:\n",
    "my_string = \"Hello\"\n",
    "\n",
    "if contains_only_alphabets(my_string):\n",
    "    print(f\"{my_string} contains only alphabets.\")\n",
    "else:\n",
    "    print(f\"{my_string} does not contain only alphabets.\")\n"
   ]
  },
  {
   "cell_type": "markdown",
   "id": "78f1bc93",
   "metadata": {},
   "source": [
    "40. Convert a string to a list of characters."
   ]
  },
  {
   "cell_type": "code",
   "execution_count": 27,
   "id": "1a6b162e",
   "metadata": {},
   "outputs": [
    {
     "name": "stdout",
     "output_type": "stream",
     "text": [
      "Original string: Hello, World!\n",
      "List of characters: ['H', 'e', 'l', 'l', 'o', ',', ' ', 'W', 'o', 'r', 'l', 'd', '!']\n"
     ]
    }
   ],
   "source": [
    "my_string = \"Hello, World!\"\n",
    "\n",
    "# Convert the string to a list of characters\n",
    "character_list = list(my_string)\n",
    "\n",
    "# Print the result\n",
    "print(\"Original string:\", my_string)\n",
    "print(\"List of characters:\", character_list)\n"
   ]
  },
  {
   "cell_type": "markdown",
   "id": "d1183a37",
   "metadata": {},
   "source": [
    "41. Check if two strings are anagrams."
   ]
  },
  {
   "cell_type": "code",
   "execution_count": 28,
   "id": "0c9ffc0d",
   "metadata": {},
   "outputs": [
    {
     "name": "stdout",
     "output_type": "stream",
     "text": [
      "Listen and Silent are anagrams.\n"
     ]
    }
   ],
   "source": [
    "def are_anagrams(str1, str2):\n",
    "    # Convert both strings to lowercase and remove spaces for case-insensitive and space-insensitive comparison\n",
    "    str1 = str1.lower().replace(\" \", \"\")\n",
    "    str2 = str2.lower().replace(\" \", \"\")\n",
    "\n",
    "    # Check if the sorted versions of the strings are the same\n",
    "    return sorted(str1) == sorted(str2)\n",
    "\n",
    "# Example usage:\n",
    "string1 = \"Listen\"\n",
    "string2 = \"Silent\"\n",
    "\n",
    "if are_anagrams(string1, string2):\n",
    "    print(f\"{string1} and {string2} are anagrams.\")\n",
    "else:\n",
    "    print(f\"{string1} and {string2} are not anagrams.\")\n"
   ]
  },
  {
   "cell_type": "markdown",
   "id": "bc46df29",
   "metadata": {},
   "source": [
    "42. Encode a string using a Caesar cipher."
   ]
  },
  {
   "cell_type": "code",
   "execution_count": 29,
   "id": "f2588cda",
   "metadata": {},
   "outputs": [
    {
     "name": "stdout",
     "output_type": "stream",
     "text": [
      "Original text: Hello, World!\n",
      "Encrypted text (Caesar cipher with shift 3): Khoor, Zruog!\n"
     ]
    }
   ],
   "source": [
    "def caesar_cipher_encrypt(text, shift):\n",
    "    encrypted_text = \"\"\n",
    "\n",
    "    for char in text:\n",
    "        if char.isalpha():\n",
    "            # Determine whether the character is uppercase or lowercase\n",
    "            is_upper = char.isupper()\n",
    "\n",
    "            # Shift the character by the specified amount\n",
    "            shifted_char = chr((ord(char) - ord('A' if is_upper else 'a') + shift) % 26 + ord('A' if is_upper else 'a'))\n",
    "\n",
    "            encrypted_text += shifted_char\n",
    "        else:\n",
    "            # Keep non-alphabetic characters unchanged\n",
    "            encrypted_text += char\n",
    "\n",
    "    return encrypted_text\n",
    "\n",
    "# Example usage:\n",
    "original_text = \"Hello, World!\"\n",
    "shift_amount = 3\n",
    "encrypted_text = caesar_cipher_encrypt(original_text, shift_amount)\n",
    "\n",
    "print(\"Original text:\", original_text)\n",
    "print(f\"Encrypted text (Caesar cipher with shift {shift_amount}):\", encrypted_text)\n"
   ]
  },
  {
   "cell_type": "markdown",
   "id": "aea9abd0",
   "metadata": {},
   "source": [
    "43. Decode a Caesar cipher encoded string."
   ]
  },
  {
   "cell_type": "code",
   "execution_count": 30,
   "id": "5be58510",
   "metadata": {},
   "outputs": [
    {
     "name": "stdout",
     "output_type": "stream",
     "text": [
      "Original text: Hello, World!\n",
      "Encrypted text (Caesar cipher with shift 3): Khoor, Zruog!\n"
     ]
    }
   ],
   "source": [
    "def caesar_cipher_encrypt(text, shift):\n",
    "    encrypted_text = \"\"\n",
    "\n",
    "    for char in text:\n",
    "        if char.isalpha():\n",
    "            # Determine whether the character is uppercase or lowercase\n",
    "            is_upper = char.isupper()\n",
    "\n",
    "            # Shift the character by the specified amount\n",
    "            shifted_char = chr((ord(char) - ord('A' if is_upper else 'a') + shift) % 26 + ord('A' if is_upper else 'a'))\n",
    "\n",
    "            encrypted_text += shifted_char\n",
    "        else:\n",
    "            # Keep non-alphabetic characters unchanged\n",
    "            encrypted_text += char\n",
    "\n",
    "    return encrypted_text\n",
    "\n",
    "# Example usage:\n",
    "original_text = \"Hello, World!\"\n",
    "shift_amount = 3\n",
    "encrypted_text = caesar_cipher_encrypt(original_text, shift_amount)\n",
    "\n",
    "print(\"Original text:\", original_text)\n",
    "print(f\"Encrypted text (Caesar cipher with shift {shift_amount}):\", encrypted_text)\n"
   ]
  },
  {
   "cell_type": "markdown",
   "id": "87611b8d",
   "metadata": {},
   "source": [
    "44. Find the most frequent word in a string."
   ]
  },
  {
   "cell_type": "code",
   "execution_count": 31,
   "id": "45513f44",
   "metadata": {},
   "outputs": [
    {
     "name": "stdout",
     "output_type": "stream",
     "text": [
      "The most frequent word is 'sample' with a frequency of 3 times.\n"
     ]
    }
   ],
   "source": [
    "from collections import Counter\n",
    "import re\n",
    "\n",
    "def most_frequent_word(input_string):\n",
    "    # Use regular expression to extract words\n",
    "    words = re.findall(r'\\b\\w+\\b', input_string.lower())\n",
    "\n",
    "    # Use Counter to count word occurrences\n",
    "    word_counts = Counter(words)\n",
    "\n",
    "    # Find the most common word\n",
    "    most_common_word, frequency = word_counts.most_common(1)[0]\n",
    "\n",
    "    return most_common_word, frequency\n",
    "\n",
    "# Example usage:\n",
    "my_string = \"This is a sample string. The sample string contains some sample words.\"\n",
    "\n",
    "most_common, frequency = most_frequent_word(my_string)\n",
    "\n",
    "print(f\"The most frequent word is '{most_common}' with a frequency of {frequency} times.\")\n"
   ]
  },
  {
   "cell_type": "markdown",
   "id": "3698a249",
   "metadata": {},
   "source": [
    "45. Find all unique words in a string."
   ]
  },
  {
   "cell_type": "code",
   "execution_count": 32,
   "id": "a4838247",
   "metadata": {},
   "outputs": [
    {
     "name": "stdout",
     "output_type": "stream",
     "text": [
      "Original string: This is a sample string. The sample string contains some sample words.\n",
      "Unique words: {'this', 'contains', 'sample', 'string', 'some', 'the', 'words', 'is', 'a'}\n"
     ]
    }
   ],
   "source": [
    "import re\n",
    "\n",
    "def unique_words(input_string):\n",
    "    # Use regular expression to extract words\n",
    "    words = re.findall(r'\\b\\w+\\b', input_string.lower())\n",
    "\n",
    "    # Use set to get unique words\n",
    "    unique_word_set = set(words)\n",
    "\n",
    "    return unique_word_set\n",
    "\n",
    "# Example usage:\n",
    "my_string = \"This is a sample string. The sample string contains some sample words.\"\n",
    "\n",
    "unique_words_set = unique_words(my_string)\n",
    "\n",
    "print(f\"Original string: {my_string}\")\n",
    "print(f\"Unique words: {unique_words_set}\")\n"
   ]
  },
  {
   "cell_type": "markdown",
   "id": "f51a4a9b",
   "metadata": {},
   "source": [
    "46. Count the number of syllables in a string."
   ]
  },
  {
   "cell_type": "code",
   "execution_count": 33,
   "id": "431d7276",
   "metadata": {},
   "outputs": [
    {
     "name": "stdout",
     "output_type": "stream",
     "text": [
      "Original string: Hello world! This is a sample sentence.\n",
      "Total syllables: 11\n"
     ]
    }
   ],
   "source": [
    "def count_syllables(word):\n",
    "    vowels = \"aeiouy\"\n",
    "    count = 0\n",
    "    is_vowel = False\n",
    "\n",
    "    for char in word.lower():\n",
    "        if char in vowels:\n",
    "            if not is_vowel:\n",
    "                count += 1\n",
    "                is_vowel = True\n",
    "        else:\n",
    "            is_vowel = False\n",
    "\n",
    "    return count\n",
    "\n",
    "def total_syllables(input_string):\n",
    "    words = input_string.split()\n",
    "    total = sum(count_syllables(word) for word in words)\n",
    "    return total\n",
    "\n",
    "# Example usage:\n",
    "my_string = \"Hello world! This is a sample sentence.\"\n",
    "\n",
    "syllable_count = total_syllables(my_string)\n",
    "\n",
    "print(f\"Original string: {my_string}\")\n",
    "print(f\"Total syllables: {syllable_count}\")\n"
   ]
  },
  {
   "cell_type": "markdown",
   "id": "d57c01ff",
   "metadata": {},
   "source": [
    "47. Check if a string contains any special characters."
   ]
  },
  {
   "cell_type": "code",
   "execution_count": 34,
   "id": "da1c793c",
   "metadata": {},
   "outputs": [
    {
     "name": "stdout",
     "output_type": "stream",
     "text": [
      "Hello World! contains special characters.\n"
     ]
    }
   ],
   "source": [
    "import re\n",
    "\n",
    "def contains_special_characters(input_string):\n",
    "    # Define a regular expression to match special characters\n",
    "    special_characters_pattern = re.compile(r'[!@#$%^&*(),.?\":{}|<>]')\n",
    "\n",
    "    # Use re.search() to check if the pattern is found in the string\n",
    "    return bool(re.search(special_characters_pattern, input_string))\n",
    "\n",
    "# Example usage:\n",
    "my_string = \"Hello World!\"\n",
    "if contains_special_characters(my_string):\n",
    "    print(f\"{my_string} contains special characters.\")\n",
    "else:\n",
    "    print(f\"{my_string} does not contain special characters.\")\n"
   ]
  },
  {
   "cell_type": "markdown",
   "id": "c2ef22cd",
   "metadata": {},
   "source": [
    "48. Remove the nth word from a string."
   ]
  },
  {
   "cell_type": "code",
   "execution_count": 35,
   "id": "74b40b64",
   "metadata": {},
   "outputs": [
    {
     "name": "stdout",
     "output_type": "stream",
     "text": [
      "Original string: This is a sample sentence.\n",
      "String after removing the 3th word: This is sample sentence.\n"
     ]
    }
   ],
   "source": [
    "def remove_nth_word(input_string, n):\n",
    "    words = input_string.split()\n",
    "\n",
    "    # Check if the specified index is within the bounds of the list\n",
    "    if 1 <= n <= len(words):\n",
    "        # Remove the nth word\n",
    "        del words[n - 1]\n",
    "\n",
    "        # Create a new string by joining the remaining words\n",
    "        modified_string = ' '.join(words)\n",
    "\n",
    "        return modified_string\n",
    "    else:\n",
    "        # If the index is out of bounds, return the original string\n",
    "        return input_string\n",
    "\n",
    "# Example usage:\n",
    "original_string = \"This is a sample sentence.\"\n",
    "index_to_remove = 3\n",
    "\n",
    "result = remove_nth_word(original_string, index_to_remove)\n",
    "\n",
    "print(f\"Original string: {original_string}\")\n",
    "print(f\"String after removing the {index_to_remove}th word: {result}\")\n"
   ]
  },
  {
   "cell_type": "markdown",
   "id": "ef2ef0ab",
   "metadata": {},
   "source": [
    "49. Insert a word at the nth position in a string."
   ]
  },
  {
   "cell_type": "code",
   "execution_count": 36,
   "id": "e1dc41f1",
   "metadata": {},
   "outputs": [
    {
     "name": "stdout",
     "output_type": "stream",
     "text": [
      "Original string: This is a sample sentence.\n",
      "String after inserting 'new' at position 2: This is new a sample sentence.\n"
     ]
    }
   ],
   "source": [
    "def insert_word_at_position(input_string, new_word, n):\n",
    "    words = input_string.split()\n",
    "\n",
    "    # Check if the specified index is within the bounds of the list\n",
    "    if 0 <= n <= len(words):\n",
    "        # Insert the new word at the specified position\n",
    "        words.insert(n, new_word)\n",
    "\n",
    "        # Create a new string by joining the modified list of words\n",
    "        modified_string = ' '.join(words)\n",
    "\n",
    "        return modified_string\n",
    "    else:\n",
    "        # If the index is out of bounds, return the original string\n",
    "        return input_string\n",
    "\n",
    "# Example usage:\n",
    "original_string = \"This is a sample sentence.\"\n",
    "word_to_insert = \"new\"\n",
    "index_to_insert = 2\n",
    "\n",
    "result = insert_word_at_position(original_string, word_to_insert, index_to_insert)\n",
    "\n",
    "print(f\"Original string: {original_string}\")\n",
    "print(f\"String after inserting '{word_to_insert}' at position {index_to_insert}: {result}\")\n"
   ]
  },
  {
   "cell_type": "markdown",
   "id": "3905e81c",
   "metadata": {},
   "source": [
    "50. Convert a CSV string to a list of lists."
   ]
  },
  {
   "cell_type": "code",
   "execution_count": 37,
   "id": "1e961b89",
   "metadata": {},
   "outputs": [
    {
     "name": "stdout",
     "output_type": "stream",
     "text": [
      "CSV string:\n",
      "Name, Age, City\n",
      "John, 25, New York\n",
      "Alice, 30, London\n",
      "Bob, 22, Paris\n",
      "\n",
      "List of lists:\n",
      "[['Name', ' Age', ' City'], ['John', ' 25', ' New York'], ['Alice', ' 30', ' London'], ['Bob', ' 22', ' Paris']]\n"
     ]
    }
   ],
   "source": [
    "import csv\n",
    "from io import StringIO\n",
    "\n",
    "def csv_string_to_list(csv_string):\n",
    "    # Create a StringIO object to simulate a file-like object\n",
    "    csv_file = StringIO(csv_string)\n",
    "\n",
    "    # Use csv.reader to parse the CSV data into a list of lists\n",
    "    csv_reader = csv.reader(csv_file)\n",
    "    \n",
    "    # Convert the csv_reader object to a list of lists\n",
    "    list_of_lists = list(csv_reader)\n",
    "\n",
    "    return list_of_lists\n",
    "\n",
    "# Example usage:\n",
    "csv_string = \"Name, Age, City\\nJohn, 25, New York\\nAlice, 30, London\\nBob, 22, Paris\"\n",
    "\n",
    "result = csv_string_to_list(csv_string)\n",
    "\n",
    "print(\"CSV string:\")\n",
    "print(csv_string)\n",
    "print(\"\\nList of lists:\")\n",
    "print(result)\n"
   ]
  },
  {
   "cell_type": "markdown",
   "id": "07ce6d3a",
   "metadata": {},
   "source": [
    "# List Based Practice Problem :"
   ]
  },
  {
   "cell_type": "markdown",
   "id": "cfc48e8b",
   "metadata": {},
   "source": [
    "1. Create a list with integers from 1 to 10."
   ]
  },
  {
   "cell_type": "code",
   "execution_count": 38,
   "id": "42c28089",
   "metadata": {},
   "outputs": [
    {
     "name": "stdout",
     "output_type": "stream",
     "text": [
      "List of integers from 1 to 10: [1, 2, 3, 4, 5, 6, 7, 8, 9, 10]\n"
     ]
    }
   ],
   "source": [
    "# Using range() and list() to create a list of integers from 1 to 10\n",
    "my_list = list(range(1, 11))\n",
    "\n",
    "# Printing the result\n",
    "print(\"List of integers from 1 to 10:\", my_list)\n"
   ]
  },
  {
   "cell_type": "markdown",
   "id": "d6a9aea7",
   "metadata": {},
   "source": [
    "2. Find the length of a list without using the `len()` function."
   ]
  },
  {
   "cell_type": "code",
   "execution_count": 39,
   "id": "db7d7833",
   "metadata": {},
   "outputs": [
    {
     "name": "stdout",
     "output_type": "stream",
     "text": [
      "List: [1, 2, 3, 4, 5]\n",
      "Length of the list: 5\n"
     ]
    }
   ],
   "source": [
    "def custom_len(my_list):\n",
    "    count = 0\n",
    "    for _ in my_list:\n",
    "        count += 1\n",
    "    return count\n",
    "\n",
    "# Example usage:\n",
    "my_list = [1, 2, 3, 4, 5]\n",
    "\n",
    "length = custom_len(my_list)\n",
    "\n",
    "print(\"List:\", my_list)\n",
    "print(\"Length of the list:\", length)\n"
   ]
  },
  {
   "cell_type": "markdown",
   "id": "e6305b5e",
   "metadata": {},
   "source": [
    "3. Append an element to the end of a list."
   ]
  },
  {
   "cell_type": "code",
   "execution_count": 40,
   "id": "79833ac1",
   "metadata": {},
   "outputs": [
    {
     "name": "stdout",
     "output_type": "stream",
     "text": [
      "Original list: [1, 2, 3, 4, 5, 6]\n"
     ]
    }
   ],
   "source": [
    "# Original list\n",
    "my_list = [1, 2, 3, 4, 5]\n",
    "\n",
    "# Element to append\n",
    "new_element = 6\n",
    "\n",
    "# Append the element to the end of the list\n",
    "my_list.append(new_element)\n",
    "\n",
    "# Print the updated list\n",
    "print(\"Original list:\", my_list)\n"
   ]
  },
  {
   "cell_type": "markdown",
   "id": "fb7a2076",
   "metadata": {},
   "source": [
    "4. Insert an element at a specific index in a list."
   ]
  },
  {
   "cell_type": "code",
   "execution_count": 41,
   "id": "9fa9032f",
   "metadata": {},
   "outputs": [
    {
     "name": "stdout",
     "output_type": "stream",
     "text": [
      "Original list: [1, 2, 6, 3, 4, 5]\n"
     ]
    }
   ],
   "source": [
    "# Original list\n",
    "my_list = [1, 2, 3, 4, 5]\n",
    "\n",
    "# Element to insert\n",
    "new_element = 6\n",
    "\n",
    "# Index at which to insert the element\n",
    "index_to_insert = 2\n",
    "\n",
    "# Insert the element at the specified index\n",
    "my_list.insert(index_to_insert, new_element)\n",
    "\n",
    "# Print the updated list\n",
    "print(\"Original list:\", my_list)\n"
   ]
  },
  {
   "cell_type": "markdown",
   "id": "380b9654",
   "metadata": {},
   "source": [
    "5. Remove an element from a list by its value."
   ]
  },
  {
   "cell_type": "code",
   "execution_count": 42,
   "id": "fa560751",
   "metadata": {},
   "outputs": [
    {
     "name": "stdout",
     "output_type": "stream",
     "text": [
      "Original list: [1, 2, 4, 5]\n"
     ]
    }
   ],
   "source": [
    "# Original list\n",
    "my_list = [1, 2, 3, 4, 5]\n",
    "\n",
    "# Element to remove\n",
    "element_to_remove = 3\n",
    "\n",
    "# Remove the element by value\n",
    "my_list.remove(element_to_remove)\n",
    "\n",
    "# Print the updated list\n",
    "print(\"Original list:\", my_list)\n"
   ]
  },
  {
   "cell_type": "markdown",
   "id": "96e9a782",
   "metadata": {},
   "source": [
    "6. Remove an element from a list by its index."
   ]
  },
  {
   "cell_type": "code",
   "execution_count": 43,
   "id": "f6b9788d",
   "metadata": {},
   "outputs": [
    {
     "name": "stdout",
     "output_type": "stream",
     "text": [
      "Original list: [1, 2, 4, 5]\n",
      "Removed element at index 2: 3\n"
     ]
    }
   ],
   "source": [
    "# Original list\n",
    "my_list = [1, 2, 3, 4, 5]\n",
    "\n",
    "# Index of the element to remove\n",
    "index_to_remove = 2\n",
    "\n",
    "# Remove the element at the specified index\n",
    "removed_element = my_list.pop(index_to_remove)\n",
    "\n",
    "# Print the updated list and the removed element\n",
    "print(\"Original list:\", my_list)\n",
    "print(f\"Removed element at index {index_to_remove}: {removed_element}\")\n"
   ]
  },
  {
   "cell_type": "markdown",
   "id": "da5a4232",
   "metadata": {},
   "source": [
    "7. Check if an element exists in a list."
   ]
  },
  {
   "cell_type": "code",
   "execution_count": 44,
   "id": "c26d687c",
   "metadata": {},
   "outputs": [
    {
     "name": "stdout",
     "output_type": "stream",
     "text": [
      "3 exists in the list.\n"
     ]
    }
   ],
   "source": [
    "# Original list\n",
    "my_list = [1, 2, 3, 4, 5]\n",
    "\n",
    "# Element to check\n",
    "element_to_check = 3\n",
    "\n",
    "# Check if the element exists in the list\n",
    "if element_to_check in my_list:\n",
    "    print(f\"{element_to_check} exists in the list.\")\n",
    "else:\n",
    "    print(f\"{element_to_check} does not exist in the list.\")\n"
   ]
  },
  {
   "cell_type": "markdown",
   "id": "733dba27",
   "metadata": {},
   "source": [
    "8. Find the index of the first occurrence of an element in a list."
   ]
  },
  {
   "cell_type": "code",
   "execution_count": 45,
   "id": "0a79d2b2",
   "metadata": {},
   "outputs": [
    {
     "name": "stdout",
     "output_type": "stream",
     "text": [
      "The index of the first occurrence of 3 is: 2\n"
     ]
    }
   ],
   "source": [
    "# Original list\n",
    "my_list = [1, 2, 3, 4, 5, 3]\n",
    "\n",
    "# Element to find\n",
    "element_to_find = 3\n",
    "\n",
    "try:\n",
    "    # Find the index of the first occurrence of the element\n",
    "    index_of_element = my_list.index(element_to_find)\n",
    "    print(f\"The index of the first occurrence of {element_to_find} is: {index_of_element}\")\n",
    "except ValueError:\n",
    "    print(f\"{element_to_find} is not in the list.\")\n"
   ]
  },
  {
   "cell_type": "markdown",
   "id": "21e1ebb8",
   "metadata": {},
   "source": [
    "9. Count the occurrences of an element in a list."
   ]
  },
  {
   "cell_type": "code",
   "execution_count": 46,
   "id": "d8ea25c7",
   "metadata": {},
   "outputs": [
    {
     "name": "stdout",
     "output_type": "stream",
     "text": [
      "The element 3 appears 3 times in the list.\n"
     ]
    }
   ],
   "source": [
    "# Original list\n",
    "my_list = [1, 2, 3, 4, 5, 3, 3]\n",
    "\n",
    "# Element to count\n",
    "element_to_count = 3\n",
    "\n",
    "# Count the occurrences of the element in the list\n",
    "occurrences = my_list.count(element_to_count)\n",
    "\n",
    "print(f\"The element {element_to_count} appears {occurrences} times in the list.\")\n"
   ]
  },
  {
   "cell_type": "markdown",
   "id": "48a678f7",
   "metadata": {},
   "source": [
    "10. Reverse the order of elements in a list."
   ]
  },
  {
   "cell_type": "code",
   "execution_count": 48,
   "id": "39321203",
   "metadata": {},
   "outputs": [
    {
     "name": "stdout",
     "output_type": "stream",
     "text": [
      "Reversed list: [5, 4, 3, 2, 1]\n"
     ]
    }
   ],
   "source": [
    "# Using the reverse() method:\n",
    "# Original list\n",
    "my_list = [1, 2, 3, 4, 5]\n",
    "\n",
    "# Reverse the order of elements using the reverse() method\n",
    "my_list.reverse()\n",
    "\n",
    "# Print the updated list\n",
    "print(\"Reversed list:\", my_list)\n"
   ]
  },
  {
   "cell_type": "code",
   "execution_count": 49,
   "id": "54cafe3e",
   "metadata": {},
   "outputs": [
    {
     "name": "stdout",
     "output_type": "stream",
     "text": [
      "Reversed list: [5, 4, 3, 2, 1]\n"
     ]
    }
   ],
   "source": [
    "# Using slicing:\n",
    "# Original list\n",
    "my_list = [1, 2, 3, 4, 5]\n",
    "\n",
    "# Reverse the order of elements using slicing\n",
    "reversed_list = my_list[::-1]\n",
    "\n",
    "# Print the updated list\n",
    "print(\"Reversed list:\", reversed_list)\n"
   ]
  },
  {
   "cell_type": "markdown",
   "id": "01802654",
   "metadata": {},
   "source": [
    "11. Sort a list in ascending order."
   ]
  },
  {
   "cell_type": "code",
   "execution_count": 50,
   "id": "1f396806",
   "metadata": {},
   "outputs": [
    {
     "name": "stdout",
     "output_type": "stream",
     "text": [
      "Sorted list: [1, 2, 3, 5, 8]\n"
     ]
    }
   ],
   "source": [
    "# Using the sort() method:\n",
    "# Original list\n",
    "my_list = [5, 2, 8, 1, 3]\n",
    "\n",
    "# Sort the list in ascending order using the sort() method\n",
    "my_list.sort()\n",
    "\n",
    "# Print the sorted list\n",
    "print(\"Sorted list:\", my_list)\n"
   ]
  },
  {
   "cell_type": "code",
   "execution_count": 51,
   "id": "689625eb",
   "metadata": {},
   "outputs": [
    {
     "name": "stdout",
     "output_type": "stream",
     "text": [
      "Original list: [5, 2, 8, 1, 3]\n",
      "Sorted list: [1, 2, 3, 5, 8]\n"
     ]
    }
   ],
   "source": [
    "# Using the sorted() function:\n",
    "# Original list\n",
    "my_list = [5, 2, 8, 1, 3]\n",
    "\n",
    "# Create a new sorted list using the sorted() function\n",
    "sorted_list = sorted(my_list)\n",
    "\n",
    "# Print the original and sorted lists\n",
    "print(\"Original list:\", my_list)\n",
    "print(\"Sorted list:\", sorted_list)\n"
   ]
  },
  {
   "cell_type": "markdown",
   "id": "8fd273e2",
   "metadata": {},
   "source": [
    "12. Sort a list in descending order."
   ]
  },
  {
   "cell_type": "code",
   "execution_count": 52,
   "id": "e814916a",
   "metadata": {},
   "outputs": [
    {
     "name": "stdout",
     "output_type": "stream",
     "text": [
      "Sorted list in descending order: [8, 5, 3, 2, 1]\n"
     ]
    }
   ],
   "source": [
    "# Using the sort() method:\n",
    "# Original list\n",
    "my_list = [5, 2, 8, 1, 3]\n",
    "\n",
    "# Sort the list in descending order using the sort() method\n",
    "my_list.sort(reverse=True)\n",
    "\n",
    "# Print the sorted list\n",
    "print(\"Sorted list in descending order:\", my_list)\n"
   ]
  },
  {
   "cell_type": "code",
   "execution_count": 53,
   "id": "52b0cf14",
   "metadata": {},
   "outputs": [
    {
     "name": "stdout",
     "output_type": "stream",
     "text": [
      "Original list: [5, 2, 8, 1, 3]\n",
      "Sorted list in descending order: [8, 5, 3, 2, 1]\n"
     ]
    }
   ],
   "source": [
    "# Using the sorted() function:\n",
    "# Original list\n",
    "my_list = [5, 2, 8, 1, 3]\n",
    "\n",
    "# Create a new list sorted in descending order using the sorted() function\n",
    "sorted_list_desc = sorted(my_list, reverse=True)\n",
    "\n",
    "# Print the original and sorted lists\n",
    "print(\"Original list:\", my_list)\n",
    "print(\"Sorted list in descending order:\", sorted_list_desc)\n"
   ]
  },
  {
   "cell_type": "markdown",
   "id": "76c1b7f0",
   "metadata": {},
   "source": [
    "13. Create a list of even numbers from 1 to 20."
   ]
  },
  {
   "cell_type": "code",
   "execution_count": 54,
   "id": "11292221",
   "metadata": {},
   "outputs": [
    {
     "name": "stdout",
     "output_type": "stream",
     "text": [
      "List of even numbers from 1 to 20: [2, 4, 6, 8, 10, 12, 14, 16, 18, 20]\n"
     ]
    }
   ],
   "source": [
    "# Using range() and list comprehension to create a list of even numbers from 1 to 20\n",
    "even_numbers = [num for num in range(2, 21, 2)]\n",
    "\n",
    "# Printing the result\n",
    "print(\"List of even numbers from 1 to 20:\", even_numbers)\n"
   ]
  },
  {
   "cell_type": "markdown",
   "id": "8da14b8d",
   "metadata": {},
   "source": [
    "14. Create a list of odd numbers from 1 to 20."
   ]
  },
  {
   "cell_type": "code",
   "execution_count": 55,
   "id": "90c776dd",
   "metadata": {},
   "outputs": [
    {
     "name": "stdout",
     "output_type": "stream",
     "text": [
      "List of odd numbers from 1 to 20: [1, 3, 5, 7, 9, 11, 13, 15, 17, 19]\n"
     ]
    }
   ],
   "source": [
    "# Using range() and list comprehension to create a list of odd numbers from 1 to 20\n",
    "odd_numbers = [num for num in range(1, 21, 2)]\n",
    "\n",
    "# Printing the result\n",
    "print(\"List of odd numbers from 1 to 20:\", odd_numbers)\n"
   ]
  },
  {
   "cell_type": "markdown",
   "id": "39c3a60e",
   "metadata": {},
   "source": [
    "15. Find the sum of all elements in a list."
   ]
  },
  {
   "cell_type": "code",
   "execution_count": 56,
   "id": "7cf7a726",
   "metadata": {},
   "outputs": [
    {
     "name": "stdout",
     "output_type": "stream",
     "text": [
      "Original list: [1, 2, 3, 4, 5]\n",
      "Sum of all elements: 15\n"
     ]
    }
   ],
   "source": [
    "# Original list\n",
    "my_list = [1, 2, 3, 4, 5]\n",
    "\n",
    "# Find the sum of all elements in the list\n",
    "sum_of_elements = sum(my_list)\n",
    "\n",
    "# Print the result\n",
    "print(\"Original list:\", my_list)\n",
    "print(\"Sum of all elements:\", sum_of_elements)\n"
   ]
  },
  {
   "cell_type": "markdown",
   "id": "515aa311",
   "metadata": {},
   "source": [
    "16. Find the maximum value in a list."
   ]
  },
  {
   "cell_type": "code",
   "execution_count": 57,
   "id": "d0f6e10b",
   "metadata": {},
   "outputs": [
    {
     "name": "stdout",
     "output_type": "stream",
     "text": [
      "Original list: [1, 7, 3, 9, 5]\n",
      "Maximum value: 9\n"
     ]
    }
   ],
   "source": [
    "# Original list\n",
    "my_list = [1, 7, 3, 9, 5]\n",
    "\n",
    "# Find the maximum value in the list\n",
    "max_value = max(my_list)\n",
    "\n",
    "# Print the result\n",
    "print(\"Original list:\", my_list)\n",
    "print(\"Maximum value:\", max_value)\n"
   ]
  },
  {
   "cell_type": "markdown",
   "id": "c000f35d",
   "metadata": {},
   "source": [
    "17. Find the minimum value in a list."
   ]
  },
  {
   "cell_type": "code",
   "execution_count": 58,
   "id": "bc78b3e3",
   "metadata": {},
   "outputs": [
    {
     "name": "stdout",
     "output_type": "stream",
     "text": [
      "Original list: [1, 7, 3, 9, 5]\n",
      "Minimum value: 1\n"
     ]
    }
   ],
   "source": [
    "# Original list\n",
    "my_list = [1, 7, 3, 9, 5]\n",
    "\n",
    "# Find the minimum value in the list\n",
    "min_value = min(my_list)\n",
    "\n",
    "# Print the result\n",
    "print(\"Original list:\", my_list)\n",
    "print(\"Minimum value:\", min_value)\n"
   ]
  },
  {
   "cell_type": "markdown",
   "id": "5006f5c4",
   "metadata": {},
   "source": [
    "18. Create a list of squares of numbers from 1 to 10."
   ]
  },
  {
   "cell_type": "code",
   "execution_count": 59,
   "id": "05762220",
   "metadata": {},
   "outputs": [
    {
     "name": "stdout",
     "output_type": "stream",
     "text": [
      "List of squares from 1 to 10: [1, 4, 9, 16, 25, 36, 49, 64, 81, 100]\n"
     ]
    }
   ],
   "source": [
    "# Using list comprehension to create a list of squares of numbers from 1 to 10\n",
    "squares = [num ** 2 for num in range(1, 11)]\n",
    "\n",
    "# Printing the result\n",
    "print(\"List of squares from 1 to 10:\", squares)\n"
   ]
  },
  {
   "cell_type": "markdown",
   "id": "2f3bb1b0",
   "metadata": {},
   "source": [
    "19. Create a list of random numbers."
   ]
  },
  {
   "cell_type": "code",
   "execution_count": 60,
   "id": "90a2c690",
   "metadata": {},
   "outputs": [
    {
     "name": "stdout",
     "output_type": "stream",
     "text": [
      "List of random numbers: [0.4614934611149306, 0.44602170897538806, 0.9187945434870254, 0.0660137988042504, 0.4691900341924098]\n"
     ]
    }
   ],
   "source": [
    "import random\n",
    "\n",
    "# Create a list of 5 random floating-point numbers\n",
    "random_numbers = [random.uniform(0, 1) for _ in range(5)]\n",
    "\n",
    "# Print the result\n",
    "print(\"List of random numbers:\", random_numbers)\n"
   ]
  },
  {
   "cell_type": "markdown",
   "id": "010c90d4",
   "metadata": {},
   "source": [
    "20. Remove duplicates from a list."
   ]
  },
  {
   "cell_type": "code",
   "execution_count": 61,
   "id": "b46e6e4b",
   "metadata": {},
   "outputs": [
    {
     "name": "stdout",
     "output_type": "stream",
     "text": [
      "Original list with duplicates: [1, 2, 2, 3, 4, 4, 5]\n",
      "List with duplicates removed: [1, 2, 3, 4, 5]\n"
     ]
    }
   ],
   "source": [
    "# Original list with duplicates\n",
    "my_list = [1, 2, 2, 3, 4, 4, 5]\n",
    "\n",
    "# Remove duplicates using set()\n",
    "unique_list = list(set(my_list))\n",
    "\n",
    "# Print the result\n",
    "print(\"Original list with duplicates:\", my_list)\n",
    "print(\"List with duplicates removed:\", unique_list)\n"
   ]
  },
  {
   "cell_type": "markdown",
   "id": "c1f61a86",
   "metadata": {},
   "source": [
    "21. Find the common elements between two lists."
   ]
  },
  {
   "cell_type": "code",
   "execution_count": 62,
   "id": "dd45dd61",
   "metadata": {},
   "outputs": [
    {
     "name": "stdout",
     "output_type": "stream",
     "text": [
      "List 1: [1, 2, 3, 4, 5]\n",
      "List 2: [3, 4, 5, 6, 7]\n",
      "Common elements: [3, 4, 5]\n"
     ]
    }
   ],
   "source": [
    "# Two lists\n",
    "list1 = [1, 2, 3, 4, 5]\n",
    "list2 = [3, 4, 5, 6, 7]\n",
    "\n",
    "# Find common elements using set intersection\n",
    "common_elements = list(set(list1) & set(list2))\n",
    "\n",
    "# Print the result\n",
    "print(\"List 1:\", list1)\n",
    "print(\"List 2:\", list2)\n",
    "print(\"Common elements:\", common_elements)\n"
   ]
  },
  {
   "cell_type": "markdown",
   "id": "e53898d5",
   "metadata": {},
   "source": [
    "22. Find the difference between two lists."
   ]
  },
  {
   "cell_type": "code",
   "execution_count": 63,
   "id": "204f2ca2",
   "metadata": {},
   "outputs": [
    {
     "name": "stdout",
     "output_type": "stream",
     "text": [
      "List 1: [1, 2, 3, 4, 5]\n",
      "List 2: [3, 4, 5, 6, 7]\n",
      "Elements unique to List 1: [1, 2]\n",
      "Elements unique to List 2: [6, 7]\n"
     ]
    }
   ],
   "source": [
    "# Two lists\n",
    "list1 = [1, 2, 3, 4, 5]\n",
    "list2 = [3, 4, 5, 6, 7]\n",
    "\n",
    "# Find the difference using set difference\n",
    "difference_list1 = list(set(list1) - set(list2))\n",
    "difference_list2 = list(set(list2) - set(list1))\n",
    "\n",
    "# Print the result\n",
    "print(\"List 1:\", list1)\n",
    "print(\"List 2:\", list2)\n",
    "print(\"Elements unique to List 1:\", difference_list1)\n",
    "print(\"Elements unique to List 2:\", difference_list2)\n"
   ]
  },
  {
   "cell_type": "markdown",
   "id": "04f51743",
   "metadata": {},
   "source": [
    "23. Merge two lists."
   ]
  },
  {
   "cell_type": "code",
   "execution_count": 64,
   "id": "dbf2ec05",
   "metadata": {},
   "outputs": [
    {
     "name": "stdout",
     "output_type": "stream",
     "text": [
      "List 1: [1, 2, 3]\n",
      "List 2: [4, 5, 6]\n",
      "Merged list: [1, 2, 3, 4, 5, 6]\n"
     ]
    }
   ],
   "source": [
    "# Using the + operator:\n",
    "# Two lists\n",
    "list1 = [1, 2, 3]\n",
    "list2 = [4, 5, 6]\n",
    "\n",
    "# Merge the lists using the + operator\n",
    "merged_list = list1 + list2\n",
    "\n",
    "# Print the result\n",
    "print(\"List 1:\", list1)\n",
    "print(\"List 2:\", list2)\n",
    "print(\"Merged list:\", merged_list)\n"
   ]
  },
  {
   "cell_type": "code",
   "execution_count": 65,
   "id": "15011d39",
   "metadata": {},
   "outputs": [
    {
     "name": "stdout",
     "output_type": "stream",
     "text": [
      "List 1: [1, 2, 3, 4, 5, 6]\n",
      "List 2: [4, 5, 6]\n"
     ]
    }
   ],
   "source": [
    "# Using the extend() method:\n",
    "# Two lists\n",
    "list1 = [1, 2, 3]\n",
    "list2 = [4, 5, 6]\n",
    "\n",
    "# Merge the lists using the extend() method\n",
    "list1.extend(list2)\n",
    "\n",
    "# Print the result\n",
    "print(\"List 1:\", list1)\n",
    "print(\"List 2:\", list2)  # Note that list2 remains unchanged\n"
   ]
  },
  {
   "cell_type": "markdown",
   "id": "6e56ed87",
   "metadata": {},
   "source": [
    "24. Multiply all elements in a list by 2."
   ]
  },
  {
   "cell_type": "code",
   "execution_count": 66,
   "id": "9eca9b93",
   "metadata": {},
   "outputs": [
    {
     "name": "stdout",
     "output_type": "stream",
     "text": [
      "Original list: [1, 2, 3, 4, 5]\n",
      "Doubled list: [2, 4, 6, 8, 10]\n"
     ]
    }
   ],
   "source": [
    "# Original list\n",
    "my_list = [1, 2, 3, 4, 5]\n",
    "\n",
    "# Multiply all elements by 2 using list comprehension\n",
    "doubled_list = [element * 2 for element in my_list]\n",
    "\n",
    "# Print the result\n",
    "print(\"Original list:\", my_list)\n",
    "print(\"Doubled list:\", doubled_list)\n"
   ]
  },
  {
   "cell_type": "markdown",
   "id": "45584d95",
   "metadata": {},
   "source": [
    "25. Filter out all even numbers from a list."
   ]
  },
  {
   "cell_type": "code",
   "execution_count": 67,
   "id": "50da09d5",
   "metadata": {},
   "outputs": [
    {
     "name": "stdout",
     "output_type": "stream",
     "text": [
      "Original list: [1, 2, 3, 4, 5, 6, 7, 8, 9, 10]\n",
      "Filtered list (excluding even numbers): [1, 3, 5, 7, 9]\n"
     ]
    }
   ],
   "source": [
    "# Original list\n",
    "my_list = [1, 2, 3, 4, 5, 6, 7, 8, 9, 10]\n",
    "\n",
    "# Filter out even numbers using list comprehension\n",
    "filtered_list = [number for number in my_list if number % 2 != 0]\n",
    "\n",
    "# Print the result\n",
    "print(\"Original list:\", my_list)\n",
    "print(\"Filtered list (excluding even numbers):\", filtered_list)\n"
   ]
  },
  {
   "cell_type": "markdown",
   "id": "86894e25",
   "metadata": {},
   "source": [
    "26. Convert a list of strings to al list of integers."
   ]
  },
  {
   "cell_type": "code",
   "execution_count": 68,
   "id": "217e80d4",
   "metadata": {},
   "outputs": [
    {
     "name": "stdout",
     "output_type": "stream",
     "text": [
      "Original list of strings: ['1', '2', '3', '4', '5']\n",
      "Converted list of integers: [1, 2, 3, 4, 5]\n"
     ]
    }
   ],
   "source": [
    "# List of strings\n",
    "string_list = [\"1\", \"2\", \"3\", \"4\", \"5\"]\n",
    "\n",
    "# Convert the list of strings to a list of integers\n",
    "integer_list = [int(element) for element in string_list]\n",
    "\n",
    "# Print the result\n",
    "print(\"Original list of strings:\", string_list)\n",
    "print(\"Converted list of integers:\", integer_list)\n"
   ]
  },
  {
   "cell_type": "markdown",
   "id": "b2883555",
   "metadata": {},
   "source": [
    "27. Convert a list of integers to a list of strings."
   ]
  },
  {
   "cell_type": "code",
   "execution_count": 69,
   "id": "b0fce1b8",
   "metadata": {},
   "outputs": [
    {
     "name": "stdout",
     "output_type": "stream",
     "text": [
      "Original list of integers: [1, 2, 3, 4, 5]\n",
      "Converted list of strings: ['1', '2', '3', '4', '5']\n"
     ]
    }
   ],
   "source": [
    "# List of integers\n",
    "integer_list = [1, 2, 3, 4, 5]\n",
    "\n",
    "# Convert the list of integers to a list of strings\n",
    "string_list = [str(element) for element in integer_list]\n",
    "\n",
    "# Print the result\n",
    "print(\"Original list of integers:\", integer_list)\n",
    "print(\"Converted list of strings:\", string_list)\n"
   ]
  },
  {
   "cell_type": "markdown",
   "id": "1672241f",
   "metadata": {},
   "source": [
    "28. Flatten a nested list."
   ]
  },
  {
   "cell_type": "code",
   "execution_count": 70,
   "id": "4c87bfa4",
   "metadata": {},
   "outputs": [
    {
     "name": "stdout",
     "output_type": "stream",
     "text": [
      "Nested list: [1, [2, [3, 4], 5], 6, [7, 8]]\n",
      "Flattened list: [1, 2, 3, 4, 5, 6, 7, 8]\n"
     ]
    }
   ],
   "source": [
    "def flatten(nested_list):\n",
    "    flat_list = []\n",
    "    for element in nested_list:\n",
    "        if isinstance(element, list):\n",
    "            flat_list.extend(flatten(element))\n",
    "        else:\n",
    "            flat_list.append(element)\n",
    "    return flat_list\n",
    "\n",
    "# Nested list\n",
    "nested_list = [1, [2, [3, 4], 5], 6, [7, 8]]\n",
    "\n",
    "# Flatten the nested list\n",
    "flattened_list = flatten(nested_list)\n",
    "\n",
    "# Print the result\n",
    "print(\"Nested list:\", nested_list)\n",
    "print(\"Flattened list:\", flattened_list)\n"
   ]
  },
  {
   "cell_type": "markdown",
   "id": "56010cc2",
   "metadata": {},
   "source": [
    "29. Create a list of the first 10 Fibonacci numbers."
   ]
  },
  {
   "cell_type": "code",
   "execution_count": 71,
   "id": "c71746d6",
   "metadata": {},
   "outputs": [
    {
     "name": "stdout",
     "output_type": "stream",
     "text": [
      "First 10 Fibonacci numbers: [0, 1, 1, 2, 3, 5, 8, 13, 21, 34]\n"
     ]
    }
   ],
   "source": [
    "# Function to generate the first n Fibonacci numbers\n",
    "def generate_fibonacci(n):\n",
    "    fibonacci_list = [0, 1]\n",
    "    while len(fibonacci_list) < n:\n",
    "        next_number = fibonacci_list[-1] + fibonacci_list[-2]\n",
    "        fibonacci_list.append(next_number)\n",
    "    return fibonacci_list[:n]\n",
    "\n",
    "# Generate the first 10 Fibonacci numbers\n",
    "first_10_fibonacci = generate_fibonacci(10)\n",
    "\n",
    "# Print the result\n",
    "print(\"First 10 Fibonacci numbers:\", first_10_fibonacci)\n"
   ]
  },
  {
   "cell_type": "markdown",
   "id": "56518c5e",
   "metadata": {},
   "source": [
    "30. Check if a list is sorted."
   ]
  },
  {
   "cell_type": "code",
   "execution_count": 72,
   "id": "4788c43d",
   "metadata": {},
   "outputs": [
    {
     "name": "stdout",
     "output_type": "stream",
     "text": [
      "Is the sorted list sorted? True\n",
      "Is the unsorted list sorted? False\n"
     ]
    }
   ],
   "source": [
    "# Function to check if a list is sorted\n",
    "def is_sorted(my_list):\n",
    "    return my_list == sorted(my_list)\n",
    "\n",
    "# Example lists\n",
    "sorted_list = [1, 2, 3, 4, 5]\n",
    "unsorted_list = [3, 1, 4, 1, 5, 9, 2, 6]\n",
    "\n",
    "# Check if the lists are sorted\n",
    "print(\"Is the sorted list sorted?\", is_sorted(sorted_list))\n",
    "print(\"Is the unsorted list sorted?\", is_sorted(unsorted_list))\n"
   ]
  },
  {
   "cell_type": "markdown",
   "id": "28d18bbd",
   "metadata": {},
   "source": [
    "31. Rotate a list to the left by `n` positions."
   ]
  },
  {
   "cell_type": "code",
   "execution_count": 73,
   "id": "9ccbbcfd",
   "metadata": {},
   "outputs": [
    {
     "name": "stdout",
     "output_type": "stream",
     "text": [
      "Original list: [1, 2, 3, 4, 5]\n",
      "Rotated list: [3, 4, 5, 1, 2]\n"
     ]
    }
   ],
   "source": [
    "# Function to rotate a list to the left by n positions\n",
    "def rotate_left(my_list, n):\n",
    "    return my_list[n:] + my_list[:n]\n",
    "\n",
    "# Example list\n",
    "original_list = [1, 2, 3, 4, 5]\n",
    "\n",
    "# Rotate the list to the left by 2 positions\n",
    "rotated_list = rotate_left(original_list, 2)\n",
    "\n",
    "# Print the result\n",
    "print(\"Original list:\", original_list)\n",
    "print(\"Rotated list:\", rotated_list)\n"
   ]
  },
  {
   "cell_type": "markdown",
   "id": "2f41da8a",
   "metadata": {},
   "source": [
    "32. Rotate a list to the right by `n` positions."
   ]
  },
  {
   "cell_type": "code",
   "execution_count": 74,
   "id": "434ce1b8",
   "metadata": {},
   "outputs": [
    {
     "name": "stdout",
     "output_type": "stream",
     "text": [
      "Original list: [1, 2, 3, 4, 5]\n",
      "Rotated list: [4, 5, 1, 2, 3]\n"
     ]
    }
   ],
   "source": [
    "# Function to rotate a list to the right by n positions\n",
    "def rotate_right(my_list, n):\n",
    "    # Calculate the split index\n",
    "    split_index = len(my_list) - n\n",
    "\n",
    "    # Rotate the list to the right\n",
    "    rotated_list = my_list[split_index:] + my_list[:split_index]\n",
    "\n",
    "    return rotated_list\n",
    "\n",
    "# Example list\n",
    "original_list = [1, 2, 3, 4, 5]\n",
    "\n",
    "# Rotate the list to the right by 2 positions\n",
    "rotated_list = rotate_right(original_list, 2)\n",
    "\n",
    "# Print the result\n",
    "print(\"Original list:\", original_list)\n",
    "print(\"Rotated list:\", rotated_list)\n"
   ]
  },
  {
   "cell_type": "markdown",
   "id": "50d1d5fc",
   "metadata": {},
   "source": [
    "33. Create a list of prime numbers up to 50."
   ]
  },
  {
   "cell_type": "code",
   "execution_count": 75,
   "id": "3fe8fef1",
   "metadata": {},
   "outputs": [
    {
     "name": "stdout",
     "output_type": "stream",
     "text": [
      "List of prime numbers up to 50: [2, 3, 5, 7, 11, 13, 17, 19, 23, 29, 31, 37, 41, 43, 47]\n"
     ]
    }
   ],
   "source": [
    "# Function to check if a number is prime\n",
    "def is_prime(num):\n",
    "    if num < 2:\n",
    "        return False\n",
    "    for i in range(2, int(num**0.5) + 1):\n",
    "        if num % i == 0:\n",
    "            return False\n",
    "    return True\n",
    "\n",
    "# Generate a list of prime numbers up to 50\n",
    "prime_numbers = [num for num in range(2, 51) if is_prime(num)]\n",
    "\n",
    "# Print the result\n",
    "print(\"List of prime numbers up to 50:\", prime_numbers)\n"
   ]
  },
  {
   "cell_type": "markdown",
   "id": "5729659b",
   "metadata": {},
   "source": [
    "34. Split a list into chunks of size `n`."
   ]
  },
  {
   "cell_type": "code",
   "execution_count": 76,
   "id": "58f33974",
   "metadata": {},
   "outputs": [
    {
     "name": "stdout",
     "output_type": "stream",
     "text": [
      "Original list: [1, 2, 3, 4, 5, 6, 7, 8, 9, 10]\n",
      "Chunked list: [[1, 2, 3], [4, 5, 6], [7, 8, 9], [10]]\n"
     ]
    }
   ],
   "source": [
    "# Function to split a list into chunks of size n\n",
    "def split_into_chunks(my_list, n):\n",
    "    return [my_list[i:i + n] for i in range(0, len(my_list), n)]\n",
    "\n",
    "# Example list\n",
    "original_list = [1, 2, 3, 4, 5, 6, 7, 8, 9, 10]\n",
    "\n",
    "# Split the list into chunks of size 3\n",
    "chunked_list = split_into_chunks(original_list, 3)\n",
    "\n",
    "# Print the result\n",
    "print(\"Original list:\", original_list)\n",
    "print(\"Chunked list:\", chunked_list)\n"
   ]
  },
  {
   "cell_type": "markdown",
   "id": "853b1c9d",
   "metadata": {},
   "source": [
    "35. Find the second largest number in a list."
   ]
  },
  {
   "cell_type": "code",
   "execution_count": 77,
   "id": "d004208c",
   "metadata": {},
   "outputs": [
    {
     "name": "stdout",
     "output_type": "stream",
     "text": [
      "Original list: [5, 2, 8, 10, 3, 7]\n",
      "Second largest number: 8\n"
     ]
    }
   ],
   "source": [
    "# Function to find the second largest number in a list\n",
    "def second_largest(my_list):\n",
    "    sorted_list = sorted(my_list, reverse=True)\n",
    "    if len(sorted_list) >= 2:\n",
    "        return sorted_list[1]\n",
    "    else:\n",
    "        return None\n",
    "\n",
    "# Example list\n",
    "numbers = [5, 2, 8, 10, 3, 7]\n",
    "\n",
    "# Find the second largest number\n",
    "result = second_largest(numbers)\n",
    "\n",
    "# Print the result\n",
    "print(\"Original list:\", numbers)\n",
    "print(\"Second largest number:\", result)\n"
   ]
  },
  {
   "cell_type": "markdown",
   "id": "90db5f14",
   "metadata": {},
   "source": [
    "36. Replace every element in a list with its square."
   ]
  },
  {
   "cell_type": "code",
   "execution_count": 78,
   "id": "35dca8fa",
   "metadata": {},
   "outputs": [
    {
     "name": "stdout",
     "output_type": "stream",
     "text": [
      "Original list: [1, 2, 3, 4, 5]\n",
      "List with elements squared: [1, 4, 9, 16, 25]\n"
     ]
    }
   ],
   "source": [
    "# Original list\n",
    "my_list = [1, 2, 3, 4, 5]\n",
    "\n",
    "# Replace every element with its square using list comprehension\n",
    "squared_list = [element ** 2 for element in my_list]\n",
    "\n",
    "# Print the result\n",
    "print(\"Original list:\", my_list)\n",
    "print(\"List with elements squared:\", squared_list)\n"
   ]
  },
  {
   "cell_type": "markdown",
   "id": "79ef2e45",
   "metadata": {},
   "source": [
    "37. Convert a list to a dictionary where list elements become keys and their indices become values."
   ]
  },
  {
   "cell_type": "code",
   "execution_count": 79,
   "id": "3c5e0697",
   "metadata": {},
   "outputs": [
    {
     "name": "stdout",
     "output_type": "stream",
     "text": [
      "Original list: ['apple', 'banana', 'orange', 'grape']\n",
      "Dictionary: {'apple': 0, 'banana': 1, 'orange': 2, 'grape': 3}\n"
     ]
    }
   ],
   "source": [
    "# Original list\n",
    "my_list = ['apple', 'banana', 'orange', 'grape']\n",
    "\n",
    "# Convert the list to a dictionary\n",
    "my_dict = {element: index for index, element in enumerate(my_list)}\n",
    "\n",
    "# Print the result\n",
    "print(\"Original list:\", my_list)\n",
    "print(\"Dictionary:\", my_dict)\n"
   ]
  },
  {
   "cell_type": "markdown",
   "id": "6c94cc1b",
   "metadata": {},
   "source": [
    "38. Shuffle the elements of a list randomly."
   ]
  },
  {
   "cell_type": "code",
   "execution_count": 80,
   "id": "4f0abf8d",
   "metadata": {},
   "outputs": [
    {
     "name": "stdout",
     "output_type": "stream",
     "text": [
      "Original list: [1, 2, 3, 4, 5]\n",
      "Shuffled list: [4, 5, 1, 2, 3]\n"
     ]
    }
   ],
   "source": [
    "import random\n",
    "\n",
    "# Original list\n",
    "my_list = [1, 2, 3, 4, 5]\n",
    "\n",
    "# Create a shuffled copy of the list\n",
    "shuffled_list = random.sample(my_list, len(my_list))\n",
    "\n",
    "# Print the result\n",
    "print(\"Original list:\", my_list)\n",
    "print(\"Shuffled list:\", shuffled_list)\n"
   ]
  },
  {
   "cell_type": "markdown",
   "id": "acb2545c",
   "metadata": {},
   "source": [
    "39. Create a list of the first 10 factorial numbers."
   ]
  },
  {
   "cell_type": "code",
   "execution_count": 81,
   "id": "b7ff9248",
   "metadata": {},
   "outputs": [
    {
     "name": "stdout",
     "output_type": "stream",
     "text": [
      "List of the first 10 factorial numbers: [1, 1, 2, 6, 24, 120, 720, 5040, 40320, 362880]\n"
     ]
    }
   ],
   "source": [
    "# Function to calculate the factorial of a number\n",
    "def factorial(n):\n",
    "    if n == 0 or n == 1:\n",
    "        return 1\n",
    "    else:\n",
    "        return n * factorial(n - 1)\n",
    "\n",
    "# Generate a list of the first 10 factorial numbers\n",
    "factorial_numbers = [factorial(i) for i in range(10)]\n",
    "\n",
    "# Print the result\n",
    "print(\"List of the first 10 factorial numbers:\", factorial_numbers)\n"
   ]
  },
  {
   "cell_type": "markdown",
   "id": "e9b8b7fd",
   "metadata": {},
   "source": [
    "40. Check if two lists have at least one element in common."
   ]
  },
  {
   "cell_type": "code",
   "execution_count": 83,
   "id": "91541e39",
   "metadata": {},
   "outputs": [
    {
     "name": "stdout",
     "output_type": "stream",
     "text": [
      "The lists have at least one element in common: {5}\n"
     ]
    }
   ],
   "source": [
    "# Using the intersection of sets:\n",
    "# Two lists\n",
    "list1 = [1, 2, 3, 4, 5]\n",
    "list2 = [5, 6, 7, 8, 9]\n",
    "\n",
    "# Check if the lists have at least one element in common using set intersection\n",
    "common_elements = set(list1) & set(list2)\n",
    "\n",
    "# Print the result\n",
    "if common_elements:\n",
    "    print(\"The lists have at least one element in common:\", common_elements)\n",
    "else:\n",
    "    print(\"The lists have no elements in common.\")\n"
   ]
  },
  {
   "cell_type": "code",
   "execution_count": 84,
   "id": "56add30e",
   "metadata": {},
   "outputs": [
    {
     "name": "stdout",
     "output_type": "stream",
     "text": [
      "The lists have at least one element in common.\n"
     ]
    }
   ],
   "source": [
    "# Using iteration:\n",
    "# Two lists\n",
    "list1 = [1, 2, 3, 4, 5]\n",
    "list2 = [5, 6, 7, 8, 9]\n",
    "\n",
    "# Check if the lists have at least one element in common using iteration\n",
    "common_elements = any(element in list1 for element in list2)\n",
    "\n",
    "# Print the result\n",
    "if common_elements:\n",
    "    print(\"The lists have at least one element in common.\")\n",
    "else:\n",
    "    print(\"The lists have no elements in common.\")\n"
   ]
  },
  {
   "cell_type": "markdown",
   "id": "3c64cd7f",
   "metadata": {},
   "source": [
    "41. Remove all elements from a list."
   ]
  },
  {
   "cell_type": "code",
   "execution_count": 85,
   "id": "21abe7e5",
   "metadata": {},
   "outputs": [
    {
     "name": "stdout",
     "output_type": "stream",
     "text": [
      "List after removing all elements: []\n"
     ]
    }
   ],
   "source": [
    "# Using clear() method:\n",
    "# Original list\n",
    "my_list = [1, 2, 3, 4, 5]\n",
    "\n",
    "# Remove all elements using clear()\n",
    "my_list.clear()\n",
    "\n",
    "# Print the result\n",
    "print(\"List after removing all elements:\", my_list)\n"
   ]
  },
  {
   "cell_type": "code",
   "execution_count": 86,
   "id": "3a8fc874",
   "metadata": {},
   "outputs": [
    {
     "name": "stdout",
     "output_type": "stream",
     "text": [
      "List after removing all elements: []\n"
     ]
    }
   ],
   "source": [
    "# Assigning an empty list:\n",
    "# Original list\n",
    "my_list = [1, 2, 3, 4, 5]\n",
    "\n",
    "# Remove all elements by assigning an empty list\n",
    "my_list = []\n",
    "\n",
    "# Print the result\n",
    "print(\"List after removing all elements:\", my_list)\n"
   ]
  },
  {
   "cell_type": "markdown",
   "id": "9dcbf8a9",
   "metadata": {},
   "source": [
    "42. Replace negative numbers in a list with 0."
   ]
  },
  {
   "cell_type": "code",
   "execution_count": 87,
   "id": "521298b4",
   "metadata": {},
   "outputs": [
    {
     "name": "stdout",
     "output_type": "stream",
     "text": [
      "Original list: [1, -2, 3, -4, 5, -6]\n",
      "List with negative numbers replaced by 0: [1, 0, 3, 0, 5, 0]\n"
     ]
    }
   ],
   "source": [
    "# Original list\n",
    "my_list = [1, -2, 3, -4, 5, -6]\n",
    "\n",
    "# Replace negative numbers with 0 using list comprehension\n",
    "modified_list = [max(0, num) for num in my_list]\n",
    "\n",
    "# Print the result\n",
    "print(\"Original list:\", my_list)\n",
    "print(\"List with negative numbers replaced by 0:\", modified_list)\n"
   ]
  },
  {
   "cell_type": "markdown",
   "id": "ae6598c7",
   "metadata": {},
   "source": [
    "43. Convert a string into a list of words."
   ]
  },
  {
   "cell_type": "code",
   "execution_count": 88,
   "id": "0b513e95",
   "metadata": {},
   "outputs": [
    {
     "name": "stdout",
     "output_type": "stream",
     "text": [
      "Original string: Hello world, this is a sample string.\n",
      "List of words: ['Hello', 'world,', 'this', 'is', 'a', 'sample', 'string.']\n"
     ]
    }
   ],
   "source": [
    "# Original string\n",
    "my_string = \"Hello world, this is a sample string.\"\n",
    "\n",
    "# Convert the string into a list of words\n",
    "word_list = my_string.split()\n",
    "\n",
    "# Print the result\n",
    "print(\"Original string:\", my_string)\n",
    "print(\"List of words:\", word_list)\n"
   ]
  },
  {
   "cell_type": "markdown",
   "id": "a1628af0",
   "metadata": {},
   "source": [
    "44. Convert a list of words into a string."
   ]
  },
  {
   "cell_type": "code",
   "execution_count": 89,
   "id": "3e1cf660",
   "metadata": {},
   "outputs": [
    {
     "name": "stdout",
     "output_type": "stream",
     "text": [
      "List of words: ['Hello', 'world,', 'this', 'is', 'a', 'sample', 'string.']\n",
      "Converted string: Hello world, this is a sample string.\n"
     ]
    }
   ],
   "source": [
    "# List of words\n",
    "word_list = ['Hello', 'world,', 'this', 'is', 'a', 'sample', 'string.']\n",
    "\n",
    "# Convert the list of words into a string\n",
    "my_string = ' '.join(word_list)\n",
    "\n",
    "# Print the result\n",
    "print(\"List of words:\", word_list)\n",
    "print(\"Converted string:\", my_string)\n"
   ]
  },
  {
   "cell_type": "markdown",
   "id": "0de11f1d",
   "metadata": {},
   "source": [
    "45. Create a list of the first `n` powers of 2."
   ]
  },
  {
   "cell_type": "code",
   "execution_count": 90,
   "id": "8723da75",
   "metadata": {},
   "outputs": [
    {
     "name": "stdout",
     "output_type": "stream",
     "text": [
      "List of the first 5 powers of 2: [1, 2, 4, 8, 16]\n"
     ]
    }
   ],
   "source": [
    "# Generate a list of the first n powers of 2\n",
    "n = 5  # Change this to the desired number of powers\n",
    "powers_of_2 = [2 ** i for i in range(n)]\n",
    "\n",
    "# Print the result\n",
    "print(\"List of the first\", n, \"powers of 2:\", powers_of_2)\n"
   ]
  },
  {
   "cell_type": "markdown",
   "id": "f32e3cfa",
   "metadata": {},
   "source": [
    "46. Find the longest string in a list of strings."
   ]
  },
  {
   "cell_type": "code",
   "execution_count": 91,
   "id": "e839fe67",
   "metadata": {},
   "outputs": [
    {
     "name": "stdout",
     "output_type": "stream",
     "text": [
      "List of strings: ['apple', 'banana', 'kiwi', 'strawberry', 'blueberry']\n",
      "Longest string: strawberry\n"
     ]
    }
   ],
   "source": [
    "# List of strings\n",
    "string_list = ['apple', 'banana', 'kiwi', 'strawberry', 'blueberry']\n",
    "\n",
    "# Find the longest string\n",
    "longest_string = max(string_list, key=len)\n",
    "\n",
    "# Print the result\n",
    "print(\"List of strings:\", string_list)\n",
    "print(\"Longest string:\", longest_string)\n"
   ]
  },
  {
   "cell_type": "markdown",
   "id": "6f6baa30",
   "metadata": {},
   "source": [
    "47. Find the shortest string in a list of strings."
   ]
  },
  {
   "cell_type": "code",
   "execution_count": 92,
   "id": "d441e991",
   "metadata": {},
   "outputs": [
    {
     "name": "stdout",
     "output_type": "stream",
     "text": [
      "List of strings: ['apple', 'banana', 'kiwi', 'strawberry', 'blueberry']\n",
      "Shortest string: kiwi\n"
     ]
    }
   ],
   "source": [
    "# List of strings\n",
    "string_list = ['apple', 'banana', 'kiwi', 'strawberry', 'blueberry']\n",
    "\n",
    "# Find the shortest string\n",
    "shortest_string = min(string_list, key=len)\n",
    "\n",
    "# Print the result\n",
    "print(\"List of strings:\", string_list)\n",
    "print(\"Shortest string:\", shortest_string)\n"
   ]
  },
  {
   "cell_type": "markdown",
   "id": "9a46d9f4",
   "metadata": {},
   "source": [
    "48. Create a list of the first `n` triangular numbers."
   ]
  },
  {
   "cell_type": "code",
   "execution_count": 93,
   "id": "17799b3f",
   "metadata": {},
   "outputs": [
    {
     "name": "stdout",
     "output_type": "stream",
     "text": [
      "List of the first 5 triangular numbers: [1, 3, 6, 10, 15]\n"
     ]
    }
   ],
   "source": [
    "# Function to calculate the nth triangular number\n",
    "def triangular_number(n):\n",
    "    return n * (n + 1) // 2\n",
    "\n",
    "# Generate a list of the first n triangular numbers\n",
    "n = 5  # Change this to the desired number of triangular numbers\n",
    "triangular_numbers = [triangular_number(i) for i in range(1, n + 1)]\n",
    "\n",
    "# Print the result\n",
    "print(\"List of the first\", n, \"triangular numbers:\", triangular_numbers)\n"
   ]
  },
  {
   "cell_type": "markdown",
   "id": "03d90e8e",
   "metadata": {},
   "source": [
    "49. Check if a list contains another list as a subsequence."
   ]
  },
  {
   "cell_type": "code",
   "execution_count": 94,
   "id": "ec0d636d",
   "metadata": {},
   "outputs": [
    {
     "name": "stdout",
     "output_type": "stream",
     "text": [
      "List 1: [1, 2, 3, 4, 5, 6, 7, 8, 9]\n",
      "List 2: [3, 5, 8]\n",
      "List 1 contains List 2 as a subsequence: True\n"
     ]
    }
   ],
   "source": [
    "# Function to check if list1 contains list2 as a subsequence\n",
    "def is_subsequence(list1, list2):\n",
    "    iter_list1 = iter(list1)\n",
    "    return all(item in iter_list1 for item in list2)\n",
    "\n",
    "# Example lists\n",
    "list1 = [1, 2, 3, 4, 5, 6, 7, 8, 9]\n",
    "list2 = [3, 5, 8]\n",
    "\n",
    "# Check if list1 contains list2 as a subsequence\n",
    "result = is_subsequence(list1, list2)\n",
    "\n",
    "# Print the result\n",
    "print(\"List 1:\", list1)\n",
    "print(\"List 2:\", list2)\n",
    "print(\"List 1 contains List 2 as a subsequence:\", result)\n"
   ]
  },
  {
   "cell_type": "markdown",
   "id": "a991ba15",
   "metadata": {},
   "source": [
    "50. Swap two elements in a list by their indices."
   ]
  },
  {
   "cell_type": "code",
   "execution_count": 95,
   "id": "3cd766ed",
   "metadata": {},
   "outputs": [
    {
     "name": "stdout",
     "output_type": "stream",
     "text": [
      "Original list: [1, 4, 3, 2, 5]\n"
     ]
    }
   ],
   "source": [
    "# Function to swap two elements in a list by their indices\n",
    "def swap_elements(my_list, index1, index2):\n",
    "    my_list[index1], my_list[index2] = my_list[index2], my_list[index1]\n",
    "\n",
    "# Example list\n",
    "my_list = [1, 2, 3, 4, 5]\n",
    "\n",
    "# Swap elements at indices 1 and 3\n",
    "swap_elements(my_list, 1, 3)\n",
    "\n",
    "# Print the result\n",
    "print(\"Original list:\", my_list)\n"
   ]
  },
  {
   "cell_type": "markdown",
   "id": "2d5745d0",
   "metadata": {},
   "source": [
    "# Tuple Based Practice Problem :"
   ]
  },
  {
   "cell_type": "markdown",
   "id": "4ed72266",
   "metadata": {},
   "source": [
    "1. Create a tuple with integers from 1 to 5."
   ]
  },
  {
   "cell_type": "code",
   "execution_count": 96,
   "id": "0b5aa06a",
   "metadata": {},
   "outputs": [
    {
     "name": "stdout",
     "output_type": "stream",
     "text": [
      "Tuple created using tuple(): (1, 2, 3, 4, 5)\n",
      "Tuple created using parentheses: (1, 2, 3, 4, 5)\n"
     ]
    }
   ],
   "source": [
    "# Using the tuple() constructor\n",
    "my_tuple1 = tuple(range(1, 6))\n",
    "\n",
    "# Using parentheses directly\n",
    "my_tuple2 = (1, 2, 3, 4, 5)\n",
    "\n",
    "# Print the results\n",
    "print(\"Tuple created using tuple():\", my_tuple1)\n",
    "print(\"Tuple created using parentheses:\", my_tuple2)\n"
   ]
  },
  {
   "cell_type": "markdown",
   "id": "eb7b6e9a",
   "metadata": {},
   "source": [
    "2. Access the third element of a tuple."
   ]
  },
  {
   "cell_type": "code",
   "execution_count": 97,
   "id": "f79ac445",
   "metadata": {},
   "outputs": [
    {
     "name": "stdout",
     "output_type": "stream",
     "text": [
      "Tuplee: [10, 20, 30, 40, 50]\n",
      "Third element: 30\n"
     ]
    }
   ],
   "source": [
    "my_tuple = [10,20,30,40,50]\n",
    "# Access the third element\n",
    "third_element = my_tuple[2]\n",
    "# print the result\n",
    "print(\"Tuplee:\", my_tuple)\n",
    "print(\"Third element:\", third_element)"
   ]
  },
  {
   "cell_type": "markdown",
   "id": "4775a331",
   "metadata": {},
   "source": [
    "3. Find the length of a tuple without using the `len()` function."
   ]
  },
  {
   "cell_type": "code",
   "execution_count": 98,
   "id": "55e6f3f0",
   "metadata": {},
   "outputs": [
    {
     "name": "stdout",
     "output_type": "stream",
     "text": [
      "Tuple: (10, 20, 30, 40, 50)\n",
      "Length of the tuple: 5\n"
     ]
    }
   ],
   "source": [
    "# Example tuple\n",
    "my_tuple = (10, 20, 30, 40, 50)\n",
    "\n",
    "# Find the length of the tuple without using len()\n",
    "tuple_length = 0\n",
    "for _ in my_tuple:\n",
    "    tuple_length += 1\n",
    "\n",
    "# Print the result\n",
    "print(\"Tuple:\", my_tuple)\n",
    "print(\"Length of the tuple:\", tuple_length)\n"
   ]
  },
  {
   "cell_type": "markdown",
   "id": "a701899f",
   "metadata": {},
   "source": [
    "4. Count the occurrences of an element in a tuple."
   ]
  },
  {
   "cell_type": "code",
   "execution_count": 99,
   "id": "4c77bc10",
   "metadata": {},
   "outputs": [
    {
     "name": "stdout",
     "output_type": "stream",
     "text": [
      "Tuple: (10, 20, 30, 40, 20, 50, 20)\n",
      "Occurrences of 20 in the tuple: 3\n"
     ]
    }
   ],
   "source": [
    "# Example tuple\n",
    "my_tuple = (10, 20, 30, 40, 20, 50, 20)\n",
    "\n",
    "# Count the occurrences of an element\n",
    "element_to_count = 20\n",
    "occurrences = my_tuple.count(element_to_count)\n",
    "\n",
    "# Print the result\n",
    "print(\"Tuple:\", my_tuple)\n",
    "print(\"Occurrences of\", element_to_count, \"in the tuple:\", occurrences)\n"
   ]
  },
  {
   "cell_type": "markdown",
   "id": "fa729a49",
   "metadata": {},
   "source": [
    "5. Find the index of the first occurence of an element in a tuple."
   ]
  },
  {
   "cell_type": "code",
   "execution_count": 100,
   "id": "a56cf154",
   "metadata": {},
   "outputs": [
    {
     "name": "stdout",
     "output_type": "stream",
     "text": [
      "Tuple: (10, 20, 30, 40, 20, 50, 20)\n",
      "Index of the first occurrence of 20 : 1\n"
     ]
    }
   ],
   "source": [
    "# Example tuple\n",
    "my_tuple = (10, 20, 30, 40, 20, 50, 20)\n",
    "\n",
    "# Find the index of the first occurrence of an element\n",
    "element_to_find = 20\n",
    "index_of_element = my_tuple.index(element_to_find)\n",
    "\n",
    "# Print the result\n",
    "print(\"Tuple:\", my_tuple)\n",
    "print(\"Index of the first occurrence of\", element_to_find, \":\", index_of_element)\n"
   ]
  },
  {
   "cell_type": "markdown",
   "id": "47b0f0c3",
   "metadata": {},
   "source": [
    "6. Check if an element exists in a tuple."
   ]
  },
  {
   "cell_type": "code",
   "execution_count": 101,
   "id": "4886a4fa",
   "metadata": {},
   "outputs": [
    {
     "name": "stdout",
     "output_type": "stream",
     "text": [
      "The element 30 exists in the tuple.\n"
     ]
    }
   ],
   "source": [
    "# Example tuple\n",
    "my_tuple = (10, 20, 30, 40, 50)\n",
    "\n",
    "# Element to check\n",
    "element_to_check = 30\n",
    "\n",
    "# Check if the element exists in the tuple\n",
    "if element_to_check in my_tuple:\n",
    "    print(f\"The element {element_to_check} exists in the tuple.\")\n",
    "else:\n",
    "    print(f\"The element {element_to_check} does not exist in the tuple.\")\n"
   ]
  },
  {
   "cell_type": "markdown",
   "id": "f52bfa39",
   "metadata": {},
   "source": [
    "7. Convert a tuple to a list"
   ]
  },
  {
   "cell_type": "code",
   "execution_count": 102,
   "id": "85bb68f0",
   "metadata": {},
   "outputs": [
    {
     "name": "stdout",
     "output_type": "stream",
     "text": [
      "Original tuple: (10, 20, 30, 40, 50)\n",
      "Converted list: [10, 20, 30, 40, 50]\n"
     ]
    }
   ],
   "source": [
    "# Example tuple\n",
    "my_tuple = (10, 20, 30, 40, 50)\n",
    "\n",
    "# Convert the tuple to a list\n",
    "my_list = list(my_tuple)\n",
    "\n",
    "# Print the results\n",
    "print(\"Original tuple:\", my_tuple)\n",
    "print(\"Converted list:\", my_list)\n"
   ]
  },
  {
   "cell_type": "markdown",
   "id": "53f8e7ef",
   "metadata": {},
   "source": [
    "8. Convert a list to a tuple."
   ]
  },
  {
   "cell_type": "code",
   "execution_count": 103,
   "id": "372bd7d7",
   "metadata": {},
   "outputs": [
    {
     "name": "stdout",
     "output_type": "stream",
     "text": [
      "Original list: [10, 20, 30, 40, 50]\n",
      "Converted tuple: (10, 20, 30, 40, 50)\n"
     ]
    }
   ],
   "source": [
    "# Example list\n",
    "my_list = [10, 20, 30, 40, 50]\n",
    "\n",
    "# Convert the list to a tuple\n",
    "my_tuple = tuple(my_list)\n",
    "\n",
    "# Print the results\n",
    "print(\"Original list:\", my_list)\n",
    "print(\"Converted tuple:\", my_tuple)\n"
   ]
  },
  {
   "cell_type": "markdown",
   "id": "68b05eb1",
   "metadata": {},
   "source": [
    "9. Unpack the elements of a tuple into variables."
   ]
  },
  {
   "cell_type": "code",
   "execution_count": 104,
   "id": "87297351",
   "metadata": {},
   "outputs": [
    {
     "name": "stdout",
     "output_type": "stream",
     "text": [
      "Original tuple: (10, 20, 30)\n",
      "Unpacked variables: 10 20 30\n"
     ]
    }
   ],
   "source": [
    "# Example tuple\n",
    "my_tuple = (10, 20, 30)\n",
    "\n",
    "# Unpack the tuple into variables\n",
    "var1, var2, var3 = my_tuple\n",
    "\n",
    "# Print the results\n",
    "print(\"Original tuple:\", my_tuple)\n",
    "print(\"Unpacked variables:\", var1, var2, var3)\n"
   ]
  },
  {
   "cell_type": "markdown",
   "id": "7c64f1f8",
   "metadata": {},
   "source": [
    "10. Create a tuple of even numbers from 1 to 10."
   ]
  },
  {
   "cell_type": "code",
   "execution_count": 105,
   "id": "dbb728e5",
   "metadata": {},
   "outputs": [
    {
     "name": "stdout",
     "output_type": "stream",
     "text": [
      "Tuple of even numbers from 1 to 10: (2, 4, 6, 8, 10)\n"
     ]
    }
   ],
   "source": [
    "# Create a tuple of even numbers from 1 to 10\n",
    "even_numbers_tuple = tuple(i for i in range(2, 11, 2))\n",
    "\n",
    "# Print the result\n",
    "print(\"Tuple of even numbers from 1 to 10:\", even_numbers_tuple)\n"
   ]
  },
  {
   "cell_type": "markdown",
   "id": "a00a310c",
   "metadata": {},
   "source": [
    "11. Create a tuple of odd numbers from 1 to 10."
   ]
  },
  {
   "cell_type": "code",
   "execution_count": 106,
   "id": "31c4a234",
   "metadata": {},
   "outputs": [
    {
     "name": "stdout",
     "output_type": "stream",
     "text": [
      "Tuple of odd numbers from 1 to 10: (1, 3, 5, 7, 9)\n"
     ]
    }
   ],
   "source": [
    "# Create a tuple of odd numbers from 1 to 10\n",
    "odd_numbers_tuple = tuple(range(1, 11, 2))\n",
    "\n",
    "# Print the result\n",
    "print(\"Tuple of odd numbers from 1 to 10:\", odd_numbers_tuple)\n"
   ]
  },
  {
   "cell_type": "markdown",
   "id": "c043bcdb",
   "metadata": {},
   "source": [
    "12. Concatenate two tuples."
   ]
  },
  {
   "cell_type": "code",
   "execution_count": 107,
   "id": "c74f636d",
   "metadata": {},
   "outputs": [
    {
     "name": "stdout",
     "output_type": "stream",
     "text": [
      "Tuple 1: (1, 2, 3)\n",
      "Tuple 2: (4, 5, 6)\n",
      "Concatenated tuple: (1, 2, 3, 4, 5, 6)\n"
     ]
    }
   ],
   "source": [
    "# Two example tuples\n",
    "tuple1 = (1, 2, 3)\n",
    "tuple2 = (4, 5, 6)\n",
    "\n",
    "# Concatenate the two tuples\n",
    "concatenated_tuple = tuple1 + tuple2\n",
    "\n",
    "# Print the result\n",
    "print(\"Tuple 1:\", tuple1)\n",
    "print(\"Tuple 2:\", tuple2)\n",
    "print(\"Concatenated tuple:\", concatenated_tuple)\n"
   ]
  },
  {
   "cell_type": "markdown",
   "id": "aab14b74",
   "metadata": {},
   "source": [
    "13. Repeat a tuple three times."
   ]
  },
  {
   "cell_type": "code",
   "execution_count": 108,
   "id": "4d5b131a",
   "metadata": {},
   "outputs": [
    {
     "name": "stdout",
     "output_type": "stream",
     "text": [
      "Original tuple: (1, 2, 3)\n",
      "Repeated tuple three times: (1, 2, 3, 1, 2, 3, 1, 2, 3)\n"
     ]
    }
   ],
   "source": [
    "# Example tuple\n",
    "my_tuple = (1, 2, 3)\n",
    "\n",
    "# Repeat the tuple three times\n",
    "repeated_tuple = my_tuple * 3\n",
    "\n",
    "# Print the results\n",
    "print(\"Original tuple:\", my_tuple)\n",
    "print(\"Repeated tuple three times:\", repeated_tuple)\n"
   ]
  },
  {
   "cell_type": "markdown",
   "id": "156203a9",
   "metadata": {},
   "source": [
    "14. Check if a tuple is empty."
   ]
  },
  {
   "cell_type": "code",
   "execution_count": 109,
   "id": "aa557bb1",
   "metadata": {},
   "outputs": [
    {
     "name": "stdout",
     "output_type": "stream",
     "text": [
      "Is empty_tuple empty? True\n",
      "Is non_empty_tuple empty? False\n",
      "Length of empty_tuple: 0\n",
      "Length of non_empty_tuple: 3\n"
     ]
    }
   ],
   "source": [
    "# Example tuples\n",
    "empty_tuple = ()\n",
    "non_empty_tuple = (1, 2, 3)\n",
    "\n",
    "# Check if the tuples are empty\n",
    "is_empty_empty_tuple = not bool(empty_tuple)\n",
    "is_empty_non_empty_tuple = not bool(non_empty_tuple)\n",
    "\n",
    "# Using len() function\n",
    "len_empty_tuple = len(empty_tuple)\n",
    "len_non_empty_tuple = len(non_empty_tuple)\n",
    "\n",
    "# Print the results\n",
    "print(\"Is empty_tuple empty?\", is_empty_empty_tuple)\n",
    "print(\"Is non_empty_tuple empty?\", is_empty_non_empty_tuple)\n",
    "\n",
    "# Using len() function\n",
    "print(\"Length of empty_tuple:\", len_empty_tuple)\n",
    "print(\"Length of non_empty_tuple:\", len_non_empty_tuple)\n"
   ]
  },
  {
   "cell_type": "markdown",
   "id": "b361a240",
   "metadata": {},
   "source": [
    "15. Create a nested tuple."
   ]
  },
  {
   "cell_type": "code",
   "execution_count": 110,
   "id": "810ac9f5",
   "metadata": {},
   "outputs": [
    {
     "name": "stdout",
     "output_type": "stream",
     "text": [
      "Is empty_tuple empty? True\n",
      "Is non_empty_tuple empty? False\n",
      "Length of empty_tuple: 0\n",
      "Length of non_empty_tuple: 3\n"
     ]
    }
   ],
   "source": [
    "# Example tuples\n",
    "empty_tuple = ()\n",
    "non_empty_tuple = (1, 2, 3)\n",
    "\n",
    "# Check if the tuples are empty\n",
    "is_empty_empty_tuple = not bool(empty_tuple)\n",
    "is_empty_non_empty_tuple = not bool(non_empty_tuple)\n",
    "\n",
    "# Using len() function\n",
    "len_empty_tuple = len(empty_tuple)\n",
    "len_non_empty_tuple = len(non_empty_tuple)\n",
    "\n",
    "# Print the results\n",
    "print(\"Is empty_tuple empty?\", is_empty_empty_tuple)\n",
    "print(\"Is non_empty_tuple empty?\", is_empty_non_empty_tuple)\n",
    "\n",
    "# Using len() function\n",
    "print(\"Length of empty_tuple:\", len_empty_tuple)\n",
    "print(\"Length of non_empty_tuple:\", len_non_empty_tuple)\n"
   ]
  },
  {
   "cell_type": "markdown",
   "id": "eae70597",
   "metadata": {},
   "source": [
    "16. Access the first element of a nested tuple."
   ]
  },
  {
   "cell_type": "code",
   "execution_count": 111,
   "id": "dd4d5c93",
   "metadata": {},
   "outputs": [
    {
     "name": "stdout",
     "output_type": "stream",
     "text": [
      "First element of the nested tuple: (1, 2, 3)\n"
     ]
    }
   ],
   "source": [
    "# Example of a nested tuple\n",
    "nested_tuple = ((1, 2, 3), ('a', 'b', 'c'), (True, False))\n",
    "\n",
    "# Access the first element of the nested tuple\n",
    "first_element = nested_tuple[0]\n",
    "\n",
    "# Print the result\n",
    "print(\"First element of the nested tuple:\", first_element)\n"
   ]
  },
  {
   "cell_type": "markdown",
   "id": "5dd0a3fe",
   "metadata": {},
   "source": [
    "17. Create a tuple with a single element."
   ]
  },
  {
   "cell_type": "code",
   "execution_count": 112,
   "id": "681d59ed",
   "metadata": {},
   "outputs": [
    {
     "name": "stdout",
     "output_type": "stream",
     "text": [
      "Tuple with a single element: (42,)\n"
     ]
    }
   ],
   "source": [
    "# Creating a tuple with a single element\n",
    "single_element_tuple = (42,)\n",
    "\n",
    "# Print the result\n",
    "print(\"Tuple with a single element:\", single_element_tuple)\n"
   ]
  },
  {
   "cell_type": "markdown",
   "id": "6fad9947",
   "metadata": {},
   "source": [
    "18. Compare two tuples."
   ]
  },
  {
   "cell_type": "code",
   "execution_count": 113,
   "id": "16dd9cd1",
   "metadata": {},
   "outputs": [
    {
     "name": "stdout",
     "output_type": "stream",
     "text": [
      "Tuple 1: (1, 2, 3)\n",
      "Tuple 2: (1, 2, 4)\n",
      "Equal: False\n",
      "Not Equal: True\n",
      "Greater Than: False\n",
      "Less Than or Equal: True\n"
     ]
    }
   ],
   "source": [
    "# Example tuples\n",
    "tuple1 = (1, 2, 3)\n",
    "tuple2 = (1, 2, 4)\n",
    "\n",
    "# Compare the tuples\n",
    "equal = tuple1 == tuple2\n",
    "not_equal = tuple1 != tuple2\n",
    "greater_than = tuple1 > tuple2\n",
    "less_than_or_equal = tuple1 <= tuple2\n",
    "\n",
    "# Print the results\n",
    "print(\"Tuple 1:\", tuple1)\n",
    "print(\"Tuple 2:\", tuple2)\n",
    "print(\"Equal:\", equal)\n",
    "print(\"Not Equal:\", not_equal)\n",
    "print(\"Greater Than:\", greater_than)\n",
    "print(\"Less Than or Equal:\", less_than_or_equal)\n"
   ]
  },
  {
   "cell_type": "markdown",
   "id": "3c8e13d8",
   "metadata": {},
   "source": [
    "19. Delete a tuple."
   ]
  },
  {
   "cell_type": "code",
   "execution_count": 114,
   "id": "a3c74984",
   "metadata": {},
   "outputs": [],
   "source": [
    "# Example tuple\n",
    "my_tuple = (1, 2, 3, 4, 5)\n",
    "\n",
    "# Delete the entire tuple\n",
    "del my_tuple\n",
    "\n",
    "# Attempting to access the tuple after deletion will raise an error\n",
    "# Uncomment the line below to see the error\n",
    "# print(my_tuple)\n"
   ]
  },
  {
   "cell_type": "markdown",
   "id": "0063c7fe",
   "metadata": {},
   "source": [
    "20. Slice a tuple."
   ]
  },
  {
   "cell_type": "code",
   "execution_count": 115,
   "id": "34660689",
   "metadata": {},
   "outputs": [
    {
     "name": "stdout",
     "output_type": "stream",
     "text": [
      "Original tuple: (1, 2, 3, 4, 5)\n",
      "Subset tuple: (2, 3, 4)\n"
     ]
    }
   ],
   "source": [
    "# Example tuple\n",
    "my_tuple = (1, 2, 3, 4, 5)\n",
    "\n",
    "# Slice the tuple to get a subset\n",
    "subset_tuple = my_tuple[1:4]\n",
    "\n",
    "# Print the results\n",
    "print(\"Original tuple:\", my_tuple)\n",
    "print(\"Subset tuple:\", subset_tuple)\n"
   ]
  },
  {
   "cell_type": "markdown",
   "id": "0c688806",
   "metadata": {},
   "source": [
    "21. Find the maximum value in a tuple."
   ]
  },
  {
   "cell_type": "code",
   "execution_count": 116,
   "id": "371ae05b",
   "metadata": {},
   "outputs": [
    {
     "name": "stdout",
     "output_type": "stream",
     "text": [
      "Tuple: (10, 5, 20, 15, 25)\n",
      "Maximum value: 25\n"
     ]
    }
   ],
   "source": [
    "# Example tuple\n",
    "my_tuple = (10, 5, 20, 15, 25)\n",
    "\n",
    "# Find the maximum value in the tuple\n",
    "max_value = max(my_tuple)\n",
    "\n",
    "# Print the result\n",
    "print(\"Tuple:\", my_tuple)\n",
    "print(\"Maximum value:\", max_value)\n"
   ]
  },
  {
   "cell_type": "markdown",
   "id": "d6c728fb",
   "metadata": {},
   "source": [
    "22. Find the minimum value in a tuple."
   ]
  },
  {
   "cell_type": "code",
   "execution_count": 117,
   "id": "365cd542",
   "metadata": {},
   "outputs": [
    {
     "name": "stdout",
     "output_type": "stream",
     "text": [
      "Tuple: (10, 5, 20, 15, 25)\n",
      "Minimum value: 5\n"
     ]
    }
   ],
   "source": [
    "# Example tuple\n",
    "my_tuple = (10, 5, 20, 15, 25)\n",
    "\n",
    "# Find the minimum value in the tuple\n",
    "min_value = min(my_tuple)\n",
    "\n",
    "# Print the result\n",
    "print(\"Tuple:\", my_tuple)\n",
    "print(\"Minimum value:\", min_value)\n"
   ]
  },
  {
   "cell_type": "markdown",
   "id": "52870113",
   "metadata": {},
   "source": [
    "23. Convert a string to a tuple of characters."
   ]
  },
  {
   "cell_type": "code",
   "execution_count": 118,
   "id": "4e1d0248",
   "metadata": {},
   "outputs": [
    {
     "name": "stdout",
     "output_type": "stream",
     "text": [
      "Original string: hello\n",
      "Tuple of characters: ('h', 'e', 'l', 'l', 'o')\n"
     ]
    }
   ],
   "source": [
    "# Example string\n",
    "my_string = \"hello\"\n",
    "\n",
    "# Convert the string to a tuple of characters\n",
    "char_tuple = tuple(my_string)\n",
    "\n",
    "# Print the results\n",
    "print(\"Original string:\", my_string)\n",
    "print(\"Tuple of characters:\", char_tuple)\n"
   ]
  },
  {
   "cell_type": "markdown",
   "id": "69b466a6",
   "metadata": {},
   "source": [
    "24. Convert a tuple of characters to a string."
   ]
  },
  {
   "cell_type": "code",
   "execution_count": 119,
   "id": "c345ebd5",
   "metadata": {},
   "outputs": [
    {
     "name": "stdout",
     "output_type": "stream",
     "text": [
      "Original tuple of characters: ('h', 'e', 'l', 'l', 'o')\n",
      "Resulting string: hello\n"
     ]
    }
   ],
   "source": [
    "# Example tuple of characters\n",
    "char_tuple = ('h', 'e', 'l', 'l', 'o')\n",
    "\n",
    "# Convert the tuple to a string\n",
    "resulting_string = \"\".join(char_tuple)\n",
    "\n",
    "# Print the results\n",
    "print(\"Original tuple of characters:\", char_tuple)\n",
    "print(\"Resulting string:\", resulting_string)\n"
   ]
  },
  {
   "cell_type": "markdown",
   "id": "49a7d78d",
   "metadata": {},
   "source": [
    "25. Create a tuple from multiple data types."
   ]
  },
  {
   "cell_type": "code",
   "execution_count": 120,
   "id": "eaf909ae",
   "metadata": {},
   "outputs": [
    {
     "name": "stdout",
     "output_type": "stream",
     "text": [
      "Mixed tuple: (1, 'hello', 3.14, True)\n"
     ]
    }
   ],
   "source": [
    "# Example tuple with multiple data types\n",
    "mixed_tuple = (1, \"hello\", 3.14, True)\n",
    "\n",
    "# Print the result\n",
    "print(\"Mixed tuple:\", mixed_tuple)\n"
   ]
  },
  {
   "cell_type": "markdown",
   "id": "4c3f0da7",
   "metadata": {},
   "source": [
    "26. Check if two tuples are identical."
   ]
  },
  {
   "cell_type": "code",
   "execution_count": 121,
   "id": "3359e412",
   "metadata": {},
   "outputs": [
    {
     "name": "stdout",
     "output_type": "stream",
     "text": [
      "Tuple 1: (1, 2, 3)\n",
      "Tuple 2: (1, 2, 3)\n",
      "Tuple 3: (4, 5, 6)\n",
      "Are tuple1 and tuple2 identical? True\n",
      "Are tuple1 and tuple3 identical? False\n"
     ]
    }
   ],
   "source": [
    "# Example tuples\n",
    "tuple1 = (1, 2, 3)\n",
    "tuple2 = (1, 2, 3)\n",
    "tuple3 = (4, 5, 6)\n",
    "\n",
    "# Check if tuple1 and tuple2 are identical\n",
    "are_identical_1_2 = tuple1 == tuple2\n",
    "\n",
    "# Check if tuple1 and tuple3 are identical\n",
    "are_identical_1_3 = tuple1 == tuple3\n",
    "\n",
    "# Print the results\n",
    "print(\"Tuple 1:\", tuple1)\n",
    "print(\"Tuple 2:\", tuple2)\n",
    "print(\"Tuple 3:\", tuple3)\n",
    "print(\"Are tuple1 and tuple2 identical?\", are_identical_1_2)\n",
    "print(\"Are tuple1 and tuple3 identical?\", are_identical_1_3)\n"
   ]
  },
  {
   "cell_type": "markdown",
   "id": "748daabd",
   "metadata": {},
   "source": [
    "27. Sort the elements of a tuple."
   ]
  },
  {
   "cell_type": "code",
   "execution_count": 122,
   "id": "7d3b63aa",
   "metadata": {},
   "outputs": [
    {
     "name": "stdout",
     "output_type": "stream",
     "text": [
      "Original tuple: (3, 1, 4, 1, 5, 9, 2, 6)\n",
      "Sorted tuple: (1, 1, 2, 3, 4, 5, 6, 9)\n"
     ]
    }
   ],
   "source": [
    "# Example tuple\n",
    "my_tuple = (3, 1, 4, 1, 5, 9, 2, 6)\n",
    "\n",
    "# Create a new tuple with sorted elements\n",
    "sorted_tuple = tuple(sorted(my_tuple))\n",
    "\n",
    "# Print the results\n",
    "print(\"Original tuple:\", my_tuple)\n",
    "print(\"Sorted tuple:\", sorted_tuple)\n"
   ]
  },
  {
   "cell_type": "markdown",
   "id": "f634d83b",
   "metadata": {},
   "source": [
    "28. Convert a tuple of integers to a tuple of strings."
   ]
  },
  {
   "cell_type": "code",
   "execution_count": 123,
   "id": "3ee36942",
   "metadata": {},
   "outputs": [
    {
     "name": "stdout",
     "output_type": "stream",
     "text": [
      "Original tuple of integers: (1, 2, 3, 4, 5)\n",
      "Tuple of strings: ('1', '2', '3', '4', '5')\n"
     ]
    }
   ],
   "source": [
    "# Example tuple of integers\n",
    "int_tuple = (1, 2, 3, 4, 5)\n",
    "\n",
    "# Convert the tuple of integers to a tuple of strings\n",
    "str_tuple = tuple(str(i) for i in int_tuple)\n",
    "\n",
    "# Print the results\n",
    "print(\"Original tuple of integers:\", int_tuple)\n",
    "print(\"Tuple of strings:\", str_tuple)\n"
   ]
  },
  {
   "cell_type": "markdown",
   "id": "8bf6f327",
   "metadata": {},
   "source": [
    "29. Convert a tuple of strings to a tuple of integers."
   ]
  },
  {
   "cell_type": "code",
   "execution_count": 124,
   "id": "f34f53f1",
   "metadata": {},
   "outputs": [
    {
     "name": "stdout",
     "output_type": "stream",
     "text": [
      "Original tuple of strings: ('1', '2', '3', '4', '5')\n",
      "Tuple of integers: (1, 2, 3, 4, 5)\n"
     ]
    }
   ],
   "source": [
    "# Example tuple of strings\n",
    "str_tuple = ('1', '2', '3', '4', '5')\n",
    "\n",
    "# Convert the tuple of strings to a tuple of integers\n",
    "int_tuple = tuple(int(s) for s in str_tuple)\n",
    "\n",
    "# Print the results\n",
    "print(\"Original tuple of strings:\", str_tuple)\n",
    "print(\"Tuple of integers:\", int_tuple)\n"
   ]
  },
  {
   "cell_type": "markdown",
   "id": "efc818ec",
   "metadata": {},
   "source": [
    "30. Merge two tuples."
   ]
  },
  {
   "cell_type": "code",
   "execution_count": 125,
   "id": "e06e8adb",
   "metadata": {},
   "outputs": [
    {
     "name": "stdout",
     "output_type": "stream",
     "text": [
      "Tuple 1: (1, 2, 3)\n",
      "Tuple 2: (4, 5, 6)\n",
      "Merged tuple: (1, 2, 3, 4, 5, 6)\n"
     ]
    }
   ],
   "source": [
    "# Example tuples\n",
    "tuple1 = (1, 2, 3)\n",
    "tuple2 = (4, 5, 6)\n",
    "\n",
    "# Merge the two tuples\n",
    "merged_tuple = tuple1 + tuple2\n",
    "\n",
    "# Print the results\n",
    "print(\"Tuple 1:\", tuple1)\n",
    "print(\"Tuple 2:\", tuple2)\n",
    "print(\"Merged tuple:\", merged_tuple)\n"
   ]
  },
  {
   "cell_type": "markdown",
   "id": "423aafca",
   "metadata": {},
   "source": [
    "31. Flatten a nested tuple."
   ]
  },
  {
   "cell_type": "code",
   "execution_count": 126,
   "id": "a1f8cc9d",
   "metadata": {},
   "outputs": [
    {
     "name": "stdout",
     "output_type": "stream",
     "text": [
      "Original nested tuple: ((1, 2, 3), ('a', 'b', 'c'), (True, False))\n",
      "Flattened tuple: (1, 2, 3, 'a', 'b', 'c', True, False)\n"
     ]
    }
   ],
   "source": [
    "# Example nested tuple\n",
    "nested_tuple = ((1, 2, 3), ('a', 'b', 'c'), (True, False))\n",
    "\n",
    "def flatten_tuple(nested_tuple):\n",
    "    flat_list = []\n",
    "    for item in nested_tuple:\n",
    "        if isinstance(item, tuple):\n",
    "            flat_list.extend(flatten_tuple(item))\n",
    "        else:\n",
    "            flat_list.append(item)\n",
    "    return flat_list\n",
    "\n",
    "# Flatten the nested tuple\n",
    "flat_tuple = tuple(flatten_tuple(nested_tuple))\n",
    "\n",
    "# Print the results\n",
    "print(\"Original nested tuple:\", nested_tuple)\n",
    "print(\"Flattened tuple:\", flat_tuple)\n"
   ]
  },
  {
   "cell_type": "markdown",
   "id": "5dfed1df",
   "metadata": {},
   "source": [
    "32. Create a tuple of the first 5 prime numbers."
   ]
  },
  {
   "cell_type": "code",
   "execution_count": 127,
   "id": "152e7fd5",
   "metadata": {},
   "outputs": [
    {
     "name": "stdout",
     "output_type": "stream",
     "text": [
      "Tuple of the first 5 prime numbers: (2, 3, 5, 7, 11)\n"
     ]
    }
   ],
   "source": [
    "def is_prime(num):\n",
    "    if num < 2:\n",
    "        return False\n",
    "    for i in range(2, int(num**0.5) + 1):\n",
    "        if num % i == 0:\n",
    "            return False\n",
    "    return True\n",
    "\n",
    "# Generate the first 5 prime numbers\n",
    "prime_numbers = []\n",
    "num = 2\n",
    "\n",
    "while len(prime_numbers) < 5:\n",
    "    if is_prime(num):\n",
    "        prime_numbers.append(num)\n",
    "    num += 1\n",
    "\n",
    "# Convert the list to a tuple\n",
    "prime_tuple = tuple(prime_numbers)\n",
    "\n",
    "# Print the results\n",
    "print(\"Tuple of the first 5 prime numbers:\", prime_tuple)\n"
   ]
  },
  {
   "cell_type": "markdown",
   "id": "634cf734",
   "metadata": {},
   "source": [
    "33. Check if a tuple is a palindrome."
   ]
  },
  {
   "cell_type": "code",
   "execution_count": 128,
   "id": "df166533",
   "metadata": {},
   "outputs": [
    {
     "name": "stdout",
     "output_type": "stream",
     "text": [
      "Original tuple: (1, 2, 3, 2, 1)\n",
      "Is palindrome? True\n"
     ]
    }
   ],
   "source": [
    "# Example tuple\n",
    "my_tuple = (1, 2, 3, 2, 1)\n",
    "\n",
    "# Check if the tuple is a palindrome\n",
    "is_palindrome = my_tuple == my_tuple[::-1]\n",
    "\n",
    "# Print the results\n",
    "print(\"Original tuple:\", my_tuple)\n",
    "print(\"Is palindrome?\", is_palindrome)\n"
   ]
  },
  {
   "cell_type": "markdown",
   "id": "bd67e3c9",
   "metadata": {},
   "source": [
    "34. Create a tuple of squares of numbers from 1 to 5."
   ]
  },
  {
   "cell_type": "code",
   "execution_count": 129,
   "id": "6d1877b6",
   "metadata": {},
   "outputs": [
    {
     "name": "stdout",
     "output_type": "stream",
     "text": [
      "Tuple of squares: (1, 4, 9, 16, 25)\n"
     ]
    }
   ],
   "source": [
    "# Create a tuple of squares of numbers from 1 to 5\n",
    "squares_tuple = tuple(x**2 for x in range(1, 6))\n",
    "\n",
    "# Print the result\n",
    "print(\"Tuple of squares:\", squares_tuple)\n"
   ]
  },
  {
   "cell_type": "markdown",
   "id": "464298de",
   "metadata": {},
   "source": [
    "35. Filter out all even numbers from a tuple."
   ]
  },
  {
   "cell_type": "code",
   "execution_count": 130,
   "id": "49e7a4c6",
   "metadata": {},
   "outputs": [
    {
     "name": "stdout",
     "output_type": "stream",
     "text": [
      "Original tuple: (1, 2, 3, 4, 5, 6, 7, 8, 9, 10)\n",
      "Filtered tuple (without even numbers): (1, 3, 5, 7, 9)\n"
     ]
    }
   ],
   "source": [
    "# Example tuple\n",
    "original_tuple = (1, 2, 3, 4, 5, 6, 7, 8, 9, 10)\n",
    "\n",
    "# Filter out even numbers from the tuple\n",
    "filtered_tuple = tuple(x for x in original_tuple if x % 2 != 0)\n",
    "\n",
    "# Print the results\n",
    "print(\"Original tuple:\", original_tuple)\n",
    "print(\"Filtered tuple (without even numbers):\", filtered_tuple)\n"
   ]
  },
  {
   "cell_type": "markdown",
   "id": "46b96693",
   "metadata": {},
   "source": [
    "36. Multiply all elements in a tuple by 2."
   ]
  },
  {
   "cell_type": "code",
   "execution_count": 131,
   "id": "97afaebe",
   "metadata": {},
   "outputs": [
    {
     "name": "stdout",
     "output_type": "stream",
     "text": [
      "Original tuple: (1, 2, 3, 4, 5)\n",
      "Doubled tuple: (2, 4, 6, 8, 10)\n"
     ]
    }
   ],
   "source": [
    "# Example tuple\n",
    "original_tuple = (1, 2, 3, 4, 5)\n",
    "\n",
    "# Multiply all elements by 2\n",
    "doubled_tuple = tuple(x * 2 for x in original_tuple)\n",
    "\n",
    "# Print the results\n",
    "print(\"Original tuple:\", original_tuple)\n",
    "print(\"Doubled tuple:\", doubled_tuple)\n"
   ]
  },
  {
   "cell_type": "markdown",
   "id": "d43a680e",
   "metadata": {},
   "source": [
    "37. Create a tuple of random numbers."
   ]
  },
  {
   "cell_type": "code",
   "execution_count": 132,
   "id": "3b01cab9",
   "metadata": {},
   "outputs": [
    {
     "name": "stdout",
     "output_type": "stream",
     "text": [
      "Tuple of random numbers: (10, 6, 9, 10, 8)\n"
     ]
    }
   ],
   "source": [
    "import random\n",
    "\n",
    "# Create a tuple of 5 random numbers between 1 and 10\n",
    "random_tuple = tuple(random.randint(1, 10) for _ in range(5))\n",
    "\n",
    "# Print the result\n",
    "print(\"Tuple of random numbers:\", random_tuple)\n"
   ]
  },
  {
   "cell_type": "markdown",
   "id": "49f1f386",
   "metadata": {},
   "source": [
    "38. Check if a tuple is sorted."
   ]
  },
  {
   "cell_type": "code",
   "execution_count": 133,
   "id": "954ceb9b",
   "metadata": {},
   "outputs": [
    {
     "name": "stdout",
     "output_type": "stream",
     "text": [
      "Original tuple: (1, 2, 3, 4, 5)\n",
      "Is sorted? True\n"
     ]
    }
   ],
   "source": [
    "# Example tuple\n",
    "my_tuple = (1, 2, 3, 4, 5)\n",
    "\n",
    "# Check if the tuple is sorted\n",
    "is_sorted = all(my_tuple[i] <= my_tuple[i + 1] for i in range(len(my_tuple) - 1))\n",
    "\n",
    "# Print the results\n",
    "print(\"Original tuple:\", my_tuple)\n",
    "print(\"Is sorted?\", is_sorted)\n"
   ]
  },
  {
   "cell_type": "markdown",
   "id": "4c5fea4f",
   "metadata": {},
   "source": [
    "39. Rotate a tuple to the left by `n` positions."
   ]
  },
  {
   "cell_type": "code",
   "execution_count": 134,
   "id": "99d74f47",
   "metadata": {},
   "outputs": [
    {
     "name": "stdout",
     "output_type": "stream",
     "text": [
      "Original tuple: (1, 2, 3, 4, 5)\n",
      "Rotated tuple to the left by 2 positions: (3, 4, 5, 1, 2)\n"
     ]
    }
   ],
   "source": [
    "# Example tuple\n",
    "my_tuple = (1, 2, 3, 4, 5)\n",
    "\n",
    "# Number of positions to rotate\n",
    "n = 2\n",
    "\n",
    "# Rotate the tuple to the left by n positions\n",
    "rotated_tuple = my_tuple[n:] + my_tuple[:n]\n",
    "\n",
    "# Print the results\n",
    "print(\"Original tuple:\", my_tuple)\n",
    "print(f\"Rotated tuple to the left by {n} positions:\", rotated_tuple)\n"
   ]
  },
  {
   "cell_type": "markdown",
   "id": "a6011fb3",
   "metadata": {},
   "source": [
    "40. Rotate a tuple to the right by `n` positions."
   ]
  },
  {
   "cell_type": "code",
   "execution_count": 135,
   "id": "1bca07b9",
   "metadata": {},
   "outputs": [
    {
     "name": "stdout",
     "output_type": "stream",
     "text": [
      "Original tuple: (1, 2, 3, 4, 5)\n",
      "Rotated tuple to the right by 2 positions: (4, 5, 1, 2, 3)\n"
     ]
    }
   ],
   "source": [
    "# Example tuple\n",
    "my_tuple = (1, 2, 3, 4, 5)\n",
    "\n",
    "# Number of positions to rotate\n",
    "n = 2\n",
    "\n",
    "# Calculate the rotation index\n",
    "rotation_index = len(my_tuple) - n\n",
    "\n",
    "# Rotate the tuple to the right by n positions\n",
    "rotated_tuple = my_tuple[rotation_index:] + my_tuple[:rotation_index]\n",
    "\n",
    "# Print the results\n",
    "print(\"Original tuple:\", my_tuple)\n",
    "print(f\"Rotated tuple to the right by {n} positions:\", rotated_tuple)\n"
   ]
  },
  {
   "cell_type": "markdown",
   "id": "254faf1f",
   "metadata": {},
   "source": [
    "41. Create a tuple of the first 5 Fibonacci numbers."
   ]
  },
  {
   "cell_type": "code",
   "execution_count": 136,
   "id": "1eaf23e4",
   "metadata": {},
   "outputs": [
    {
     "name": "stdout",
     "output_type": "stream",
     "text": [
      "Tuple of the first 5 Fibonacci numbers: (0, 1, 1, 2, 3)\n"
     ]
    }
   ],
   "source": [
    "# Function to generate Fibonacci numbers\n",
    "def generate_fibonacci(n):\n",
    "    fibonacci_numbers = [0, 1]\n",
    "    for _ in range(2, n):\n",
    "        next_number = fibonacci_numbers[-1] + fibonacci_numbers[-2]\n",
    "        fibonacci_numbers.append(next_number)\n",
    "    return tuple(fibonacci_numbers)\n",
    "\n",
    "# Generate a tuple of the first 5 Fibonacci numbers\n",
    "fibonacci_tuple = generate_fibonacci(5)\n",
    "\n",
    "# Print the result\n",
    "print(\"Tuple of the first 5 Fibonacci numbers:\", fibonacci_tuple)\n"
   ]
  },
  {
   "cell_type": "markdown",
   "id": "459624a1",
   "metadata": {},
   "source": [
    "42. Create a tuple from user input."
   ]
  },
  {
   "cell_type": "code",
   "execution_count": 137,
   "id": "b06fd9af",
   "metadata": {},
   "outputs": [
    {
     "name": "stdout",
     "output_type": "stream",
     "text": [
      "Enter values separated by spaces: v i k\n",
      "User input as tuple: ('v', 'i', 'k')\n"
     ]
    }
   ],
   "source": [
    "# Get user input as a space-separated string of values\n",
    "user_input_str = input(\"Enter values separated by spaces: \")\n",
    "\n",
    "# Split the input string into a list of strings\n",
    "input_values = user_input_str.split()\n",
    "\n",
    "# Convert the list of strings to a tuple\n",
    "user_tuple = tuple(input_values)\n",
    "\n",
    "# Print the result\n",
    "print(\"User input as tuple:\", user_tuple)\n"
   ]
  },
  {
   "cell_type": "markdown",
   "id": "c5d1dae5",
   "metadata": {},
   "source": [
    "43. Swap two elements in a tuple."
   ]
  },
  {
   "cell_type": "code",
   "execution_count": 138,
   "id": "9c1a47be",
   "metadata": {},
   "outputs": [
    {
     "name": "stdout",
     "output_type": "stream",
     "text": [
      "Original tuple: (1, 2, 3, 4, 5)\n",
      "Tuple with elements swapped: (1, 4, 3, 2, 5)\n"
     ]
    }
   ],
   "source": [
    "# Example tuple\n",
    "my_tuple = (1, 2, 3, 4, 5)\n",
    "\n",
    "# Indices of the elements to swap\n",
    "index1, index2 = 1, 3  # Swap elements at indices 1 and 3\n",
    "\n",
    "# Convert the tuple to a list to facilitate swapping\n",
    "tuple_list = list(my_tuple)\n",
    "\n",
    "# Swap the elements\n",
    "tuple_list[index1], tuple_list[index2] = tuple_list[index2], tuple_list[index1]\n",
    "\n",
    "# Convert the list back to a tuple\n",
    "swapped_tuple = tuple(tuple_list)\n",
    "\n",
    "# Print the results\n",
    "print(\"Original tuple:\", my_tuple)\n",
    "print(\"Tuple with elements swapped:\", swapped_tuple)\n"
   ]
  },
  {
   "cell_type": "markdown",
   "id": "da763c4f",
   "metadata": {},
   "source": [
    "44. Reverse the elements of a tuple."
   ]
  },
  {
   "cell_type": "code",
   "execution_count": 139,
   "id": "a4b6d56b",
   "metadata": {},
   "outputs": [
    {
     "name": "stdout",
     "output_type": "stream",
     "text": [
      "Original tuple: (1, 2, 3, 4, 5)\n",
      "Reversed tuple: (5, 4, 3, 2, 1)\n"
     ]
    }
   ],
   "source": [
    "# Example tuple\n",
    "my_tuple = (1, 2, 3, 4, 5)\n",
    "\n",
    "# Reverse the elements of the tuple\n",
    "reversed_tuple = my_tuple[::-1]\n",
    "\n",
    "# Print the results\n",
    "print(\"Original tuple:\", my_tuple)\n",
    "print(\"Reversed tuple:\", reversed_tuple)\n"
   ]
  },
  {
   "cell_type": "markdown",
   "id": "c1b64460",
   "metadata": {},
   "source": [
    "45. Create a tuple of the first `n` powers of 2."
   ]
  },
  {
   "cell_type": "code",
   "execution_count": 140,
   "id": "1d8edb78",
   "metadata": {},
   "outputs": [
    {
     "name": "stdout",
     "output_type": "stream",
     "text": [
      "Tuple of the first 5 powers of 2: (1, 2, 4, 8, 16)\n"
     ]
    }
   ],
   "source": [
    "# Function to generate the first n powers of 2\n",
    "def generate_powers_of_2(n):\n",
    "    return tuple(2 ** i for i in range(n))\n",
    "\n",
    "# Specify the number of powers you want\n",
    "n = 5\n",
    "\n",
    "# Generate a tuple of the first n powers of 2\n",
    "powers_of_2_tuple = generate_powers_of_2(n)\n",
    "\n",
    "# Print the result\n",
    "print(f\"Tuple of the first {n} powers of 2:\", powers_of_2_tuple)\n"
   ]
  },
  {
   "cell_type": "markdown",
   "id": "99100dc7",
   "metadata": {},
   "source": [
    "46. Find the longest string in a tuple of strings."
   ]
  },
  {
   "cell_type": "code",
   "execution_count": 141,
   "id": "edbcfe40",
   "metadata": {},
   "outputs": [
    {
     "name": "stdout",
     "output_type": "stream",
     "text": [
      "Tuple of strings: ('apple', 'banana', 'kiwi', 'strawberry', 'orange')\n",
      "Longest string: strawberry\n"
     ]
    }
   ],
   "source": [
    "# Example tuple of strings\n",
    "my_tuple = (\"apple\", \"banana\", \"kiwi\", \"strawberry\", \"orange\")\n",
    "\n",
    "# Find the longest string in the tuple\n",
    "longest_string = max(my_tuple, key=len)\n",
    "\n",
    "# Print the result\n",
    "print(\"Tuple of strings:\", my_tuple)\n",
    "print(\"Longest string:\", longest_string)\n"
   ]
  },
  {
   "cell_type": "markdown",
   "id": "3bb66125",
   "metadata": {},
   "source": [
    "47. Find the shortest string in a tuple of strings."
   ]
  },
  {
   "cell_type": "code",
   "execution_count": 142,
   "id": "fb365ebf",
   "metadata": {},
   "outputs": [
    {
     "name": "stdout",
     "output_type": "stream",
     "text": [
      "Tuple of strings: ('apple', 'banana', 'kiwi', 'strawberry', 'orange')\n",
      "Shortest string: kiwi\n"
     ]
    }
   ],
   "source": [
    "# Example tuple of strings\n",
    "my_tuple = (\"apple\", \"banana\", \"kiwi\", \"strawberry\", \"orange\")\n",
    "\n",
    "# Find the shortest string in the tuple\n",
    "shortest_string = min(my_tuple, key=len)\n",
    "\n",
    "# Print the result\n",
    "print(\"Tuple of strings:\", my_tuple)\n",
    "print(\"Shortest string:\", shortest_string)\n"
   ]
  },
  {
   "cell_type": "markdown",
   "id": "f621374b",
   "metadata": {},
   "source": [
    "48. Create a tuple of the first `n` triangular numbers."
   ]
  },
  {
   "cell_type": "code",
   "execution_count": 143,
   "id": "08d141b2",
   "metadata": {},
   "outputs": [
    {
     "name": "stdout",
     "output_type": "stream",
     "text": [
      "Tuple of the first 5 triangular numbers: (1, 3, 6, 10, 15)\n"
     ]
    }
   ],
   "source": [
    "# Function to generate the first n triangular numbers\n",
    "def generate_triangular_numbers(n):\n",
    "    triangular_numbers = []\n",
    "    current_sum = 0\n",
    "    for i in range(1, n + 1):\n",
    "        current_sum += i\n",
    "        triangular_numbers.append(current_sum)\n",
    "    return tuple(triangular_numbers)\n",
    "\n",
    "# Specify the number of triangular numbers you want\n",
    "n = 5\n",
    "\n",
    "# Generate a tuple of the first n triangular numbers\n",
    "triangular_numbers_tuple = generate_triangular_numbers(n)\n",
    "\n",
    "# Print the result\n",
    "print(f\"Tuple of the first {n} triangular numbers:\", triangular_numbers_tuple)\n"
   ]
  },
  {
   "cell_type": "markdown",
   "id": "94fc2273",
   "metadata": {},
   "source": [
    "49. Check if a tuple contains another tuple as a subsequence."
   ]
  },
  {
   "cell_type": "code",
   "execution_count": 144,
   "id": "34706f8d",
   "metadata": {},
   "outputs": [
    {
     "name": "stdout",
     "output_type": "stream",
     "text": [
      "Tuple 1: (1, 2, 3, 4, 5, 6)\n",
      "Tuple 2: (3, 4, 5)\n",
      "Is tuple2 a subsequence of tuple1? True\n"
     ]
    }
   ],
   "source": [
    "# Function to check if tuple2 is a subsequence of tuple1\n",
    "def is_subsequence(tuple1, tuple2):\n",
    "    len_tuple1 = len(tuple1)\n",
    "    len_tuple2 = len(tuple2)\n",
    "\n",
    "    for i in range(len_tuple1 - len_tuple2 + 1):\n",
    "        if tuple1[i:i+len_tuple2] == tuple2:\n",
    "            return True\n",
    "\n",
    "    return False\n",
    "\n",
    "# Example tuples\n",
    "tuple1 = (1, 2, 3, 4, 5, 6)\n",
    "tuple2 = (3, 4, 5)\n",
    "\n",
    "# Check if tuple2 is a subsequence of tuple1\n",
    "result = is_subsequence(tuple1, tuple2)\n",
    "\n",
    "# Print the result\n",
    "print(\"Tuple 1:\", tuple1)\n",
    "print(\"Tuple 2:\", tuple2)\n",
    "print(\"Is tuple2 a subsequence of tuple1?\", result)\n"
   ]
  },
  {
   "cell_type": "markdown",
   "id": "3fac2837",
   "metadata": {},
   "source": [
    "50. Create a tuple of alternating 1s and 0s of length `n`."
   ]
  },
  {
   "cell_type": "code",
   "execution_count": 145,
   "id": "d343defb",
   "metadata": {},
   "outputs": [
    {
     "name": "stdout",
     "output_type": "stream",
     "text": [
      "Tuple of alternating 1s and 0s of length 8: (1, 0, 1, 0, 1, 0, 1, 0)\n"
     ]
    }
   ],
   "source": [
    "# Function to generate a tuple of alternating 1s and 0s\n",
    "def generate_alternating_tuple(n):\n",
    "    return tuple(1 if i % 2 == 0 else 0 for i in range(n))\n",
    "\n",
    "# Specify the length of the tuple\n",
    "n = 8\n",
    "\n",
    "# Generate the tuple of alternating 1s and 0s\n",
    "alternating_tuple = generate_alternating_tuple(n)\n",
    "\n",
    "# Print the result\n",
    "print(f\"Tuple of alternating 1s and 0s of length {n}:\", alternating_tuple)\n"
   ]
  },
  {
   "cell_type": "markdown",
   "id": "85f5d7b1",
   "metadata": {},
   "source": [
    "# Set Based Practice Problem:"
   ]
  },
  {
   "cell_type": "markdown",
   "id": "682d9ac0",
   "metadata": {},
   "source": [
    "1. Create a set with integers from 1 to 5."
   ]
  },
  {
   "cell_type": "code",
   "execution_count": 146,
   "id": "30e48c0b",
   "metadata": {},
   "outputs": [
    {
     "name": "stdout",
     "output_type": "stream",
     "text": [
      "Tuple of alternating 1s and 0s of length 8: (1, 0, 1, 0, 1, 0, 1, 0)\n"
     ]
    }
   ],
   "source": [
    "# Function to generate a tuple of alternating 1s and 0s\n",
    "def generate_alternating_tuple(n):\n",
    "    return tuple(1 if i % 2 == 0 else 0 for i in range(n))\n",
    "\n",
    "# Specify the length of the tuple\n",
    "n = 8\n",
    "\n",
    "# Generate the tuple of alternating 1s and 0s\n",
    "alternating_tuple = generate_alternating_tuple(n)\n",
    "\n",
    "# Print the result\n",
    "print(f\"Tuple of alternating 1s and 0s of length {n}:\", alternating_tuple)\n"
   ]
  },
  {
   "cell_type": "markdown",
   "id": "5c9d7586",
   "metadata": {},
   "source": [
    "2. Add an element to a set."
   ]
  },
  {
   "cell_type": "code",
   "execution_count": 147,
   "id": "2a9c5b4b",
   "metadata": {},
   "outputs": [
    {
     "name": "stdout",
     "output_type": "stream",
     "text": [
      "Updated set: {1, 2, 3, 4, 5, 6}\n"
     ]
    }
   ],
   "source": [
    "# Create a set\n",
    "my_set = {1, 2, 3, 4, 5}\n",
    "\n",
    "# Add an element to the set\n",
    "my_set.add(6)\n",
    "\n",
    "# Print the updated set\n",
    "print(\"Updated set:\", my_set)\n"
   ]
  },
  {
   "cell_type": "markdown",
   "id": "5a3a6e64",
   "metadata": {},
   "source": [
    "3. Remove an element from a set."
   ]
  },
  {
   "cell_type": "code",
   "execution_count": 148,
   "id": "7875e06a",
   "metadata": {},
   "outputs": [
    {
     "name": "stdout",
     "output_type": "stream",
     "text": [
      "Set after using remove(): {1, 2, 4, 5}\n",
      "Set after using discard(): {1, 2, 4}\n"
     ]
    }
   ],
   "source": [
    "# Create a set\n",
    "my_set = {1, 2, 3, 4, 5}\n",
    "\n",
    "# Remove an element using the remove() method\n",
    "my_set.remove(3)\n",
    "\n",
    "# Print the set after removal\n",
    "print(\"Set after using remove():\", my_set)\n",
    "\n",
    "# Remove an element using the discard() method\n",
    "my_set.discard(5)\n",
    "\n",
    "# Print the set after removal\n",
    "print(\"Set after using discard():\", my_set)\n"
   ]
  },
  {
   "cell_type": "markdown",
   "id": "aba2d709",
   "metadata": {},
   "source": [
    "4. Check if an element exists in a set."
   ]
  },
  {
   "cell_type": "code",
   "execution_count": 149,
   "id": "9eebe9a3",
   "metadata": {},
   "outputs": [
    {
     "name": "stdout",
     "output_type": "stream",
     "text": [
      "3 exists in the set.\n"
     ]
    }
   ],
   "source": [
    "# Create a set\n",
    "my_set = {1, 2, 3, 4, 5}\n",
    "\n",
    "# Check if an element exists in the set\n",
    "element_to_check = 3\n",
    "if element_to_check in my_set:\n",
    "    print(f\"{element_to_check} exists in the set.\")\n",
    "else:\n",
    "    print(f\"{element_to_check} does not exist in the set.\")\n"
   ]
  },
  {
   "cell_type": "markdown",
   "id": "2b398894",
   "metadata": {},
   "source": [
    "5. Find the length of a set without using the `len()` function."
   ]
  },
  {
   "cell_type": "code",
   "execution_count": 150,
   "id": "570ca5cc",
   "metadata": {},
   "outputs": [
    {
     "name": "stdout",
     "output_type": "stream",
     "text": [
      "Length of the set: 5\n"
     ]
    }
   ],
   "source": [
    "# Create a set\n",
    "my_set = {1, 2, 3, 4, 5}\n",
    "\n",
    "# Find the length of the set without using len()\n",
    "length = 0\n",
    "for _ in my_set:\n",
    "    length += 1\n",
    "\n",
    "# Print the result\n",
    "print(\"Length of the set:\", length)\n"
   ]
  },
  {
   "cell_type": "markdown",
   "id": "4acbf799",
   "metadata": {},
   "source": [
    "6. Clear all elements from a set."
   ]
  },
  {
   "cell_type": "code",
   "execution_count": 151,
   "id": "9cecdca6",
   "metadata": {},
   "outputs": [
    {
     "name": "stdout",
     "output_type": "stream",
     "text": [
      "Set after clearing: set()\n"
     ]
    }
   ],
   "source": [
    "# Create a set\n",
    "my_set = {1, 2, 3, 4, 5}\n",
    "\n",
    "# Clear all elements from the set\n",
    "my_set.clear()\n",
    "\n",
    "# Print the set after clearing\n",
    "print(\"Set after clearing:\", my_set)\n"
   ]
  },
  {
   "cell_type": "markdown",
   "id": "4083344b",
   "metadata": {},
   "source": [
    "7. Create a set of even numbers from 1 to 10."
   ]
  },
  {
   "cell_type": "code",
   "execution_count": 152,
   "id": "ecdbb647",
   "metadata": {},
   "outputs": [
    {
     "name": "stdout",
     "output_type": "stream",
     "text": [
      "Set of even numbers from 1 to 10: {2, 4, 6, 8, 10}\n"
     ]
    }
   ],
   "source": [
    "# Create a set of even numbers from 1 to 10 using a set comprehension\n",
    "even_numbers_set = {x for x in range(1, 11) if x % 2 == 0}\n",
    "\n",
    "# Print the result\n",
    "print(\"Set of even numbers from 1 to 10:\", even_numbers_set)\n"
   ]
  },
  {
   "cell_type": "markdown",
   "id": "7f445103",
   "metadata": {},
   "source": [
    "8. Create a set of odd numbers from 1 to 10."
   ]
  },
  {
   "cell_type": "code",
   "execution_count": 154,
   "id": "353281b3",
   "metadata": {},
   "outputs": [
    {
     "name": "stdout",
     "output_type": "stream",
     "text": [
      "Set of odd numbers from 1 to 10: {1, 3, 5, 7, 9}\n"
     ]
    }
   ],
   "source": [
    "# Create a set of odd numbers from 1 to 10 using a set comprehension\n",
    "odd_numbers_set = {x for x in range(1, 11) if x % 2 != 0}\n",
    "\n",
    "# Print the result\n",
    "print(\"Set of odd numbers from 1 to 10:\", odd_numbers_set)\n"
   ]
  },
  {
   "cell_type": "markdown",
   "id": "bb24f3b2",
   "metadata": {},
   "source": [
    "9. Find the union of two sets."
   ]
  },
  {
   "cell_type": "code",
   "execution_count": 155,
   "id": "b3c6d3e3",
   "metadata": {},
   "outputs": [
    {
     "name": "stdout",
     "output_type": "stream",
     "text": [
      "Union using union() method: {1, 2, 3, 4, 5, 6, 7, 8}\n",
      "Union using | operator: {1, 2, 3, 4, 5, 6, 7, 8}\n"
     ]
    }
   ],
   "source": [
    "# Create two sets\n",
    "set1 = {1, 2, 3, 4, 5}\n",
    "set2 = {4, 5, 6, 7, 8}\n",
    "\n",
    "# Find the union using the union() method\n",
    "union_result_method = set1.union(set2)\n",
    "\n",
    "# Find the union using the | operator\n",
    "union_result_operator = set1 | set2\n",
    "\n",
    "# Print the results\n",
    "print(\"Union using union() method:\", union_result_method)\n",
    "print(\"Union using | operator:\", union_result_operator)\n"
   ]
  },
  {
   "cell_type": "markdown",
   "id": "10a0d04c",
   "metadata": {},
   "source": [
    "10. Find the intersection of two sets."
   ]
  },
  {
   "cell_type": "code",
   "execution_count": 156,
   "id": "1f7a8124",
   "metadata": {},
   "outputs": [
    {
     "name": "stdout",
     "output_type": "stream",
     "text": [
      "Intersection using intersection() method: {4, 5}\n",
      "Intersection using & operator: {4, 5}\n"
     ]
    }
   ],
   "source": [
    "# Create two sets\n",
    "set1 = {1, 2, 3, 4, 5}\n",
    "set2 = {4, 5, 6, 7, 8}\n",
    "\n",
    "# Find the intersection using the intersection() method\n",
    "intersection_result_method = set1.intersection(set2)\n",
    "\n",
    "# Find the intersection using the & operator\n",
    "intersection_result_operator = set1 & set2\n",
    "\n",
    "# Print the results\n",
    "print(\"Intersection using intersection() method:\", intersection_result_method)\n",
    "print(\"Intersection using & operator:\", intersection_result_operator)\n"
   ]
  },
  {
   "cell_type": "markdown",
   "id": "9680ad2b",
   "metadata": {},
   "source": [
    "11. Find the difference between two sets."
   ]
  },
  {
   "cell_type": "code",
   "execution_count": 157,
   "id": "cfef386f",
   "metadata": {},
   "outputs": [
    {
     "name": "stdout",
     "output_type": "stream",
     "text": [
      "Difference using difference() method: {1, 2, 3}\n",
      "Difference using - operator: {1, 2, 3}\n"
     ]
    }
   ],
   "source": [
    "# Create two sets\n",
    "set1 = {1, 2, 3, 4, 5}\n",
    "set2 = {4, 5, 6, 7, 8}\n",
    "\n",
    "# Find the difference using the difference() method\n",
    "difference_result_method = set1.difference(set2)\n",
    "\n",
    "# Find the difference using the - operator\n",
    "difference_result_operator = set1 - set2\n",
    "\n",
    "# Print the results\n",
    "print(\"Difference using difference() method:\", difference_result_method)\n",
    "print(\"Difference using - operator:\", difference_result_operator)\n"
   ]
  },
  {
   "cell_type": "markdown",
   "id": "194cd7d1",
   "metadata": {},
   "source": [
    "12. Check if a set is a subset of another set."
   ]
  },
  {
   "cell_type": "code",
   "execution_count": 158,
   "id": "d1ead35a",
   "metadata": {},
   "outputs": [
    {
     "name": "stdout",
     "output_type": "stream",
     "text": [
      "Is set2 a subset of set1 using issubset() method: True\n",
      "Is set2 a subset of set1 using <= operator: True\n"
     ]
    }
   ],
   "source": [
    "# Create two sets\n",
    "set1 = {1, 2, 3, 4, 5}\n",
    "set2 = {2, 4}\n",
    "\n",
    "# Check if set2 is a subset of set1 using the issubset() method\n",
    "is_subset_method = set2.issubset(set1)\n",
    "\n",
    "# Check if set2 is a subset of set1 using the <= operator\n",
    "is_subset_operator = set2 <= set1\n",
    "\n",
    "# Print the results\n",
    "print(\"Is set2 a subset of set1 using issubset() method:\", is_subset_method)\n",
    "print(\"Is set2 a subset of set1 using <= operator:\", is_subset_operator)\n"
   ]
  },
  {
   "cell_type": "markdown",
   "id": "020131e7",
   "metadata": {},
   "source": [
    "13. Check if a set is a superset of another set."
   ]
  },
  {
   "cell_type": "code",
   "execution_count": 159,
   "id": "41defded",
   "metadata": {},
   "outputs": [
    {
     "name": "stdout",
     "output_type": "stream",
     "text": [
      "Is set1 a superset of set2 using issuperset() method: True\n",
      "Is set1 a superset of set2 using >= operator: True\n"
     ]
    }
   ],
   "source": [
    "# Create two sets\n",
    "set1 = {1, 2, 3, 4, 5}\n",
    "set2 = {2, 4}\n",
    "\n",
    "# Check if set1 is a superset of set2 using the issuperset() method\n",
    "is_superset_method = set1.issuperset(set2)\n",
    "\n",
    "# Check if set1 is a superset of set2 using the >= operator\n",
    "is_superset_operator = set1 >= set2\n",
    "\n",
    "# Print the results\n",
    "print(\"Is set1 a superset of set2 using issuperset() method:\", is_superset_method)\n",
    "print(\"Is set1 a superset of set2 using >= operator:\", is_superset_operator)\n"
   ]
  },
  {
   "cell_type": "markdown",
   "id": "e632b720",
   "metadata": {},
   "source": [
    "14. Create a set from a list."
   ]
  },
  {
   "cell_type": "code",
   "execution_count": 160,
   "id": "2f9e8a46",
   "metadata": {},
   "outputs": [
    {
     "name": "stdout",
     "output_type": "stream",
     "text": [
      "Set from list: {1, 2, 3, 4, 5}\n"
     ]
    }
   ],
   "source": [
    "# Create a list\n",
    "my_list = [1, 2, 3, 4, 5]\n",
    "\n",
    "# Create a set from the list using the set() constructor\n",
    "my_set = set(my_list)\n",
    "\n",
    "# Print the result\n",
    "print(\"Set from list:\", my_set)\n"
   ]
  },
  {
   "cell_type": "markdown",
   "id": "6387402a",
   "metadata": {},
   "source": [
    "15. Convert a set to a list."
   ]
  },
  {
   "cell_type": "code",
   "execution_count": 161,
   "id": "97428c63",
   "metadata": {},
   "outputs": [
    {
     "name": "stdout",
     "output_type": "stream",
     "text": [
      "List from set: [1, 2, 3, 4, 5]\n"
     ]
    }
   ],
   "source": [
    "# Create a set\n",
    "my_set = {1, 2, 3, 4, 5}\n",
    "\n",
    "# Convert the set to a list using the list() constructor\n",
    "my_list = list(my_set)\n",
    "\n",
    "# Print the result\n",
    "print(\"List from set:\", my_list)\n"
   ]
  },
  {
   "cell_type": "markdown",
   "id": "768d8118",
   "metadata": {},
   "source": [
    "16. Remove a random element from a set."
   ]
  },
  {
   "cell_type": "code",
   "execution_count": 162,
   "id": "0a7690eb",
   "metadata": {},
   "outputs": [
    {
     "name": "stdout",
     "output_type": "stream",
     "text": [
      "Set after removal: {2, 3, 4, 5}\n",
      "Removed element: 1\n"
     ]
    }
   ],
   "source": [
    "# Create a set\n",
    "my_set = {1, 2, 3, 4, 5}\n",
    "\n",
    "# Remove a random element using the pop() method\n",
    "removed_element = my_set.pop()\n",
    "\n",
    "# Print the set after removal and the removed element\n",
    "print(\"Set after removal:\", my_set)\n",
    "print(\"Removed element:\", removed_element)\n"
   ]
  },
  {
   "cell_type": "markdown",
   "id": "7599dfba",
   "metadata": {},
   "source": [
    "17. Pop an element from a set."
   ]
  },
  {
   "cell_type": "code",
   "execution_count": 163,
   "id": "391f252d",
   "metadata": {},
   "outputs": [
    {
     "name": "stdout",
     "output_type": "stream",
     "text": [
      "Set after popping: {2, 3, 4, 5}\n",
      "Popped element: 1\n"
     ]
    }
   ],
   "source": [
    "# Create a set\n",
    "my_set = {1, 2, 3, 4, 5}\n",
    "\n",
    "# Pop an element using the pop() method\n",
    "popped_element = my_set.pop()\n",
    "\n",
    "# Print the set after popping and the popped element\n",
    "print(\"Set after popping:\", my_set)\n",
    "print(\"Popped element:\", popped_element)\n"
   ]
  },
  {
   "cell_type": "markdown",
   "id": "43c82d1a",
   "metadata": {},
   "source": [
    "18. Check if two sets have no elements in common."
   ]
  },
  {
   "cell_type": "code",
   "execution_count": 164,
   "id": "6fce6138",
   "metadata": {},
   "outputs": [
    {
     "name": "stdout",
     "output_type": "stream",
     "text": [
      "Do sets have no elements in common: True\n"
     ]
    }
   ],
   "source": [
    "# Create two sets\n",
    "set1 = {1, 2, 3}\n",
    "set2 = {4, 5, 6}\n",
    "\n",
    "# Check if the sets have no elements in common using isdisjoint()\n",
    "no_common_elements = set1.isdisjoint(set2)\n",
    "\n",
    "# Print the result\n",
    "print(\"Do sets have no elements in common:\", no_common_elements)\n"
   ]
  },
  {
   "cell_type": "markdown",
   "id": "8202b34a",
   "metadata": {},
   "source": [
    "19. Find the symmetric difference between two sets."
   ]
  },
  {
   "cell_type": "code",
   "execution_count": 165,
   "id": "d9b1fbc0",
   "metadata": {},
   "outputs": [
    {
     "name": "stdout",
     "output_type": "stream",
     "text": [
      "Symmetric difference using symmetric_difference() method: {1, 2, 3, 6, 7, 8}\n",
      "Symmetric difference using ^ operator: {1, 2, 3, 6, 7, 8}\n"
     ]
    }
   ],
   "source": [
    "# Create two sets\n",
    "set1 = {1, 2, 3, 4, 5}\n",
    "set2 = {4, 5, 6, 7, 8}\n",
    "\n",
    "# Find the symmetric difference using symmetric_difference() method\n",
    "symmetric_difference_result_method = set1.symmetric_difference(set2)\n",
    "\n",
    "# Find the symmetric difference using ^ operator\n",
    "symmetric_difference_result_operator = set1 ^ set2\n",
    "\n",
    "# Print the results\n",
    "print(\"Symmetric difference using symmetric_difference() method:\", symmetric_difference_result_method)\n",
    "print(\"Symmetric difference using ^ operator:\", symmetric_difference_result_operator)\n"
   ]
  },
  {
   "cell_type": "markdown",
   "id": "92847691",
   "metadata": {},
   "source": [
    "20. Update a set with elements from another set."
   ]
  },
  {
   "cell_type": "code",
   "execution_count": 166,
   "id": "5806f918",
   "metadata": {},
   "outputs": [
    {
     "name": "stdout",
     "output_type": "stream",
     "text": [
      "Updated set1: {1, 2, 3, 4, 5}\n"
     ]
    }
   ],
   "source": [
    "# Create two sets\n",
    "set1 = {1, 2, 3}\n",
    "set2 = {3, 4, 5}\n",
    "\n",
    "# Update set1 with elements from set2 using update() method\n",
    "set1.update(set2)\n",
    "\n",
    "# Alternatively, you can use the |= operator\n",
    "# set1 |= set2\n",
    "\n",
    "# Print the updated set1\n",
    "print(\"Updated set1:\", set1)\n"
   ]
  },
  {
   "cell_type": "markdown",
   "id": "e9185a40",
   "metadata": {},
   "source": [
    "21. Create a set of the first 5 prime numbers."
   ]
  },
  {
   "cell_type": "code",
   "execution_count": 167,
   "id": "5817f9fc",
   "metadata": {},
   "outputs": [
    {
     "name": "stdout",
     "output_type": "stream",
     "text": [
      "Set of the first 5 prime numbers: {2, 3, 5, 7, 11, 13, 17, 19}\n"
     ]
    }
   ],
   "source": [
    "# Function to check if a number is prime\n",
    "def is_prime(num):\n",
    "    if num < 2:\n",
    "        return False\n",
    "    for i in range(2, int(num**0.5) + 1):\n",
    "        if num % i == 0:\n",
    "            return False\n",
    "    return True\n",
    "\n",
    "# Create a set of the first 5 prime numbers\n",
    "prime_set = {num for num in range(2, 20) if is_prime(num)}\n",
    "\n",
    "# Print the result\n",
    "print(\"Set of the first 5 prime numbers:\", prime_set)\n"
   ]
  },
  {
   "cell_type": "markdown",
   "id": "6652789b",
   "metadata": {},
   "source": [
    "22. Check if two sets are identical."
   ]
  },
  {
   "cell_type": "code",
   "execution_count": 168,
   "id": "757372d7",
   "metadata": {},
   "outputs": [
    {
     "name": "stdout",
     "output_type": "stream",
     "text": [
      "Are the sets identical: True\n"
     ]
    }
   ],
   "source": [
    "# Create two sets\n",
    "set1 = {1, 2, 3, 4, 5}\n",
    "set2 = {5, 4, 3, 2, 1}\n",
    "\n",
    "# Check if the sets are identical using the equality operator\n",
    "are_identical = set1 == set2\n",
    "\n",
    "# Print the result\n",
    "print(\"Are the sets identical:\", are_identical)\n"
   ]
  },
  {
   "cell_type": "markdown",
   "id": "ecccc4d4",
   "metadata": {},
   "source": [
    "23. Create a frozen set."
   ]
  },
  {
   "cell_type": "code",
   "execution_count": 169,
   "id": "e056a9e6",
   "metadata": {},
   "outputs": [
    {
     "name": "stdout",
     "output_type": "stream",
     "text": [
      "Frozen set: frozenset({1, 2, 3, 4, 5})\n"
     ]
    }
   ],
   "source": [
    "# Create a set\n",
    "my_set = {1, 2, 3, 4, 5}\n",
    "\n",
    "# Create a frozen set from the set using the frozenset() constructor\n",
    "my_frozen_set = frozenset(my_set)\n",
    "\n",
    "# Print the frozen set\n",
    "print(\"Frozen set:\", my_frozen_set)\n"
   ]
  },
  {
   "cell_type": "markdown",
   "id": "82e84a11",
   "metadata": {},
   "source": [
    "24. Check if a set is disjoint with another set."
   ]
  },
  {
   "cell_type": "code",
   "execution_count": 170,
   "id": "ac6849ad",
   "metadata": {},
   "outputs": [
    {
     "name": "stdout",
     "output_type": "stream",
     "text": [
      "Are the sets disjoint: True\n"
     ]
    }
   ],
   "source": [
    "# Create two sets\n",
    "set1 = {1, 2, 3}\n",
    "set2 = {4, 5, 6}\n",
    "\n",
    "# Check if the sets are disjoint using isdisjoint()\n",
    "are_disjoint = set1.isdisjoint(set2)\n",
    "\n",
    "# Print the result\n",
    "print(\"Are the sets disjoint:\", are_disjoint)\n"
   ]
  },
  {
   "cell_type": "markdown",
   "id": "274523e4",
   "metadata": {},
   "source": [
    "25. Create a set of squares of numbers from 1 to 5."
   ]
  },
  {
   "cell_type": "code",
   "execution_count": 171,
   "id": "f646a135",
   "metadata": {},
   "outputs": [
    {
     "name": "stdout",
     "output_type": "stream",
     "text": [
      "Set of squares: {1, 4, 9, 16, 25}\n"
     ]
    }
   ],
   "source": [
    "# Create a set of squares using a set comprehension\n",
    "squares_set = {num**2 for num in range(1, 6)}\n",
    "\n",
    "# Print the result\n",
    "print(\"Set of squares:\", squares_set)\n"
   ]
  },
  {
   "cell_type": "markdown",
   "id": "282112f9",
   "metadata": {},
   "source": [
    "26. Filter out all even numbers from a set."
   ]
  },
  {
   "cell_type": "code",
   "execution_count": 172,
   "id": "6cf5c5a0",
   "metadata": {},
   "outputs": [
    {
     "name": "stdout",
     "output_type": "stream",
     "text": [
      "Filtered set (excluding even numbers): {1, 3, 5, 7, 9}\n"
     ]
    }
   ],
   "source": [
    "# Create a set with some numbers\n",
    "original_set = {1, 2, 3, 4, 5, 6, 7, 8, 9, 10}\n",
    "\n",
    "# Filter out even numbers using a set comprehension\n",
    "filtered_set = {num for num in original_set if num % 2 != 0}\n",
    "\n",
    "# Print the result\n",
    "print(\"Filtered set (excluding even numbers):\", filtered_set)\n"
   ]
  },
  {
   "cell_type": "markdown",
   "id": "3cf6e954",
   "metadata": {},
   "source": [
    "27. Multiply all elements in a set by 2."
   ]
  },
  {
   "cell_type": "code",
   "execution_count": 173,
   "id": "e38cc806",
   "metadata": {},
   "outputs": [
    {
     "name": "stdout",
     "output_type": "stream",
     "text": [
      "Filtered set (excluding even numbers): {1, 3, 5, 7, 9}\n"
     ]
    }
   ],
   "source": [
    "# Create a set with some numbers\n",
    "original_set = {1, 2, 3, 4, 5, 6, 7, 8, 9, 10}\n",
    "\n",
    "# Filter out even numbers using a set comprehension\n",
    "filtered_set = {num for num in original_set if num % 2 != 0}\n",
    "\n",
    "# Print the result\n",
    "print(\"Filtered set (excluding even numbers):\", filtered_set)\n"
   ]
  },
  {
   "cell_type": "markdown",
   "id": "f8043e33",
   "metadata": {},
   "source": [
    "28. Create a set of random numbers."
   ]
  },
  {
   "cell_type": "code",
   "execution_count": 174,
   "id": "23ae085d",
   "metadata": {},
   "outputs": [
    {
     "name": "stdout",
     "output_type": "stream",
     "text": [
      "Set of random numbers: {2, 4, 5, 7, 9}\n"
     ]
    }
   ],
   "source": [
    "import random\n",
    "\n",
    "# Generate a set of 5 random numbers between 1 and 10\n",
    "random_set = set(random.sample(range(1, 11), 5))\n",
    "\n",
    "# Print the result\n",
    "print(\"Set of random numbers:\", random_set)\n"
   ]
  },
  {
   "cell_type": "markdown",
   "id": "a559c08a",
   "metadata": {},
   "source": [
    "29. Check if a set is empty."
   ]
  },
  {
   "cell_type": "code",
   "execution_count": 175,
   "id": "2074d115",
   "metadata": {},
   "outputs": [
    {
     "name": "stdout",
     "output_type": "stream",
     "text": [
      "Is the set empty using len(): True\n"
     ]
    }
   ],
   "source": [
    "# Create an empty set\n",
    "empty_set = set()\n",
    "\n",
    "# Check if the set is empty using len()\n",
    "is_empty_len = len(empty_set) == 0\n",
    "\n",
    "# Print the result\n",
    "print(\"Is the set empty using len():\", is_empty_len)\n"
   ]
  },
  {
   "cell_type": "markdown",
   "id": "f58b89f8",
   "metadata": {},
   "source": [
    "30. Create a nested set (hint: use frozenset)."
   ]
  },
  {
   "cell_type": "code",
   "execution_count": 176,
   "id": "6a9d256c",
   "metadata": {},
   "outputs": [
    {
     "name": "stdout",
     "output_type": "stream",
     "text": [
      "Nested set: {frozenset({1, 2, 3}), frozenset({'c', 'a', 'b'})}\n"
     ]
    }
   ],
   "source": [
    "# Create frozenset objects\n",
    "set1 = frozenset({1, 2, 3})\n",
    "set2 = frozenset({'a', 'b', 'c'})\n",
    "\n",
    "# Create a nested set by including frozenset objects\n",
    "nested_set = {set1, set2}\n",
    "\n",
    "# Print the result\n",
    "print(\"Nested set:\", nested_set)\n"
   ]
  },
  {
   "cell_type": "markdown",
   "id": "1bdb618b",
   "metadata": {},
   "source": [
    "31. Remove an element from a set using the discard method."
   ]
  },
  {
   "cell_type": "code",
   "execution_count": 177,
   "id": "1a52d0b2",
   "metadata": {},
   "outputs": [
    {
     "name": "stdout",
     "output_type": "stream",
     "text": [
      "Set after removing element: {1, 2, 4, 5}\n"
     ]
    }
   ],
   "source": [
    "# Create a set\n",
    "my_set = {1, 2, 3, 4, 5}\n",
    "\n",
    "# Remove an element using the discard method\n",
    "my_set.discard(3)\n",
    "\n",
    "# Print the set after removal\n",
    "print(\"Set after removing element:\", my_set)\n"
   ]
  },
  {
   "cell_type": "markdown",
   "id": "4e2bf74c",
   "metadata": {},
   "source": [
    "32. Compare two sets."
   ]
  },
  {
   "cell_type": "code",
   "execution_count": 179,
   "id": "a41aded0",
   "metadata": {},
   "outputs": [
    {
     "name": "stdout",
     "output_type": "stream",
     "text": [
      "Are the sets equal: True\n"
     ]
    }
   ],
   "source": [
    "#1. Equality Check (==):\n",
    "set1 = {1, 2, 3, 4, 5}\n",
    "set2 = {5, 4, 3, 2, 1}\n",
    "\n",
    "are_equal = set1 == set2\n",
    "\n",
    "print(\"Are the sets equal:\", are_equal)\n"
   ]
  },
  {
   "cell_type": "code",
   "execution_count": 181,
   "id": "c0596298",
   "metadata": {},
   "outputs": [
    {
     "name": "stdout",
     "output_type": "stream",
     "text": [
      "Is set2 a subset of set1: True\n"
     ]
    }
   ],
   "source": [
    "#2. Subset Check (<= or issubset()):\n",
    "set1 = {1, 2, 3, 4, 5}\n",
    "set2 = {1, 2, 3}\n",
    "\n",
    "is_subset = set2 <= set1  # Alternatively, set2.issubset(set1)\n",
    "\n",
    "print(\"Is set2 a subset of set1:\", is_subset)\n"
   ]
  },
  {
   "cell_type": "code",
   "execution_count": 182,
   "id": "f8eb47ec",
   "metadata": {},
   "outputs": [
    {
     "name": "stdout",
     "output_type": "stream",
     "text": [
      "Is set1 a superset of set2: True\n"
     ]
    }
   ],
   "source": [
    "# 3. Superset Check (>= or issuperset()):\n",
    "set1 = {1, 2, 3, 4, 5}\n",
    "set2 = {1, 2, 3}\n",
    "\n",
    "is_superset = set1 >= set2  # Alternatively, set1.issuperset(set2)\n",
    "\n",
    "print(\"Is set1 a superset of set2:\", is_superset)\n"
   ]
  },
  {
   "cell_type": "code",
   "execution_count": 183,
   "id": "7a1984f6",
   "metadata": {},
   "outputs": [
    {
     "name": "stdout",
     "output_type": "stream",
     "text": [
      "Are the sets disjoint: True\n"
     ]
    }
   ],
   "source": [
    "# 4. Disjoint Check (isdisjoint()):\n",
    "set1 = {1, 2, 3}\n",
    "set2 = {4, 5, 6}\n",
    "\n",
    "are_disjoint = set1.isdisjoint(set2)\n",
    "\n",
    "print(\"Are the sets disjoint:\", are_disjoint)\n"
   ]
  },
  {
   "cell_type": "markdown",
   "id": "b3316af3",
   "metadata": {},
   "source": [
    "33. Create a set from a string."
   ]
  },
  {
   "cell_type": "code",
   "execution_count": 184,
   "id": "da6e0eeb",
   "metadata": {},
   "outputs": [
    {
     "name": "stdout",
     "output_type": "stream",
     "text": [
      "Set from string: {'o', 'h', 'l', 'e'}\n"
     ]
    }
   ],
   "source": [
    "# Create a set from a string\n",
    "my_string = \"hello\"\n",
    "my_set = set(my_string)\n",
    "\n",
    "# Print the set\n",
    "print(\"Set from string:\", my_set)\n"
   ]
  },
  {
   "cell_type": "markdown",
   "id": "55a04bbb",
   "metadata": {},
   "source": [
    "34. Convert a set of strings to a set of integers."
   ]
  },
  {
   "cell_type": "code",
   "execution_count": 185,
   "id": "0c0d0e24",
   "metadata": {},
   "outputs": [
    {
     "name": "stdout",
     "output_type": "stream",
     "text": [
      "Set of integers: {1, 2, 3, 4, 5}\n"
     ]
    }
   ],
   "source": [
    "# Create a set of strings\n",
    "string_set = {\"1\", \"2\", \"3\", \"4\", \"5\"}\n",
    "\n",
    "# Convert the set of strings to a set of integers\n",
    "integer_set = {int(value) for value in string_set}\n",
    "\n",
    "# Print the result\n",
    "print(\"Set of integers:\", integer_set)\n"
   ]
  },
  {
   "cell_type": "markdown",
   "id": "e9d63f76",
   "metadata": {},
   "source": [
    "35. Convert a set of integers to a set of strings."
   ]
  },
  {
   "cell_type": "code",
   "execution_count": 186,
   "id": "6b70171f",
   "metadata": {},
   "outputs": [
    {
     "name": "stdout",
     "output_type": "stream",
     "text": [
      "Set of strings: {'4', '3', '1', '5', '2'}\n"
     ]
    }
   ],
   "source": [
    "# Create a set of integers\n",
    "integer_set = {1, 2, 3, 4, 5}\n",
    "\n",
    "# Convert the set of integers to a set of strings\n",
    "string_set = {str(value) for value in integer_set}\n",
    "\n",
    "# Print the result\n",
    "print(\"Set of strings:\", string_set)\n"
   ]
  },
  {
   "cell_type": "markdown",
   "id": "56b619be",
   "metadata": {},
   "source": [
    "36. Create a set from a tuple."
   ]
  },
  {
   "cell_type": "code",
   "execution_count": 187,
   "id": "d41e7eca",
   "metadata": {},
   "outputs": [
    {
     "name": "stdout",
     "output_type": "stream",
     "text": [
      "Set from tuple: {1, 2, 3, 4, 5}\n"
     ]
    }
   ],
   "source": [
    "# Create a tuple\n",
    "my_tuple = (1, 2, 3, 4, 5)\n",
    "\n",
    "# Convert the tuple to a set\n",
    "my_set = set(my_tuple)\n",
    "\n",
    "# Print the result\n",
    "print(\"Set from tuple:\", my_set)\n"
   ]
  },
  {
   "cell_type": "markdown",
   "id": "0d641259",
   "metadata": {},
   "source": [
    "37. Convert a set to a tuple."
   ]
  },
  {
   "cell_type": "code",
   "execution_count": 188,
   "id": "e09cf3cf",
   "metadata": {},
   "outputs": [
    {
     "name": "stdout",
     "output_type": "stream",
     "text": [
      "Set from tuple: {1, 2, 3, 4, 5}\n"
     ]
    }
   ],
   "source": [
    "# Create a tuple\n",
    "my_tuple = (1, 2, 3, 4, 5)\n",
    "\n",
    "# Convert the tuple to a set\n",
    "my_set = set(my_tuple)\n",
    "\n",
    "# Print the result\n",
    "print(\"Set from tuple:\", my_set)\n"
   ]
  },
  {
   "cell_type": "markdown",
   "id": "0783e7b0",
   "metadata": {},
   "source": [
    "38. Find the maximum value in a set."
   ]
  },
  {
   "cell_type": "code",
   "execution_count": 189,
   "id": "3985e7ec",
   "metadata": {},
   "outputs": [
    {
     "name": "stdout",
     "output_type": "stream",
     "text": [
      "Maximum value in the set: 15\n"
     ]
    }
   ],
   "source": [
    "# Create a set\n",
    "my_set = {10, 5, 8, 15, 3}\n",
    "\n",
    "# Find the maximum value in the set\n",
    "max_value = max(my_set)\n",
    "\n",
    "# Print the result\n",
    "print(\"Maximum value in the set:\", max_value)\n"
   ]
  },
  {
   "cell_type": "markdown",
   "id": "1f129fc9",
   "metadata": {},
   "source": [
    "39. Find the minimum value in a set."
   ]
  },
  {
   "cell_type": "code",
   "execution_count": 190,
   "id": "5727aa80",
   "metadata": {},
   "outputs": [
    {
     "name": "stdout",
     "output_type": "stream",
     "text": [
      "Minimum value in the set: 3\n"
     ]
    }
   ],
   "source": [
    "# Create a set\n",
    "my_set = {10, 5, 8, 15, 3}\n",
    "\n",
    "# Find the minimum value in the set\n",
    "min_value = min(my_set)\n",
    "\n",
    "# Print the result\n",
    "print(\"Minimum value in the set:\", min_value)\n"
   ]
  },
  {
   "cell_type": "markdown",
   "id": "ef513463",
   "metadata": {},
   "source": [
    "40. Create a set from user input."
   ]
  },
  {
   "cell_type": "code",
   "execution_count": 192,
   "id": "61d4ddf7",
   "metadata": {},
   "outputs": [
    {
     "name": "stdout",
     "output_type": "stream",
     "text": [
      "Enter values separated by spaces: 1 2 3 4\n",
      "Set from user input: {1, 2, 3, 4}\n"
     ]
    }
   ],
   "source": [
    "# Get user input as a string\n",
    "user_input_str = input(\"Enter values separated by spaces: \")\n",
    "\n",
    "# Split the input string into a list of values\n",
    "input_values = user_input_str.split()\n",
    "\n",
    "# Convert the list of strings to a set of integers\n",
    "user_set = set(map(int, input_values))\n",
    "\n",
    "# Print the resulting set\n",
    "print(\"Set from user input:\", user_set)\n"
   ]
  },
  {
   "cell_type": "markdown",
   "id": "ad1d7c38",
   "metadata": {},
   "source": [
    "41. Check if the intersection of two sets is empty."
   ]
  },
  {
   "cell_type": "code",
   "execution_count": 193,
   "id": "f299efae",
   "metadata": {},
   "outputs": [
    {
     "name": "stdout",
     "output_type": "stream",
     "text": [
      "Is the intersection empty: True\n"
     ]
    }
   ],
   "source": [
    "# 1. Using isdisjoint() method:\n",
    "# Create two sets\n",
    "set1 = {1, 2, 3}\n",
    "set2 = {4, 5, 6}\n",
    "\n",
    "# Check if the intersection is empty using isdisjoint()\n",
    "is_intersection_empty = set1.isdisjoint(set2)\n",
    "\n",
    "print(\"Is the intersection empty:\", is_intersection_empty)\n"
   ]
  },
  {
   "cell_type": "code",
   "execution_count": 194,
   "id": "4486cc2d",
   "metadata": {},
   "outputs": [
    {
     "name": "stdout",
     "output_type": "stream",
     "text": [
      "Is the intersection empty: True\n"
     ]
    }
   ],
   "source": [
    "# 2. Using intersection() method:\n",
    "# Create two sets\n",
    "set1 = {1, 2, 3}\n",
    "set2 = {4, 5, 6}\n",
    "\n",
    "# Check if the intersection is empty using intersection() and an empty set\n",
    "intersection_result = set1.intersection(set2)\n",
    "\n",
    "is_intersection_empty = not intersection_result\n",
    "\n",
    "print(\"Is the intersection empty:\", is_intersection_empty)\n"
   ]
  },
  {
   "cell_type": "markdown",
   "id": "f2c1f75d",
   "metadata": {},
   "source": [
    "42. Create a set of the first 5 Fibonacci numbers."
   ]
  },
  {
   "cell_type": "code",
   "execution_count": 195,
   "id": "41003bf1",
   "metadata": {},
   "outputs": [
    {
     "name": "stdout",
     "output_type": "stream",
     "text": [
      "Set of the first 5 Fibonacci numbers: {0, 1, 2, 3}\n"
     ]
    }
   ],
   "source": [
    "# Function to generate the first n Fibonacci numbers\n",
    "def generate_fibonacci(n):\n",
    "    fibonacci_set = set()\n",
    "    a, b = 0, 1\n",
    "\n",
    "    for _ in range(n):\n",
    "        fibonacci_set.add(a)\n",
    "        a, b = b, a + b\n",
    "\n",
    "    return fibonacci_set\n",
    "\n",
    "# Create a set of the first 5 Fibonacci numbers\n",
    "fibonacci_set = generate_fibonacci(5)\n",
    "\n",
    "# Print the result\n",
    "print(\"Set of the first 5 Fibonacci numbers:\", fibonacci_set)\n"
   ]
  },
  {
   "cell_type": "markdown",
   "id": "570c9053",
   "metadata": {},
   "source": [
    "43. Remove duplicates from a list using sets."
   ]
  },
  {
   "cell_type": "code",
   "execution_count": 196,
   "id": "d9821f9a",
   "metadata": {},
   "outputs": [
    {
     "name": "stdout",
     "output_type": "stream",
     "text": [
      "Original List: [1, 2, 2, 3, 4, 4, 5]\n",
      "List with Duplicates Removed: [1, 2, 3, 4, 5]\n"
     ]
    }
   ],
   "source": [
    "# Create a list with duplicates\n",
    "original_list = [1, 2, 2, 3, 4, 4, 5]\n",
    "\n",
    "# Remove duplicates using a set\n",
    "unique_list = list(set(original_list))\n",
    "\n",
    "# Print the result\n",
    "print(\"Original List:\", original_list)\n",
    "print(\"List with Duplicates Removed:\", unique_list)\n"
   ]
  },
  {
   "cell_type": "markdown",
   "id": "c92a1b3c",
   "metadata": {},
   "source": [
    "44. Check if two sets have the same elements, regardless of their count."
   ]
  },
  {
   "cell_type": "code",
   "execution_count": 197,
   "id": "1303ce7b",
   "metadata": {},
   "outputs": [
    {
     "name": "stdout",
     "output_type": "stream",
     "text": [
      "Do the sets have the same elements? True\n"
     ]
    }
   ],
   "source": [
    "# Create two sets\n",
    "set1 = {1, 2, 3, 4}\n",
    "set2 = {4, 3, 2, 1}\n",
    "\n",
    "# Check if the sets have the same elements\n",
    "are_equal = set1 == set2\n",
    "\n",
    "# Print the result\n",
    "print(\"Do the sets have the same elements?\", are_equal)\n"
   ]
  },
  {
   "cell_type": "markdown",
   "id": "bd85b419",
   "metadata": {},
   "source": [
    "45. Create a set of the first `n` powers of 2."
   ]
  },
  {
   "cell_type": "code",
   "execution_count": 198,
   "id": "9a4e49e3",
   "metadata": {},
   "outputs": [
    {
     "name": "stdout",
     "output_type": "stream",
     "text": [
      "Set of the first 5 powers of 2: {1, 2, 4, 8, 16}\n"
     ]
    }
   ],
   "source": [
    "# Function to generate the first n powers of 2\n",
    "def generate_powers_of_2(n):\n",
    "    return {2 ** i for i in range(n)}\n",
    "\n",
    "# Create a set of the first 5 powers of 2\n",
    "powers_of_2_set = generate_powers_of_2(5)\n",
    "\n",
    "# Print the result\n",
    "print(\"Set of the first 5 powers of 2:\", powers_of_2_set)\n"
   ]
  },
  {
   "cell_type": "markdown",
   "id": "149f1470",
   "metadata": {},
   "source": [
    "46. Find the common elements between a set and a list."
   ]
  },
  {
   "cell_type": "code",
   "execution_count": 199,
   "id": "cc253351",
   "metadata": {},
   "outputs": [
    {
     "name": "stdout",
     "output_type": "stream",
     "text": [
      "Common elements: {3, 4, 5}\n"
     ]
    }
   ],
   "source": [
    "# Create a set and a list\n",
    "my_set = {1, 2, 3, 4, 5}\n",
    "my_list = [3, 4, 5, 6, 7]\n",
    "\n",
    "# Find the common elements using intersection()\n",
    "common_elements = my_set.intersection(my_list)\n",
    "\n",
    "# Print the result\n",
    "print(\"Common elements:\", common_elements)\n"
   ]
  },
  {
   "cell_type": "markdown",
   "id": "b30ed95f",
   "metadata": {},
   "source": [
    "47. Create a set of the first `n` triangular numbers."
   ]
  },
  {
   "cell_type": "code",
   "execution_count": 200,
   "id": "bb189db0",
   "metadata": {},
   "outputs": [
    {
     "name": "stdout",
     "output_type": "stream",
     "text": [
      "Set of the first 5 triangular numbers: {1, 3, 6, 10, 15}\n"
     ]
    }
   ],
   "source": [
    "# Function to generate the first n triangular numbers\n",
    "def generate_triangular_numbers(n):\n",
    "    return {i * (i + 1) // 2 for i in range(1, n + 1)}\n",
    "\n",
    "# Create a set of the first 5 triangular numbers\n",
    "triangular_numbers_set = generate_triangular_numbers(5)\n",
    "\n",
    "# Print the result\n",
    "print(\"Set of the first 5 triangular numbers:\", triangular_numbers_set)\n"
   ]
  },
  {
   "cell_type": "markdown",
   "id": "509e9e78",
   "metadata": {},
   "source": [
    "48. Check if a set contains another set as a subset."
   ]
  },
  {
   "cell_type": "code",
   "execution_count": 201,
   "id": "29d1dd52",
   "metadata": {},
   "outputs": [
    {
     "name": "stdout",
     "output_type": "stream",
     "text": [
      "Is set2 a subset of set1? True\n"
     ]
    }
   ],
   "source": [
    "# Create two sets\n",
    "set1 = {1, 2, 3, 4, 5}\n",
    "set2 = {2, 3}\n",
    "\n",
    "# Check if set2 is a subset of set1\n",
    "is_subset = set2.issubset(set1)\n",
    "\n",
    "# Print the result\n",
    "print(\"Is set2 a subset of set1?\", is_subset)\n"
   ]
  },
  {
   "cell_type": "markdown",
   "id": "23843df0",
   "metadata": {},
   "source": [
    "49. Create a set of alternating 1s and 0s of length `n`."
   ]
  },
  {
   "cell_type": "code",
   "execution_count": 206,
   "id": "77f29348",
   "metadata": {},
   "outputs": [
    {
     "name": "stdout",
     "output_type": "stream",
     "text": [
      "Set of alternating 1s and 0s: {0, 1}\n"
     ]
    }
   ],
   "source": [
    "# Function to generate alternating 1s and 0s\n",
    "def generate_alternating_set(n):\n",
    "    return {int(i % 2 == 0) for i in range(n)}\n",
    "\n",
    "# Create a set of alternating 1s and 0s of length 10\n",
    "alternating_set = generate_alternating_set(10)\n",
    "\n",
    "# Print the result\n",
    "print(\"Set of alternating 1s and 0s:\", alternating_set)\n"
   ]
  },
  {
   "cell_type": "markdown",
   "id": "73ff5d06",
   "metadata": {},
   "source": [
    "50. Merge multiple sets into one."
   ]
  },
  {
   "cell_type": "code",
   "execution_count": 207,
   "id": "b55eb699",
   "metadata": {},
   "outputs": [
    {
     "name": "stdout",
     "output_type": "stream",
     "text": [
      "Merged set: {1, 2, 3, 4, 5, 6, 7}\n"
     ]
    }
   ],
   "source": [
    "# Create three sets\n",
    "set1 = {1, 2, 3}\n",
    "set2 = {3, 4, 5}\n",
    "set3 = {5, 6, 7}\n",
    "\n",
    "# Merge sets using union()\n",
    "merged_set = set1.union(set2, set3)\n",
    "\n",
    "# Alternatively, you can use the | operator\n",
    "# merged_set = set1 | set2 | set3\n",
    "\n",
    "# Print the result\n",
    "print(\"Merged set:\", merged_set)\n"
   ]
  }
 ],
 "metadata": {
  "kernelspec": {
   "display_name": "Python 3 (ipykernel)",
   "language": "python",
   "name": "python3"
  },
  "language_info": {
   "codemirror_mode": {
    "name": "ipython",
    "version": 3
   },
   "file_extension": ".py",
   "mimetype": "text/x-python",
   "name": "python",
   "nbconvert_exporter": "python",
   "pygments_lexer": "ipython3",
   "version": "3.10.9"
  }
 },
 "nbformat": 4,
 "nbformat_minor": 5
}
