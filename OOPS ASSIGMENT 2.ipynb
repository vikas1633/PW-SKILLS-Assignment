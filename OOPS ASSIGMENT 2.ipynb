{
 "cells": [
  {
   "cell_type": "markdown",
   "id": "e954f457",
   "metadata": {},
   "source": [
    "# Constructor:"
   ]
  },
  {
   "cell_type": "markdown",
   "id": "dc4bfd66",
   "metadata": {},
   "source": [
    "1. What is a constructor in Python? Explain its purpose and usage."
   ]
  },
  {
   "cell_type": "raw",
   "id": "76c15ea3",
   "metadata": {},
   "source": [
    "A constructor is a special method that is automatically called when an object of a class is created. The constructor method is typically named __init__ and is used to initialize the attributes (properties) of an object. The primary purpose of a constructor is to set up the initial state of an object by assigning values to its attributes.\n",
    "\n",
    "Purpose of a Constructor:\n",
    "\n",
    "1. Initialization: Constructors are used to initialize the state or attributes of an object. They allow you to set default values or configure the initial state of an object when it is created.\n",
    "\n",
    "2. Data Validation: Constructors can include validation checks to ensure that the provided values are valid and meet specific criteria. This helps in maintaining the integrity of the object's data.\n",
    "\n",
    "3. Resource Allocation: Constructors can also be used to allocate resources, such as opening files or establishing connections, that the object may need during its lifetime.\n",
    "\n",
    "Usage of a Constructor:\n",
    "\n",
    "In Python, a constructor is defined using the def keyword, and its name is always __init__. It takes at least one argument, self, which refers to the instance of the object being created.\n",
    "\n",
    "Additional arguments can be specified to accept values that will be used to initialize the object's attributes. These arguments can vary depending on the specific requirements of the class.\n",
    "\n",
    "Inside the constructor, you can use the self reference to set the attributes of the object by assigning values to them. This is typically done using the dot notation, such as self.attribute_name = value.\n",
    "\n",
    "When an object is created from a class, the constructor is automatically called. For example:\n",
    "\n",
    "#code\n",
    "class MyClass:\n",
    "    def __init__(self, arg1, arg2):\n",
    "        self.attribute1 = arg1\n",
    "        self.attribute2 = arg2\n",
    "\n",
    "# Creating an object and invoking the constructor\n",
    "my_object = MyClass(value1, value2)\n",
    "In the example above, the __init__ constructor sets the values of attribute1 and attribute2 when my_object is created. These attributes are specific to the my_object instance and can be accessed and modified using the my_object reference.\n"
   ]
  },
  {
   "cell_type": "markdown",
   "id": "5a1f3bd2",
   "metadata": {},
   "source": [
    "2. Differentiate between a parameterless constructor and a parameterized constructor in Python."
   ]
  },
  {
   "cell_type": "raw",
   "id": "aff53b6c",
   "metadata": {},
   "source": [
    "Here's a differentiation between the two:\n",
    "\n",
    "Parameterless Constructor:\n",
    "\n",
    "Definition: A parameterless constructor, also known as a default constructor, is a constructor that doesn't accept any parameters other than the default self parameter. It is defined with the __init__ method, but it doesn't have any additional arguments.\n",
    "\n",
    "Purpose: The primary purpose of a parameterless constructor is to provide default values or set up an object with predefined attributes when it is created.\n",
    "\n",
    "Usage: It is used when you want to create objects with the same initial state for all instances of the class, without requiring any external input. This constructor is commonly used for setting default attribute values.\n",
    "\n",
    "Example:\n",
    "\n",
    "\n",
    "Copy code\n",
    "class MyClass:\n",
    "    def __init__(self):\n",
    "        self.attribute1 = 0\n",
    "        self.attribute2 = \"default_value\"\n",
    "\n",
    "my_object = MyClass()\n",
    "Parameterized Constructor:\n",
    "\n",
    "Definition: A parameterized constructor is a constructor that accepts one or more additional parameters, in addition to the default self parameter. These parameters are used to initialize the attributes of the object.\n",
    "\n",
    "Purpose: The purpose of a parameterized constructor is to allow customization of object initialization by passing specific values as arguments during object creation. It enables you to set the initial state of the object based on external input.\n",
    "\n",
    "Usage: Parameterized constructors are used when you want to create objects with different initial states, allowing you to pass specific values for the object's attributes.\n",
    "\n",
    "Example:\n",
    "\n",
    "\n",
    "Copy code\n",
    "class MyClass:\n",
    "    def __init__(self, value1, value2):\n",
    "        self.attribute1 = value1\n",
    "        self.attribute2 = value2\n",
    "\n",
    "my_object = MyClass(42, \"custom_value\")\n",
    "In summary, a parameterless constructor is used for generic or default initialization of objects without requiring external input, while a parameterized constructor allows you to customize the initialization of objects by providing specific values as arguments during object creation. The choice between the two depends on the specific needs of your class and how you want to initialize objects of that class."
   ]
  },
  {
   "cell_type": "markdown",
   "id": "6caaa9bb",
   "metadata": {},
   "source": [
    "3. How do you define a constructor in a Python class? Provide an example."
   ]
  },
  {
   "cell_type": "raw",
   "id": "53a141b8",
   "metadata": {},
   "source": [
    "A constructor is defined in a class using a special method named __init__. The __init__ method is automatically called when an object of the class is created. It is responsible for initializing the object's attributes. \n",
    "\n",
    "class Person:\n",
    "    def __init__(self, name, age):\n",
    "        self.name = name\n",
    "        self.age = age\n",
    "\n",
    "# Create two Person objects\n",
    "person1 = Person(\"Alice\", 30)\n",
    "person2 = Person(\"Bob\", 25)\n",
    "\n",
    "# Access object attributes\n",
    "print(person1.name, person1.age)  \n",
    "print(person2.name, person2.age) \n"
   ]
  },
  {
   "cell_type": "markdown",
   "id": "1f5ac956",
   "metadata": {},
   "source": [
    "4. Explain the `__init__` method in Python and its role in constructors."
   ]
  },
  {
   "cell_type": "raw",
   "id": "ea727e34",
   "metadata": {},
   "source": [
    "In Python, the __init__ method is a special method also known as the constructor. It plays a crucial role in initializing objects of a class. \n",
    "\n",
    "method and its role in constructors:\n",
    "    \n",
    "Initialization Method:\n",
    "\n",
    "The __init__ method is a reserved method in Python that is automatically called when an object of a class is created. It is used to initialize or set up the initial state of the object.\n",
    "Constructor Role:\n",
    "\n",
    "The __init__ method serves as the constructor for a class. It defines how an object should be initialized and what attributes it should have. In other words, it specifies the initial values for object attributes.\n",
    "Initialization Parameters:\n",
    "\n",
    "The __init__ method can accept parameters (in addition to the default self parameter). These parameters are used to pass values during object creation, allowing you to customize the object's initial state.\n",
    "Attributes Assignment:\n",
    "\n",
    "Inside the __init__ method, you can assign values to the object's attributes using the self reference. This is how you define the object's properties.\n",
    "Automatic Invocation:\n",
    "\n",
    "You don't need to explicitly call the __init__ method when creating an object. It is automatically invoked when an object is instantiated from the class.\n",
    "Example:\n",
    "\n",
    "example of a class with an __init__ method:\n",
    "\n",
    "class Person:\n",
    "    def __init__(self, name, age):\n",
    "        self.name = name\n",
    "        self.age = age\n"
   ]
  },
  {
   "cell_type": "markdown",
   "id": "027cdc22",
   "metadata": {},
   "source": [
    "5. In a class named `Person`, create a constructor that initializes the `name` and `age` attributes. Provide an\n",
    "example of creating an object of this class."
   ]
  },
  {
   "cell_type": "code",
   "execution_count": 3,
   "id": "7e99cae2",
   "metadata": {},
   "outputs": [
    {
     "name": "stdout",
     "output_type": "stream",
     "text": [
      "Name: Alice\n",
      "Age: 30\n"
     ]
    },
    {
     "data": {
      "text/plain": [
       "'In this example:\\n\\nThe Person class has a constructor __init__ that accepts two parameters, name and age. Inside the constructor, the attributes self.name and self.age are initialized with the values passed as arguments.\\n\\nWe create a Person object named person1 by calling the Person class and providing values for name and age.\\n\\nWe access and print the attributes of the person1 object, which were initialized during object creation.'"
      ]
     },
     "execution_count": 3,
     "metadata": {},
     "output_type": "execute_result"
    }
   ],
   "source": [
    "class Person:\n",
    "    def __init__(self, name, age):\n",
    "        self.name = name\n",
    "        self.age = age\n",
    "\n",
    "# Create a Person object\n",
    "person1 = Person(\"Alice\", 30)\n",
    "\n",
    "# Access the attributes of the Person object\n",
    "print(\"Name:\", person1.name)  # Output: Name: Alice\n",
    "print(\"Age:\", person1.age)    # Output: Age: 30\n",
    "\n",
    "\"\"\"In this example:\n",
    "\n",
    "The Person class has a constructor __init__ that accepts two parameters, name and age. Inside the constructor, the attributes self.name and self.age are initialized with the values passed as arguments.\n",
    "\n",
    "We create a Person object named person1 by calling the Person class and providing values for name and age.\n",
    "\n",
    "We access and print the attributes of the person1 object, which were initialized during object creation.\"\"\""
   ]
  },
  {
   "cell_type": "markdown",
   "id": "5cb22f93",
   "metadata": {},
   "source": [
    "6. How can you call a constructor explicitly in Python? Give an example."
   ]
  },
  {
   "cell_type": "raw",
   "id": "7d7730f8",
   "metadata": {},
   "source": [
    "In Python, you can call a constructor explicitly by using the class name followed by the __init__ method, passing the required arguments. This can be useful in situations where you want to create an object of a class and initialize it without using the usual object creation syntax. \n",
    "\n",
    "example:\n",
    "  \n",
    "class Person:\n",
    "    def __init__(self, name, age):\n",
    "        self.name = name\n",
    "        self.age = age\n",
    "\n",
    "# Explicitly call the constructor to create a Person object\n",
    "person2 = Person.__init__(Person, \"Bob\", 25)\n",
    "\n",
    "# Access the attributes of the Person object\n",
    "print(\"Name:\", person2.name)  # Output: Name: Bob\n",
    "print(\"Age:\", person2.age)    # Output: Age: 25   "
   ]
  },
  {
   "cell_type": "markdown",
   "id": "9d95cd0e",
   "metadata": {},
   "source": [
    "7. What is the significance of the `self` parameter in Python constructors? Explain with an example."
   ]
  },
  {
   "cell_type": "code",
   "execution_count": 6,
   "id": "59ccc07d",
   "metadata": {},
   "outputs": [
    {
     "name": "stdout",
     "output_type": "stream",
     "text": [
      "My name is Vikas, and I am 30 years old.\n",
      "My name is Kumar, and I am 25 years old.\n"
     ]
    }
   ],
   "source": [
    "\"\"\"The self parameter in Python constructors (and methods) is a reference to the instance of the class that the method is called on. It is a convention in Python to name this parameter as self, but you can technically use any name for it. The self parameter is significant for the following reasons:\n",
    "\n",
    "Access to Instance Attributes: It allows you to access and modify the attributes of the instance (object). When you create an object of a class, each object has its own set of attributes. self is used to differentiate between attributes of different instances.\n",
    "\n",
    "Access to Class Methods: It allows you to access and call other methods of the class using the self.method() syntax.\n",
    "\n",
    "Attribute Initialization: In constructors (__init__ methods), self is used to initialize object-specific attributes. It allows you to set the initial state of an object when it's created.\n",
    "\n",
    "Instance-Specific Behavior: It enables methods to perform operations specific to a particular instance of the class. Methods can behave differently based on the object's state (attributes) accessed via self.\n",
    "\n",
    "Example:\n",
    "    \"\"\"\n",
    "class Person:\n",
    "    def __init__(self, name, age):\n",
    "        self.name = name  # Initialize the 'name' attribute\n",
    "        self.age = age    # Initialize the 'age' attribute\n",
    "\n",
    "    def introduce(self):\n",
    "        return f\"My name is {self.name}, and I am {self.age} years old.\"\n",
    "\n",
    "# Create two Person objects\n",
    "person1 = Person(\"Vikas\", 30)\n",
    "person2 = Person(\"Kumar\", 25)\n",
    "\n",
    "# Access and call methods using 'self'\n",
    "print(person1.introduce())  # Output: My name is Alice, and I am 30 years old.\n",
    "print(person2.introduce())  # Output: My name is Bob, and I am 25 years old.\n",
    "\n"
   ]
  },
  {
   "cell_type": "markdown",
   "id": "d8af046a",
   "metadata": {},
   "source": [
    "8. Discuss the concept of default constructors in Python. When are they used?"
   ]
  },
  {
   "cell_type": "code",
   "execution_count": 7,
   "id": "917323d6",
   "metadata": {},
   "outputs": [
    {
     "name": "stdout",
     "output_type": "stream",
     "text": [
      "Hello, I am a person.\n"
     ]
    }
   ],
   "source": [
    "\"\"\"In Python, a default constructor is a constructor that is provided by the Python interpreter if a class does not explicitly define its own constructor (__init__ method). It is sometimes referred to as the implicit constructor. Default constructors are used when:\n",
    "\n",
    "No Constructor is Defined: If a class does not define its own constructor, the Python interpreter automatically provides a default constructor for the class.\n",
    "\n",
    "Initialization of Attributes: The default constructor initializes attributes to their default values. For example, integer attributes are initialized to 0, string attributes to an empty string, and so on.\n",
    "\n",
    "No Custom Initialization: When you create an object of the class, the default constructor is automatically called, ensuring that the object has a basic initial state.\n",
    " \n",
    "Example:\"\"\" \n",
    "class Person:\n",
    "    def introduce(self):\n",
    "        return \"Hello, I am a person.\"\n",
    "\n",
    "# Create an object of the class\n",
    "person = Person()\n",
    "\n",
    "# Call the introduce method\n",
    "print(person.introduce())  # Output: Hello, I am a person.\n"
   ]
  },
  {
   "cell_type": "markdown",
   "id": "3aed8d3f",
   "metadata": {},
   "source": [
    "9. Create a Python class called `Rectangle` with a constructor that initializes the `width` and `height`\n",
    "attributes. Provide a method to calculate the area of the rectangle."
   ]
  },
  {
   "cell_type": "code",
   "execution_count": 8,
   "id": "0bbe9a64",
   "metadata": {},
   "outputs": [
    {
     "name": "stdout",
     "output_type": "stream",
     "text": [
      "Area of the rectangle: 50\n"
     ]
    }
   ],
   "source": [
    "class Rectangle:\n",
    "    def __init__(self, width, height):\n",
    "        self.width = width\n",
    "        self.height = height\n",
    "\n",
    "    def calculate_area(self):\n",
    "        return self.width * self.height\n",
    "\n",
    "# Create a Rectangle object\n",
    "rectangle = Rectangle(5, 10)\n",
    "\n",
    "# Calculate and print the area of the rectangle\n",
    "area = rectangle.calculate_area()\n",
    "print(\"Area of the rectangle:\", area)  # Output: Area of the rectangle: 50\n"
   ]
  },
  {
   "cell_type": "markdown",
   "id": "b4fa6a61",
   "metadata": {},
   "source": [
    "10. How can you have multiple constructors in a Python class? Explain with an example."
   ]
  },
  {
   "cell_type": "code",
   "execution_count": 9,
   "id": "c0f79fe6",
   "metadata": {},
   "outputs": [
    {
     "name": "stdout",
     "output_type": "stream",
     "text": [
      "Rectangle 1 - Width: 0 Height: 0\n",
      "Rectangle 2 - Width: 5 Height: 10\n"
     ]
    },
    {
     "data": {
      "text/plain": [
       "\"In this example:\\n\\nThe Rectangle class has a single constructor __init__, but it accepts two parameters, width and height, with default values of 0. This means that if you create a Rectangle object without providing any arguments, it will be initialized with width and height set to 0.\\n\\nYou can also create a Rectangle object with specific values for width and height by passing those values as arguments during object creation.\\n\\nThis approach allows you to effectively have multiple constructors with different parameter sets, providing flexibility while working with the class. The default values ensure that objects can be created with minimal information, and you can customize them further as needed.\\n\\nSo, while Python doesn't support multiple constructors in the traditional sense, you can use default parameter values to achieve similar results.\""
      ]
     },
     "execution_count": 9,
     "metadata": {},
     "output_type": "execute_result"
    }
   ],
   "source": [
    "\"\"\"In Python, you can't have multiple constructors with different parameter lists in the same class as you can in some other programming languages. However, you can achieve similar functionality by using default parameter values in a single constructor, effectively creating constructors with different sets of parameters. \n",
    "\n",
    "Example: \"\"\"\n",
    "    \n",
    "class Rectangle:\n",
    "    def __init__(self, width=0, height=0):\n",
    "        self.width = width\n",
    "        self.height = height\n",
    "\n",
    "# Create a Rectangle object with default values (0 for width and height)\n",
    "rectangle1 = Rectangle()\n",
    "\n",
    "# Create a Rectangle object with specific values for width and height\n",
    "rectangle2 = Rectangle(5, 10)\n",
    "\n",
    "# Access the attributes\n",
    "print(\"Rectangle 1 - Width:\", rectangle1.width, \"Height:\", rectangle1.height)\n",
    "print(\"Rectangle 2 - Width:\", rectangle2.width, \"Height:\", rectangle2.height)\n",
    "\n",
    "\n",
    "\"\"\"In this example:\n",
    "\n",
    "The Rectangle class has a single constructor __init__, but it accepts two parameters, width and height, with default values of 0. This means that if you create a Rectangle object without providing any arguments, it will be initialized with width and height set to 0.\n",
    "\n",
    "You can also create a Rectangle object with specific values for width and height by passing those values as arguments during object creation.\n",
    "\n",
    "This approach allows you to effectively have multiple constructors with different parameter sets, providing flexibility while working with the class. The default values ensure that objects can be created with minimal information, and you can customize them further as needed.\n",
    "\n",
    "So, while Python doesn't support multiple constructors in the traditional sense, you can use default parameter values to achieve similar results.\"\"\""
   ]
  },
  {
   "cell_type": "markdown",
   "id": "b8868a8a",
   "metadata": {},
   "source": [
    "11. What is method overloading, and how is it related to constructors in Python?"
   ]
  },
  {
   "cell_type": "raw",
   "id": "feb99789",
   "metadata": {},
   "source": [
    "Method overloading is a concept in object-oriented programming where a class can have multiple methods with the same name but different parameter lists. The choice of which method to call is determined at compile-time or runtime based on the number and types of arguments provided when the method is called. In Python, method overloading is not supported in the same way it is in some other programming languages like Java or C++. However, Python provides a form of method overloading through default arguments and variable-length argument lists (e.g., *args, **kwargs)."
   ]
  },
  {
   "cell_type": "markdown",
   "id": "cb6acfd4",
   "metadata": {},
   "source": [
    "12. Explain the use of the `super()` function in Python constructors. Provide an example."
   ]
  },
  {
   "cell_type": "code",
   "execution_count": 10,
   "id": "2f3b950c",
   "metadata": {},
   "outputs": [
    {
     "name": "stdout",
     "output_type": "stream",
     "text": [
      "Parent Parameter: Parent Value\n",
      "Child Parameter: Child Value\n"
     ]
    }
   ],
   "source": [
    "\"\"\"In Python, the super() function is used in constructors to call a method from a parent (or superclass) class. It's particularly useful when a subclass wants to extend the behavior of a parent class's constructor while still ensuring that the parent class's constructor is executed. The super() function allows you to call methods and constructors of the superclass.\n",
    "\n",
    "The super() function takes two arguments:\n",
    "\n",
    "The subclass (the current class that uses super()).\n",
    "The object on which you want to operate, typically self.\n",
    "\n",
    "Example:\"\"\"\n",
    "class Parent:\n",
    "    def __init__(self, parent_param):\n",
    "        self.parent_param = parent_param\n",
    "\n",
    "class Child(Parent):\n",
    "    def __init__(self, parent_param, child_param):\n",
    "        super().__init__(parent_param)  # Call the constructor of the Parent class\n",
    "        self.child_param = child_param\n",
    "\n",
    "# Create an object of the Child class\n",
    "child = Child(\"Parent Value\", \"Child Value\")\n",
    "\n",
    "# Access the attributes of the Child object\n",
    "print(\"Parent Parameter:\", child.parent_param)  # Output: Parent Parameter: Parent Value\n",
    "print(\"Child Parameter:\", child.child_param)    # Output: Child Parameter: Child Value\n"
   ]
  },
  {
   "cell_type": "markdown",
   "id": "a4713fcd",
   "metadata": {},
   "source": [
    "13. Create a class called `Book` with a constructor that initializes the `title`, `author`, and `published_year`\n",
    "attributes. Provide a method to display book details."
   ]
  },
  {
   "cell_type": "code",
   "execution_count": 11,
   "id": "f5118234",
   "metadata": {},
   "outputs": [
    {
     "name": "stdout",
     "output_type": "stream",
     "text": [
      "Title: To Kill a Mockingbird\n",
      "Author: Harper Lee\n",
      "Published Year: 1960\n"
     ]
    }
   ],
   "source": [
    "class Book:\n",
    "    def __init__(self, title, author, published_year):\n",
    "        self.title = title\n",
    "        self.author = author\n",
    "        self.published_year = published_year\n",
    "\n",
    "    def display_details(self):\n",
    "        print(\"Title:\", self.title)\n",
    "        print(\"Author:\", self.author)\n",
    "        print(\"Published Year:\", self.published_year)\n",
    "\n",
    "# Create a Book object\n",
    "book1 = Book(\"To Kill a Mockingbird\", \"Harper Lee\", 1960)\n",
    "\n",
    "# Display book details\n",
    "book1.display_details()\n"
   ]
  },
  {
   "cell_type": "markdown",
   "id": "15090dbc",
   "metadata": {},
   "source": [
    "14. Discuss the differences between constructors and regular methods in Python classes."
   ]
  },
  {
   "cell_type": "raw",
   "id": "a55b3c8f",
   "metadata": {},
   "source": [
    "Constructors and regular methods in Python classes serve different purposes and have some key differences. Here's a comparison of constructors and regular methods in Python classes:\n",
    "\n",
    "Constructors:\n",
    "\n",
    "Special Method: Constructors are special methods in Python classes. The most common constructor is __init__, which is used to initialize object attributes when an object is created. Other special constructors include __new__ and __del.\n",
    "\n",
    "Automatically Called: Constructors are automatically called when an object of the class is created. You don't need to call them explicitly.\n",
    "\n",
    "Initialization: Constructors are primarily used for initializing object attributes with initial values. They set the initial state of an object.\n",
    "\n",
    "Self Reference: Constructors always have self as the first parameter, which refers to the instance of the object being created. This allows you to access and set object attributes.\n",
    "\n",
    "Return Value: Constructors do not have a return value. They are responsible for setting up the object's state, and they implicitly return None.\n",
    "\n",
    "Regular Methods:\n",
    "\n",
    "General Methods: Regular methods in a class perform various tasks and operations. They are not limited to object initialization and can perform any functionality the class needs.\n",
    "\n",
    "Not Automatically Called: Regular methods are not automatically called when an object is created. You need to call them explicitly on an object.\n",
    "\n",
    "Perform Actions: Regular methods are used to perform actions, calculations, or any other operation that is related to the class's purpose.\n",
    "\n",
    "Self Reference: Regular methods also have self as the first parameter, which allows them to access and modify object attributes, but this is not required for every method.\n",
    "\n",
    "Return Value: Regular methods can have return values. They often return results or perform actions without returning a specific value.\n",
    "\n",
    "Key Differences:\n",
    "\n",
    "Constructors are used for object initialization, while regular methods are used for performing various actions or calculations.\n",
    "\n",
    "Constructors are automatically called when an object is created, while regular methods must be called explicitly.\n",
    "\n",
    "Constructors do not have a return value (they implicitly return None), while regular methods can have return values.\n",
    "\n",
    "Both constructors and regular methods have access to the self parameter, but the usage and purpose of self differ. In constructors, self is used to initialize object attributes, while in regular methods, it's used to access and modify object attributes.\n",
    "\n",
    "In summary, constructors are specific methods used for initializing objects, while regular methods are general-purpose methods that can perform various tasks related to the class's functionality. Both are essential in class definitions, but they serve different roles in the overall behavior of the class."
   ]
  },
  {
   "cell_type": "markdown",
   "id": "72c50957",
   "metadata": {},
   "source": [
    "15. Explain the role of the `self` parameter in instance variable initialization within a constructor."
   ]
  },
  {
   "cell_type": "code",
   "execution_count": 12,
   "id": "26d3bb64",
   "metadata": {},
   "outputs": [
    {
     "name": "stdout",
     "output_type": "stream",
     "text": [
      "Person 1 - Name: Alice Age: 30\n",
      "Person 2 - Name: Bob Age: 25\n"
     ]
    },
    {
     "data": {
      "text/plain": [
       "'In this example:\\n\\nThe Person class defines a constructor that takes name and age as parameters and initializes the instance variables self.name and self.age within the constructor.\\n\\nWhen we create two Person objects (person1 and person2), each object has its own self, and the instance variables are set specifically for each object. This allows each object to have different attribute values.\\n\\nWe access and print the instance variables of both objects, demonstrating that they have different data even though they are instances of the same class.\\n\\nThe self parameter is fundamental to object-oriented programming in Python and ensures that objects have their own distinct attributes and states.\\n'"
      ]
     },
     "execution_count": 12,
     "metadata": {},
     "output_type": "execute_result"
    }
   ],
   "source": [
    "\"\"\"The self parameter in Python constructors (and methods) plays a crucial role in initializing instance variables (attributes) within the constructor. It is a reference to the instance of the class that the method is called on. Here's how the self parameter works in instance variable initialization within a constructor:\n",
    "\n",
    "Instance Variables: In Python, instance variables are used to store data that is specific to each instance of a class. These variables define the state of an object. Instance variables are defined within a constructor (__init__ method) to ensure that each object has its own set of attributes.\n",
    "\n",
    "self Reference: The self parameter is a convention used in Python to represent the instance of the class. It is the first parameter of the constructor (or any method in the class). By convention, it's named self, but you can use any name.\n",
    "\n",
    "Accessing and Initializing Attributes: Inside the constructor, you use the self reference to access and initialize the instance variables. For example, you can assign values to instance variables using self.variable_name.\n",
    "\n",
    "Instance-Specific Data: Because each object created from a class has its own self, instance variables set within the constructor are specific to that object. This allows objects to have different attribute values, even if they are instances of the same class.\n",
    "\n",
    "example:\n",
    "\"\"\"\n",
    "class Person:\n",
    "    def __init__(self, name, age):\n",
    "        self.name = name  # Initialize the 'name' instance variable\n",
    "        self.age = age    # Initialize the 'age' instance variable\n",
    "\n",
    "# Create two Person objects with different data\n",
    "person1 = Person(\"Vikas\", 30)\n",
    "person2 = Person(\"Kumar\", 25)\n",
    "\n",
    "# Access the instance variables\n",
    "print(\"Person 1 - Name:\", person1.name, \"Age:\", person1.age)\n",
    "print(\"Person 2 - Name:\", person2.name, \"Age:\", person2.age)\n",
    "\n",
    "\"\"\"In this example:\n",
    "\n",
    "The Person class defines a constructor that takes name and age as parameters and initializes the instance variables self.name and self.age within the constructor.\n",
    "\n",
    "When we create two Person objects (person1 and person2), each object has its own self, and the instance variables are set specifically for each object. This allows each object to have different attribute values.\n",
    "\n",
    "We access and print the instance variables of both objects, demonstrating that they have different data even though they are instances of the same class.\n",
    "\n",
    "The self parameter is fundamental to object-oriented programming in Python and ensures that objects have their own distinct attributes and states.\n",
    "\"\"\""
   ]
  },
  {
   "cell_type": "markdown",
   "id": "e89a8f72",
   "metadata": {},
   "source": [
    "16. How do you prevent a class from having multiple instances by using constructors in Python? Provide an\n",
    "example."
   ]
  },
  {
   "cell_type": "code",
   "execution_count": 13,
   "id": "7a48f4b0",
   "metadata": {},
   "outputs": [
    {
     "name": "stdout",
     "output_type": "stream",
     "text": [
      "True\n"
     ]
    }
   ],
   "source": [
    "\"\"\"In Python, you can prevent a class from having multiple instances by implementing a design pattern called the Singleton Pattern. The Singleton Pattern ensures that a class has only one instance, and that single instance is used throughout the lifetime of the program. To achieve this, you can use class-level attributes and a private constructor (by convention, you can prefix the constructor with an underscore).\"\"\"\n",
    "\n",
    "class Singleton:\n",
    "    _instance = None  # Class-level attribute to store the single instance\n",
    "\n",
    "    def __new__(cls):\n",
    "        if cls._instance is None:\n",
    "            cls._instance = super(Singleton, cls).__new__(cls)\n",
    "            cls._instance.initialized = False\n",
    "        return cls._instance\n",
    "\n",
    "    def __init__(self):\n",
    "        if not self.initialized:\n",
    "            # Perform initialization tasks here\n",
    "            self.initialized = True\n",
    "\n",
    "# Create instances of the Singleton class\n",
    "singleton1 = Singleton()\n",
    "singleton2 = Singleton()\n",
    "\n",
    "# Check if they are the same instance\n",
    "print(singleton1 is singleton2)  # Output: True\n"
   ]
  },
  {
   "cell_type": "markdown",
   "id": "4a3478cc",
   "metadata": {},
   "source": [
    "17. Create a Python class called `Student` with a constructor that takes a list of subjects as a parameter and\n",
    "initializes the `subjects` attribute."
   ]
  },
  {
   "cell_type": "code",
   "execution_count": 14,
   "id": "2603defb",
   "metadata": {},
   "outputs": [
    {
     "name": "stdout",
     "output_type": "stream",
     "text": [
      "Subjects for student1: ['Math', 'Science', 'History', 'English']\n"
     ]
    }
   ],
   "source": [
    "class Student:\n",
    "    def __init__(self, subjects):\n",
    "        self.subjects = subjects\n",
    "\n",
    "# Create a Student object with a list of subjects\n",
    "student1 = Student([\"Math\", \"Science\", \"History\", \"English\"])\n",
    "\n",
    "# Access and print the subjects attribute\n",
    "print(\"Subjects for student1:\", student1.subjects)\n"
   ]
  },
  {
   "cell_type": "markdown",
   "id": "604dde26",
   "metadata": {},
   "source": [
    "18. What is the purpose of the `__del__` method in Python classes, and how does it relate to constructors?"
   ]
  },
  {
   "cell_type": "code",
   "execution_count": 15,
   "id": "31da6926",
   "metadata": {},
   "outputs": [
    {
     "name": "stdout",
     "output_type": "stream",
     "text": [
      "Object created with data: Object 1\n",
      "Object created with data: Object 2\n",
      "Object with data Object 1 is being destroyed\n"
     ]
    },
    {
     "data": {
      "text/plain": [
       "'# Explanation:\\n\\nWe have a MyClass class with both a constructor (__init__) and a destructor (__del__) method.\\n\\nWhen we create objects obj1 and obj2, the constructor is called for each, and we see messages indicating that the objects are being created.\\n\\nWhen we delete obj1 using del obj1, the destructor is automatically called, and we see a message indicating that the object is being destroyed.\\n\\nThe __del__ method is not commonly used in Python, and you should be cautious when using it. In most cases, resource cleanup and finalization are better handled explicitly in your code or using context managers like with statements or the contextlib module. The __del__ method is not guaranteed to be called at a specific time, and relying on it for critical resource management can lead to unexpected behavior.'"
      ]
     },
     "execution_count": 15,
     "metadata": {},
     "output_type": "execute_result"
    }
   ],
   "source": [
    "\"\"\"The __del__ method in Python is a special method used to define the behavior that should occur when an object is about to be destroyed or deallocated. It is often referred to as the \"destructor\" method. The primary purpose of the __del__ method is to clean up resources, release memory, or perform any necessary finalization when an object is no longer in use. The __del__ method is automatically called by Python's garbage collector just before an object is deleted from memory.\n",
    "\n",
    "The relationship between the __del__ method and constructors (e.g., __init__ method) is as follows:\n",
    "\n",
    "Constructor (__init__): The constructor, such as __init__, is used to initialize object attributes and set up the initial state of an object. It is called when an object is created.\n",
    "\n",
    "**Destructor (__del__):** The destructor, __del`, is used to perform cleanup or finalization tasks before an object is destroyed. It is called when an object is no longer in use, typically when there are no references to the object.\n",
    "    \n",
    "Example:\"\"\"\n",
    "    \n",
    "class MyClass:\n",
    "    def __init__(self, data):\n",
    "        self.data = data\n",
    "        print(f\"Object created with data: {self.data}\")\n",
    "\n",
    "    def __del__(self):\n",
    "        print(f\"Object with data {self.data} is being destroyed\")\n",
    "\n",
    "# Create an object of MyClass\n",
    "obj1 = MyClass(\"Object 1\")\n",
    "\n",
    "# Create another object\n",
    "obj2 = MyClass(\"Object 2\")\n",
    "\n",
    "# Delete one of the objects\n",
    "del obj1\n",
    "\n",
    "\"\"\"# Explanation:\n",
    "\n",
    "We have a MyClass class with both a constructor (__init__) and a destructor (__del__) method.\n",
    "\n",
    "When we create objects obj1 and obj2, the constructor is called for each, and we see messages indicating that the objects are being created.\n",
    "\n",
    "When we delete obj1 using del obj1, the destructor is automatically called, and we see a message indicating that the object is being destroyed.\n",
    "\n",
    "The __del__ method is not commonly used in Python, and you should be cautious when using it. In most cases, resource cleanup and finalization are better handled explicitly in your code or using context managers like with statements or the contextlib module. The __del__ method is not guaranteed to be called at a specific time, and relying on it for critical resource management can lead to unexpected behavior.\"\"\""
   ]
  },
  {
   "cell_type": "markdown",
   "id": "791bdb1e",
   "metadata": {},
   "source": [
    "19. Explain the use of constructor chaining in Python. Provide a practical example."
   ]
  },
  {
   "cell_type": "code",
   "execution_count": 19,
   "id": "e09a8919",
   "metadata": {},
   "outputs": [
    {
     "data": {
      "text/plain": [
       "'class Employee:\\n    def __init__(self, name, employee_id):\\n        self.name = name\\n        self.employee_id = employee_id\\n\\n    def __init__(self, name, employee_id, department):\\n        self(name, employee_id)  # Call the two-argument constructor\\n        self.department = department\\n\\n    def display_info(self):\\n        print(f\"Name: {self.name}\")\\n        print(f\"Employee ID: {self.employee_id}\")\\n        if hasattr(self, \\'department\\'):\\n            print(f\"Department: {self.department}\")\\n\\n# Create an Employee object with three arguments\\nemployee1 = Employee(\"Alice\", 1001, \"HR\")\\n\\n# Create an Employee object with two arguments\\nemployee2 = Employee(\"Bob\", 1002)\\n\\n# Display employee information\\nemployee1.display_info()\\nprint()\\nemployee2.display_info()\\n'"
      ]
     },
     "execution_count": 19,
     "metadata": {},
     "output_type": "execute_result"
    }
   ],
   "source": [
    "\"\"\"Constructor chaining, also known as constructor delegation, is a concept in object-oriented programming that allows one \n",
    "constructor within a class to call another constructor in the same class. It is a technique used to avoid duplicating \n",
    "code when multiple constructors need to perform similar initialization tasks. Constructor chaining is common in \n",
    "languages like Python, which support multiple constructors through default parameter values.\n",
    "\n",
    "In Python, constructor chaining is typically achieved by having one constructor call another using the self reference.\n",
    "\"\"\"\n",
    "#Example:\n",
    "\n",
    "class Employee:\n",
    "    def __init__(self, name, employee_id):\n",
    "        self.name = name\n",
    "        self.employee_id = employee_id\n",
    "\n",
    "    def __init__(self, name, employee_id, department):\n",
    "        self(name, employee_id)  # Call the two-argument constructor\n",
    "        self.department = department\n",
    "\n",
    "    def display_info(self):\n",
    "        print(f\"Name: {self.name}\")\n",
    "        print(f\"Employee ID: {self.employee_id}\")\n",
    "        if hasattr(self, 'department'):\n",
    "            print(f\"Department: {self.department}\")\n",
    "\n",
    "# Create an Employee object with three arguments\n",
    "employee1 = Employee(\"Alice\", 1001, \"HR\")\n",
    "\n",
    "# Create an Employee object with two arguments\n",
    "employee2 = Employee(\"Bob\", 1002)\n",
    "\n",
    "# Display employee information\n",
    "employee1.display_info()\n",
    "print()\n",
    "employee2.display_info()\n"
   ]
  },
  {
   "cell_type": "markdown",
   "id": "b3ff07f6",
   "metadata": {},
   "source": [
    "20. Create a Python class called `Car` with a default constructor that initializes the `make` and `model`\n",
    "attributes. Provide a method to display car information."
   ]
  },
  {
   "cell_type": "code",
   "execution_count": 20,
   "id": "f4ec738e",
   "metadata": {},
   "outputs": [
    {
     "name": "stdout",
     "output_type": "stream",
     "text": [
      "Make: Unknown\n",
      "Model: Unknown\n"
     ]
    }
   ],
   "source": [
    "class Car:\n",
    "    def __init__(self):\n",
    "        self.make = \"Unknown\"\n",
    "        self.model = \"Unknown\"\n",
    "\n",
    "    def display_info(self):\n",
    "        print(f\"Make: {self.make}\")\n",
    "        print(f\"Model: {self.model}\")\n",
    "\n",
    "# Create a Car object with default values\n",
    "car1 = Car()\n",
    "\n",
    "# Display car information\n",
    "car1.display_info()\n"
   ]
  },
  {
   "cell_type": "markdown",
   "id": "94814dbf",
   "metadata": {},
   "source": [
    "# Inheritance"
   ]
  },
  {
   "cell_type": "markdown",
   "id": "c5414bbd",
   "metadata": {},
   "source": [
    "1. What is inheritance in Python? Explain its significance in object-oriented programming."
   ]
  },
  {
   "cell_type": "raw",
   "id": "726264e1",
   "metadata": {},
   "source": [
    "Inheritance is a fundamental concept in object-oriented programming (OOP) and is a key feature in Python. It refers to the ability of a class (called a subclass or derived class) to inherit the properties (attributes) and behaviors (methods) of another class (called a superclass or base class). In other words, a subclass can acquire the characteristics of a superclass, allowing code reusability and the creation of a hierarchical relationship between classes.\n",
    "\n",
    "Significance of Inheritance in Object-Oriented Programming:\n",
    "\n",
    "Code Reusability: Inheritance enables the reuse of code from existing classes. Instead of writing similar code from scratch, you can extend the functionality of a class by inheriting from a superclass. This reduces redundancy and makes code more maintainable.\n",
    "\n",
    "Hierarchy and Organization: Inheritance allows you to create a hierarchical structure of classes. This hierarchy reflects the relationships between different objects in the real world. For example, you can have a Vehicle class as the superclass, and subclasses like Car and Bicycle that inherit from it.\n",
    "\n",
    "Polymorphism: Inheritance is a fundamental concept for achieving polymorphism, which allows objects of different classes to be treated as instances of their parent class. This simplifies and makes code more flexible when working with multiple objects.\n",
    "\n",
    "Specialization: You can create specialized classes that inherit common behavior and attributes from a more general class. This way, you can add specific behaviors or attributes to the specialized class without affecting the general class.\n",
    "\n",
    "Maintenance: Inheritance facilitates code maintenance. If you need to make changes or add functionality to a group of related classes, you can do so in the superclass, and these changes will be inherited by all the subclasses.\n",
    "\n",
    "Abstraction: Inheritance is used to implement abstraction. Superclasses provide a general blueprint for behavior, and subclasses add concrete implementations. This separation of abstract and concrete allows for cleaner and more organized code.\n",
    "\n",
    "In Python, inheritance is a powerful tool that promotes code modularity and extensibility. It enables you to model complex relationships between objects, simplifies code development, and encourages the use of object-oriented principles such as encapsulation, polymorphism, and abstraction."
   ]
  },
  {
   "cell_type": "markdown",
   "id": "4c645665",
   "metadata": {},
   "source": [
    "2. Differentiate between single inheritance and multiple inheritance in Python. Provide examples for each."
   ]
  },
  {
   "cell_type": "raw",
   "id": "c326a061",
   "metadata": {},
   "source": [
    "Single Inheritance:\n",
    "\n",
    "In single inheritance, a class can inherit from only one superclass (parent class).\n",
    "The subclass inherits the attributes and behaviors of a single parent class.\n",
    "Single inheritance is straightforward and provides a clear hierarchy of classes.\n",
    "Example of Single Inheritance \n",
    "\n",
    "# Code\n",
    "class Animal:\n",
    "    def speak(self):\n",
    "        pass\n",
    "\n",
    "class Dog(Animal):\n",
    "    def speak(self):\n",
    "        return \"Woof!\"\n",
    "\n",
    "# Create an object of the Dog class\n",
    "dog = Dog()\n",
    "\n",
    "# Call the speak method of the Dog class\n",
    "print(dog.speak())  # Output: Woof!\n",
    "In this example, the Dog class inherits from the Animal class using single inheritance. Dog is the subclass, and Animal is the superclass. The Dog class inherits the speak() method from the Animal class.\n",
    "\n",
    "Multiple Inheritance:\n",
    "\n",
    "In multiple inheritance, a class can inherit from more than one superclass (parent class).\n",
    "The subclass inherits attributes and behaviors from multiple parent classes.\n",
    "Multiple inheritance can lead to complex class hierarchies and requires careful handling to avoid ambiguities in case of method or attribute name conflicts.\n",
    "Example of Multiple Inheritance :\n",
    "\n",
    "# Code\n",
    "class Bird:\n",
    "    def speak(self):\n",
    "        return \"Tweet!\"\n",
    "\n",
    "class Mammal:\n",
    "    def speak(self):\n",
    "        return \"Growl!\"\n",
    "\n",
    "class Platypus(Bird, Mammal):\n",
    "    pass\n",
    "\n",
    "# Create an object of the Platypus class\n",
    "platypus = Platypus()\n",
    "\n",
    "# Call the speak method of the Platypus class\n",
    "print(platypus.speak())  # Output: Tweet! (inherits from Bird, as it appears first in the inheritance list)\n",
    "In this example, the Platypus class inherits from both the Bird and Mammal classes using multiple inheritance. It inherits the speak() method from both parent classes. In cases of method name conflicts, the method from the first parent class listed is used.\n",
    "\n",
    "Note: Python provides a method resolution order (MRO) mechanism, which defines the order in which classes are searched when looking for a method or attribute. The super() function is often used in multiple inheritance to call the methods of parent classes explicitly. Care should be taken to avoid ambiguity and to design class hierarchies that make sense in the context of the program."
   ]
  },
  {
   "cell_type": "markdown",
   "id": "fbd0ec8b",
   "metadata": {},
   "source": [
    "3. Create a Python class called `Vehicle` with attributes `color` and `speed`. Then, create a child class called\n",
    "`Car` that inherits from `Vehicle` and adds a `brand` attribute. Provide an example of creating a `Car` object."
   ]
  },
  {
   "cell_type": "code",
   "execution_count": 2,
   "id": "359d7ff2",
   "metadata": {},
   "outputs": [
    {
     "name": "stdout",
     "output_type": "stream",
     "text": [
      "Color: Red\n",
      "Speed: 120\n",
      "Brand: Toyota\n"
     ]
    }
   ],
   "source": [
    "class Vehicle:\n",
    "    def __init__(self, color, speed):\n",
    "        self.color = color\n",
    "        self.speed = speed\n",
    "\n",
    "class Car(Vehicle):\n",
    "    def __init__(self, color, speed, brand):\n",
    "        super().__init__(color, speed)  # Call the parent class constructor\n",
    "        self.brand = brand\n",
    "\n",
    "# Create a Car object\n",
    "my_car = Car(\"Red\", 120, \"Toyota\")\n",
    "\n",
    "# Access the attributes of the Car object\n",
    "print(\"Color:\", my_car.color)  # Output: Color: Red\n",
    "print(\"Speed:\", my_car.speed)  # Output: Speed: 120\n",
    "print(\"Brand:\", my_car.brand)  # Output: Brand: Toyota\n"
   ]
  },
  {
   "cell_type": "code",
   "execution_count": null,
   "id": "38ee1bca",
   "metadata": {},
   "outputs": [],
   "source": []
  },
  {
   "cell_type": "markdown",
   "id": "a7634c9d",
   "metadata": {},
   "source": [
    "4. Explain the concept of method overriding in inheritance. Provide a practical example."
   ]
  },
  {
   "cell_type": "raw",
   "id": "b9cc1294",
   "metadata": {},
   "source": [
    "Method overriding is a concept in object-oriented programming that occurs in the context of inheritance. It allows a subclass to provide a specific implementation of a method that is already defined in its superclass. When a subclass overrides a method, it provides a new implementation for that method, which is used when the method is called on objects of the subclass.\n",
    "\n",
    "Key points about method overriding:\n",
    "\n",
    "Inheritance: Method overriding is closely related to inheritance. It occurs when a subclass inherits a method from its superclass and then provides a different implementation for that method.\n",
    "\n",
    "Signature Matching: When overriding a method, the method in the subclass must have the same name, return type, and parameters (method signature) as the method in the superclass. This is important for the method to be recognized as an override.\n",
    "\n",
    "Polymorphism: Method overriding is a fundamental concept in achieving polymorphism in object-oriented programming. It allows you to invoke a method on an object of a subclass, and the appropriate implementation of the method is determined at runtime.\n",
    "\n",
    "Superclass Method: Even though a method is overridden in the subclass, the original method in the superclass still exists. However, when you call the method on an object of the subclass, the overridden implementation in the subclass is executed.\n",
    "\n",
    "Example:\n",
    "\n",
    "# code\n",
    "class Animal:\n",
    "    def speak(self):\n",
    "        pass\n",
    "\n",
    "class Dog(Animal):\n",
    "    def speak(self):\n",
    "        return \"Woof!\"\n",
    "\n",
    "class Cat(Animal):\n",
    "    def speak(self):\n",
    "        return \"Meow!\"\n",
    "\n",
    "# Creating objects of the subclasses\n",
    "dog = Dog()\n",
    "cat = Cat()\n",
    "\n",
    "# Calling the speak method on objects\n",
    "print(\"Dog says:\", dog.speak())  # Output: Dog says: Woof!\n",
    "print(\"Cat says:\", cat.speak())  # Output: Cat says: Meow!\n",
    "In this example, we have a superclass Animal with a method speak. Subclasses Dog and Cat inherit from Animal and override the speak method to provide their specific implementations.\n",
    "\n",
    "When we create objects of the subclasses and call the speak method, the appropriate overridden implementation in each subclass is executed. This demonstrates how method overriding enables polymorphism, allowing objects of different subclasses to respond differently to the same method call."
   ]
  },
  {
   "cell_type": "markdown",
   "id": "bf13729b",
   "metadata": {},
   "source": [
    "5. How can you access the methods and attributes of a parent class from a child class in Python? Give an\n",
    "example."
   ]
  },
  {
   "cell_type": "raw",
   "id": "4e71ebf5",
   "metadata": {},
   "source": [
    "In Python, we can access the methods and attributes of a parent class from a child class by using the super() function. The super() function is used to call methods and access attributes of the parent (superclass) within the child (subclass). This allows you to extend or modify the behavior of the parent class's methods and attributes in the child class while reusing their functionality.\n",
    "\n",
    "For Example:\n",
    "\n",
    "class ParentClass:\n",
    "    def __init__(self, attribute1, attribute2):\n",
    "        self.attribute1 = attribute1\n",
    "        self.attribute2 = attribute2\n",
    "\n",
    "    def parent_method(self):\n",
    "        return f\"Parent Method: {self.attribute1}, {self.attribute2}\"\n",
    "\n",
    "class ChildClass(ParentClass):\n",
    "    def __init__(self, attribute1, attribute2, attribute3):\n",
    "        super().__init__(attribute1, attribute2)  # Call the parent class constructor\n",
    "        self.attribute3 = attribute3\n",
    "\n",
    "    def child_method(self):\n",
    "        return f\"Child Method: {self.attribute1}, {self.attribute2}, {self.attribute3}\"\n",
    "\n",
    "# Create an object of the child class\n",
    "child_obj = ChildClass(\"Value1\", \"Value2\", \"Value3\")\n",
    "\n",
    "# Access parent class method and attribute from the child class\n",
    "print(child_obj.parent_method())  # Output: Parent Method: Value1, Value2\n",
    "print(child_obj.child_method())   # Output: Child Method: Value1, Value2, Value3\n",
    "\n",
    "\n",
    "In this example:\n",
    "\n",
    "ParentClass defines a constructor (__init__) and a method (parent_method) along with two attributes.\n",
    "\n",
    "ChildClass is a subclass of ParentClass that extends the functionality. It defines its constructor that calls the parent class constructor using super(). It also adds an additional attribute (attribute3) and a new method (child_method).\n",
    "\n",
    "When we create an object of the ChildClass (child_obj), we can access both parent class and child class methods and attributes. We use super().parent_method() to call the parent class method and access the parent class attributes as well as self to access the child class attributes.\n",
    "\n",
    "By using super(), you can leverage the functionality of the parent class while customizing or extending it in the child class."
   ]
  },
  {
   "cell_type": "markdown",
   "id": "92d5c08f",
   "metadata": {},
   "source": [
    "6. Discuss the use of the `super()` function in Python inheritance. When and why is it used? Provide an\n",
    "example."
   ]
  },
  {
   "cell_type": "raw",
   "id": "31235fe8",
   "metadata": {},
   "source": [
    "The super() function in Python is used in the context of inheritance to call methods and access attributes of the parent class (superclass) within the child class (subclass). It is particularly useful when you want to extend or modify the behavior of the parent class's methods or attributes in the child class while reusing the existing functionality. super() allows you to maintain and enhance the parent class's behavior without duplicating code.\n",
    "\n",
    "# when and why super() is used in Python inheritance:\n",
    "\n",
    "1. Calling Parent Class Constructors:\n",
    "\n",
    "Use super() to call the constructor of the parent class from the child class. This is typically done in the __init__ method of the child class to ensure that the parent class's attributes are initialized correctly.\n",
    "2. Accessing Parent Class Methods:\n",
    "\n",
    "Use super() to access methods of the parent class from the child class. This can be helpful when you want to extend the behavior of a method in the parent class without rewriting the entire method.\n",
    "3. Extending Parent Class Behavior:\n",
    "\n",
    "super() is used to extend the behavior of the parent class. It allows the child class to add or modify functionality while still taking advantage of the existing behavior.\n",
    "4. Avoiding Code Duplication:\n",
    "\n",
    "By using super(), you avoid code duplication. Instead of copying code from the parent class into the child class, you inherit and build upon the existing functionality.\n",
    "Example:\n",
    "\n",
    "# an example that demonstrates the use of super() in Python inheritance:\n",
    "\n",
    "\n",
    "#code\n",
    "class ParentClass:\n",
    "    def __init__(self, attribute1, attribute2):\n",
    "        self.attribute1 = attribute1\n",
    "        self.attribute2 = attribute2\n",
    "\n",
    "    def parent_method(self):\n",
    "        return f\"Parent Method: {self.attribute1}, {self.attribute2}\"\n",
    "\n",
    "class ChildClass(ParentClass):\n",
    "    def __init__(self, attribute1, attribute2, attribute3):\n",
    "        super().__init__(attribute1, attribute2)  # Call the parent class constructor\n",
    "        self.attribute3 = attribute3\n",
    "\n",
    "    def child_method(self):\n",
    "        return f\"Child Method: {self.attribute1}, {self.attribute2}, {self.attribute3}\"\n",
    "\n",
    "# Create an object of the child class\n",
    "child_obj = ChildClass(\"Value1\", \"Value2\", \"Value3\")\n",
    "\n",
    "# Access parent class method and attribute from the child class\n",
    "print(child_obj.parent_method())  # Output: Parent Method: Value1, Value2\n",
    "print(child_obj.child_method())   # Output: Child Method: Value1, Value2, Value3\n",
    "In this example, super() is used to call the parent class constructor from the ChildClass constructor. It ensures that the parent class attributes are correctly initialized. The child class then extends the behavior by adding a new attribute and a new method while still being able to access and use the parent class's attributes and methods."
   ]
  },
  {
   "cell_type": "markdown",
   "id": "f96dbd33",
   "metadata": {},
   "source": [
    "7. Create a Python class called `Animal` with a method `speak()`. Then, create child classes `Dog` and `Cat`"
   ]
  },
  {
   "cell_type": "code",
   "execution_count": 1,
   "id": "bfacd1c7",
   "metadata": {},
   "outputs": [
    {
     "name": "stdout",
     "output_type": "stream",
     "text": [
      "Dog says: Woof!\n",
      "Cat says: Meow!\n"
     ]
    }
   ],
   "source": [
    "class Animal:\n",
    "    def speak(self):\n",
    "        pass  # This method will be overridden by the child classes\n",
    "\n",
    "class Dog(Animal):\n",
    "    def speak(self):\n",
    "        return \"Woof!\"\n",
    "\n",
    "class Cat(Animal):\n",
    "    def speak(self):\n",
    "        return \"Meow!\"\n",
    "\n",
    "# Create objects of the child classes\n",
    "dog = Dog()\n",
    "cat = Cat()\n",
    "\n",
    "# Call the speak method on objects of the child classes\n",
    "print(\"Dog says:\", dog.speak())  # Output: Dog says: Woof!\n",
    "print(\"Cat says:\", cat.speak())  # Output: Cat says: Meow!\n"
   ]
  },
  {
   "cell_type": "markdown",
   "id": "c4a53d99",
   "metadata": {},
   "source": [
    "8. Explain the role of the `isinstance()` function in Python and how it relates to inheritance."
   ]
  },
  {
   "cell_type": "raw",
   "id": "e73c4fc0",
   "metadata": {},
   "source": [
    "The isinstance() function in Python is used to check whether an object belongs to a specific class or is an instance of a specific class. It plays a crucial role in object-oriented programming, especially in the context of inheritance, as it helps determine the relationship between objects and classes. Here's how the isinstance() function relates to inheritance:\n",
    "\n",
    "1. Checking Object Type:\n",
    "\n",
    "The primary purpose of the isinstance() function is to determine the type of an object. It checks if the object is an instance of a specific class or a subclass of that class.\n",
    "\n",
    "2. Inheritance and Type Hierarchy:\n",
    "\n",
    "Inheritance in Python creates a hierarchy of classes, with parent (superclass) and child (subclass) relationships. The isinstance() function takes this hierarchy into account when checking the object's type.\n",
    "\n",
    "3. Polymorphism:\n",
    "\n",
    "isinstance() is a crucial tool for implementing polymorphism, which allows different objects to be treated as instances of their respective classes, even when those classes are part of an inheritance hierarchy.\n",
    "\n",
    "4. Determining Object Compatibility:\n",
    "\n",
    "It is commonly used to ensure that an object is compatible with a certain class or to make decisions based on the object's type. This is especially important when working with various objects in a program."
   ]
  },
  {
   "cell_type": "markdown",
   "id": "4a6f851f",
   "metadata": {},
   "source": [
    "9. What is the purpose of the `issubclass()` function in Python? Provide an example."
   ]
  },
  {
   "cell_type": "raw",
   "id": "566ed251",
   "metadata": {},
   "source": [
    "The issubclass() function in Python is used to determine whether a given class is a subclass of another class. It allows you to check the inheritance relationship between classes and find out if one class is derived from another. The issubclass() function returns a boolean value, indicating whether the relationship exists.\n",
    "\n",
    "The syntax of the issubclass() function is as follows:\n",
    "\n",
    "syntax:: issubclass(class, classinfo)\n",
    "        \n",
    "class is the class that you want to check whether it is a subclass of another class.\n",
    "classinfo is the class that you want to check if it's the superclass.\n",
    "Purpose of issubclass():\n",
    "\n",
    "The primary purpose of issubclass() is to determine the class hierarchy, which is crucial when working with inheritance and object-oriented programming.\n",
    "\n",
    "It is used to make decisions and perform actions based on the class inheritance relationship. For example, you might want to execute specific code if a class is a subclass of another.\n",
    "\n",
    "Example:\n",
    "\n",
    "\n",
    "class Animal:\n",
    "    pass\n",
    "\n",
    "class Mammal(Animal):\n",
    "    pass\n",
    "\n",
    "class Dog(Mammal):\n",
    "    pass\n",
    "\n",
    "# Check if Dog is a subclass of Animal\n",
    "print(issubclass(Dog, Animal))  # Output: True\n",
    "\n",
    "# Check if Dog is a subclass of Mammal\n",
    "print(issubclass(Dog, Mammal))  # Output: True\n",
    "\n",
    "# Check if Mammal is a subclass of Animal\n",
    "print(issubclass(Mammal, Animal))  # Output: True\n",
    "\n",
    "# Check if Animal is a subclass of Dog\n",
    "print(issubclass(Animal, Dog))  # Output: False\n",
    "In this example:\n",
    "\n",
    "We have defined three classes: Animal, Mammal (which is a subclass of Animal), and Dog (which is a subclass of Mammal).\n",
    "\n",
    "We use the issubclass() function to check the inheritance relationships between these classes. The function returns True if the first class is a subclass of the second class and False otherwise.\n",
    "\n",
    "The output of each issubclass() call is shown in the comments.\n",
    "\n",
    "This function is useful when you want to make decisions or validate the hierarchy of classes in a program, especially in scenarios where you need to ensure that a class inherits from another class before performing specific operations."
   ]
  },
  {
   "cell_type": "markdown",
   "id": "b5ae6ea7",
   "metadata": {},
   "source": [
    "10. Discuss the concept of constructor inheritance in Python. How are constructors inherited in child classes?"
   ]
  },
  {
   "cell_type": "raw",
   "id": "7917fbf8",
   "metadata": {},
   "source": [
    "In Python, constructors are inherited by child classes in a way that ensures that the initialization logic of the parent class is also applied to the child class objects. Constructor inheritance is an important aspect of object-oriented programming and allows you to set up the initial state of child class objects while maintaining the state of the parent class. Here's how constructor inheritance works:\n",
    "\n",
    "Automatic Inheritance: When a child class is defined, it inherits the constructor of its parent class by default. This means that the child class has access to the parent class's constructor method (__init__) without any additional effort.\n",
    "\n",
    "Explicit Superclass Initialization: To ensure that the parent class's constructor is explicitly called during the initialization of a child class object, the super() function is used. By calling super().__init__() in the child class's constructor, you invoke the constructor of the parent class. This allows you to initialize the attributes and perform setup tasks specific to the parent class.\n",
    "\n",
    "Attributes and Methods Inheritance: The child class inherits not only the constructor but also the attributes and methods defined in the parent class. This means that you have access to the parent class's data and functionality in the child class.\n",
    "    \n",
    "class ParentClass:\n",
    "    def __init__(self, parent_attribute):\n",
    "        self.parent_attribute = parent_attribute\n",
    "\n",
    "class ChildClass(ParentClass):\n",
    "    def __init__(self, parent_attribute, child_attribute):\n",
    "        super().__init__(parent_attribute)  # Call the parent class constructor\n",
    "        self.child_attribute = child_attribute\n",
    "\n",
    "# Create an object of the child class\n",
    "child_obj = ChildClass(\"Parent Value\", \"Child Value\")\n",
    "\n",
    "# Access parent and child attributes\n",
    "print(\"Parent Attribute:\", child_obj.parent_attribute)  # Output: Parent Attribute: Parent Value\n",
    "print(\"Child Attribute:\", child_obj.child_attribute)    # Output: Child Attribute: Child Value\n",
    "\n",
    "In this example:\n",
    "\n",
    "ParentClass has a constructor that takes a parent_attribute and initializes an attribute in the parent class.\n",
    "\n",
    "ChildClass is a subclass of ParentClass. It defines its own constructor, which takes a child_attribute, and calls the parent class constructor using super().__init__(parent_attribute) to ensure that the parent class attributes are correctly initialized.\n",
    "\n",
    "When we create an object of ChildClass, both parent and child attributes are available for access.\n",
    "\n",
    "Constructor inheritance in Python ensures that the child class benefits from the initialization logic of the parent class, promoting code reuse and maintaining a consistent object setup process throughout the inheritance hierarchy."
   ]
  },
  {
   "cell_type": "markdown",
   "id": "9c122410",
   "metadata": {},
   "source": [
    "11. Create a Python class called `Shape` with a method `area()` that calculates the area of a shape. Then, create child classes `Circle` and `Rectangle` that inherit from `Shape` and implement the `area()` method\n",
    "accordingly. Provide an example."
   ]
  },
  {
   "cell_type": "code",
   "execution_count": 22,
   "id": "061c6165",
   "metadata": {},
   "outputs": [],
   "source": [
    "import math\n",
    "\n",
    "class Shape:\n",
    "    def area(self):\n",
    "        pass  # This method will be implemented in the specific shape subclasses\n",
    "\n",
    "class Circle(Shape):\n",
    "    def __init__(self, radius):\n",
    "        self.radius = radius\n",
    "\n",
    "    def area(self):\n",
    "        return math.pi * (self.radius ** 2)\n",
    "\n",
    "class Rectangle(Shape):\n",
    "    def __init__(self, width, height):\n",
    "        self.width = width\n",
    "        self.height = height\n",
    "\n",
    "    def area(self):\n",
    "        return self.width * self.height\n",
    "\n",
    "# Usage examples:\n",
    "if __name__ == \"__main\":\n",
    "    circle = Circle(5)\n",
    "    rectangle = Rectangle(4, 6)\n",
    "\n",
    "    print(\"Circle Area:\", circle.area())\n",
    "    print(\"Rectangle Area:\", rectangle.area())\n",
    "\n",
    "\"\"\"In this example:\n",
    "\n",
    "The Shape class is the base class that defines a method called area(). This method is marked with pass as a placeholder, and it will be implemented in the specific shape subclasses.\n",
    "\n",
    "The Circle class is a child class of Shape and has its own __init__ method to initialize the radius attribute. It overrides the area() method to calculate the area of a circle based on its radius.\n",
    "\n",
    "The Rectangle class is another child class of Shape and has its own __init__ method to initialize the width and height attributes. It overrides the area() method to calculate the area of a rectangle based on its width and height.\n",
    "\n",
    "In the usage examples, we create instances of both the Circle and Rectangle classes and calculate their respective areas using the area() method.\n",
    "\n",
    "This class hierarchy allows you to represent different shapes and calculate their areas with appropriate formulas for each shape.\n",
    "\"\"\""
   ]
  },
  {
   "cell_type": "markdown",
   "id": "51b92020",
   "metadata": {},
   "source": [
    "12. Explain the use of abstract base classes (ABCs) in Python and how they relate to inheritance. Provide an\n",
    "example using the `abc` module."
   ]
  },
  {
   "cell_type": "code",
   "execution_count": 23,
   "id": "44592ef4",
   "metadata": {},
   "outputs": [
    {
     "name": "stdout",
     "output_type": "stream",
     "text": [
      "Error: Can't instantiate abstract class Shape with abstract method area\n",
      "Circle Area: 78.53975\n",
      "Rectangle Area: 24\n",
      "Triangle Area: 6.0\n"
     ]
    }
   ],
   "source": [
    "\"\"\"Abstract Base Classes (ABCs) in Python are a way to define a blueprint for a class, specifying a set of methods that must be implemented by any concrete (subclass) class. ABCs provide a mechanism for ensuring that specific methods and attributes are present in derived classes, promoting consistency and enforcing certain behavior. They help you define a common interface that subclasses must adhere to, even if the implementation details vary.\n",
    "\n",
    "The abc module in Python is used to create and work with abstract base classes. You can define an ABC by subclassing the abc.ABC class and using the @abstractmethod decorator to mark methods as abstract, which means they must be implemented in concrete subclasses. When a subclass doesn't provide implementations for all abstract methods, Python will raise a TypeError at runtime.\"\"\"\n",
    "\n",
    "# Example:\n",
    "\n",
    "from abc import ABC, abstractmethod\n",
    "\n",
    "class Shape(ABC):\n",
    "    @abstractmethod\n",
    "    def area(self):\n",
    "        pass\n",
    "\n",
    "class Circle(Shape):\n",
    "    def __init__(self, radius):\n",
    "        self.radius = radius\n",
    "\n",
    "    def area(self):\n",
    "        return 3.14159 * self.radius * self.radius\n",
    "\n",
    "class Rectangle(Shape):\n",
    "    def __init__(self, width, height):\n",
    "        self.width = width\n",
    "        self.height = height\n",
    "\n",
    "    def area(self):\n",
    "        return self.width * self.height\n",
    "\n",
    "class Triangle(Shape):\n",
    "    def __init__(self, base, height):\n",
    "        self.base = base\n",
    "        self.height = height\n",
    "\n",
    "    def area(self):\n",
    "        return 0.5 * self.base * self.height\n",
    "\n",
    "# Try to create an instance of the abstract class (Shape)\n",
    "try:\n",
    "    shape = Shape()\n",
    "except TypeError as e:\n",
    "    print(f\"Error: {e}\")\n",
    "\n",
    "# Create instances of concrete subclasses\n",
    "circle = Circle(5)\n",
    "rectangle = Rectangle(4, 6)\n",
    "triangle = Triangle(3, 4)\n",
    "\n",
    "# Calculate and display areas\n",
    "print(\"Circle Area:\", circle.area())\n",
    "print(\"Rectangle Area:\", rectangle.area())\n",
    "print(\"Triangle Area:\", triangle.area())\n",
    "\n",
    "\"\"\"In this example:\n",
    "\n",
    "The Shape class is defined as an abstract base class (ABC) with an abstract method area(). This method must be implemented in concrete subclasses.\n",
    "\n",
    "The Circle, Rectangle, and Triangle classes are concrete subclasses of Shape. They each provide an implementation of the area() method as required by the abstract base class.\n",
    "\n",
    "We attempt to create an instance of the abstract class Shape, which results in a TypeError because abstract classes cannot be instantiated directly.\n",
    "\n",
    "We then create instances of the concrete subclasses, calculate and display their respective areas, demonstrating how the abstract base class Shape enforces a common interface for all shape subclasses.\"\"\"\n"
   ]
  },
  {
   "cell_type": "markdown",
   "id": "41c6b597",
   "metadata": {},
   "source": [
    "13. How can you prevent a child class from modifying certain attributes or methods inherited from a parent\n",
    "class in Python?"
   ]
  },
  {
   "cell_type": "code",
   "execution_count": 28,
   "id": "8a5f98c5",
   "metadata": {},
   "outputs": [
    {
     "ename": "ImportError",
     "evalue": "cannot import name 'final' from 'functools' (C:\\ProgramData\\anaconda3\\lib\\functools.py)",
     "output_type": "error",
     "traceback": [
      "\u001b[1;31m---------------------------------------------------------------------------\u001b[0m",
      "\u001b[1;31mImportError\u001b[0m                               Traceback (most recent call last)",
      "Cell \u001b[1;32mIn[28], line 29\u001b[0m\n\u001b[0;32m     20\u001b[0m         \u001b[38;5;28mself\u001b[39m\u001b[38;5;241m.\u001b[39m__private_method()  \u001b[38;5;66;03m# This will not work\u001b[39;00m\n\u001b[0;32m     22\u001b[0m \u001b[38;5;124;03m\"\"\"Final Methods:\u001b[39;00m\n\u001b[0;32m     23\u001b[0m \u001b[38;5;124;03m    \u001b[39;00m\n\u001b[0;32m     24\u001b[0m \u001b[38;5;124;03mIf you want to prevent child classes from overriding a method, you can use the @final decorator (Python 3.8+).\u001b[39;00m\n\u001b[0;32m     25\u001b[0m \u001b[38;5;124;03mThis decorator raises a TypeError if a child class attempts to override the final method.\u001b[39;00m\n\u001b[0;32m     26\u001b[0m \n\u001b[0;32m     27\u001b[0m \u001b[38;5;124;03m\"\"\"\u001b[39;00m\u001b[38;5;66;03m#Example:\u001b[39;00m\n\u001b[1;32m---> 29\u001b[0m \u001b[38;5;28;01mfrom\u001b[39;00m \u001b[38;5;21;01mfunctools\u001b[39;00m \u001b[38;5;28;01mimport\u001b[39;00m final\n\u001b[0;32m     31\u001b[0m \u001b[38;5;28;01mclass\u001b[39;00m \u001b[38;5;21;01mParent\u001b[39;00m:\n\u001b[0;32m     32\u001b[0m     \u001b[38;5;129m@final\u001b[39m\n\u001b[0;32m     33\u001b[0m     \u001b[38;5;28;01mdef\u001b[39;00m \u001b[38;5;21mfinal_method\u001b[39m(\u001b[38;5;28mself\u001b[39m):\n",
      "\u001b[1;31mImportError\u001b[0m: cannot import name 'final' from 'functools' (C:\\ProgramData\\anaconda3\\lib\\functools.py)"
     ]
    }
   ],
   "source": [
    "\"\"\"In Python, you can prevent a child class from modifying certain attributes or methods that are inherited from a parent class by following these approaches:\n",
    "\n",
    "Private Attributes and Methods:\n",
    "Prefix the attribute or method name with a double underscore (e.g., __attribute or __method) in the parent class. This makes them \"name-mangled\" and not directly accessible in the child class.\n",
    "Child classes can't directly modify or override these private attributes and methods, but they can define their own attributes and methods with the same names.\n",
    "\"\"\"\n",
    "#Example:\n",
    "class Parent:\n",
    "    def __init__(self):\n",
    "        self.__private_attr = 42\n",
    "\n",
    "    def __private_method(self):\n",
    "        pass\n",
    "\n",
    "class Child(Parent):\n",
    "    def access_private(self):\n",
    "        print(self.__private_attr)  # This will not work\n",
    "\n",
    "    def call_private_method(self):\n",
    "        self.__private_method()  # This will not work\n",
    "\n",
    "\"\"\"Final Methods:\n",
    "    \n",
    "If you want to prevent child classes from overriding a method, you can use the @final decorator (Python 3.8+).\n",
    "This decorator raises a TypeError if a child class attempts to override the final method.\n",
    "\n",
    "\"\"\"#Example:\n",
    "\n",
    "from functools import final\n",
    "\n",
    "class Parent:\n",
    "    @final\n",
    "    def final_method(self):\n",
    "        pass\n",
    "\n",
    "class Child(Parent):\n",
    "    def final_method(self):  # This will raise a TypeError\n",
    "        pass\n",
    "\n",
    "\"\"\"Use Documentation and Conventions:\n",
    "Document your code clearly, specifying which attributes and methods are intended to be non-modifiable in child classes.\n",
    "Follow naming conventions and use leading underscores to indicate that an attribute or method should be treated as \"protected\" and not modified by child classes, though this is not enforced by the language.\n",
    "It's important to note that Python doesn't provide a strict mechanism for making attributes or methods completely \"immutable\" in child classes. However, the techniques mentioned above can discourage modification and clarify the intended use of attributes and methods in your code. Additionally, adhering to good documentation and naming conventions can help communicate your design intentions to other developers working with your code.\"\"\""
   ]
  },
  {
   "cell_type": "markdown",
   "id": "a3c8f920",
   "metadata": {},
   "source": [
    "14. Create a Python class called `Employee` with attributes `name` and `salary`. Then, create a child class\n",
    "`Manager` that inherits from `Employee` and adds an attribute `department`. Provide an example."
   ]
  },
  {
   "cell_type": "code",
   "execution_count": 31,
   "id": "69020727",
   "metadata": {},
   "outputs": [
    {
     "name": "stdout",
     "output_type": "stream",
     "text": [
      "Name: Vikas\n",
      "Salary: 60000\n",
      "Department: Software Engineer\n"
     ]
    },
    {
     "data": {
      "text/plain": [
       "\"The Employee class defines a constructor (__init__) that initializes the name and salary attributes.\\n\\nThe Manager class is a child class of Employee and has its own constructor that takes name, salary, and department. In the constructor, it first calls the constructor of the base class using super().__init__ to initialize name and salary, and then it initializes the department attribute.\\n\\nThe display_info method is used to display the information of a manager, which includes the name, salary, and department attributes.\\n\\nWe create a Manager object named manager1, which has attributes from both the Employee base class and the Manager subclass.\\n\\nWe call the display_info method to print the manager's information, including their name, salary, and department.\\n\\nThis class hierarchy allows you to represent both basic employees and managers with additional department information, making it possible to store and display information specific to each role.\""
      ]
     },
     "execution_count": 31,
     "metadata": {},
     "output_type": "execute_result"
    }
   ],
   "source": [
    "class Employee:\n",
    "    def __init__(self, name, salary):\n",
    "        self.name = name\n",
    "        self.salary = salary\n",
    "\n",
    "class Manager(Employee):\n",
    "    def __init__(self, name, salary, department):\n",
    "        super().__init__(name, salary)  # Call the constructor of the base class\n",
    "        self.department = department\n",
    "\n",
    "    def display_info(self):\n",
    "        print(\"Name:\", self.name)\n",
    "        print(\"Salary:\", self.salary)\n",
    "        print(\"Department:\", self.department)\n",
    "\n",
    "# Create a Manager object\n",
    "manager1 = Manager(\"Vikas\", 60000, \"Software Engineer\")\n",
    "\n",
    "# Display manager information\n",
    "manager1.display_info()\n",
    "\n",
    "\"\"\"The Employee class defines a constructor (__init__) that initializes the name and salary attributes.\n",
    "\n",
    "The Manager class is a child class of Employee and has its own constructor that takes name, salary, and department. In the constructor, it first calls the constructor of the base class using super().__init__ to initialize name and salary, and then it initializes the department attribute.\n",
    "\n",
    "The display_info method is used to display the information of a manager, which includes the name, salary, and department attributes.\n",
    "\n",
    "We create a Manager object named manager1, which has attributes from both the Employee base class and the Manager subclass.\n",
    "\n",
    "We call the display_info method to print the manager's information, including their name, salary, and department.\n",
    "\n",
    "This class hierarchy allows you to represent both basic employees and managers with additional department information, making it possible to store and display information specific to each role.\"\"\"\n"
   ]
  },
  {
   "cell_type": "markdown",
   "id": "0474ac11",
   "metadata": {},
   "source": [
    "15. Discuss the concept of method overloading in Python inheritance. How does it differ from method\n",
    "overriding?"
   ]
  },
  {
   "cell_type": "code",
   "execution_count": 34,
   "id": "a0770459",
   "metadata": {},
   "outputs": [
    {
     "ename": "TypeError",
     "evalue": "Calculator.add() missing 1 required positional argument: 'c'",
     "output_type": "error",
     "traceback": [
      "\u001b[1;31m---------------------------------------------------------------------------\u001b[0m",
      "\u001b[1;31mTypeError\u001b[0m                                 Traceback (most recent call last)",
      "Cell \u001b[1;32mIn[34], line 21\u001b[0m\n\u001b[0;32m     18\u001b[0m         \u001b[38;5;28;01mreturn\u001b[39;00m a \u001b[38;5;241m+\u001b[39m b \u001b[38;5;241m+\u001b[39m c\n\u001b[0;32m     20\u001b[0m calc \u001b[38;5;241m=\u001b[39m Calculator()\n\u001b[1;32m---> 21\u001b[0m result1 \u001b[38;5;241m=\u001b[39m \u001b[43mcalc\u001b[49m\u001b[38;5;241;43m.\u001b[39;49m\u001b[43madd\u001b[49m\u001b[43m(\u001b[49m\u001b[38;5;241;43m1\u001b[39;49m\u001b[43m,\u001b[49m\u001b[43m \u001b[49m\u001b[38;5;241;43m2\u001b[39;49m\u001b[43m)\u001b[49m\n\u001b[0;32m     22\u001b[0m result2 \u001b[38;5;241m=\u001b[39m calc\u001b[38;5;241m.\u001b[39madd(\u001b[38;5;241m1\u001b[39m, \u001b[38;5;241m2\u001b[39m, \u001b[38;5;241m3\u001b[39m)\n\u001b[0;32m     25\u001b[0m \u001b[38;5;124;03m\"\"\"In this example, the second add method overwrites the first one, so only the second version is available.\u001b[39;00m\n\u001b[0;32m     26\u001b[0m \n\u001b[0;32m     27\u001b[0m \u001b[38;5;124;03mMethod Overriding:\u001b[39;00m\n\u001b[1;32m   (...)\u001b[0m\n\u001b[0;32m     31\u001b[0m \u001b[38;5;124;03mExample of method overriding:\u001b[39;00m\n\u001b[0;32m     32\u001b[0m \u001b[38;5;124;03m\"\"\"\u001b[39;00m\n",
      "\u001b[1;31mTypeError\u001b[0m: Calculator.add() missing 1 required positional argument: 'c'"
     ]
    }
   ],
   "source": [
    "\"\"\"Method overloading and method overriding are related concepts in object-oriented programming, and they serve different purposes in Python inheritance:\n",
    "\n",
    "Method Overloading:\n",
    "Method overloading refers to the ability to define multiple methods in the same class with the same name but different parameter lists. \n",
    "The choice of which method to call is based on the number and types of arguments passed.\n",
    "In Python, method overloading is not directly supported, as it doesn't consider the number or types of arguments to distinguish between methods with the same name. \n",
    "The latest method defined with a given name overwrites any previously defined methods.\n",
    "Python's approach to method overloading is to allow a single method to accept variable numbers of arguments or keyword arguments using features like *args and **kwargs. \n",
    "This provides flexibility but not true method overloading based on parameter types.\"\"\"\n",
    "\n",
    "# Example:\n",
    "\n",
    "class Calculator:\n",
    "    def add(self, a, b):\n",
    "        return a + b\n",
    "\n",
    "    def add(self, a, b, c):\n",
    "        return a + b + c\n",
    "\n",
    "calc = Calculator()\n",
    "result1 = calc.add(1, 2)\n",
    "result2 = calc.add(1, 2, 3)\n",
    "\n",
    "\n",
    "\"\"\"In this example, the second add method overwrites the first one, so only the second version is available.\n",
    "\n",
    "Method Overriding:\n",
    "Method overriding occurs when a subclass provides a specific implementation for a method that is already defined in its parent class (base class). This allows the subclass to change the behavior of the method while keeping the same method name.\n",
    "Method overriding is a fundamental concept in inheritance, and it is used to achieve polymorphism, where different classes can provide their own implementations of a common method.\n",
    "In Python, method overriding is accomplished by defining a method with the same name and the same parameters in a child class as it is in the parent class.\n",
    "Example of method overriding:\n",
    "\"\"\"\n",
    "\n",
    "class Shape:\n",
    "    def area(self):\n",
    "        pass\n",
    "\n",
    "class Circle(Shape):\n",
    "    def area(self):\n",
    "        return 3.14159 * self.radius * self.radius\n",
    "\n",
    "class Rectangle(Shape):\n",
    "    def area(self):\n",
    "        return self.width * self.height\n",
    "\n",
    "\"\"\"In this example, both Circle and Rectangle classes override the area method inherited from the Shape class to provide their own implementations.\n",
    "\n",
    "In summary, method overloading is the ability to define multiple methods with the same name in a class, based on the number and types of arguments. \n",
    "Method overriding is the ability of a subclass to provide its own implementation of a method inherited from a parent class, using the same method name. \n",
    "Python directly supports method overriding but does not directly support method overloading based on argument types. Instead, \n",
    "variable arguments and keyword arguments are commonly used to achieve flexibility in method parameter handling.\"\"\""
   ]
  },
  {
   "cell_type": "markdown",
   "id": "4fd55bb6",
   "metadata": {},
   "source": [
    "16. Explain the purpose of the `__init__()` method in Python inheritance and how it is utilized in child classes."
   ]
  },
  {
   "cell_type": "raw",
   "id": "8299873f",
   "metadata": {},
   "source": [
    "The __init__() method in Python is a special method, also known as a constructor, that plays a crucial role in initializing objects when they are created from a class. \n",
    "It is utilized in child classes as well as parent classes in the context of inheritance.\n",
    "\n",
    "Here's an explanation of the purpose of the __init__() method and how it is used in child classes:\n",
    "\n",
    "Purpose of __init__() Method:\n",
    "\n",
    "The __init__() method is used to initialize the attributes (properties or data) of an object when it is created.\n",
    "It is the constructor method for a class, and it is automatically called when an object is instantiated from that class.\n",
    "The __init__() method allows you to set the initial state or values of an object's attributes, and it can take arguments to customize the initialization based on the specific instance being created.\n",
    "You can also perform additional setup tasks, resource allocation, or validation inside the __init__() method.\n",
    "Utilization in Child Classes:\n",
    "\n",
    "Inheritance allows child classes to inherit attributes and methods from their parent classes. This includes inheriting the __init__() method.\n",
    "A child class can have its own __init__() method, in addition to inheriting the __init__() method from the parent class.\n",
    "When the child class defines its own __init__() method, it can use the super() function to call the __init__() method of the parent class, allowing it to perform the necessary initialization for attributes inherited from the parent class.\n",
    "Child classes can also add new attributes or customize the initialization process by including additional parameters or statements in their __init__() method."
   ]
  },
  {
   "cell_type": "markdown",
   "id": "87a88170",
   "metadata": {},
   "source": [
    "17. Create a Python class called `Bird` with a method `fly()`. Then, create child classes `Eagle` and `Sparrow` that inherit from `Bird` and implement the `fly()` method differently. Provide an example of using these\n",
    "classes."
   ]
  },
  {
   "cell_type": "code",
   "execution_count": 36,
   "id": "514632d7",
   "metadata": {},
   "outputs": [
    {
     "name": "stdout",
     "output_type": "stream",
     "text": [
      "Eagle: Eagles can fly at high altitudes.\n",
      "Sparrow: Sparrows can fly swiftly and gracefully.\n"
     ]
    }
   ],
   "source": [
    "class Bird:\n",
    "    def fly(self):\n",
    "        return \"Birds can fly.\"\n",
    "\n",
    "class Eagle(Bird):\n",
    "    def fly(self):\n",
    "        return \"Eagles can fly at high altitudes.\"\n",
    "\n",
    "class Sparrow(Bird):\n",
    "    def fly(self):\n",
    "        return \"Sparrows can fly swiftly and gracefully.\"\n",
    "\n",
    "# Create instances of the child classes\n",
    "eagle = Eagle()\n",
    "sparrow = Sparrow()\n",
    "\n",
    "# Demonstrate the different flying capabilities\n",
    "print(\"Eagle:\", eagle.fly())\n",
    "print(\"Sparrow:\", sparrow.fly())\n"
   ]
  },
  {
   "cell_type": "markdown",
   "id": "5cdd566a",
   "metadata": {},
   "source": [
    "18. What is the \"diamond problem\" in multiple inheritance, and how does Python address it?"
   ]
  },
  {
   "cell_type": "raw",
   "id": "430d5470",
   "metadata": {},
   "source": [
    "The \"diamond problem\" is a common issue that can arise in languages that support multiple inheritance, where a class inherits from two or more classes that have a common ancestor. This can lead to ambiguity in method resolution, making it unclear which method should be called when a method with the same name is invoked on the derived class. The diamond problem can result in conflicts and unpredictable behavior in the inheritance hierarchy.\n",
    "\n",
    "Python addresses the diamond problem using a method resolution order (MRO) algorithm that ensures a consistent and predictable order in which base classes are searched when a method is invoked on a derived class. Python's MRO is designed to follow the C3 Linearization algorithm, which provides a well-defined and predictable order for method resolution.\n",
    "\n",
    "In Python, you can use the super() function to call a method in the parent class, and the MRO determines which class's method is invoked. When multiple inheritance is involved, super() follows the MRO to select the appropriate class's method based on the order defined by the C3 Linearization algorithm.\n",
    "\n",
    "# Example:\n",
    "\n",
    "class A:\n",
    "    def method(self):\n",
    "        print(\"Method in A\")\n",
    "\n",
    "class B(A):\n",
    "    def method(self):\n",
    "        super().method()\n",
    "        print(\"Method in B\")\n",
    "\n",
    "class C(A):\n",
    "    def method(self):\n",
    "        super().method()\n",
    "        print(\"Method in C\")\n",
    "\n",
    "class D(B, C):\n",
    "    def method(self):\n",
    "        super().method()\n",
    "        print(\"Method in D\")\n",
    "\n",
    "d = D()\n",
    "d.method()\n",
    "\n",
    "\n",
    "In this example, D inherits from both B and C, which inherit from A. When d.method() is called, the MRO ensures that the methods are invoked in a consistent order: \"Method in A,\" \"Method in C,\" \"Method in B,\" and finally, \"Method in D.\" Python's MRO provides a well-defined order to address the diamond problem and ensure method resolution is predictable."
   ]
  },
  {
   "cell_type": "markdown",
   "id": "c657a5a9",
   "metadata": {},
   "source": [
    "19. Discuss the concept of \"is-a\" and \"has-a\" relationships in inheritance, and provide examples of each."
   ]
  },
  {
   "cell_type": "raw",
   "id": "89bea428",
   "metadata": {},
   "source": [
    "In object-oriented programming and inheritance, \"is-a\" and \"has-a\" relationships describe the relationships between classes and how they are related to one another. These concepts help define the inheritance and composition relationships in a class hierarchy.\n",
    "\n",
    "1. \"Is-a\" Relationship (Inheritance):\n",
    "\n",
    "An \"is-a\" relationship is also known as a \"generalization\" relationship and is typically implemented using inheritance. It signifies that a subclass is a specialized version of a superclass. In other words, a subclass \"is-a\" superclass.\n",
    "Inheritance allows the child class to inherit attributes and behaviors from the parent class, making it a more specific or specialized type.\n",
    "For example, if you have a class hierarchy with a base class Vehicle and derived classes Car and Bicycle, you can say that a Car \"is-a\" Vehicle and a Bicycle \"is-a\" Vehicle.\n",
    "\n",
    "class Vehicle:\n",
    "    pass\n",
    "\n",
    "class Car(Vehicle):\n",
    "    pass\n",
    "\n",
    "class Bicycle(Vehicle):\n",
    "    pass\n",
    "\n",
    "\n",
    "2. \"Has-a\" Relationship (Composition):\n",
    "\n",
    "A \"has-a\" relationship represents a class that contains or is composed of another class. It signifies that an object of one class \"has\" or \"contains\" objects of another class.\n",
    "Composition allows for building complex objects by combining simpler objects. It promotes code reuse and modularity.\n",
    "For example, you might have a class Car that \"has-a\" Engine and \"has-a\" Tire. This means that a Car contains objects of the Engine and Tire classes. \n",
    "\n",
    "class Engine:\n",
    "    pass\n",
    "\n",
    "class Tire:\n",
    "    pass\n",
    "\n",
    "class Car:\n",
    "    def __init__(self):\n",
    "        self.engine = Engine()\n",
    "        self.tires = [Tire() for _ in range(4)]\n",
    "\n",
    "        \n",
    "Examples illustrating both \"is-a\" and \"has-a\" relationships:\n",
    "\n",
    "\"Is-a\" Relationship (Inheritance):\n",
    "    \n",
    "class Animal:\n",
    "    def speak(self):\n",
    "        pass\n",
    "\n",
    "class Dog(Animal):\n",
    "    def speak(self):\n",
    "        return \"Woof!\"\n",
    "\n",
    "class Cat(Animal):\n",
    "    def speak(self):\n",
    "        return \"Meow!\"\n",
    "\n",
    "\n",
    "In this example, Dog and Cat are subclasses of Animal. A Dog \"is-a\" Animal, and a Cat \"is-a\" Animal. Both Dog and Cat inherit the speak() method from Animal and provide their own implementations.\n",
    "\n",
    "\"Has-a\" Relationship (Composition):\n",
    "\n",
    "class Engine:\n",
    "    def start(self):\n",
    "        return \"Engine started\"\n",
    "\n",
    "class Car:\n",
    "    def __init__(self):\n",
    "        self.engine = Engine()\n",
    "\n",
    "    def start_engine(self):\n",
    "        return self.engine.start()\n",
    "\n",
    "\n",
    "In this example, a Car \"has-a\" Engine. The Car class contains an instance of the Engine class. The Car object delegates the start_engine() method to the contained Engine object.\n",
    "\n",
    "Understanding these relationships is essential when designing class hierarchies and object-oriented systems, as it helps you model real-world concepts accurately and structure your code effectively.\n"
   ]
  },
  {
   "cell_type": "markdown",
   "id": "c047becb",
   "metadata": {},
   "source": [
    "20. Create a Python class hierarchy for a university system. Start with a base class `Person` and create child\n",
    "classes `Student` and `Professor`, each with their own attributes and methods. Provide an example of using\n",
    "these classes in a university context."
   ]
  },
  {
   "cell_type": "code",
   "execution_count": 39,
   "id": "2b486433",
   "metadata": {},
   "outputs": [
    {
     "name": "stdout",
     "output_type": "stream",
     "text": [
      "Student Info: Name: Alice, Age: 20\n",
      "Alice is studying Computer Science\n",
      "Professor Info: Name: Dr. Smith, Age: 40\n",
      "Dr. Smith is teaching Data Structures\n"
     ]
    }
   ],
   "source": [
    "class Person:\n",
    "    def __init__(self, name, age):\n",
    "        self.name = name\n",
    "        self.age = age\n",
    "\n",
    "    def introduce(self):\n",
    "        return f\"Name: {self.name}, Age: {self.age}\"\n",
    "\n",
    "class Student(Person):\n",
    "    def __init__(self, name, age, student_id, major):\n",
    "        super().__init__(name, age)\n",
    "        self.student_id = student_id\n",
    "        self.major = major\n",
    "\n",
    "    def study(self):\n",
    "        return f\"{self.name} is studying {self.major}\"\n",
    "\n",
    "class Professor(Person):\n",
    "    def __init__(self, name, age, employee_id, department):\n",
    "        super().__init__(name, age)\n",
    "        self.employee_id = employee_id\n",
    "        self.department = department\n",
    "\n",
    "    def teach(self, subject):\n",
    "        return f\"{self.name} is teaching {subject}\"\n",
    "\n",
    "# Create instances of the classes\n",
    "student1 = Student(\"Alice\", 20, \"S12345\", \"Computer Science\")\n",
    "professor1 = Professor(\"Dr. Smith\", 40, \"P98765\", \"Computer Science\")\n",
    "\n",
    "# Use the methods to represent their roles\n",
    "print(\"Student Info:\", student1.introduce())\n",
    "print(student1.study())\n",
    "\n",
    "print(\"Professor Info:\", professor1.introduce())\n",
    "print(professor1.teach(\"Data Structures\"))\n"
   ]
  },
  {
   "cell_type": "markdown",
   "id": "fdabedd4",
   "metadata": {},
   "source": [
    "# Encapsulation:"
   ]
  },
  {
   "cell_type": "raw",
   "id": "7ea001f2",
   "metadata": {},
   "source": [
    "1. Explain the concept of encapsulation in Python. What is its role in object-oriented programming?"
   ]
  },
  {
   "cell_type": "raw",
   "id": "d4ba24bf",
   "metadata": {},
   "source": [
    "Encapsulation is one of the fundamental principles of object-oriented programming (OOP), and it plays a crucial role in organizing and protecting the internal state of objects. It involves the bundling of data (attributes) and the methods (functions) that operate on that data into a single unit called a class. The main purposes of encapsulation are:\n",
    "\n",
    "Data Hiding: Encapsulation hides the internal details and state of an object from the outside. It allows the object to have control over who can access its attributes and how they can be modified. This is achieved by defining attributes as private, protected, or public.\n",
    "\n",
    "Abstraction: Encapsulation provides an abstract interface for interacting with objects. This means that you can use an object without needing to know the complex details of how it is implemented. You interact with the object through well-defined methods.\n",
    "\n",
    "Modularity: Encapsulation promotes modularity by encapsulating related data and behavior into a single unit (the class). This makes it easier to manage and maintain code since each class is responsible for a specific aspect of the system.\n",
    "\n",
    "In Python, encapsulation is implemented using the following mechanisms:\n",
    "\n",
    "Private Attributes: By convention, attributes that are intended to be private are prefixed with a single underscore (e.g., _attribute). This signals to other developers that they should not access these attributes directly. While this is a convention and not a strict access control mechanism, it serves as a way to indicate the intention of encapsulation.\n",
    "\n",
    "Getter and Setter Methods: Encapsulation is often achieved by providing public methods (getter and setter methods) that allow controlled access to attributes. Getter methods retrieve the values of attributes, and setter methods modify them. These methods can include validation logic to ensure that attribute values are used appropriately."
   ]
  },
  {
   "cell_type": "markdown",
   "id": "b17cb66d",
   "metadata": {},
   "source": [
    "2. Describe the key principles of encapsulation, including access control and data hiding."
   ]
  },
  {
   "cell_type": "raw",
   "id": "cb2649e2",
   "metadata": {},
   "source": [
    "Encapsulation is a fundamental concept in object-oriented programming (OOP) that helps in designing and implementing classes and objects. It encompasses several key principles, including access control and data hiding:\n",
    "\n",
    "Access Control:\n",
    "\n",
    "Access control refers to the mechanisms that determine how and where attributes (data) and methods (functions) of a class can be accessed from within and outside the class.\n",
    "In OOP languages like Python, access control is typically achieved using access modifiers that specify the visibility and accessibility of class members (attributes and methods). The common access modifiers are:\n",
    "Public (default): Members are accessible from anywhere, both within and outside the class.\n",
    "Protected: Members are accessible within the class and its subclasses (inheritors), but not from outside.\n",
    "Private: Members are accessible only within the class where they are defined and are not accessible from outside.\n",
    "Data Hiding:\n",
    "\n",
    "Data hiding is the practice of making the internal state (attributes) of an object private, so that it cannot be directly accessed from outside the class.\n",
    "This is important for maintaining the integrity and consistency of an object's state. It prevents external code from accidentally or maliciously modifying an object's data in undesirable ways.\n",
    "In Python, data hiding is conventionally achieved by prefixing attribute names with an underscore (e.g., _attribute) to signal that they are meant to be private. However, this is more of a naming convention than a strict access control mechanism, as Python does not enforce access control like some other languages.\n",
    "The key principles of encapsulation, including access control and data hiding, promote the following benefits:\n",
    "\n",
    "Modularity: Encapsulation helps in modularizing the code by grouping related attributes and methods within a class. This modularity enhances code organization and makes it easier to understand and maintain.\n",
    "\n",
    "Abstraction: By providing a well-defined interface (public methods) for interacting with an object, encapsulation abstracts away the internal details. This allows users of the class to use objects without needing to understand their internal workings.\n",
    "\n",
    "Security and Integrity: Encapsulation prevents unauthorized access and modification of an object's internal state, ensuring the security and integrity of the data.\n",
    "\n",
    "Flexibility and Maintenance: Encapsulation allows for changes to the internal implementation of a class without affecting the code that uses the class. This promotes code flexibility and ease of maintenance.\n",
    "\n",
    "Reusability: Encapsulated classes can be reused in different parts of the code or in different projects, as they provide a consistent and well-defined interface.\n",
    "\n",
    "In summary, encapsulation is a crucial OOP concept that helps in designing classes and objects by controlling access to their internal state and promoting data hiding, modularity, and abstraction. While Python provides mechanisms for encapsulation, it also relies on developers to follow conventions for access control, making it a flexible and developer-friendly language."
   ]
  },
  {
   "cell_type": "markdown",
   "id": "d70b0eba",
   "metadata": {},
   "source": [
    "3. How can you achieve encapsulation in Python classes? Provide an example."
   ]
  },
  {
   "cell_type": "code",
   "execution_count": 43,
   "id": "fef8134b",
   "metadata": {},
   "outputs": [
    {
     "name": "stdout",
     "output_type": "stream",
     "text": [
      "Student Name: Vikas\n",
      "Student Age: 21\n"
     ]
    },
    {
     "data": {
      "text/plain": [
       "'In this example:\\n\\nThe Student class has protected attributes _name and _age.\\n\\nGetter and setter methods (get_name(), set_name(), get_age(), and set_age()) are provided to access and modify these attributes.\\n\\nThe getter and setter methods include validation logic to ensure that attribute values meet specific criteria.'"
      ]
     },
     "execution_count": 43,
     "metadata": {},
     "output_type": "execute_result"
    }
   ],
   "source": [
    "\"\"\"Encapsulation in Python classes can be achieved through a combination of access modifiers and getter and setter methods. While Python doesn't have strict access control like some other languages, it follows naming conventions and provides mechanisms to control access to class attributes. Here's how to achieve encapsulation in Python:\n",
    "\n",
    "Access Modifiers:\n",
    "\n",
    "By convention, attributes intended to be private are prefixed with a single underscore (e.g., _attribute). This serves as a signal to other developers that the attribute should not be accessed directly.\n",
    "Attributes that are intended to be protected can be prefixed with a double underscore (e.g., __attribute). This invokes name mangling, making the attribute less accessible from outside the class.\n",
    "Getter and Setter Methods:\n",
    "\n",
    "Provide public methods (getter and setter methods) to access and modify attributes. These methods control how attributes are accessed and modified, often including validation logic.\n",
    "\"\"\"\n",
    "\n",
    "# Example:\n",
    "\n",
    "class Student:\n",
    "    def __init__(self, name, age):\n",
    "        self._name = name  # Protected attribute\n",
    "        self._age = age  # Protected attribute\n",
    "\n",
    "    # Getter method for name\n",
    "    def get_name(self):\n",
    "        return self._name\n",
    "\n",
    "    # Setter method for name\n",
    "    def set_name(self, name):\n",
    "        if isinstance(name, str):\n",
    "            self._name = name\n",
    "        else:\n",
    "            print(\"Name must be a string.\")\n",
    "\n",
    "    # Getter method for age\n",
    "    def get_age(self):\n",
    "        return self._age\n",
    "\n",
    "    # Setter method for age\n",
    "    def set_age(self, age):\n",
    "        if isinstance(age, int) and 0 <= age <= 120:\n",
    "            self._age = age\n",
    "        else:\n",
    "            print(\"Age must be an integer between 0 and 120.\")\n",
    "\n",
    "# Create a Student object\n",
    "student = Student(\"Vikas\", 20)\n",
    "\n",
    "# Access and modify attributes through getter and setter methods\n",
    "name = student.get_name()\n",
    "print(f\"Student Name: {name}\")\n",
    "\n",
    "student.set_age(21)\n",
    "age = student.get_age()\n",
    "print(f\"Student Age: {age}\")\n",
    "\n",
    "\"\"\"In this example:\n",
    "\n",
    "The Student class has protected attributes _name and _age.\n",
    "\n",
    "Getter and setter methods (get_name(), set_name(), get_age(), and set_age()) are provided to access and modify these attributes.\n",
    "\n",
    "The getter and setter methods include validation logic to ensure that attribute values meet specific criteria.\"\"\"\n"
   ]
  },
  {
   "cell_type": "markdown",
   "id": "f0922653",
   "metadata": {},
   "source": [
    "4. Discuss the difference between public, private, and protected access modifiers in Python."
   ]
  },
  {
   "cell_type": "raw",
   "id": "59ae23d1",
   "metadata": {},
   "source": [
    "In Python, access modifiers are not enforced as strictly as in some other programming languages like Java or C++. Instead, Python follows a naming convention to signal the level of visibility and accessibility of attributes and methods. There are three common access modifiers in Python:\n",
    "\n",
    "Public (No Prefix):\n",
    "\n",
    "In Python, attributes and methods without any prefix (e.g., attribute or method()) are considered public by convention.\n",
    "Public attributes and methods can be accessed from anywhere, both within and outside the class.\n",
    "Protected (Single Underscore Prefix - _):\n",
    "\n",
    "Attributes and methods with a single underscore prefix (e.g., _attribute or _method()) are considered protected by convention.\n",
    "Protected attributes and methods should be treated as non-public parts of the API. They are intended for internal use or for use by subclasses (inheritors).\n",
    "While Python does not enforce protection strictly, it serves as a signal to other developers that these attributes or methods should not be accessed directly from outside the class.\n",
    "Private (Double Underscore Prefix - __):\n",
    "\n",
    "Attributes and methods with a double underscore prefix (e.g., __attribute or __method()) are considered private by convention.\n",
    "Private attributes and methods should not be accessed or modified from outside the class. Python invokes a name mangling mechanism, which slightly changes the name of these attributes to make them less accessible. For example, __attribute becomes _classname__attribute.\n",
    "While this makes the attribute less accessible, it's still technically possible to access it, but it's discouraged.\n",
    "\n",
    "\n",
    "\"\"\"class MyClass:\n",
    "    def __init__(self):\n",
    "        self.public_attribute = \"I'm public\"\n",
    "        self._protected_attribute = \"I'm protected\"\n",
    "        self.__private_attribute = \"I'm private\"\n",
    "\n",
    "    def public_method(self):\n",
    "        return \"This is a public method\"\n",
    "\n",
    "    def _protected_method(self):\n",
    "        return \"This is a protected method\"\n",
    "\n",
    "    def __private_method(self):\n",
    "        return \"This is a private method\"\n",
    "\n",
    "# Create an instance of MyClass\n",
    "obj = MyClass()\n",
    "\n",
    "# Access attributes and methods\n",
    "print(obj.public_attribute)  # Public attribute - accessible\n",
    "print(obj._protected_attribute)  # Protected attribute - accessible but discouraged\n",
    "# Accessing the private attribute will not work directly due to name mangling\n",
    "# Accessing the private method will also not work directly due to name mangling\n",
    "\n",
    "# Accessing private attributes and methods using name mangling\n",
    "print(obj._MyClass__private_attribute)  # Access through name mangling\n",
    "print(obj._MyClass__private_method())  # Access through name mangling\n",
    "\"\"\"\n",
    "\n",
    "In this example:\n",
    "\n",
    "public_attribute and public_method() are public and accessible directly.\n",
    "\n",
    "_protected_attribute and _protected_method() are considered protected and can be accessed, but it's discouraged.\n",
    "\n",
    "__private_attribute and __private_method() are considered private and are subject to name mangling, making direct access less convenient. It's not recommended to access private members directly.\n",
    "\n"
   ]
  },
  {
   "cell_type": "markdown",
   "id": "2f57f44b",
   "metadata": {},
   "source": [
    "5. Create a Python class called `Person` with a private attribute `__name`. Provide methods to get and set the\n",
    "name attribute."
   ]
  },
  {
   "cell_type": "code",
   "execution_count": 45,
   "id": "1747cea1",
   "metadata": {},
   "outputs": [
    {
     "name": "stdout",
     "output_type": "stream",
     "text": [
      "Current Name: Vikas\n",
      "New Name: Kumar\n",
      "Name must be a string.\n"
     ]
    }
   ],
   "source": [
    "class Person:\n",
    "    def __init__(self, name):\n",
    "        self.__name = name  # Private attribute\n",
    "\n",
    "    def get_name(self):\n",
    "        return self.__name\n",
    "\n",
    "    def set_name(self, name):\n",
    "        if isinstance(name, str):\n",
    "            self.__name = name\n",
    "        else:\n",
    "            print(\"Name must be a string.\")\n",
    "\n",
    "# Create a Person object\n",
    "person = Person(\"Vikas\")\n",
    "\n",
    "# Access and modify the name attribute through getter and setter methods\n",
    "current_name = person.get_name()\n",
    "print(f\"Current Name: {current_name}\")\n",
    "\n",
    "person.set_name(\"Kumar\")\n",
    "new_name = person.get_name()\n",
    "print(f\"New Name: {new_name}\")\n",
    "\n",
    "# Try setting an invalid name\n",
    "person.set_name(123)  # This should display the error message\n"
   ]
  },
  {
   "cell_type": "markdown",
   "id": "434b202f",
   "metadata": {},
   "source": [
    "6. Explain the purpose of getter and setter methods in encapsulation. Provide examples."
   ]
  },
  {
   "cell_type": "code",
   "execution_count": 46,
   "id": "914fd5cf",
   "metadata": {},
   "outputs": [
    {
     "name": "stdout",
     "output_type": "stream",
     "text": [
      "Age must be an integer between 0 and 120.\n",
      "Name must be a string.\n",
      "Initial Area: 78.5\n",
      "Modified Area: 28.259999999999998\n",
      "Radius must be a positive value.\n"
     ]
    }
   ],
   "source": [
    "\"\"\"Getter and setter methods, also known as accessors and mutators, are essential components of encapsulation in object-oriented programming. They serve the following purposes:\n",
    "\n",
    "Controlled Access: Getter and setter methods provide controlled access to an object's attributes. They allow you to read (get) and modify (set) attribute values while enforcing any validation or business logic associated with these operations.\n",
    "\n",
    "Data Validation: You can include validation checks within setter methods to ensure that the new value being set for an attribute adheres to specific criteria. This helps maintain data integrity and prevents the object's internal state from becoming inconsistent.\n",
    "\n",
    "Flexibility: By using getter and setter methods, you can change the internal representation of an attribute (e.g., converting units, formatting, or performing calculations) without affecting the code that uses the object. This promotes flexibility and reduces the risk of unintended side effects.\n",
    "\n",
    "Abstraction: Encapsulation and the use of getter and setter methods create an abstract interface to interact with an object, hiding the implementation details. This abstract interface simplifies the usage of objects and makes the code more understandable and maintainable.\n",
    "\n",
    "Security: Getter and setter methods allow you to control and restrict access to an object's attributes. This can be important for security and access control, particularly when dealing with sensitive data.\"\"\"\n",
    "\n",
    "# Example1: Data Validation\n",
    "class Student:\n",
    "    def __init__(self, name, age):\n",
    "        self._name = name  # Protected attribute\n",
    "        self._age = age  # Protected attribute\n",
    "\n",
    "    # Getter method for name\n",
    "    def get_name(self):\n",
    "        return self._name\n",
    "\n",
    "    # Setter method for name with validation\n",
    "    def set_name(self, name):\n",
    "        if isinstance(name, str):\n",
    "            self._name = name\n",
    "        else:\n",
    "            print(\"Name must be a string.\")\n",
    "\n",
    "    # Getter method for age\n",
    "    def get_age(self):\n",
    "        return self._age\n",
    "\n",
    "    # Setter method for age with validation\n",
    "    def set_age(self, age):\n",
    "        if isinstance(age, int) and 0 <= age <= 120:\n",
    "            self._age = age\n",
    "        else:\n",
    "            print(\"Age must be an integer between 0 and 120.\")\n",
    "\n",
    "# Create a Student object\n",
    "student = Student(\"Alice\", 20)\n",
    "\n",
    "# Try to set an invalid age\n",
    "student.set_age(150)  # This will display an error message\n",
    "\n",
    "# Try to set an invalid name\n",
    "student.set_name(123)  # This will display an error message\n",
    "\n",
    "# Example 2: Abstraction\n",
    "\n",
    "class Circle:\n",
    "    def __init__(self, radius):\n",
    "        self.radius = radius\n",
    "\n",
    "    def get_area(self):\n",
    "        return 3.14 * self.radius * self.radius\n",
    "\n",
    "    def set_radius(self, radius):\n",
    "        if radius > 0:\n",
    "            self.radius = radius\n",
    "        else:\n",
    "            print(\"Radius must be a positive value.\")\n",
    "\n",
    "# Create a Circle object\n",
    "circle = Circle(5)\n",
    "\n",
    "# Access and modify the radius through getter and setter methods\n",
    "print(\"Initial Area:\", circle.get_area())\n",
    "\n",
    "circle.set_radius(3)\n",
    "print(\"Modified Area:\", circle.get_area())\n",
    "\n",
    "circle.set_radius(-1)  # This will display an error message\n"
   ]
  },
  {
   "cell_type": "markdown",
   "id": "524d5ba9",
   "metadata": {},
   "source": [
    "7. What is name mangling in Python, and how does it affect encapsulation?"
   ]
  },
  {
   "cell_type": "raw",
   "id": "6ceb6e52",
   "metadata": {},
   "source": [
    "Name mangling in Python is a mechanism used to make class attributes that are prefixed with a double underscore (__attribute) less accessible from outside the class. It affects encapsulation by slightly altering the name of the attribute, effectively \"hiding\" it from direct access. The purpose of name mangling is to provide a limited form of attribute protection, making it more difficult to accidentally override or access private attributes while allowing subclasses to access these attributes.\n",
    "\n",
    "Here's how name mangling works and how it affects encapsulation:\n",
    "\n",
    "Name Transformation: When an attribute is prefixed with a double underscore (__attribute), Python internally transforms its name to include the class name as a prefix. The format is _classname__attribute. This transformation is applied only to attributes with a double underscore prefix.\n",
    "\n",
    "Limited Protection: While this name transformation makes the attribute less accessible, it does not provide absolute protection. It's still technically possible to access the attribute using the mangled name from outside the class. However, this is discouraged and goes against the intended use of name mangling.\n",
    "\n",
    "Subclass Access: Subclasses (inheritors) of the class can still access the mangled attribute using the mangled name. This allows subclasses to inherit and utilize private attributes."
   ]
  },
  {
   "cell_type": "markdown",
   "id": "7342bda5",
   "metadata": {},
   "source": [
    "8. Create a Python class called `BankAccount` with private attributes for the account balance (`__balance`)"
   ]
  },
  {
   "cell_type": "code",
   "execution_count": 47,
   "id": "152a3e0a",
   "metadata": {},
   "outputs": [
    {
     "name": "stdout",
     "output_type": "stream",
     "text": [
      "Deposited $50. New balance: $150\n",
      "Withdrew $30. New balance: $120\n",
      "Insufficient funds. Withdrawal not allowed.\n",
      "Current balance: $120\n"
     ]
    }
   ],
   "source": [
    "class BankAccount:\n",
    "    def __init__(self, initial_balance=0):\n",
    "        self.__balance = initial_balance  # Private attribute\n",
    "\n",
    "    def deposit(self, amount):\n",
    "        if amount > 0:\n",
    "            self.__balance += amount\n",
    "            print(f\"Deposited ${amount}. New balance: ${self.__balance}\")\n",
    "        else:\n",
    "            print(\"Invalid deposit amount. Amount must be greater than 0.\")\n",
    "\n",
    "    def withdraw(self, amount):\n",
    "        if amount > 0:\n",
    "            if amount <= self.__balance:\n",
    "                self.__balance -= amount\n",
    "                print(f\"Withdrew ${amount}. New balance: ${self.__balance}\")\n",
    "            else:\n",
    "                print(\"Insufficient funds. Withdrawal not allowed.\")\n",
    "        else:\n",
    "            print(\"Invalid withdrawal amount. Amount must be greater than 0.\")\n",
    "\n",
    "    def check_balance(self):\n",
    "        return self.__balance\n",
    "\n",
    "# Create a BankAccount object with an initial balance of $100\n",
    "account = BankAccount(100)\n",
    "\n",
    "# Perform deposit and withdrawal operations\n",
    "account.deposit(50)\n",
    "account.withdraw(30)\n",
    "account.withdraw(200)  # This will display an \"Insufficient funds\" message\n",
    "\n",
    "# Check the account balance\n",
    "current_balance = account.check_balance()\n",
    "print(f\"Current balance: ${current_balance}\")\n"
   ]
  },
  {
   "cell_type": "markdown",
   "id": "cd703f5a",
   "metadata": {},
   "source": [
    "9. Discuss the advantages of encapsulation in terms of code maintainability and security."
   ]
  },
  {
   "cell_type": "raw",
   "id": "16283d3b",
   "metadata": {},
   "source": [
    "Encapsulation, a fundamental concept in object-oriented programming (OOP), offers several advantages in terms of code maintainability and security:\n",
    "\n",
    "Advantages of Encapsulation for Code Maintainability:\n",
    "\n",
    "Modularity: Encapsulation promotes modularity by organizing code into classes and objects, making it easier to understand and manage. Each class represents a specific component of the system, and each object encapsulates data and functionality related to that component.\n",
    "\n",
    "Abstraction: Encapsulation provides an abstract interface to interact with objects, hiding the internal details and complexities. This abstraction simplifies the usage of objects and reduces the cognitive load on developers, making the code more understandable.\n",
    "\n",
    "Reduced Code Duplication: By encapsulating data and functionality within objects, you can reuse the same class in different parts of your code or in different projects. This reduces code duplication, promotes reusability, and makes code more maintainable.\n",
    "\n",
    "Ease of Maintenance: Encapsulation allows you to make changes to the internal implementation of a class without affecting the code that uses the class. This enhances code maintainability by isolating changes within classes and minimizing the impact on other parts of the codebase.\n",
    "\n",
    "Encapsulation of Complexity: Complex operations and algorithms can be encapsulated within classes, providing a clean and high-level interface to the rest of the code. This simplifies the codebase and isolates complexity, making it easier to manage.\n",
    "\n",
    "Advantages of Encapsulation for Security:\n",
    "\n",
    "Access Control: Encapsulation allows you to control access to the internal state (attributes) of an object. By defining public, protected, and private attributes, you can restrict or grant access to different parts of the code, enhancing security.\n",
    "\n",
    "Data Validation: With encapsulation, you can include validation checks within setter methods to ensure that data entered into the system meets specific criteria. This helps prevent data corruption and security vulnerabilities.\n",
    "\n",
    "Data Hiding: Encapsulation hides the internal state of an object from external entities. This is crucial for security because it prevents unauthorized access or modification of data. It protects sensitive information and maintains data integrity.\n",
    "\n",
    "Security Policies: Encapsulation allows you to implement security policies and mechanisms within classes. For example, you can include authentication and authorization logic within a class, ensuring that only authorized users can access specific functionalities.\n",
    "\n",
    "Isolation of Vulnerabilities: If a security vulnerability is discovered or exploited, encapsulation limits the scope of the vulnerability. It localizes the impact of security breaches, reducing potential damage to the entire system.\n",
    "\n",
    "Encapsulation of Sensitive Operations: Security-critical operations, such as encryption, can be encapsulated within classes, ensuring that these operations are performed correctly and consistently throughout the codebase.\n",
    "\n",
    "In summary, encapsulation in OOP offers significant advantages for code maintainability and security. It promotes modularity, abstraction, code reuse, and ease of maintenance. It also enforces access control, data validation, and data hiding, which are essential for security. By encapsulating data and functionality within classes, developers can create more robust and secure software systems."
   ]
  },
  {
   "cell_type": "markdown",
   "id": "e0823c19",
   "metadata": {},
   "source": [
    "10. How can you access private attributes in Python? Provide an example demonstrating the use of name\n",
    "mangling."
   ]
  },
  {
   "cell_type": "code",
   "execution_count": 54,
   "id": "f6b9b3ef",
   "metadata": {},
   "outputs": [
    {
     "name": "stdout",
     "output_type": "stream",
     "text": [
      "I'm private\n"
     ]
    }
   ],
   "source": [
    "\"\"\"In Python, private attributes are intended to be accessed and modified within the class that defines them, but they can still be accessed from outside the class using name mangling. Name mangling is a mechanism that alters the name of a private attribute by prefixing it with _classname (where classname is the name of the class that defines the attribute).\"\"\"\n",
    "\n",
    "# Example:\n",
    "\n",
    "class MyClass:\n",
    "    def __init__(self):\n",
    "        self.__private_attribute = \"I'm private\"  # Private attribute\n",
    "\n",
    "class MySubclass(MyClass):\n",
    "    def access_private_attribute(self):\n",
    "        return self._MyClass__private_attribute  # Access the mangled attribute from the parent class\n",
    "\n",
    "# Create instances of the classes\n",
    "obj = MyClass()\n",
    "sub_obj = MySubclass()\n",
    "\n",
    "# Attempt to access the private attribute directly\n",
    "# This will raise an AttributeError\n",
    "# obj.__private_attribute  # Uncommenting this line will raise an AttributeError\n",
    "\n",
    "# Access the private attribute through the subclass method using name mangling\n",
    "accessed_attribute = sub_obj.access_private_attribute()\n",
    "print(accessed_attribute)  # This will print \"I'm private\"\n"
   ]
  },
  {
   "cell_type": "markdown",
   "id": "d77a6b9e",
   "metadata": {},
   "source": [
    "11. Create a Python class hierarchy for a school system, including classes for students, teachers, and courses,\n",
    "and implement encapsulation principles to protect sensitive information."
   ]
  },
  {
   "cell_type": "code",
   "execution_count": 55,
   "id": "fb27abeb",
   "metadata": {},
   "outputs": [
    {
     "name": "stdout",
     "output_type": "stream",
     "text": [
      "Student Details:\n",
      "Name: Alice, Age: 18, Address: 123 Main St, Student ID: S12345, Courses: Math, Science, History\n",
      "\n",
      "Teacher Details:\n",
      "Name: Mr. Smith, Age: 35, Address: 456 Elm St, Employee ID: T9876, Teaching Subjects: Math, Physics\n"
     ]
    }
   ],
   "source": [
    "class Person:\n",
    "    def __init__(self, name, age, address):\n",
    "        self._name = name  # Protected attribute\n",
    "        self._age = age  # Protected attribute\n",
    "        self._address = address  # Protected attribute\n",
    "\n",
    "    def get_details(self):\n",
    "        return f\"Name: {self._name}, Age: {self._age}, Address: {self._address}\"\n",
    "\n",
    "\n",
    "class Student(Person):\n",
    "    def __init__(self, name, age, address, student_id, courses):\n",
    "        super().__init__(name, age, address)\n",
    "        self._student_id = student_id  # Protected attribute\n",
    "        self._courses = courses  # Protected attribute\n",
    "\n",
    "    def get_details(self):\n",
    "        person_details = super().get_details()\n",
    "        return f\"{person_details}, Student ID: {self._student_id}, Courses: {', '.join(self._courses)}\"\n",
    "\n",
    "\n",
    "class Teacher(Person):\n",
    "    def __init__(self, name, age, address, employee_id, teaching_subjects):\n",
    "        super().__init__(name, age, address)\n",
    "        self._employee_id = employee_id  # Protected attribute\n",
    "        self._teaching_subjects = teaching_subjects  # Protected attribute\n",
    "\n",
    "    def get_details(self):\n",
    "        person_details = super().get_details()\n",
    "        return f\"{person_details}, Employee ID: {self._employee_id}, Teaching Subjects: {', '.join(self._teaching_subjects)}\"\n",
    "\n",
    "\n",
    "# Example usage:\n",
    "if __name__ == \"__main__\":\n",
    "    student = Student(\"Alice\", 18, \"123 Main St\", \"S12345\", [\"Math\", \"Science\", \"History\"])\n",
    "    teacher = Teacher(\"Mr. Smith\", 35, \"456 Elm St\", \"T9876\", [\"Math\", \"Physics\"])\n",
    "\n",
    "    print(\"Student Details:\")\n",
    "    print(student.get_details())\n",
    "\n",
    "    print(\"\\nTeacher Details:\")\n",
    "    print(teacher.get_details())\n"
   ]
  },
  {
   "cell_type": "markdown",
   "id": "6843db23",
   "metadata": {},
   "source": [
    "12. Explain the concept of property decorators in Python and how they relate to encapsulation."
   ]
  },
  {
   "cell_type": "raw",
   "id": "eb0b58bc",
   "metadata": {},
   "source": [
    "Property decorators in Python are a powerful feature that allows you to define special methods to control the behavior of attribute access, modification, and deletion. They play a significant role in encapsulation by providing a way to define getter and setter methods for class attributes while maintaining a clean and consistent interface for attribute access.\n",
    "\n",
    "There are three main property decorators in Python: @property, @<attribute>.setter, and @<attribute>.deleter. Let's look at each of them and how they relate to encapsulation:\n",
    "\n",
    "1. @property:\n",
    "\n",
    "The @property decorator is used to define a method as a getter for an attribute.\n",
    "It allows you to access an attribute like a method without using parentheses.\n",
    "This is useful for encapsulating attribute access because you can control how the attribute is accessed and potentially add validation or computation.\n",
    "\n",
    "Example:\n",
    "\n",
    "class MyClass:\n",
    "    def __init__(self):\n",
    "        self._my_var = 0\n",
    "\n",
    "    @property\n",
    "    def my_var(self):\n",
    "        return self._my_var\n",
    "\n",
    "2. @<attribute>.setter:\n",
    "\n",
    "The @<attribute>.setter decorator is used to define a method as a setter for an attribute.\n",
    "It allows you to customize attribute assignment behavior and perform checks or transformations on the assigned value.\n",
    "Example:\n",
    "    \n",
    "class MyClass:\n",
    "    def __init__(self):\n",
    "        self._my_var = 0\n",
    "\n",
    "    @property\n",
    "    def my_var(self):\n",
    "        return self._my_var\n",
    "\n",
    "    @my_var.setter\n",
    "    def my_var(self, value):\n",
    "        if value >= 0:\n",
    "            self._my_var = value\n",
    "\n",
    "class MyClass:\n",
    "    def __init__(self):\n",
    "        self._my_var = 0\n",
    "\n",
    "    @property\n",
    "    def my_var(self):\n",
    "        return self._my_var\n",
    "\n",
    "    @my_var.setter\n",
    "    def my_var(self, value):\n",
    "        if value >= 0:\n",
    "            self._my_var = value\n",
    "\n",
    "3. @<attribute>.deleter:\n",
    "\n",
    "The @<attribute>.deleter decorator is used to define a method as a deleter for an attribute.\n",
    "It allows you to customize the behavior when an attribute is deleted.\n",
    "Example:\n",
    "    \n",
    "class MyClass:\n",
    "    def __init__(self):\n",
    "        self._my_var = 0\n",
    "\n",
    "    @property\n",
    "    def my_var(self):\n",
    "        return self._my_var\n",
    "\n",
    "    @my_var.setter\n",
    "    def my_var(self, value):\n",
    "        if value >= 0:\n",
    "            self._my_var = value\n",
    "\n",
    "    @my_var.deleter\n",
    "    def my_var(self):\n",
    "        print(\"Deleting my_var\")\n",
    "        del self._my_var\n",
    "\n",
    "Property decorators help encapsulate the internal state of a class by allowing you to hide the details of attribute access and modification. They provide a consistent and controlled interface for interacting with attributes, which is essential for maintaining data integrity and protecting sensitive information.\n",
    "\n",
    "In summary, property decorators in Python are a powerful tool for encapsulation, enabling you to define getter, setter, and deleter methods for class attributes while controlling their behavior and ensuring data consistency and security."
   ]
  },
  {
   "cell_type": "markdown",
   "id": "9d16ce00",
   "metadata": {},
   "source": [
    "13. What is data hiding, and why is it important in encapsulation? Provide examples."
   ]
  },
  {
   "cell_type": "code",
   "execution_count": 56,
   "id": "7d1d3d38",
   "metadata": {},
   "outputs": [
    {
     "name": "stdout",
     "output_type": "stream",
     "text": [
      "Current balance: 2200\n"
     ]
    }
   ],
   "source": [
    "\"\"\"Data hiding, also known as information hiding, is a fundamental concept in encapsulation that involves restricting access to the internal details of a class or object. The primary goal of data hiding is to hide the implementation details of a class while exposing a controlled interface for interacting with its data. This provides several benefits, including:\n",
    "\n",
    "Security: Data hiding helps protect sensitive information and ensures that only authorized parts of the code can access and modify the internal state of an object. This is essential for maintaining data security and integrity.\n",
    "\n",
    "Abstraction: By hiding the internal details, data hiding allows you to work with high-level abstractions, focusing on what an object does rather than how it does it. This simplifies code and reduces complexity.\n",
    "\n",
    "Modularity: Encapsulation with data hiding promotes modularity, as each class or object can be developed, tested, and maintained independently without affecting other parts of the code.\n",
    "\n",
    "Code Maintenance: When you encapsulate data and hide implementation details, you can change the internal structure of a class without affecting code that depends on it. This eases code maintenance and reduces the risk of introducing bugs.\n",
    "\n",
    "Enhanced Reusability: Encapsulated classes can be reused in different contexts because they provide a well-defined interface. This makes it easier to use and adapt existing code for new purposes.\n",
    "\"\"\"    \n",
    "# Example:\n",
    "\n",
    "class BankAccount:\n",
    "    def __init__(self, account_number, balance):\n",
    "        self._account_number = account_number  # Protected attribute\n",
    "        self._balance = balance  # Protected attribute\n",
    "\n",
    "    def deposit(self, amount):\n",
    "        if amount > 0:\n",
    "            self._balance += amount\n",
    "\n",
    "    def withdraw(self, amount):\n",
    "        if amount > 0 and self._balance >= amount:\n",
    "            self._balance -= amount\n",
    "\n",
    "    def get_balance(self):\n",
    "        return self._balance\n",
    "\n",
    "# Example usage:\n",
    "if __name__ == \"__main__\":\n",
    "    account = BankAccount(\"12345\", 1000)\n",
    "    account.deposit(500)\n",
    "    account.withdraw(300)\n",
    "\n",
    "    # Attempting to directly access and modify attributes\n",
    "    # This is possible due to the use of a single underscore, but it's discouraged\n",
    "    account._balance += 1000\n",
    "    account._account_number = \"54321\"\n",
    "\n",
    "    # Proper usage of the provided methods\n",
    "    current_balance = account.get_balance()\n",
    "    print(f\"Current balance: {current_balance}\")\n",
    "\n",
    "\n",
    "\"\"\"In this example, the BankAccount class uses a single underscore prefix to mark attributes as protected, but they are not entirely hidden. While data hiding is not enforced, it is encouraged to use the provided methods (deposit, withdraw, and get_balance) to interact with the object's internal state. This demonstrates the importance of data hiding in maintaining the integrity of sensitive information and providing a controlled interface for object interaction.\"\"\""
   ]
  },
  {
   "cell_type": "markdown",
   "id": "7edbf7d3",
   "metadata": {},
   "source": [
    "14. Create a Python class called `Employee` with private attributes for salary (`__salary`) and employee ID (`__employee_id`). Provide a method to calculate yearly bonuses."
   ]
  },
  {
   "cell_type": "code",
   "execution_count": 58,
   "id": "69953902",
   "metadata": {},
   "outputs": [
    {
     "name": "stdout",
     "output_type": "stream",
     "text": [
      "Alice's yearly bonus: $5000.0\n",
      "Alice's current salary: $51000\n"
     ]
    },
    {
     "data": {
      "text/plain": [
       "\"\\nIn this example:\\n\\nThe Employee class has private attributes for __employee_id, __name, and __salary marked with double underscores.\\n\\nThe calculate_yearly_bonus method allows you to calculate the yearly bonus based on a provided bonus percentage. It checks if the bonus percentage is non-negative and returns the calculated bonus amount.\\n\\nGetter methods (get_employee_id, get_name, and get_salary) are provided to access the private attributes. These getter methods provide controlled access to the private attributes, which is a common practice in encapsulation.\\n\\nWhile it's possible to access private attributes directly in Python (as shown in the example), it is discouraged. Encapsulation encourages you to use getter methods to access attributes and perform any necessary checks or calculations within the class methods.\\n\\nThis class demonstrates the use of private attributes and encapsulation to protect sensitive employee information while providing a controlled interface for accessing and manipulating data.\\n\""
      ]
     },
     "execution_count": 58,
     "metadata": {},
     "output_type": "execute_result"
    }
   ],
   "source": [
    "class Employee:\n",
    "    def __init__(self, employee_id, name, salary):\n",
    "        self.__employee_id = employee_id  # Private attribute\n",
    "        self.__name = name  # Private attribute\n",
    "        self.__salary = salary  # Private attribute\n",
    "\n",
    "    def calculate_yearly_bonus(self, bonus_percentage):\n",
    "        if bonus_percentage >= 0:\n",
    "            bonus = (bonus_percentage / 100) * self.__salary\n",
    "            return bonus\n",
    "        else:\n",
    "            return 0\n",
    "\n",
    "    def get_employee_id(self):\n",
    "        return self.__employee_id\n",
    "\n",
    "    def get_name(self):\n",
    "        return self.__name\n",
    "\n",
    "    def get_salary(self):\n",
    "        return self.__salary\n",
    "\n",
    "# Example usage:\n",
    "if __name__ == \"__main__\":\n",
    "    employee = Employee(\"E12345\", \"Alice\", 50000)\n",
    "\n",
    "    yearly_bonus = employee.calculate_yearly_bonus(10)\n",
    "    print(f\"{employee.get_name()}'s yearly bonus: ${yearly_bonus}\")\n",
    "\n",
    "    # Proper usage of accessing and modifying private attributes\n",
    "    # Use the mangled names\n",
    "    employee._Employee__salary += 1000\n",
    "\n",
    "    current_salary = employee.get_salary()\n",
    "    print(f\"{employee.get_name()}'s current salary: ${current_salary}\")\n",
    "\"\"\"\n",
    "In this example:\n",
    "\n",
    "The Employee class has private attributes for __employee_id, __name, and __salary marked with double underscores.\n",
    "\n",
    "The calculate_yearly_bonus method allows you to calculate the yearly bonus based on a provided bonus percentage. It checks if the bonus percentage is non-negative and returns the calculated bonus amount.\n",
    "\n",
    "Getter methods (get_employee_id, get_name, and get_salary) are provided to access the private attributes. These getter methods provide controlled access to the private attributes, which is a common practice in encapsulation.\n",
    "\n",
    "While it's possible to access private attributes directly in Python (as shown in the example), it is discouraged. Encapsulation encourages you to use getter methods to access attributes and perform any necessary checks or calculations within the class methods.\n",
    "\n",
    "This class demonstrates the use of private attributes and encapsulation to protect sensitive employee information while providing a controlled interface for accessing and manipulating data.\n",
    "\"\"\""
   ]
  },
  {
   "cell_type": "markdown",
   "id": "c1d2f5d3",
   "metadata": {},
   "source": [
    "15. Discuss the use of accessors and mutators in encapsulation. How do they help maintain control over\n",
    "attribute access?"
   ]
  },
  {
   "cell_type": "raw",
   "id": "7da851d9",
   "metadata": {},
   "source": [
    "Accessors and mutators, also known as getters and setters, are methods used to control attribute access in encapsulation. They help maintain control over how attributes are read and modified in a class. Here's how they work and their role in encapsulation:\n",
    "\n",
    "1. Accessors (Getters):\n",
    "\n",
    "Accessors are methods used to retrieve the values of private attributes within a class.\n",
    "They provide controlled access to an attribute by returning its value.\n",
    "Accessors are typically named with a prefix \"get_\" followed by the attribute name.\n",
    "\n",
    "# Example:\n",
    "\n",
    "class Employee:\n",
    "    def __init__(self, name, salary):\n",
    "        self.__name = name  # Private attribute\n",
    "        self.__salary = salary  # Private attribute\n",
    "\n",
    "    def get_name(self):  # Accessor method\n",
    "        return self.__name\n",
    "\n",
    "    def get_salary(self):  # Accessor method\n",
    "        return self.__salary\n",
    "\n",
    "    \n",
    "2. Mutators (Setters):\n",
    "\n",
    "Mutators are methods used to modify the values of private attributes within a class.\n",
    "They provide controlled modification of an attribute and often include validation logic.\n",
    "Mutators are typically named with a prefix \"set_\" followed by the attribute name.\n",
    "\n",
    "# Example:\n",
    "\n",
    "class Employee:\n",
    "    def __init__(self, name, salary):\n",
    "        self.__name = name  # Private attribute\n",
    "        self.__salary = salary  # Private attribute\n",
    "\n",
    "    def set_name(self, name):  # Mutator method\n",
    "        if len(name) > 0:\n",
    "            self.__name = name\n",
    "\n",
    "    def set_salary(self, salary):  # Mutator method\n",
    "        if salary >= 0:\n",
    "            self.__salary = salary\n",
    "\n",
    "            \n",
    "The role of accessors and mutators in encapsulation:\n",
    "\n",
    "Controlled Access: Accessors and mutators provide controlled access to attributes, allowing you to specify conditions and checks before getting or setting attribute values. This control is essential for data integrity and security.\n",
    "\n",
    "Validation: Mutators often include validation logic, ensuring that new attribute values meet specific criteria. For example, salary should be non-negative, and a name should not be an empty string.\n",
    "\n",
    "Flexibility: Accessors and mutators give you the flexibility to change the internal representation of attributes without affecting the external code that depends on the class. This is because you control access through methods.\n",
    "\n",
    "Documentation: Accessors and mutators serve as a point for documenting how attributes should be used. They make it clear how data should be accessed and modified, which can help other developers understand and use the class correctly.\n",
    "\n",
    "Encapsulation: They are a fundamental part of encapsulation, where you hide the internal state of an object and provide a well-defined interface for interaction. By using accessors and mutators, you encapsulate the details of attribute access and modification.\n",
    "\n",
    "In summary, accessors and mutators play a crucial role in encapsulation by providing controlled access to attributes, allowing for validation, and maintaining data integrity. They are an essential part of object-oriented programming, promoting good design and code maintainability."
   ]
  },
  {
   "cell_type": "markdown",
   "id": "56dc5bfa",
   "metadata": {},
   "source": [
    "16. What are the potential drawbacks or disadvantages of using encapsulation in Python?"
   ]
  },
  {
   "cell_type": "raw",
   "id": "bd184e1c",
   "metadata": {},
   "source": [
    "While encapsulation is a fundamental concept in object-oriented programming that offers several advantages, it is essential to consider potential drawbacks or disadvantages when using it in Python:\n",
    "\n",
    "Complexity: Encapsulation can add complexity to your code. By providing getter and setter methods for every attribute, you may increase the codebase's size and make it harder to read and maintain.\n",
    "\n",
    "Performance Overhead: Using getter and setter methods can introduce a performance overhead, as method calls are generally slower than direct attribute access. In some performance-critical applications, this may be a concern.\n",
    "\n",
    "Boilerplate Code: Encapsulation often leads to the creation of numerous getter and setter methods, which can result in boilerplate code that needs to be maintained. This can be tedious and error-prone.\n",
    "\n",
    "Limited Privacy: In Python, encapsulation is not enforced like in some other languages. While attributes can be marked as private by using a single or double underscore prefix, they are still accessible from outside the class. This means that privacy is not absolute, and developers can choose to access private attributes if they desire.\n",
    "\n",
    "Flexibility Trade-off: Encapsulation can make your code less flexible. By hiding implementation details, you might limit the extensibility of your classes. This is a trade-off between data protection and flexibility.\n",
    "\n",
    "Verbose Code: Encapsulation may lead to verbose code, especially if you have many attributes in a class. You need to write and maintain a lot of getter and setter methods, which can make the code less concise.\n",
    "\n",
    "Learning Curve: For developers new to object-oriented programming or Python, understanding the concept of encapsulation and when to use it can be a learning curve. It requires a good understanding of class design.\n",
    "\n",
    "Increased Coupling: Using getters and setters to access attributes can create tighter coupling between classes. If many classes rely on these access methods, making changes to the attribute representation can become challenging.\n",
    "\n",
    "It's important to note that these disadvantages don't mean that encapsulation should be avoided. Instead, they highlight the importance of using encapsulation judiciously and considering the specific needs of your project. In many cases, encapsulation is a valuable tool for maintaining data integrity, security, and code organization. However, it should be used where it provides clear benefits and not applied uniformly to all attributes in every class."
   ]
  },
  {
   "cell_type": "markdown",
   "id": "7f95298c",
   "metadata": {},
   "source": [
    "17. Create a Python class for a library system that encapsulates book information, including titles, authors,\n",
    "and availability status."
   ]
  },
  {
   "cell_type": "code",
   "execution_count": 59,
   "id": "1dc39c9b",
   "metadata": {},
   "outputs": [
    {
     "name": "stdout",
     "output_type": "stream",
     "text": [
      "Title: The Catcher in the Rye\n",
      "Author: J.D. Salinger\n",
      "Available: True\n",
      "Available: False\n",
      "Available: True\n"
     ]
    },
    {
     "data": {
      "text/plain": [
       "\"In this example:\\n\\nThe Book class encapsulates book information by using double underscores to mark the attributes (__title, __author, and __available) as private.\\n\\nAccessor methods (get_title, get_author, and is_available) are provided to retrieve the encapsulated information.\\n\\nThe borrow and return_book methods allow for controlled modification of the book's availability status. The borrow method sets the book as unavailable, and the return_book method sets it as available.\\n\\nThis class exemplifies how encapsulation can be used to protect and provide controlled access to book information, ensuring that book details are not modified directly but through appropriate methods.\\n\\nBy encapsulating book information and providing controlled access methods, you can create a more secure and organized library system.\\n\""
      ]
     },
     "execution_count": 59,
     "metadata": {},
     "output_type": "execute_result"
    }
   ],
   "source": [
    "class Book:\n",
    "    def __init__(self, title, author):\n",
    "        self.__title = title  # Encapsulated book title\n",
    "        self.__author = author  # Encapsulated book author\n",
    "        self.__available = True  # Encapsulated availability status\n",
    "\n",
    "    def get_title(self):\n",
    "        return self.__title  # Accessor for book title\n",
    "\n",
    "    def get_author(self):\n",
    "        return self.__author  # Accessor for book author\n",
    "\n",
    "    def is_available(self):\n",
    "        return self.__available  # Accessor for availability status\n",
    "\n",
    "    def borrow(self):\n",
    "        if self.__available:\n",
    "            self.__available = False\n",
    "\n",
    "    def return_book(self):\n",
    "        if not self.__available:\n",
    "            self.__available = True\n",
    "\n",
    "# Example usage:\n",
    "if __name__ == \"__main__\":\n",
    "    book1 = Book(\"The Catcher in the Rye\", \"J.D. Salinger\")\n",
    "    book2 = Book(\"To Kill a Mockingbird\", \"Harper Lee\")\n",
    "\n",
    "    print(f\"Title: {book1.get_title()}\")\n",
    "    print(f\"Author: {book1.get_author()}\")\n",
    "    print(f\"Available: {book1.is_available()}\")\n",
    "\n",
    "    book1.borrow()\n",
    "    print(f\"Available: {book1.is_available()}\")\n",
    "\n",
    "    book1.return_book()\n",
    "    print(f\"Available: {book1.is_available()}\")\n",
    "\n",
    "\n",
    "\"\"\"In this example:\n",
    "\n",
    "The Book class encapsulates book information by using double underscores to mark the attributes (__title, __author, and __available) as private.\n",
    "\n",
    "Accessor methods (get_title, get_author, and is_available) are provided to retrieve the encapsulated information.\n",
    "\n",
    "The borrow and return_book methods allow for controlled modification of the book's availability status. The borrow method sets the book as unavailable, and the return_book method sets it as available.\n",
    "\n",
    "This class exemplifies how encapsulation can be used to protect and provide controlled access to book information, ensuring that book details are not modified directly but through appropriate methods.\n",
    "\n",
    "By encapsulating book information and providing controlled access methods, you can create a more secure and organized library system.\n",
    "\"\"\""
   ]
  },
  {
   "cell_type": "markdown",
   "id": "91c1731d",
   "metadata": {},
   "source": [
    "18. Explain how encapsulation enhances code reusability and modularity in Python programs."
   ]
  },
  {
   "cell_type": "raw",
   "id": "3a4c873a",
   "metadata": {},
   "source": [
    "Encapsulation enhances code reusability and modularity in Python programs by promoting good software engineering practices. Here's how encapsulation achieves this:\n",
    "\n",
    "Modularity:\n",
    "\n",
    "Encapsulation encourages the division of a program into smaller, self-contained modules or classes.\n",
    "Each class encapsulates its internal state and provides a well-defined interface for interaction.\n",
    "This modularity makes it easier to develop, test, and maintain individual components without affecting the rest of the codebase.\n",
    "Code Organization:\n",
    "\n",
    "Encapsulation promotes organized code by clearly defining the boundaries of each class.\n",
    "Attributes and methods are logically grouped within a class, which makes it easier for developers to locate and work with related code.\n",
    "Reusability:\n",
    "\n",
    "Encapsulated classes can be reused in different parts of a program or even in different programs.\n",
    "Reusing encapsulated classes saves development time and effort, as you can rely on existing, well-tested code.\n",
    "This reusability reduces redundancy and ensures consistency throughout your code.\n",
    "Flexibility:\n",
    "\n",
    "Encapsulation allows for changes to the internal implementation of a class without affecting external code that depends on it.\n",
    "This flexibility is crucial for adapting code to changing requirements and maintaining long-term projects.\n",
    "Security:\n",
    "\n",
    "Encapsulation helps protect the integrity and security of data by limiting direct access to sensitive information.\n",
    "This is especially important in scenarios where data privacy and integrity are critical, such as financial systems or user authentication.\n",
    "Isolation of Concerns:\n",
    "\n",
    "Encapsulation enforces a separation of concerns by isolating the behavior and data of each class.\n",
    "Each class has a well-defined role, making it easier to understand and maintain.\n",
    "Clear Interfaces:\n",
    "\n",
    "Encapsulation encourages the creation of clear and well-documented interfaces for classes.\n",
    "This makes it easier for other developers to understand how to use a class and what to expect from it.\n",
    "Improved Collaboration:\n",
    "\n",
    "In collaborative development environments, encapsulation helps team members work on different parts of the code simultaneously without interfering with each other's work.\n",
    "Testing and Debugging:\n",
    "\n",
    "Encapsulated classes are easier to test in isolation, as you can create test cases for each class without the need to consider the entire system.\n",
    "When a bug is identified, encapsulation helps pinpoint the location of the issue, making debugging more efficient.\n",
    "Maintainability:\n",
    "\n",
    "Encapsulation facilitates code maintenance by providing a clear structure and minimizing the impact of changes in one part of the code on the rest of the system.\n",
    "In summary, encapsulation in Python promotes modular, organized, and reusable code. It enhances code reusability, flexibility, and maintainability, making it an essential concept in object-oriented programming and software development. Encapsulation encourages best practices for designing and building software systems that can be efficiently maintained and extended."
   ]
  },
  {
   "cell_type": "markdown",
   "id": "3e63da12",
   "metadata": {},
   "source": [
    "19. Describe the concept of information hiding in encapsulation. Why is it essential in software development?"
   ]
  },
  {
   "cell_type": "raw",
   "id": "5b1f5e01",
   "metadata": {},
   "source": [
    "Information hiding is a fundamental concept in encapsulation, which is one of the four fundamental principles of object-oriented programming (OOP), including encapsulation, inheritance, and polymorphism. Information hiding refers to the practice of hiding the internal details of an object and providing a well-defined interface for interacting with that object. In other words, it's about controlling access to the internal data and methods of an object to ensure that they are not directly accessible from outside the object.\n",
    "\n",
    "Here's why information hiding is essential in software development:\n",
    "\n",
    "Data Protection: Information hiding helps protect the integrity and security of data. By limiting direct access to internal attributes, you prevent unintended or malicious modification of data.\n",
    "\n",
    "Abstraction: It allows you to provide a simplified, abstract view of an object. The user of the object interacts with it based on its public interface, without needing to know the implementation details. This promotes a clear separation between the \"what\" (the object's behavior) and the \"how\" (the implementation details).\n",
    "\n",
    "Modularity: Information hiding promotes modularity. Objects are self-contained and encapsulate their data and behavior, making it easier to manage and maintain code. Changes to the internal details of an object don't affect external code that relies on it.\n",
    "\n",
    "Code Reusability: It facilitates code reusability. Encapsulated classes with well-defined interfaces can be reused in different parts of a program or in other programs, saving development time and effort.\n",
    "\n",
    "Flexibility: Information hiding makes it possible to change the internal implementation of a class without affecting external code. This flexibility is crucial for adapting code to changing requirements and maintaining long-term projects.\n",
    "\n",
    "Documentation: It serves as a point for documenting how an object should be used. The public interface (e.g., methods and properties) of an object provides clear documentation for developers who want to use the object, making it easier for them to understand and work with it.\n",
    "\n",
    "Reduced Complexity: By presenting a simplified, high-level view of an object's functionality, information hiding reduces the cognitive load on developers. They don't need to understand the object's every internal detail to use it effectively.\n",
    "\n",
    "Security: It enhances security by limiting direct access to sensitive data and methods. This is important in applications where data privacy and security are paramount, such as in financial or healthcare systems.\n",
    "\n",
    "Collaboration: It facilitates collaboration among developers. Different team members can work on different parts of the code simultaneously without interfering with each other's work, as long as they adhere to the object's public interface.\n",
    "\n",
    "In summary, information hiding is essential in software development because it promotes security, abstraction, modularity, code reusability, flexibility, and clear documentation. It enables developers to build and maintain complex systems efficiently while protecting the integrity and security of data. Encapsulation and information hiding are core principles of object-oriented programming that contribute to the creation of well-structured and maintainable code."
   ]
  },
  {
   "cell_type": "markdown",
   "id": "8f852264",
   "metadata": {},
   "source": [
    "20. Create a Python class called `Customer` with private attributes for customer details like name, address,\n",
    "and contact information. Implement encapsulation to ensure data integrity and security."
   ]
  },
  {
   "cell_type": "code",
   "execution_count": 60,
   "id": "cf734d6e",
   "metadata": {},
   "outputs": [
    {
     "name": "stdout",
     "output_type": "stream",
     "text": [
      "Customer Name: Alice Johnson\n",
      "Customer Address: 123 Main St, City\n",
      "Contact Information: alice@example.com, (123) 456-7890\n",
      "Updated Contact Information: new.email@example.com, (987) 654-3210\n"
     ]
    },
    {
     "data": {
      "text/plain": [
       "\"\\nIn this example:\\n\\nThe Customer class encapsulates customer details by using double underscores to mark the attributes (__name, __address, and __contact_info) as private.\\n\\nAccessor methods (get_name, get_address, and get_contact_info) are provided to retrieve the encapsulated information.\\n\\nThe update_contact_info method allows controlled modification of the customer's contact information while adhering to the principles of encapsulation.\\n\\nWhile it's possible to access private attributes directly in Python (as shown in the example), it is discouraged. Encapsulation encourages the use of accessor and mutator methods to access and modify attributes.\\n\\nThis class demonstrates how encapsulation can be used to protect customer details, ensuring that they are not modified directly but through appropriate methods.\\n\""
      ]
     },
     "execution_count": 60,
     "metadata": {},
     "output_type": "execute_result"
    }
   ],
   "source": [
    "class Customer:\n",
    "    def __init__(self, name, address, contact_info):\n",
    "        self.__name = name  # Encapsulated customer name\n",
    "        self.__address = address  # Encapsulated customer address\n",
    "        self.__contact_info = contact_info  # Encapsulated customer contact information\n",
    "\n",
    "    def get_name(self):\n",
    "        return self.__name  # Accessor for customer name\n",
    "\n",
    "    def get_address(self):\n",
    "        return self.__address  # Accessor for customer address\n",
    "\n",
    "    def get_contact_info(self):\n",
    "        return self.__contact_info  # Accessor for customer contact information\n",
    "\n",
    "    def update_contact_info(self, new_contact_info):\n",
    "        # Mutator for updating customer contact information\n",
    "        self.__contact_info = new_contact_info\n",
    "\n",
    "# Example usage:\n",
    "if __name__ == \"__main__\":\n",
    "    customer = Customer(\"Alice Johnson\", \"123 Main St, City\", \"alice@example.com, (123) 456-7890\")\n",
    "\n",
    "    print(f\"Customer Name: {customer.get_name()}\")\n",
    "    print(f\"Customer Address: {customer.get_address()}\")\n",
    "    print(f\"Contact Information: {customer.get_contact_info()}\")\n",
    "\n",
    "    # Attempt to directly modify private attributes (not recommended)\n",
    "    # This will work but is discouraged\n",
    "    customer.__address = \"456 Elm St, Town\"\n",
    "\n",
    "    # Proper usage of the provided mutator method\n",
    "    customer.update_contact_info(\"new.email@example.com, (987) 654-3210\")\n",
    "\n",
    "    updated_contact_info = customer.get_contact_info()\n",
    "    print(f\"Updated Contact Information: {updated_contact_info}\")\n",
    "\n",
    "\"\"\"\n",
    "In this example:\n",
    "\n",
    "The Customer class encapsulates customer details by using double underscores to mark the attributes (__name, __address, and __contact_info) as private.\n",
    "\n",
    "Accessor methods (get_name, get_address, and get_contact_info) are provided to retrieve the encapsulated information.\n",
    "\n",
    "The update_contact_info method allows controlled modification of the customer's contact information while adhering to the principles of encapsulation.\n",
    "\n",
    "While it's possible to access private attributes directly in Python (as shown in the example), it is discouraged. Encapsulation encourages the use of accessor and mutator methods to access and modify attributes.\n",
    "\n",
    "This class demonstrates how encapsulation can be used to protect customer details, ensuring that they are not modified directly but through appropriate methods.\n",
    "\"\"\""
   ]
  },
  {
   "cell_type": "markdown",
   "id": "44f9a100",
   "metadata": {},
   "source": [
    "# Polymorphism:"
   ]
  },
  {
   "cell_type": "markdown",
   "id": "8a7a1400",
   "metadata": {},
   "source": [
    "1. What is polymorphism in Python? Explain how it is related to object-oriented programming."
   ]
  },
  {
   "cell_type": "raw",
   "id": "444bfd9e",
   "metadata": {},
   "source": [
    "Polymorphism is a fundamental concept in object-oriented programming (OOP) that allows objects of different classes to be treated as objects of a common superclass. It enables a single interface (method or function) to be used for objects of various types, and it is closely related to the principles of inheritance and encapsulation. Polymorphism is one of the four pillars of OOP, along with encapsulation, inheritance, and abstraction.\n",
    "\n",
    "Here's an explanation of polymorphism in Python and its relationship to object-oriented programming:\n",
    "\n",
    "Polymorphism Definition:\n",
    "\n",
    "Polymorphism comes from two Greek words: \"poly\" (many) and \"morph\" (form). In the context of OOP, it means \"many forms.\"\n",
    "In Python, polymorphism allows different classes to have methods with the same name but with different implementations. These methods can be invoked through a common interface, typically achieved through method overloading or method overriding.\n",
    "Common Interface:\n",
    "\n",
    "In OOP, polymorphism relies on a common interface provided by a superclass or interface. This interface defines a set of methods that subclasses must implement. Each subclass can provide its own unique implementation of these methods.\n",
    "Method Overriding:\n",
    "\n",
    "Method overriding is a form of polymorphism that occurs when a subclass provides a specific implementation of a method that is already defined in its superclass. This allows different classes to have their own versions of the same method.\n",
    "When an object of the subclass is used, the overridden method in the subclass is called, not the method in the superclass.\n",
    "Method Overloading:\n",
    "\n",
    "Method overloading is another form of polymorphism that occurs when a class has multiple methods with the same name but different parameter lists. The appropriate method to call is determined based on the number or types of arguments passed to it.\n",
    "In Python, method overloading is not directly supported as in some other languages, but it can be achieved using default arguments and variable-length argument lists.\n",
    "Dynamic Binding:\n",
    "\n",
    "One of the key features of polymorphism is dynamic binding. This means that the method to be executed is determined at runtime based on the actual type of object, not at compile time.\n",
    "This dynamic binding allows for flexibility in code execution, as it enables a method to be called based on the type of the object being used.\n",
    "Simplifies Code:\n",
    "\n",
    "Polymorphism simplifies code by allowing you to write more generic code that works with objects of various types. This reduces the need for extensive conditional statements to handle different object types.\n",
    "Code Reusability:\n",
    "\n",
    "Polymorphism enhances code reusability. You can create classes that adhere to a common interface, and then reuse these classes in different parts of your program.\n",
    "In Python, polymorphism is a powerful and versatile feature that enables you to write flexible, extensible, and maintainable code. It allows you to design software that can accommodate new classes and behaviors without having to modify existing code. This is a fundamental aspect of OOP and contributes to the development of modular and scalable applications."
   ]
  },
  {
   "cell_type": "markdown",
   "id": "01cee56d",
   "metadata": {},
   "source": [
    "2. Describe the difference between compile-time polymorphism and runtime polymorphism in Python."
   ]
  },
  {
   "cell_type": "raw",
   "id": "38cba677",
   "metadata": {},
   "source": [
    "In Python, there is no traditional concept of \"compile-time polymorphism\" as you would find in statically-typed languages like C++ or Java. Instead, Python primarily relies on runtime polymorphism. However, to provide a clearer understanding, let's discuss the difference between compile-time polymorphism (often called \"method overloading\") and runtime polymorphism (often called \"method overriding\") as they are typically understood in statically-typed languages:\n",
    "\n",
    "1. Compile-Time Polymorphism (Method Overloading):\n",
    "\n",
    "Definition: Compile-time polymorphism, also known as method overloading, occurs when a class has multiple methods with the same name but different parameter lists.\n",
    "Resolution: The compiler determines which method to call based on the number or types of arguments passed to it during compile-time.\n",
    "Example:\n",
    "    \n",
    "class Example:\n",
    "    def display(self, x):\n",
    "        print(\"Method with one argument:\", x)\n",
    "\n",
    "    def display(self, x, y):\n",
    "        print(\"Method with two arguments:\", x, y)\n",
    "\n",
    "In Python, method overloading is not supported in the same way as in statically-typed languages, as Python uses dynamic typing and determines method execution at runtime. However, you can achieve a similar effect by using default arguments and variable-length argument lists.\n",
    "\n",
    "2. Runtime Polymorphism (Method Overriding):\n",
    "\n",
    "Definition: Runtime polymorphism, or method overriding, occurs when a subclass provides a specific implementation of a method that is already defined in its superclass.\n",
    "Resolution: The method to be called is determined at runtime based on the actual type of the object, not at compile-time.\n",
    "Example:\n",
    "    \n",
    "class Animal:\n",
    "    def speak(self):\n",
    "        print(\"Animal speaks\")\n",
    "\n",
    "class Dog(Animal):\n",
    "    def speak(self):\n",
    "        print(\"Dog barks\")\n",
    "\n",
    "In the example, when an object of the Dog class calls the speak method, it overrides the speak method in the parent class, and the method in the subclass is executed.\n",
    "\n",
    "In summary, Python primarily relies on runtime polymorphism, where method resolution occurs at runtime based on the actual type of the object. While method overloading is not directly supported in Python in the same way as in statically-typed languages, you can achieve similar functionality through other means. Compile-time polymorphism, as it is understood in languages like C++ and Java, is not a typical concept in Python due to its dynamic nature and late binding of method calls."
   ]
  },
  {
   "cell_type": "markdown",
   "id": "8c737246",
   "metadata": {},
   "source": [
    "3. Create a Python class hierarchy for shapes (e.g., circle, square, triangle) and demonstrate polymorphism\n",
    "through a common method, such as `calculate_area()`."
   ]
  },
  {
   "cell_type": "code",
   "execution_count": 63,
   "id": "f8527700",
   "metadata": {},
   "outputs": [
    {
     "name": "stdout",
     "output_type": "stream",
     "text": [
      "Circle Area: 78.54\n",
      "Square Area: 16.00\n",
      "Triangle Area: 9.00\n"
     ]
    },
    {
     "data": {
      "text/plain": [
       "\"In this example:\\n\\nThe Shape class defines a method calculate_area(), which serves as a common interface for all shape subclasses.\\n\\nThe Circle, Square, and Triangle subclasses inherit from the Shape class and provide their own implementations of the calculate_area() method.\\n\\nWe create instances of these shape objects, and for each shape, we call the calculate_area() method. The specific implementation of the method is invoked based on the object's type (polymorphism).\\n\\nThe isinstance() function is used to check the type of each shape object and print the corresponding area.\\n\\nThis example demonstrates polymorphism through a common method, allowing us to calculate the area of different shapes using a unified interface while executing the appropriate implementation for each shape.\""
      ]
     },
     "execution_count": 63,
     "metadata": {},
     "output_type": "execute_result"
    }
   ],
   "source": [
    "\"\"\"To demonstrate polymorphism in a Python class hierarchy for shapes, we can create a base Shape class with a method called calculate_area(), and then create subclasses for specific shapes like Circle, Square, and Triangle. Each of these subclasses will provide its own implementation of the calculate_area() method.\"\"\"\n",
    "\n",
    "import math\n",
    "\n",
    "class Shape:\n",
    "    def calculate_area(self):\n",
    "        pass  # This method will be implemented in the specific shape subclasses\n",
    "\n",
    "class Circle(Shape):\n",
    "    def __init__(self, radius):\n",
    "        self.radius = radius\n",
    "\n",
    "    def calculate_area(self):\n",
    "        return math.pi * self.radius ** 2\n",
    "\n",
    "class Square(Shape):\n",
    "    def __init__(self, side_length):\n",
    "        self.side_length = side_length\n",
    "\n",
    "    def calculate_area(self):\n",
    "        return self.side_length ** 2\n",
    "\n",
    "class Triangle(Shape):\n",
    "    def __init__(self, base, height):\n",
    "        self.base = base\n",
    "        self.height = height\n",
    "\n",
    "    def calculate_area(self):\n",
    "        return 0.5 * self.base * self.height\n",
    "\n",
    "# Example usage:\n",
    "if __name__ == \"__main__\":\n",
    "    shapes = [Circle(5), Square(4), Triangle(3, 6)]\n",
    "\n",
    "    for shape in shapes:\n",
    "        area = shape.calculate_area()\n",
    "        if isinstance(shape, Circle):\n",
    "            print(f\"Circle Area: {area:.2f}\")\n",
    "        elif isinstance(shape, Square):\n",
    "            print(f\"Square Area: {area:.2f}\")\n",
    "        elif isinstance(shape, Triangle):\n",
    "            print(f\"Triangle Area: {area:.2f}\")\n",
    "\n",
    "\"\"\"In this example:\n",
    "\n",
    "The Shape class defines a method calculate_area(), which serves as a common interface for all shape subclasses.\n",
    "\n",
    "The Circle, Square, and Triangle subclasses inherit from the Shape class and provide their own implementations of the calculate_area() method.\n",
    "\n",
    "We create instances of these shape objects, and for each shape, we call the calculate_area() method. The specific implementation of the method is invoked based on the object's type (polymorphism).\n",
    "\n",
    "The isinstance() function is used to check the type of each shape object and print the corresponding area.\n",
    "\n",
    "This example demonstrates polymorphism through a common method, allowing us to calculate the area of different shapes using a unified interface while executing the appropriate implementation for each shape.\"\"\""
   ]
  },
  {
   "cell_type": "markdown",
   "id": "917af6aa",
   "metadata": {},
   "source": [
    "4. Explain the concept of method overriding in polymorphism. Provide an example."
   ]
  },
  {
   "cell_type": "code",
   "execution_count": 64,
   "id": "af9ef920",
   "metadata": {},
   "outputs": [
    {
     "name": "stdout",
     "output_type": "stream",
     "text": [
      "Dog barks\n",
      "Cat meows\n"
     ]
    },
    {
     "data": {
      "text/plain": [
       "\"\\nIn this example:\\n\\nWe have a base class Animal with a method speak().\\n\\nWe create two subclasses, Dog and Cat, which inherit from the Animal class. Each subclass overrides the speak() method to provide its own implementation.\\n\\nWhen we create instances of the Dog and Cat classes and call their speak() methods, the overridden methods in each subclass are executed, producing different output.\\n\\nMethod overriding allows you to provide specialized behavior for specific classes while maintaining a common method signature within the class hierarchy. It's a crucial aspect of polymorphism, as it allows objects of different types to be treated uniformly when they share a common interface, even though their specific implementations differ.\\n\\n\""
      ]
     },
     "execution_count": 64,
     "metadata": {},
     "output_type": "execute_result"
    }
   ],
   "source": [
    "\"\"\"Method overriding is a fundamental concept in polymorphism that occurs when a subclass provides a specific implementation of a method \n",
    "that is already defined in its superclass. In other words, a subclass redefines a method inherited from its superclass to tailor its \n",
    "behavior to the subclass's requirements. The overridden method in the subclass has the same name, return type, and parameters as the \n",
    "method in the superclass.\"\"\"\n",
    "\n",
    "# Example:\n",
    "\n",
    "class Animal:\n",
    "    def speak(self):\n",
    "        print(\"Animal speaks\")\n",
    "\n",
    "class Dog(Animal):\n",
    "    def speak(self):\n",
    "        print(\"Dog barks\")\n",
    "\n",
    "class Cat(Animal):\n",
    "    def speak(self):\n",
    "        print(\"Cat meows\")\n",
    "\n",
    "# Usage\n",
    "if __name__ == \"__main__\":\n",
    "    dog = Dog()\n",
    "    cat = Cat()\n",
    "\n",
    "    dog.speak()  # Output: Dog barks\n",
    "    cat.speak()  # Output: Cat meows\n",
    "\n",
    "    \n",
    "\"\"\"\n",
    "In this example:\n",
    "\n",
    "We have a base class Animal with a method speak().\n",
    "\n",
    "We create two subclasses, Dog and Cat, which inherit from the Animal class. Each subclass overrides the speak() method to provide its own implementation.\n",
    "\n",
    "When we create instances of the Dog and Cat classes and call their speak() methods, the overridden methods in each subclass are executed, producing different output.\n",
    "\n",
    "Method overriding allows you to provide specialized behavior for specific classes while maintaining a common method signature within the class hierarchy. It's a crucial aspect of polymorphism, as it allows objects of different types to be treated uniformly when they share a common interface, even though their specific implementations differ.\n",
    "\n",
    "\"\"\""
   ]
  },
  {
   "cell_type": "markdown",
   "id": "4ebc517c",
   "metadata": {},
   "source": [
    "5. How is polymorphism different from method overloading in Python? Provide examples for both."
   ]
  },
  {
   "cell_type": "raw",
   "id": "c0137adc",
   "metadata": {},
   "source": [
    "Polymorphism and method overloading are related but distinct concepts in Python.\n",
    "\n",
    "1. Polymorphism:\n",
    "\n",
    "Definition: Polymorphism allows objects of different classes to be treated as objects of a common superclass. It enables a single interface (method or function) to be used for objects of various types.\n",
    "Implementation: Polymorphism is primarily achieved through method overriding. Subclasses provide their own implementations of methods that are already defined in the superclass. The overridden methods in subclasses have the same method name and signature as the method in the superclass.\n",
    "Dynamic Binding: Polymorphism allows the method to be determined at runtime based on the actual type of the object, enabling flexibility in method execution.\n",
    "    \n",
    "Example (Polymorphism):\n",
    "    \n",
    "class Animal:\n",
    "    def speak(self):\n",
    "        pass\n",
    "\n",
    "class Dog(Animal):\n",
    "    def speak(self):\n",
    "        print(\"Dog barks\")\n",
    "\n",
    "class Cat(Animal):\n",
    "    def speak(self):\n",
    "        print(\"Cat meows\")\n",
    "\n",
    "# Usage\n",
    "dog = Dog()\n",
    "cat = Cat()\n",
    "dog.speak()  # Output: Dog barks\n",
    "cat.speak()  # Output: Cat meows\n",
    "\n",
    "\n",
    "2. Method Overloading:\n",
    "\n",
    "Definition: Method overloading occurs when a class has multiple methods with the same name but different parameter lists.\n",
    "Resolution: The method to be called is determined at compile-time based on the number or types of arguments passed to it.\n",
    "Method Signatures: In method overloading, the methods have the same name but different parameter lists, allowing you to define multiple behaviors for the same method name.\n",
    "Example (Method Overloading, Note: Python uses default arguments for similar behavior):\n",
    "    \n",
    "class Calculator:\n",
    "    def add(self, a, b):\n",
    "        return a + b\n",
    "\n",
    "    def add(self, a, b, c):\n",
    "        return a + b + c\n",
    "\n",
    "# Usage\n",
    "calc = Calculator()\n",
    "result1 = calc.add(1, 2)       # Calls the first add method\n",
    "result2 = calc.add(1, 2, 3)    # Calls the second add method\n",
    "\n",
    "\n",
    "In the method overloading example, the Calculator class has two add methods with different numbers of parameters. The correct method to call is determined at compile-time based on the number of arguments provided.\n",
    "\n",
    "Polymorphism is about using a common interface for different types of objects, primarily achieved through method overriding and determined at runtime. Method overloading, on the other hand, involves multiple methods with the same name but different parameter lists, determined at compile-time based on the provided arguments. While Python does not support traditional method overloading, it can achieve similar functionality through default arguments and variable-length argument lists."
   ]
  },
  {
   "cell_type": "markdown",
   "id": "164c8deb",
   "metadata": {},
   "source": [
    "6. Create a Python class called `Animal` with a method `speak()`. Then, create child classes like `Dog`, `Cat`, and `Bird`, each with their own `speak()` method. Demonstrate polymorphism by calling the `speak()` method\n",
    "on objects of different subclasses."
   ]
  },
  {
   "cell_type": "code",
   "execution_count": 65,
   "id": "10b4423b",
   "metadata": {},
   "outputs": [
    {
     "name": "stdout",
     "output_type": "stream",
     "text": [
      "Dog: Dog barks\n",
      "Cat: Cat meows\n",
      "Bird: Bird chirps\n"
     ]
    }
   ],
   "source": [
    "class Animal:\n",
    "    def speak(self):\n",
    "        return \"Animal speaks\"\n",
    "\n",
    "class Dog(Animal):\n",
    "    def speak(self):\n",
    "        return \"Dog barks\"\n",
    "\n",
    "class Cat(Animal):\n",
    "    def speak(self):\n",
    "        return \"Cat meows\"\n",
    "\n",
    "class Bird(Animal):\n",
    "    def speak(self):\n",
    "        return \"Bird chirps\"\n",
    "\n",
    "# Usage\n",
    "if __name__ == \"__main__\":\n",
    "    dog = Dog()\n",
    "    cat = Cat()\n",
    "    bird = Bird()\n",
    "\n",
    "    # Polymorphism in action\n",
    "    animals = [dog, cat, bird]\n",
    "\n",
    "    for animal in animals:\n",
    "        print(f\"{animal.__class__.__name__}: {animal.speak()}\")\n"
   ]
  },
  {
   "cell_type": "markdown",
   "id": "7b601201",
   "metadata": {},
   "source": [
    "7. Discuss the use of abstract methods and classes in achieving polymorphism in Python. Provide an example\n",
    "using the `abc` module."
   ]
  },
  {
   "cell_type": "code",
   "execution_count": 66,
   "id": "487ad477",
   "metadata": {},
   "outputs": [
    {
     "name": "stdout",
     "output_type": "stream",
     "text": [
      "Dog: Dog barks\n",
      "Cat: Cat meows\n",
      "Bird: Bird chirps\n"
     ]
    }
   ],
   "source": [
    "\"\"\"Abstract methods and abstract classes are used in Python to achieve polymorphism by defining a common interface that must be implemented by subclasses. Python provides the abc (Abstract Base Classes) module for this purpose. Abstract methods define a method signature but leave the implementation to the subclasses. They ensure that all subclasses provide their own implementation of the method, allowing for polymorphic behavior.\n",
    "\"\"\"\n",
    "# Example:\n",
    "\n",
    "from abc import ABC, abstractmethod\n",
    "\n",
    "class Animal(ABC):\n",
    "    @abstractmethod\n",
    "    def speak(self):\n",
    "        pass\n",
    "\n",
    "class Dog(Animal):\n",
    "    def speak(self):\n",
    "        return \"Dog barks\"\n",
    "\n",
    "class Cat(Animal):\n",
    "    def speak(self):\n",
    "        return \"Cat meows\"\n",
    "\n",
    "class Bird(Animal):\n",
    "    def speak(self):\n",
    "        return \"Bird chirps\"\n",
    "\n",
    "# Usage\n",
    "if __name__ == \"__main__\":\n",
    "    dog = Dog()\n",
    "    cat = Cat()\n",
    "    bird = Bird()\n",
    "\n",
    "    # Polymorphism in action\n",
    "    animals = [dog, cat, bird]\n",
    "\n",
    "    for animal in animals:\n",
    "        print(f\"{animal.__class__.__name__}: {animal.speak()}\")\n"
   ]
  },
  {
   "cell_type": "markdown",
   "id": "1d964bfb",
   "metadata": {},
   "source": [
    "8. Create a Python class hierarchy for a vehicle system (e.g., car, bicycle, boat) and implement"
   ]
  },
  {
   "cell_type": "code",
   "execution_count": 67,
   "id": "02f66e9c",
   "metadata": {},
   "outputs": [
    {
     "name": "stdout",
     "output_type": "stream",
     "text": [
      "Car is moving at 100 km/h.\n",
      "Car is honking.\n",
      "Bicycle is moving at 20 km/h.\n",
      "Bicycle is ringing the bell.\n",
      "Boat is moving at 30 km/h.\n",
      "Boat's Outboard engine is starting.\n"
     ]
    }
   ],
   "source": [
    "class Vehicle:\n",
    "    def __init__(self, name, speed):\n",
    "        self.name = name\n",
    "        self.speed = speed\n",
    "\n",
    "    def move(self):\n",
    "        return f\"{self.name} is moving at {self.speed} km/h.\"\n",
    "\n",
    "class Car(Vehicle):\n",
    "    def __init__(self, name, speed, fuel_type):\n",
    "        super().__init__(name, speed)\n",
    "        self.fuel_type = fuel_type\n",
    "\n",
    "    def honk(self):\n",
    "        return f\"{self.name} is honking.\"\n",
    "\n",
    "class Bicycle(Vehicle):\n",
    "    def __init__(self, name, speed, type):\n",
    "        super().__init__(name, speed)\n",
    "        self.type = type\n",
    "\n",
    "    def ring_bell(self):\n",
    "        return f\"{self.name} is ringing the bell.\"\n",
    "\n",
    "class Boat(Vehicle):\n",
    "    def __init__(self, name, speed, propulsion):\n",
    "        super().__init__(name, speed)\n",
    "        self.propulsion = propulsion\n",
    "\n",
    "    def start_engine(self):\n",
    "        return f\"{self.name}'s {self.propulsion} engine is starting.\"\n",
    "\n",
    "# Usage\n",
    "if __name__ == \"__main__\":\n",
    "    car = Car(\"Car\", 100, \"Gasoline\")\n",
    "    bicycle = Bicycle(\"Bicycle\", 20, \"Mountain Bike\")\n",
    "    boat = Boat(\"Boat\", 30, \"Outboard\")\n",
    "\n",
    "    print(car.move())           # Output: Car is moving at 100 km/h.\n",
    "    print(car.honk())           # Output: Car is honking.\n",
    "\n",
    "    print(bicycle.move())       # Output: Bicycle is moving at 20 km/h.\n",
    "    print(bicycle.ring_bell())  # Output: Bicycle is ringing the bell.\n",
    "\n",
    "    print(boat.move())          # Output: Boat is moving at 30 km/h.\n",
    "    print(boat.start_engine())  # Output: Boat's Outboard engine is starting.\n"
   ]
  },
  {
   "cell_type": "markdown",
   "id": "70671f67",
   "metadata": {},
   "source": [
    "9. Explain the significance of the `isinstance()` and `issubclass()` functions in Python polymorphism."
   ]
  },
  {
   "cell_type": "raw",
   "id": "67fc637c",
   "metadata": {},
   "source": [
    "The isinstance() and issubclass() functions in Python play significant roles in polymorphism and help determine the relationships between objects and classes in a class hierarchy:\n",
    "\n",
    "isinstance() Function:\n",
    "\n",
    "Purpose: The isinstance() function is used to check if an object belongs to a particular class or is an instance of a particular type. It helps determine the type of an object at runtime.\n",
    "\n",
    "Significance in Polymorphism:\n",
    "\n",
    "isinstance() is often used to perform type checking, which is crucial in achieving polymorphism. It allows you to determine if an object can be treated as an instance of a particular class, including its subclasses.\n",
    "This is especially useful when you have a list or collection of objects of different types, and you want to perform operations or call methods on them based on their types.\n",
    "\n",
    "#Example:\n",
    "\n",
    "class Animal:\n",
    "    pass\n",
    "\n",
    "class Dog(Animal):\n",
    "    pass\n",
    "\n",
    "dog = Dog()\n",
    "animal = Animal()\n",
    "\n",
    "print(isinstance(dog, Dog))     # True\n",
    "print(isinstance(animal, Dog))  # False\n",
    "issubclass() Function:\n",
    "\n",
    "Purpose: The issubclass() function is used to check if a class is a subclass of another class. It helps establish the class hierarchy and relationships between classes.\n",
    "\n",
    "Significance in Polymorphism:\n",
    "\n",
    "issubclass() is important for understanding the class hierarchy and inheritance relationships. It allows you to determine if one class is a subclass of another.\n",
    "This is useful when you want to ensure that a subclass adheres to a certain interface or contract, which is essential for polymorphism to work effectively.\n",
    "\n",
    "\n",
    "# Example\n",
    "class Animal:\n",
    "    pass\n",
    "\n",
    "class Dog(Animal):\n",
    "    pass\n",
    "\n",
    "print(issubclass(Dog, Animal))  # True\n",
    "In summary, isinstance() and issubclass() are essential functions that help enable polymorphism in Python:\n",
    "\n",
    "isinstance() is used for type checking and runtime determination of object types, which is crucial for polymorphism when dealing with objects of different classes.\n",
    "\n",
    "issubclass() is used to establish class relationships and inheritance hierarchies, ensuring that subclasses adhere to the interface defined by their base classes, promoting polymorphism"
   ]
  },
  {
   "cell_type": "markdown",
   "id": "e52af41d",
   "metadata": {},
   "source": [
    "10. What is the role of the `@abstractmethod` decorator in achieving polymorphism in Python? Provide an\n",
    "example."
   ]
  },
  {
   "cell_type": "code",
   "execution_count": 68,
   "id": "0cda124c",
   "metadata": {},
   "outputs": [
    {
     "name": "stdout",
     "output_type": "stream",
     "text": [
      "Area: 78.5\n",
      "Area: 24\n"
     ]
    },
    {
     "data": {
      "text/plain": [
       "'\\nThe @abstractmethod decorator enforces the creation of a common interface for subclasses, \\npromoting polymorphism by ensuring that all subclasses provide their own implementations \\nof the abstract method. This is a powerful mechanism for achieving polymorphism and code \\nuniformity in a class hierarchy.\\n'"
      ]
     },
     "execution_count": 68,
     "metadata": {},
     "output_type": "execute_result"
    }
   ],
   "source": [
    "\"\"\"The @abstractmethod decorator is a key component of achieving polymorphism in \n",
    "Python by defining abstract methods in abstract base classes. Abstract methods \n",
    "are methods that are declared in a base class but have no implementation. \n",
    "Subclasses of the abstract base class are required to provide concrete implementations \n",
    "for these abstract methods. This ensures that all subclasses adhere to a common interface, \n",
    "facilitating polymorphism.\"\"\"\n",
    "\n",
    "# Example:\n",
    "from abc import ABC, abstractmethod\n",
    "\n",
    "class Shape(ABC):\n",
    "    @abstractmethod\n",
    "    def calculate_area(self):\n",
    "        pass\n",
    "\n",
    "class Circle(Shape):\n",
    "    def __init__(self, radius):\n",
    "        self.radius = radius\n",
    "\n",
    "    def calculate_area(self):\n",
    "        return 3.14 * self.radius * self.radius\n",
    "\n",
    "class Rectangle(Shape):\n",
    "    def __init__(self, length, width):\n",
    "        self.length = length\n",
    "        self.width = width\n",
    "\n",
    "    def calculate_area(self):\n",
    "        return self.length * self.width\n",
    "\n",
    "# Usage\n",
    "if __name__ == \"__main__\":\n",
    "    circle = Circle(5)\n",
    "    rectangle = Rectangle(4, 6)\n",
    "\n",
    "    shapes = [circle, rectangle]\n",
    "\n",
    "    for shape in shapes:\n",
    "        print(f\"Area: {shape.calculate_area()}\")\n",
    "\n",
    "\"\"\"\n",
    "The @abstractmethod decorator enforces the creation of a common interface for subclasses, \n",
    "promoting polymorphism by ensuring that all subclasses provide their own implementations \n",
    "of the abstract method. This is a powerful mechanism for achieving polymorphism and code \n",
    "uniformity in a class hierarchy.\n",
    "\"\"\""
   ]
  },
  {
   "cell_type": "markdown",
   "id": "0acbc759",
   "metadata": {},
   "source": [
    "11. Create a Python class called `Shape` with a polymorphic method `area()` that calculates the area of different shapes (e.g., circle, rectangle, triangle)."
   ]
  },
  {
   "cell_type": "code",
   "execution_count": 69,
   "id": "8b56f389",
   "metadata": {},
   "outputs": [
    {
     "name": "stdout",
     "output_type": "stream",
     "text": [
      "Area: 78.5\n",
      "Area: 24\n",
      "Area: 6.0\n"
     ]
    }
   ],
   "source": [
    "class Shape:\n",
    "    def area(self):\n",
    "        pass  # This method will be implemented in specific shape subclasses\n",
    "\n",
    "class Circle(Shape):\n",
    "    def __init__(self, radius):\n",
    "        self.radius = radius\n",
    "\n",
    "    def area(self):\n",
    "        return 3.14 * self.radius * self.radius\n",
    "\n",
    "class Rectangle(Shape):\n",
    "    def __init__(self, length, width):\n",
    "        self.length = length\n",
    "        self.width = width\n",
    "\n",
    "    def area(self):\n",
    "        return self.length * self.width\n",
    "\n",
    "class Triangle(Shape):\n",
    "    def __init__(self, base, height):\n",
    "        self.base = base\n",
    "        self.height = height\n",
    "\n",
    "    def area(self):\n",
    "        return 0.5 * self.base * self.height\n",
    "\n",
    "# Usage\n",
    "if __name__ == \"__main__\":\n",
    "    circle = Circle(5)\n",
    "    rectangle = Rectangle(4, 6)\n",
    "    triangle = Triangle(3, 4)\n",
    "\n",
    "    shapes = [circle, rectangle, triangle]\n",
    "\n",
    "    for shape in shapes:\n",
    "        print(f\"Area: {shape.area()}\")\n"
   ]
  },
  {
   "cell_type": "markdown",
   "id": "564cc471",
   "metadata": {},
   "source": [
    "12. Discuss the benefits of polymorphism in terms of code reusability and flexibility in Python programs."
   ]
  },
  {
   "cell_type": "raw",
   "id": "7f52e9a1",
   "metadata": {},
   "source": [
    "Polymorphism is a fundamental concept in object-oriented programming and has several benefits in terms of code reusability and flexibility in Python programs:\n",
    "\n",
    "Code Reusability:\n",
    "\n",
    "Polymorphism allows you to create a common interface for objects of different classes, enabling you to use them interchangeably. This promotes code reusability since you can write code that works with the common interface and then reuse it with various objects that adhere to that interface.\n",
    "Flexibility:\n",
    "\n",
    "Polymorphism makes your code more flexible and adaptable to changes. When you introduce a new subclass that adheres to the same interface, your existing code doesn't need modification. This reduces the risk of introducing errors when extending your codebase.\n",
    "Modularity:\n",
    "\n",
    "Polymorphism promotes modular and organized code. By defining a common interface or base class with polymorphic methods, you can separate concerns and encapsulate functionality. Each subclass can have its own implementation details, leading to a cleaner code structure.\n",
    "Scalability:\n",
    "\n",
    "Polymorphism allows you to build systems that can grow and scale more easily. You can add new subclasses without changing the existing codebase, making it simpler to accommodate new features or handle different types of objects.\n",
    "Simplicity:\n",
    "\n",
    "Code that uses polymorphism tends to be more concise and readable. By using a common interface for different objects, you can write simpler and more generic code that doesn't need to branch based on the specific type of object.\n",
    "Testing and Debugging:\n",
    "\n",
    "Polymorphism simplifies testing and debugging. You can create test cases and debugging routines that work with the common interface, making it easier to identify and fix issues in your code.\n",
    "Open-Closed Principle:\n",
    "\n",
    "Polymorphism aligns with the open-closed principle, which is one of the SOLID principles of object-oriented design. This principle states that classes should be open for extension but closed for modification. Polymorphism allows you to extend functionality by adding new subclasses without modifying existing code.\n",
    "In summary, polymorphism enhances code reusability, flexibility, and maintainability. It allows you to build more modular, scalable, and adaptable software systems that can evolve and grow with changing requirements, ultimately leading to more robust and efficient codebases."
   ]
  },
  {
   "cell_type": "markdown",
   "id": "f98c2e90",
   "metadata": {},
   "source": [
    "13. Explain the use of the `super()` function in Python polymorphism. How does it help call methods of parent\n",
    "classes?"
   ]
  },
  {
   "cell_type": "raw",
   "id": "5b7169fa",
   "metadata": {},
   "source": [
    "The super() function in Python is used to call methods of a parent class from a subclass. It plays a crucial role in achieving polymorphism and is especially useful when you want to extend the behavior of a method in a subclass while preserving the functionality of the same method in the parent class. Here's how super() works:\n",
    "\n",
    "Accessing Parent Class Methods:\n",
    "\n",
    "When you call super().method_name(), you are invoking the method from the parent class (the superclass) of the current class.\n",
    "This allows you to reuse and extend the functionality of the parent class's method.\n",
    "Preserving Parent Class Behavior:\n",
    "\n",
    "By using super(), you can extend the behavior of a method without completely replacing it. The parent class's method is still executed alongside the additional functionality provided by the subclass.\n",
    "Passing Arguments:\n",
    "\n",
    "You can also use super() to pass arguments to the parent class method, allowing you to customize the behavior based on the specific context of the subclass.\n",
    "\n",
    "\n",
    "class Parent:\n",
    "    def show_info(self):\n",
    "        print(\"This is the Parent class.\")\n",
    "\n",
    "class Child(Parent):\n",
    "    def show_info(self):\n",
    "        super().show_info()  # Call the Parent class method\n",
    "        print(\"This is the Child class.\")\n",
    "\n",
    "# Usage\n",
    "if __name__ == \"__main__\":\n",
    "    child = Child()\n",
    "    child.show_info()\n"
   ]
  },
  {
   "cell_type": "markdown",
   "id": "3451e740",
   "metadata": {},
   "source": [
    "14. Create a Python class hierarchy for a banking system with various account types (e.g., savings, checking, credit card) and demonstrate polymorphism by implementing a common `withdraw()` method."
   ]
  },
  {
   "cell_type": "code",
   "execution_count": 70,
   "id": "13e2d00e",
   "metadata": {},
   "outputs": [
    {
     "name": "stdout",
     "output_type": "stream",
     "text": [
      "Withdrawn $300 from Savings Account. New balance: $698\n",
      "Withdrawn $300 from Checking Account. New balance: $1700\n",
      "Withdrawn $300 from Credit Card Account. New balance: $200\n"
     ]
    }
   ],
   "source": [
    "class BankAccount:\n",
    "    def __init__(self, account_number, balance):\n",
    "        self.account_number = account_number\n",
    "        self.balance = balance\n",
    "\n",
    "    def withdraw(self, amount):\n",
    "        if amount > 0 and amount <= self.balance:\n",
    "            self.balance -= amount\n",
    "            return f\"Withdrawn ${amount}. New balance: ${self.balance}\"\n",
    "        else:\n",
    "            return \"Withdrawal failed: Insufficient funds.\"\n",
    "\n",
    "class SavingsAccount(BankAccount):\n",
    "    def __init__(self, account_number, balance, interest_rate):\n",
    "        super().__init__(account_number, balance)\n",
    "        self.interest_rate = interest_rate\n",
    "\n",
    "    def withdraw(self, amount):\n",
    "        withdrawal_fee = 2  # A fee for withdrawals from savings account\n",
    "        total_withdrawal = amount + withdrawal_fee\n",
    "        if total_withdrawal <= self.balance:\n",
    "            self.balance -= total_withdrawal\n",
    "            return f\"Withdrawn ${amount} from Savings Account. New balance: ${self.balance}\"\n",
    "        else:\n",
    "            return \"Withdrawal failed: Insufficient funds.\"\n",
    "\n",
    "class CheckingAccount(BankAccount):\n",
    "    def __init__(self, account_number, balance, overdraft_limit):\n",
    "        super().__init__(account_number, balance)\n",
    "        self.overdraft_limit = overdraft_limit\n",
    "\n",
    "    def withdraw(self, amount):\n",
    "        if amount > 0 and amount <= (self.balance + self.overdraft_limit):\n",
    "            self.balance -= amount\n",
    "            return f\"Withdrawn ${amount} from Checking Account. New balance: ${self.balance}\"\n",
    "        else:\n",
    "            return \"Withdrawal failed: Insufficient funds.\"\n",
    "\n",
    "class CreditCardAccount(BankAccount):\n",
    "    def __init__(self, account_number, balance, credit_limit):\n",
    "        super().__init__(account_number, balance)\n",
    "        self.credit_limit = credit_limit\n",
    "\n",
    "    def withdraw(self, amount):\n",
    "        if amount > 0 and amount <= (self.balance + self.credit_limit):\n",
    "            self.balance -= amount\n",
    "            return f\"Withdrawn ${amount} from Credit Card Account. New balance: ${self.balance}\"\n",
    "        else:\n",
    "            return \"Withdrawal failed: Exceeds credit limit.\"\n",
    "\n",
    "# Usage\n",
    "if __name__ == \"__main__\":\n",
    "    savings = SavingsAccount(\"SAV123\", 1000, 0.02)\n",
    "    checking = CheckingAccount(\"CHK456\", 2000, 500)\n",
    "    credit_card = CreditCardAccount(\"CC789\", 500, 1000)\n",
    "\n",
    "    accounts = [savings, checking, credit_card]\n",
    "\n",
    "    for account in accounts:\n",
    "        print(account.withdraw(300))\n"
   ]
  },
  {
   "cell_type": "markdown",
   "id": "8aa53df1",
   "metadata": {},
   "source": [
    "15. Describe the concept of operator overloading in Python and how it relates to polymorphism. Provide\n",
    "examples using operators like `+` and `*`."
   ]
  },
  {
   "cell_type": "raw",
   "id": "504e86ec",
   "metadata": {},
   "source": [
    "Operator overloading in Python is a concept that allows you to define how operators behave for objects of user-defined classes.\n",
    "It's closely related to polymorphism because it enables different classes to provide their own implementation of operators, which \n",
    "leads to polymorphic behavior when using those operators on objects of different classes.\n",
    "\n",
    "\n",
    "Here's how operator overloading relates to polymorphism:\n",
    "\n",
    "Polymorphism through Operator Overloading:\n",
    "\n",
    "Operator overloading allows different classes to provide their own implementations for common operators, such as +, -, *, /, and others. This means that the behavior of these operators can vary depending on the class of the objects they operate on. This is an example of polymorphism, where operators exhibit different behaviors for different object types.\n",
    "Common Operator Overloading Methods:\n",
    "\n",
    "In Python, operator overloading is achieved by defining special methods in the class that correspond to specific operators. For example, to overload the + operator, you define the __add__() method. When you use + on objects of a class, Python calls the __add__() method of that class, allowing you to define custom addition behavior.\n",
    "\n",
    "Some common operator overloading methods and the corresponding operators include:\n",
    "\n",
    "__add__() for +\n",
    "__sub__() for -\n",
    "__mul__() for *\n",
    "__truediv__() for /\n",
    "__eq__() for ==\n",
    "\n",
    "\n",
    "class Vector:\n",
    "    def __init__(self, x, y):\n",
    "        self.x = x\n",
    "        self.y = y\n",
    "\n",
    "    # Overload the + operator\n",
    "    def __add__(self, other):\n",
    "        return Vector(self.x + other.x, self.y + other.y)\n",
    "\n",
    "    # Overload the * operator for scalar multiplication\n",
    "    def __mul__(self, scalar):\n",
    "        return Vector(self.x * scalar, self.y * scalar)\n",
    "\n",
    "    # Overload the == operator for equality comparison\n",
    "    def __eq__(self, other):\n",
    "        return self.x == other.x and self.y == other.y\n",
    "\n",
    "# Usage\n",
    "if __name__ == \"__main__\":\n",
    "    v1 = Vector(2, 3)\n",
    "    v2 = Vector(1, 2)\n",
    "\n",
    "    # Operator overloading with +\n",
    "    result_addition = v1 + v2\n",
    "    print(result_addition.x, result_addition.y)  # Output: 3 5\n",
    "\n",
    "    # Operator overloading with *\n",
    "    scalar = 2\n",
    "    result_multiplication = v1 * scalar\n",
    "    print(result_multiplication.x, result_multiplication.y)  # Output: 4 6\n",
    "\n",
    "    # Operator overloading with ==\n",
    "    v3 = Vector(2, 3)\n",
    "    print(v1 == v2)  # Output: False\n",
    "    print(v1 == v3)  # Output: True\n",
    "\n"
   ]
  },
  {
   "cell_type": "markdown",
   "id": "6d12a70b",
   "metadata": {},
   "source": [
    "16. What is dynamic polymorphism, and how is it achieved in Python?"
   ]
  },
  {
   "cell_type": "raw",
   "id": "2b238c2d",
   "metadata": {},
   "source": [
    "Dynamic polymorphism, also known as runtime polymorphism or late binding, is a fundamental concept in object-oriented programming. It allows different classes to provide their own implementations of methods with the same name and signature, and the appropriate method to execute is determined at runtime based on the actual object's type. In Python, dynamic polymorphism is achieved through method overriding.\n",
    "\n",
    "Here's how dynamic polymorphism is achieved in Python:\n",
    "\n",
    "Inheritance and Method Overriding:\n",
    "\n",
    "To achieve dynamic polymorphism, you need to use inheritance. Create a base class with a method, and then create one or more derived classes that inherit from the base class. The derived classes should provide their own implementations of the method with the same name and signature. This is known as method overriding.\n",
    "Method Resolution Order (MRO):\n",
    "\n",
    "When a method is called on an object, Python determines which method to execute based on the Method Resolution Order (MRO). The MRO defines the order in which Python searches for methods in the class hierarchy. Python uses the C3 Linearization algorithm to compute the MRO.\n",
    "Calling the Method:\n",
    "\n",
    "When you call a method on an object, Python looks for the method in the object's class first. If it's not found, Python follows the MRO to search in the parent classes in a specific order until the method is found or the entire hierarchy is searched.\n",
    "Polymorphic Behavior:\n",
    "\n",
    "Different objects of different classes can be used interchangeably. When you call a method on an object, Python dynamically dispatches the call to the appropriate method based on the object's actual class at runtime. This is what gives you polymorphic behavior.\n",
    "\n",
    "# Example:\n",
    "class Animal:\n",
    "    def speak(self):\n",
    "        pass  # To be implemented in the specific animal subclasses\n",
    "\n",
    "class Dog(Animal):\n",
    "    def speak(self):\n",
    "        return \"Woof!\"\n",
    "\n",
    "class Cat(Animal):\n",
    "    def speak(self):\n",
    "        return \"Meow!\"\n",
    "\n",
    "# Usage\n",
    "if __name__ == \"__main__\":\n",
    "    dog = Dog()\n",
    "    cat = Cat()\n",
    "\n",
    "    animals = [dog, cat]\n",
    "\n",
    "    for animal in animals:\n",
    "        print(animal.speak())  # Polymorphic behavior: Calls the appropriate speak() method for each object\n"
   ]
  },
  {
   "cell_type": "markdown",
   "id": "4626dfde",
   "metadata": {},
   "source": [
    "17. Create a Python class hierarchy for employees in a company (e.g., manager, developer, designer) and implement polymorphism through a common `calculate_salary()` method."
   ]
  },
  {
   "cell_type": "code",
   "execution_count": 71,
   "id": "19ff81eb",
   "metadata": {},
   "outputs": [
    {
     "name": "stdout",
     "output_type": "stream",
     "text": [
      "Alice's total salary: $75000\n",
      "Bob's total salary: $60000\n",
      "Charlie's total salary: $62000\n"
     ]
    }
   ],
   "source": [
    "class Employee:\n",
    "    def __init__(self, employee_id, name, base_salary):\n",
    "        self.employee_id = employee_id\n",
    "        self.name = name\n",
    "        self.base_salary = base_salary\n",
    "\n",
    "    def calculate_salary(self):\n",
    "        return self.base_salary\n",
    "\n",
    "class Manager(Employee):\n",
    "    def __init__(self, employee_id, name, base_salary, bonus):\n",
    "        super().__init__(employee_id, name, base_salary)\n",
    "        self.bonus = bonus\n",
    "\n",
    "    def calculate_salary(self):\n",
    "        return self.base_salary + self.bonus\n",
    "\n",
    "class Developer(Employee):\n",
    "    def __init__(self, employee_id, name, base_salary, overtime_pay):\n",
    "        super().__init__(employee_id, name, base_salary)\n",
    "        self.overtime_pay = overtime_pay\n",
    "\n",
    "    def calculate_salary(self):\n",
    "        return self.base_salary + self.overtime_pay\n",
    "\n",
    "class Designer(Employee):\n",
    "    def __init__(self, employee_id, name, base_salary, project_bonus):\n",
    "        super().__init__(employee_id, name, base_salary)\n",
    "        self.project_bonus = project_bonus\n",
    "\n",
    "    def calculate_salary(self):\n",
    "        return self.base_salary + self.project_bonus\n",
    "\n",
    "# Usage\n",
    "if __name__ == \"__main__\":\n",
    "    manager = Manager(\"M001\", \"Alice\", 60000, 15000)\n",
    "    developer = Developer(\"D001\", \"Bob\", 55000, 5000)\n",
    "    designer = Designer(\"DS001\", \"Charlie\", 52000, 10000)\n",
    "\n",
    "    employees = [manager, developer, designer]\n",
    "\n",
    "    for employee in employees:\n",
    "        print(f\"{employee.name}'s total salary: ${employee.calculate_salary()}\")\n"
   ]
  },
  {
   "cell_type": "markdown",
   "id": "c77f737b",
   "metadata": {},
   "source": [
    "18. Discuss the concept of function pointers and how they can be used to achieve polymorphism in Python."
   ]
  },
  {
   "cell_type": "code",
   "execution_count": 72,
   "id": "3f2a9e9d",
   "metadata": {},
   "outputs": [
    {
     "name": "stdout",
     "output_type": "stream",
     "text": [
      "Woof!\n",
      "Meow!\n",
      "Woof!\n",
      "Meow!\n"
     ]
    }
   ],
   "source": [
    "\"\"\"In Python, function pointers aren't used in the same way as in some other languages like C or C++, but the concept of polymorphism is achieved through other means, particularly by using functions and methods as first-class objects. Python supports the use of functions and methods as objects, and this flexibility allows us to achieve polymorphism without explicit function pointers.\n",
    "\n",
    "Here's how you can achieve polymorphism in Python using functions and methods:\n",
    "\n",
    "First-Class Functions: In Python, functions are first-class citizens, which means they can be assigned to variables, passed as arguments to other functions, and returned from functions. This property allows you to create \"pointers\" to functions or methods indirectly without using explicit pointers.\n",
    "\n",
    "Method Overriding: Polymorphism in Python is primarily achieved through method overriding. When different classes provide their own implementations of methods with the same name and signature, you can call these methods on objects of different classes, and Python will dynamically dispatch the call to the appropriate method.\n",
    "\n",
    "Function Pointers via Variables: You can assign functions or methods to variables and call those variables to achieve similar behavior to function pointers in other languages.\n",
    "\"\"\"    \n",
    "class Animal:\n",
    "    def speak(self):\n",
    "        pass  # To be implemented in the specific animal subclasses\n",
    "\n",
    "class Dog(Animal):\n",
    "    def speak(self):\n",
    "        return \"Woof!\"\n",
    "\n",
    "class Cat(Animal):\n",
    "    def speak(self):\n",
    "        return \"Meow!\"\n",
    "\n",
    "# Function pointer-like variables\n",
    "dog_speak_func = Dog().speak\n",
    "cat_speak_func = Cat().speak\n",
    "\n",
    "# Usage\n",
    "if __name__ == \"__main__\":\n",
    "    animals = [Dog(), Cat()]\n",
    "\n",
    "    for animal in animals:\n",
    "        print(animal.speak())  # Polymorphic behavior: Calls the appropriate speak() method for each object\n",
    "\n",
    "    # Using function pointer-like variables\n",
    "    print(dog_speak_func())  # Output: Woof!\n",
    "    print(cat_speak_func())  # Output: Meow!\n"
   ]
  },
  {
   "cell_type": "markdown",
   "id": "5faa0743",
   "metadata": {},
   "source": [
    "19. Explain the role of interfaces and abstract classes in polymorphism, drawing comparisons between them."
   ]
  },
  {
   "cell_type": "raw",
   "id": "144ecdd7",
   "metadata": {},
   "source": [
    "In object-oriented programming, interfaces and abstract classes play a crucial role in achieving polymorphism by defining contracts that subclasses must adhere to. However, they serve slightly different purposes and have distinct characteristics. Let's explore the roles of interfaces and abstract classes in polymorphism and compare them:\n",
    "\n",
    "Abstract Classes:\n",
    "\n",
    "Definition: An abstract class is a class that cannot be instantiated on its own and is meant to be subclassed. It can contain a mix of concrete methods (with implementations) and abstract methods (without implementations).\n",
    "\n",
    "Abstract Methods: Abstract classes can define abstract methods, which are methods declared without implementation. Subclasses are required to provide implementations for these abstract methods.\n",
    "\n",
    "Inheritance: Subclasses of an abstract class inherit its attributes and methods. They can override and extend the behavior of inherited methods, including abstract methods.\n",
    "\n",
    "Role in Polymorphism: Abstract classes can define a common interface with some concrete methods and some abstract methods. This allows for the standardization of method signatures across subclasses while providing flexibility in method implementation.\n",
    "\n",
    "Interfaces:\n",
    "\n",
    "Definition: An interface is a pure contract that specifies a set of methods that implementing classes must define. In Python, interfaces are not a built-in language feature like in some other languages, but they can be emulated using abstract classes with abstract methods.\n",
    "\n",
    "Abstract Methods: Interfaces contain only abstract methods; there are no concrete method implementations within an interface. Implementing classes must provide implementations for all the methods defined in the interface.\n",
    "\n",
    "Multiple Inheritance: A class in Python can implement multiple interfaces (emulated as abstract classes). This is similar to multiple inheritance but focuses on implementing a set of methods.\n",
    "\n",
    "Role in Polymorphism: Interfaces set a strict contract that implementing classes must adhere to. This ensures a consistent method signature across different classes, enabling polymorphism when objects of implementing classes are treated uniformly based on the shared interface.\n",
    "\n",
    "Comparisons:\n",
    "\n",
    "Abstract classes provide a way to mix concrete methods with abstract methods, allowing for shared functionality among subclasses. In contrast, interfaces focus solely on defining method contracts.\n",
    "\n",
    "Abstract classes promote code reuse by allowing common method implementations in the base class. Interfaces, being pure contracts, encourage the implementation of methods in implementing classes.\n",
    "\n",
    "Python doesn't have a built-in interface keyword, but interfaces can be emulated using abstract classes. This means that Python doesn't have a strict separation between abstract classes and interfaces, as found in some other languages.\n",
    "\n",
    "Both abstract classes and interfaces play a critical role in achieving polymorphism by ensuring a consistent method signature across related classes. They allow objects of different classes to be treated uniformly when they share a common base (either an abstract class or an emulated interface).\n",
    "\n",
    "In summary, abstract classes and interfaces are design constructs that promote polymorphism by standardizing method signatures. Abstract classes provide more flexibility, while interfaces emphasize strict contracts. In Python, you often use abstract classes to emulate interfaces, and the choice between them depends on the specific needs of your design and the desired level of flexibility and standardization."
   ]
  },
  {
   "cell_type": "markdown",
   "id": "415918d0",
   "metadata": {},
   "source": [
    "20. Create a Python class for a zoo simulation, demonstrating polymorphism with different animal types (e.g., mammals, birds, reptiles) and their behavior (e.g., eating, sleeping, making sounds)."
   ]
  },
  {
   "cell_type": "code",
   "execution_count": 73,
   "id": "9fcaa9da",
   "metadata": {},
   "outputs": [
    {
     "name": "stdout",
     "output_type": "stream",
     "text": [
      "Simba the mammal is eating.\n",
      "Simba the mammal is sleeping.\n",
      "Simba the mammal makes a sound.\n",
      "\n",
      "Polly the bird is pecking at seeds.\n",
      "Polly the bird is perching and resting.\n",
      "Polly the bird sings a melody.\n",
      "\n",
      "Slytherin the reptile is hunting for prey.\n",
      "Slytherin the reptile is basking in the sun.\n",
      "Slytherin the reptile hisses.\n",
      "\n"
     ]
    }
   ],
   "source": [
    "class Animal:\n",
    "    def __init__(self, name):\n",
    "        self.name = name\n",
    "\n",
    "    def eat(self):\n",
    "        pass  # To be implemented in subclasses\n",
    "\n",
    "    def sleep(self):\n",
    "        pass  # To be implemented in subclasses\n",
    "\n",
    "    def make_sound(self):\n",
    "        pass  # To be implemented in subclasses\n",
    "\n",
    "class Mammal(Animal):\n",
    "    def eat(self):\n",
    "        return f\"{self.name} the mammal is eating.\"\n",
    "\n",
    "    def sleep(self):\n",
    "        return f\"{self.name} the mammal is sleeping.\"\n",
    "\n",
    "    def make_sound(self):\n",
    "        return f\"{self.name} the mammal makes a sound.\"\n",
    "\n",
    "class Bird(Animal):\n",
    "    def eat(self):\n",
    "        return f\"{self.name} the bird is pecking at seeds.\"\n",
    "\n",
    "    def sleep(self):\n",
    "        return f\"{self.name} the bird is perching and resting.\"\n",
    "\n",
    "    def make_sound(self):\n",
    "        return f\"{self.name} the bird sings a melody.\"\n",
    "\n",
    "class Reptile(Animal):\n",
    "    def eat(self):\n",
    "        return f\"{self.name} the reptile is hunting for prey.\"\n",
    "\n",
    "    def sleep(self):\n",
    "        return f\"{self.name} the reptile is basking in the sun.\"\n",
    "\n",
    "    def make_sound(self):\n",
    "        return f\"{self.name} the reptile hisses.\"\n",
    "\n",
    "# Usage\n",
    "if __name__ == \"__main__\":\n",
    "    lion = Mammal(\"Simba\")\n",
    "    parrot = Bird(\"Polly\")\n",
    "    snake = Reptile(\"Slytherin\")\n",
    "\n",
    "    zoo = [lion, parrot, snake]\n",
    "\n",
    "    for animal in zoo:\n",
    "        print(animal.eat())\n",
    "        print(animal.sleep())\n",
    "        print(animal.make_sound())\n",
    "        print()\n"
   ]
  },
  {
   "cell_type": "markdown",
   "id": "faa73156",
   "metadata": {},
   "source": [
    "# Abstraction:"
   ]
  },
  {
   "cell_type": "markdown",
   "id": "cc307883",
   "metadata": {},
   "source": [
    "1. What is abstraction in Python, and how does it relate to object-oriented programming?"
   ]
  },
  {
   "cell_type": "raw",
   "id": "5e889a26",
   "metadata": {},
   "source": [
    "Abstraction is a fundamental concept in object-oriented programming (OOP) and refers to the process of simplifying complex systems by breaking them into smaller, more manageable parts. In Python, as in other OOP languages, abstraction helps in creating a clear and simplified representation of real-world entities and their interactions within a program.\n",
    "\n",
    "Here are the key aspects of abstraction in Python and its relationship to OOP:\n",
    "\n",
    "Hiding Complex Implementation Details: Abstraction allows you to hide the intricate details of how a class or object works. It provides a high-level, simplified view of an object or a system, which is often more manageable and easier to work with. This is done by defining a clear interface (a set of methods or attributes) for an object while hiding the underlying complexities.\n",
    "\n",
    "Defining Abstract Classes and Interfaces: In Python, you can define abstract classes and interfaces using the abc module. Abstract classes can have abstract methods that must be implemented by their subclasses, ensuring that specific behaviors are defined for each subclass. This is a form of abstraction that enforces a common structure or contract while allowing each subclass to implement its unique functionality.\n",
    "\n",
    "Polymorphism: Abstraction is closely related to polymorphism, another key OOP concept. Polymorphism allows objects of different classes to be treated as instances of a common superclass or interface, making it easier to work with various objects in a uniform way.\n",
    "\n",
    "Encapsulation: Abstraction is often combined with encapsulation. Encapsulation hides the internal state of an object, and abstraction hides the implementation details, collectively allowing you to create objects with well-defined interfaces that users of the class can interact with.\n",
    "\n",
    "Focus on Relevant Information: Abstraction helps you focus on the relevant information and operations, filtering out the non-essential details. For example, when working with a class representing a car, you might care about methods like \"start_engine\" and \"accelerate\" but not the internal workings of the engine or transmission.\n",
    "\n",
    "In Python, abstraction is achieved through the use of classes and objects. You define classes with clear and well-defined interfaces, and users of these classes interact with objects based on that interface. Abstraction simplifies code, improves code readability, and supports modularity by breaking complex systems into smaller, reusable components.\n",
    "\n",
    "To summarize, abstraction in Python is a key concept in OOP that involves simplifying complex systems by defining clear interfaces, hiding implementation details, and allowing objects of different classes to be treated uniformly, leading to more organized and manageable code."
   ]
  },
  {
   "cell_type": "markdown",
   "id": "254964cd",
   "metadata": {},
   "source": [
    "2. Describe the benefits of abstraction in terms of code organization and complexity reduction."
   ]
  },
  {
   "cell_type": "raw",
   "id": "f272c201",
   "metadata": {},
   "source": [
    "Abstraction offers several benefits in terms of code organization and complexity reduction in software development:\n",
    "\n",
    "Simplification of Complex Systems: Abstraction allows you to break down complex systems into smaller, more manageable components. By abstracting away intricate implementation details, you can focus on the high-level functionality and interactions of these components. This simplification makes the code easier to understand and maintain.\n",
    "\n",
    "Modularity: Abstraction promotes modularity, which is the practice of dividing a program into self-contained, reusable modules or classes. Each module or class can encapsulate a specific aspect of functionality. This modularity enhances code organization and reusability. Developers can work on individual modules without needing to understand the entire system, making code maintenance and updates more straightforward.\n",
    "\n",
    "Code Reusability: Abstraction encourages the creation of reusable components. When you abstract common functionality into classes or modules with well-defined interfaces, you can reuse these components in different parts of your code or in other projects. This reduces redundant code and promotes a more efficient and consistent development process.\n",
    "\n",
    "Ease of Maintenance: Abstracting implementation details and providing clear interfaces makes it easier to maintain code. When changes are required, you can modify or extend the implementation of a class or module without affecting the external code that relies on it. This separation of concerns simplifies debugging and updates.\n",
    "\n",
    "Improved Collaboration: Abstraction facilitates collaboration among developers. When code is organized into well-defined abstractions, multiple team members can work on different components simultaneously, provided they adhere to the established interfaces. This concurrent development can lead to faster project progress.\n",
    "\n",
    "Enhanced Code Readability: Abstraction results in code that is more readable and understandable. With complex details hidden, the focus shifts to high-level functionality and clear method names, making it easier for developers to comprehend the purpose and usage of different components.\n",
    "\n",
    "Reduced Cognitive Load: Abstracting away low-level implementation details reduces the cognitive load on developers. They can concentrate on the relevant aspects of the code and its functionality without being overwhelmed by intricate inner workings.\n",
    "\n",
    "Adaptability and Scalability: Abstraction makes it easier to adapt and scale your code. If new requirements or features emerge, you can extend existing abstractions or create new ones without altering the overall structure of the code. This adaptability and scalability are essential for accommodating changing project needs.\n",
    "\n",
    "Isolation of Concerns: Abstraction helps isolate concerns, ensuring that each class or module is responsible for a specific aspect of the system. This separation of concerns promotes a clean and well-organized codebase.\n",
    "\n",
    "Testing and Debugging: Abstraction simplifies testing and debugging. With clear interfaces and well-defined boundaries, it becomes easier to write unit tests and isolate issues when they arise. The modular structure also supports testing individual components in isolation.\n",
    "\n",
    "In summary, abstraction plays a vital role in code organization and complexity reduction by simplifying complex systems, promoting modularity, enhancing code reusability, easing maintenance, improving collaboration, and leading to more readable and adaptable code. It is a fundamental practice in software development that contributes to efficient and maintainable codebases."
   ]
  },
  {
   "cell_type": "markdown",
   "id": "d8ef0348",
   "metadata": {},
   "source": [
    "3. Create a Python class called `Shape` with an abstract method `calculate_area()`. Then, create child classes (e.g., `Circle`, `Rectangle`) that implement the `calculate_area()` method. Provide an example of\n",
    "using these classes."
   ]
  },
  {
   "cell_type": "code",
   "execution_count": 74,
   "id": "7fb7a4c7",
   "metadata": {},
   "outputs": [
    {
     "name": "stdout",
     "output_type": "stream",
     "text": [
      "Circle Area: 78.53981633974999\n",
      "Rectangle Area: 24\n"
     ]
    }
   ],
   "source": [
    "from abc import ABC, abstractmethod\n",
    "\n",
    "class Shape(ABC):\n",
    "    @abstractmethod\n",
    "    def calculate_area(self):\n",
    "        pass  # This is an abstract method that must be implemented by child classes\n",
    "\n",
    "class Circle(Shape):\n",
    "    def __init__(self, radius):\n",
    "        self.radius = radius\n",
    "\n",
    "    def calculate_area(self):\n",
    "        return 3.14159265359 * self.radius * self.radius\n",
    "\n",
    "class Rectangle(Shape):\n",
    "    def __init__(self, length, width):\n",
    "        self.length = length\n",
    "        self.width = width\n",
    "\n",
    "    def calculate_area(self):\n",
    "        return self.length * self.width\n",
    "\n",
    "# Usage\n",
    "if __name__ == \"__main__\":\n",
    "    circle = Circle(5)\n",
    "    rectangle = Rectangle(4, 6)\n",
    "\n",
    "    print(\"Circle Area:\", circle.calculate_area())\n",
    "    print(\"Rectangle Area:\", rectangle.calculate_area())\n"
   ]
  },
  {
   "cell_type": "markdown",
   "id": "de1e055a",
   "metadata": {},
   "source": [
    "4. Explain the concept of abstract classes in Python and how they are defined using the `abc` module. Provide\n",
    "an example."
   ]
  },
  {
   "cell_type": "code",
   "execution_count": 78,
   "id": "14a10184",
   "metadata": {},
   "outputs": [
    {
     "name": "stdout",
     "output_type": "stream",
     "text": [
      "Circle Area: 78.53981633974999\n",
      "Rectangle Area: 24\n"
     ]
    }
   ],
   "source": [
    "\"\"\"Abstract classes in Python are classes that cannot be instantiated on their own and are typically used as base classes to define a common interface or contract for their subclasses. Abstract classes can contain abstract methods, which are methods that have no implementation in the abstract class itself but must be implemented by concrete (non-abstract) subclasses. Abstract classes are defined using the abc (Abstract Base Classes) module in Python.\n",
    "\n",
    "Here's how abstract classes are defined using the abc module:\n",
    "\n",
    "Import the ABC class from the abc module.\n",
    "Use the @abstractmethod decorator to mark methods as abstract within the abstract class.\n",
    "Subclasses inherit from the abstract class and must implement the abstract methods defined in the base class.\n",
    "Here's an example of defining an abstract class using the abc module:\n",
    "\"\"\"\n",
    "\n",
    "from abc import ABC, abstractmethod\n",
    "\n",
    "class Shape(ABC):  # Shape is an abstract class\n",
    "    @abstractmethod\n",
    "    def calculate_area(self):\n",
    "        pass  # This is an abstract method\n",
    "\n",
    "class Circle(Shape):  # Circle is a concrete subclass of Shape\n",
    "    def __init__(self, radius):\n",
    "        self.radius = radius\n",
    "\n",
    "    def calculate_area(self):\n",
    "        return 3.14159265359 * self.radius * self.radius\n",
    "\n",
    "class Rectangle(Shape):  # Rectangle is a concrete subclass of Shape\n",
    "    def __init__(self, length, width):\n",
    "        self.length = length\n",
    "        self.width = width\n",
    "\n",
    "    def calculate_area(self):\n",
    "        return self.length * self.width\n",
    "\n",
    "# Usage\n",
    "if __name__ == \"__main__\":\n",
    "    circle = Circle(5)\n",
    "    rectangle = Rectangle(4, 6)\n",
    "\n",
    "    print(\"Circle Area:\", circle.calculate_area())\n",
    "    print(\"Rectangle Area:\", rectangle.calculate_area())\n"
   ]
  },
  {
   "cell_type": "markdown",
   "id": "611a96fb",
   "metadata": {},
   "source": [
    "5. How do abstract classes differ from regular classes in Python? Discuss their use cases."
   ]
  },
  {
   "cell_type": "raw",
   "id": "e1c53c2f",
   "metadata": {},
   "source": [
    "Abstract classes differ from regular classes in Python in the following ways:\n",
    "\n",
    "Instantiation: Abstract classes cannot be instantiated directly. You cannot create objects of an abstract class. Regular classes can be instantiated to create objects.\n",
    "\n",
    "Abstract Methods: Abstract classes may have abstract methods, which are methods declared in the abstract class but do not have implementations. Regular classes do not have abstract methods. Abstract methods must be implemented by concrete subclasses of the abstract class.\n",
    "\n",
    "Use of abc Module: Abstract classes are typically defined using the abc (Abstract Base Classes) module in Python. This module provides the ABC base class and the @abstractmethod decorator to declare abstract methods.\n",
    "\n",
    "Use Cases for Abstract Classes:\n",
    "\n",
    "Defining a Common Interface: Abstract classes are used to define a common interface for a group of related classes. They specify a set of methods that must be implemented by subclasses. This ensures that all subclasses adhere to the same contract, providing consistent behavior.\n",
    "\n",
    "Enforcing Method Implementation: Abstract classes enforce the implementation of specific methods in concrete subclasses. This is valuable when you want to ensure that certain functionality is present in all subclasses. For example, in a game development framework, you might have an abstract class for game objects with abstract methods like update() and render() that must be implemented by various game object types.\n",
    "\n",
    "Promoting Polymorphism: Abstract classes facilitate polymorphism, where objects of different subclasses can be treated uniformly. This allows you to work with a collection of objects that share a common abstract class without needing to know the details of their specific subclasses.\n",
    "\n",
    "Designing Frameworks and Libraries: Abstract classes are often used in designing frameworks, libraries, or APIs. They define the structure and expected behavior of classes that extend the framework. Subclasses implement the abstract methods to customize the framework's behavior.\n",
    "\n",
    "Use Cases for Regular Classes:\n",
    "\n",
    "Instantiation: Regular classes are used when you want to create instances (objects) of a class. These classes can be instantiated and used directly.\n",
    "\n",
    "Implementation of Concrete Functionality: Regular classes are suitable for implementing concrete functionality without the need for abstract methods. These classes can provide complete, stand-alone implementations for their methods.\n",
    "\n",
    "Encapsulation and Data Storage: Regular classes are commonly used to encapsulate data and behavior in a self-contained unit. For example, a Person class might store attributes like name, age, and address, along with methods to interact with that data.\n",
    "\n",
    "In summary, abstract classes are designed to define a common interface and enforce method implementation in subclasses, making them suitable for creating a shared structure among related classes. Regular classes, on the other hand, are used for creating instances and implementing concrete functionality. The choice between abstract and regular classes depends on the design goals of your software and the need for a common contract among related classes."
   ]
  },
  {
   "cell_type": "markdown",
   "id": "cc7cefd3",
   "metadata": {},
   "source": [
    "6. Create a Python class for a bank account and demonstrate abstraction by hiding the account balance and\n",
    "providing methods to deposit and withdraw funds."
   ]
  },
  {
   "cell_type": "code",
   "execution_count": 79,
   "id": "3dda8c24",
   "metadata": {},
   "outputs": [
    {
     "name": "stdout",
     "output_type": "stream",
     "text": [
      "Account balance for Alice: $1000\n",
      "Deposited $500. New balance: $1500\n",
      "Withdrew $200. New balance: $1300\n",
      "Invalid withdrawal amount or insufficient funds.\n"
     ]
    }
   ],
   "source": [
    "class BankAccount:\n",
    "    def __init__(self, account_number, account_holder, initial_balance=0):\n",
    "        self.account_number = account_number\n",
    "        self.account_holder = account_holder\n",
    "        self._balance = initial_balance  # Private attribute, indicated by a single underscore\n",
    "\n",
    "    def deposit(self, amount):\n",
    "        if amount > 0:\n",
    "            self._balance += amount\n",
    "            return f\"Deposited ${amount}. New balance: ${self._balance}\"\n",
    "        else:\n",
    "            return \"Invalid deposit amount.\"\n",
    "\n",
    "    def withdraw(self, amount):\n",
    "        if amount > 0 and amount <= self._balance:\n",
    "            self._balance -= amount\n",
    "            return f\"Withdrew ${amount}. New balance: ${self._balance}\"\n",
    "        else:\n",
    "            return \"Invalid withdrawal amount or insufficient funds.\"\n",
    "\n",
    "    def get_balance(self):\n",
    "        return f\"Account balance for {self.account_holder}: ${self._balance}\"\n",
    "\n",
    "# Usage\n",
    "if __name__ == \"__main__\":\n",
    "    account1 = BankAccount(\"123456\", \"Alice\", 1000)\n",
    "\n",
    "    print(account1.get_balance())\n",
    "    print(account1.deposit(500))\n",
    "    print(account1.withdraw(200))\n",
    "    print(account1.withdraw(1500))\n"
   ]
  },
  {
   "cell_type": "markdown",
   "id": "a6696548",
   "metadata": {},
   "source": [
    "7. Discuss the concept of interface classes in Python and their role in achieving abstraction."
   ]
  },
  {
   "cell_type": "code",
   "execution_count": 80,
   "id": "192a5c11",
   "metadata": {},
   "outputs": [
    {
     "name": "stdout",
     "output_type": "stream",
     "text": [
      "Circle Area: 78.53981633974999\n",
      "Rectangle Area: 24\n"
     ]
    }
   ],
   "source": [
    "\"\"\"In Python, there is no strict concept of interface classes as you might find in some other programming languages like Java. Python's approach to achieving abstraction is through abstract base classes (ABCs) provided by the abc module, which we discussed earlier. These abstract base classes serve a similar purpose to interfaces in other languages, although they are not exactly the same.\n",
    "\n",
    "Here's a discussion of interface-like concepts and their role in achieving abstraction in Python:\n",
    "\n",
    "Abstract Base Classes (ABCs): Python's abc module allows you to define abstract base classes with abstract methods. These abstract methods serve as a contract that concrete subclasses must adhere to by providing implementations for these methods. While Python doesn't have the interface keyword like some other languages, you can use ABCs to define abstract classes and provide a common interface.\n",
    "\n",
    "Enforcing a Common Interface: Abstract base classes in Python are used to define a common interface that multiple classes must follow. Concrete subclasses that inherit from an ABC are required to implement the abstract methods specified by the ABC. This enforces a contract for how these subclasses should behave.\n",
    "\n",
    "Polymorphism and Consistency: By using ABCs, you promote polymorphism, allowing objects of different classes to be treated uniformly when they share a common interface. This makes it easier to work with diverse objects in a consistent manner. For example, you can design a framework that works with different types of shapes (e.g., circles, rectangles) as long as they implement the required abstract methods.\"\"\"\n",
    "\n",
    "from abc import ABC, abstractmethod\n",
    "\n",
    "class Shape(ABC):\n",
    "    @abstractmethod\n",
    "    def calculate_area(self):\n",
    "        pass\n",
    "\n",
    "class Circle(Shape):\n",
    "    def __init__(self, radius):\n",
    "        self.radius = radius\n",
    "\n",
    "    def calculate_area(self):\n",
    "        return 3.14159265359 * self.radius * self.radius\n",
    "\n",
    "class Rectangle(Shape):\n",
    "    def __init__(self, length, width):\n",
    "        self.length = length\n",
    "        self.width = width\n",
    "\n",
    "    def calculate_area(self):\n",
    "        return self.length * self.width\n",
    "\n",
    "# Usage\n",
    "circle = Circle(5)\n",
    "rectangle = Rectangle(4, 6)\n",
    "\n",
    "print(\"Circle Area:\", circle.calculate_area())\n",
    "print(\"Rectangle Area:\", rectangle.calculate_area())\n"
   ]
  },
  {
   "cell_type": "markdown",
   "id": "32e14c33",
   "metadata": {},
   "source": [
    "8. Create a Python class hierarchy for animals and implement abstraction by defining common methods (e.g., `eat()`, `sleep()`) in an abstract base class."
   ]
  },
  {
   "cell_type": "code",
   "execution_count": 81,
   "id": "7cb7e1f3",
   "metadata": {},
   "outputs": [
    {
     "name": "stdout",
     "output_type": "stream",
     "text": [
      "Buddy barks\n",
      "Buddy eats dog food\n",
      "Buddy sleeps in a dog bed\n",
      "\n",
      "Whiskers meows\n",
      "Whiskers eats cat food\n",
      "Whiskers sleeps on a cozy blanket\n",
      "\n",
      "Sparrow chirps\n",
      "Sparrow eats birdseed\n",
      "Sparrow sleeps in a nest\n",
      "\n"
     ]
    }
   ],
   "source": [
    "from abc import ABC, abstractmethod\n",
    "\n",
    "# Abstract base class for animals\n",
    "class Animal(ABC):\n",
    "    def __init__(self, name):\n",
    "        self.name = name\n",
    "\n",
    "    @abstractmethod\n",
    "    def speak(self):\n",
    "        pass\n",
    "\n",
    "    @abstractmethod\n",
    "    def eat(self):\n",
    "        pass\n",
    "\n",
    "    @abstractmethod\n",
    "    def sleep(self):\n",
    "        pass\n",
    "\n",
    "# Concrete classes for specific animals\n",
    "class Dog(Animal):\n",
    "    def speak(self):\n",
    "        return f\"{self.name} barks\"\n",
    "\n",
    "    def eat(self):\n",
    "        return f\"{self.name} eats dog food\"\n",
    "\n",
    "    def sleep(self):\n",
    "        return f\"{self.name} sleeps in a dog bed\"\n",
    "\n",
    "class Cat(Animal):\n",
    "    def speak(self):\n",
    "        return f\"{self.name} meows\"\n",
    "\n",
    "    def eat(self):\n",
    "        return f\"{self.name} eats cat food\"\n",
    "\n",
    "    def sleep(self):\n",
    "        return f\"{self.name} sleeps on a cozy blanket\"\n",
    "\n",
    "class Bird(Animal):\n",
    "    def speak(self):\n",
    "        return f\"{self.name} chirps\"\n",
    "\n",
    "    def eat(self):\n",
    "        return f\"{self.name} eats birdseed\"\n",
    "\n",
    "    def sleep(self):\n",
    "        return f\"{self.name} sleeps in a nest\"\n",
    "\n",
    "# Usage\n",
    "if __name__ == \"__main__\":\n",
    "    dog = Dog(\"Buddy\")\n",
    "    cat = Cat(\"Whiskers\")\n",
    "    bird = Bird(\"Sparrow\")\n",
    "\n",
    "    animals = [dog, cat, bird]\n",
    "\n",
    "    for animal in animals:\n",
    "        print(animal.speak())\n",
    "        print(animal.eat())\n",
    "        print(animal.sleep())\n",
    "        print()\n"
   ]
  },
  {
   "cell_type": "markdown",
   "id": "3378622d",
   "metadata": {},
   "source": [
    "9. Explain the significance of encapsulation in achieving abstraction. Provide examples."
   ]
  },
  {
   "cell_type": "code",
   "execution_count": 82,
   "id": "736774cb",
   "metadata": {},
   "outputs": [
    {
     "name": "stdout",
     "output_type": "stream",
     "text": [
      "2022 Toyota Camry is driving.\n",
      "Engine is not running.\n"
     ]
    }
   ],
   "source": [
    "\"\"\"Encapsulation and abstraction are closely related concepts in object-oriented programming. Encapsulation involves hiding the internal details of an object and exposing a controlled interface for interacting with it. Abstraction, on the other hand, involves simplifying complex systems by modeling them at a high level of abstraction.\n",
    "\n",
    "Here's how encapsulation is significant in achieving abstraction:\n",
    "\n",
    "Hiding Complexity: Encapsulation allows you to hide the internal details and complexity of an object. By providing a well-defined interface and limiting direct access to the internal state, you abstract away the complexities of the object's implementation. This makes it easier for other parts of the program to interact with the object without needing to understand its inner workings.\n",
    "\n",
    "Promoting Abstraction: Encapsulation enables you to define an abstract view of an object's behavior through its public methods. Users of the object only need to know what the object does (its interface) and not how it does it (its implementation). This promotes abstraction because it allows you to work with objects at a higher level of understanding.\"\"\"\n",
    "\n",
    "class Car:\n",
    "    def __init__(self, make, model, year):\n",
    "        self.make = make\n",
    "        self.model = model\n",
    "        self.year = year\n",
    "        self._engine_running = False  # Encapsulated attribute with a single underscore\n",
    "\n",
    "    def start_engine(self):\n",
    "        self._engine_running = True\n",
    "\n",
    "    def stop_engine(self):\n",
    "        self._engine_running = False\n",
    "\n",
    "    def drive(self):\n",
    "        if self._engine_running:\n",
    "            return f\"{self.year} {self.make} {self.model} is driving.\"\n",
    "        else:\n",
    "            return \"Engine is not running.\"\n",
    "\n",
    "# Usage\n",
    "if __name__ == \"__main__\":\n",
    "    my_car = Car(\"Toyota\", \"Camry\", 2022)\n",
    "\n",
    "    my_car.start_engine()\n",
    "    print(my_car.drive())\n",
    "    my_car.stop_engine()\n",
    "    print(my_car.drive())\n"
   ]
  },
  {
   "cell_type": "markdown",
   "id": "bd4c4250",
   "metadata": {},
   "source": [
    "10. What is the purpose of abstract methods, and how do they enforce abstraction in Python classes?"
   ]
  },
  {
   "cell_type": "raw",
   "id": "92313c86",
   "metadata": {},
   "source": [
    "Abstract methods in Python serve the purpose of enforcing abstraction and defining a common interface that concrete classes must adhere to. They ensure that concrete subclasses provide specific implementations for these methods, thereby enforcing a contract or protocol for how the subclasses should behave.\n",
    "\n",
    "Here's how abstract methods work and enforce abstraction in Python classes:\n",
    "\n",
    "1. Abstract Base Classes (ABCs): Abstract methods are typically used in the context of abstract base classes (ABCs). ABCs are classes that can't be instantiated themselves but are meant to be subclassed. These abstract classes define one or more abstract methods.\n",
    "\n",
    "2. @abstractmethod Decorator: To declare an abstract method, you use the @abstractmethod decorator. This decorator marks a method as abstract, indicating that it must be implemented by concrete subclasses. Abstract methods are defined in the abstract base class, and they provide a common interface for all concrete subclasses to follow.\n",
    "\n",
    "3. Enforcing a Contract: When a concrete subclass inherits from an abstract base class that defines abstract methods, it is required to provide implementations for those abstract methods. Failure to implement an abstract method in a concrete subclass will result in a TypeError when attempting to create an instance of the concrete subclass. This enforces a contract, ensuring that all subclasses adhere to a shared interface.\n",
    "\n",
    "4. Promoting Abstraction: Abstract methods help promote abstraction by allowing you to define a high-level contract for the behavior of classes that inherit from an abstract base class. This makes it possible to work with different concrete subclasses in a uniform way, regardless of their specific implementation details.\n",
    "\n",
    "Example same as 7."
   ]
  },
  {
   "cell_type": "markdown",
   "id": "0bc5d5ef",
   "metadata": {},
   "source": [
    "11. Create a Python class for a vehicle system and demonstrate abstraction by defining common methods (e.g., `start()`, `stop()`) in an abstract base class."
   ]
  },
  {
   "cell_type": "code",
   "execution_count": 83,
   "id": "19db09bc",
   "metadata": {},
   "outputs": [
    {
     "name": "stdout",
     "output_type": "stream",
     "text": [
      "2022 Toyota Camry's engine is running.\n",
      "2022 Toyota Camry's engine is stopped.\n",
      "\n",
      "2022 Trek Mountain Bike doesn't have an engine, so it can't start.\n",
      "2022 Trek Mountain Bike doesn't have an engine, so it can't stop.\n",
      "\n",
      "2022 Marine Speedboat's engine is running on the water.\n",
      "2022 Marine Speedboat's engine is stopped on the water.\n",
      "\n"
     ]
    }
   ],
   "source": [
    "from abc import ABC, abstractmethod\n",
    "\n",
    "# Abstract base class for vehicles\n",
    "class Vehicle(ABC):\n",
    "    def __init__(self, make, model, year):\n",
    "        self.make = make\n",
    "        self.model = model\n",
    "        self.year = year\n",
    "        self.engine_running = False\n",
    "\n",
    "    @abstractmethod\n",
    "    def start(self):\n",
    "        pass\n",
    "\n",
    "    @abstractmethod\n",
    "    def stop(self):\n",
    "        pass\n",
    "\n",
    "# Concrete classes for specific types of vehicles\n",
    "class Car(Vehicle):\n",
    "    def start(self):\n",
    "        self.engine_running = True\n",
    "        print(f\"{self.year} {self.make} {self.model}'s engine is running.\")\n",
    "\n",
    "    def stop(self):\n",
    "        self.engine_running = False\n",
    "        print(f\"{self.year} {self.make} {self.model}'s engine is stopped.\")\n",
    "\n",
    "class Bicycle(Vehicle):\n",
    "    def start(self):\n",
    "        print(f\"{self.year} {self.make} {self.model} doesn't have an engine, so it can't start.\")\n",
    "\n",
    "    def stop(self):\n",
    "        print(f\"{self.year} {self.make} {self.model} doesn't have an engine, so it can't stop.\")\n",
    "\n",
    "class Boat(Vehicle):\n",
    "    def start(self):\n",
    "        self.engine_running = True\n",
    "        print(f\"{self.year} {self.make} {self.model}'s engine is running on the water.\")\n",
    "\n",
    "    def stop(self):\n",
    "        self.engine_running = False\n",
    "        print(f\"{self.year} {self.make} {self.model}'s engine is stopped on the water.\")\n",
    "\n",
    "# Usage\n",
    "if __name__ == \"__main__\":\n",
    "    car = Car(\"Toyota\", \"Camry\", 2022)\n",
    "    bicycle = Bicycle(\"Trek\", \"Mountain Bike\", 2022)\n",
    "    boat = Boat(\"Marine\", \"Speedboat\", 2022)\n",
    "\n",
    "    vehicles = [car, bicycle, boat]\n",
    "\n",
    "    for vehicle in vehicles:\n",
    "        vehicle.start()\n",
    "        vehicle.stop()\n",
    "        print()\n"
   ]
  },
  {
   "cell_type": "markdown",
   "id": "1030602e",
   "metadata": {},
   "source": [
    "12. Describe the use of abstract properties in Python and how they can be employed in abstract classes."
   ]
  },
  {
   "cell_type": "raw",
   "id": "104d2640",
   "metadata": {},
   "source": [
    "Abstract properties in Python, also known as abstract getters and setters, are used in abstract classes to define a common interface for accessing and modifying class attributes. They ensure that concrete subclasses provide specific implementations for these properties, just as abstract methods enforce a contract for methods.\n",
    "\n",
    "Here's how abstract properties work and how they can be employed in abstract classes:\n",
    "\n",
    "Abstract Base Classes (ABCs): Abstract properties are typically used in the context of abstract base classes (ABCs). Abstract base classes define one or more abstract properties that concrete subclasses must implement. These properties act like attributes, but their implementation is deferred to concrete subclasses.\n",
    "\n",
    "@property and @abstractproperty Decorators: To declare an abstract property, you use the @property decorator for the getter and the @property_name.setter decorator for the setter, where property_name is the name of the property. In abstract classes, these properties are marked as abstract using the @abstractmethod decorator.\n",
    "\n",
    "Enforcing a Contract: When a concrete subclass inherits from an abstract base class that defines abstract properties, it is required to provide implementations for those properties. Failure to implement an abstract property in a concrete subclass will result in a TypeError when attempting to create an instance of the concrete subclass. This enforces a contract, ensuring that all subclasses adhere to a shared interface for accessing and modifying attributes.\n",
    "\n",
    "Promoting Abstraction: Abstract properties help promote abstraction by allowing you to define a high-level contract for attribute access and modification in classes that inherit from an abstract base class. This makes it possible to work with different concrete subclasses in a uniform way, regardless of their specific attribute implementation details."
   ]
  },
  {
   "cell_type": "markdown",
   "id": "39267f66",
   "metadata": {},
   "source": [
    "13. Create a Python class hierarchy for employees in a company (e.g., manager, developer, designer) and implement abstraction by defining a common `get_salary()` method."
   ]
  },
  {
   "cell_type": "code",
   "execution_count": 85,
   "id": "0f958a85",
   "metadata": {},
   "outputs": [
    {
     "name": "stdout",
     "output_type": "stream",
     "text": [
      "Employee ID: 101, Name: Alice, Salary: $75000\n",
      "Employee ID: 102, Name: Bob, Salary: $4800\n",
      "Employee ID: 103, Name: Charlie, Salary: $6000\n"
     ]
    }
   ],
   "source": [
    "from abc import ABC, abstractmethod\n",
    "\n",
    "# Abstract base class for employees\n",
    "class Employee(ABC):\n",
    "    def __init__(self, name, employee_id):\n",
    "        self.name = name\n",
    "        self.employee_id = employee_id\n",
    "\n",
    "    @abstractmethod\n",
    "    def get_salary(self):\n",
    "        pass\n",
    "\n",
    "# Concrete classes for different types of employees\n",
    "class Manager(Employee):\n",
    "    def __init__(self, name, employee_id, salary):\n",
    "        super().__init__(name, employee_id)\n",
    "        self.salary = salary\n",
    "\n",
    "    def get_salary(self):\n",
    "        return self.salary\n",
    "\n",
    "class Developer(Employee):\n",
    "    def __init__(self, name, employee_id, hourly_rate, hours_worked):\n",
    "        super().__init__(name, employee_id)\n",
    "        self.hourly_rate = hourly_rate\n",
    "        self.hours_worked = hours_worked\n",
    "\n",
    "    def get_salary(self):\n",
    "        return self.hourly_rate * self.hours_worked\n",
    "\n",
    "class Designer(Employee):\n",
    "    def __init__(self, name, employee_id, monthly_salary):\n",
    "        super().__init__(name, employee_id)\n",
    "        self.monthly_salary = monthly_salary\n",
    "\n",
    "    def get_salary(self):\n",
    "        return self.monthly_salary\n",
    "\n",
    "# Usage\n",
    "if __name__ == \"__main__\":\n",
    "    manager = Manager(\"Alice\", 101, 75000)\n",
    "    developer = Developer(\"Bob\", 102, 30, 160)\n",
    "    designer = Designer(\"Charlie\", 103, 6000)\n",
    "\n",
    "    employees = [manager, developer, designer]\n",
    "\n",
    "    for employee in employees:\n",
    "        salary = employee.get_salary()\n",
    "        print(f\"Employee ID: {employee.employee_id}, Name: {employee.name}, Salary: ${salary}\")\n"
   ]
  },
  {
   "cell_type": "markdown",
   "id": "12479694",
   "metadata": {},
   "source": [
    "14. Discuss the differences between abstract classes and concrete classes in Python, including their\n",
    "instantiation."
   ]
  },
  {
   "cell_type": "raw",
   "id": "c4b77de7",
   "metadata": {},
   "source": [
    "Abstract classes and concrete classes in Python serve different purposes and have distinct characteristics, especially regarding instantiation. Let's explore the key differences between these two types of classes:\n",
    "\n",
    "Abstract Classes:\n",
    "\n",
    "Abstract classes are classes that cannot be instantiated directly.\n",
    "They are typically used as base classes to define a common interface (abstract methods) that concrete subclasses must implement.\n",
    "Abstract classes are defined using the abc (Abstract Base Classes) module in Python.\n",
    "Abstract classes may have abstract methods, which are methods without an implementation. Subclasses are required to provide concrete implementations of these abstract methods.\n",
    "Concrete Classes:\n",
    "\n",
    "Concrete classes are classes that can be instantiated to create objects.\n",
    "They provide concrete (implemented) methods and attributes.\n",
    "Concrete classes may inherit from abstract classes or other concrete classes.\n",
    "Objects of concrete classes can be created directly using their constructors.\n"
   ]
  },
  {
   "cell_type": "markdown",
   "id": "fb3b46bf",
   "metadata": {},
   "source": [
    "15. Explain the concept of abstract data types (ADTs) and their role in achieving abstraction in Python."
   ]
  },
  {
   "cell_type": "raw",
   "id": "b25ae5a2",
   "metadata": {},
   "source": [
    "Abstract Data Types (ADTs) are a concept in computer science and software engineering that describe a high-level view of data structures or objects with a well-defined interface but without specifying their internal implementation details. ADTs play a significant role in achieving abstraction in Python and other programming languages. Here's a detailed explanation of the concept:\n",
    "\n",
    "High-Level Data Structures: ADTs describe data structures or objects at a high level, focusing on what the data structure does and how it behaves, rather than how it is implemented. This allows developers to work with data structures in a more abstract and intuitive way.\n",
    "\n",
    "Data Abstraction: ADTs provide data abstraction, allowing programmers to use data structures without having to worry about the underlying implementation. This promotes a clear separation of concerns in software design.\n",
    "\n",
    "Well-Defined Interface: ADTs define a set of operations or methods that can be performed on the data structure. These operations are part of the public interface of the ADT and are used to interact with the data.\n",
    "\n",
    "Encapsulation: ADTs encapsulate the data and the operations that can be performed on that data. This encapsulation hides the internal details of the data structure, promoting information hiding and reducing complexity for the user of the ADT.\n",
    "\n",
    "Reusability: ADTs can be reused in various applications. Once an ADT is defined, it can be used in different programs or projects without having to reimplement the data structure from scratch.\n",
    "\n",
    "Separation of Concerns: ADTs help separate the concerns of data manipulation and data storage from the rest of the application. This separation simplifies program design and makes it easier to maintain and extend the code.\n",
    "\n",
    "In Python, you can implement ADTs using classes. For example, you can create a Python class to represent a Stack ADT with methods like push(), pop(), and peek(). Users of the class don't need to know the internal details of how the stack is implemented; they can simply use the provided methods."
   ]
  },
  {
   "cell_type": "markdown",
   "id": "465db79e",
   "metadata": {},
   "source": [
    "16. Create a Python class for a computer system, demonstrating abstraction by defining common methods (e.g., `power_on()`, `shutdown()`) in an abstract base class."
   ]
  },
  {
   "cell_type": "code",
   "execution_count": 86,
   "id": "d16a0ec8",
   "metadata": {},
   "outputs": [
    {
     "name": "stdout",
     "output_type": "stream",
     "text": [
      "Dell Inspiron desktop computer is powering on.\n",
      "Dell Inspiron desktop computer is shutting down.\n",
      "HP Pavilion laptop computer is booting up.\n",
      "HP Pavilion laptop computer is shutting down.\n"
     ]
    }
   ],
   "source": [
    "from abc import ABC, abstractmethod\n",
    "\n",
    "# Abstract base class for a computer system\n",
    "class ComputerSystem(ABC):\n",
    "    def __init__(self, brand, model):\n",
    "        self.brand = brand\n",
    "        self.model = model\n",
    "\n",
    "    @abstractmethod\n",
    "    def power_on(self):\n",
    "        pass\n",
    "\n",
    "    @abstractmethod\n",
    "    def shutdown(self):\n",
    "        pass\n",
    "\n",
    "# Concrete class representing a desktop computer\n",
    "class DesktopComputer(ComputerSystem):\n",
    "    def power_on(self):\n",
    "        return f\"{self.brand} {self.model} desktop computer is powering on.\"\n",
    "\n",
    "    def shutdown(self):\n",
    "        return f\"{self.brand} {self.model} desktop computer is shutting down.\"\n",
    "\n",
    "# Concrete class representing a laptop computer\n",
    "class LaptopComputer(ComputerSystem):\n",
    "    def power_on(self):\n",
    "        return f\"{self.brand} {self.model} laptop computer is booting up.\"\n",
    "\n",
    "    def shutdown(self):\n",
    "        return f\"{self.brand} {self.model} laptop computer is shutting down.\"\n",
    "\n",
    "# Usage\n",
    "if __name__ == \"__main__\":\n",
    "    desktop = DesktopComputer(\"Dell\", \"Inspiron\")\n",
    "    laptop = LaptopComputer(\"HP\", \"Pavilion\")\n",
    "\n",
    "    print(desktop.power_on())\n",
    "    print(desktop.shutdown())\n",
    "\n",
    "    print(laptop.power_on())\n",
    "    print(laptop.shutdown())\n"
   ]
  },
  {
   "cell_type": "markdown",
   "id": "e48d9c9a",
   "metadata": {},
   "source": [
    "17. Discuss the benefits of using abstraction in large-scale software development projects."
   ]
  },
  {
   "cell_type": "raw",
   "id": "0a077164",
   "metadata": {},
   "source": [
    "Abstraction plays a crucial role in large-scale software development projects and offers several benefits that contribute to the efficiency, maintainability, and reliability of the software. Here are the key advantages of using abstraction in such projects:\n",
    "\n",
    "Simplified Complexity: Large-scale projects often involve complex systems with numerous components and interactions. Abstraction allows developers to simplify this complexity by hiding intricate details. It provides a high-level view of components, reducing the cognitive load on developers.\n",
    "\n",
    "Modularity and Reusability: Abstraction promotes the creation of modular and reusable components. Well-abstracted modules can be developed independently and then integrated into the overall system. This modularity simplifies maintenance and allows for the reuse of components in various parts of the project.\n",
    "\n",
    "Code Organization: Abstraction enforces a clear separation of concerns by dividing the codebase into distinct layers or modules. Each layer is responsible for specific functionality, making the codebase more organized and comprehensible.\n",
    "\n",
    "Ease of Maintenance: Abstraction enhances maintainability by isolating changes. When updates or bug fixes are required, developers can focus on the relevant component without impacting the rest of the system. This reduces the risk of introducing unintended side effects.\n",
    "\n",
    "Team Collaboration: In large-scale projects, multiple teams and developers often work simultaneously. Abstraction provides well-defined interfaces, allowing teams to collaborate without needing in-depth knowledge of each other's code. They can interact based on the abstractions provided.\n",
    "\n",
    "Future-Proofing: Abstraction makes it easier to adapt to changes or integrate new features. If the implementation of a component changes, the abstraction layer can remain consistent, preventing disruptions in other parts of the project.\n",
    "\n",
    "Testing and Validation: Abstraction simplifies the testing process. Test cases can be designed based on the high-level behavior described by abstractions. This makes it easier to validate components and ensures that they meet their expected functionality.\n",
    "\n",
    "Reduced Error Rates: Abstraction reduces the chances of errors and bugs. When the underlying complexity is encapsulated, there are fewer opportunities for mistakes. Bugs are more likely to be contained within specific components, making them easier to identify and fix.\n",
    "\n",
    "Improved Documentation: Abstractions serve as effective documentation for the project. They provide a clear, concise overview of how different components interact and what behavior can be expected. This aids both developers and maintainers.\n",
    "\n",
    "Smoother Onboarding: Abstraction makes it easier for new team members to understand the codebase. They can focus on learning the high-level concepts and abstractions before delving into the intricacies of the code.\n",
    "\n",
    "Better Project Scalability: Large-scale projects often grow over time. Abstraction helps in accommodating this growth. New components can be added or modified without causing widespread disruptions.\n",
    "\n",
    "In summary, abstraction is a fundamental software engineering principle that is particularly valuable in the context of large-scale software development. It simplifies complexity, improves maintainability, and fosters collaboration among development teams. By providing clear interfaces and well-structured code, abstraction helps in managing the inherent challenges of building and maintaining extensive software systems."
   ]
  },
  {
   "cell_type": "markdown",
   "id": "536c8df8",
   "metadata": {},
   "source": [
    "18. Explain how abstraction enhances code reusability and modularity in Python programs."
   ]
  },
  {
   "cell_type": "raw",
   "id": "131b4a52",
   "metadata": {},
   "source": [
    "Abstraction enhances code reusability and modularity in Python programs by promoting a structured and organized approach to software design. Here's how it achieves these benefits:\n",
    "\n",
    "Modularity:\n",
    "\n",
    "Encapsulation: Abstraction encourages the encapsulation of related functionality into modules or classes. Each module or class should have a well-defined purpose and a clear interface. This encapsulation isolates code, making it easier to reason about and maintain.\n",
    "Separation of Concerns: Abstraction helps in separating concerns by dividing the code into distinct layers or components. Each component is responsible for a specific task or functionality. This separation simplifies code organization and makes it easier to locate and modify relevant code when necessary.\n",
    "Reusability:\n",
    "\n",
    "High-Level Interfaces: Abstraction defines high-level interfaces that hide the internal details of how a particular function or component works. These interfaces expose only the essential functionality, making it easy to reuse the component without knowing its implementation.\n",
    "Library and Framework Usage: Abstraction encourages the creation of libraries and frameworks with well-defined interfaces. Developers can reuse these libraries to leverage existing functionality without needing to understand how it works internally. This reuse reduces redundant coding efforts and accelerates development.\n",
    "Inheritance and Polymorphism: Abstraction supports inheritance and polymorphism, enabling the reuse of code in object-oriented programming. Subclasses inherit the behavior of their parent classes, allowing developers to extend or modify existing functionality without rewriting the entire codebase.\n",
    "Flexibility and Extensibility:\n",
    "\n",
    "Adaptability: Abstraction allows for easy adaptation to changing requirements. When the high-level abstractions remain consistent, developers can modify or replace lower-level components without affecting the entire system. This flexibility is crucial for accommodating evolving project needs.\n",
    "Pluggable Components: Abstraction promotes the use of interfaces and abstract classes, which define a contract that concrete implementations must adhere to. New components can be added by implementing these interfaces, ensuring compatibility and extending the software's functionality.\n",
    "Isolation of Changes:\n",
    "\n",
    "Minimized Impact: Abstraction minimizes the impact of changes. If modifications are required, developers can focus on the relevant component or module without disrupting the entire codebase. This reduces the risk of introducing unintended side effects and simplifies testing.\n",
    "Documentation and Understanding:\n",
    "\n",
    "Clear Interfaces: Abstraction defines clear, well-documented interfaces that describe the functionality of components. This documentation aids in understanding and using the code, making it accessible to other developers.\n",
    "Onboarding: Abstraction eases the onboarding of new team members. They can start by learning the high-level abstractions and gradually delve into the details as needed, resulting in a smoother integration into the project.\n",
    "\n",
    "In Python, abstraction is achieved through the use of classes, abstract classes, interfaces, and high-level functions. By employing these programming constructs, developers can create modular, reusable, and maintainable code that fosters collaboration and accelerates software development. Abstraction is a powerful tool for enhancing code reusability and modularity, key principles in building scalable and maintainable Python programs."
   ]
  },
  {
   "cell_type": "markdown",
   "id": "d36efcc9",
   "metadata": {},
   "source": [
    "19. Create a Python class for a library system, implementing abstraction by defining common methods (e.g., `add_book()`, `borrow_book()`) in an abstract base class."
   ]
  },
  {
   "cell_type": "code",
   "execution_count": 89,
   "id": "53523e6c",
   "metadata": {},
   "outputs": [
    {
     "name": "stdout",
     "output_type": "stream",
     "text": [
      "To Kill a Mockingbird by Harper Lee is available.\n",
      "The Shawshank Redemption by Stephen King is available.\n",
      "Checked out: To Kill a Mockingbird\n",
      "Checked out: The Shawshank Redemption (DVD)\n",
      "To Kill a Mockingbird by Harper Lee is not available.\n",
      "The Shawshank Redemption by Stephen King is not available.\n",
      "Returned: To Kill a Mockingbird\n",
      "Returned: The Shawshank Redemption (DVD)\n",
      "To Kill a Mockingbird by Harper Lee is available.\n",
      "The Shawshank Redemption by Stephen King is available.\n"
     ]
    }
   ],
   "source": [
    "from abc import ABC, abstractmethod\n",
    "\n",
    "class LibraryItem(ABC):\n",
    "    def __init__(self, title, author):\n",
    "        self.title = title\n",
    "        self.author = author\n",
    "        self.is_available = True\n",
    "\n",
    "    @abstractmethod\n",
    "    def check_out(self):\n",
    "        pass\n",
    "\n",
    "    @abstractmethod\n",
    "    def return_item(self):\n",
    "        pass\n",
    "\n",
    "    def display_info(self):\n",
    "        status = \"available\" if self.is_available else \"not available\"\n",
    "        print(f\"{self.title} by {self.author} is {status}.\")\n",
    "\n",
    "class Book(LibraryItem):\n",
    "    def check_out(self):\n",
    "        if self.is_available:\n",
    "            self.is_available = False\n",
    "            print(f\"Checked out: {self.title}\")\n",
    "\n",
    "    def return_item(self):\n",
    "        if not self.is_available:\n",
    "            self.is_available = True\n",
    "            print(f\"Returned: {self.title}\")\n",
    "\n",
    "class DVD(LibraryItem):\n",
    "    def check_out(self):\n",
    "        if self.is_available:\n",
    "            self.is_available = False\n",
    "            print(f\"Checked out: {self.title} (DVD)\")\n",
    "\n",
    "    def return_item(self):\n",
    "        if not self.is_available:\n",
    "            self.is_available = True\n",
    "            print(f\"Returned: {self.title} (DVD)\")\n",
    "\n",
    "# Usage\n",
    "if __name__ == \"__main__\":\n",
    "    book = Book(\"To Kill a Mockingbird\", \"Harper Lee\")\n",
    "    dvd = DVD(\"The Shawshank Redemption\", \"Stephen King\")\n",
    "\n",
    "    book.display_info()\n",
    "    dvd.display_info()\n",
    "\n",
    "    book.check_out()\n",
    "    dvd.check_out()\n",
    "\n",
    "    book.display_info()\n",
    "    dvd.display_info()\n",
    "\n",
    "    book.return_item()\n",
    "    dvd.return_item()\n",
    "\n",
    "    book.display_info()\n",
    "    dvd.display_info()\n"
   ]
  },
  {
   "cell_type": "markdown",
   "id": "d4a82668",
   "metadata": {},
   "source": [
    "20. Describe the concept of method abstraction in Python and how it relates to polymorphism."
   ]
  },
  {
   "cell_type": "raw",
   "id": "835b0fb5",
   "metadata": {},
   "source": [
    "Method abstraction in Python is a concept that relates to polymorphism and abstract base classes. It involves defining methods in an abstract base class without providing concrete implementations, leaving the implementation details to its subclasses. This allows for a common interface across different classes, enabling polymorphism, where objects of different classes can be treated uniformly if they share a common method signature.\n",
    "\n",
    "Here's how method abstraction in Python relates to polymorphism:\n",
    "\n",
    "Abstract Base Classes (ABCs): In Python, method abstraction is often achieved using abstract base classes. These classes define methods as abstract, which means they declare the method signature but do not provide the implementation. ABCs serve as a template for subclasses, specifying which methods must be implemented.\n",
    "\n",
    "Common Method Signature: When an abstract base class defines an abstract method, it enforces a common method signature for all its subclasses. Subclasses are required to provide concrete implementations for these methods.\n",
    "\n",
    "Polymorphism: Polymorphism is the ability of different objects to respond to the same method in a way that is appropriate for their specific class. When you have abstract methods in an abstract base class, objects of various subclasses can be used interchangeably as long as they implement the abstract methods. This uniformity of method names across different classes allows for polymorphism.\n",
    "\n",
    "Dynamic Binding: Python uses dynamic binding to determine which method to call at runtime. When you invoke a method on an object, Python looks up the method in the object's class and executes the appropriate implementation. This enables polymorphism because it allows different objects to respond to the same method name in class-specific ways.\n",
    "\n",
    "Code Reusability: Method abstraction encourages code reusability. By providing a common method signature in an abstract base class, you can reuse and extend code across multiple subclasses. This is particularly useful when you want to ensure that different classes adhere to a consistent interface.\n",
    "\n",
    "Flexibility and Extensibility: With method abstraction, you can create a flexible and extensible architecture. You can add new classes or modify existing ones while maintaining the common interface defined in the abstract base class. This simplifies the process of adapting the code to changing requirements.\n",
    "\n",
    "In summary, method abstraction in Python, implemented through abstract base classes and abstract methods, promotes the use of common method signatures in various subclasses. This shared interface allows for polymorphism, which is crucial in object-oriented programming for creating flexible, reusable, and extensible code. Method abstraction helps ensure that different classes can interact seamlessly with a common set of methods, enhancing the modularity and maintainability of software systems."
   ]
  },
  {
   "cell_type": "markdown",
   "id": "9862857a",
   "metadata": {},
   "source": [
    "# Composition:"
   ]
  },
  {
   "cell_type": "markdown",
   "id": "81a8755f",
   "metadata": {},
   "source": [
    "1. Explain the concept of composition in Python and how it is used to build complex objects from simpler ones."
   ]
  },
  {
   "cell_type": "raw",
   "id": "08032a3b",
   "metadata": {},
   "source": [
    "Composition in Python is a fundamental concept in object-oriented programming that involves building complex objects by combining or \"composing\" simpler objects. It allows you to create relationships between objects, where one object contains or is composed of one or more other objects. Composition is a form of code reuse and enables you to model complex systems and hierarchies effectively.\n",
    "\n",
    "Key aspects of composition in Python:\n",
    "\n",
    "Has-A Relationship: Composition is often referred to as the \"has-a\" relationship. It signifies that an object can have other objects as its components or parts. For example, a Car has an Engine, Wheels, and other components.\n",
    "\n",
    "Creating Complex Objects: You can use composition to create complex objects by assembling simpler objects into a more significant whole. This approach is in contrast to inheritance, where you create complex objects by specializing or extending existing classes.\n",
    "\n",
    "Code Reuse: Composition encourages code reuse. Instead of inheriting all the attributes and methods of a class, you can select and assemble specific components, leading to more flexible and modular code.\n",
    "\n",
    "Encapsulation: Each component in a composition can encapsulate its own functionality and data. This encapsulation allows you to manage the complexity of the system effectively.\n",
    "\n",
    "Loose Coupling: Composition generally results in looser coupling between objects compared to inheritance. Changes in the components do not affect the entire system as long as the interface between the components remains consistent.\n",
    "\n",
    "Flexibility: Composition provides more flexibility than inheritance, as you can change the composition of objects dynamically during runtime."
   ]
  },
  {
   "cell_type": "markdown",
   "id": "c5a89c57",
   "metadata": {},
   "source": [
    "2. Describe the difference between composition and inheritance in object-oriented programming."
   ]
  },
  {
   "cell_type": "raw",
   "id": "d021bb8d",
   "metadata": {},
   "source": [
    "Composition and inheritance are two fundamental concepts in object-oriented programming, and they are used to establish relationships between classes and objects. However, they serve different purposes and have distinct characteristics. Here's a comparison of composition and inheritance:\n",
    "\n",
    "1. Purpose:\n",
    "\n",
    "Composition: Composition is used to build complex objects by combining or composing simpler objects. It's particularly useful for creating objects that are made up of other objects as components or parts.\n",
    "Inheritance: Inheritance is used to create a new class by deriving properties and behaviors from an existing class. It's used for establishing an \"is-a\" relationship, where a new class is a specialized version of an existing class.\n",
    "2. Relationship:\n",
    "\n",
    "Composition: Composition establishes a \"has-a\" relationship between classes. One class (the composed class) contains another class (the component class) as a part or member.\n",
    "Inheritance: Inheritance establishes an \"is-a\" relationship between classes. A subclass is a specialized version of a superclass, inheriting its attributes and behaviors.\n",
    "3. Code Reuse:\n",
    "\n",
    "Composition: Composition encourages code reuse by allowing you to assemble and reuse existing components in new objects. You can select and combine specific components to create complex objects.\n",
    "Inheritance: Inheritance promotes code reuse by allowing you to inherit attributes and methods from a superclass. Subclasses can reuse and extend the functionality of the superclass.\n",
    "4. Encapsulation:\n",
    "\n",
    "Composition: Composition encourages encapsulation within individual components. Each component can encapsulate its own data and behavior.\n",
    "Inheritance: Encapsulation is often based on the superclass, where data and behavior are encapsulated within the superclass and can be accessed or modified by subclasses.\n",
    "5. Flexibility:\n",
    "\n",
    "Composition: Composition provides more flexibility than inheritance. You can change the composition of objects dynamically during runtime by adding or removing components.\n",
    "Inheritance: Inheritance can lead to a more rigid class hierarchy, where changes to the superclass can have cascading effects on subclasses. It may be less flexible in certain situations.\n",
    "6. Coupling:\n",
    "\n",
    "Composition: Composition often results in looser coupling between classes because components can be replaced or extended independently.\n",
    "Inheritance: Inheritance can lead to tighter coupling, as changes in the superclass can impact all subclasses, potentially creating a higher degree of interdependence.\n",
    "7. Hierarchical Structure:\n",
    "\n",
    "Composition: Composition typically results in a flatter class hierarchy with fewer levels of inheritance. It emphasizes a modular and component-based approach.\n",
    "Inheritance: Inheritance can lead to a deeper class hierarchy with multiple levels of inheritance. It emphasizes a hierarchical and specialization-based approach.\n",
    "In summary, composition and inheritance are two different approaches to building relationships between classes and objects in object-oriented programming. Composition is often preferred when you need to create complex objects by combining simpler components and want to achieve greater flexibility and modularity. Inheritance is suitable for modeling \"is-a\" relationships and creating specialized versions of existing classes but can result in tighter coupling and a more rigid class hierarchy. The choice between composition and inheritance depends on the specific requirements and design goals of a project."
   ]
  },
  {
   "cell_type": "markdown",
   "id": "e1b5416a",
   "metadata": {},
   "source": [
    "3. Create a Python class called `Author` with attributes for name and birthdate. Then, create a `Book` class\n",
    "that contains an instance of `Author` as a composition. Provide an example of creating a `Book` object."
   ]
  },
  {
   "cell_type": "code",
   "execution_count": 90,
   "id": "8107b9ff",
   "metadata": {},
   "outputs": [
    {
     "name": "stdout",
     "output_type": "stream",
     "text": [
      "Title: Harry Potter and the Philosopher's Stone\n",
      "Author: J.K. Rowling\n",
      "Author's Birthdate: July 31, 1965\n",
      "Publication Year: 1997\n"
     ]
    }
   ],
   "source": [
    "class Author:\n",
    "    def __init__(self, name, birthdate):\n",
    "        self.name = name\n",
    "        self.birthdate = birthdate\n",
    "\n",
    "class Book:\n",
    "    def __init__(self, title, author, publication_year):\n",
    "        self.title = title\n",
    "        self.author = author  # Composition: A Book \"has an\" Author\n",
    "        self.publication_year = publication_year\n",
    "\n",
    "    def display_info(self):\n",
    "        print(f\"Title: {self.title}\")\n",
    "        print(f\"Author: {self.author.name}\")\n",
    "        print(f\"Author's Birthdate: {self.author.birthdate}\")\n",
    "        print(f\"Publication Year: {self.publication_year}\")\n",
    "\n",
    "# Create an Author instance\n",
    "author1 = Author(\"J.K. Rowling\", \"July 31, 1965\")\n",
    "\n",
    "# Create a Book instance with the Author as a component\n",
    "book1 = Book(\"Harry Potter and the Philosopher's Stone\", author1, 1997)\n",
    "\n",
    "# Display book information\n",
    "book1.display_info()\n"
   ]
  },
  {
   "cell_type": "markdown",
   "id": "d6fc0b54",
   "metadata": {},
   "source": [
    "4. Discuss the benefits of using composition over inheritance in Python, especially in terms of code flexibility\n",
    "and reusability."
   ]
  },
  {
   "cell_type": "raw",
   "id": "6c79b9d2",
   "metadata": {},
   "source": [
    "Using composition over inheritance in Python offers several benefits, particularly in terms of code flexibility and reusability. Here are some key advantages of composition:\n",
    "\n",
    "Flexibility and Modularity: Composition allows you to create objects by assembling components. This results in more modular and flexible code. You can change the composition of an object by adding, removing, or replacing components, and these changes can be made dynamically during runtime. This flexibility makes it easier to adapt to changing requirements.\n",
    "\n",
    "Code Reusability: Composition promotes code reusability. You can reuse existing components in multiple objects, which is especially valuable when you have common components used across different classes. This reduces code duplication and promotes the DRY (Don't Repeat Yourself) principle.\n",
    "\n",
    "Loose Coupling: Composition often leads to looser coupling between classes. Components can be developed independently and can be easily replaced or extended without affecting other parts of the system. This reduces the risk of unintended side effects when changes are made.\n",
    "\n",
    "Clearer Class Hierarchy: Composition results in a flatter class hierarchy with fewer levels of inheritance. This simplifies the structure of your code and makes it easier to understand. Inheritance can lead to deep hierarchies, which can be challenging to manage.\n",
    "\n",
    "Avoiding the Diamond Problem: Composition helps avoid the \"diamond problem,\" which can occur in multiple inheritance scenarios. In multiple inheritance, when a class inherits from two classes that have a common ancestor, conflicts can arise. Composition avoids this issue because it focuses on building objects from components, not inheriting behavior from multiple sources.\n",
    "\n",
    "Enhanced Testability: Components can often be tested in isolation, which simplifies testing. This modular approach makes it easier to write unit tests for individual components and ensures that changes to one component won't break the functionality of other components.\n",
    "\n",
    "Reduced Dependency on Superclasses: Inheritance can lead to a strong dependency on superclasses, and changes in the superclass can have cascading effects on subclasses. Composition allows you to avoid this dependency, providing more control over the behavior of your classes.\n",
    "\n",
    "Easier Maintenance: Composition typically leads to code that is easier to maintain. When changes are required, you can focus on the specific component that needs modification without affecting the entire class hierarchy.\n",
    "\n",
    "Improved Encapsulation: Each component in a composition can encapsulate its own data and behavior, leading to more encapsulation at the component level. This encapsulation enhances data security and prevents unintended access or modification.\n",
    "\n",
    "In summary, composition offers a more flexible, modular, and reusable approach to building complex objects by combining simpler components. While inheritance has its place and is suitable for certain scenarios, composition is often preferred when the focus is on object composition and when you want to achieve greater code flexibility, reusability, and maintainability."
   ]
  },
  {
   "cell_type": "markdown",
   "id": "03751615",
   "metadata": {},
   "source": [
    "5. How can you implement composition in Python classes? Provide examples of using composition to create\n",
    "complex objects."
   ]
  },
  {
   "cell_type": "raw",
   "id": "11f1f7b2",
   "metadata": {},
   "source": [
    "To implement composition in Python classes, you create objects by combining or embedding instances of other classes within a class. Each embedded instance is a component or part of the containing class. Here's how you can implement composition in Python with examples:\n",
    "\n",
    "Basic Composition:\n",
    "\n",
    "In this example, we'll create a Car class that is composed of an Engine object.\n",
    "\n",
    "#Example:\n",
    "\n",
    "class Engine:\n",
    "    def __init__(self, capacity, fuel_type):\n",
    "        self.capacity = capacity\n",
    "        self.fuel_type = fuel_type\n",
    "\n",
    "class Car:\n",
    "    def __init__(self, make, model, engine):\n",
    "        self.make = make\n",
    "        self.model = model\n",
    "        self.engine = engine  # Composition: A Car \"has an\" Engine\n",
    "\n",
    "# Creating instances using composition\n",
    "car_engine = Engine(\"2.0L\", \"Gasoline\")\n",
    "my_car = Car(\"Toyota\", \"Camry\", car_engine)\n",
    "\n",
    "# Accessing components\n",
    "print(f\"My car has an engine with {my_car.engine.capacity} {my_car.engine.fuel_type} engine.\")\n",
    "Composition with Lists:\n",
    "\n",
    "You can use composition with lists to create more complex objects. In this example, we create a Library class that contains a list of Book objects.\n",
    "\n",
    "# Example:\n",
    "\n",
    "class Book:\n",
    "    def __init__(self, title, author):\n",
    "        self.title = title\n",
    "        self.author = author\n",
    "\n",
    "class Library:\n",
    "    def __init__(self):\n",
    "        self.books = []  # Composition: A Library \"has\" a list of Book objects\n",
    "\n",
    "    def add_book(self, book):\n",
    "        self.books.append(book)\n",
    "\n",
    "# Creating instances using composition with lists\n",
    "book1 = Book(\"Python Basics\", \"John Doe\")\n",
    "book2 = Book(\"Data Science Handbook\", \"Alice Smith\")\n",
    "my_library = Library()\n",
    "my_library.add_book(book1)\n",
    "my_library.add_book(book2)\n",
    "\n",
    "# Accessing components (books in the library)\n",
    "for book in my_library.books:\n",
    "    print(f\"Book Title: {book.title}, Author: {book.author}\")\n",
    "Composition with Multiple Components:\n",
    "\n",
    "In this example, we create a Computer class composed of a CPU, RAM, and Storage object.\n",
    "\n",
    "#Example:\n",
    "\n",
    "class CPU:\n",
    "    def __init__(self, brand, speed):\n",
    "        self.brand = brand\n",
    "        self.speed = speed\n",
    "\n",
    "class RAM:\n",
    "    def __init__(self, capacity):\n",
    "        self.capacity = capacity\n",
    "\n",
    "class Storage:\n",
    "    def __init__(self, capacity, storage_type):\n",
    "        self.capacity = capacity\n",
    "        self.storage_type = storage_type\n",
    "\n",
    "class Computer:\n",
    "    def __init__(self, cpu, ram, storage):\n",
    "        self.cpu = cpu\n",
    "        self.ram = ram\n",
    "        self.storage = storage  # Composition: A Computer \"has a\" CPU, RAM, and Storage\n",
    "\n",
    "# Creating instances using composition\n",
    "computer_cpu = CPU(\"Intel\", \"3.2 GHz\")\n",
    "computer_ram = RAM(\"16 GB\")\n",
    "computer_storage = Storage(\"512 GB\", \"SSD\")\n",
    "my_computer = Computer(computer_cpu, computer_ram, computer_storage)\n",
    "\n",
    "# Accessing components\n",
    "print(f\"My computer has a {my_computer.cpu.brand} CPU, {my_computer.ram.capacity} RAM, and {my_computer.storage.capacity} {my_computer.storage.storage_type} storage.\")\n",
    "\n",
    "In these examples, composition allows you to create complex objects by combining simpler objects as components, providing flexibility and reusability in your Python code. The components are fully encapsulated, and you can access them through the containing class, promoting code modularity and maintainability.\n"
   ]
  },
  {
   "cell_type": "markdown",
   "id": "ef873f1d",
   "metadata": {},
   "source": [
    "6. Create a Python class hierarchy for a music player system, using composition to represent playlists and\n",
    "songs."
   ]
  },
  {
   "cell_type": "code",
   "execution_count": 92,
   "id": "a14e5c78",
   "metadata": {},
   "outputs": [
    {
     "name": "stdout",
     "output_type": "stream",
     "text": [
      "Playlist: My Favorites\n",
      "Playing: Song 1 by Artist A\n",
      "Playing: Song 2 by Artist B\n",
      "Playlist: Relaxing Tunes\n",
      "Playing: Song 2 by Artist B\n",
      "Playing: Song 3 by Artist C\n"
     ]
    }
   ],
   "source": [
    "\"\"\"\n",
    "To create a Python class hierarchy for a music player system using composition, we'll design classes for playlists, songs, and the music player itself. Each class will use composition to build the music player system. Here's how you can structure the classes:\n",
    "\"\"\"\n",
    "\n",
    "class Song:\n",
    "    def __init__(self, title, artist, duration):\n",
    "        self.title = title\n",
    "        self.artist = artist\n",
    "        self.duration = duration\n",
    "\n",
    "    def play(self):\n",
    "        # Simulate playing the song\n",
    "        print(f\"Playing: {self.title} by {self.artist}\")\n",
    "\n",
    "class Playlist:\n",
    "    def __init__(self, name):\n",
    "        self.name = name\n",
    "        self.songs = []  # Composition: A Playlist \"contains\" a list of Song objects\n",
    "\n",
    "    def add_song(self, song):\n",
    "        self.songs.append(song)\n",
    "\n",
    "    def play(self):\n",
    "        # Play all songs in the playlist\n",
    "        print(f\"Playlist: {self.name}\")\n",
    "        for song in self.songs:\n",
    "            song.play()\n",
    "\n",
    "class MusicPlayer:\n",
    "    def __init__(self):\n",
    "        self.playlists = []  # Composition: A MusicPlayer \"contains\" a list of Playlist objects\n",
    "\n",
    "    def add_playlist(self, playlist):\n",
    "        self.playlists.append(playlist)\n",
    "\n",
    "    def play(self):\n",
    "        # Play all playlists in the music player\n",
    "        for playlist in self.playlists:\n",
    "            playlist.play()\n",
    "\n",
    "# Create songs\n",
    "song1 = Song(\"Song 1\", \"Artist A\", \"3:45\")\n",
    "song2 = Song(\"Song 2\", \"Artist B\", \"4:12\")\n",
    "song3 = Song(\"Song 3\", \"Artist C\", \"2:58\")\n",
    "\n",
    "# Create playlists\n",
    "playlist1 = Playlist(\"My Favorites\")\n",
    "playlist1.add_song(song1)\n",
    "playlist1.add_song(song2)\n",
    "\n",
    "playlist2 = Playlist(\"Relaxing Tunes\")\n",
    "playlist2.add_song(song2)\n",
    "playlist2.add_song(song3)\n",
    "\n",
    "# Create a music player and add playlists\n",
    "music_player = MusicPlayer()\n",
    "music_player.add_playlist(playlist1)\n",
    "music_player.add_playlist(playlist2)\n",
    "\n",
    "# Play the music\n",
    "music_player.play()\n"
   ]
  },
  {
   "cell_type": "markdown",
   "id": "452b3438",
   "metadata": {},
   "source": [
    "7. Explain the concept of \"has-a\" relationships in composition and how it helps design software systems."
   ]
  },
  {
   "cell_type": "raw",
   "id": "87d8e36e",
   "metadata": {},
   "source": [
    "The concept of \"has-a\" relationships in composition is a fundamental principle in software design and object-oriented programming. It refers to the way objects or classes can be structured to represent the idea that one object \"has\" or \"contains\" another object as a part or component. This relationship is crucial for designing complex software systems, and it helps create a modular, maintainable, and flexible codebase. Here's how it works:\n",
    "\n",
    "Modularity and Reusability: By breaking down a complex system into smaller, self-contained components, each with a specific responsibility, you achieve modularity. This means that each component (or object) can be developed and tested independently, and it can also be reused in various parts of the system or in different projects.\n",
    "\n",
    "Abstraction and Encapsulation: Each component can encapsulate its internal details and present a well-defined interface to the outside world. This abstracts the complexity and allows other parts of the system to interact with the component without needing to know how it works internally.\n",
    "\n",
    "Separation of Concerns: \"Has-a\" relationships facilitate the separation of concerns, where each component focuses on a specific aspect of the functionality. This separation makes the codebase easier to understand, maintain, and extend.\n",
    "\n",
    "Flexibility and Extensibility: When a component \"has\" other components, it's easy to extend the system by adding new components or modifying existing ones. This promotes flexibility and adaptability to changing requirements.\n",
    "\n",
    "Testing and Debugging: Smaller components are easier to test and debug. You can test each component in isolation, making it simpler to identify and fix issues.\n",
    "\n",
    "Collaborative Development: Teams of developers can work on different components simultaneously, speeding up the development process."
   ]
  },
  {
   "cell_type": "markdown",
   "id": "b704cd45",
   "metadata": {},
   "source": [
    "8. Create a Python class for a computer system, using composition to represent components like CPU, RAM,\n",
    "and storage devices."
   ]
  },
  {
   "cell_type": "code",
   "execution_count": 93,
   "id": "7180c4ac",
   "metadata": {},
   "outputs": [
    {
     "name": "stdout",
     "output_type": "stream",
     "text": [
      "CPU Intel Core i7 is processing data at 3.2 GHz.\n",
      "RAM with 16 GB is storing data: my_program.exe\n",
      "Reading my_program.exe from a storage device with 512 GB capacity.\n"
     ]
    }
   ],
   "source": [
    "class CPU:\n",
    "    def __init__(self, model, speed):\n",
    "        self.model = model\n",
    "        self.speed = speed\n",
    "\n",
    "    def process(self):\n",
    "        print(f\"CPU {self.model} is processing data at {self.speed} GHz.\")\n",
    "\n",
    "class RAM:\n",
    "    def __init__(self, capacity):\n",
    "        self.capacity = capacity\n",
    "\n",
    "    def store(self, data):\n",
    "        print(f\"RAM with {self.capacity} GB is storing data: {data}\")\n",
    "\n",
    "class StorageDevice:\n",
    "    def __init__(self, capacity):\n",
    "        self.capacity = capacity\n",
    "\n",
    "    def read(self, file_name):\n",
    "        print(f\"Reading {file_name} from a storage device with {self.capacity} GB capacity.\")\n",
    "\n",
    "class Computer:\n",
    "    def __init__(self, cpu, ram, storage):\n",
    "        self.cpu = cpu  # Composition: A Computer \"has\" a CPU\n",
    "        self.ram = ram  # Composition: A Computer \"has\" RAM\n",
    "        self.storage = storage  # Composition: A Computer \"has\" a Storage Device\n",
    "\n",
    "    def run_program(self, program):\n",
    "        self.cpu.process()\n",
    "        self.ram.store(program)\n",
    "        self.storage.read(program)\n",
    "\n",
    "# Create CPU, RAM, and Storage Device instances\n",
    "cpu = CPU(\"Intel Core i7\", 3.2)\n",
    "ram = RAM(16)\n",
    "storage = StorageDevice(512)\n",
    "\n",
    "# Create a Computer with the CPU, RAM, and Storage Device\n",
    "my_computer = Computer(cpu, ram, storage)\n",
    "\n",
    "# Run a program on the computer\n",
    "my_computer.run_program(\"my_program.exe\")\n"
   ]
  },
  {
   "cell_type": "markdown",
   "id": "1b889ac0",
   "metadata": {},
   "source": [
    "9. Describe the concept of \"delegation\" in composition and how it simplifies the design of complex systems."
   ]
  },
  {
   "cell_type": "raw",
   "id": "9b0c82c5",
   "metadata": {},
   "source": [
    "The concept of \"delegation\" in composition refers to the practice of delegating specific tasks or responsibilities to individual components or objects within a larger system. In the context of software design, it simplifies the design of complex systems by breaking them down into smaller, more manageable parts, each responsible for a particular aspect of the system's functionality. Delegation enhances modularity, maintainability, and flexibility, making it easier to understand and extend the system.\n",
    "\n",
    "Key aspects of delegation in composition include:\n",
    "\n",
    "Responsibility Division: Each component is responsible for a well-defined set of tasks. By distributing responsibilities, you achieve a clear separation of concerns, where each component focuses on a specific aspect of the system's functionality.\n",
    "\n",
    "Abstraction: Components abstract their internal workings, exposing only a well-defined interface to the outside world. This abstraction allows other parts of the system to interact with the component without needing to know how it works internally.\n",
    "\n",
    "Modularity: Components can be developed, tested, and maintained independently. This promotes code modularity, where changes to one component don't affect the others as long as the interface remains the same.\n",
    "\n",
    "Code Reusability: Delegated components can be reused in different parts of the system or even in entirely different projects, reducing redundant code and promoting reusability.\n",
    "\n",
    "Simplicity and Maintainability: Smaller, more focused components are easier to understand, debug, and maintain. Complex logic is broken down into simpler, manageable parts.\n",
    "\n",
    "Here's an example to illustrate the concept of delegation in composition:\n",
    "\n",
    "Suppose you are designing a document processing system. You can use delegation to simplify the design by dividing responsibilities among different components:\n",
    "\n",
    "A TextEditor class is responsible for text editing and formatting.\n",
    "A SpellChecker class is responsible for checking spelling and grammar.\n",
    "A FileSaver class is responsible for saving documents to disk.\n",
    "In this design:\n",
    "\n",
    "The TextEditor delegates the task of spell checking to the SpellChecker.\n",
    "The TextEditor delegates the task of saving the document to the FileSaver.\n",
    "This delegation of responsibilities simplifies the design. Each component is responsible for a specific task, and the overall system can be easily extended or modified without affecting other components. It also allows for code reuse, as you can use the SpellChecker and FileSaver in other parts of the system.\n",
    "\n",
    "Delegation in composition enhances the overall design of complex systems, making them more maintainable, modular, and flexible. It is a fundamental principle in achieving effective software architecture."
   ]
  },
  {
   "cell_type": "markdown",
   "id": "f8775b00",
   "metadata": {},
   "source": [
    "10. Create a Python class for a car, using composition to represent components like the engine, wheels, and\n",
    "transmission."
   ]
  },
  {
   "cell_type": "code",
   "execution_count": 94,
   "id": "73aeae98",
   "metadata": {},
   "outputs": [
    {
     "name": "stdout",
     "output_type": "stream",
     "text": [
      "The engine, running on Gasoline, is started.\n",
      "All 4 wheels are rotating.\n",
      "Shifted to Drive gear using Automatic transmission.\n",
      "The engine is stopped.\n"
     ]
    }
   ],
   "source": [
    "class Engine:\n",
    "    def __init__(self, fuel_type):\n",
    "        self.fuel_type = fuel_type\n",
    "\n",
    "    def start(self):\n",
    "        print(f\"The engine, running on {self.fuel_type}, is started.\")\n",
    "\n",
    "    def stop(self):\n",
    "        print(\"The engine is stopped.\")\n",
    "\n",
    "class Wheels:\n",
    "    def __init__(self, count):\n",
    "        self.count = count\n",
    "\n",
    "    def rotate(self):\n",
    "        print(f\"All {self.count} wheels are rotating.\")\n",
    "\n",
    "class Transmission:\n",
    "    def __init__(self, transmission_type):\n",
    "        self.transmission_type = transmission_type\n",
    "\n",
    "    def shift_gear(self, gear):\n",
    "        print(f\"Shifted to {gear} gear using {self.transmission_type} transmission.\")\n",
    "\n",
    "class Car:\n",
    "    def __init__(self, engine, wheels, transmission):\n",
    "        self.engine = engine  # Composition: A Car \"has\" an Engine\n",
    "        self.wheels = wheels  # Composition: A Car \"has\" Wheels\n",
    "        self.transmission = transmission  # Composition: A Car \"has\" a Transmission\n",
    "\n",
    "    def start(self):\n",
    "        self.engine.start()\n",
    "        self.wheels.rotate()\n",
    "\n",
    "    def stop(self):\n",
    "        self.engine.stop()\n",
    "\n",
    "    def change_gear(self, gear):\n",
    "        self.transmission.shift_gear(gear)\n",
    "\n",
    "# Create instances for the components\n",
    "engine = Engine(\"Gasoline\")\n",
    "wheels = Wheels(4)\n",
    "transmission = Transmission(\"Automatic\")\n",
    "\n",
    "# Create a Car with the engine, wheels, and transmission\n",
    "my_car = Car(engine, wheels, transmission)\n",
    "\n",
    "# Start the car\n",
    "my_car.start()\n",
    "\n",
    "# Change gears\n",
    "my_car.change_gear(\"Drive\")\n",
    "\n",
    "# Stop the car\n",
    "my_car.stop()\n"
   ]
  },
  {
   "cell_type": "markdown",
   "id": "27418171",
   "metadata": {},
   "source": [
    "11. How can you encapsulate and hide the details of composed objects in Python classes to maintain\n",
    "abstraction?"
   ]
  },
  {
   "cell_type": "raw",
   "id": "62c83c5b",
   "metadata": {},
   "source": [
    "In Python, encapsulation can be used to hide the details of composed objects within a class to maintain abstraction. Encapsulation is achieved by defining attributes and methods as either public, protected, or private. Here's how you can encapsulate and hide the details of composed objects in Python classes:\n",
    "\n",
    "Private Attributes and Methods: You can use a single underscore _ prefix to indicate that an attribute or method is intended to be protected (not for public use). This is a convention, and it doesn't prevent access. However, it signals to other programmers that these attributes/methods should be treated as non-public.\n",
    "\n",
    "#Example:\n",
    "class Car:\n",
    "    def __init__(self, engine, wheels, transmission):\n",
    "        self._engine = engine  # Protected attribute\n",
    "        self._wheels = wheels  # Protected attribute\n",
    "        self._transmission = transmission  # Protected attribute\n",
    "\n",
    "    def _start(self):  # Protected method\n",
    "        self._engine.start()\n",
    "        self._wheels.rotate()\n",
    "\n",
    "    def _stop(self):  # Protected method\n",
    "        self._engine.stop()\n",
    "\n",
    "Name Mangling: Python provides name mangling to make attributes and methods more difficult to access from outside the class. Name mangling involves adding a double underscore __ prefix to attributes or methods, and the name is modified to include the class name as a prefix. This makes it challenging to access these attributes or methods from outside the class.\n",
    "\n",
    "#Example:\n",
    "class Car:\n",
    "    def __init__(self, engine, wheels, transmission):\n",
    "        self.__engine = engine  # Private attribute with name mangling\n",
    "        self.__wheels = wheels  # Private attribute with name mangling\n",
    "        self.__transmission = transmission  # Private attribute with name mangling\n",
    "\n",
    "    def __start(self):  # Private method with name mangling\n",
    "        self.__engine.start()\n",
    "        self.__wheels.rotate()\n",
    "\n",
    "    def __stop(self):  # Private method with name mangling\n",
    "        self.__engine.stop()\n",
    "\n",
    "Accessing private attributes or methods with name mangling can still be done, but it requires using the modified name that includes the class name as a prefix.\n",
    "\n",
    "Properties and Getters/Setters: You can use properties and getter/setter methods to control access to attributes and add validation or custom behavior when accessing or modifying the attributes.\n",
    "\n",
    "#Example:\n",
    "class Car:\n",
    "    def __init__(self, engine, wheels, transmission):\n",
    "        self._engine = engine\n",
    "        self._wheels = wheels\n",
    "        self._transmission = transmission\n",
    "\n",
    "    def start(self):\n",
    "        self._engine.start()\n",
    "        self._wheels.rotate()\n",
    "\n",
    "    def stop(self):\n",
    "        self._engine.stop()\n",
    "\n",
    "    # Example of a property and getter/setter\n",
    "    @property\n",
    "    def engine(self):\n",
    "        return self._engine\n",
    "\n",
    "    @engine.setter\n",
    "    def engine(self, new_engine):\n",
    "        # You can add custom validation or behavior here\n",
    "        self._engine = new_engine\n",
    "\n",
    "By applying these techniques, you can encapsulate and hide the details of composed objects within a Python class, maintaining abstraction and controlling access to the underlying components. It's essential to strike a balance between encapsulation and providing necessary access to external code."
   ]
  },
  {
   "cell_type": "markdown",
   "id": "1dad997e",
   "metadata": {},
   "source": [
    "12. Create a Python class for a university course, using composition to represent students, instructors, and\n",
    "course materials."
   ]
  },
  {
   "cell_type": "code",
   "execution_count": 96,
   "id": "fffc468a",
   "metadata": {},
   "outputs": [
    {
     "name": "stdout",
     "output_type": "stream",
     "text": [
      "Course Code: CSCI101\n",
      "Course Name: Introduction to Python Programming\n",
      "Students:\n",
      "Alice (ID: S001)\n",
      "Bob (ID: S002)\n",
      "Instructor:\n",
      "Dr. Smith (ID: I001)\n",
      "Course Materials:\n",
      "Introduction to Python (ID: M001)\n",
      "Python Programming Exercises (ID: M002)\n"
     ]
    }
   ],
   "source": [
    "class Student:\n",
    "    def __init__(self, student_id, name):\n",
    "        self.student_id = student_id\n",
    "        self.name = name\n",
    "\n",
    "class Instructor:\n",
    "    def __init__(self, instructor_id, name):\n",
    "        self.instructor_id = instructor_id\n",
    "        self.name = name\n",
    "\n",
    "class CourseMaterial:\n",
    "    def __init__(self, material_id, title):\n",
    "        self.material_id = material_id\n",
    "        self.title = title\n",
    "\n",
    "class UniversityCourse:\n",
    "    def __init__(self, course_code, course_name):\n",
    "        self.course_code = course_code\n",
    "        self.course_name = course_name\n",
    "        self.students = []  # List of Student objects\n",
    "        self.instructor = None  # Instructor object\n",
    "        self.course_materials = []  # List of CourseMaterial objects\n",
    "\n",
    "    def add_student(self, student):\n",
    "        self.students.append(student)\n",
    "\n",
    "    def set_instructor(self, instructor):\n",
    "        self.instructor = instructor\n",
    "\n",
    "    def add_course_material(self, course_material):\n",
    "        self.course_materials.append(course_material)\n",
    "\n",
    "########\n",
    "# Code for creating the class hierarchy (as shown in the previous response) here...\n",
    "\n",
    "# Create students\n",
    "student1 = Student(\"S001\", \"Alice\")\n",
    "student2 = Student(\"S002\", \"Bob\")\n",
    "\n",
    "# Create an instructor\n",
    "instructor = Instructor(\"I001\", \"Dr. Smith\")\n",
    "\n",
    "# Create course materials\n",
    "material1 = CourseMaterial(\"M001\", \"Introduction to Python\")\n",
    "material2 = CourseMaterial(\"M002\", \"Python Programming Exercises\")\n",
    "\n",
    "# Create a university course and compose it\n",
    "course = UniversityCourse(\"CSCI101\", \"Introduction to Python Programming\")\n",
    "course.add_student(student1)\n",
    "course.add_student(student2)\n",
    "course.set_instructor(instructor)\n",
    "course.add_course_material(material1)\n",
    "course.add_course_material(material2)\n",
    "\n",
    "# Printing information about the course\n",
    "print(\"Course Code:\", course.course_code)\n",
    "print(\"Course Name:\", course.course_name)\n",
    "\n",
    "print(\"Students:\")\n",
    "for student in course.students:\n",
    "    print(f\"{student.name} (ID: {student.student_id})\")\n",
    "\n",
    "print(\"Instructor:\")\n",
    "print(f\"{course.instructor.name} (ID: {course.instructor.instructor_id})\")\n",
    "\n",
    "print(\"Course Materials:\")\n",
    "for material in course.course_materials:\n",
    "    print(f\"{material.title} (ID: {material.material_id})\")\n"
   ]
  },
  {
   "cell_type": "markdown",
   "id": "e5191ac9",
   "metadata": {},
   "source": [
    "13. Discuss the challenges and drawbacks of composition, such as increased complexity and potential for\n",
    "tight coupling between objects."
   ]
  },
  {
   "cell_type": "raw",
   "id": "3c337d4f",
   "metadata": {},
   "source": [
    "While composition is a powerful concept in object-oriented programming, it does come with its own set of challenges and potential drawbacks:\n",
    "\n",
    "Increased Complexity: As the number of composed objects and their interactions grow, the complexity of the overall system can become challenging to manage. Understanding how various objects are interconnected may become more difficult.\n",
    "\n",
    "Tight Coupling: Composition can lead to tight coupling between objects. This means that changes to one object might require changes in multiple other objects due to their interdependencies. This can make the system less flexible and more prone to errors.\n",
    "\n",
    "Code Maintenance: Maintaining a system with numerous composed objects can be time-consuming and error-prone. When changes are made to one object, it's essential to ensure that these changes don't break other parts of the system.\n",
    "\n",
    "Performance Overhead: In systems with deep levels of composition, there can be a performance overhead due to the need to traverse multiple layers of objects to access or modify data.\n",
    "\n",
    "Initialization Complexity: Constructing complex objects through composition can be complex and might involve the creation of many interconnected objects. This initialization process can be error-prone and challenging to manage.\n",
    "\n",
    "Resource Management: Properly managing resources (e.g., memory) for a system with many composed objects can be challenging. Cleaning up resources and preventing resource leaks can be complex.\n",
    "\n",
    "Design Complexity: Deciding on the right composition structure can be a design challenge. It's essential to strike a balance between creating small, reusable objects and avoiding excessive fragmentation, which can lead to confusion.\n",
    "\n",
    "Testing and Debugging: Debugging issues in systems with composition can be complicated because the source of a problem might not be immediately obvious. Testing interactions between composed objects can also be challenging.\n",
    "\n",
    "To mitigate these challenges, it's crucial to follow best practices in software design, such as using design patterns, modularization, and encapsulation. Additionally, proper documentation and clear communication within a development team can help manage complex compositions effectively. Careful consideration of the relationships between objects and their responsibilities is key to achieving the benefits of composition while minimizing its drawbacks."
   ]
  },
  {
   "cell_type": "markdown",
   "id": "f7402cf9",
   "metadata": {},
   "source": [
    "14. Create a Python class hierarchy for a restaurant system, using composition to represent menus, dishes,\n",
    "and ingredients."
   ]
  },
  {
   "cell_type": "code",
   "execution_count": 97,
   "id": "d6ed591a",
   "metadata": {},
   "outputs": [
    {
     "name": "stdout",
     "output_type": "stream",
     "text": [
      "Welcome to My Restaurant!\n",
      "\n",
      "Lunch Menu:\n",
      "Burger - $8.99\n",
      "Ingredients: 2 pieces of Tomato, 50 grams of Lettuce, 30 grams of Cheese, 1 piece of Beef Patty\n",
      "Salad - $5.99\n",
      "Ingredients: 50 grams of Lettuce, 2 pieces of Tomato, 30 grams of Cheese\n",
      "Dinner Menu:\n",
      "Burger - $8.99\n",
      "Ingredients: 2 pieces of Tomato, 50 grams of Lettuce, 30 grams of Cheese, 1 piece of Beef Patty\n"
     ]
    }
   ],
   "source": [
    "class Ingredient:\n",
    "    def __init__(self, name, quantity, unit):\n",
    "        self.name = name\n",
    "        self.quantity = quantity\n",
    "        self.unit = unit\n",
    "\n",
    "    def __str__(self):\n",
    "        return f\"{self.quantity} {self.unit} of {self.name}\"\n",
    "\n",
    "\n",
    "class Dish:\n",
    "    def __init__(self, name, price, ingredients=None):\n",
    "        self.name = name\n",
    "        self.price = price\n",
    "        self.ingredients = ingredients or []\n",
    "\n",
    "    def add_ingredient(self, ingredient):\n",
    "        self.ingredients.append(ingredient)\n",
    "\n",
    "    def __str__(self):\n",
    "        return f\"{self.name} - ${self.price:.2f}\\nIngredients: {', '.join(map(str, self.ingredients))}\"\n",
    "\n",
    "\n",
    "class Menu:\n",
    "    def __init__(self, name, dishes=None):\n",
    "        self.name = name\n",
    "        self.dishes = dishes or []\n",
    "\n",
    "    def add_dish(self, dish):\n",
    "        self.dishes.append(dish)\n",
    "\n",
    "    def __str__(self):\n",
    "        return f\"{self.name} Menu:\\n\" + \"\\n\".join(map(str, self.dishes))\n",
    "\n",
    "\n",
    "class Restaurant:\n",
    "    def __init__(self, name, menus=None):\n",
    "        self.name = name\n",
    "        self.menus = menus or []\n",
    "\n",
    "    def add_menu(self, menu):\n",
    "        self.menus.append(menu)\n",
    "\n",
    "    def __str__(self):\n",
    "        return f\"Welcome to {self.name}!\\n\\n\" + \"\\n\".join(map(str, self.menus))\n",
    "\n",
    "\n",
    "# Example usage\n",
    "if __name__ == \"__main__\":\n",
    "    # Create ingredients\n",
    "    tomato = Ingredient(\"Tomato\", 2, \"pieces\")\n",
    "    lettuce = Ingredient(\"Lettuce\", 50, \"grams\")\n",
    "    cheese = Ingredient(\"Cheese\", 30, \"grams\")\n",
    "    beef_patty = Ingredient(\"Beef Patty\", 1, \"piece\")\n",
    "\n",
    "    # Create dishes\n",
    "    burger = Dish(\"Burger\", 8.99, [tomato, lettuce, cheese, beef_patty])\n",
    "    salad = Dish(\"Salad\", 5.99, [lettuce, tomato, cheese])\n",
    "\n",
    "    # Create menus\n",
    "    lunch_menu = Menu(\"Lunch\", [burger, salad])\n",
    "    dinner_menu = Menu(\"Dinner\", [burger])\n",
    "\n",
    "    # Create a restaurant\n",
    "    my_restaurant = Restaurant(\"My Restaurant\", [lunch_menu, dinner_menu])\n",
    "\n",
    "    # Display the restaurant and its menus\n",
    "    print(my_restaurant)\n"
   ]
  },
  {
   "cell_type": "markdown",
   "id": "262e01ac",
   "metadata": {},
   "source": [
    "15. Explain how composition enhances code maintainability and modularity in Python programs."
   ]
  },
  {
   "cell_type": "raw",
   "id": "6b62d95b",
   "metadata": {},
   "source": [
    "Composition enhances code maintainability and modularity in Python programs in several ways:\n",
    "\n",
    "Separation of Concerns: Composition allows you to break down a complex system into smaller, more manageable components. Each component (e.g., classes) is responsible for a specific aspect of the functionality. This separation of concerns makes the code easier to understand and maintain because you can focus on one component at a time.\n",
    "\n",
    "Reusability: Components created through composition can often be reused in different parts of the program or in other projects. For example, a well-designed class representing a database connection can be reused in multiple parts of an application.\n",
    "\n",
    "Flexibility: When using composition, you can easily replace or upgrade individual components without affecting the entire system. This flexibility is valuable when new requirements arise or when you need to adapt to changes in external dependencies.\n",
    "\n",
    "Testing and Debugging: Smaller components are easier to test and debug. It's simpler to isolate and test the functionality of a single class or object than a monolithic system. This makes it easier to identify and fix issues.\n",
    "\n",
    "Scalability: As your project grows, you can add new components without having to modify existing ones, provided they adhere to well-defined interfaces. This scalability is crucial in large software projects.\n",
    "\n",
    "Modularity: Composition encourages the creation of modular code. Each module can be developed, tested, and maintained independently, simplifying the development process.\n",
    "\n",
    "Abstraction: Composition promotes abstraction, which allows you to hide the internal details of a component behind a well-defined interface. This abstraction makes it easier to work with complex systems and reduces the risk of unintended interactions between components.\n",
    "\n",
    "Encapsulation: Each component can encapsulate its internal state and behavior, exposing only what is necessary for other components to interact with it. This protects the integrity of the component and reduces the chances of unintended side effects.\n",
    "\n",
    "Code Readability: Composition often leads to more readable code. Each component has a specific purpose, and the interactions between components are explicit, making it easier for developers to understand how the system works.\n",
    "\n",
    "Overall, composition promotes good software engineering practices and design principles, such as the single responsibility principle (SRP) and the open/closed principle (OCP), which contribute to code maintainability and modularity. It allows you to create systems that are easier to understand, extend, and maintain as they evolve over time."
   ]
  },
  {
   "cell_type": "markdown",
   "id": "2f3523ee",
   "metadata": {},
   "source": [
    "16. Create a Python class for a computer game character, using composition to represent attributes like\n",
    "weapons, armor, and inventory."
   ]
  },
  {
   "cell_type": "code",
   "execution_count": 98,
   "id": "433fd5d0",
   "metadata": {},
   "outputs": [
    {
     "name": "stdout",
     "output_type": "stream",
     "text": [
      "Hero has equipped Sword.\n",
      "Hero is wearing Shield.\n",
      "Attacking with Sword, dealing 15 damage.\n",
      "Wearing Shield armor, providing 10 defense.\n",
      "Added Health Potion to the inventory.\n"
     ]
    }
   ],
   "source": [
    "class Weapon:\n",
    "    def __init__(self, name, damage):\n",
    "        self.name = name\n",
    "        self.damage = damage\n",
    "\n",
    "    def attack(self):\n",
    "        print(f\"Attacking with {self.name}, dealing {self.damage} damage.\")\n",
    "\n",
    "class Armor:\n",
    "    def __init__(self, name, defense):\n",
    "        self.name = name\n",
    "        self.defense = defense\n",
    "\n",
    "    def defend(self):\n",
    "        print(f\"Wearing {self.name} armor, providing {self.defense} defense.\")\n",
    "\n",
    "class Inventory:\n",
    "    def __init__(self):\n",
    "        self.items = []\n",
    "\n",
    "    def add_item(self, item):\n",
    "        self.items.append(item)\n",
    "        print(f\"Added {item} to the inventory.\")\n",
    "\n",
    "class Character:\n",
    "    def __init__(self, name):\n",
    "        self.name = name\n",
    "        self.weapon = None\n",
    "        self.armor = None\n",
    "        self.inventory = Inventory()\n",
    "\n",
    "    def equip_weapon(self, weapon):\n",
    "        self.weapon = weapon\n",
    "        print(f\"{self.name} has equipped {weapon.name}.\")\n",
    "\n",
    "    def equip_armor(self, armor):\n",
    "        self.armor = armor\n",
    "        print(f\"{self.name} is wearing {armor.name}.\")\n",
    "\n",
    "    def attack(self):\n",
    "        if self.weapon:\n",
    "            self.weapon.attack()\n",
    "        else:\n",
    "            print(f\"{self.name} attacks with bare fists.\")\n",
    "\n",
    "    def defend(self):\n",
    "        if self.armor:\n",
    "            self.armor.defend()\n",
    "        else:\n",
    "            print(f\"{self.name} has no armor to defend.\")\n",
    "\n",
    "    def add_item_to_inventory(self, item):\n",
    "        self.inventory.add_item(item)\n",
    "\n",
    "# Example usage:\n",
    "if __name__ == \"__main__\":\n",
    "    sword = Weapon(\"Sword\", 15)\n",
    "    shield = Armor(\"Shield\", 10)\n",
    "    player = Character(\"Hero\")\n",
    "\n",
    "    player.equip_weapon(sword)\n",
    "    player.equip_armor(shield)\n",
    "    player.attack()\n",
    "    player.defend()\n",
    "\n",
    "    potion = \"Health Potion\"\n",
    "    player.add_item_to_inventory(potion)\n"
   ]
  },
  {
   "cell_type": "markdown",
   "id": "85e28bb7",
   "metadata": {},
   "source": [
    "17. Describe the concept of \"aggregation\" in composition and how it differs from simple composition."
   ]
  },
  {
   "cell_type": "raw",
   "id": "c15f358d",
   "metadata": {},
   "source": [
    "Aggregation is a specialized form of composition in object-oriented programming, and it differs from simple composition in terms of the lifetime and ownership of the composed objects. Here are the key differences:\n",
    "\n",
    "Lifetime and Ownership:\n",
    "\n",
    "In simple composition, the composed objects are typically created and managed by the containing object (the composite). They have the same lifetime as the composite, and when the composite is destroyed, the composed objects are also destroyed.\n",
    "In aggregation, the composed objects have an independent lifetime and may exist outside the context of the composite. The composite holds references or pointers to the composed objects, but it doesn't necessarily own them.\n",
    "Relationship Strength:\n",
    "\n",
    "In simple composition, the relationship between the composite and the composed objects is usually strong. Composed objects are part of the composite and are tightly coupled with it.\n",
    "In aggregation, the relationship is weaker. The composite may use or reference the composed objects, but it doesn't control their lifecycle or have a strong ownership relationship with them.\n",
    "Multiplicity:\n",
    "\n",
    "In simple composition, a composite object can typically contain multiple instances of the same composed class.\n",
    "In aggregation, the composed objects are often unique instances or are shared among multiple composites.\n",
    "Navigation:\n",
    "\n",
    "In simple composition, it is common for the composite to provide methods or properties to access and manipulate the composed objects.\n",
    "In aggregation, the composed objects are typically accessed directly, and they may be shared by multiple composites.\n",
    "Example:\n",
    "\n",
    "A classic example of aggregation is a university and its departments. A university can have multiple departments, and a department can exist independently of the university. The university and departments exhibit an aggregation relationship.\n",
    "In summary, aggregation is used when the composed objects have an independent existence and can be shared among multiple composites. It represents a \"has-a\" relationship, where a composite object has or uses the composed objects but doesn't necessarily own them. Simple composition, on the other hand, implies a stronger ownership and a tighter coupling between the composite and the composed objects."
   ]
  },
  {
   "cell_type": "markdown",
   "id": "c142a45e",
   "metadata": {},
   "source": [
    "18. Create a Python class for a house, using composition to represent rooms, furniture, and appliances."
   ]
  },
  {
   "cell_type": "code",
   "execution_count": 99,
   "id": "088277aa",
   "metadata": {},
   "outputs": [
    {
     "name": "stdout",
     "output_type": "stream",
     "text": [
      "House Description:\n",
      "Room: Living Room\n",
      "Furniture:\n",
      "  - A piece of furniture: Sofa\n",
      "Appliances:\n",
      "  - An appliance: TV\n",
      "Room: Kitchen\n",
      "Furniture:\n",
      "  - A piece of furniture: Dining Table\n",
      "Appliances:\n",
      "  - An appliance: Oven\n",
      "\n"
     ]
    }
   ],
   "source": [
    "class Furniture:\n",
    "    def __init__(self, name):\n",
    "        self.name = name\n",
    "\n",
    "    def description(self):\n",
    "        return f\"A piece of furniture: {self.name}\"\n",
    "\n",
    "class Appliance:\n",
    "    def __init__(self, name):\n",
    "        self.name = name\n",
    "\n",
    "    def description(self):\n",
    "        return f\"An appliance: {self.name}\"\n",
    "\n",
    "class Room:\n",
    "    def __init__(self, name):\n",
    "        self.name = name\n",
    "        self.furniture = []\n",
    "        self.appliances = []\n",
    "\n",
    "    def add_furniture(self, furniture):\n",
    "        self.furniture.append(furniture)\n",
    "\n",
    "    def add_appliance(self, appliance):\n",
    "        self.appliances.append(appliance)\n",
    "\n",
    "    def description(self):\n",
    "        room_description = f\"Room: {self.name}\\n\"\n",
    "        if self.furniture:\n",
    "            room_description += \"Furniture:\\n\"\n",
    "            for item in self.furniture:\n",
    "                room_description += f\"  - {item.description()}\\n\"\n",
    "        if self.appliances:\n",
    "            room_description += \"Appliances:\\n\"\n",
    "            for item in self.appliances:\n",
    "                room_description += f\"  - {item.description()}\\n\"\n",
    "        return room_description\n",
    "\n",
    "class House:\n",
    "    def __init__(self):\n",
    "        self.rooms = []\n",
    "\n",
    "    def add_room(self, room):\n",
    "        self.rooms.append(room)\n",
    "\n",
    "    def description(self):\n",
    "        house_description = \"House Description:\\n\"\n",
    "        for room in self.rooms:\n",
    "            house_description += room.description()\n",
    "        return house_description\n",
    "\n",
    "# Example usage:\n",
    "if __name__ == \"__main__\":\n",
    "    living_room = Room(\"Living Room\")\n",
    "    sofa = Furniture(\"Sofa\")\n",
    "    tv = Appliance(\"TV\")\n",
    "    living_room.add_furniture(sofa)\n",
    "    living_room.add_appliance(tv)\n",
    "\n",
    "    kitchen = Room(\"Kitchen\")\n",
    "    table = Furniture(\"Dining Table\")\n",
    "    oven = Appliance(\"Oven\")\n",
    "    kitchen.add_furniture(table)\n",
    "    kitchen.add_appliance(oven)\n",
    "\n",
    "    my_house = House()\n",
    "    my_house.add_room(living_room)\n",
    "    my_house.add_room(kitchen)\n",
    "\n",
    "    print(my_house.description())\n"
   ]
  },
  {
   "cell_type": "markdown",
   "id": "ead88c56",
   "metadata": {},
   "source": [
    "19. How can you achieve flexibility in composed objects by allowing them to be replaced or modified\n",
    "dynamically at runtime?"
   ]
  },
  {
   "cell_type": "raw",
   "id": "ceb2dda1",
   "metadata": {},
   "source": [
    "To achieve flexibility in composed objects by allowing them to be replaced or modified dynamically at runtime, you can use techniques like dependency injection and interfaces/abstract classes. These techniques allow you to decouple the specific implementation of composed objects from the client code, making it easier to replace or modify those objects without affecting the overall system. Here's how you can achieve this:\n",
    "\n",
    "Dependency Injection: In this approach, you pass the dependencies (composed objects) into a class rather than creating them within the class itself. This allows you to easily replace or modify the dependencies at runtime. You can use constructor injection, setter injection, or method injection to provide the dependencies.\n",
    "\n",
    "Interfaces/Abstract Classes: Define interfaces or abstract classes that describe the expected behavior of the composed objects. Then, use these interfaces or abstract classes in your code instead of concrete implementations. This allows you to replace composed objects with different implementations that conform to the same interface or extend the same abstract class."
   ]
  },
  {
   "cell_type": "markdown",
   "id": "e3a9842d",
   "metadata": {},
   "source": [
    "20. Create a Python class for a social media application, using composition to represent users, posts, and\n",
    "comments."
   ]
  },
  {
   "cell_type": "code",
   "execution_count": 100,
   "id": "658de5c2",
   "metadata": {},
   "outputs": [
    {
     "name": "stdout",
     "output_type": "stream",
     "text": [
      "User 1's Posts:\n",
      "Alice said: Hello, world!\n",
      "  - Bob: I agree!\n",
      "User 2's Posts:\n",
      "Bob said: Nice weather today.\n",
      "  - Alice: Yes, it is!\n"
     ]
    }
   ],
   "source": [
    "class User:\n",
    "    def __init__(self, username):\n",
    "        self.username = username\n",
    "        self.posts = []\n",
    "\n",
    "    def create_post(self, content):\n",
    "        post = Post(content, self)\n",
    "        self.posts.append(post)\n",
    "        return post\n",
    "\n",
    "class Post:\n",
    "    def __init__(self, content, author):\n",
    "        self.content = content\n",
    "        self.author = author\n",
    "        self.comments = []\n",
    "\n",
    "    def add_comment(self, text, user):\n",
    "        comment = Comment(text, user)\n",
    "        self.comments.append(comment)\n",
    "\n",
    "class Comment:\n",
    "    def __init__(self, text, user):\n",
    "        self.text = text\n",
    "        self.user = user\n",
    "\n",
    "# Example usage:\n",
    "if __name__ == \"__main__\":\n",
    "    user1 = User(\"Alice\")\n",
    "    user2 = User(\"Bob\")\n",
    "\n",
    "    post1 = user1.create_post(\"Hello, world!\")\n",
    "    post2 = user2.create_post(\"Nice weather today.\")\n",
    "\n",
    "    post1.add_comment(\"I agree!\", user2)\n",
    "    post2.add_comment(\"Yes, it is!\", user1)\n",
    "\n",
    "    print(\"User 1's Posts:\")\n",
    "    for post in user1.posts:\n",
    "        print(f\"{post.author.username} said: {post.content}\")\n",
    "        for comment in post.comments:\n",
    "            print(f\"  - {comment.user.username}: {comment.text}\")\n",
    "\n",
    "    print(\"User 2's Posts:\")\n",
    "    for post in user2.posts:\n",
    "        print(f\"{post.author.username} said: {post.content}\")\n",
    "        for comment in post.comments:\n",
    "            print(f\"  - {comment.user.username}: {comment.text}\")\n"
   ]
  }
 ],
 "metadata": {
  "kernelspec": {
   "display_name": "Python 3 (ipykernel)",
   "language": "python",
   "name": "python3"
  },
  "language_info": {
   "codemirror_mode": {
    "name": "ipython",
    "version": 3
   },
   "file_extension": ".py",
   "mimetype": "text/x-python",
   "name": "python",
   "nbconvert_exporter": "python",
   "pygments_lexer": "ipython3",
   "version": "3.10.9"
  }
 },
 "nbformat": 4,
 "nbformat_minor": 5
}
