{
 "cells": [
  {
   "cell_type": "code",
   "execution_count": 6,
   "id": "844568b2",
   "metadata": {},
   "outputs": [
    {
     "name": "stdout",
     "output_type": "stream",
     "text": [
      "[1, 2, 3, 4, 5, 6, 7, 8, 9, 10]\n"
     ]
    }
   ],
   "source": [
    "# 1. Write a Python program to print the numbers from 1 to 10 using a `for` loop.\n",
    "for i in [list(range(1,11))]: # 1 will give staring value and 11 will give ending value\n",
    "    print(i)\n",
    "#print i"
   ]
  },
  {
   "cell_type": "code",
   "execution_count": 7,
   "id": "79d5dede",
   "metadata": {},
   "outputs": [
    {
     "name": "stdout",
     "output_type": "stream",
     "text": [
      "How many numbers: 5\n",
      "Enter number 12\n",
      "Enter number 13\n",
      "Enter number 14\n",
      "Enter number 15\n",
      "Enter number 16\n",
      "Sum of elements in given list is : 70\n"
     ]
    }
   ],
   "source": [
    "# 2. Create a program that calculates the sum of all numbers in a list using a `for` lo\n",
    "lst = []\n",
    "num = int(input('How many numbers: '))\n",
    "for n in range(num):\n",
    "    numbers = int(input('Enter number '))\n",
    "    lst.append(numbers)\n",
    "print(\"Sum of elements in given list is :\", sum(lst))\n",
    "    "
   ]
  },
  {
   "cell_type": "code",
   "execution_count": 10,
   "id": "3d58d9d8",
   "metadata": {},
   "outputs": [
    {
     "name": "stdout",
     "output_type": "stream",
     "text": [
      "Enter the String: vikas kumar\n",
      "Reversed String: ramuk sakiv\n"
     ]
    }
   ],
   "source": [
    "# 3. Write a program to print the characters of a string in reverse order using a `for` loop.\n",
    "string = input(\"Enter the String: \")\n",
    "reverse = \"\" #initialize an empty string to store the reversed  characters\n",
    "for char in reversed(string):  # iterate through the string in reverse order using a for loop\n",
    "    reverse += char # add each character to the reversed string\n",
    "print(\"Reversed String:\", reverse)"
   ]
  },
  {
   "cell_type": "code",
   "execution_count": 13,
   "id": "af288c9e",
   "metadata": {},
   "outputs": [
    {
     "name": "stdout",
     "output_type": "stream",
     "text": [
      "Enter a number: 10\n",
      "The factorial of 10 is 3628800\n"
     ]
    }
   ],
   "source": [
    "# 4. Develop a program that finds the factorial of a given number using a `for` loop.\n",
    "num = int(input(\"Enter a number: \"))\n",
    "factorial = 1 # initialize the factorial as 1\n",
    "if num < 0:\n",
    "    print(\"-ve nos dont't have factorial.\")\n",
    "elif num == 0:\n",
    "    print(\"The factorial of 0 is 1.\")\n",
    "else:\n",
    "    # calculating the facotorial using a loop\n",
    "    for i in range(1, num + 1):\n",
    "        factorial *= i\n",
    "    print(f\"The factorial of {num} is {factorial}\")"
   ]
  },
  {
   "cell_type": "code",
   "execution_count": 14,
   "id": "9c50f3eb",
   "metadata": {},
   "outputs": [
    {
     "name": "stdout",
     "output_type": "stream",
     "text": [
      "Enter a number: 5\n",
      "Table for 5:\n",
      "5*1=5\n",
      "5*2=10\n",
      "5*3=15\n",
      "5*4=20\n",
      "5*5=25\n",
      "5*6=30\n",
      "5*7=35\n",
      "5*8=40\n",
      "5*9=45\n",
      "5*10=50\n"
     ]
    }
   ],
   "source": [
    "# 5. Create a program to print the multiplication table of a given number using a `for` loop.\n",
    "num = int(input(\"Enter a number: \"))\n",
    "print(f\"Table for {num}:\")\n",
    "for i in range(1,11): # it will start from 1 and will end to 10\n",
    "    product = num * i\n",
    "    print(f\"{num}*{i}={product}\")"
   ]
  },
  {
   "cell_type": "code",
   "execution_count": 16,
   "id": "1b56c647",
   "metadata": {},
   "outputs": [
    {
     "name": "stdout",
     "output_type": "stream",
     "text": [
      "Number of even numbers: 5\n",
      "Number of odd numbers: 5\n"
     ]
    }
   ],
   "source": [
    "# 6. Write a program that counts the number of even and odd numbers in a list using a `for` loop.\n",
    "numbers = [1,2,3,4,5,6,7,8,9,10]\n",
    "# initialize counters for even and odd numbers\n",
    "even_counter = 0\n",
    "odd_counter = 0\n",
    "\n",
    "# iterate through the list using a for loop\n",
    "for num in numbers:\n",
    "    if num % 2 == 0:\n",
    "        even_counter += 1\n",
    "    else:\n",
    "        odd_counter += 1\n",
    "\n",
    "#print the counts\n",
    "print(\"Number of even numbers:\", even_counter)\n",
    "print(\"Number of odd numbers:\", odd_counter)"
   ]
  },
  {
   "cell_type": "code",
   "execution_count": 17,
   "id": "8f746da4",
   "metadata": {},
   "outputs": [
    {
     "name": "stdout",
     "output_type": "stream",
     "text": [
      "The square of 1 is 1\n",
      "The square of 2 is 4\n",
      "The square of 3 is 9\n",
      "The square of 4 is 16\n",
      "The square of 5 is 25\n"
     ]
    }
   ],
   "source": [
    "# 7. Develop a program that prints the squares of numbers from 1 to 5 using a `for` loop.\n",
    "for num in range(1,6):\n",
    "    square = num ** 2\n",
    "    print(f\"The square of {num} is {square}\")"
   ]
  },
  {
   "cell_type": "code",
   "execution_count": 18,
   "id": "b61fe352",
   "metadata": {},
   "outputs": [
    {
     "name": "stdout",
     "output_type": "stream",
     "text": [
      "Enter a string: were are we \n",
      "Length of the string. 12\n"
     ]
    }
   ],
   "source": [
    "# 8. Create a program to find the length of a string without using the `len()` function.\n",
    "string = input(\"Enter a string: \")\n",
    "\n",
    "# intialize a counter\n",
    "count = 0\n",
    "# iterate through the string using a for loop\n",
    "for char in string:\n",
    "    count += 1\n",
    "print(f\"Length of the string.\", count)"
   ]
  },
  {
   "cell_type": "code",
   "execution_count": 20,
   "id": "0ce0e551",
   "metadata": {},
   "outputs": [
    {
     "name": "stdout",
     "output_type": "stream",
     "text": [
      "The average is: 20.0\n"
     ]
    }
   ],
   "source": [
    "# 9. Write a program that calculates the average of a list of numbers using a `for` loop.\n",
    "list = [10,15,20,25,30]\n",
    "# without loop ##\n",
    "# average = sum(list) / len(list) \n",
    "#print(\"Average of List:\", average)\n",
    "\n",
    "# with loop\n",
    "# initialize variables for sum and count\n",
    "total = 0\n",
    "count = 0\n",
    "\n",
    "# iterate through the list using a for loop\n",
    "for num in list:\n",
    "    total += num # add the number to the total sum\n",
    "    count += 1 # this will increment the count of numbers\n",
    "    \n",
    "# calculating average\n",
    "if count > 0:\n",
    "    average = total / count\n",
    "else:\n",
    "    average = 0 \n",
    "\n",
    "print(\"The average is:\", average)\n",
    "\n"
   ]
  },
  {
   "cell_type": "code",
   "execution_count": 22,
   "id": "aa699126",
   "metadata": {},
   "outputs": [
    {
     "name": "stdout",
     "output_type": "stream",
     "text": [
      "Enter the number of Fibonacci numbers to generate: 10\n",
      "Fibonacci sequence for the first 10 numbers:\n",
      "0 1 1 2 3 5 8 13 21 34 "
     ]
    }
   ],
   "source": [
    "# 10. Develop a program that prints the first `n` Fibonacci numbers using a `for` loop\n",
    "n = int(input(\"Enter the number of Fibonacci numbers to generate: \"))\n",
    "fibonacci =[0, 1]\n",
    "# Generate and print the first n Fibonacci numbers using a for loop\n",
    "for i in range(2, n):\n",
    "    next_fibonacci = fibonacci[i -1] + fibonacci[i -2]\n",
    "    fibonacci.append(next_fibonacci)\n",
    "\n",
    "# print the generated Fibonacci sequence\n",
    "print(\"Fibonacci sequence for the first\", n, \"numbers:\")\n",
    "for num in fibonacci:\n",
    "    print(num, end=\" \")"
   ]
  },
  {
   "cell_type": "markdown",
   "id": "674e808e",
   "metadata": {},
   "source": [
    "# Intermediate Level:"
   ]
  },
  {
   "cell_type": "code",
   "execution_count": 23,
   "id": "f32051cf",
   "metadata": {},
   "outputs": [
    {
     "name": "stdout",
     "output_type": "stream",
     "text": [
      "The list contains duplicates.\n"
     ]
    }
   ],
   "source": [
    "# 11. Write a program to check if a given list contains any duplicates using a `for` loop.\n",
    "elements = [1,2,3,4,5,6,1,2]\n",
    "\n",
    "# store unique value\n",
    "seen = set()\n",
    "\n",
    "# find duplicates\n",
    "duplicates = False\n",
    "for item in elements:\n",
    "    if item in seen:\n",
    "        duplicates = True\n",
    "        break\n",
    "    seen.add(item)\n",
    "    \n",
    "# check duplicates \n",
    "if duplicates:\n",
    "    print(\"The list contains duplicates.\")\n",
    "else:\n",
    "    print(\"The list does not contain duplicates.\")"
   ]
  },
  {
   "cell_type": "code",
   "execution_count": 24,
   "id": "0453493f",
   "metadata": {},
   "outputs": [
    {
     "name": "stdout",
     "output_type": "stream",
     "text": [
      "Enter the starting number: 34\n",
      "Enter the ending number: 100\n",
      "Prime numbers in the range 34 to 100 are:\n",
      "37\n",
      "41\n",
      "43\n",
      "47\n",
      "53\n",
      "59\n",
      "61\n",
      "67\n",
      "71\n",
      "73\n",
      "79\n",
      "83\n",
      "89\n",
      "97\n"
     ]
    }
   ],
   "source": [
    "# 12. Create a program that prints the prime numbers in a given range using a `for` loop.\n",
    "start = int(input(\"Enter the starting number: \"))\n",
    "end = int(input(\"Enter the ending number: \"))\n",
    "print(\"Prime numbers in the range\", start, \"to\", end, \"are:\")\n",
    "for num in range(start, end + 1):\n",
    "    if num >1:\n",
    "        is_prime = True\n",
    "        # check for factors\n",
    "        for i in range(2, int(num ** 0.5)+ 1):\n",
    "            if num % i == 0:\n",
    "                is_prime = False\n",
    "                break\n",
    "        # if no factors found, it is prime\n",
    "        if is_prime:\n",
    "            print(num)"
   ]
  },
  {
   "cell_type": "code",
   "execution_count": 25,
   "id": "3180e38c",
   "metadata": {},
   "outputs": [
    {
     "name": "stdout",
     "output_type": "stream",
     "text": [
      "Enter a string: when will you come to my house\n",
      "Number of vowels in the string: 10\n"
     ]
    }
   ],
   "source": [
    "# 13. Develop a program that counts the number of vowels in a string using a `for` loop.\n",
    "string = input(\"Enter a string: \")\n",
    "\n",
    "# initialize a varaible to store the counts of vowels\n",
    "vowel_count =0\n",
    "\n",
    "vowels = set(\"aeiowAEIOU\")\n",
    "\n",
    "for char in string:\n",
    "    if char in vowels:\n",
    "        vowel_count += 1\n",
    "        \n",
    "print(\"Number of vowels in the string:\", vowel_count)"
   ]
  },
  {
   "cell_type": "code",
   "execution_count": 27,
   "id": "64dbdb5b",
   "metadata": {},
   "outputs": [
    {
     "name": "stdout",
     "output_type": "stream",
     "text": [
      "The max element in the 2D list is:  9\n"
     ]
    }
   ],
   "source": [
    "# 14. Write a program to find the maximum element in a 2D list using a nested `for` loop.\n",
    "matrix = [[1,2,3],\n",
    "          [4,5,6],\n",
    "          [7,8,9]]\n",
    "# initialize a variable to store the maximum element\n",
    "max_element = matrix[0][0]\n",
    "\n",
    "# nested for loop \n",
    "for row in matrix:\n",
    "    for element in row:\n",
    "        if element > max_element:\n",
    "            max_element = element\n",
    "print(\"The max element in the 2D list is: \", max_element)"
   ]
  },
  {
   "cell_type": "code",
   "execution_count": 28,
   "id": "68171b61",
   "metadata": {},
   "outputs": [
    {
     "name": "stdout",
     "output_type": "stream",
     "text": [
      "List after removing all occurrences of 2 , [1, 3, 4, 5, 6]\n"
     ]
    }
   ],
   "source": [
    "# 15. Create a program that removes all occurrences of a specific element from a list using a `for` loop.\n",
    "my_list = [1,2,3,4,2,5,2,6]\n",
    "\n",
    "# elements to be removed\n",
    "element_to_remove = 2\n",
    "\n",
    "# create a new list to stroe the elements that are not equal to the element to remvove.\n",
    "new_list = []\n",
    "\n",
    "# iterate through the original list\n",
    "for element in my_list:\n",
    "    if element != element_to_remove:\n",
    "        new_list.append(element)\n",
    "        \n",
    "# replace the original list with the new list \n",
    "\n",
    "my_list = new_list\n",
    "\n",
    "#print the modified list\n",
    "print(\"List after removing all occurrences of\", element_to_remove, \",\", my_list)"
   ]
  },
  {
   "cell_type": "code",
   "execution_count": 29,
   "id": "ef7dd1bc",
   "metadata": {},
   "outputs": [
    {
     "name": "stdout",
     "output_type": "stream",
     "text": [
      "Multiplication table for 1:\n",
      "1*1 = 1\n",
      "1*2 = 2\n",
      "1*3 = 3\n",
      "1*4 = 4\n",
      "1*5 = 5\n",
      "1*6 = 6\n",
      "1*7 = 7\n",
      "1*8 = 8\n",
      "1*9 = 9\n",
      "1*10 = 10\n",
      "\n",
      "Multiplication table for 2:\n",
      "2*1 = 2\n",
      "2*2 = 4\n",
      "2*3 = 6\n",
      "2*4 = 8\n",
      "2*5 = 10\n",
      "2*6 = 12\n",
      "2*7 = 14\n",
      "2*8 = 16\n",
      "2*9 = 18\n",
      "2*10 = 20\n",
      "\n",
      "Multiplication table for 3:\n",
      "3*1 = 3\n",
      "3*2 = 6\n",
      "3*3 = 9\n",
      "3*4 = 12\n",
      "3*5 = 15\n",
      "3*6 = 18\n",
      "3*7 = 21\n",
      "3*8 = 24\n",
      "3*9 = 27\n",
      "3*10 = 30\n",
      "\n",
      "Multiplication table for 4:\n",
      "4*1 = 4\n",
      "4*2 = 8\n",
      "4*3 = 12\n",
      "4*4 = 16\n",
      "4*5 = 20\n",
      "4*6 = 24\n",
      "4*7 = 28\n",
      "4*8 = 32\n",
      "4*9 = 36\n",
      "4*10 = 40\n",
      "\n",
      "Multiplication table for 5:\n",
      "5*1 = 5\n",
      "5*2 = 10\n",
      "5*3 = 15\n",
      "5*4 = 20\n",
      "5*5 = 25\n",
      "5*6 = 30\n",
      "5*7 = 35\n",
      "5*8 = 40\n",
      "5*9 = 45\n",
      "5*10 = 50\n",
      "\n"
     ]
    }
   ],
   "source": [
    "# 16. Develop a program that generates a multiplication table for numbers from 1 to 5 using a nested `for` loop.\n",
    "start = 1\n",
    "end = 5\n",
    "for i in range(start, end + 1):\n",
    "    print(f\"Multiplication table for {i}:\")\n",
    "    \n",
    "    # Nested loop to generate the multiplication table\n",
    "    for j in range(1,11):\n",
    "        product = i*j\n",
    "        print(f\"{i}*{j} = {product}\")\n",
    "    # add a newline for sepration between tables  \n",
    "    print()"
   ]
  },
  {
   "cell_type": "code",
   "execution_count": 3,
   "id": "8780a3dd",
   "metadata": {},
   "outputs": [
    {
     "ename": "SyntaxError",
     "evalue": "f-string: invalid syntax. Perhaps you forgot a comma? (691895999.py, line 15)",
     "output_type": "error",
     "traceback": [
      "\u001b[1;36m  Cell \u001b[1;32mIn[3], line 15\u001b[1;36m\u001b[0m\n\u001b[1;33m    print(f\"{f_t[i]F} is {c_t[i]:.2f}C\")\u001b[0m\n\u001b[1;37m    ^\u001b[0m\n\u001b[1;31mSyntaxError\u001b[0m\u001b[1;31m:\u001b[0m f-string: invalid syntax. Perhaps you forgot a comma?\n"
     ]
    }
   ],
   "source": [
    "# 17. Write a program that converts a list of Fahrenheit temperatures to Celsius using a `for` loop.\n",
    "def f_to_c(fahrenheit):\n",
    "    celsius = (fahrenheit -32)*5/9\n",
    "    return celsius\n",
    "\n",
    "f_t = [32,68,100,212]\n",
    "\n",
    "c_t = []\n",
    "\n",
    "for fahrenheit in f_t:\n",
    "    celsius = f_to_c(fahrenheit)\n",
    "    c_t.append(celsius)\n",
    "    \n",
    "for i in range(len(f_t)):\n",
    "    print(f\"{f_t[i]F} is {c_t[i]:.2f}C\")"
   ]
  },
  {
   "cell_type": "code",
   "execution_count": 4,
   "id": "56860c6f",
   "metadata": {},
   "outputs": [
    {
     "name": "stdout",
     "output_type": "stream",
     "text": [
      "32°F is 0.00°C\n",
      "68°F is 20.00°C\n",
      "100°F is 37.78°C\n",
      "212°F is 100.00°C\n"
     ]
    }
   ],
   "source": [
    "# 17. Write a program that converts a list of Fahrenheit temperatures to Celsius using a `for` loop.\n",
    "# Function to convert Fahrenheit to Celsius\n",
    "def fahrenheit_to_celsius(fahrenheit):\n",
    "    celsius = (fahrenheit - 32) * 5/9\n",
    "    return celsius\n",
    "\n",
    "# List of Fahrenheit temperatures\n",
    "fahrenheit_temperatures = [32, 68, 100, 212]\n",
    "\n",
    "# Create an empty list to store the converted Celsius temperatures\n",
    "celsius_temperatures = []\n",
    "\n",
    "# Convert each Fahrenheit temperature to Celsius using a for loop\n",
    "for fahrenheit in fahrenheit_temperatures:\n",
    "    celsius = fahrenheit_to_celsius(fahrenheit)\n",
    "    celsius_temperatures.append(celsius)\n",
    "\n",
    "# Print the converted Celsius temperatures\n",
    "for i in range(len(fahrenheit_temperatures)):\n",
    "    print(f\"{fahrenheit_temperatures[i]}°F is {celsius_temperatures[i]:.2f}°C\")\n"
   ]
  },
  {
   "cell_type": "code",
   "execution_count": 5,
   "id": "8a437c8e",
   "metadata": {},
   "outputs": [
    {
     "name": "stdout",
     "output_type": "stream",
     "text": [
      "common elements: [3, 4, 5]\n"
     ]
    }
   ],
   "source": [
    "# 18. Create a program to print the common elements from two lists using a `for` loop.\n",
    "list1 = [1,2,3,4,5]\n",
    "list2 = [3,4,5,6,7]\n",
    "\n",
    "common_elements = []\n",
    "for item1 in list1:\n",
    "    for item2 in list2:\n",
    "        if item1 ==item2:\n",
    "            common_elements.append(item1)\n",
    "            \n",
    "print(\"common elements:\", common_elements)"
   ]
  },
  {
   "cell_type": "code",
   "execution_count": 9,
   "id": "5e77f7c2",
   "metadata": {},
   "outputs": [
    {
     "name": "stdout",
     "output_type": "stream",
     "text": [
      "* \n",
      "* * \n",
      "* * * \n",
      "* * * * \n",
      "* * * * * \n"
     ]
    }
   ],
   "source": [
    "# 19. Develop a program that prints the pattern of right-angled triangles using a `for` loop. Use ‘*’ to draw the pattern.\n",
    "for i in range(5):\n",
    "    for j in range(i+1):\n",
    "        print(\"*\",end=' ')\n",
    "    print()\n",
    "        "
   ]
  },
  {
   "cell_type": "code",
   "execution_count": 10,
   "id": "e1d85929",
   "metadata": {},
   "outputs": [
    {
     "name": "stdout",
     "output_type": "stream",
     "text": [
      "Enter the first number: 45\n",
      "Enter the second number:67\n",
      "The GCD of 45 and 67 is 1\n"
     ]
    }
   ],
   "source": [
    "# 20. Write a program to find the greatest common divisor (GCD) of two numbers using a `for` loop.\n",
    "def find_gcd(a,b):\n",
    "    while b:\n",
    "        a,b = b, a % b\n",
    "    return a\n",
    "\n",
    "num1 = int(input(\"Enter the first number: \"))\n",
    "num2 = int(input(\"Enter the second number:\"))\n",
    "\n",
    "gcd = find_gcd(num1, num2)\n",
    "print(f\"The GCD of {num1} and {num2} is {gcd}\")\n"
   ]
  },
  {
   "cell_type": "markdown",
   "id": "49866a4f",
   "metadata": {},
   "source": [
    "# Advanced Level"
   ]
  },
  {
   "cell_type": "code",
   "execution_count": 11,
   "id": "15e84d83",
   "metadata": {},
   "outputs": [
    {
     "name": "stdout",
     "output_type": "stream",
     "text": [
      "Sum of digits in 123 is 6\n",
      "Sum of digits in 45 is 9\n",
      "Sum of digits in 6789 is 30\n",
      "Sum of digits in 0 is 0\n",
      "Sum of digits in 9876 is 30\n"
     ]
    }
   ],
   "source": [
    "# 21. Create a program that calculates the sum of the digits of numbers in a list using a list comprehension.\n",
    "def sum_of_didgits(number):\n",
    "    return sum(int(digit) for digit in str(number) if digit.isdigit())\n",
    "\n",
    "numbers = [123,45,6789,0,9876]\n",
    "\n",
    "sums = [sum_of_didgits(num) for num in numbers]\n",
    "\n",
    "for i, num in enumerate(numbers):\n",
    "    print(f\"Sum of digits in {num} is {sums[i]}\")"
   ]
  },
  {
   "cell_type": "code",
   "execution_count": 25,
   "id": "e150d3b7",
   "metadata": {},
   "outputs": [
    {
     "name": "stdout",
     "output_type": "stream",
     "text": [
      "Enter a number: 6\n",
      "The prime factors of 6 are: [2, 3]\n"
     ]
    }
   ],
   "source": [
    "# 22. Write a program to find the prime factors of a given number using a `for` loop and list comprehension.\n",
    "# Function to find prime factors of a number\n",
    "def prime_factors(n):\n",
    "    factors = []\n",
    "    \n",
    "    # Divide n by 2 until it's even\n",
    "    while n % 2 == 0:\n",
    "        factors.append(2)\n",
    "        n //= 2\n",
    "    \n",
    "    # Check for odd factors starting from 3\n",
    "    for i in range(3, int(n**0.5) + 1, 2):\n",
    "        while n % i == 0:\n",
    "            factors.append(i)\n",
    "            n //= i\n",
    "    \n",
    "    # If n is still greater than 1, it's a prime factor itself\n",
    "    if n > 1:\n",
    "        factors.append(n)\n",
    "    \n",
    "    return factors\n",
    "\n",
    "# Input a number\n",
    "num = int(input(\"Enter a number: \"))\n",
    "\n",
    "# Calculate and print the prime factors using list comprehension\n",
    "factors = prime_factors(num)\n",
    "print(f\"The prime factors of {num} are: {factors}\")\n"
   ]
  },
  {
   "cell_type": "code",
   "execution_count": 15,
   "id": "39b27961",
   "metadata": {},
   "outputs": [
    {
     "name": "stdout",
     "output_type": "stream",
     "text": [
      "Original List: [1, 2, 3, 4, 5, 5, 5, 6, 6, 7, 8]\n",
      "Unique List: [1, 2, 3, 4, 5, 6, 7, 8]\n"
     ]
    }
   ],
   "source": [
    "# 23. Develop a program that extracts unique elements from a list and stores them in a new list using a list comprehension\n",
    "original_list = [1,2,3,4,5,5,5,6,6,7,8]\n",
    "uniaue_list = [x for i, x in enumerate(original_list) if x not in original_list[:i]]\n",
    "\n",
    "print(\"Original List:\", original_list)\n",
    "print(\"Unique List:\", uniaue_list)"
   ]
  },
  {
   "cell_type": "code",
   "execution_count": 17,
   "id": "ea1b0fe9",
   "metadata": {},
   "outputs": [
    {
     "name": "stdout",
     "output_type": "stream",
     "text": [
      "Enter the upper limit: 6\n",
      "Pallindromic Numbers up to 6 are:\n",
      "[0, 1, 2, 3, 4, 5, 6]\n"
     ]
    }
   ],
   "source": [
    "# 24. Create a program that generates a list of all palindromic numbers up to a specified limit using a list comprehension.\n",
    "def is_pallindrome(number):\n",
    "    return str(number) == str(number)[::-1]\n",
    "\n",
    "limit = int(input(\"Enter the upper limit: \"))\n",
    "palindromic_numbers = [num for num in range(limit + 1) if is_pallindrome(num)]\n",
    "\n",
    "print(\"Pallindromic Numbers up to\", limit, \"are:\")\n",
    "print(palindromic_numbers)"
   ]
  },
  {
   "cell_type": "code",
   "execution_count": 18,
   "id": "7d9103a5",
   "metadata": {},
   "outputs": [
    {
     "name": "stdout",
     "output_type": "stream",
     "text": [
      "Nested List: [[1, 2, 3], [4, 5, 6], [7, 8]]\n",
      "Flattened List: [1, 2, 3, 4, 5, 6, 7, 8]\n"
     ]
    }
   ],
   "source": [
    "# 25. Write a program to flatten a nested list using list comprehension.\n",
    "def flatten_list(nested_list):\n",
    "    return [item for sublist in nested_list for item in sublist]\n",
    "\n",
    "# nested list\n",
    "nested_list = [[1,2,3],[4,5,6],[7,8]]\n",
    "\n",
    "#  flatten the nested list)\n",
    "flattend_list = flatten_list(nested_list)\n",
    "\n",
    "print(\"Nested List:\", nested_list)\n",
    "print(\"Flattened List:\", flattend_list)"
   ]
  },
  {
   "cell_type": "code",
   "execution_count": 19,
   "id": "a406f4f7",
   "metadata": {},
   "outputs": [
    {
     "name": "stdout",
     "output_type": "stream",
     "text": [
      "Original List: [1, 2, 3, 4, 5, 6, 7, 8, 9, 10]\n",
      "Sum of Even Numbers: 30\n",
      "Sum of Odd Numbers: 25\n"
     ]
    }
   ],
   "source": [
    "# 26. Develop a program that computes the sum of even and odd numbers in a list separately using list comprehension.\n",
    "numbers = [1,2,3,4,5,6,7,8,9,10]\n",
    "\n",
    "# calculate sum of even and odd numbers\n",
    "even_sum = sum([num for num in numbers if num % 2 == 0])\n",
    "odd_sum = sum([num for num in numbers if num % 2 != 0])\n",
    "\n",
    "print(\"Original List:\", numbers)\n",
    "print(\"Sum of Even Numbers:\", even_sum)\n",
    "print(\"Sum of Odd Numbers:\", odd_sum)"
   ]
  },
  {
   "cell_type": "code",
   "execution_count": 20,
   "id": "a1689aed",
   "metadata": {},
   "outputs": [
    {
     "name": "stdout",
     "output_type": "stream",
     "text": [
      "Squares of Odd Numbers Between 1 and 10:\n",
      "[1, 9, 25, 49, 81]\n"
     ]
    }
   ],
   "source": [
    "# 27. Create a program that generates a list of squares of odd numbers between 1 and 10 using list comprehension.\n",
    "odd_squares = [x**2 for x in range(1, 11) if x % 2 != 0]\n",
    "\n",
    "print(\"Squares of Odd Numbers Between 1 and 10:\")\n",
    "print(odd_squares)"
   ]
  },
  {
   "cell_type": "code",
   "execution_count": 22,
   "id": "a3f57de5",
   "metadata": {},
   "outputs": [
    {
     "name": "stdout",
     "output_type": "stream",
     "text": [
      "Combined Dictionary: {'a': 1, 'b': 2, 'c': 3}\n"
     ]
    }
   ],
   "source": [
    "# 28. Write a program that combines two lists into a dictionary using list comprehension.\n",
    "keys = ['a','b','c']\n",
    "values = [1,2,3]\n",
    "\n",
    "combined_dict ={keys[i]: values[i] for i in range(min(len(keys), len(values)))}\n",
    "print(\"Combined Dictionary:\", combined_dict)"
   ]
  },
  {
   "cell_type": "code",
   "execution_count": 23,
   "id": "c3dc8980",
   "metadata": {},
   "outputs": [
    {
     "name": "stdout",
     "output_type": "stream",
     "text": [
      "Enter a string: my name is lakhan\n",
      "Vowels in the string: ['a', 'e', 'i', 'a', 'a']\n"
     ]
    }
   ],
   "source": [
    "# 29. Develop a program that extracts the vowels from a string and stores them in a list using list comprehension.\n",
    "input_string = input(\"Enter a string: \")\n",
    "vowels = [char for char in input_string if char.lower() in \"aeiouAEIOU\"]\n",
    "print(\"Vowels in the string:\", vowels)"
   ]
  },
  {
   "cell_type": "code",
   "execution_count": 24,
   "id": "02ba6236",
   "metadata": {},
   "outputs": [
    {
     "name": "stdout",
     "output_type": "stream",
     "text": [
      "Original List: ['abc123', 'xyz456', '789def', '10ghi']\n",
      "Number Strings: ['123', '456', '789', '10']\n"
     ]
    }
   ],
   "source": [
    "# 30. Create a program that removes all non-numeric characters from a list of strings using list comprehension.\n",
    "strings = [\"abc123\",\"xyz456\",\"789def\",\"10ghi\"]\n",
    "\n",
    "numeric_strings = [''.join(char for char in string if char.isdigit()) for string in strings]\n",
    "print(\"Original List:\", strings)\n",
    "print(\"Number Strings:\", numeric_strings)"
   ]
  },
  {
   "cell_type": "markdown",
   "id": "11b4f9e7",
   "metadata": {},
   "source": [
    "# Challenge Level:"
   ]
  },
  {
   "cell_type": "code",
   "execution_count": 24,
   "id": "c5ddb15b",
   "metadata": {},
   "outputs": [
    {
     "name": "stdout",
     "output_type": "stream",
     "text": [
      "Prime numbers up to 100 :\n",
      "[2, 3, 5, 7, 11, 13, 17, 19, 23, 29, 31, 37, 41, 43, 47, 53, 59, 61, 67, 71, 73, 79, 83, 89, 97]\n"
     ]
    }
   ],
   "source": [
    "# 31. Write a program to generate a list of prime numbers using the Sieve of Eratosthenes algorithm and list comprehension.\n",
    "def sieve_eratosthenes(n):\n",
    "    sieve = [True] * (n + 1)\n",
    "    sieve[0] = sieve[1] = False\n",
    "    for p in range(2, int(n**0.5) + 1):\n",
    "        if sieve[p]:\n",
    "            for i in range(p * p, n + 1, p):\n",
    "                sieve[i] = False\n",
    "    return [p for p, is_prime in enumerate(sieve) if is_prime]\n",
    "\n",
    "# Specify the upper limit to find prime numbers up to\n",
    "upper_limit = 100\n",
    "\n",
    "# Generate a list of prime numbers up to the specified limit\n",
    "prime_numbers = sieve_eratosthenes(upper_limit)\n",
    "\n",
    "# Print the list of prime numbers\n",
    "print(\"Prime numbers up to\", upper_limit, \":\")\n",
    "print(prime_numbers)\n"
   ]
  },
  {
   "cell_type": "code",
   "execution_count": 28,
   "id": "3b41af66",
   "metadata": {},
   "outputs": [
    {
     "name": "stdout",
     "output_type": "stream",
     "text": [
      "Enter the limit to find Pythagorean triplets up to: 5\n",
      "Pythagorean Triplets up to 5 are:\n",
      "(3, 4, 5)\n"
     ]
    }
   ],
   "source": [
    "#32 Function to find Pythagorean triplets up to a specified limit\n",
    "def pythagorean_triplets(limit):\n",
    "    triplets = [(a, b, c) for a in range(1, limit + 1)\n",
    "                          for b in range(a, limit + 1)\n",
    "                          for c in range(b, limit + 1)\n",
    "                          if a**2 + b**2 == c**2]\n",
    "    return triplets\n",
    "\n",
    "# Input a limit\n",
    "limit = int(input(\"Enter the limit to find Pythagorean triplets up to: \"))\n",
    "\n",
    "# Generate a list of Pythagorean triplets up to the specified limit\n",
    "triplets = pythagorean_triplets(limit)\n",
    "\n",
    "# Print the list of Pythagorean triplets\n",
    "print(\"Pythagorean Triplets up to\", limit, \"are:\")\n",
    "for triplet in triplets:\n",
    "    print(triplet)\n"
   ]
  },
  {
   "cell_type": "code",
   "execution_count": 1,
   "id": "51bccaf7",
   "metadata": {},
   "outputs": [
    {
     "name": "stdout",
     "output_type": "stream",
     "text": [
      "[(1, 'a'), (1, 'b'), (1, 'c'), (2, 'a'), (2, 'b'), (2, 'c'), (3, 'a'), (3, 'b'), (3, 'c')]\n"
     ]
    }
   ],
   "source": [
    "# 33. Develop a program that generates a list of all possible combinations of two lists using list comprehension.\n",
    "import itertools\n",
    "\n",
    "\n",
    "list1 = [1,2,3]\n",
    "list2 = ['a','b','c']\n",
    "\n",
    "combinations = [(x, y) for x, y in itertools.product(list1, list2)]\n",
    "print(combinations)"
   ]
  },
  {
   "cell_type": "code",
   "execution_count": 3,
   "id": "07b24dc5",
   "metadata": {},
   "outputs": [
    {
     "name": "stdout",
     "output_type": "stream",
     "text": [
      "Mean: 4.7\n",
      "Median: 5.0\n",
      "Mode: 5\n"
     ]
    }
   ],
   "source": [
    "# 34. Write a program that calculates the mean, median, and mode of a list of numbers using list comprehension.\n",
    "from statistics import mean, median, mode\n",
    "\n",
    "numbers = [1,2,3,4,5,5,6,6,7,8]\n",
    "\n",
    "mean_result = mean(numbers)\n",
    "median_result = median(numbers)\n",
    "mode_result = mode(numbers)\n",
    "\n",
    "print(f\"Mean: {mean_result}\")\n",
    "print(f\"Median: {median_result}\")\n",
    "print(f\"Mode: {mode_result}\")"
   ]
  },
  {
   "cell_type": "code",
   "execution_count": 13,
   "id": "9ad9b1f1",
   "metadata": {},
   "outputs": [
    {
     "name": "stdout",
     "output_type": "stream",
     "text": [
      "       1       \n",
      "      1 1      \n",
      "     1 2 1     \n",
      "    1 3 3 1    \n",
      "   1 4 6 4 1   \n"
     ]
    }
   ],
   "source": [
    "# 35. Create a program that generates Pascal's triangle up to a specified number of rows using list comprehension.\n",
    "\n",
    "def generate_pascals_triangle(rows):\n",
    "    triangle = [[1] * (i + 1) for i in range(rows)]\n",
    "\n",
    "    for i in range(2, rows):\n",
    "        for j in range(1, i):\n",
    "            triangle[i][j] = triangle[i - 1][j - 1] + triangle[i - 1][j]\n",
    "\n",
    "    return triangle\n",
    "\n",
    "def print_pascals_triangle(triangle):\n",
    "    for row in triangle:\n",
    "        print(\" \".join(map(str, row)).center(len(triangle[-1]) * 3))\n",
    "\n",
    "# Specify the number of rows for Pascal's triangle\n",
    "    # specify the numbers\n",
    "num_rows = 5  # Change this to the desired number of rows\n",
    "\n",
    "pascals_triangle = generate_pascals_triangle(num_rows)\n",
    "print_pascals_triangle(pascals_triangle)\n"
   ]
  },
  {
   "cell_type": "code",
   "execution_count": 15,
   "id": "22e6a57b",
   "metadata": {},
   "outputs": [
    {
     "name": "stdout",
     "output_type": "stream",
     "text": [
      "Factorial of 1: 1, Sum of digits: 1\n",
      "Factorial of 2: 2, Sum of digits: 2\n",
      "Factorial of 3: 6, Sum of digits: 6\n",
      "Factorial of 4: 24, Sum of digits: 6\n",
      "Factorial of 5: 120, Sum of digits: 3\n"
     ]
    }
   ],
   "source": [
    "# 36. Develop a program that calculates the sum of the digits of a factorial of numbers from 1 to 5 using list comprehension.\n",
    "def factorial(n):\n",
    "    if n == 0:\n",
    "        return 1\n",
    "    else:\n",
    "        return n * factorial(n - 1)\n",
    "\n",
    "# use list comprehension to calculate factorial for numbers from 1 to 5:\n",
    "factorials = [factorial(n) for n in range(1,6)]\n",
    "\n",
    "# function to calculate the sum of the digits in a number\n",
    "def sum_of_digits(number):\n",
    "    return sum(int(digit) for digit in str(number))\n",
    "\n",
    "sum_of_digits = [sum_of_digits(factorial) for factorial in factorials]\n",
    "\n",
    "# print the results\n",
    "\n",
    "for n, factorial, digit_sum in zip(range(1,6), factorials, sum_of_digits):\n",
    "    print(f\"Factorial of {n}: {factorial}, Sum of digits: {digit_sum}\")"
   ]
  },
  {
   "cell_type": "code",
   "execution_count": 16,
   "id": "ef30fbea",
   "metadata": {},
   "outputs": [
    {
     "name": "stdout",
     "output_type": "stream",
     "text": [
      "The longest word in the sentence is: learning\n"
     ]
    }
   ],
   "source": [
    "# 37. Write a program that finds the longest word in a sentence using list comprehension.\n",
    "sentence = \"This is the book i was learning from.\"\n",
    "words = sentence.split()\n",
    "longest_word = max(words, key=lambda word: len(word))\n",
    "\n",
    "print(f\"The longest word in the sentence is: {longest_word}\")"
   ]
  },
  {
   "cell_type": "code",
   "execution_count": 17,
   "id": "3ca121c6",
   "metadata": {},
   "outputs": [
    {
     "name": "stdout",
     "output_type": "stream",
     "text": [
      "Strings with more than three vowels:\n",
      "aeiou\n"
     ]
    }
   ],
   "source": [
    "# 38. Create a program that filters a list of strings to include only those with more than three vowels using list comprehension.\n",
    "def count_vowels(string):\n",
    "    vowels = \"AEIOUaeiou\"\n",
    "    return sum(1 for char in string if char in vowels)\n",
    "\n",
    "#list of strings\n",
    "strings = [\"hello\", \"world\", \"python\", \"programming\", \"vowels\", \"aeiou\"]\n",
    "filtered_strings = [string for string in strings if count_vowels(string) > 3]\n",
    "print(\"Strings with more than three vowels:\")\n",
    "for string in filtered_strings:\n",
    "    print(string)\n"
   ]
  },
  {
   "cell_type": "code",
   "execution_count": 20,
   "id": "a6d65c8f",
   "metadata": {},
   "outputs": [
    {
     "name": "stdout",
     "output_type": "stream",
     "text": [
      "The sum of the digits of numbers frrom 1 to 1000 is: 13501\n"
     ]
    }
   ],
   "source": [
    "# 39. Develop a program that calculates the sum of the digits of numbers from 1 to 1000 using list comprehension.\n",
    "def sum_of_digits(number):\n",
    "    return sum(int(digit) for digit in str(number))\n",
    "digit_sums = [sum_of_digits(number) for number in range(1, 1001)]\n",
    "\n",
    "total_digit_sum = sum(digit_sums)\n",
    "print(f\"The sum of the digits of numbers frrom 1 to 1000 is: {total_digit_sum}\")\n",
    "\n"
   ]
  },
  {
   "cell_type": "code",
   "execution_count": 23,
   "id": "cf3b237a",
   "metadata": {},
   "outputs": [
    {
     "name": "stdout",
     "output_type": "stream",
     "text": [
      "Prime palindromic numbers:\n",
      "[2, 3, 5, 7, 11, 101, 131, 151, 181, 191, 313, 353, 373, 383, 727, 757, 787, 797, 919, 929]\n"
     ]
    }
   ],
   "source": [
    "# 40. Write a program that generates a list of prime palindromic numbers using list comprehension.\n",
    "def is_prime(n):\n",
    "    if n <= 1:\n",
    "        return False\n",
    "    if n <= 3:\n",
    "        return True\n",
    "    if n % 2 == 0 or n % 3 == 0:\n",
    "        return False\n",
    "    i = 5\n",
    "    while i * i <= n:\n",
    "        if n % i == 0 or  n % (i + 2) == 0:\n",
    "            return False\n",
    "        i += 6\n",
    "    return True\n",
    "\n",
    "# generate a list of prime palindromic numbers using list comprehension\n",
    "prime_palindromes = [n for n in range(2, 1000) if is_prime(n) and str(n) == str(n)[::-1]]\n",
    "print(\"Prime palindromic numbers:\")\n",
    "print(prime_palindromes)\n"
   ]
  },
  {
   "cell_type": "code",
   "execution_count": null,
   "id": "0ce98cee",
   "metadata": {},
   "outputs": [],
   "source": []
  }
 ],
 "metadata": {
  "kernelspec": {
   "display_name": "Python 3 (ipykernel)",
   "language": "python",
   "name": "python3"
  },
  "language_info": {
   "codemirror_mode": {
    "name": "ipython",
    "version": 3
   },
   "file_extension": ".py",
   "mimetype": "text/x-python",
   "name": "python",
   "nbconvert_exporter": "python",
   "pygments_lexer": "ipython3",
   "version": "3.10.9"
  }
 },
 "nbformat": 4,
 "nbformat_minor": 5
}
