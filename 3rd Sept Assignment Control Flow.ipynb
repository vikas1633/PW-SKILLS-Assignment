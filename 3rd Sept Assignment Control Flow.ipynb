{
 "cells": [
  {
   "cell_type": "markdown",
   "id": "9f5366ff",
   "metadata": {},
   "source": [
    "# Basic If-Else Statements:"
   ]
  },
  {
   "cell_type": "code",
   "execution_count": 2,
   "id": "fbe65a9b",
   "metadata": {},
   "outputs": [
    {
     "name": "stdout",
     "output_type": "stream",
     "text": [
      "Enter a number: -6\n",
      "The number is negative.\n"
     ]
    }
   ],
   "source": [
    "# 1. Write a Python program to check if a given number is positive or negative.\n",
    "number =float(input(\"Enter a number: \"))\n",
    "if number > 0:\n",
    "    print(\"The number is positive.\")\n",
    "elif number < 0:\n",
    "    print(\"The number is negative.\")\n",
    "else:\n",
    "    print(\"The number is zero.\")\n"
   ]
  },
  {
   "cell_type": "code",
   "execution_count": 1,
   "id": "6f8d7317",
   "metadata": {},
   "outputs": [
    {
     "name": "stdout",
     "output_type": "stream",
     "text": [
      "Enter your age: 56\n",
      "You are eligible to vote!\n"
     ]
    }
   ],
   "source": [
    "# 2. Create a program that determines if a person is eligible to vote based on their age.\n",
    "age = int(input(\"Enter your age: \"))\n",
    "if age >= 18:\n",
    "    print(\"You are eligible to vote!\")\n",
    "else:\n",
    "    print(\"You are not eligible to vote!\")"
   ]
  },
  {
   "cell_type": "code",
   "execution_count": 5,
   "id": "77aa49d0",
   "metadata": {},
   "outputs": [
    {
     "name": "stdout",
     "output_type": "stream",
     "text": [
      "Enter the first number: 45\n",
      "Enter the second number: 76\n",
      "The maximum number is: 76.0\n"
     ]
    }
   ],
   "source": [
    "# 3. Develop a program to find the maximum of two numbers using if-else statements.\n",
    "num1 = float(input(\"Enter the first number: \"))\n",
    "num2 = float(input(\"Enter the second number: \"))\n",
    "\n",
    "if num1  > num2:\n",
    "    max_num = num1\n",
    "else:\n",
    "    max_num = num2\n",
    "print(\"The maximum number is:\", max_num)"
   ]
  },
  {
   "cell_type": "code",
   "execution_count": 6,
   "id": "00d651db",
   "metadata": {},
   "outputs": [
    {
     "name": "stdout",
     "output_type": "stream",
     "text": [
      "Enter a year: 1973\n",
      "1973  is not a leap year.\n"
     ]
    }
   ],
   "source": [
    "# 4. Write a Python script to classify a given year as a leap year or not.\n",
    "year = int(input(\"Enter a year: \"))\n",
    "\n",
    "# to check if it's a leap year \n",
    "if (year % 4 == 0 and year % 100 != 0) or (year % 400 == 0):\n",
    "    print(year, \"is a leap year.\")\n",
    "else:\n",
    "    print(year, \" is not a leap year.\")"
   ]
  },
  {
   "cell_type": "code",
   "execution_count": 9,
   "id": "e6f74fe1",
   "metadata": {},
   "outputs": [
    {
     "name": "stdout",
     "output_type": "stream",
     "text": [
      "Enter a character: I\n",
      "i is a vowel.\n"
     ]
    }
   ],
   "source": [
    "# 5. Create a program that checks whether a character is a vowel or a consonant.\n",
    "char = input(\"Enter a character: \")\n",
    "\n",
    "# check if the input is a single character\n",
    "if len(char) == 1:\n",
    "    # convert the character to lowercase for case insensitivity\n",
    "    char = char.lower()\n",
    "    \n",
    "    # check if the character is vowel\n",
    "    if char in 'aeiou':\n",
    "        print(char, \"is a vowel.\")\n",
    "    else:\n",
    "        print(char, \"is a consonant.\")\n",
    "else:\n",
    "    print(\"Please enter a single character.\")\n",
    "    "
   ]
  },
  {
   "cell_type": "code",
   "execution_count": 10,
   "id": "6e4ebc5a",
   "metadata": {},
   "outputs": [
    {
     "name": "stdout",
     "output_type": "stream",
     "text": [
      " Enter a number: 5\n",
      "5 is odd.\n"
     ]
    }
   ],
   "source": [
    "# 6. Implement a program to determine whether a given number is even or odd.\n",
    "number = int(input(\" Enter a number: \"))\n",
    "if number % 2 ==0:\n",
    "    print(number, \"is even.\")\n",
    "else:\n",
    "    print(number, \"is odd.\")"
   ]
  },
  {
   "cell_type": "code",
   "execution_count": 13,
   "id": "93f7520a",
   "metadata": {},
   "outputs": [
    {
     "name": "stdout",
     "output_type": "stream",
     "text": [
      "Enter a number: -4\n",
      "The absolute value if -4.0 is 4.0\n"
     ]
    }
   ],
   "source": [
    "# 7. Write a Python function to calculate the absolute value of a number without using the `abs()` function.\n",
    "def custom_abs(number):\n",
    "    if number < 0:\n",
    "        return -number\n",
    "    else:\n",
    "        return number\n",
    "    \n",
    "# input a number from the user\n",
    "num = float(input(\"Enter a number: \"))\n",
    "abs_value = custom_abs(num)\n",
    "\n",
    "print(\"The absolute value if\", num, \"is\", abs_value)"
   ]
  },
  {
   "cell_type": "code",
   "execution_count": 14,
   "id": "0c606712",
   "metadata": {},
   "outputs": [
    {
     "name": "stdout",
     "output_type": "stream",
     "text": [
      "Enter the first number: 45\n",
      "Enter the second number: 56\n",
      "Enter the third number: 67\n",
      "The largest number is: 67.0\n"
     ]
    }
   ],
   "source": [
    "# 8. Develop a program that determines the largest of three given numbers using if-else statements.\n",
    "num1 = float(input(\"Enter the first number: \"))\n",
    "num2 = float(input(\"Enter the second number: \"))\n",
    "num3 = float(input(\"Enter the third number: \"))\n",
    "\n",
    "if num1 >= num2 and num1 >= num3:\n",
    "    largest = num1\n",
    "elif num2 >= num1 and num2 >= num3:\n",
    "    largest = num2\n",
    "else:\n",
    "    largest = num3\n",
    "\n",
    "print(\"The largest number is:\", largest)"
   ]
  },
  {
   "cell_type": "code",
   "execution_count": 20,
   "id": "f986ef70",
   "metadata": {},
   "outputs": [
    {
     "name": "stdout",
     "output_type": "stream",
     "text": [
      "Enter a string: noon\n",
      "noon is a palindrome.\n"
     ]
    }
   ],
   "source": [
    "# 9. Create a program that checks if a given string is a palindrome.\n",
    "def is_palindrome(input_str):\n",
    "    \n",
    "    cleaned_str = input_str.replace(\" \", \"\").lower()\n",
    "    \n",
    "    return cleaned_str == cleaned_str[::-1]\n",
    "\n",
    "input_string = input(\"Enter a string: \")\n",
    "\n",
    "if is_palindrome(input_string):\n",
    "    print(input_string, \"is a palindrome.\")\n",
    "else:\n",
    "    print(input_string, \"is not a palindrome.\")\n",
    "    "
   ]
  },
  {
   "cell_type": "code",
   "execution_count": 22,
   "id": "1be0a339",
   "metadata": {},
   "outputs": [
    {
     "name": "stdout",
     "output_type": "stream",
     "text": [
      "Enter the student's score: 70\n",
      "The student's grade is C\n"
     ]
    }
   ],
   "source": [
    "# 10. Write a Python program to calculate the grade based on a student's score.\n",
    "score = float(input(\"Enter the student's score: \"))\n",
    "\n",
    "if score >=90:\n",
    "    grade = 'A'\n",
    "elif score >= 80:\n",
    "    grade = 'B'\n",
    "elif score >= 70:\n",
    "    grade = 'C'\n",
    "elif score >= 60:\n",
    "    grade = 'D'\n",
    "else:\n",
    "    grade = 'F'\n",
    "print(f\"The student's grade is {grade}\")"
   ]
  },
  {
   "cell_type": "markdown",
   "id": "93d7f148",
   "metadata": {},
   "source": [
    "# Nested If-Else Statements:"
   ]
  },
  {
   "cell_type": "code",
   "execution_count": 24,
   "id": "13daab92",
   "metadata": {},
   "outputs": [
    {
     "name": "stdout",
     "output_type": "stream",
     "text": [
      "Enter the first number: 43\n",
      "Enter the second number: 54\n",
      "Enter the third number: 23\n",
      "The largest number is: 54.0\n"
     ]
    }
   ],
   "source": [
    "# 11. Write a program to find the largest among three numbers using nested if-else statements.\n",
    "num1 = float(input(\"Enter the first number: \"))\n",
    "num2 = float(input(\"Enter the second number: \"))\n",
    "num3 = float(input(\"Enter the third number: \"))\n",
    "\n",
    "# nested if-else condition\n",
    "if num1 >= num2:\n",
    "    if num1 >= num3:\n",
    "        largest = num1\n",
    "    else:\n",
    "        largest = num3\n",
    "else:\n",
    "    if num2 >= num3:\n",
    "        largest = num2\n",
    "    else:\n",
    "        largest = num3\n",
    "print(\"The largest number is:\", largest)"
   ]
  },
  {
   "cell_type": "code",
   "execution_count": 26,
   "id": "947e2aa1",
   "metadata": {},
   "outputs": [
    {
     "name": "stdout",
     "output_type": "stream",
     "text": [
      "Enter the length of the first side: 3\n",
      "Enter the length of the second side: 4\n",
      "Enter the length of the third side: 5\n",
      "The triangle is scalene\n"
     ]
    }
   ],
   "source": [
    "# 12. Implement a program to determine if a triangle is equilateral, isosceles, or scalene.\n",
    "side1 = float(input(\"Enter the length of the first side: \"))\n",
    "side2 = float(input(\"Enter the length of the second side: \"))\n",
    "side3 = float(input(\"Enter the length of the third side: \"))\n",
    "\n",
    "# check if it's valid triangle\n",
    "if side1 + side2 > side3 and side1 + side3 > side2 and side2 + side3 > side1:\n",
    "    \n",
    "    # determine the type of triangle\n",
    "    if side1 == side2 ==side3:\n",
    "        traingle_type = \"equilateral\"\n",
    "    elif side1 == side2 or side1 == side3 or side2 == side3:\n",
    "        triangle_type = \"isosceles\"\n",
    "    else:\n",
    "        traingle_type = \"scalene\"\n",
    "        \n",
    "    # print the type of traingle\n",
    "    print(\"The triangle is\", traingle_type)\n",
    "else:\n",
    "    print(\"These side lengths do not form a valid traingle.\")"
   ]
  },
  {
   "cell_type": "code",
   "execution_count": 27,
   "id": "a65874de",
   "metadata": {},
   "outputs": [
    {
     "name": "stdout",
     "output_type": "stream",
     "text": [
      "Enter a year: 1967\n",
      "1967 is a leap year but not a century year.\n"
     ]
    }
   ],
   "source": [
    "# 13. Develop a program that checks if a year is a leap year and also if it is a century year.\n",
    "year = int(input(\"Enter a year: \"))\n",
    "# check if it's a leap year\n",
    "is_leap_year = True\n",
    "\n",
    "if (year % 4 == 0 and year % 100 != 0) or (year % 400 == 0):\n",
    "    is_leap_year = True\n",
    "\n",
    "    #check if it's a century year\n",
    "is_century_year = year % 100 == 0\n",
    "\n",
    "# print the result\n",
    "if is_leap_year:\n",
    "    if is_century_year:\n",
    "        print(f\"{year} is a leap and a century year.\")\n",
    "    else:\n",
    "        print(f\"{year} is a leap year but not a century year.\")\n",
    "else:\n",
    "    print(f\"{year} is not a leap year.\")"
   ]
  },
  {
   "cell_type": "code",
   "execution_count": 28,
   "id": "2d978363",
   "metadata": {},
   "outputs": [
    {
     "name": "stdout",
     "output_type": "stream",
     "text": [
      "Enter a number: 5\n",
      "The number is positive.\n"
     ]
    }
   ],
   "source": [
    "# 14. Write a Python script to determine if a number is positive, negative, or zero.\n",
    "number = float(input(\"Enter a number: \"))\n",
    "if number > 0:\n",
    "    print(\"The number is positive.\")\n",
    "elif number < 0:\n",
    "    print(\"The number is negative.\")\n",
    "else:\n",
    "    print(\"The number is zero.\")"
   ]
  },
  {
   "cell_type": "code",
   "execution_count": 29,
   "id": "87ad57b7",
   "metadata": {},
   "outputs": [
    {
     "name": "stdout",
     "output_type": "stream",
     "text": [
      "Enter the person's age: 45\n",
      "The person is not a teenager.\n"
     ]
    }
   ],
   "source": [
    "# 15. Create a program to check if a person is a teenager (between 13 and 19 years old).\n",
    "age = int(input(\"Enter the person's age: \"))\n",
    "\n",
    "if age >= 13 and age <= 19:\n",
    "    print(\"The person is a teenager.\")\n",
    "else:\n",
    "    print(\"The person is not a teenager.\")"
   ]
  },
  {
   "cell_type": "code",
   "execution_count": 30,
   "id": "84340ae3",
   "metadata": {},
   "outputs": [
    {
     "name": "stdout",
     "output_type": "stream",
     "text": [
      "Enter the angle measure in degree: 56\n",
      "The angle is acute.\n"
     ]
    }
   ],
   "source": [
    "# 16. Develop a program that determines the type of angle based on its measure (acute, obtuse, or right).\n",
    "angle_measure = float(input(\"Enter the angle measure in degree: \"))\n",
    "\n",
    "if angle_measure < 90:\n",
    "    angle_type = \"acute\"\n",
    "elif angle_measure == 90:\n",
    "    angle_type == \"right\"\n",
    "else:\n",
    "    angle_type = \"obtuse\"\n",
    "    \n",
    "print(f\"The angle is {angle_type}.\")"
   ]
  },
  {
   "cell_type": "code",
   "execution_count": 31,
   "id": "a92c2b03",
   "metadata": {},
   "outputs": [
    {
     "name": "stdout",
     "output_type": "stream",
     "text": [
      "Enter coefficient a: 3\n",
      "Enter coefficient b: 4\n",
      "Enter coefficient c: 5\n",
      "The roots are complex: (-0.6666666666666666+1.1055415967851332j) and (-0.6666666666666666-1.1055415967851332j)\n"
     ]
    }
   ],
   "source": [
    "# 17. Write a Python program to calculate the roots of a quadratic equation.\n",
    "import math\n",
    "\n",
    "a=float(input(\"Enter coefficient a: \"))\n",
    "b=float(input(\"Enter coefficient b: \"))\n",
    "c=float(input(\"Enter coefficient c: \"))\n",
    "\n",
    "# discriminant(D)\n",
    "D = b**2 - 4*a*c\n",
    "\n",
    "# check the discriminant for real roots\n",
    "if D > 0:\n",
    "    root1 = (-b + math.sqrt(D)) / (2*a)\n",
    "    root2 = (-b - math.sqrt(D)) / (2*a)\n",
    "    print(f\"The roots are real and distinct: {root1} and {root2}\")\n",
    "elif D == 0:\n",
    "    # one real root(root1)\n",
    "    root1 = -b/(2*a)\n",
    "    print(f\"The root is a real and repeated root: {root1}\")\n",
    "else:\n",
    "    # complex root\n",
    "    real_part = -b / (2*a)\n",
    "    imaginary_part = math.sqrt(-D) / (2*a)\n",
    "    root1 = complex(real_part, imaginary_part)\n",
    "    root2 = complex(real_part, -imaginary_part)\n",
    "    print(f\"The roots are complex: {root1} and {root2}\")\n",
    "    \n"
   ]
  },
  {
   "cell_type": "code",
   "execution_count": 32,
   "id": "312e01a2",
   "metadata": {},
   "outputs": [
    {
     "name": "stdout",
     "output_type": "stream",
     "text": [
      "Enter a number(1 for MOnday, 2 for Tuesday, etc.): 6\n",
      "The day of the week for number 6 is Saturday.\n"
     ]
    }
   ],
   "source": [
    "# 18. Implement a program to determine the day of the week based on a user-provided number (1 for Monday, 2for Tuesday, etc.).\n",
    "\n",
    "# input a number for the day of the week\n",
    "day_number = int(input(\"Enter a number(1 for MOnday, 2 for Tuesday, etc.): \"))\n",
    "\n",
    "# define a list of the days of the week\n",
    "days_of_week = [\"Monday\", \"Tuesday\", \"Wednesday\", \"Thursday\", \"Friday\", \"Saturday\", \"Sunday\"]\n",
    "\n",
    "# check if the input is within a valid range\n",
    "\n",
    "if 1 <= day_number <= 7:\n",
    "    # subtract 1 from the input to get the index in the list\n",
    "    day_index = day_number - 1\n",
    "    \n",
    "    # get the corresponding day from the list\n",
    "    day_name = days_of_week[day_index]\n",
    "    \n",
    "    print(f\"The day of the week for number {day_number} is {day_name}.\")\n",
    "else:\n",
    "    print(f\"Invalid input. Please enter a number between 1 and 7.\")\n",
    "    "
   ]
  },
  {
   "cell_type": "code",
   "execution_count": 35,
   "id": "a18d08e4",
   "metadata": {},
   "outputs": [
    {
     "name": "stdout",
     "output_type": "stream",
     "text": [
      "Enter a year: 9769\n",
      "9769 is not a leap year.\n"
     ]
    }
   ],
   "source": [
    "# 19. Create a program that determines if a year is a leap year and also if it is evenly divisible by 400.\n",
    "\n",
    "# input the year from the user\n",
    "year = int(input(\"Enter a year: \"))\n",
    "\n",
    "# check if it's a leap year and evenly divisible by 400\n",
    "is_leap_year = False\n",
    "\n",
    "if (year % 4 == 0 and year % 100 != 0) or (year % 400 == 0):\n",
    "    is_leap_year = True\n",
    "    \n",
    "# check if it's evenly divisible by 400\n",
    "is_divisible_by_400 = year % 400 == 0\n",
    "\n",
    "# print the results\n",
    "if is_leap_year:\n",
    "    print(f\"{year} is a leap year.\")\n",
    "    if is_divisible_by_400:\n",
    "        print(f\"{year} is evenly divisible by 400.\")\n",
    "    else:\n",
    "        print(f\"{year} is not evenly divisible by 400.\")\n",
    "else:\n",
    "    print(f\"{year} is not a leap year.\")"
   ]
  },
  {
   "cell_type": "code",
   "execution_count": 36,
   "id": "c0c9e2c4",
   "metadata": {},
   "outputs": [
    {
     "name": "stdout",
     "output_type": "stream",
     "text": [
      "Enter a number: 45\n",
      "45 is not a prime number.\n"
     ]
    }
   ],
   "source": [
    "# 20. Develop a program that checks if a given number is prime.\n",
    "import math\n",
    "\n",
    "# input a number from the user\n",
    "number = int(input(\"Enter a number: \"))\n",
    "\n",
    "# check if the number is prime\n",
    "is_prime = True\n",
    "\n",
    "# check for divisibility from 2 to the square root of the number\n",
    "if number <= 1:\n",
    "    is_prime = False\n",
    "else:\n",
    "    for i in range(2, int(math.sqrt(number)) + 1):\n",
    "        if number % i == 0:\n",
    "            is_prime = False\n",
    "            break\n",
    "# print the result\n",
    "if is_prime:\n",
    "    print(f\"{number} is a prime number.\")\n",
    "else:\n",
    "    print(f\"{number} is not a prime number.\")\n",
    "    \n"
   ]
  },
  {
   "cell_type": "markdown",
   "id": "cb3f09db",
   "metadata": {},
   "source": [
    "# Elif Statements:"
   ]
  },
  {
   "cell_type": "code",
   "execution_count": 37,
   "id": "69eca00f",
   "metadata": {},
   "outputs": [],
   "source": [
    "# 21. Write a Python program to assign grades based on different ranges of scores using elif statements.\n",
    "# same as 10th Question"
   ]
  },
  {
   "cell_type": "code",
   "execution_count": 38,
   "id": "d34b35f9",
   "metadata": {},
   "outputs": [],
   "source": [
    "# 22. Implement a program to determine the type of a triangle based on its angles.\n",
    "# same as 16th Question"
   ]
  },
  {
   "cell_type": "code",
   "execution_count": 2,
   "id": "7f1af927",
   "metadata": {},
   "outputs": [
    {
     "name": "stdout",
     "output_type": "stream",
     "text": [
      "Enter weight in kilograms: 67\n",
      "Enter height in meters: 2\n",
      "The BMI is 16.750000, which is categorized as Underweight.\n"
     ]
    }
   ],
   "source": [
    "# 23. Develop a program to categorize a given person's BMI into underweight, normal, overweight, or obese using elif statements.\n",
    "weight_kg = float(input(\"Enter weight in kilograms: \"))\n",
    "height_m = float(input(\"Enter height in meters: \"))\n",
    "\n",
    "# calculate BMI\n",
    "bmi = weight_kg / (height_m ** 2)\n",
    "\n",
    "# categorize BMI\n",
    "if bmi < 18.5:\n",
    "    category = \"Underweight\"\n",
    "elif 18.5 <= bmi < 24.9:\n",
    "    category = \"Normal Weight\"\n",
    "elif 24.9 <= bmi < 29.9:\n",
    "    category = \"Overweight\"\n",
    "else:\n",
    "    category = \"Obese\"\n",
    "\n",
    "# print the BMI category\n",
    "print(f\"The BMI is {bmi:2f}, which is categorized as {category}.\")\n"
   ]
  },
  {
   "cell_type": "code",
   "execution_count": null,
   "id": "7f35a014",
   "metadata": {},
   "outputs": [],
   "source": [
    "# 24. Create a program that determines whether a given number is positive, negative, or zero using elif statements.\n",
    "# same as 14th question"
   ]
  },
  {
   "cell_type": "code",
   "execution_count": 3,
   "id": "db023a21",
   "metadata": {},
   "outputs": [
    {
     "name": "stdout",
     "output_type": "stream",
     "text": [
      "Enter a character: vikas\n",
      "The character 'vikas' is a Lowercase character.\n"
     ]
    }
   ],
   "source": [
    "# 25. Write a Python script to determine the type of a character (uppercase, lowercase, or special) using elif statements.\n",
    "\n",
    "# input a character from the user\n",
    "\n",
    "character = input(\"Enter a character: \")\n",
    "\n",
    "# check the type of character\n",
    "\n",
    "if character.isalpha():\n",
    "    if character.isupper():\n",
    "        character_type = \"Uppercase\"\n",
    "    else:\n",
    "        character_type = \"Lowercase\"\n",
    "else:\n",
    "    character_type = \"Special\"\n",
    "    \n",
    "# Print the type of character\n",
    "print(f\"The character '{character}' is a {character_type} character.\")"
   ]
  },
  {
   "cell_type": "code",
   "execution_count": 6,
   "id": "780ef984",
   "metadata": {},
   "outputs": [
    {
     "name": "stdout",
     "output_type": "stream",
     "text": [
      "Enter the purchase amount: 6000\n",
      "Discounted Price: Rs:5400.00\n"
     ]
    }
   ],
   "source": [
    "# 26. Implement a program to calculate the discounted price based on different purchase amounts using elif statements.\n",
    "\n",
    "# input the purchase amount from the user\n",
    "purchase_amount = float(input(\"Enter the purchase amount: \"))\n",
    "\n",
    "# initialize variables for discount percentages\n",
    "discount_percentage = 0\n",
    "\n",
    "# Determine the discount percentage based on the purchase amount\n",
    "if purchase_amount >= 1000:\n",
    "    discount_percentage = 10\n",
    "elif purchase_amount >= 500:\n",
    "    discount_percentage = 5\n",
    "elif purchase_amount >= 100:\n",
    "    discount_percentage = 2\n",
    "    \n",
    "# calculate the disount price\n",
    "discount_price = purchase_amount * (1- discount_percentage / 100)\n",
    "\n",
    "# print the discounted price\n",
    "print(f\"Discounted Price: Rs:{discount_price:.2f}\")"
   ]
  },
  {
   "cell_type": "code",
   "execution_count": 8,
   "id": "c424146b",
   "metadata": {},
   "outputs": [
    {
     "name": "stdout",
     "output_type": "stream",
     "text": [
      "Enter the electricity consumption in kWh: 57\n",
      "The electricity bill for 57.0 kWh is Rs30.25\n"
     ]
    }
   ],
   "source": [
    "# 27. Develop a program to calculate the electricity bill based on different consumption slabs using elif statements.\n",
    "\n",
    "# input the electricity consumption in kilowatt-hours (kWh) from the user\n",
    "consumption = float(input(\"Enter the electricity consumption in kWh: \"))\n",
    "\n",
    "# initialize variables for the bill and rate per kWh\n",
    "bill = 0\n",
    "rate_per_kwh = 0\n",
    "\n",
    "# determine the rate per kWh and calculate the bill baesd on consumption slabs\n",
    "\n",
    "if consumption <= 50:\n",
    "    rate_per_kwh = 0.50\n",
    "    bill = consumption * rate_per_kwh\n",
    "elif consumption <= 100:\n",
    "    rate_per_kwh = 0.75\n",
    "    bill = 50 * 0.50 + (consumption - 50) * rate_per_kwh\n",
    "elif consumption <= 200:\n",
    "    rate_per_kwh = 1.20\n",
    "    bill = 50 * 0.50 + 50 * 0.75 + (consumption - 100) * rate_per_kwh\n",
    "else:\n",
    "    rate_per_kwh = 1.50\n",
    "    bill = 50 * 0.50 + 50 * 0.75 + 100 * 1.20 + (consumption - 200) * rate_per_kwh\n",
    "\n",
    "# print the electricity bill\n",
    "\n",
    "print(f\"The electricity bill for {consumption} kWh is Rs{bill:.2f}\")\n"
   ]
  },
  {
   "cell_type": "code",
   "execution_count": 2,
   "id": "6af777a0",
   "metadata": {},
   "outputs": [
    {
     "name": "stdout",
     "output_type": "stream",
     "text": [
      "Enter the length of side1: 2\n",
      "Enter the length of side2: 2\n",
      "Enter the length of side3: 2\n",
      "Enter the length of side4: 2\n",
      "Enter the measure of angle 1 in degrees: 90\n",
      "Enter the measure of angle 2 in degrees: 90\n",
      "Enter the measure of angle 3 in degrees: 90\n",
      "Enter the measure of angle 4 in degrees: 90\n",
      "The quadrilateral is a Square\n"
     ]
    }
   ],
   "source": [
    "# 28. Create a program to determine the type of quadrilateral based on its angles and sides using elif statements.\n",
    "\n",
    "# input the lengths of four sides and four angels in degrees\n",
    "side1 = float(input(\"Enter the length of side1: \"))\n",
    "side2 = float(input(\"Enter the length of side2: \"))\n",
    "side3 = float(input(\"Enter the length of side3: \"))\n",
    "side4 = float(input(\"Enter the length of side4: \"))\n",
    "angle1 = float(input(\"Enter the measure of angle 1 in degrees: \"))\n",
    "angle2 = float(input(\"Enter the measure of angle 2 in degrees: \"))\n",
    "angle3 = float(input(\"Enter the measure of angle 3 in degrees: \"))\n",
    "angle4 = float(input(\"Enter the measure of angle 4 in degrees: \"))\n",
    "\n",
    "# check the type of quadrilateral\n",
    "\n",
    "if angle1 == angle2 == angle3 == angle4 == 90:\n",
    "    if side1 == side2 == side3 ==side4:\n",
    "        quad_type = \"Square\"\n",
    "    else:\n",
    "        quad_type = \"Rectangle\"\n",
    "elif side1 == side2 == side3 == side4:\n",
    "    if angle1 == angle3 and angle2 == angle4:\n",
    "        quad_type = \"Rhombus\"\n",
    "    else:\n",
    "        quad_type = \"Parallelogram\"\n",
    "elif side1 == side3 and side2 == side4:\n",
    "    if angle1 == angle2 and angle2 ==angle3 and angle3 == angle4:\n",
    "        quad_type = \"Kite\"\n",
    "    else:\n",
    "        quad_type == \"Trapezoid\"\n",
    "else:\n",
    "    quad_type = \"Quadrilateral\"\n",
    "    \n",
    "# Print the type of quadrilateral\n",
    "print(f\"The quadrilateral is a {quad_type}\")\n",
    "    \n"
   ]
  },
  {
   "cell_type": "code",
   "execution_count": 3,
   "id": "853a620d",
   "metadata": {},
   "outputs": [
    {
     "name": "stdout",
     "output_type": "stream",
     "text": [
      "Enter the month (1-12): 4\n",
      "The season for month 4 is Spring.\n"
     ]
    }
   ],
   "source": [
    "# 29. Write a Python script to determine the season based on a user-provided month using elif statements.\n",
    "\n",
    "# input the month from the user (as a number)\n",
    "month = int(input(\"Enter the month (1-12): \"))\n",
    "\n",
    "# check the season based on the match\n",
    "if 3 <= month <= 5:\n",
    "    season = \"Spring\"\n",
    "elif 6 <= month <= 8:\n",
    "    season = \"Summer\"\n",
    "elif 9 <= month <= 11:\n",
    "    season = \"Autumn/Fall\"\n",
    "elif month == 12 or month <= 2:\n",
    "    season = \"Winter\"\n",
    "else:\n",
    "    season = \"Invalid\"\n",
    "    \n",
    "# Print the season\n",
    "if season != \"Invalid\":\n",
    "    print(f\"The season for month {month} is {season}.\")\n",
    "else:\n",
    "    print(\"Invalid input. Please enter a number between 1 and 12.\")"
   ]
  },
  {
   "cell_type": "code",
   "execution_count": 4,
   "id": "2f7baaa0",
   "metadata": {},
   "outputs": [
    {
     "name": "stdout",
     "output_type": "stream",
     "text": [
      "Enter a year: 1976\n",
      "Enter a month (1-12): 5\n",
      "The month 5 of the year 1976 has 31 days.\n"
     ]
    }
   ],
   "source": [
    "# 30. Implement a program to determine the type of a year (leap or common) and month (30 or 31 days) using elif statements.\n",
    "\n",
    "# input the year and month from the user\n",
    "year = int(input(\"Enter a year: \"))\n",
    "month = int(input(\"Enter a month (1-12): \"))\n",
    "\n",
    "# check if it's a leap year\n",
    "is_leap_year = (year % 4 == 0 and year % 100 != 0) or (year % 400 == 0)\n",
    "\n",
    "# Determine the number of days in the month\n",
    "if 1 <= month <= 12:\n",
    "    if month == 2:\n",
    "        if is_leap_year:\n",
    "            days_in_month = 29\n",
    "        else:\n",
    "            days_in_month = 28\n",
    "    elif month in (4, 6, 9, 11):\n",
    "        days_in_month = 30\n",
    "    else:\n",
    "        days_in_month = 31\n",
    "    print(f\"The month {month} of the year {year} has {days_in_month} days.\")\n",
    "else:\n",
    "    print(\"Invalid input. Please enter a valid month (1-12).\")"
   ]
  },
  {
   "cell_type": "markdown",
   "id": "d6a2f260",
   "metadata": {},
   "source": [
    "# Basic Level:"
   ]
  },
  {
   "cell_type": "code",
   "execution_count": null,
   "id": "d7119b34",
   "metadata": {},
   "outputs": [],
   "source": [
    "### Repeated questions\n",
    "# 1. Write a Python program that checks if a given number is positive, negative, or zero. \n",
    "# 2. Create a program to determine if a person is eligible to vote based on their age. \n",
    "# 3. Write a program to find the maximum of two given numbers using conditional statements. \n",
    "# 4. Develop a program that calculates the grade of a student based on their exam score. \n",
    "# 5. Create a program that checks if a year is a leap year or not.\n",
    "# 6. Write a program to classify a triangle based on its sides' lengths. \n",
    "# 7. Build a program that determines the largest of three given numbers. \n",
    "# 8. Develop a program that checks whether a character is a vowel or a consonant. "
   ]
  },
  {
   "cell_type": "code",
   "execution_count": null,
   "id": "f8b37316",
   "metadata": {},
   "outputs": [
    {
     "name": "stdout",
     "output_type": "stream",
     "text": [
      "Enter an item (or 'done' to finish): bag\n",
      "Item not found. Please enter a valid item.\n",
      "Enter an item (or 'done' to finish): 4\n",
      "Item not found. Please enter a valid item.\n"
     ]
    }
   ],
   "source": [
    "# 9. Create a program to calculate the total cost of a shopping cart based on discounts. \n",
    "# Define the items, prices, and discounts in a dictionary\n",
    "items = {\n",
    "    \"item1\": {\"price\": 10.0, \"discount_threshold\": 5, \"discount_percent\": 10},\n",
    "    \"item2\": {\"price\": 20.0, \"discount_threshold\": 3, \"discount_percent\": 5},\n",
    "    \"item3\": {\"price\": 15.0, \"discount_threshold\": 2, \"discount_percent\": 5},\n",
    "}\n",
    "\n",
    "# Initialize the shopping cart\n",
    "cart = {}\n",
    "\n",
    "# Input items and quantities into the shopping cart\n",
    "while True:\n",
    "    item_name = input(\"Enter an item (or 'done' to finish): \")\n",
    "    \n",
    "    if item_name == 'done':\n",
    "        break\n",
    "    \n",
    "    if item_name not in items:\n",
    "        print(\"Item not found. Please enter a valid item.\")\n",
    "        continue\n",
    "    \n",
    "    quantity = int(input(f\"Enter the quantity of {item_name}: \"))\n",
    "    if item_name in cart:\n",
    "        cart[item_name] += quantity\n",
    "    else:\n",
    "        cart[item_name] = quantity\n",
    "\n",
    "# Calculate the total cost with discounts\n",
    "total_cost = 0\n",
    "\n",
    "for item_name, quantity in cart.items():\n",
    "    item_info = items[item_name]\n",
    "    price = item_info[\"price\"]\n",
    "    discount_threshold = item_info[\"discount_threshold\"]\n",
    "    discount_percent = item_info[\"discount_percent\"]\n",
    "    \n",
    "    if quantity >= discount_threshold:\n",
    "        total_cost += (quantity * price) * (1 - discount_percent / 100)\n",
    "    else:\n",
    "        total_cost += quantity * price\n",
    "\n",
    "# Print the total cost\n",
    "print(f\"The total cost of your shopping cart is: ${total_cost:.2f}\")\n"
   ]
  },
  {
   "cell_type": "code",
   "execution_count": null,
   "id": "911900e0",
   "metadata": {},
   "outputs": [],
   "source": [
    "# 10. Write a program that checks if a given number is even or odd. \n",
    "# Repeated question same as 6th question. "
   ]
  },
  {
   "cell_type": "markdown",
   "id": "e5670107",
   "metadata": {},
   "source": [
    "# Intermediate Level:"
   ]
  },
  {
   "cell_type": "code",
   "execution_count": null,
   "id": "bf4bea60",
   "metadata": {},
   "outputs": [],
   "source": [
    "# 11. Write a program that calculates the roots of a quadratic equation . \n",
    "# 12. Create a program that determines the day of the week based on the day number (1-7). \n",
    "# Repeated question"
   ]
  },
  {
   "cell_type": "code",
   "execution_count": 1,
   "id": "6945dd35",
   "metadata": {},
   "outputs": [
    {
     "name": "stdout",
     "output_type": "stream",
     "text": [
      "Enter a non-negative integer: 56\n",
      "The factorial of 56 is 710998587804863451854045647463724949736497978881168458687447040000000000000.\n"
     ]
    }
   ],
   "source": [
    "# 13. Develop a program that calculates the factorial of a given number using recursion.\n",
    "\n",
    "def factorial(n):\n",
    "    # base case: factorial of 0 or 1 is 1\n",
    "    if n == 0 or n == 1:\n",
    "        return 1\n",
    "    \n",
    "    # recursive case: n! = n * (n-1)!\n",
    "    else:\n",
    "        return n * factorial(n-1)\n",
    "    \n",
    "# Input a number from the user\n",
    "number = int(input(\"Enter a non-negative integer: \"))\n",
    "\n",
    "# check for valid input\n",
    "\n",
    "if number < 0:\n",
    "    print(\"Please enter a non-negative integer. \")\n",
    "else:\n",
    "    result = factorial(number)\n",
    "    print(f\"The factorial of {number} is {result}.\")\n",
    "    "
   ]
  },
  {
   "cell_type": "code",
   "execution_count": 2,
   "id": "9a069a41",
   "metadata": {},
   "outputs": [],
   "source": [
    "# 14. Write a program to find the largest among three numbers without using the `max()` function.\n",
    "# Repeated question same as 11th question\n"
   ]
  },
  {
   "cell_type": "code",
   "execution_count": 3,
   "id": "1d4ad2c3",
   "metadata": {},
   "outputs": [
    {
     "name": "stdout",
     "output_type": "stream",
     "text": [
      "\n",
      "ATM Menu:\n",
      "1. Display Balance\n",
      "2. Deposit\n",
      "3. Withdraw\n",
      "4. Quit\n",
      "Enter your choice (1/2/3/4): 3\n",
      "Enter the withdrawal amount: Rs400\n",
      "Rs400.000000 has been withdrawn.\n",
      "\n",
      "ATM Menu:\n",
      "1. Display Balance\n",
      "2. Deposit\n",
      "3. Withdraw\n",
      "4. Quit\n",
      "Enter your choice (1/2/3/4): 4\n",
      "Thank you for using the ATM. Have a nice day!\n"
     ]
    }
   ],
   "source": [
    "# 15. Create a program that simulates a basic ATM transaction menu.\n",
    "\n",
    "# initialize account balance\n",
    "account_balance = 1000.0\n",
    "\n",
    "# function to display account balance\n",
    "def display_balance():\n",
    "    print(f\"Your account balance is {account_balance:.2f}\")\n",
    "    \n",
    "# function to deposit money\n",
    "def deposit():\n",
    "    global account_balance\n",
    "    amount = float(input(\"Enter the deposit amount: Rs\"))\n",
    "    if amount > 0:\n",
    "        account_balance += amount\n",
    "        print(f\"Rs{amount:.2f} has been deposited.\")\n",
    "    else:\n",
    "        print(\"Invalid desposit amount. Please enter a positive number.\")\n",
    "\n",
    "# Function to withdraw money\n",
    "def withdraw():\n",
    "    global account_balance\n",
    "    amount = float(input(\"Enter the withdrawal amount: Rs\"))\n",
    "    if amount > 0 and amount <= account_balance:\n",
    "        account_balance -= amount\n",
    "        print(f\"Rs{amount:2f} has been withdrawn.\")\n",
    "    elif amount <= 0:\n",
    "        print(\"Invalid withdrawal amount. Please enter a positive amount.\")\n",
    "    else:\n",
    "        print(\"Insufficinet funds. You cannot withdraw more than your account balance.\")\n",
    "        \n",
    "# ATM transaction menu\n",
    "while True:\n",
    "    print(\"\\nATM Menu:\")\n",
    "    print(\"1. Display Balance\")\n",
    "    print(\"2. Deposit\")\n",
    "    print(\"3. Withdraw\")\n",
    "    print(\"4. Quit\")\n",
    "    \n",
    "    choice = input(\"Enter your choice (1/2/3/4): \")\n",
    "    \n",
    "    if choice == \"1\":\n",
    "        display_balance()\n",
    "    elif choice == \"2\":\n",
    "        deposit()\n",
    "    elif choice == \"3\":\n",
    "        withdraw()\n",
    "    elif choice == \"4\":\n",
    "        print(\"Thank you for using the ATM. Have a nice day!\")\n",
    "        break\n",
    "    else:\n",
    "        print(\"Invalid choice. Please select a valid option (1/2/34).\")\n",
    "        "
   ]
  },
  {
   "cell_type": "code",
   "execution_count": null,
   "id": "a952a284",
   "metadata": {},
   "outputs": [],
   "source": [
    "# 16. Build a program that checks if a given string is a palindrome or not. \n",
    "# Repeated same as "
   ]
  },
  {
   "cell_type": "code",
   "execution_count": 5,
   "id": "a80e6c08",
   "metadata": {},
   "outputs": [
    {
     "name": "stdout",
     "output_type": "stream",
     "text": [
      "Enter a list of numbers separated by spaces: 3 4 5 6 7 8 9\n",
      "The average (excluding the smallest and largest values) is 6.00\n"
     ]
    }
   ],
   "source": [
    "# 17. Write a program that calculates the average of a list of numbers, excluding the smallest and largest values.\n",
    "\n",
    "def average(numbers):\n",
    "    if len(numbers) < 3:\n",
    "        return \"The list should have at least 3 numbers.\"\n",
    "    \n",
    "    # Remove the smallest and largest values\n",
    "    numbers.remove(min(numbers))\n",
    "    numbers.remove(max(numbers))\n",
    "    \n",
    "    # calculate the average\n",
    "    avg = sum(numbers) / len(numbers)\n",
    "    return avg\n",
    "\n",
    "# input a list of numbers\n",
    "try: \n",
    "    input_numbers = input(\"Enter a list of numbers separated by spaces: \")\n",
    "    numbers = [float(x) for x in input_numbers.split()]\n",
    "    \n",
    "    # call the function to calculate the average\n",
    "    result = average(numbers)\n",
    "    \n",
    "    # display the result\n",
    "    if isinstance(result, str):\n",
    "        print(result)\n",
    "    else:\n",
    "        print(f\"The average (excluding the smallest and largest values) is {result:.2f}\")\n",
    "except ValueError:\n",
    "    print(\"Invalid input> Please enter valid numeric values separated by spaces.\")\n"
   ]
  },
  {
   "cell_type": "code",
   "execution_count": 6,
   "id": "8a9ddba5",
   "metadata": {},
   "outputs": [],
   "source": [
    "# 18. Develop a program that converts a given temperature from Celsius to Fahrenheit.\n",
    "# Repeated question\n"
   ]
  },
  {
   "cell_type": "code",
   "execution_count": 1,
   "id": "333ea4d3",
   "metadata": {},
   "outputs": [
    {
     "name": "stdout",
     "output_type": "stream",
     "text": [
      "\n",
      "Calculator Menu:\n",
      "1. Addition\n",
      "2. Subtraction\n",
      "3. Multiplication\n",
      "4. Division\n",
      "Enter your choice (1/2/3/4/5): 1\n",
      "Enter the first number: 23\n",
      "Enter second number: 34\n",
      "Result: 23.0 + 34.0 = 57.0\n",
      "\n",
      "Calculator Menu:\n",
      "1. Addition\n",
      "2. Subtraction\n",
      "3. Multiplication\n",
      "4. Division\n",
      "Enter your choice (1/2/3/4/5): 5\n",
      "Goodbye!\n"
     ]
    }
   ],
   "source": [
    "# 19. Create a program that simulates a basic calculator for addition, subtraction, multiplication, and division.\n",
    "\n",
    "# Function for addition\n",
    "def add(x, y):\n",
    "    return x + y\n",
    "\n",
    "# Function for subtraction\n",
    "def subtract(x, y):\n",
    "    return x - y\n",
    "\n",
    "# Function for multiplication\n",
    "def multiply(x, y):\n",
    "    return x * y\n",
    "\n",
    "# Function for division\n",
    "def divide(x, y):\n",
    "    if y == 0:\n",
    "        return \"Cannot divide by zero\"\n",
    "    return x / y\n",
    "\n",
    "# calculator menu\n",
    "while True:\n",
    "    print(\"\\nCalculator Menu:\")\n",
    "    print(\"1. Addition\")\n",
    "    print(\"2. Subtraction\")\n",
    "    print(\"3. Multiplication\")\n",
    "    print(\"4. Division\")\n",
    "    \n",
    "    choice = input(\"Enter your choice (1/2/3/4/5): \")\n",
    "    \n",
    "    if choice == \"5\":\n",
    "        print(\"Goodbye!\")\n",
    "        break\n",
    "    \n",
    "    if choice in (\"1\", \"2\", \"3\", \"4\"):\n",
    "        num1 = float(input(\"Enter the first number: \"))\n",
    "        num2 = float(input(\"Enter second number: \"))\n",
    "\n",
    "        if choice == \"1\":\n",
    "            result = add(num1, num2)\n",
    "            print(f\"Result: {num1} + {num2} = {result}\")\n",
    "        elif choice == \"2\":\n",
    "            result = subtract(num1, num2)\n",
    "            print(f\"Result: {num1} - {num2} = {result}\")\n",
    "        elif choice == \"3\":\n",
    "            result = multiply(num1, num2)\n",
    "            print(f\"Result: {num1} * {num2} = {result}\")\n",
    "        elif choice == \"4\":\n",
    "            result = divide(num1, num2)\n",
    "            print(f\"Result: {num1} / {num2} = {result}\")\n",
    "    else:\n",
    "        print(\"Invalid choice. Please select a valid option (1/2/3/4/5).\")"
   ]
  },
  {
   "cell_type": "code",
   "execution_count": 3,
   "id": "efa06788",
   "metadata": {},
   "outputs": [
    {
     "name": "stdout",
     "output_type": "stream",
     "text": [
      "Enter the coefficient a: 2\n",
      "Enter the coefficient b: 3\n",
      "Enter the coefficient c: 4\n",
      "Enter the coefficient d: 5\n",
      "The roots of the cubic equation are:\n",
      "Root 1: (-1.371134331307363+0j)\n",
      "Root 2: (-0.06443283434631848-1.3487610119612534j)\n",
      "Root 3: (-0.0644328343463186+1.3487610119612534j)\n"
     ]
    }
   ],
   "source": [
    "# 20. Write a program that determines the roots of a cubic equation using the Cardano formula.\n",
    "\n",
    "import cmath # import the complex math module for handling complex numbers\n",
    "def cubic_roots(a,b,c,d):\n",
    "    \n",
    "    # Calculate the discriminants\n",
    "    delta0 = b**2 - 3 * a * c\n",
    "    delta1 = 2 * b ** 3 - 9 * a * b * c + 27 * a **2 * d\n",
    "    \n",
    "    # Calculate the complex cube roots of unity\n",
    "    omega = (-1 + cmath.sqrt(-3)) / 2\n",
    "    \n",
    "    #calculate the intermediate values\n",
    "    c = (delta1 + cmath.sqrt(delta1**2 - 4 * delta0**3)) / 2\n",
    "    u = c**(1/3)\n",
    "    \n",
    "    # calculate the roots\n",
    "    roots = []\n",
    "    for k in range(3):\n",
    "        root = (-1 / (3 * a))*(b + omega**k*u + delta0 / (omega**k * u))\n",
    "        roots.append(root)\n",
    "    \n",
    "    return roots\n",
    "# input coefficients of the cubic equation\n",
    "a = float(input(\"Enter the coefficient a: \"))\n",
    "b = float(input(\"Enter the coefficient b: \"))\n",
    "c = float(input(\"Enter the coefficient c: \"))\n",
    "d = float(input(\"Enter the coefficient d: \"))\n",
    "\n",
    "# find and display the roots of the cubic equation\n",
    "cubic_roots = cubic_roots(a, b, c, d)\n",
    "\n",
    "print(\"The roots of the cubic equation are:\")\n",
    "for i, root in enumerate(cubic_roots):\n",
    "    print(f\"Root {i+1}: {root}\")\n",
    "    "
   ]
  },
  {
   "cell_type": "markdown",
   "id": "7bd9cf8c",
   "metadata": {},
   "source": [
    "# Advanced Level:"
   ]
  },
  {
   "cell_type": "code",
   "execution_count": 1,
   "id": "1b4b8ec8",
   "metadata": {},
   "outputs": [
    {
     "name": "stdout",
     "output_type": "stream",
     "text": [
      "Enter your income: Rs40000\n",
      "Your income tax is Rs3417.38\n"
     ]
    }
   ],
   "source": [
    "# 21. Create a program that calculates the income tax based on the user's income and tax brackets.\n",
    "# Define tax brackets and rates\n",
    "tax_brackets = [\n",
    "    (0, 9875, 0.10),\n",
    "    (9876, 40125, 0.12),\n",
    "    (40126, 85525, 0.22),\n",
    "    (85526, 163300, 0.24),\n",
    "    (163301, 207350, 0.32),\n",
    "    (207351, 518400, 0.35),\n",
    "    (518401, float('inf'), 0.37)\n",
    "]\n",
    "\n",
    "# Function to calculate income tax\n",
    "def calculate_income_tax(income):\n",
    "    tax_owed = 0\n",
    "    remaining_income = income\n",
    "    \n",
    "    for bracket in tax_brackets:\n",
    "        min_income, max_income, tax_rate = bracket\n",
    "        if remaining_income <= 0:\n",
    "            break\n",
    "        taxable_income_in_bracket = min(max(remaining_income, min_income), max_income) - min_income\n",
    "        tax_owed += taxable_income_in_bracket * tax_rate\n",
    "        remaining_income -= taxable_income_in_bracket\n",
    "    return tax_owed\n",
    "\n",
    "# input user's income\n",
    "try:\n",
    "    income = float(input(\"Enter your income: Rs\"))\n",
    "    \n",
    "    if income < 0:\n",
    "        print(\"Income cannot be negative.\")\n",
    "    else:\n",
    "        # calculate income tax\n",
    "        tax_owed = calculate_income_tax(income)\n",
    "        \n",
    "        #Display the result\n",
    "        print(f\"Your income tax is Rs{tax_owed:.2f}\")\n",
    "except ValueError:\n",
    "    print(\"Invalid input. Please enter a valid income as number.\")"
   ]
  },
  {
   "cell_type": "code",
   "execution_count": 2,
   "id": "bfad1198",
   "metadata": {},
   "outputs": [
    {
     "name": "stdout",
     "output_type": "stream",
     "text": [
      "\n",
      " Rock, Paper, Scissors Game\n",
      "Enter your choice: rock, paper, scissors, or quit to exit.\n",
      "Your choice: scissors\n",
      "Computer's choice: scissors\n",
      "It's a tie!\n",
      "\n",
      " Rock, Paper, Scissors Game\n",
      "Enter your choice: rock, paper, scissors, or quit to exit.\n",
      "Your choice: rock\n",
      "Computer's choice: rock\n",
      "It's a tie!\n",
      "\n",
      " Rock, Paper, Scissors Game\n",
      "Enter your choice: rock, paper, scissors, or quit to exit.\n",
      "Your choice: paper\n",
      "Computer's choice: rock\n",
      "You win!\n",
      "\n",
      " Rock, Paper, Scissors Game\n",
      "Enter your choice: rock, paper, scissors, or quit to exit.\n",
      "Your choice: exit\n",
      "Invalid choice. Please choose rock, paper, or scissors.\n",
      "\n",
      " Rock, Paper, Scissors Game\n",
      "Enter your choice: rock, paper, scissors, or quit to exit.\n",
      "Your choice: quit\n",
      "Thanks for playing!\n"
     ]
    }
   ],
   "source": [
    "# 22. Write a program that simulates a rock-paper-scissors game against the computer.\n",
    "import random\n",
    "\n",
    "def get_computer_choice():\n",
    "    choices = [\"rock\",\"paper\",\"scissors\",]\n",
    "    return random.choice(choices)\n",
    "\n",
    "# Function to determine the winner\n",
    "def determine_winner(player_choice,computer_choice):\n",
    "    if player_choice == computer_choice:\n",
    "        return \"It's a tie!\"\n",
    "    elif((player_choice == \"rock\" and computer_choice == \"scissors\") or\n",
    "         (player_choice == \"scissors\" and computer_choice == \"paper\") or\n",
    "         (player_choice == \"paper\" and computer_choice == \"rock\")\n",
    "    ):\n",
    "        return \"You win!\"\n",
    "    else:\n",
    "        return \"Computer wins!\"\n",
    "\n",
    "# main game loop\n",
    "while True:\n",
    "    print(\"\\n Rock, Paper, Scissors Game\")\n",
    "    print(\"Enter your choice: rock, paper, scissors, or quit to exit.\")\n",
    "    \n",
    "    player_choice = input(\"Your choice: \").lower()\n",
    "    \n",
    "    if player_choice == \"quit\":\n",
    "        print(\"Thanks for playing!\")\n",
    "        break\n",
    "    elif player_choice not in [\"rock\", \"paper\", \"scissors\"]:\n",
    "        print(\"Invalid choice. Please choose rock, paper, or scissors.\")\n",
    "    else:\n",
    "        computer_choice = get_computer_choice()\n",
    "        print(f\"Computer's choice: {computer_choice}\")\n",
    "        result = determine_winner(player_choice, computer_choice)\n",
    "        print(result)"
   ]
  },
  {
   "cell_type": "code",
   "execution_count": 6,
   "id": "13903d26",
   "metadata": {},
   "outputs": [
    {
     "name": "stdout",
     "output_type": "stream",
     "text": [
      "Password Generator\n",
      "Enter the desired password length: 7\n",
      "Include lowercase letter? (yes/no): yes\n",
      "Include uppercase letters?(yes/no): no\n",
      "Include digits? (yes/no): yes\n",
      "Include special characters? (yes/no): no\n",
      "Generated Password: rh60435\n"
     ]
    }
   ],
   "source": [
    "# 23. Develop a program that generates a random password based on user preferences (length, complexity).\n",
    "import random\n",
    "import string\n",
    "\n",
    "# Function to genrate a random password\n",
    "def generate_password(length, use_lowercase, use_uppercase, use_digits, use_special_chars):\n",
    "    characters = \"\"\n",
    "    \n",
    "    if use_lowercase:\n",
    "        characters += string.ascii_lowercase\n",
    "    if use_uppercase:\n",
    "        characters += string.ascii_uppercase\n",
    "    if use_digits:\n",
    "        characters += string.digits\n",
    "    if use_special_chars:\n",
    "        characters += string.punctutation\n",
    "        \n",
    "    if not characters:\n",
    "        return \"Password cannot be generated with no character set selected.\"\n",
    "    \n",
    "    password = ''.join(random.choice(characters) for _ in range(length))\n",
    "    return password\n",
    "\n",
    "# Get user preferences\n",
    "print(\"Password Generator\")\n",
    "length = int(input(\"Enter the desired password length: \"))\n",
    "use_lowercase = input(\"Include lowercase letter? (yes/no): \").lower() == \"yes\"\n",
    "user_uppercase = input(\"Include uppercase letters?(yes/no): \").lower() == \"yes\"\n",
    "use_digits = input(\"Include digits? (yes/no): \").lower() == \"yes\"\n",
    "use_special_chars = input(\"Include special characters? (yes/no): \").lower() == \"yes\"\n",
    "\n",
    "# generate and display the password\n",
    "password = generate_password(length, use_lowercase, user_uppercase, use_digits, use_special_chars)\n",
    "print(f\"Generated Password: {password}\")"
   ]
  },
  {
   "cell_type": "code",
   "execution_count": 7,
   "id": "ae697958",
   "metadata": {},
   "outputs": [
    {
     "name": "stdout",
     "output_type": "stream",
     "text": [
      "You find yourself in a dark forest. What do you do?\n",
      "1. Explore deeper into the forest.\n",
      "2. Follow a path leading out of the forest.\n",
      "Enter your choice: 1\n",
      "You venture deeper into the forest and encounter a friendly creature.\n",
      "The creature offers to guide you to a hidden treasure. Do you follow?\n",
      "1. Follow the creature.\n",
      "2. Decline and continue exploring the forest.\n",
      "Enter your choice: 2\n",
      "You decline and explore the forest on your own.\n"
     ]
    }
   ],
   "source": [
    "# 24. Create a program that implements a simple text-based adventure game with branching scenarios.\n",
    "import time\n",
    "\n",
    "# function to delay text output for a better user experience\n",
    "def delay_print(text, delay = 0.03):\n",
    "    for char in text:\n",
    "        print(char, end='', flush=True)\n",
    "        time.sleep(delay)\n",
    "    print()\n",
    "\n",
    "# Function to simulate a choice aand branching scenario\n",
    "def make_choice(question, choices):\n",
    "    while True:\n",
    "        print(question)\n",
    "        for i, choice in enumerate(choices, start=1):\n",
    "            print(f\"{i}. {choice['text']}\")\n",
    "        \n",
    "        \n",
    "        try:\n",
    "            choice_num = int(input(\"Enter your choice: \"))\n",
    "            if 1 <= choice_num <= len(choices):\n",
    "                selected_choice = choices[choice_num - 1]\n",
    "                delay_print(selected_choice['response'])\n",
    "                return selected_choice['next_scenario']\n",
    "            else:\n",
    "                print(\"Invalid choice. Please select a valid option.\")\n",
    "        except ValueError:\n",
    "            print(\"Invalid input. Please enter a number.\")\n",
    "    \n",
    "# Define scenarios and choices\n",
    "scenarios = {\n",
    "    'start': {\n",
    "        'text': \"You find yourself in a dark forest. What do you do?\",\n",
    "        'choices': [\n",
    "            {\n",
    "                'text': \"Explore deeper into the forest.\",\n",
    "                'response': \"You venture deeper into the forest and encounter a friendly creature.\",\n",
    "                'next_scenario': 'encounter'\n",
    "            },\n",
    "            {\n",
    "                'text': \"Follow a path leading out of the forest.\",\n",
    "                'response': \"You follow the path and find yourself outside the forest.\",\n",
    "                'next_scenario': 'end'\n",
    "            }\n",
    "        ]\n",
    "    },\n",
    "    'encounter': {\n",
    "        'text': \"The creature offers to guide you to a hidden treasure. Do you follow?\",\n",
    "        'choices': [\n",
    "            {\n",
    "                'text': \"Follow the creature.\",\n",
    "                'response': \"You follow the creature and discover the treasure!\",\n",
    "                'next_scenario': 'treasure'\n",
    "            },\n",
    "            {\n",
    "                'text': \"Decline and continue exploring the forest.\",\n",
    "                'response': \"You decline and explore the forest on your own.\",\n",
    "                'next_scenario': 'end'\n",
    "            }\n",
    "        ]\n",
    "    },\n",
    "    'treasure': {\n",
    "        'text': \"Congratulations! You have found the treasure.\",\n",
    "        'choices': []\n",
    "    },\n",
    "    'end': {\n",
    "        'text': \"The adventure ends. Thanks for playing!\",\n",
    "        'choices': []\n",
    "    }\n",
    "}\n",
    "\n",
    "# Main game loop\n",
    "current_scenario = 'start'\n",
    "while current_scenario != 'end':\n",
    "    scenario = scenarios[current_scenario]\n",
    "    current_scenario = make_choice(scenario['text'], scenario['choices'])\n"
   ]
  },
  {
   "cell_type": "code",
   "execution_count": 9,
   "id": "85b6289f",
   "metadata": {},
   "outputs": [
    {
     "name": "stdout",
     "output_type": "stream",
     "text": [
      "Enter the coefficient 'a': 3\n",
      "Enter the coefficient 'b': 4\n",
      "The solution is x = -1.3333333333333333\n"
     ]
    }
   ],
   "source": [
    "# 25. Build a program that solves a linear equation for x, considering different cases.\n",
    "def solve_linear_equation(a, b):\n",
    "    if a == 0:\n",
    "        if b == 0:\n",
    "            return \"Infinite solutions (identity equation).\"\n",
    "        else:\n",
    "            return \"No solution (contradictory equation).\"\n",
    "    else:\n",
    "        x = -b / a\n",
    "        return f\"The solution is x = {x}\"\n",
    "    \n",
    "# Input coefficients\n",
    "a = float(input(\"Enter the coefficient 'a': \"))\n",
    "b = float(input(\"Enter the coefficient 'b': \"))\n",
    "\n",
    "# Solve the linear equation\n",
    "solution = solve_linear_equation(a, b)\n",
    "\n",
    "# display the result\n",
    "print(solution)"
   ]
  },
  {
   "cell_type": "code",
   "execution_count": 10,
   "id": "693f2f37",
   "metadata": {},
   "outputs": [
    {
     "name": "stdout",
     "output_type": "stream",
     "text": [
      "Welcome to the Quiz Game!\n",
      "What is the capital of France?\n",
      "1. Paris\n",
      "2. London\n",
      "3. Berlin\n",
      "4. Madrid\n",
      "Enter the number of your answer (1-4): 1\n",
      "Which planet is known as the Red Planet?\n",
      "1. Earth\n",
      "2. Mars\n",
      "3. Venus\n",
      "4. Jupiter\n",
      "Enter the number of your answer (1-4): 2\n",
      "What is the largest mammal in the world?\n",
      "1. Elephant\n",
      "2. Giraffe\n",
      "3. Blue Whale\n",
      "4. Horse\n",
      "Enter the number of your answer (1-4): 3\n",
      "Your score: 3 out of 3\n"
     ]
    }
   ],
   "source": [
    "# 26. Write a program that simulates a basic quiz game with multiple-choice questions and scoring.\n",
    "\n",
    "# Define the quiz questions and answers\n",
    "quiz = [\n",
    "    {\n",
    "        \"question\": \"What is the capital of France?\",\n",
    "        \"options\": [\"Paris\", \"London\", \"Berlin\", \"Madrid\"],\n",
    "        \"correct_answer\": \"Paris\"\n",
    "    },\n",
    "    {\n",
    "        \"question\": \"Which planet is known as the Red Planet?\",\n",
    "        \"options\": [\"Earth\", \"Mars\", \"Venus\", \"Jupiter\"],\n",
    "        \"correct_answer\": \"Mars\"\n",
    "    },\n",
    "    {\n",
    "        \"question\": \"What is the largest mammal in the world?\",\n",
    "        \"options\": [\"Elephant\", \"Giraffe\", \"Blue Whale\", \"Horse\"],\n",
    "        \"correct_answer\": \"Blue Whale\"\n",
    "    }\n",
    "]\n",
    "\n",
    "# Function to present a question and get the user's answer\n",
    "def ask_question(question_dict):\n",
    "    print(question_dict[\"question\"])\n",
    "    for i, option in enumerate(question_dict[\"options\"], start=1):\n",
    "        print(f\"{i}. {option}\")\n",
    "    \n",
    "    user_answer = input(\"Enter the number of your answer (1-4): \")\n",
    "    return question_dict[\"options\"][int(user_answer) - 1]\n",
    "\n",
    "# Function to score the quiz\n",
    "def score_quiz(questions, answers):\n",
    "    score = 0\n",
    "    for i, question in enumerate(questions):\n",
    "        if answers[i] == question[\"correct_answer\"]:\n",
    "            score += 1\n",
    "    return score\n",
    "\n",
    "# Main quiz loop\n",
    "print(\"Welcome to the Quiz Game!\")\n",
    "user_answers = []\n",
    "\n",
    "for question in quiz:\n",
    "    user_answer = ask_question(question)\n",
    "    user_answers.append(user_answer)\n",
    "\n",
    "# Calculate and display the score\n",
    "total_score = score_quiz(quiz, user_answers)\n",
    "print(f\"Your score: {total_score} out of {len(quiz)}\")\n"
   ]
  },
  {
   "cell_type": "code",
   "execution_count": 12,
   "id": "0225f0d6",
   "metadata": {},
   "outputs": [
    {
     "name": "stdout",
     "output_type": "stream",
     "text": [
      "Enter a year: 1976\n",
      "1976 is not a prime year.\n"
     ]
    }
   ],
   "source": [
    "# 27. Develop a program that determines whether a given year is a prime number or not.\n",
    "def is_prime(year):\n",
    "    if year <= 1:\n",
    "        return False\n",
    "    if year == 2:\n",
    "        return True\n",
    "    if year % 2 == 0:\n",
    "        return False\n",
    "    \n",
    "    # Check divisibility from 3 to the square root of the year \n",
    "    for i in range(3, int(year**0.5) + 1, 2):\n",
    "        if year % i == 0:\n",
    "            return False\n",
    "    return True\n",
    "\n",
    "# Input a year from the user\n",
    "try:\n",
    "    year = int(input(\"Enter a year: \"))\n",
    "    \n",
    "    if is_prime(year):\n",
    "        print(f\"{year} is a prime year.\")\n",
    "    else:\n",
    "        print(f\"{year} is not a prime year.\")\n",
    "except ValueError:\n",
    "    print(\"Invalid input. Please enter a valid year as a number.\")\n",
    "    \n",
    "    "
   ]
  },
  {
   "cell_type": "code",
   "execution_count": 14,
   "id": "c3154a06",
   "metadata": {},
   "outputs": [
    {
     "name": "stdout",
     "output_type": "stream",
     "text": [
      "Enter the first number: 3\n",
      "Enter the second number: 6\n",
      "Enter the third number: 4\n",
      "Sorted numbers in ascending order: [3.0, 4.0, 6.0]\n"
     ]
    }
   ],
   "source": [
    "# 28. Create a program that sorts three numbers in ascending order using conditional statements.\n",
    "\n",
    "# Input three numbers from the user\n",
    "try:\n",
    "    num1 = float(input(\"Enter the first number: \"))\n",
    "    num2 = float(input(\"Enter the second number: \"))\n",
    "    num3 = float(input(\"Enter the third number: \"))\n",
    "    \n",
    "    # sort the numbers in ascending order using conditional statements\n",
    "    \n",
    "    if num1 <= num2 <= num3:\n",
    "        sorted_nums = [num1, num2, num3]\n",
    "    elif num1 <= num3 <= num2:\n",
    "        sorted_nums = [num1, num3, num2]\n",
    "    elif num2 <= num1 <= num3:\n",
    "        sorted_nums = [num2, num1, num3]\n",
    "    elif num2 <= num3 <= num1:\n",
    "        sorted_nums = [num2, num3, num1]\n",
    "    elif num3 <= num1 <= num2:\n",
    "        sorted_nums = [num3, num1, num2]\n",
    "    else:\n",
    "        sorted_nums = [num3, num2, num1]\n",
    "\n",
    "    # Display the sorted numbers\n",
    "    print(\"Sorted numbers in ascending order:\", sorted_nums)\n",
    "except ValueError:\n",
    "    print(\"Invalid input. Please enter valid numbers.\")\n",
    "        "
   ]
  },
  {
   "cell_type": "code",
   "execution_count": 15,
   "id": "e1ade365",
   "metadata": {},
   "outputs": [
    {
     "name": "stdout",
     "output_type": "stream",
     "text": [
      "Roots are real and same\n",
      "-2.0\n"
     ]
    }
   ],
   "source": [
    "# 29. Build a program that determines the roots of a quartic equation using numerical methods.\n",
    "\n",
    "import math\n",
    " \n",
    "def findRoots(a, b, c):\n",
    " \n",
    "    if a == 0:\n",
    "        print(\"Invalid\")\n",
    "        return -1\n",
    "        \n",
    "    d = b * b - 4 * a * c\n",
    "    sqrt_val = math.sqrt(abs(d))\n",
    " \n",
    "    if d > 0:\n",
    "        print(\"Roots are real and different \")\n",
    "        print((-b + sqrt_val)/(2 * a))\n",
    "        print((-b - sqrt_val)/(2 * a))\n",
    "    elif d == 0:\n",
    "        print(\"Roots are real and same\")\n",
    "        print(-b / (2*a))\n",
    "    else:  # d<0\n",
    "        print(\"Roots are complex\")\n",
    "        print(- b / (2*a), \" + i\", sqrt_val)\n",
    "        print(- b / (2*a), \" - i\", sqrt_val)\n",
    " \n",
    " \n",
    "# Driver Program\n",
    "a = 1\n",
    "b = 4\n",
    "c = 4\n",
    " \n",
    "# Function call\n",
    "findRoots(a, b, c)\n"
   ]
  },
  {
   "cell_type": "code",
   "execution_count": 16,
   "id": "b60207c3",
   "metadata": {},
   "outputs": [],
   "source": [
    "# 30. Write a program that calculates the BMI (Body Mass Index) and provides health recommendations based on the user's input.\n",
    "# Repeated question same"
   ]
  },
  {
   "cell_type": "markdown",
   "id": "f570a476",
   "metadata": {},
   "source": [
    "# Challenge Level:"
   ]
  },
  {
   "cell_type": "code",
   "execution_count": 17,
   "id": "af15ce34",
   "metadata": {},
   "outputs": [
    {
     "name": "stdout",
     "output_type": "stream",
     "text": [
      "Enter a password: vikas@4321#V\n",
      "Password is valid.\n"
     ]
    }
   ],
   "source": [
    "# 31. Create a program that validates a password based on complexity rules (length, characters, etc.).\n",
    "\n",
    "import re\n",
    "\n",
    "# Function to validate a password\n",
    "def validate_password(password):\n",
    "    # Define complexity rules\n",
    "    min_length = 8\n",
    "    requires_uppercase = True\n",
    "    requires_lowercase = True\n",
    "    requires_digit = True\n",
    "    requires_special_char = True\n",
    "\n",
    "    # Check length\n",
    "    if len(password) < min_length:\n",
    "        return \"Password is too short. It must have at least 8 characters.\"\n",
    "\n",
    "    # Check uppercase requirement\n",
    "    if requires_uppercase and not any(char.isupper() for char in password):\n",
    "        return \"Password must contain at least one uppercase letter.\"\n",
    "\n",
    "    # Check lowercase requirement\n",
    "    if requires_lowercase and not any(char.islower() for char in password):\n",
    "        return \"Password must contain at least one lowercase letter.\"\n",
    "\n",
    "    # Check digit requirement\n",
    "    if requires_digit and not any(char.isdigit() for char in password):\n",
    "        return \"Password must contain at least one digit.\"\n",
    "\n",
    "    # Check special character requirement\n",
    "    if requires_special_char and not re.search(r'[!@#$%^&*(),.?\":{}|<>]', password):\n",
    "        return \"Password must contain at least one special character.\"\n",
    "\n",
    "    return \"Password is valid.\"\n",
    "\n",
    "# Input a password from the user\n",
    "password = input(\"Enter a password: \")\n",
    "\n",
    "# Validate the password and display the result\n",
    "validation_result = validate_password(password)\n",
    "print(validation_result)\n"
   ]
  },
  {
   "cell_type": "code",
   "execution_count": 18,
   "id": "15d0dec0",
   "metadata": {},
   "outputs": [
    {
     "name": "stdout",
     "output_type": "stream",
     "text": [
      "Enter the number of rows: 4\n",
      "Enter the number of columns: 6\n",
      "Matrix 1:\n",
      "Enter the elements of the matrix:\n",
      "Enter element at position (1,1): 4,4\n",
      "Invalid input. Please enter valid dimensions and numeric elements for the matrices.\n"
     ]
    }
   ],
   "source": [
    "# 32. Develop a program that performs matrix addition and subtraction based on user input.\n",
    "\n",
    "# Function to input a matrix from the user\n",
    "def input_matrix(rows, cols):\n",
    "    matrix = []\n",
    "    print(\"Enter the elements of the matrix:\")\n",
    "    for i in range(rows):\n",
    "        row = []\n",
    "        for j in range(cols):\n",
    "            element = float(input(f\"Enter element at position ({i + 1},{j + 1}): \"))\n",
    "            row.append(element)\n",
    "        matrix.append(row)\n",
    "    return matrix\n",
    "\n",
    "# Function to display a matrix\n",
    "def display_matrix(matrix):\n",
    "    for row in matrix:\n",
    "        print(row)\n",
    "\n",
    "# Function to add two matrices\n",
    "def add_matrices(matrix1, matrix2):\n",
    "    result = []\n",
    "    for i in range(len(matrix1)):\n",
    "        row = []\n",
    "        for j in range(len(matrix1[0])):\n",
    "            row.append(matrix1[i][j] + matrix2[i][j])\n",
    "        result.append(row)\n",
    "    return result\n",
    "\n",
    "# Function to subtract two matrices\n",
    "def subtract_matrices(matrix1, matrix2):\n",
    "    result = []\n",
    "    for i in range(len(matrix1)):\n",
    "        row = []\n",
    "        for j in range(len(matrix1[0])):\n",
    "            row.append(matrix1[i][j] - matrix2[i][j])\n",
    "        result.append(row)\n",
    "    return result\n",
    "\n",
    "# Input dimensions of the matrices\n",
    "try:\n",
    "    rows = int(input(\"Enter the number of rows: \"))\n",
    "    cols = int(input(\"Enter the number of columns: \"))\n",
    "\n",
    "    # Input the first matrix\n",
    "    print(\"Matrix 1:\")\n",
    "    matrix1 = input_matrix(rows, cols)\n",
    "\n",
    "    # Input the second matrix\n",
    "    print(\"\\nMatrix 2:\")\n",
    "    matrix2 = input_matrix(rows, cols)\n",
    "\n",
    "    # Perform addition and subtraction\n",
    "    sum_matrix = add_matrices(matrix1, matrix2)\n",
    "    diff_matrix = subtract_matrices(matrix1, matrix2)\n",
    "\n",
    "    # Display the results\n",
    "    print(\"\\nMatrix 1:\")\n",
    "    display_matrix(matrix1)\n",
    "    print(\"\\nMatrix 2:\")\n",
    "    display_matrix(matrix2)\n",
    "    print(\"\\nMatrix Sum:\")\n",
    "    display_matrix(sum_matrix)\n",
    "    print(\"\\nMatrix Difference:\")\n",
    "    display_matrix(diff_matrix)\n",
    "\n",
    "except ValueError:\n",
    "    print(\"Invalid input. Please enter valid dimensions and numeric elements for the matrices.\")\n",
    "\n"
   ]
  },
  {
   "cell_type": "code",
   "execution_count": 20,
   "id": "5569b106",
   "metadata": {},
   "outputs": [
    {
     "name": "stdout",
     "output_type": "stream",
     "text": [
      "Enter the first number: 4\n",
      "Enter the second number: 5\n",
      "The greatest common divisor (GCD) of 4 and 5 is 1\n"
     ]
    }
   ],
   "source": [
    "# 33. Write a program that calculates the greatest common divisor (GCD) of two numbers using the Euclidean algorithm.\n",
    "\n",
    "# Function to calculate the GCD using the Euclidean algorithm\n",
    "def euclidean_gcd(a, b):\n",
    "    while b:\n",
    "        a, b = b, a % b\n",
    "    return a\n",
    "\n",
    "# Input two numbers from the user\n",
    "try:\n",
    "    num1 = int(input(\"Enter the first number: \"))\n",
    "    num2 = int(input(\"Enter the second number: \"))\n",
    "\n",
    "    # Calculate the GCD\n",
    "    gcd = euclidean_gcd(num1, num2)\n",
    "\n",
    "    # Display the GCD\n",
    "    print(f\"The greatest common divisor (GCD) of {num1} and {num2} is {gcd}\")\n",
    "\n",
    "except ValueError:\n",
    "    print(\"Invalid input. Please enter valid numbers.\")\n"
   ]
  },
  {
   "cell_type": "code",
   "execution_count": 22,
   "id": "ee70578e",
   "metadata": {},
   "outputs": [
    {
     "name": "stdout",
     "output_type": "stream",
     "text": [
      "Enter the number of rows for Matrix 1: 2\n",
      "Enter the number of columns for Matrix 1: 2\n",
      "Enter the number of rows for Matrix 2: 2\n",
      "Enter the number of columns for Matrix 2: 2\n",
      "\n",
      "Matrix 1:\n",
      "Enter the elements of the matrix:\n",
      "Enter element at position (1,1): 1\n",
      "Enter element at position (1,2): 2\n",
      "Enter element at position (2,1): 3\n",
      "Enter element at position (2,2): 4\n",
      "\n",
      "Matrix 2:\n",
      "Enter the elements of the matrix:\n",
      "Enter element at position (1,1): 4\n",
      "Enter element at position (1,2): 5\n",
      "Enter element at position (2,1): 6\n",
      "Enter element at position (2,2): 7\n",
      "\n",
      "Matrix 1:\n",
      "[1.0, 2.0]\n",
      "[3.0, 4.0]\n",
      "\n",
      "Matrix 2:\n",
      "[4.0, 5.0]\n",
      "[6.0, 7.0]\n",
      "\n",
      "Matrix Product:\n",
      "[16.0, 19.0]\n",
      "[36.0, 43.0]\n"
     ]
    }
   ],
   "source": [
    "# 34. Build a program that performs matrix multiplication using nested loops and conditional statements.\n",
    "\n",
    "# Function to input a matrix from the user\n",
    "def input_matrix(rows, cols):\n",
    "    matrix = []\n",
    "    print(\"Enter the elements of the matrix:\")\n",
    "    for i in range(rows):\n",
    "        row = []\n",
    "        for j in range(cols):\n",
    "            element = float(input(f\"Enter element at position ({i + 1},{j + 1}): \"))\n",
    "            row.append(element)\n",
    "        matrix.append(row)\n",
    "    return matrix\n",
    "\n",
    "# Function to display a matrix\n",
    "def display_matrix(matrix):\n",
    "    for row in matrix:\n",
    "        print(row)\n",
    "\n",
    "# Function to perform matrix multiplication\n",
    "def multiply_matrices(matrix1, matrix2):\n",
    "    rows1 = len(matrix1)\n",
    "    cols1 = len(matrix1[0])\n",
    "    rows2 = len(matrix2)\n",
    "    cols2 = len(matrix2[0])\n",
    "\n",
    "    # Check if matrix multiplication is possible\n",
    "    if cols1 != rows2:\n",
    "        return None\n",
    "\n",
    "    result = []\n",
    "    for i in range(rows1):\n",
    "        row = []\n",
    "        for j in range(cols2):\n",
    "            product = 0\n",
    "            for k in range(cols1):\n",
    "                product += matrix1[i][k] * matrix2[k][j]\n",
    "            row.append(product)\n",
    "        result.append(row)\n",
    "    return result\n",
    "\n",
    "# Input dimensions of the matrices\n",
    "try:\n",
    "    rows1 = int(input(\"Enter the number of rows for Matrix 1: \"))\n",
    "    cols1 = int(input(\"Enter the number of columns for Matrix 1: \"))\n",
    "    rows2 = int(input(\"Enter the number of rows for Matrix 2: \"))\n",
    "    cols2 = int(input(\"Enter the number of columns for Matrix 2: \"))\n",
    "\n",
    "    # Input the first matrix\n",
    "    print(\"\\nMatrix 1:\")\n",
    "    matrix1 = input_matrix(rows1, cols1)\n",
    "\n",
    "    # Input the second matrix\n",
    "    print(\"\\nMatrix 2:\")\n",
    "    matrix2 = input_matrix(rows2, cols2)\n",
    "\n",
    "    # Perform matrix multiplication\n",
    "    product_matrix = multiply_matrices(matrix1, matrix2)\n",
    "\n",
    "    # Display the result\n",
    "    if product_matrix is not None:\n",
    "        print(\"\\nMatrix 1:\")\n",
    "        display_matrix(matrix1)\n",
    "        print(\"\\nMatrix 2:\")\n",
    "        display_matrix(matrix2)\n",
    "        print(\"\\nMatrix Product:\")\n",
    "        display_matrix(product_matrix)\n",
    "    else:\n",
    "        print(\"Matrix multiplication is not possible. Number of columns in Matrix 1 must be equal to the number of rows in Matrix 2.\")\n",
    "\n",
    "except ValueError:\n",
    "    print(\"Invalid input. Please enter valid dimensions and numeric elements for the matrices.\")\n"
   ]
  },
  {
   "cell_type": "code",
   "execution_count": 24,
   "id": "71388a9a",
   "metadata": {},
   "outputs": [
    {
     "name": "stdout",
     "output_type": "stream",
     "text": [
      "  |   |  \n",
      "---------\n",
      "  |   |  \n",
      "---------\n",
      "  |   |  \n",
      "Enter your move (1-9): 3\n",
      "  |   | X\n",
      "---------\n",
      "  |   |  \n",
      "---------\n",
      "  |   |  \n",
      "Computer's turn...\n",
      "  |   | X\n",
      "---------\n",
      "O |   |  \n",
      "---------\n",
      "  |   |  \n",
      "Enter your move (1-9): 5\n",
      "  |   | X\n",
      "---------\n",
      "O | X |  \n",
      "---------\n",
      "  |   |  \n",
      "Computer's turn...\n",
      "  |   | X\n",
      "---------\n",
      "O | X | O\n",
      "---------\n",
      "  |   |  \n",
      "Enter your move (1-9): 2\n",
      "  | X | X\n",
      "---------\n",
      "O | X | O\n",
      "---------\n",
      "  |   |  \n",
      "Computer's turn...\n",
      "  | X | X\n",
      "---------\n",
      "O | X | O\n",
      "---------\n",
      "  | O |  \n",
      "Enter your move (1-9): 9\n",
      "  | X | X\n",
      "---------\n",
      "O | X | O\n",
      "---------\n",
      "  | O | X\n",
      "Computer's turn...\n",
      "  | X | X\n",
      "---------\n",
      "O | X | O\n",
      "---------\n",
      "O | O | X\n",
      "Enter your move (1-9): 1\n",
      "X | X | X\n",
      "---------\n",
      "O | X | O\n",
      "---------\n",
      "O | O | X\n",
      "Player X wins!\n"
     ]
    }
   ],
   "source": [
    "# 35. Create a program that simulates a basic text-based tic-tac-toe game against the computer.\n",
    "\n",
    "import random\n",
    "\n",
    "# Function to initialize the Tic-Tac-Toe board\n",
    "def initialize_board():\n",
    "    return [' '] * 9\n",
    "\n",
    "# Function to print the Tic-Tac-Toe board\n",
    "def print_board(board):\n",
    "    for i in range(0, 9, 3):\n",
    "        print(f\"{board[i]} | {board[i+1]} | {board[i+2]}\")\n",
    "        if i < 6:\n",
    "            print(\"---------\")\n",
    "\n",
    "# Function to check if a player has won\n",
    "def check_win(board, player):\n",
    "    # Check rows, columns, and diagonals\n",
    "    win_conditions = [\n",
    "        [0, 1, 2], [3, 4, 5], [6, 7, 8],  # Rows\n",
    "        [0, 3, 6], [1, 4, 7], [2, 5, 8],  # Columns\n",
    "        [0, 4, 8], [2, 4, 6]              # Diagonals\n",
    "    ]\n",
    "    for condition in win_conditions:\n",
    "        if all(board[i] == player for i in condition):\n",
    "            return True\n",
    "    return False\n",
    "\n",
    "# Function to check if the board is full\n",
    "def is_board_full(board):\n",
    "    return ' ' not in board\n",
    "\n",
    "# Function for the computer's move (simple random choice)\n",
    "def computer_move(board):\n",
    "    empty_cells = [i for i, cell in enumerate(board) if cell == ' ']\n",
    "    return random.choice(empty_cells)\n",
    "\n",
    "# Main game loop\n",
    "def main():\n",
    "    board = initialize_board()\n",
    "    player = 'X'\n",
    "    computer = 'O'\n",
    "\n",
    "    while True:\n",
    "        print_board(board)\n",
    "\n",
    "        if player == 'X':\n",
    "            try:\n",
    "                move = int(input(\"Enter your move (1-9): \")) - 1\n",
    "                if board[move] == ' ':\n",
    "                    board[move] = player\n",
    "                else:\n",
    "                    print(\"Invalid move. Cell already occupied.\")\n",
    "                    continue\n",
    "            except (ValueError, IndexError):\n",
    "                print(\"Invalid input. Enter a number between 1 and 9.\")\n",
    "                continue\n",
    "        else:\n",
    "            print(\"Computer's turn...\")\n",
    "            move = computer_move(board)\n",
    "            board[move] = player\n",
    "\n",
    "        if check_win(board, player):\n",
    "            print_board(board)\n",
    "            print(f\"Player {player} wins!\")\n",
    "            break\n",
    "        elif is_board_full(board):\n",
    "            print_board(board)\n",
    "            print(\"It's a tie!\")\n",
    "            break\n",
    "\n",
    "        player = 'X' if player == 'O' else 'O'\n",
    "\n",
    "if __name__ == \"__main__\":\n",
    "    main()\n",
    "\n"
   ]
  },
  {
   "cell_type": "code",
   "execution_count": 25,
   "id": "ce8ead39",
   "metadata": {},
   "outputs": [
    {
     "name": "stdout",
     "output_type": "stream",
     "text": [
      "Enter the number of Fibonacci terms to generate: 5\n",
      "Fibonacci sequence of 5 terms:\n",
      "[0]\n"
     ]
    }
   ],
   "source": [
    "# 36. Write a program that generates Fibonacci numbers up to a specified term using iterative methods.\n",
    "\n",
    "def generate_fibonacci(n):\n",
    "    fibonacci_sequence = []\n",
    "    \n",
    "    # initialize the first two fibonacci numbers\n",
    "    a, b = 0, 1\n",
    "    \n",
    "    # Generate Fibonacci numbers iteratively\n",
    "    for i in range(n):\n",
    "        fibonacci_sequence.append(a)\n",
    "        a, b = b, a + b\n",
    "        return fibonacci_sequence\n",
    "\n",
    "try:\n",
    "    # input the number of terms in the Fibonacci sequence\n",
    "    n = int(input(\"Enter the number of Fibonacci terms to generate: \"))\n",
    "    \n",
    "    if n <= 0:\n",
    "        print(\"Please enter a positive integer.\")\n",
    "    else:\n",
    "        # Generate and display Fibonacci numbers\n",
    "        fibonacci_sequence = generate_fibonacci(n)\n",
    "        print(f\"Fibonacci sequence of {n} terms:\")\n",
    "        print(fibonacci_sequence)\n",
    "        \n",
    "except ValueError:\n",
    "    print(\"Invalid input. Please enter a positive integer for the number of terms.\")\n",
    "    "
   ]
  },
  {
   "cell_type": "code",
   "execution_count": 26,
   "id": "f136dfe2",
   "metadata": {},
   "outputs": [
    {
     "name": "stdout",
     "output_type": "stream",
     "text": [
      "Enter the term (n) of the Fibonacci sequence to calculate: 10\n",
      "The 10th term of the Fibonacci sequence is 55\n"
     ]
    }
   ],
   "source": [
    "# 37. Develop a program that calculates the nth term of the Fibonacci sequence using memoization.\n",
    "\n",
    "# Function to calculate the nth Fibonacci term using memoization\n",
    "def fibonacci(n, memo={}):\n",
    "    if n in memo:\n",
    "        return memo[n]\n",
    "    if n <= 1:\n",
    "        result = n\n",
    "    else:\n",
    "        result = fibonacci(n - 1, memo) + fibonacci(n - 2, memo)\n",
    "    memo[n] = result\n",
    "    return result\n",
    "\n",
    "try:\n",
    "    # Input the term of the Fibonacci sequence to calculate\n",
    "    n = int(input(\"Enter the term (n) of the Fibonacci sequence to calculate: \"))\n",
    "    \n",
    "    if n < 0:\n",
    "        print(\"Please enter a non-negative integer.\")\n",
    "    else:\n",
    "        # Calculate and display the nth Fibonacci term\n",
    "        result = fibonacci(n)\n",
    "        print(f\"The {n}th term of the Fibonacci sequence is {result}\")\n",
    "\n",
    "except ValueError:\n",
    "    print(\"Invalid input. Please enter a non-negative integer for the term.\")\n",
    "\n"
   ]
  },
  {
   "cell_type": "code",
   "execution_count": 27,
   "id": "90f7a804",
   "metadata": {},
   "outputs": [
    {
     "name": "stdout",
     "output_type": "stream",
     "text": [
      "Enter the year: 2023\n",
      "Enter the month (1-12): 9\n",
      "Calendar for September 2023:\n",
      "\n",
      "   September 2023\n",
      "Mo Tu We Th Fr Sa Su\n",
      "             1  2  3\n",
      " 4  5  6  7  8  9 10\n",
      "11 12 13 14 15 16 17\n",
      "18 19 20 21 22 23 24\n",
      "25 26 27 28 29 30\n",
      "\n"
     ]
    }
   ],
   "source": [
    "# 38. Create a program that generates a calendar for a given month and year using conditional statements.\n",
    "\n",
    "import calendar\n",
    "\n",
    "# Function to generate a calendar for a given month and year\n",
    "def generate_calendar(year, month):\n",
    "    cal = calendar.month(year, month)\n",
    "    return cal\n",
    "\n",
    "try:\n",
    "    # Input the year and month\n",
    "    year = int(input(\"Enter the year: \"))\n",
    "    month = int(input(\"Enter the month (1-12): \"))\n",
    "\n",
    "    if 1 <= month <= 12:\n",
    "        # Generate and display the calendar\n",
    "        cal = generate_calendar(year, month)\n",
    "        print(f\"Calendar for {calendar.month_name[month]} {year}:\\n\")\n",
    "        print(cal)\n",
    "    else:\n",
    "        print(\"Invalid month. Please enter a month between 1 and 12.\")\n",
    "\n",
    "except ValueError:\n",
    "    print(\"Invalid input. Please enter valid year and month as integers.\")\n"
   ]
  },
  {
   "cell_type": "code",
   "execution_count": 29,
   "id": "103eadd2",
   "metadata": {},
   "outputs": [
    {
     "name": "stdout",
     "output_type": "stream",
     "text": [
      "\n",
      "Player's Hand: ['8', '5'] Value: 13\n",
      "Computer's Hand: ['10', '?']\n",
      "Do you want to 'hit' or 'stand'? hit\n",
      "Player's Hand: ['8', '5', 'K'] Value: 23\n",
      "Player busts! Computer wins.\n",
      "\n",
      "Player's Hand: ['8', '5', 'K'] Value: 23\n",
      "Computer's Hand: ['10', '2', '6'] Value: 18\n",
      "Player busts! Computer wins.\n",
      "\n",
      "Do you want to play again? (yes/no): yes\n",
      "\n",
      "Player's Hand: ['8', '5', 'K'] Value: 23\n",
      "Computer's Hand: ['10', '?']\n",
      "Do you want to 'hit' or 'stand'? stand\n",
      "\n",
      "Player's Hand: ['8', '5', 'K'] Value: 23\n",
      "Computer's Hand: ['10', '2', '6'] Value: 18\n",
      "Player busts! Computer wins.\n",
      "\n",
      "Do you want to play again? (yes/no): yes\n",
      "\n",
      "Player's Hand: ['8', '5', 'K'] Value: 23\n",
      "Computer's Hand: ['10', '?']\n",
      "Do you want to 'hit' or 'stand'? stand\n",
      "\n",
      "Player's Hand: ['8', '5', 'K'] Value: 23\n",
      "Computer's Hand: ['10', '2', '6'] Value: 18\n",
      "Player busts! Computer wins.\n",
      "\n",
      "Do you want to play again? (yes/no): no\n"
     ]
    }
   ],
   "source": [
    "# 39. Build a program that simulates a basic text-based blackjack game against the computer.\n",
    "import random\n",
    "\n",
    "# Function to calculate the total value of a hand\n",
    "def calculate_hand_value(hand):\n",
    "    value = 0\n",
    "    num_aces = 0\n",
    "\n",
    "    for card in hand:\n",
    "        if card in ['K', 'Q', 'J']:\n",
    "            value += 10\n",
    "        elif card == 'A':\n",
    "            value += 11\n",
    "            num_aces += 1\n",
    "        else:\n",
    "            value += int(card)\n",
    "\n",
    "    # Handle aces\n",
    "    while value > 21 and num_aces > 0:\n",
    "        value -= 10\n",
    "        num_aces -= 1\n",
    "\n",
    "    return value\n",
    "\n",
    "# Function to deal a card from the deck\n",
    "def deal_card(deck):\n",
    "    card = random.choice(deck)\n",
    "    deck.remove(card)\n",
    "    return card\n",
    "\n",
    "# Initialize the deck\n",
    "suits = ['Hearts', 'Diamonds', 'Clubs', 'Spades']\n",
    "ranks = ['2', '3', '4', '5', '6', '7', '8', '9', '10', 'J', 'Q', 'K', 'A']\n",
    "deck = [rank for rank in ranks for suit in suits]\n",
    "\n",
    "# Initialize player and computer hands\n",
    "player_hand = [deal_card(deck), deal_card(deck)]\n",
    "computer_hand = [deal_card(deck), deal_card(deck)]\n",
    "\n",
    "# Main game loop\n",
    "while True:\n",
    "    print(\"\\nPlayer's Hand:\", player_hand, \"Value:\", calculate_hand_value(player_hand))\n",
    "    print(\"Computer's Hand:\", [computer_hand[0], '?'])\n",
    "\n",
    "    # Check for player blackjack\n",
    "    if calculate_hand_value(player_hand) == 21 and len(player_hand) == 2:\n",
    "        print(\"Player has a Blackjack! Player wins!\")\n",
    "        break\n",
    "\n",
    "    # Player's turn\n",
    "    while True:\n",
    "        action = input(\"Do you want to 'hit' or 'stand'? \").lower()\n",
    "        if action == 'hit':\n",
    "            player_hand.append(deal_card(deck))\n",
    "            print(\"Player's Hand:\", player_hand, \"Value:\", calculate_hand_value(player_hand))\n",
    "            if calculate_hand_value(player_hand) > 21:\n",
    "                print(\"Player busts! Computer wins.\")\n",
    "                break\n",
    "        elif action == 'stand':\n",
    "            break\n",
    "\n",
    "    # Computer's turn\n",
    "    while calculate_hand_value(computer_hand) < 17:\n",
    "        computer_hand.append(deal_card(deck))\n",
    "\n",
    "    print(\"\\nPlayer's Hand:\", player_hand, \"Value:\", calculate_hand_value(player_hand))\n",
    "    print(\"Computer's Hand:\", computer_hand, \"Value:\", calculate_hand_value(computer_hand))\n",
    "\n",
    "    # Determine the winner\n",
    "    if calculate_hand_value(player_hand) > 21:\n",
    "        print(\"Player busts! Computer wins.\")\n",
    "    elif calculate_hand_value(computer_hand) > 21:\n",
    "        print(\"Computer busts! Player wins.\")\n",
    "    elif calculate_hand_value(player_hand) > calculate_hand_value(computer_hand):\n",
    "        print(\"Player wins!\")\n",
    "    elif calculate_hand_value(player_hand) < calculate_hand_value(computer_hand):\n",
    "        print(\"Computer wins!\")\n",
    "    else:\n",
    "        print(\"It's a tie!\")\n",
    "\n",
    "    play_again = input(\"\\nDo you want to play again? (yes/no): \").lower()\n",
    "    if play_again != 'yes':\n",
    "        break\n"
   ]
  },
  {
   "cell_type": "code",
   "execution_count": 30,
   "id": "6a6c5872",
   "metadata": {},
   "outputs": [
    {
     "name": "stdout",
     "output_type": "stream",
     "text": [
      "Enter a positive integer: 65\n",
      "Prime factors of 65: [5, 13]\n"
     ]
    }
   ],
   "source": [
    "# 40. Write a program that generates the prime factors of a given number using trial division.\n",
    "\n",
    "# Function to generate prime factors of a number using trial division\n",
    "def prime_factors(n):\n",
    "    factors = []\n",
    "    divisor = 2  # Start with the smallest prime divisor\n",
    "\n",
    "    while n > 1:\n",
    "        while n % divisor == 0:\n",
    "            factors.append(divisor)\n",
    "            n //= divisor  # Update n by dividing out the current divisor\n",
    "        divisor += 1  # Move to the next potential divisor\n",
    "\n",
    "    return factors\n",
    "\n",
    "try:\n",
    "    # Input the number for which to find prime factors\n",
    "    num = int(input(\"Enter a positive integer: \"))\n",
    "\n",
    "    if num <= 0:\n",
    "        print(\"Please enter a positive integer.\")\n",
    "    else:\n",
    "        # Calculate and display the prime factors\n",
    "        factors = prime_factors(num)\n",
    "        if len(factors) == 0:\n",
    "            print(f\"{num} is a prime number.\")\n",
    "        else:\n",
    "            print(f\"Prime factors of {num}: {factors}\")\n",
    "\n",
    "except ValueError:\n",
    "    print(\"Invalid input. Please enter a positive integer.\")\n"
   ]
  }
 ],
 "metadata": {
  "kernelspec": {
   "display_name": "Python 3 (ipykernel)",
   "language": "python",
   "name": "python3"
  },
  "language_info": {
   "codemirror_mode": {
    "name": "ipython",
    "version": 3
   },
   "file_extension": ".py",
   "mimetype": "text/x-python",
   "name": "python",
   "nbconvert_exporter": "python",
   "pygments_lexer": "ipython3",
   "version": "3.10.9"
  }
 },
 "nbformat": 4,
 "nbformat_minor": 5
}
